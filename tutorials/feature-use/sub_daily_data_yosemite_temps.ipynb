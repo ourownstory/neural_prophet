{
 "cells": [
  {
   "cell_type": "markdown",
   "metadata": {},
   "source": [
    "[![Open In Colab](https://colab.research.google.com/assets/colab-badge.svg)](https://colab.research.google.com/github/ourownstory/neural_prophet/blob/main/tutorials/feature-use/sub_daily_data_yosemite_temps.ipynb)"
   ]
  },
  {
   "cell_type": "markdown",
   "metadata": {},
   "source": [
    "# Sub-daily data\n",
    "NeuralProphet can make forecasts for time series with sub-daily observations by passing in a dataframe with timestamps in the ds column. The format of the timestamps should be `YYYY-MM-DD HH:MM:SS` - see the example csv [here](https://github.com/ourownstory/neuralprophet-data/blob/main/datasets/yosemite_temps.csv). When sub-daily data are used, daily seasonality will automatically be fit.\n",
    "\n",
    "Here we fit NeuralProphet to data with 5-minute resolution (daily temperatures at Yosemite)."
   ]
  },
  {
   "cell_type": "code",
   "execution_count": 1,
   "metadata": {},
   "outputs": [],
   "source": [
    "if \"google.colab\" in str(get_ipython()):\n",
    "    !pip install git+https://github.com/ourownstory/neural_prophet.git # may take a while\n",
    "    #!pip install neuralprophet # much faster, but may not have the latest upgrades/bugfixes\n",
    "\n",
    "import pandas as pd\n",
    "from neuralprophet import NeuralProphet, set_log_level\n",
    "\n",
    "set_log_level(\"ERROR\")"
   ]
  },
  {
   "cell_type": "code",
   "execution_count": 2,
   "metadata": {},
   "outputs": [],
   "source": [
    "data_location = \"https://raw.githubusercontent.com/ourownstory/neuralprophet-data/main/datasets/\"\n",
    "\n",
    "df = pd.read_csv(data_location + \"yosemite_temps.csv\")"
   ]
  },
  {
   "cell_type": "markdown",
   "metadata": {},
   "source": [
    "Now we will attempt to forecast the next 7 days. The `5min` data resulution means that we have `60/5*24=288` daily values. Thus, we want to forecast `7*288` periods ahead.\n",
    "\n",
    "Using some common sense, we set:\n",
    "* First, we disable weekly seasonality, as nature does not follow the human week's calendar.\n",
    "* Second, we disable changepoints, as the dataset only contains two months of data"
   ]
  },
  {
   "cell_type": "code",
   "execution_count": 3,
   "metadata": {},
   "outputs": [
    {
     "data": {
      "application/vnd.jupyter.widget-view+json": {
       "model_id": "3237460a3cea4f46a0c8a33b625c3081",
       "version_major": 2,
       "version_minor": 0
      },
      "text/plain": [
       "Finding best initial lr:   0%|          | 0/256 [00:00<?, ?it/s]"
      ]
     },
     "metadata": {},
     "output_type": "display_data"
    },
    {
     "data": {
      "application/vnd.jupyter.widget-view+json": {
       "model_id": "bb4cb7f01a69415c93279e5927d5d325",
       "version_major": 2,
       "version_minor": 0
      },
      "text/plain": [
       "Training: 0it [00:00, ?it/s]"
      ]
     },
     "metadata": {},
     "output_type": "display_data"
    },
    {
     "data": {
      "application/vnd.jupyter.widget-view+json": {
       "model_id": "77b64018214f4c92a3064c371e24d8c9",
       "version_major": 2,
       "version_minor": 0
      },
      "text/plain": [
       "Predicting: 293it [00:00, ?it/s]"
      ]
     },
     "metadata": {},
     "output_type": "display_data"
    },
    {
     "data": {
      "application/vnd.jupyter.widget-view+json": {
       "model_id": "13c1e1367dba4e5baaf3d85e540e2e85",
       "version_major": 2,
       "version_minor": 0
      },
      "text/plain": [
       "FigureWidgetResampler({\n",
       "    'data': [{'fill': 'none',\n",
       "              'line': {'color': 'rgba(45, 146, 255, 1.0)', 'width': 2},\n",
       "              'mode': 'lines',\n",
       "              'name': '<b style=\"color:sandybrown\">[R]</b> yhat1 <i style=\"color:#fc9944\">~2h</i>',\n",
       "              'type': 'scatter',\n",
       "              'uid': 'd0a8f8b7-4e0e-4675-b381-ca5c0609f46c',\n",
       "              'x': array([datetime.datetime(2017, 5, 1, 0, 0),\n",
       "                          datetime.datetime(2017, 5, 1, 1, 40),\n",
       "                          datetime.datetime(2017, 5, 1, 3, 0), ...,\n",
       "                          datetime.datetime(2017, 7, 11, 21, 25),\n",
       "                          datetime.datetime(2017, 7, 11, 22, 45),\n",
       "                          datetime.datetime(2017, 7, 12, 0, 0)], dtype=object),\n",
       "              'y': array([23.37153053, 13.03400993,  6.2434063 , ..., 46.97090912, 44.54956818,\n",
       "                          39.53605652])},\n",
       "             {'marker': {'color': 'black', 'size': 4},\n",
       "              'mode': 'markers',\n",
       "              'name': '<b style=\"color:sandybrown\">[R]</b> Actual <i style=\"color:#fc9944\">~2h</i>',\n",
       "              'type': 'scatter',\n",
       "              'uid': 'f6d37e3f-cc68-482c-a057-749e57a8ad28',\n",
       "              'x': array([datetime.datetime(2017, 5, 1, 0, 0),\n",
       "                          datetime.datetime(2017, 5, 1, 1, 25),\n",
       "                          datetime.datetime(2017, 5, 1, 2, 35), ...,\n",
       "                          datetime.datetime(2017, 7, 4, 22, 20),\n",
       "                          datetime.datetime(2017, 7, 4, 22, 50),\n",
       "                          datetime.datetime(2017, 7, 5, 0, 0)], dtype=object),\n",
       "              'y': array([27.8, 16.6, 11.2, ..., 48.1, 46.8, 41.4])}],\n",
       "    'layout': {'autosize': True,\n",
       "               'font': {'size': 10},\n",
       "               'height': 420,\n",
       "               'hovermode': 'x unified',\n",
       "               'margin': {'b': 0, 'l': 0, 'pad': 0, 'r': 10, 't': 10},\n",
       "               'showlegend': True,\n",
       "               'template': '...',\n",
       "               'title': {'font': {'size': 12}},\n",
       "               'width': 700,\n",
       "               'xaxis': {'linewidth': 1.5,\n",
       "                         'mirror': True,\n",
       "                         'rangeselector': {'buttons': [{'count': 7, 'label': '1w', 'step': 'day', 'stepmode': 'backward'},\n",
       "                                                       {'count': 1,\n",
       "                                                        'label': '1m',\n",
       "                                                        'step': 'month',\n",
       "                                                        'stepmode': 'backward'},\n",
       "                                                       {'count': 6,\n",
       "                                                        'label': '6m',\n",
       "                                                        'step': 'month',\n",
       "                                                        'stepmode': 'backward'},\n",
       "                                                       {'count': 1, 'label': '1y', 'step': 'year', 'stepmode': 'backward'},\n",
       "                                                       {'step': 'all'}]},\n",
       "                         'rangeslider': {'visible': True},\n",
       "                         'showline': True,\n",
       "                         'title': {'text': 'ds'},\n",
       "                         'type': 'date'},\n",
       "               'yaxis': {'linewidth': 1.5, 'mirror': True, 'showline': True, 'title': {'text': 'y'}}}\n",
       "})"
      ]
     },
     "execution_count": 3,
     "metadata": {},
     "output_type": "execute_result"
    }
   ],
   "source": [
    "m = NeuralProphet(\n",
    "    n_changepoints=0,\n",
    "    weekly_seasonality=False,\n",
    ")\n",
    "metrics = m.fit(df, freq=\"5min\")\n",
    "future = m.make_future_dataframe(df, periods=7 * 288, n_historic_predictions=True)\n",
    "forecast = m.predict(future)\n",
    "m.plot(forecast)"
   ]
  },
  {
   "cell_type": "code",
   "execution_count": 4,
   "metadata": {},
   "outputs": [
    {
     "data": {
      "application/vnd.jupyter.widget-view+json": {
       "model_id": "c5fc61cd756f484d87f0358c897b8de7",
       "version_major": 2,
       "version_minor": 0
      },
      "text/plain": [
       "FigureWidgetResampler({\n",
       "    'data': [{'fill': 'none',\n",
       "              'line': {'color': '#2d92ff', 'width': 2},\n",
       "              'mode': 'lines',\n",
       "              'name': 'Trend',\n",
       "              'type': 'scatter',\n",
       "              'uid': 'ab72b8bc-b883-4513-b7bc-2ba28bb67bcf',\n",
       "              'x': array([datetime.datetime(2017, 5, 1, 0, 0),\n",
       "                          datetime.datetime(2017, 7, 5, 0, 0)], dtype=object),\n",
       "              'xaxis': 'x',\n",
       "              'y': array([11.127863, 25.720839], dtype=float32),\n",
       "              'yaxis': 'y'},\n",
       "             {'fill': 'none',\n",
       "              'line': {'color': '#2d92ff', 'width': 2},\n",
       "              'mode': 'lines',\n",
       "              'name': 'daily',\n",
       "              'type': 'scatter',\n",
       "              'uid': 'fc88c10e-927e-46b6-91ab-433f4e0b8881',\n",
       "              'x': array([  0,   1,   2, ..., 285, 286, 287]),\n",
       "              'xaxis': 'x2',\n",
       "              'y': array([12.24366799, 11.80405664, 11.35179492, ..., 13.48406278, 13.08384844,\n",
       "                          12.67033658]),\n",
       "              'yaxis': 'y2'}],\n",
       "    'layout': {'autosize': True,\n",
       "               'font': {'size': 10},\n",
       "               'height': 420,\n",
       "               'hovermode': 'x unified',\n",
       "               'margin': {'b': 0, 'l': 0, 'pad': 0, 'r': 10, 't': 10},\n",
       "               'showlegend': False,\n",
       "               'template': '...',\n",
       "               'title': {'font': {'size': 12}},\n",
       "               'width': 700,\n",
       "               'xaxis': {'anchor': 'y',\n",
       "                         'domain': [0.0, 1.0],\n",
       "                         'linewidth': 1.5,\n",
       "                         'mirror': True,\n",
       "                         'range': [2017-04-28 00:00:00, 2017-07-08 00:00:00],\n",
       "                         'showline': True,\n",
       "                         'title': {'text': 'ds'},\n",
       "                         'type': 'date'},\n",
       "               'xaxis2': {'anchor': 'y2',\n",
       "                          'domain': [0.0, 1.0],\n",
       "                          'linewidth': 1.5,\n",
       "                          'mirror': True,\n",
       "                          'range': [-14, 301],\n",
       "                          'showline': True,\n",
       "                          'tickmode': 'array',\n",
       "                          'ticktext': [0, 1, 2, 3, 4, 5, 6, 7, 8, 9, 10, 11, 12,\n",
       "                                       13, 14, 15, 16, 17, 18, 19, 20, 21, 22, 23,\n",
       "                                       24],\n",
       "                          'tickvals': [0, 12, 24, 36, 48, 60, 72, 84, 96, 108,\n",
       "                                       120, 132, 144, 156, 168, 180, 192, 204, 216,\n",
       "                                       228, 240, 252, 264, 276, 288],\n",
       "                          'title': {'text': 'Hour of day'}},\n",
       "               'yaxis': {'anchor': 'x',\n",
       "                         'domain': [0.575, 1.0],\n",
       "                         'linewidth': 1.5,\n",
       "                         'mirror': True,\n",
       "                         'rangemode': 'normal',\n",
       "                         'showline': True,\n",
       "                         'title': {'text': 'Trend'}},\n",
       "               'yaxis2': {'anchor': 'x2',\n",
       "                          'domain': [0.0, 0.425],\n",
       "                          'linewidth': 1.5,\n",
       "                          'mirror': True,\n",
       "                          'rangemode': 'normal',\n",
       "                          'showline': True,\n",
       "                          'title': {'text': 'Seasonality: daily'}}}\n",
       "})"
      ]
     },
     "execution_count": 4,
     "metadata": {},
     "output_type": "execute_result"
    }
   ],
   "source": [
    "m.plot_parameters()"
   ]
  },
  {
   "cell_type": "markdown",
   "metadata": {},
   "source": [
    "The daily seasonality seems to make sense, when we account for the time being recorded in GMT, while Yosemite local time is GMT-8.\n",
    "\n",
    "## Improving trend and seasonality\n",
    "As we have `288` daily values recorded, we can increase the flexibility of `daily_seasonality`, without danger of overfitting.\n",
    "\n",
    "Further, we may want to re-visit our decision to disable changepoints, as the data clearly shows changes in trend, as is typical with the weather. We make the following changes:\n",
    "* increase the `changepoints_range`, as the we are doing a short-term prediction\n",
    "* inrease the `n_changepoints` to allow to fit to the sudden changes in trend\n",
    "* carefully regularize the trend changepoints by setting `trend_reg` in order to avoid overfitting"
   ]
  },
  {
   "cell_type": "code",
   "execution_count": 5,
   "metadata": {},
   "outputs": [
    {
     "data": {
      "application/vnd.jupyter.widget-view+json": {
       "model_id": "8e73b96816ce42e28d63b1faab937b2c",
       "version_major": 2,
       "version_minor": 0
      },
      "text/plain": [
       "Finding best initial lr:   0%|          | 0/256 [00:00<?, ?it/s]"
      ]
     },
     "metadata": {},
     "output_type": "display_data"
    },
    {
     "data": {
      "application/vnd.jupyter.widget-view+json": {
       "model_id": "53ab4f72a9e048f09da5bf346008dc3e",
       "version_major": 2,
       "version_minor": 0
      },
      "text/plain": [
       "Training: 0it [00:00, ?it/s]"
      ]
     },
     "metadata": {},
     "output_type": "display_data"
    },
    {
     "data": {
      "application/vnd.jupyter.widget-view+json": {
       "model_id": "04d29f0f22d5481a91275436b8b64527",
       "version_major": 2,
       "version_minor": 0
      },
      "text/plain": [
       "Predicting: 293it [00:00, ?it/s]"
      ]
     },
     "metadata": {},
     "output_type": "display_data"
    },
    {
     "data": {
      "application/vnd.jupyter.widget-view+json": {
       "model_id": "efe050140c7d4391bbe26c3cbf62408e",
       "version_major": 2,
       "version_minor": 0
      },
      "text/plain": [
       "FigureWidgetResampler({\n",
       "    'data': [{'fill': 'none',\n",
       "              'line': {'color': 'rgba(45, 146, 255, 1.0)', 'width': 2},\n",
       "              'mode': 'lines',\n",
       "              'name': '<b style=\"color:sandybrown\">[R]</b> yhat1 <i style=\"color:#fc9944\">~2h</i>',\n",
       "              'type': 'scatter',\n",
       "              'uid': 'ad196a2b-8843-4a86-a4ca-0ae41208528e',\n",
       "              'x': array([datetime.datetime(2017, 5, 1, 0, 0),\n",
       "                          datetime.datetime(2017, 5, 1, 1, 40),\n",
       "                          datetime.datetime(2017, 5, 1, 2, 50), ...,\n",
       "                          datetime.datetime(2017, 7, 11, 21, 30),\n",
       "                          datetime.datetime(2017, 7, 11, 22, 25),\n",
       "                          datetime.datetime(2017, 7, 12, 0, 0)], dtype=object),\n",
       "              'y': array([29.79090309, 19.22408104, 13.19176865, ..., 47.16679382, 45.42528534,\n",
       "                          39.59545898])},\n",
       "             {'marker': {'color': 'black', 'size': 4},\n",
       "              'mode': 'markers',\n",
       "              'name': '<b style=\"color:sandybrown\">[R]</b> Actual <i style=\"color:#fc9944\">~2h</i>',\n",
       "              'type': 'scatter',\n",
       "              'uid': 'cdce14d8-cb4a-43e0-95d5-5912f1aec6b6',\n",
       "              'x': array([datetime.datetime(2017, 5, 1, 0, 0),\n",
       "                          datetime.datetime(2017, 5, 1, 1, 25),\n",
       "                          datetime.datetime(2017, 5, 1, 2, 35), ...,\n",
       "                          datetime.datetime(2017, 7, 4, 22, 20),\n",
       "                          datetime.datetime(2017, 7, 4, 22, 50),\n",
       "                          datetime.datetime(2017, 7, 5, 0, 0)], dtype=object),\n",
       "              'y': array([27.8, 16.6, 11.2, ..., 48.1, 46.8, 41.4])}],\n",
       "    'layout': {'autosize': True,\n",
       "               'font': {'size': 10},\n",
       "               'height': 420,\n",
       "               'hovermode': 'x unified',\n",
       "               'margin': {'b': 0, 'l': 0, 'pad': 0, 'r': 10, 't': 10},\n",
       "               'showlegend': True,\n",
       "               'template': '...',\n",
       "               'title': {'font': {'size': 12}},\n",
       "               'width': 700,\n",
       "               'xaxis': {'linewidth': 1.5,\n",
       "                         'mirror': True,\n",
       "                         'rangeselector': {'buttons': [{'count': 7, 'label': '1w', 'step': 'day', 'stepmode': 'backward'},\n",
       "                                                       {'count': 1,\n",
       "                                                        'label': '1m',\n",
       "                                                        'step': 'month',\n",
       "                                                        'stepmode': 'backward'},\n",
       "                                                       {'count': 6,\n",
       "                                                        'label': '6m',\n",
       "                                                        'step': 'month',\n",
       "                                                        'stepmode': 'backward'},\n",
       "                                                       {'count': 1, 'label': '1y', 'step': 'year', 'stepmode': 'backward'},\n",
       "                                                       {'step': 'all'}]},\n",
       "                         'rangeslider': {'visible': True},\n",
       "                         'showline': True,\n",
       "                         'title': {'text': 'ds'},\n",
       "                         'type': 'date'},\n",
       "               'yaxis': {'linewidth': 1.5, 'mirror': True, 'showline': True, 'title': {'text': 'y'}}}\n",
       "})"
      ]
     },
     "execution_count": 5,
     "metadata": {},
     "output_type": "execute_result"
    }
   ],
   "source": [
    "m = NeuralProphet(\n",
    "    changepoints_range=0.95,\n",
    "    n_changepoints=50,\n",
    "    trend_reg=1,\n",
    "    weekly_seasonality=False,\n",
    "    daily_seasonality=10,\n",
    ")\n",
    "metrics = m.fit(df, freq=\"5min\")\n",
    "future = m.make_future_dataframe(df, periods=60 // 5 * 24 * 7, n_historic_predictions=True)\n",
    "forecast = m.predict(future)\n",
    "m.plot(forecast)"
   ]
  },
  {
   "cell_type": "code",
   "execution_count": 6,
   "metadata": {},
   "outputs": [
    {
     "data": {
      "application/vnd.jupyter.widget-view+json": {
       "model_id": "84bdd42089d24d5995ee86dd50b09202",
       "version_major": 2,
       "version_minor": 0
      },
      "text/plain": [
       "FigureWidgetResampler({\n",
       "    'data': [{'fill': 'none',\n",
       "              'line': {'color': '#2d92ff', 'width': 2},\n",
       "              'mode': 'lines',\n",
       "              'name': '<b style=\"color:sandybrown\">[R]</b> Trend <i style=\"color:#fc9944\">~2h</i>',\n",
       "              'type': 'scatter',\n",
       "              'uid': '38b4b6f3-82e5-43b3-8e25-d6e866a943fc',\n",
       "              'x': array([datetime.datetime(2017, 5, 1, 0, 0),\n",
       "                          datetime.datetime(2017, 5, 1, 1, 30),\n",
       "                          datetime.datetime(2017, 5, 1, 2, 10), ...,\n",
       "                          datetime.datetime(2017, 7, 4, 22, 20),\n",
       "                          datetime.datetime(2017, 7, 4, 23, 35),\n",
       "                          datetime.datetime(2017, 7, 5, 0, 0)], dtype=object),\n",
       "              'xaxis': 'x',\n",
       "              'y': array([17.53674241, 17.51111749, 17.49972864, ..., 26.07575112, 26.08507488,\n",
       "                          26.0881828 ]),\n",
       "              'yaxis': 'y'},\n",
       "             {'marker': {'color': '#2d92ff'},\n",
       "              'name': 'Trend Rate Change',\n",
       "              'type': 'bar',\n",
       "              'uid': 'd35c0223-1216-43e6-a894-d3c31e3f746c',\n",
       "              'x': array([Timestamp('2017-05-01 00:00:00'),\n",
       "                          Timestamp('2017-05-02 05:03:31.764706'),\n",
       "                          Timestamp('2017-05-03 10:07:03.529412'),\n",
       "                          Timestamp('2017-05-04 15:10:35.294118'),\n",
       "                          Timestamp('2017-05-05 20:14:07.058824'),\n",
       "                          Timestamp('2017-05-07 01:17:38.823529'),\n",
       "                          Timestamp('2017-05-08 06:21:10.588235'),\n",
       "                          Timestamp('2017-05-09 11:24:42.352941'),\n",
       "                          Timestamp('2017-05-10 16:28:14.117647'),\n",
       "                          Timestamp('2017-05-11 21:31:45.882353'),\n",
       "                          Timestamp('2017-05-13 02:35:17.647059'),\n",
       "                          Timestamp('2017-05-14 07:38:49.411765'),\n",
       "                          Timestamp('2017-05-15 12:42:21.176471'),\n",
       "                          Timestamp('2017-05-16 17:45:52.941176'),\n",
       "                          Timestamp('2017-05-17 22:49:24.705882'),\n",
       "                          Timestamp('2017-05-19 03:52:56.470588'),\n",
       "                          Timestamp('2017-05-20 08:56:28.235294'),\n",
       "                          Timestamp('2017-05-21 14:00:00'),\n",
       "                          Timestamp('2017-05-22 19:03:31.764706'),\n",
       "                          Timestamp('2017-05-24 00:07:03.529412'),\n",
       "                          Timestamp('2017-05-25 05:10:35.294118'),\n",
       "                          Timestamp('2017-05-26 10:14:07.058824'),\n",
       "                          Timestamp('2017-05-27 15:17:38.823529'),\n",
       "                          Timestamp('2017-05-28 20:21:10.588235'),\n",
       "                          Timestamp('2017-05-30 01:24:42.352941'),\n",
       "                          Timestamp('2017-05-31 06:28:14.117647'),\n",
       "                          Timestamp('2017-06-01 11:31:45.882353'),\n",
       "                          Timestamp('2017-06-02 16:35:17.647059'),\n",
       "                          Timestamp('2017-06-03 21:38:49.411765'),\n",
       "                          Timestamp('2017-06-05 02:42:21.176471'),\n",
       "                          Timestamp('2017-06-06 07:45:52.941176'),\n",
       "                          Timestamp('2017-06-07 12:49:24.705882'),\n",
       "                          Timestamp('2017-06-08 17:52:56.470588'),\n",
       "                          Timestamp('2017-06-09 22:56:28.235294'),\n",
       "                          Timestamp('2017-06-11 04:00:00'),\n",
       "                          Timestamp('2017-06-12 09:03:31.764706'),\n",
       "                          Timestamp('2017-06-13 14:07:03.529412'),\n",
       "                          Timestamp('2017-06-14 19:10:35.294118'),\n",
       "                          Timestamp('2017-06-16 00:14:07.058824'),\n",
       "                          Timestamp('2017-06-17 05:17:38.823529'),\n",
       "                          Timestamp('2017-06-18 10:21:10.588235'),\n",
       "                          Timestamp('2017-06-19 15:24:42.352941'),\n",
       "                          Timestamp('2017-06-20 20:28:14.117647'),\n",
       "                          Timestamp('2017-06-22 01:31:45.882353'),\n",
       "                          Timestamp('2017-06-23 06:35:17.647059'),\n",
       "                          Timestamp('2017-06-24 11:38:49.411765'),\n",
       "                          Timestamp('2017-06-25 16:42:21.176471'),\n",
       "                          Timestamp('2017-06-26 21:45:52.941176'),\n",
       "                          Timestamp('2017-06-28 02:49:24.705882'),\n",
       "                          Timestamp('2017-06-29 07:52:56.470588'),\n",
       "                          Timestamp('2017-06-30 12:56:28.235294'),\n",
       "                          Timestamp('2017-07-05 00:00:00')], dtype=object),\n",
       "              'xaxis': 'x2',\n",
       "              'y': array([-0.22445074,  0.19342925, -0.25143895, -0.18745156, -0.68770283,\n",
       "                          -0.12285316,  0.79002231,  0.51892728,  0.08724625, -0.71672565,\n",
       "                          -0.24131343,  0.26389903,  0.16913405,  1.01494598,  2.33386254,\n",
       "                           1.70096409,  0.20519598, -1.16302669, -2.14282465, -3.00897455,\n",
       "                          -1.94202793,  0.4139283 ,  3.39873672,  2.13609886, -0.75573069,\n",
       "                          -2.75528479,  1.6604681 ,  2.60258007, -1.48465478, -2.93021584,\n",
       "                          -1.55026007, -1.12280893, -2.27021527,  3.77551079,  2.03584242,\n",
       "                           4.33153868,  5.61014032, -2.36248755, -5.78768969, -3.62290907,\n",
       "                           1.67544556,  2.2965157 ,  1.47442329, -0.7651903 , -3.56556797,\n",
       "                          -3.89464426,  2.35539389,  0.65579927,  3.16549563,  2.98395228,\n",
       "                          -3.8162899 ,  0.        ]),\n",
       "              'yaxis': 'y2'},\n",
       "             {'fill': 'none',\n",
       "              'line': {'color': '#2d92ff', 'width': 2},\n",
       "              'mode': 'lines',\n",
       "              'name': 'daily',\n",
       "              'type': 'scatter',\n",
       "              'uid': 'f8b68535-f4a4-429b-b8cb-a7b98504329f',\n",
       "              'x': array([  0,   1,   2, ..., 285, 286, 287]),\n",
       "              'xaxis': 'x3',\n",
       "              'y': array([12.25416123, 11.86629964, 11.46155927, ..., 13.33102864, 12.98491002,\n",
       "                          12.62651278]),\n",
       "              'yaxis': 'y3'}],\n",
       "    'layout': {'autosize': True,\n",
       "               'font': {'size': 10},\n",
       "               'height': 630,\n",
       "               'hovermode': 'x unified',\n",
       "               'margin': {'b': 0, 'l': 0, 'pad': 0, 'r': 10, 't': 10},\n",
       "               'showlegend': False,\n",
       "               'template': '...',\n",
       "               'title': {'font': {'size': 12}},\n",
       "               'width': 700,\n",
       "               'xaxis': {'anchor': 'y',\n",
       "                         'domain': [0.0, 1.0],\n",
       "                         'linewidth': 1.5,\n",
       "                         'mirror': True,\n",
       "                         'range': [2017-04-27 18:00:00, 2017-07-08 06:00:00],\n",
       "                         'showline': True,\n",
       "                         'title': {'text': 'ds'},\n",
       "                         'type': 'date'},\n",
       "               'xaxis2': {'anchor': 'y2',\n",
       "                          'domain': [0.0, 1.0],\n",
       "                          'linewidth': 1.5,\n",
       "                          'mirror': True,\n",
       "                          'range': [2017-04-27 08:49:24.705882, 2017-07-08\n",
       "                                    15:10:35.294118],\n",
       "                          'showline': True,\n",
       "                          'title': {'text': 'Trend segment'},\n",
       "                          'type': 'date'},\n",
       "               'xaxis3': {'anchor': 'y3',\n",
       "                          'domain': [0.0, 1.0],\n",
       "                          'linewidth': 1.5,\n",
       "                          'mirror': True,\n",
       "                          'range': [-14, 301],\n",
       "                          'showline': True,\n",
       "                          'tickmode': 'array',\n",
       "                          'ticktext': [0, 1, 2, 3, 4, 5, 6, 7, 8, 9, 10, 11, 12,\n",
       "                                       13, 14, 15, 16, 17, 18, 19, 20, 21, 22, 23,\n",
       "                                       24],\n",
       "                          'tickvals': [0, 12, 24, 36, 48, 60, 72, 84, 96, 108,\n",
       "                                       120, 132, 144, 156, 168, 180, 192, 204, 216,\n",
       "                                       228, 240, 252, 264, 276, 288],\n",
       "                          'title': {'text': 'Hour of day'}},\n",
       "               'yaxis': {'anchor': 'x',\n",
       "                         'domain': [0.7333333333333333, 1.0],\n",
       "                         'linewidth': 1.5,\n",
       "                         'mirror': True,\n",
       "                         'rangemode': 'normal',\n",
       "                         'showline': True,\n",
       "                         'title': {'text': 'Trend'}},\n",
       "               'yaxis2': {'anchor': 'x2',\n",
       "                          'domain': [0.36666666666666664, 0.6333333333333333],\n",
       "                          'linewidth': 1.5,\n",
       "                          'mirror': True,\n",
       "                          'rangemode': 'normal',\n",
       "                          'showline': True,\n",
       "                          'title': {'text': 'Trend Rate Change'}},\n",
       "               'yaxis3': {'anchor': 'x3',\n",
       "                          'domain': [0.0, 0.26666666666666666],\n",
       "                          'linewidth': 1.5,\n",
       "                          'mirror': True,\n",
       "                          'rangemode': 'normal',\n",
       "                          'showline': True,\n",
       "                          'title': {'text': 'Seasonality: daily'}}}\n",
       "})"
      ]
     },
     "execution_count": 6,
     "metadata": {},
     "output_type": "execute_result"
    }
   ],
   "source": [
    "m.plot_parameters()"
   ]
  }
 ],
 "metadata": {
  "kernelspec": {
   "display_name": "venv",
   "language": "python",
   "name": "venv"
  },
  "language_info": {
   "codemirror_mode": {
    "name": "ipython",
    "version": 3
   },
   "file_extension": ".py",
   "mimetype": "text/x-python",
   "name": "python",
   "nbconvert_exporter": "python",
   "pygments_lexer": "ipython3",
   "version": "3.9.16"
  }
 },
 "nbformat": 4,
 "nbformat_minor": 4
}
