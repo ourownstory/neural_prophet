{
 "cells": [
  {
   "cell_type": "code",
   "execution_count": 1,
   "id": "dc722653-e984-4044-bff4-589311e45b4f",
   "metadata": {},
   "outputs": [],
   "source": [
    "from neuralprophet import NeuralProphet\n",
    "import numpy as np\n",
    "import pandas as pd\n",
    "import os"
   ]
  },
  {
   "cell_type": "code",
   "execution_count": 2,
   "id": "02217707-dda6-4cbd-98a1-2203779ec959",
   "metadata": {},
   "outputs": [],
   "source": [
    "# %%capture\n",
    "# # create temporary data folder and download data\n",
    "# !rm -r tmp-data\n",
    "# !mkdir tmp-data\n",
    "# !wget -P tmp-data https://raw.githubusercontent.com/ourownstory/neuralprophet-data/main/datasets/air_passengers.csv\n",
    "# os.listdir('tmp-data')"
   ]
  },
  {
   "cell_type": "code",
   "execution_count": 3,
   "id": "863bf403-5810-491e-922c-9237d81673d7",
   "metadata": {},
   "outputs": [
    {
     "data": {
      "text/html": [
       "<div>\n",
       "<style scoped>\n",
       "    .dataframe tbody tr th:only-of-type {\n",
       "        vertical-align: middle;\n",
       "    }\n",
       "\n",
       "    .dataframe tbody tr th {\n",
       "        vertical-align: top;\n",
       "    }\n",
       "\n",
       "    .dataframe thead th {\n",
       "        text-align: right;\n",
       "    }\n",
       "</style>\n",
       "<table border=\"1\" class=\"dataframe\">\n",
       "  <thead>\n",
       "    <tr style=\"text-align: right;\">\n",
       "      <th></th>\n",
       "      <th>ds</th>\n",
       "      <th>y</th>\n",
       "    </tr>\n",
       "  </thead>\n",
       "  <tbody>\n",
       "    <tr>\n",
       "      <th>141</th>\n",
       "      <td>1960-10-01</td>\n",
       "      <td>461</td>\n",
       "    </tr>\n",
       "    <tr>\n",
       "      <th>142</th>\n",
       "      <td>1960-11-01</td>\n",
       "      <td>390</td>\n",
       "    </tr>\n",
       "    <tr>\n",
       "      <th>143</th>\n",
       "      <td>1960-12-01</td>\n",
       "      <td>432</td>\n",
       "    </tr>\n",
       "  </tbody>\n",
       "</table>\n",
       "</div>"
      ],
      "text/plain": [
       "             ds    y\n",
       "141  1960-10-01  461\n",
       "142  1960-11-01  390\n",
       "143  1960-12-01  432"
      ]
     },
     "execution_count": 3,
     "metadata": {},
     "output_type": "execute_result"
    }
   ],
   "source": [
    "# air_passengers_df = pd.read_csv(os.path.join('tmp-data', 'air_passengers.csv'))\n",
    "# df = air_passengers_df\n",
    "\n",
    "df = pd.read_csv(\"../../tests/test-data/air_passengers.csv\")\n",
    "df.tail(3)"
   ]
  },
  {
   "cell_type": "code",
   "execution_count": 4,
   "id": "db4f3490-2652-4fd5-8b27-bd6d6b88bb67",
   "metadata": {},
   "outputs": [
    {
     "name": "stderr",
     "output_type": "stream",
     "text": [
      "INFO - (NP.utils.set_auto_seasonalities) - Disabling weekly seasonality. Run NeuralProphet with weekly_seasonality=True to override this.\n",
      "INFO - (NP.utils.set_auto_seasonalities) - Disabling daily seasonality. Run NeuralProphet with daily_seasonality=True to override this.\n",
      "INFO - (NP.config.set_auto_batch_epoch) - Auto-set batch_size to 16\n",
      "INFO - (NP.config.set_auto_batch_epoch) - Auto-set epochs to 292\n",
      "INFO - (NP.utils_torch.lr_range_test) - lr-range-test results: steep: 4.06E-02, min: 1.22E+00\n",
      "INFO - (NP.utils_torch.lr_range_test) - learning rate range test selected lr: 3.93E-01\n"
     ]
    }
   ],
   "source": [
    "%%capture\n",
    "m = NeuralProphet(n_lags=5, n_forecasts=3)\n",
    "metrics_train = m.fit(df=df, freq=\"MS\")"
   ]
  },
  {
   "cell_type": "markdown",
   "id": "5d621caf-b601-43ca-a64b-a1d7be7453c0",
   "metadata": {},
   "source": [
    "# Collect in-sample predictions"
   ]
  },
  {
   "cell_type": "markdown",
   "id": "3d2dc84d-c388-4b59-8fe3-89633e9671fe",
   "metadata": {},
   "source": [
    "## Predictions sorted based on forecast target\n",
    "Calling `predict`, we get a `df_forecast` where each `'yhat<i>'` refers to the `<i>` -step-ahead prediction for **this row's datetime being the target**.\n",
    "Here, `<i>`  refers to the age of the prediction.\n",
    "\n",
    "e.g. `yhat3` is the prediction for this datetime, predicted 3 steps ago, it is \"3 steps old\".\n",
    "\n",
    "Note that the last row `1961-3-01` only has a `yhat3`, which was forecasted at the last location with data `1960-12-01`.\n",
    "Because we lack inputs after that location, we do not have more recent predictions `yhat1` from `1961-2-01` nor  `yhat2` from `1961-1-01`.\n",
    "\n",
    "We also get the individual forecast components, which also refer to their respective contrigution to `yhat<i>`, forecasted `<i>` steps ago. \n",
    "\n",
    "Components without an added number are only time-dependent or based on future regressors, neither are lagged, and thus a single value."
   ]
  },
  {
   "cell_type": "code",
   "execution_count": 5,
   "id": "7a1b8a10-9708-45b9-9f68-1a4be0dd1ee9",
   "metadata": {},
   "outputs": [
    {
     "data": {
      "text/html": [
       "<div>\n",
       "<style scoped>\n",
       "    .dataframe tbody tr th:only-of-type {\n",
       "        vertical-align: middle;\n",
       "    }\n",
       "\n",
       "    .dataframe tbody tr th {\n",
       "        vertical-align: top;\n",
       "    }\n",
       "\n",
       "    .dataframe thead th {\n",
       "        text-align: right;\n",
       "    }\n",
       "</style>\n",
       "<table border=\"1\" class=\"dataframe\">\n",
       "  <thead>\n",
       "    <tr style=\"text-align: right;\">\n",
       "      <th></th>\n",
       "      <th>ds</th>\n",
       "      <th>y</th>\n",
       "      <th>yhat1</th>\n",
       "      <th>residual1</th>\n",
       "      <th>yhat2</th>\n",
       "      <th>residual2</th>\n",
       "      <th>yhat3</th>\n",
       "      <th>residual3</th>\n",
       "      <th>ar1</th>\n",
       "      <th>ar2</th>\n",
       "      <th>ar3</th>\n",
       "      <th>trend</th>\n",
       "      <th>season_yearly</th>\n",
       "    </tr>\n",
       "  </thead>\n",
       "  <tbody>\n",
       "    <tr>\n",
       "      <th>141</th>\n",
       "      <td>1960-10-01</td>\n",
       "      <td>461</td>\n",
       "      <td>464.921753</td>\n",
       "      <td>3.921753</td>\n",
       "      <td>469.071228</td>\n",
       "      <td>8.071228</td>\n",
       "      <td>477.686005</td>\n",
       "      <td>16.686005</td>\n",
       "      <td>-213.783478</td>\n",
       "      <td>-209.634033</td>\n",
       "      <td>-201.019241</td>\n",
       "      <td>697.732727</td>\n",
       "      <td>-19.027452</td>\n",
       "    </tr>\n",
       "    <tr>\n",
       "      <th>142</th>\n",
       "      <td>1960-11-01</td>\n",
       "      <td>390</td>\n",
       "      <td>409.787842</td>\n",
       "      <td>19.787842</td>\n",
       "      <td>409.886993</td>\n",
       "      <td>19.886993</td>\n",
       "      <td>421.01889</td>\n",
       "      <td>31.01889</td>\n",
       "      <td>-260.855469</td>\n",
       "      <td>-260.756317</td>\n",
       "      <td>-249.62442</td>\n",
       "      <td>704.643738</td>\n",
       "      <td>-34.00045</td>\n",
       "    </tr>\n",
       "    <tr>\n",
       "      <th>143</th>\n",
       "      <td>1960-12-01</td>\n",
       "      <td>432</td>\n",
       "      <td>421.754639</td>\n",
       "      <td>-10.245361</td>\n",
       "      <td>440.603424</td>\n",
       "      <td>8.603424</td>\n",
       "      <td>441.667572</td>\n",
       "      <td>9.667572</td>\n",
       "      <td>-301.536835</td>\n",
       "      <td>-282.688049</td>\n",
       "      <td>-281.623901</td>\n",
       "      <td>711.331787</td>\n",
       "      <td>11.959694</td>\n",
       "    </tr>\n",
       "  </tbody>\n",
       "</table>\n",
       "</div>"
      ],
      "text/plain": [
       "            ds    y       yhat1  residual1       yhat2  residual2       yhat3  \\\n",
       "141 1960-10-01  461  464.921753   3.921753  469.071228   8.071228  477.686005   \n",
       "142 1960-11-01  390  409.787842  19.787842  409.886993  19.886993   421.01889   \n",
       "143 1960-12-01  432  421.754639 -10.245361  440.603424   8.603424  441.667572   \n",
       "\n",
       "     residual3         ar1         ar2         ar3       trend season_yearly  \n",
       "141  16.686005 -213.783478 -209.634033 -201.019241  697.732727    -19.027452  \n",
       "142   31.01889 -260.855469 -260.756317  -249.62442  704.643738     -34.00045  \n",
       "143   9.667572 -301.536835 -282.688049 -281.623901  711.331787     11.959694  "
      ]
     },
     "execution_count": 5,
     "metadata": {},
     "output_type": "execute_result"
    }
   ],
   "source": [
    "df = pd.read_csv(\"../../tests/test-data/air_passengers.csv\")\n",
    "forecast = m.predict(df)\n",
    "forecast.tail(3)"
   ]
  },
  {
   "cell_type": "markdown",
   "id": "0a9c7316-95fd-420e-ac51-1fdf34bd5c51",
   "metadata": {},
   "source": [
    "## Predictions based on forecast start\n",
    "Calling `predict_raw`, we get a `df` where each `'step<i>'` refers to the `<i>`th step-ahead prediction **starting at this row's datetime**.\n",
    "Here, `<i>`  refers to how many steps ahead the prediction is targeted at.\n",
    "\n",
    "e.g. `step0` is the prediction for this datetime. `step1` is the prediction for the next datetime. \n",
    "\n",
    "All the predictions of a particular row were made at the same time: One step before the rows datestamp."
   ]
  },
  {
   "cell_type": "code",
   "execution_count": 6,
   "id": "39e3486e-c86d-4952-a8cd-339817b905fa",
   "metadata": {},
   "outputs": [
    {
     "name": "stderr",
     "output_type": "stream",
     "text": [
      "WARNING - (NP.forecaster.predict) - raw forecasts are incompatible with plotting utilities\n"
     ]
    },
    {
     "data": {
      "text/html": [
       "<div>\n",
       "<style scoped>\n",
       "    .dataframe tbody tr th:only-of-type {\n",
       "        vertical-align: middle;\n",
       "    }\n",
       "\n",
       "    .dataframe tbody tr th {\n",
       "        vertical-align: top;\n",
       "    }\n",
       "\n",
       "    .dataframe thead th {\n",
       "        text-align: right;\n",
       "    }\n",
       "</style>\n",
       "<table border=\"1\" class=\"dataframe\">\n",
       "  <thead>\n",
       "    <tr style=\"text-align: right;\">\n",
       "      <th></th>\n",
       "      <th>ds</th>\n",
       "      <th>step0</th>\n",
       "      <th>step1</th>\n",
       "      <th>step2</th>\n",
       "    </tr>\n",
       "  </thead>\n",
       "  <tbody>\n",
       "    <tr>\n",
       "      <th>136</th>\n",
       "      <td>1960-10-01</td>\n",
       "      <td>464.921753</td>\n",
       "      <td>409.886993</td>\n",
       "      <td>441.667572</td>\n",
       "    </tr>\n",
       "    <tr>\n",
       "      <th>137</th>\n",
       "      <td>1960-11-01</td>\n",
       "      <td>409.787842</td>\n",
       "      <td>440.603424</td>\n",
       "      <td>458.958740</td>\n",
       "    </tr>\n",
       "    <tr>\n",
       "      <th>138</th>\n",
       "      <td>1960-12-01</td>\n",
       "      <td>421.754639</td>\n",
       "      <td>442.955780</td>\n",
       "      <td>457.078308</td>\n",
       "    </tr>\n",
       "  </tbody>\n",
       "</table>\n",
       "</div>"
      ],
      "text/plain": [
       "            ds       step0       step1       step2\n",
       "136 1960-10-01  464.921753  409.886993  441.667572\n",
       "137 1960-11-01  409.787842  440.603424  458.958740\n",
       "138 1960-12-01  421.754639  442.955780  457.078308"
      ]
     },
     "execution_count": 6,
     "metadata": {},
     "output_type": "execute_result"
    }
   ],
   "source": [
    "df = pd.read_csv(\"../../tests/test-data/air_passengers.csv\")\n",
    "forecast = m.predict(df, decompose=False, raw=True)\n",
    "forecast.tail(3)"
   ]
  },
  {
   "cell_type": "markdown",
   "id": "953b82fd-3e5a-445c-b276-89607281d5f7",
   "metadata": {},
   "source": [
    "Note that the last row contains the last possible forecast, forecasting `1961-1-01`, `1961-2-01` and `1961-3-01` with data available at `1960-12-01`.\n",
    "\n",
    "\n",
    "Setting `decompose=True` will include the individual forecast components, which also refer to their respective contrigution to `step<i>` into the future. "
   ]
  },
  {
   "cell_type": "code",
   "execution_count": 7,
   "id": "f86f16de-9535-4573-8c09-8033b7f27ee3",
   "metadata": {},
   "outputs": [
    {
     "name": "stderr",
     "output_type": "stream",
     "text": [
      "WARNING - (NP.forecaster.predict) - raw forecasts are incompatible with plotting utilities\n"
     ]
    },
    {
     "data": {
      "text/html": [
       "<div>\n",
       "<style scoped>\n",
       "    .dataframe tbody tr th:only-of-type {\n",
       "        vertical-align: middle;\n",
       "    }\n",
       "\n",
       "    .dataframe tbody tr th {\n",
       "        vertical-align: top;\n",
       "    }\n",
       "\n",
       "    .dataframe thead th {\n",
       "        text-align: right;\n",
       "    }\n",
       "</style>\n",
       "<table border=\"1\" class=\"dataframe\">\n",
       "  <thead>\n",
       "    <tr style=\"text-align: right;\">\n",
       "      <th></th>\n",
       "      <th>ds</th>\n",
       "      <th>step0</th>\n",
       "      <th>step1</th>\n",
       "      <th>step2</th>\n",
       "      <th>trend0</th>\n",
       "      <th>trend1</th>\n",
       "      <th>trend2</th>\n",
       "      <th>season_yearly0</th>\n",
       "      <th>season_yearly1</th>\n",
       "      <th>season_yearly2</th>\n",
       "      <th>ar0</th>\n",
       "      <th>ar1</th>\n",
       "      <th>ar2</th>\n",
       "    </tr>\n",
       "  </thead>\n",
       "  <tbody>\n",
       "    <tr>\n",
       "      <th>136</th>\n",
       "      <td>1960-10-01</td>\n",
       "      <td>464.921753</td>\n",
       "      <td>409.886993</td>\n",
       "      <td>441.667572</td>\n",
       "      <td>697.732727</td>\n",
       "      <td>704.643738</td>\n",
       "      <td>711.331787</td>\n",
       "      <td>-19.027452</td>\n",
       "      <td>-34.000450</td>\n",
       "      <td>11.959694</td>\n",
       "      <td>-213.783478</td>\n",
       "      <td>-260.756317</td>\n",
       "      <td>-281.623901</td>\n",
       "    </tr>\n",
       "    <tr>\n",
       "      <th>137</th>\n",
       "      <td>1960-11-01</td>\n",
       "      <td>409.787842</td>\n",
       "      <td>440.603424</td>\n",
       "      <td>458.958740</td>\n",
       "      <td>704.643738</td>\n",
       "      <td>711.331787</td>\n",
       "      <td>718.242798</td>\n",
       "      <td>-34.000450</td>\n",
       "      <td>11.959694</td>\n",
       "      <td>4.136388</td>\n",
       "      <td>-260.855469</td>\n",
       "      <td>-282.688049</td>\n",
       "      <td>-263.420441</td>\n",
       "    </tr>\n",
       "    <tr>\n",
       "      <th>138</th>\n",
       "      <td>1960-12-01</td>\n",
       "      <td>421.754639</td>\n",
       "      <td>442.955780</td>\n",
       "      <td>457.078308</td>\n",
       "      <td>711.331787</td>\n",
       "      <td>718.242798</td>\n",
       "      <td>725.153809</td>\n",
       "      <td>11.959694</td>\n",
       "      <td>4.136388</td>\n",
       "      <td>-25.672066</td>\n",
       "      <td>-301.536835</td>\n",
       "      <td>-279.423401</td>\n",
       "      <td>-242.403442</td>\n",
       "    </tr>\n",
       "  </tbody>\n",
       "</table>\n",
       "</div>"
      ],
      "text/plain": [
       "            ds       step0       step1       step2      trend0      trend1  \\\n",
       "136 1960-10-01  464.921753  409.886993  441.667572  697.732727  704.643738   \n",
       "137 1960-11-01  409.787842  440.603424  458.958740  704.643738  711.331787   \n",
       "138 1960-12-01  421.754639  442.955780  457.078308  711.331787  718.242798   \n",
       "\n",
       "         trend2  season_yearly0  season_yearly1  season_yearly2         ar0  \\\n",
       "136  711.331787      -19.027452      -34.000450       11.959694 -213.783478   \n",
       "137  718.242798      -34.000450       11.959694        4.136388 -260.855469   \n",
       "138  725.153809       11.959694        4.136388      -25.672066 -301.536835   \n",
       "\n",
       "            ar1         ar2  \n",
       "136 -260.756317 -281.623901  \n",
       "137 -282.688049 -263.420441  \n",
       "138 -279.423401 -242.403442  "
      ]
     },
     "execution_count": 7,
     "metadata": {},
     "output_type": "execute_result"
    }
   ],
   "source": [
    "df = pd.read_csv(\"../../tests/test-data/air_passengers.csv\")\n",
    "forecast = m.predict(df, decompose=True, raw=True)\n",
    "forecast.tail(3)"
   ]
  },
  {
   "cell_type": "markdown",
   "id": "c1d12b4a-13a5-4eea-9a41-da1337bc7b99",
   "metadata": {},
   "source": [
    "# Collect out-of-sample predictions\n",
    "This is how you can extend predictions into the unknown future:"
   ]
  },
  {
   "cell_type": "code",
   "execution_count": 8,
   "id": "276f79da-e024-4c12-8a68-dc59885a3e92",
   "metadata": {},
   "outputs": [],
   "source": [
    "df = pd.read_csv(\"../../tests/test-data/air_passengers.csv\")\n",
    "future = m.make_future_dataframe(df, periods=3) # periods=m.n_forecasts, n_historic_predictions=False"
   ]
  },
  {
   "cell_type": "markdown",
   "id": "8ab68b04-a6b8-45d1-a9bd-8c4d33d16a40",
   "metadata": {},
   "source": [
    "Now, the forecast dataframe only contains predictions about the yet unobserved future."
   ]
  },
  {
   "cell_type": "markdown",
   "id": "6cbb621e-4abd-406b-8c16-23361d9aac15",
   "metadata": {},
   "source": [
    "## Predictions based on forecast target"
   ]
  },
  {
   "cell_type": "code",
   "execution_count": 9,
   "id": "97275377-ca98-417a-9234-897f48cdfd57",
   "metadata": {},
   "outputs": [
    {
     "data": {
      "text/html": [
       "<div>\n",
       "<style scoped>\n",
       "    .dataframe tbody tr th:only-of-type {\n",
       "        vertical-align: middle;\n",
       "    }\n",
       "\n",
       "    .dataframe tbody tr th {\n",
       "        vertical-align: top;\n",
       "    }\n",
       "\n",
       "    .dataframe thead th {\n",
       "        text-align: right;\n",
       "    }\n",
       "</style>\n",
       "<table border=\"1\" class=\"dataframe\">\n",
       "  <thead>\n",
       "    <tr style=\"text-align: right;\">\n",
       "      <th></th>\n",
       "      <th>ds</th>\n",
       "      <th>y</th>\n",
       "      <th>yhat1</th>\n",
       "      <th>residual1</th>\n",
       "      <th>yhat2</th>\n",
       "      <th>residual2</th>\n",
       "      <th>yhat3</th>\n",
       "      <th>residual3</th>\n",
       "      <th>ar1</th>\n",
       "      <th>ar2</th>\n",
       "      <th>ar3</th>\n",
       "      <th>trend</th>\n",
       "      <th>season_yearly</th>\n",
       "    </tr>\n",
       "  </thead>\n",
       "  <tbody>\n",
       "    <tr>\n",
       "      <th>5</th>\n",
       "      <td>1961-01-01</td>\n",
       "      <td>NaN</td>\n",
       "      <td>450.855988</td>\n",
       "      <td>NaN</td>\n",
       "      <td>None</td>\n",
       "      <td>NaN</td>\n",
       "      <td>None</td>\n",
       "      <td>NaN</td>\n",
       "      <td>-271.523163</td>\n",
       "      <td>None</td>\n",
       "      <td>None</td>\n",
       "      <td>718.242798</td>\n",
       "      <td>4.136388</td>\n",
       "    </tr>\n",
       "    <tr>\n",
       "      <th>6</th>\n",
       "      <td>1961-02-01</td>\n",
       "      <td>NaN</td>\n",
       "      <td>None</td>\n",
       "      <td>NaN</td>\n",
       "      <td>465.454742</td>\n",
       "      <td>NaN</td>\n",
       "      <td>None</td>\n",
       "      <td>NaN</td>\n",
       "      <td>None</td>\n",
       "      <td>-234.027008</td>\n",
       "      <td>None</td>\n",
       "      <td>725.153809</td>\n",
       "      <td>-25.672066</td>\n",
       "    </tr>\n",
       "    <tr>\n",
       "      <th>7</th>\n",
       "      <td>1961-03-01</td>\n",
       "      <td>NaN</td>\n",
       "      <td>None</td>\n",
       "      <td>NaN</td>\n",
       "      <td>None</td>\n",
       "      <td>NaN</td>\n",
       "      <td>524.397339</td>\n",
       "      <td>NaN</td>\n",
       "      <td>None</td>\n",
       "      <td>None</td>\n",
       "      <td>-189.4702</td>\n",
       "      <td>731.396057</td>\n",
       "      <td>-17.528477</td>\n",
       "    </tr>\n",
       "  </tbody>\n",
       "</table>\n",
       "</div>"
      ],
      "text/plain": [
       "          ds   y       yhat1 residual1       yhat2 residual2       yhat3  \\\n",
       "5 1961-01-01 NaN  450.855988       NaN        None       NaN        None   \n",
       "6 1961-02-01 NaN        None       NaN  465.454742       NaN        None   \n",
       "7 1961-03-01 NaN        None       NaN        None       NaN  524.397339   \n",
       "\n",
       "  residual3         ar1         ar2       ar3       trend season_yearly  \n",
       "5       NaN -271.523163        None      None  718.242798      4.136388  \n",
       "6       NaN        None -234.027008      None  725.153809    -25.672066  \n",
       "7       NaN        None        None -189.4702  731.396057    -17.528477  "
      ]
     },
     "execution_count": 9,
     "metadata": {},
     "output_type": "execute_result"
    }
   ],
   "source": [
    "forecast = m.predict(future)\n",
    "forecast.tail(3)"
   ]
  },
  {
   "cell_type": "markdown",
   "id": "ccd0af24-2aa1-45dc-884f-f27fd71818a2",
   "metadata": {},
   "source": [
    "## Predictions based on forecast start\n",
    "We can also get the forecasts based on the forecast start"
   ]
  },
  {
   "cell_type": "code",
   "execution_count": 10,
   "id": "d7fa8af1-c921-4e3c-96e8-d004a1adc751",
   "metadata": {},
   "outputs": [
    {
     "name": "stderr",
     "output_type": "stream",
     "text": [
      "WARNING - (NP.forecaster.predict) - raw forecasts are incompatible with plotting utilities\n"
     ]
    },
    {
     "data": {
      "text/html": [
       "<div>\n",
       "<style scoped>\n",
       "    .dataframe tbody tr th:only-of-type {\n",
       "        vertical-align: middle;\n",
       "    }\n",
       "\n",
       "    .dataframe tbody tr th {\n",
       "        vertical-align: top;\n",
       "    }\n",
       "\n",
       "    .dataframe thead th {\n",
       "        text-align: right;\n",
       "    }\n",
       "</style>\n",
       "<table border=\"1\" class=\"dataframe\">\n",
       "  <thead>\n",
       "    <tr style=\"text-align: right;\">\n",
       "      <th></th>\n",
       "      <th>ds</th>\n",
       "      <th>step0</th>\n",
       "      <th>step1</th>\n",
       "      <th>step2</th>\n",
       "    </tr>\n",
       "  </thead>\n",
       "  <tbody>\n",
       "    <tr>\n",
       "      <th>0</th>\n",
       "      <td>1961-01-01</td>\n",
       "      <td>450.855988</td>\n",
       "      <td>465.454742</td>\n",
       "      <td>524.397339</td>\n",
       "    </tr>\n",
       "  </tbody>\n",
       "</table>\n",
       "</div>"
      ],
      "text/plain": [
       "          ds       step0       step1       step2\n",
       "0 1961-01-01  450.855988  465.454742  524.397339"
      ]
     },
     "execution_count": 10,
     "metadata": {},
     "output_type": "execute_result"
    }
   ],
   "source": [
    "forecast = m.predict(future, raw=True, decompose=False)\n",
    "forecast"
   ]
  },
  {
   "cell_type": "markdown",
   "id": "83584895-99c0-4c90-baca-73e946258f3f",
   "metadata": {},
   "source": [
    "### Advanced: Get predictions based on forecast start as arrays\n",
    "This function was not meant to be used directly, but if you have a specific need, it may be useful to get the values directly as arrays.\n",
    "The returned predictions are also based on forecast origin."
   ]
  },
  {
   "cell_type": "markdown",
   "id": "56a7ff91-562d-4bfd-a2ba-17de298b4606",
   "metadata": {},
   "source": [
    "... and as an array"
   ]
  },
  {
   "cell_type": "code",
   "execution_count": 11,
   "id": "777932c7-09a0-4f86-9cc2-0485f78f96f8",
   "metadata": {},
   "outputs": [],
   "source": [
    "dates, predicted, components = m._predict_raw(future, include_components=True)"
   ]
  },
  {
   "cell_type": "code",
   "execution_count": 12,
   "id": "ae18bd3a-72c2-4361-a2cc-689c47936134",
   "metadata": {},
   "outputs": [
    {
     "data": {
      "text/plain": [
       "5   1961-01-01\n",
       "Name: ds, dtype: datetime64[ns]"
      ]
     },
     "execution_count": 12,
     "metadata": {},
     "output_type": "execute_result"
    }
   ],
   "source": [
    "dates[-3:]"
   ]
  },
  {
   "cell_type": "code",
   "execution_count": 13,
   "id": "5f438921-168a-4d09-86bd-2e8dc3e98f22",
   "metadata": {},
   "outputs": [
    {
     "data": {
      "text/plain": [
       "array([[450.856  , 465.45474, 524.39734]], dtype=float32)"
      ]
     },
     "execution_count": 13,
     "metadata": {},
     "output_type": "execute_result"
    }
   ],
   "source": [
    "predicted[-3:]"
   ]
  },
  {
   "cell_type": "code",
   "execution_count": 14,
   "id": "f4686019-8954-495e-a387-cfdabd1e52e8",
   "metadata": {},
   "outputs": [
    {
     "data": {
      "text/plain": [
       "[('trend', array([[718.2428 , 725.1538 , 731.39606]], dtype=float32)),\n",
       " ('season_yearly',\n",
       "  array([[  4.1363883, -25.672066 , -17.528477 ]], dtype=float32)),\n",
       " ('ar', array([[-271.52316, -234.02701, -189.4702 ]], dtype=float32))]"
      ]
     },
     "execution_count": 14,
     "metadata": {},
     "output_type": "execute_result"
    }
   ],
   "source": [
    "[(key, values[-3:]) for key, values in components.items()]"
   ]
  },
  {
   "cell_type": "code",
   "execution_count": 15,
   "id": "fc16bfe9-f8b0-4ace-93bf-a2b15c78897a",
   "metadata": {},
   "outputs": [
    {
     "name": "stdout",
     "output_type": "stream",
     "text": [
      "rm: cannot remove 'tmp-data': No such file or directory\n"
     ]
    }
   ],
   "source": [
    "# remove temporary data folder.\n",
    "!rm -r tmp-data"
   ]
  },
  {
   "cell_type": "code",
   "execution_count": null,
   "id": "b87accb7-b5b2-43d9-a072-d85c891b0478",
   "metadata": {},
   "outputs": [],
   "source": []
  },
  {
   "cell_type": "code",
   "execution_count": null,
   "id": "bb1763f3-8bf2-4d29-a19d-25b46dee9413",
   "metadata": {},
   "outputs": [],
   "source": []
  }
 ],
 "metadata": {
  "kernelspec": {
   "display_name": "np-dev",
   "language": "python",
   "name": "np-dev"
  },
  "language_info": {
   "codemirror_mode": {
    "name": "ipython",
    "version": 3
   },
   "file_extension": ".py",
   "mimetype": "text/x-python",
   "name": "python",
   "nbconvert_exporter": "python",
   "pygments_lexer": "ipython3",
   "version": "3.9.5"
  }
 },
 "nbformat": 4,
 "nbformat_minor": 5
}
