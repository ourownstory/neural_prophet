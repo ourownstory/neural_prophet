{
 "cells": [
  {
   "cell_type": "code",
   "execution_count": 1,
   "id": "dc722653-e984-4044-bff4-589311e45b4f",
   "metadata": {},
   "outputs": [],
   "source": [
    "from neuralprophet import NeuralProphet\n",
    "import numpy as np\n",
    "import pandas as pd\n",
    "import os"
   ]
  },
  {
   "cell_type": "code",
   "execution_count": 2,
   "id": "02217707-dda6-4cbd-98a1-2203779ec959",
   "metadata": {},
   "outputs": [],
   "source": [
    "%%capture\n",
    "# create temporary data folder and download data\n",
    "!rm -r tmp-data\n",
    "!mkdir tmp-data\n",
    "!wget -P tmp-data https://raw.githubusercontent.com/ourownstory/neuralprophet-data/main/datasets/air_passengers.csv\n",
    "os.listdir('tmp-data')"
   ]
  },
  {
   "cell_type": "code",
   "execution_count": 3,
   "id": "863bf403-5810-491e-922c-9237d81673d7",
   "metadata": {},
   "outputs": [],
   "source": [
    "air_passengers_df = pd.read_csv(os.path.join('tmp-data', 'air_passengers.csv'))\n",
    "df = air_passengers_df"
   ]
  },
  {
   "cell_type": "code",
   "execution_count": 4,
   "id": "db4f3490-2652-4fd5-8b27-bd6d6b88bb67",
   "metadata": {},
   "outputs": [
    {
     "name": "stderr",
     "output_type": "stream",
     "text": [
      "INFO - (NP.utils.set_auto_seasonalities) - Disabling weekly seasonality. Run NeuralProphet with weekly_seasonality=True to override this.\n",
      "INFO - (NP.utils.set_auto_seasonalities) - Disabling daily seasonality. Run NeuralProphet with daily_seasonality=True to override this.\n",
      "INFO - (NP.config.set_auto_batch_epoch) - Auto-set batch_size to 16\n",
      "INFO - (NP.config.set_auto_batch_epoch) - Auto-set epochs to 292\n",
      "INFO - (NP.utils_torch.lr_range_test) - lr-range-test results: steep: 4.06E-02, min: 3.01E+00\n",
      "INFO - (NP.utils_torch.lr_range_test) - learning rate range test selected lr: 7.16E-01\n"
     ]
    }
   ],
   "source": [
    "%%capture\n",
    "m = NeuralProphet(n_lags=5, n_forecasts=3)\n",
    "metrics_train = m.fit(df=df, freq=\"MS\")"
   ]
  },
  {
   "cell_type": "markdown",
   "id": "5d621caf-b601-43ca-a64b-a1d7be7453c0",
   "metadata": {},
   "source": [
    "# Collect in-sample predictions"
   ]
  },
  {
   "cell_type": "code",
   "execution_count": 5,
   "id": "8ffc7c44-87b2-4282-bdea-f0bc2969360d",
   "metadata": {},
   "outputs": [],
   "source": [
    "future = m.make_future_dataframe(df, periods=0, n_historic_predictions=True)"
   ]
  },
  {
   "cell_type": "markdown",
   "id": "3d2dc84d-c388-4b59-8fe3-89633e9671fe",
   "metadata": {},
   "source": [
    "## Predictions sorted based on forecast target\n",
    "Calling `predict`, we get a `df_forecast` where each `'yhat<i>'` refers to the `<i>` -step-ahead prediction for **this row's datetime being the target**.\n",
    "Here, `<i>`  refers to the age of the prediction.\n",
    "\n",
    "e.g. `yhat3` is the prediction for this datetime, predicted 3 steps ago, it is \"3 steps old\".\n",
    "\n",
    "Note that the last row `1961-3-01` only has a `yhat3`, which was forecasted at the last location with data `1960-12-01`.\n",
    "Because we lack inputs after that location, we do not have more recent predictions `yhat1` from `1961-2-01` nor  `yhat2` from `1961-1-01`.\n",
    "\n",
    "We also get the individual forecast components, which also refer to their respective contrigution to `yhat<i>`, forecasted `<i>` steps ago. \n",
    "\n",
    "Components without an added number are only time-dependent or based on future regressors, neither are lagged, and thus a single value."
   ]
  },
  {
   "cell_type": "code",
   "execution_count": 6,
   "id": "7a1b8a10-9708-45b9-9f68-1a4be0dd1ee9",
   "metadata": {},
   "outputs": [
    {
     "data": {
      "text/html": [
       "<div>\n",
       "<style scoped>\n",
       "    .dataframe tbody tr th:only-of-type {\n",
       "        vertical-align: middle;\n",
       "    }\n",
       "\n",
       "    .dataframe tbody tr th {\n",
       "        vertical-align: top;\n",
       "    }\n",
       "\n",
       "    .dataframe thead th {\n",
       "        text-align: right;\n",
       "    }\n",
       "</style>\n",
       "<table border=\"1\" class=\"dataframe\">\n",
       "  <thead>\n",
       "    <tr style=\"text-align: right;\">\n",
       "      <th></th>\n",
       "      <th>ds</th>\n",
       "      <th>y</th>\n",
       "      <th>yhat1</th>\n",
       "      <th>residual1</th>\n",
       "      <th>yhat2</th>\n",
       "      <th>residual2</th>\n",
       "      <th>yhat3</th>\n",
       "      <th>residual3</th>\n",
       "      <th>ar1</th>\n",
       "      <th>ar2</th>\n",
       "      <th>ar3</th>\n",
       "      <th>trend</th>\n",
       "      <th>season_yearly</th>\n",
       "    </tr>\n",
       "  </thead>\n",
       "  <tbody>\n",
       "    <tr>\n",
       "      <th>142</th>\n",
       "      <td>1960-11-01</td>\n",
       "      <td>390</td>\n",
       "      <td>408.390564</td>\n",
       "      <td>18.390564</td>\n",
       "      <td>408.735382</td>\n",
       "      <td>18.735382</td>\n",
       "      <td>419.024658</td>\n",
       "      <td>29.024658</td>\n",
       "      <td>-260.954346</td>\n",
       "      <td>-260.609558</td>\n",
       "      <td>-250.320267</td>\n",
       "      <td>702.926758</td>\n",
       "      <td>-33.581821</td>\n",
       "    </tr>\n",
       "    <tr>\n",
       "      <th>143</th>\n",
       "      <td>1960-12-01</td>\n",
       "      <td>432</td>\n",
       "      <td>420.639557</td>\n",
       "      <td>-11.360443</td>\n",
       "      <td>439.180298</td>\n",
       "      <td>7.180298</td>\n",
       "      <td>439.773865</td>\n",
       "      <td>7.773865</td>\n",
       "      <td>-302.058746</td>\n",
       "      <td>-283.518036</td>\n",
       "      <td>-282.924438</td>\n",
       "      <td>709.604553</td>\n",
       "      <td>13.093771</td>\n",
       "    </tr>\n",
       "    <tr>\n",
       "      <th>144</th>\n",
       "      <td>1961-01-01</td>\n",
       "      <td>None</td>\n",
       "      <td>452.548798</td>\n",
       "      <td>NaN</td>\n",
       "      <td>444.073608</td>\n",
       "      <td>NaN</td>\n",
       "      <td>458.34201</td>\n",
       "      <td>NaN</td>\n",
       "      <td>-267.920441</td>\n",
       "      <td>-276.39563</td>\n",
       "      <td>-262.127197</td>\n",
       "      <td>716.504822</td>\n",
       "      <td>3.964399</td>\n",
       "    </tr>\n",
       "    <tr>\n",
       "      <th>145</th>\n",
       "      <td>1961-02-01</td>\n",
       "      <td>None</td>\n",
       "      <td>None</td>\n",
       "      <td>NaN</td>\n",
       "      <td>464.460388</td>\n",
       "      <td>NaN</td>\n",
       "      <td>456.117157</td>\n",
       "      <td>NaN</td>\n",
       "      <td>None</td>\n",
       "      <td>-233.840622</td>\n",
       "      <td>-242.183838</td>\n",
       "      <td>723.405273</td>\n",
       "      <td>-25.104242</td>\n",
       "    </tr>\n",
       "    <tr>\n",
       "      <th>146</th>\n",
       "      <td>1961-03-01</td>\n",
       "      <td>None</td>\n",
       "      <td>None</td>\n",
       "      <td>NaN</td>\n",
       "      <td>None</td>\n",
       "      <td>NaN</td>\n",
       "      <td>525.546753</td>\n",
       "      <td>NaN</td>\n",
       "      <td>None</td>\n",
       "      <td>None</td>\n",
       "      <td>-185.732697</td>\n",
       "      <td>729.637878</td>\n",
       "      <td>-18.358429</td>\n",
       "    </tr>\n",
       "  </tbody>\n",
       "</table>\n",
       "</div>"
      ],
      "text/plain": [
       "            ds     y       yhat1  residual1       yhat2  residual2  \\\n",
       "142 1960-11-01   390  408.390564  18.390564  408.735382  18.735382   \n",
       "143 1960-12-01   432  420.639557 -11.360443  439.180298   7.180298   \n",
       "144 1961-01-01  None  452.548798        NaN  444.073608        NaN   \n",
       "145 1961-02-01  None        None        NaN  464.460388        NaN   \n",
       "146 1961-03-01  None        None        NaN        None        NaN   \n",
       "\n",
       "          yhat3  residual3         ar1         ar2         ar3       trend  \\\n",
       "142  419.024658  29.024658 -260.954346 -260.609558 -250.320267  702.926758   \n",
       "143  439.773865   7.773865 -302.058746 -283.518036 -282.924438  709.604553   \n",
       "144   458.34201        NaN -267.920441  -276.39563 -262.127197  716.504822   \n",
       "145  456.117157        NaN        None -233.840622 -242.183838  723.405273   \n",
       "146  525.546753        NaN        None        None -185.732697  729.637878   \n",
       "\n",
       "    season_yearly  \n",
       "142    -33.581821  \n",
       "143     13.093771  \n",
       "144      3.964399  \n",
       "145    -25.104242  \n",
       "146    -18.358429  "
      ]
     },
     "execution_count": 6,
     "metadata": {},
     "output_type": "execute_result"
    }
   ],
   "source": [
    "forecast = m.predict(future)\n",
    "forecast.tail()"
   ]
  },
  {
   "cell_type": "markdown",
   "id": "0a9c7316-95fd-420e-ac51-1fdf34bd5c51",
   "metadata": {},
   "source": [
    "## Predictions based on forecast start\n",
    "Calling `predict_raw`, we get a `df` where each `'step<i>'` refers to the `<i>`th step-ahead prediction **starting at this row's datetime**.\n",
    "Here, `<i>`  refers to how many steps ahead the prediction is targeted at.\n",
    "\n",
    "e.g. `step0` is the prediction for this datetime. `step1` is the prediction for the next datetime. \n",
    "\n",
    "All the predictions of a particular row were made at the same time: One step before the rows datestamp."
   ]
  },
  {
   "cell_type": "code",
   "execution_count": 7,
   "id": "39e3486e-c86d-4952-a8cd-339817b905fa",
   "metadata": {},
   "outputs": [
    {
     "data": {
      "text/html": [
       "<div>\n",
       "<style scoped>\n",
       "    .dataframe tbody tr th:only-of-type {\n",
       "        vertical-align: middle;\n",
       "    }\n",
       "\n",
       "    .dataframe tbody tr th {\n",
       "        vertical-align: top;\n",
       "    }\n",
       "\n",
       "    .dataframe thead th {\n",
       "        text-align: right;\n",
       "    }\n",
       "</style>\n",
       "<table border=\"1\" class=\"dataframe\">\n",
       "  <thead>\n",
       "    <tr style=\"text-align: right;\">\n",
       "      <th></th>\n",
       "      <th>ds</th>\n",
       "      <th>step0</th>\n",
       "      <th>step1</th>\n",
       "      <th>step2</th>\n",
       "    </tr>\n",
       "  </thead>\n",
       "  <tbody>\n",
       "    <tr>\n",
       "      <th>135</th>\n",
       "      <td>1960-09-01</td>\n",
       "      <td>509.955200</td>\n",
       "      <td>470.335876</td>\n",
       "      <td>419.024658</td>\n",
       "    </tr>\n",
       "    <tr>\n",
       "      <th>136</th>\n",
       "      <td>1960-10-01</td>\n",
       "      <td>465.349365</td>\n",
       "      <td>408.735382</td>\n",
       "      <td>439.773865</td>\n",
       "    </tr>\n",
       "    <tr>\n",
       "      <th>137</th>\n",
       "      <td>1960-11-01</td>\n",
       "      <td>408.390564</td>\n",
       "      <td>439.180298</td>\n",
       "      <td>458.342010</td>\n",
       "    </tr>\n",
       "    <tr>\n",
       "      <th>138</th>\n",
       "      <td>1960-12-01</td>\n",
       "      <td>420.639557</td>\n",
       "      <td>444.073608</td>\n",
       "      <td>456.117157</td>\n",
       "    </tr>\n",
       "    <tr>\n",
       "      <th>139</th>\n",
       "      <td>1961-01-01</td>\n",
       "      <td>452.548798</td>\n",
       "      <td>464.460388</td>\n",
       "      <td>525.546753</td>\n",
       "    </tr>\n",
       "  </tbody>\n",
       "</table>\n",
       "</div>"
      ],
      "text/plain": [
       "            ds       step0       step1       step2\n",
       "135 1960-09-01  509.955200  470.335876  419.024658\n",
       "136 1960-10-01  465.349365  408.735382  439.773865\n",
       "137 1960-11-01  408.390564  439.180298  458.342010\n",
       "138 1960-12-01  420.639557  444.073608  456.117157\n",
       "139 1961-01-01  452.548798  464.460388  525.546753"
      ]
     },
     "execution_count": 7,
     "metadata": {},
     "output_type": "execute_result"
    }
   ],
   "source": [
    "forecast = m.predict_raw(future)\n",
    "forecast.tail()"
   ]
  },
  {
   "cell_type": "markdown",
   "id": "953b82fd-3e5a-445c-b276-89607281d5f7",
   "metadata": {},
   "source": [
    "Note that the last row contains the last possible forecast, forecasting `1961-1-01`, `1961-2-01` and `1961-3-01` with data available at `1960-12-01`.\n",
    "\n",
    "\n",
    "Setting `decompose=True` will include the individual forecast components, which also refer to their respective contrigution to `step<i>` into the future. "
   ]
  },
  {
   "cell_type": "code",
   "execution_count": 8,
   "id": "f86f16de-9535-4573-8c09-8033b7f27ee3",
   "metadata": {},
   "outputs": [
    {
     "data": {
      "text/html": [
       "<div>\n",
       "<style scoped>\n",
       "    .dataframe tbody tr th:only-of-type {\n",
       "        vertical-align: middle;\n",
       "    }\n",
       "\n",
       "    .dataframe tbody tr th {\n",
       "        vertical-align: top;\n",
       "    }\n",
       "\n",
       "    .dataframe thead th {\n",
       "        text-align: right;\n",
       "    }\n",
       "</style>\n",
       "<table border=\"1\" class=\"dataframe\">\n",
       "  <thead>\n",
       "    <tr style=\"text-align: right;\">\n",
       "      <th></th>\n",
       "      <th>ds</th>\n",
       "      <th>step0</th>\n",
       "      <th>step1</th>\n",
       "      <th>step2</th>\n",
       "      <th>trend0</th>\n",
       "      <th>trend1</th>\n",
       "      <th>trend2</th>\n",
       "      <th>season_yearly0</th>\n",
       "      <th>season_yearly1</th>\n",
       "      <th>season_yearly2</th>\n",
       "      <th>ar0</th>\n",
       "      <th>ar1</th>\n",
       "      <th>ar2</th>\n",
       "    </tr>\n",
       "  </thead>\n",
       "  <tbody>\n",
       "    <tr>\n",
       "      <th>135</th>\n",
       "      <td>1960-09-01</td>\n",
       "      <td>509.955200</td>\n",
       "      <td>470.335876</td>\n",
       "      <td>419.024658</td>\n",
       "      <td>689.348755</td>\n",
       "      <td>696.026489</td>\n",
       "      <td>702.926758</td>\n",
       "      <td>3.116546</td>\n",
       "      <td>-19.381254</td>\n",
       "      <td>-33.581821</td>\n",
       "      <td>-182.510101</td>\n",
       "      <td>-206.309357</td>\n",
       "      <td>-250.320267</td>\n",
       "    </tr>\n",
       "    <tr>\n",
       "      <th>136</th>\n",
       "      <td>1960-10-01</td>\n",
       "      <td>465.349365</td>\n",
       "      <td>408.735382</td>\n",
       "      <td>439.773865</td>\n",
       "      <td>696.026489</td>\n",
       "      <td>702.926758</td>\n",
       "      <td>709.604553</td>\n",
       "      <td>-19.381254</td>\n",
       "      <td>-33.581821</td>\n",
       "      <td>13.093771</td>\n",
       "      <td>-211.295868</td>\n",
       "      <td>-260.609558</td>\n",
       "      <td>-282.924438</td>\n",
       "    </tr>\n",
       "    <tr>\n",
       "      <th>137</th>\n",
       "      <td>1960-11-01</td>\n",
       "      <td>408.390564</td>\n",
       "      <td>439.180298</td>\n",
       "      <td>458.342010</td>\n",
       "      <td>702.926758</td>\n",
       "      <td>709.604553</td>\n",
       "      <td>716.504822</td>\n",
       "      <td>-33.581821</td>\n",
       "      <td>13.093771</td>\n",
       "      <td>3.964399</td>\n",
       "      <td>-260.954346</td>\n",
       "      <td>-283.518036</td>\n",
       "      <td>-262.127197</td>\n",
       "    </tr>\n",
       "    <tr>\n",
       "      <th>138</th>\n",
       "      <td>1960-12-01</td>\n",
       "      <td>420.639557</td>\n",
       "      <td>444.073608</td>\n",
       "      <td>456.117157</td>\n",
       "      <td>709.604553</td>\n",
       "      <td>716.504822</td>\n",
       "      <td>723.405273</td>\n",
       "      <td>13.093771</td>\n",
       "      <td>3.964399</td>\n",
       "      <td>-25.104242</td>\n",
       "      <td>-302.058746</td>\n",
       "      <td>-276.395630</td>\n",
       "      <td>-242.183838</td>\n",
       "    </tr>\n",
       "    <tr>\n",
       "      <th>139</th>\n",
       "      <td>1961-01-01</td>\n",
       "      <td>452.548798</td>\n",
       "      <td>464.460388</td>\n",
       "      <td>525.546753</td>\n",
       "      <td>716.504822</td>\n",
       "      <td>723.405273</td>\n",
       "      <td>729.637878</td>\n",
       "      <td>3.964399</td>\n",
       "      <td>-25.104242</td>\n",
       "      <td>-18.358429</td>\n",
       "      <td>-267.920441</td>\n",
       "      <td>-233.840622</td>\n",
       "      <td>-185.732697</td>\n",
       "    </tr>\n",
       "  </tbody>\n",
       "</table>\n",
       "</div>"
      ],
      "text/plain": [
       "            ds       step0       step1       step2      trend0      trend1  \\\n",
       "135 1960-09-01  509.955200  470.335876  419.024658  689.348755  696.026489   \n",
       "136 1960-10-01  465.349365  408.735382  439.773865  696.026489  702.926758   \n",
       "137 1960-11-01  408.390564  439.180298  458.342010  702.926758  709.604553   \n",
       "138 1960-12-01  420.639557  444.073608  456.117157  709.604553  716.504822   \n",
       "139 1961-01-01  452.548798  464.460388  525.546753  716.504822  723.405273   \n",
       "\n",
       "         trend2  season_yearly0  season_yearly1  season_yearly2         ar0  \\\n",
       "135  702.926758        3.116546      -19.381254      -33.581821 -182.510101   \n",
       "136  709.604553      -19.381254      -33.581821       13.093771 -211.295868   \n",
       "137  716.504822      -33.581821       13.093771        3.964399 -260.954346   \n",
       "138  723.405273       13.093771        3.964399      -25.104242 -302.058746   \n",
       "139  729.637878        3.964399      -25.104242      -18.358429 -267.920441   \n",
       "\n",
       "            ar1         ar2  \n",
       "135 -206.309357 -250.320267  \n",
       "136 -260.609558 -282.924438  \n",
       "137 -283.518036 -262.127197  \n",
       "138 -276.395630 -242.183838  \n",
       "139 -233.840622 -185.732697  "
      ]
     },
     "execution_count": 8,
     "metadata": {},
     "output_type": "execute_result"
    }
   ],
   "source": [
    "forecast = m.predict_raw(future, decompose=True)\n",
    "forecast.tail()"
   ]
  },
  {
   "cell_type": "markdown",
   "id": "83584895-99c0-4c90-baca-73e946258f3f",
   "metadata": {},
   "source": [
    "### Advanced: Get predictions based on forecast start as arrays\n",
    "This function was not meant to be used directly, but if you have a specific need, it may be useful to get the values directly as arrays.\n",
    "The returned predictions are also based on forecast origin."
   ]
  },
  {
   "cell_type": "code",
   "execution_count": 9,
   "id": "71f4a3ea-7f8d-4fe9-a1a8-ebafe6585c75",
   "metadata": {},
   "outputs": [],
   "source": [
    "dates, predicted, components = m._predict_raw(future, include_components=True)"
   ]
  },
  {
   "cell_type": "code",
   "execution_count": 10,
   "id": "ae18bd3a-72c2-4361-a2cc-689c47936134",
   "metadata": {},
   "outputs": [
    {
     "data": {
      "text/plain": [
       "140   1960-09-01\n",
       "141   1960-10-01\n",
       "142   1960-11-01\n",
       "143   1960-12-01\n",
       "144   1961-01-01\n",
       "Name: ds, dtype: datetime64[ns]"
      ]
     },
     "execution_count": 10,
     "metadata": {},
     "output_type": "execute_result"
    }
   ],
   "source": [
    "dates[-5:]"
   ]
  },
  {
   "cell_type": "code",
   "execution_count": 11,
   "id": "5f438921-168a-4d09-86bd-2e8dc3e98f22",
   "metadata": {},
   "outputs": [
    {
     "data": {
      "text/plain": [
       "array([[509.9552 , 470.33588, 419.02466],\n",
       "       [465.34937, 408.73538, 439.77386],\n",
       "       [408.39056, 439.1803 , 458.342  ],\n",
       "       [420.63956, 444.0736 , 456.11716],\n",
       "       [452.5488 , 464.4604 , 525.54675]], dtype=float32)"
      ]
     },
     "execution_count": 11,
     "metadata": {},
     "output_type": "execute_result"
    }
   ],
   "source": [
    "predicted[-5:]"
   ]
  },
  {
   "cell_type": "code",
   "execution_count": 12,
   "id": "f4686019-8954-495e-a387-cfdabd1e52e8",
   "metadata": {},
   "outputs": [
    {
     "data": {
      "text/plain": [
       "[('trend',\n",
       "  array([[689.34875, 696.0265 , 702.92676],\n",
       "         [696.0265 , 702.92676, 709.60455],\n",
       "         [702.92676, 709.60455, 716.5048 ],\n",
       "         [709.60455, 716.5048 , 723.4053 ],\n",
       "         [716.5048 , 723.4053 , 729.6379 ]], dtype=float32)),\n",
       " ('season_yearly',\n",
       "  array([[  3.1165464, -19.381254 , -33.58182  ],\n",
       "         [-19.381254 , -33.58182  ,  13.093771 ],\n",
       "         [-33.58182  ,  13.093771 ,   3.9643986],\n",
       "         [ 13.093771 ,   3.9643986, -25.104242 ],\n",
       "         [  3.9643986, -25.104242 , -18.358429 ]], dtype=float32)),\n",
       " ('ar',\n",
       "  array([[-182.5101 , -206.30936, -250.32027],\n",
       "         [-211.29587, -260.60956, -282.92444],\n",
       "         [-260.95435, -283.51804, -262.1272 ],\n",
       "         [-302.05875, -276.39563, -242.18384],\n",
       "         [-267.92044, -233.84062, -185.7327 ]], dtype=float32))]"
      ]
     },
     "execution_count": 12,
     "metadata": {},
     "output_type": "execute_result"
    }
   ],
   "source": [
    "[(key, values[-5:]) for key, values in components.items()]"
   ]
  },
  {
   "cell_type": "markdown",
   "id": "c1d12b4a-13a5-4eea-9a41-da1337bc7b99",
   "metadata": {},
   "source": [
    "# Collect out-of-sample predictions\n",
    "This is how you can extend predictions into the unknown future:"
   ]
  },
  {
   "cell_type": "code",
   "execution_count": 13,
   "id": "276f79da-e024-4c12-8a68-dc59885a3e92",
   "metadata": {},
   "outputs": [],
   "source": [
    "future = m.make_future_dataframe(df) # periods=m.n_forecasts, n_historic_predictions=False"
   ]
  },
  {
   "cell_type": "markdown",
   "id": "8ab68b04-a6b8-45d1-a9bd-8c4d33d16a40",
   "metadata": {},
   "source": [
    "Now, the forecast dataframe only contains predictions about the yet unobserved future."
   ]
  },
  {
   "cell_type": "markdown",
   "id": "6cbb621e-4abd-406b-8c16-23361d9aac15",
   "metadata": {},
   "source": [
    "## Predictions based on forecast target"
   ]
  },
  {
   "cell_type": "code",
   "execution_count": 14,
   "id": "97275377-ca98-417a-9234-897f48cdfd57",
   "metadata": {},
   "outputs": [
    {
     "data": {
      "text/html": [
       "<div>\n",
       "<style scoped>\n",
       "    .dataframe tbody tr th:only-of-type {\n",
       "        vertical-align: middle;\n",
       "    }\n",
       "\n",
       "    .dataframe tbody tr th {\n",
       "        vertical-align: top;\n",
       "    }\n",
       "\n",
       "    .dataframe thead th {\n",
       "        text-align: right;\n",
       "    }\n",
       "</style>\n",
       "<table border=\"1\" class=\"dataframe\">\n",
       "  <thead>\n",
       "    <tr style=\"text-align: right;\">\n",
       "      <th></th>\n",
       "      <th>ds</th>\n",
       "      <th>y</th>\n",
       "      <th>yhat1</th>\n",
       "      <th>residual1</th>\n",
       "      <th>yhat2</th>\n",
       "      <th>residual2</th>\n",
       "      <th>yhat3</th>\n",
       "      <th>residual3</th>\n",
       "      <th>ar1</th>\n",
       "      <th>ar2</th>\n",
       "      <th>ar3</th>\n",
       "      <th>trend</th>\n",
       "      <th>season_yearly</th>\n",
       "    </tr>\n",
       "  </thead>\n",
       "  <tbody>\n",
       "    <tr>\n",
       "      <th>5</th>\n",
       "      <td>1961-01-01</td>\n",
       "      <td>None</td>\n",
       "      <td>452.548798</td>\n",
       "      <td>NaN</td>\n",
       "      <td>None</td>\n",
       "      <td>NaN</td>\n",
       "      <td>None</td>\n",
       "      <td>NaN</td>\n",
       "      <td>-267.920441</td>\n",
       "      <td>None</td>\n",
       "      <td>None</td>\n",
       "      <td>716.504822</td>\n",
       "      <td>3.964399</td>\n",
       "    </tr>\n",
       "    <tr>\n",
       "      <th>6</th>\n",
       "      <td>1961-02-01</td>\n",
       "      <td>None</td>\n",
       "      <td>None</td>\n",
       "      <td>NaN</td>\n",
       "      <td>464.460388</td>\n",
       "      <td>NaN</td>\n",
       "      <td>None</td>\n",
       "      <td>NaN</td>\n",
       "      <td>None</td>\n",
       "      <td>-233.840622</td>\n",
       "      <td>None</td>\n",
       "      <td>723.405273</td>\n",
       "      <td>-25.104242</td>\n",
       "    </tr>\n",
       "    <tr>\n",
       "      <th>7</th>\n",
       "      <td>1961-03-01</td>\n",
       "      <td>None</td>\n",
       "      <td>None</td>\n",
       "      <td>NaN</td>\n",
       "      <td>None</td>\n",
       "      <td>NaN</td>\n",
       "      <td>525.546753</td>\n",
       "      <td>NaN</td>\n",
       "      <td>None</td>\n",
       "      <td>None</td>\n",
       "      <td>-185.732697</td>\n",
       "      <td>729.637878</td>\n",
       "      <td>-18.358429</td>\n",
       "    </tr>\n",
       "  </tbody>\n",
       "</table>\n",
       "</div>"
      ],
      "text/plain": [
       "          ds     y       yhat1 residual1       yhat2 residual2       yhat3  \\\n",
       "5 1961-01-01  None  452.548798       NaN        None       NaN        None   \n",
       "6 1961-02-01  None        None       NaN  464.460388       NaN        None   \n",
       "7 1961-03-01  None        None       NaN        None       NaN  525.546753   \n",
       "\n",
       "  residual3         ar1         ar2         ar3       trend season_yearly  \n",
       "5       NaN -267.920441        None        None  716.504822      3.964399  \n",
       "6       NaN        None -233.840622        None  723.405273    -25.104242  \n",
       "7       NaN        None        None -185.732697  729.637878    -18.358429  "
      ]
     },
     "execution_count": 14,
     "metadata": {},
     "output_type": "execute_result"
    }
   ],
   "source": [
    "forecast = m.predict(future)\n",
    "forecast.tail(3)"
   ]
  },
  {
   "cell_type": "markdown",
   "id": "ccd0af24-2aa1-45dc-884f-f27fd71818a2",
   "metadata": {},
   "source": [
    "## Predictions based on forecast start\n",
    "We can also get the forecasts based on the forecast start"
   ]
  },
  {
   "cell_type": "code",
   "execution_count": 15,
   "id": "d7fa8af1-c921-4e3c-96e8-d004a1adc751",
   "metadata": {},
   "outputs": [
    {
     "data": {
      "text/html": [
       "<div>\n",
       "<style scoped>\n",
       "    .dataframe tbody tr th:only-of-type {\n",
       "        vertical-align: middle;\n",
       "    }\n",
       "\n",
       "    .dataframe tbody tr th {\n",
       "        vertical-align: top;\n",
       "    }\n",
       "\n",
       "    .dataframe thead th {\n",
       "        text-align: right;\n",
       "    }\n",
       "</style>\n",
       "<table border=\"1\" class=\"dataframe\">\n",
       "  <thead>\n",
       "    <tr style=\"text-align: right;\">\n",
       "      <th></th>\n",
       "      <th>ds</th>\n",
       "      <th>step0</th>\n",
       "      <th>step1</th>\n",
       "      <th>step2</th>\n",
       "    </tr>\n",
       "  </thead>\n",
       "  <tbody>\n",
       "    <tr>\n",
       "      <th>0</th>\n",
       "      <td>1961-01-01</td>\n",
       "      <td>452.548798</td>\n",
       "      <td>464.460388</td>\n",
       "      <td>525.546753</td>\n",
       "    </tr>\n",
       "  </tbody>\n",
       "</table>\n",
       "</div>"
      ],
      "text/plain": [
       "          ds       step0       step1       step2\n",
       "0 1961-01-01  452.548798  464.460388  525.546753"
      ]
     },
     "execution_count": 15,
     "metadata": {},
     "output_type": "execute_result"
    }
   ],
   "source": [
    "forecast = m.predict_raw(future)\n",
    "forecast"
   ]
  },
  {
   "cell_type": "markdown",
   "id": "56a7ff91-562d-4bfd-a2ba-17de298b4606",
   "metadata": {},
   "source": [
    "... and as an array"
   ]
  },
  {
   "cell_type": "code",
   "execution_count": 16,
   "id": "777932c7-09a0-4f86-9cc2-0485f78f96f8",
   "metadata": {},
   "outputs": [
    {
     "data": {
      "text/plain": [
       "array([[452.5488 , 464.4604 , 525.54675]], dtype=float32)"
      ]
     },
     "execution_count": 16,
     "metadata": {},
     "output_type": "execute_result"
    }
   ],
   "source": [
    "dates, predicted, components = m._predict_raw(future)\n",
    "predicted"
   ]
  },
  {
   "cell_type": "code",
   "execution_count": 17,
   "id": "fc16bfe9-f8b0-4ace-93bf-a2b15c78897a",
   "metadata": {},
   "outputs": [],
   "source": [
    "# remove temporary data folder.\n",
    "!rm -r tmp-data"
   ]
  }
 ],
 "metadata": {
  "kernelspec": {
   "display_name": "np-dev",
   "language": "python",
   "name": "np-dev"
  },
  "language_info": {
   "codemirror_mode": {
    "name": "ipython",
    "version": 3
   },
   "file_extension": ".py",
   "mimetype": "text/x-python",
   "name": "python",
   "nbconvert_exporter": "python",
   "pygments_lexer": "ipython3",
   "version": "3.9.5"
  }
 },
 "nbformat": 4,
 "nbformat_minor": 5
}
