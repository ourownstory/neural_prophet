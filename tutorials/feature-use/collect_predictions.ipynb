{
 "cells": [
  {
   "cell_type": "code",
   "execution_count": 1,
   "id": "dc722653-e984-4044-bff4-589311e45b4f",
   "metadata": {},
   "outputs": [],
   "source": [
    "from neuralprophet import NeuralProphet\n",
    "import numpy as np\n",
    "import pandas as pd\n",
    "import os"
   ]
  },
  {
   "cell_type": "code",
   "execution_count": 2,
   "id": "02217707-dda6-4cbd-98a1-2203779ec959",
   "metadata": {},
   "outputs": [],
   "source": [
    "%%capture\n",
    "# create temporary data folder and download data\n",
    "!rm -r tmp-data\n",
    "!mkdir tmp-data\n",
    "!wget -P tmp-data https://raw.githubusercontent.com/ourownstory/neuralprophet-data/main/datasets/air_passengers.csv\n",
    "os.listdir('tmp-data')"
   ]
  },
  {
   "cell_type": "code",
   "execution_count": 3,
   "id": "863bf403-5810-491e-922c-9237d81673d7",
   "metadata": {},
   "outputs": [],
   "source": [
    "air_passengers_df = pd.read_csv(os.path.join('tmp-data', 'air_passengers.csv'))\n",
    "df = air_passengers_df"
   ]
  },
  {
   "cell_type": "code",
   "execution_count": 4,
   "id": "db4f3490-2652-4fd5-8b27-bd6d6b88bb67",
   "metadata": {},
   "outputs": [
    {
     "name": "stderr",
     "output_type": "stream",
     "text": [
      "INFO - (NP.utils.set_auto_seasonalities) - Disabling weekly seasonality. Run NeuralProphet with weekly_seasonality=True to override this.\n",
      "INFO - (NP.utils.set_auto_seasonalities) - Disabling daily seasonality. Run NeuralProphet with daily_seasonality=True to override this.\n",
      "INFO - (NP.config.set_auto_batch_epoch) - Auto-set batch_size to 16\n",
      "INFO - (NP.config.set_auto_batch_epoch) - Auto-set epochs to 292\n",
      "INFO - (NP.utils_torch.lr_range_test) - lr-range-test results: steep: 3.01E-02, min: 9.05E-01\n",
      "INFO - (NP.utils_torch.lr_range_test) - learning rate range test selected lr: 2.91E-01\n"
     ]
    }
   ],
   "source": [
    "%%capture\n",
    "m = NeuralProphet(n_lags=5, n_forecasts=3)\n",
    "metrics_train = m.fit(df=df, freq=\"MS\")"
   ]
  },
  {
   "cell_type": "markdown",
   "id": "5d621caf-b601-43ca-a64b-a1d7be7453c0",
   "metadata": {},
   "source": [
    "# Collect in-sample predictions"
   ]
  },
  {
   "cell_type": "code",
   "execution_count": 10,
   "id": "8ffc7c44-87b2-4282-bdea-f0bc2969360d",
   "metadata": {},
   "outputs": [],
   "source": [
    "future = df.copy(deep=True)"
   ]
  },
  {
   "cell_type": "markdown",
   "id": "3d2dc84d-c388-4b59-8fe3-89633e9671fe",
   "metadata": {},
   "source": [
    "## Predictions sorted based on forecast target\n",
    "Calling `predict`, we get a `df_forecast` where each `'yhat<i>'` refers to the `<i>` -step-ahead prediction for **this row's datetime being the target**.\n",
    "Here, `<i>`  refers to the age of the prediction.\n",
    "\n",
    "e.g. `yhat3` is the prediction for this datetime, predicted 3 steps ago, it is \"3 steps old\".\n",
    "\n",
    "Note that the last row `1961-3-01` only has a `yhat3`, which was forecasted at the last location with data `1960-12-01`.\n",
    "Because we lack inputs after that location, we do not have more recent predictions `yhat1` from `1961-2-01` nor  `yhat2` from `1961-1-01`.\n",
    "\n",
    "We also get the individual forecast components, which also refer to their respective contrigution to `yhat<i>`, forecasted `<i>` steps ago. \n",
    "\n",
    "Components without an added number are only time-dependent or based on future regressors, neither are lagged, and thus a single value."
   ]
  },
  {
   "cell_type": "code",
   "execution_count": 11,
   "id": "7a1b8a10-9708-45b9-9f68-1a4be0dd1ee9",
   "metadata": {},
   "outputs": [
    {
     "data": {
      "text/html": [
       "<div>\n",
       "<style scoped>\n",
       "    .dataframe tbody tr th:only-of-type {\n",
       "        vertical-align: middle;\n",
       "    }\n",
       "\n",
       "    .dataframe tbody tr th {\n",
       "        vertical-align: top;\n",
       "    }\n",
       "\n",
       "    .dataframe thead th {\n",
       "        text-align: right;\n",
       "    }\n",
       "</style>\n",
       "<table border=\"1\" class=\"dataframe\">\n",
       "  <thead>\n",
       "    <tr style=\"text-align: right;\">\n",
       "      <th></th>\n",
       "      <th>ds</th>\n",
       "      <th>y</th>\n",
       "      <th>yhat1</th>\n",
       "      <th>residual1</th>\n",
       "      <th>yhat2</th>\n",
       "      <th>residual2</th>\n",
       "      <th>yhat3</th>\n",
       "      <th>residual3</th>\n",
       "      <th>ar1</th>\n",
       "      <th>ar2</th>\n",
       "      <th>ar3</th>\n",
       "      <th>trend</th>\n",
       "      <th>season_yearly</th>\n",
       "    </tr>\n",
       "  </thead>\n",
       "  <tbody>\n",
       "    <tr>\n",
       "      <th>142</th>\n",
       "      <td>1960-11-01</td>\n",
       "      <td>390</td>\n",
       "      <td>409.625458</td>\n",
       "      <td>19.625458</td>\n",
       "      <td>409.470306</td>\n",
       "      <td>19.470306</td>\n",
       "      <td>420.463806</td>\n",
       "      <td>30.463806</td>\n",
       "      <td>-264.339569</td>\n",
       "      <td>-264.49472</td>\n",
       "      <td>-253.501205</td>\n",
       "      <td>707.141907</td>\n",
       "      <td>-33.176899</td>\n",
       "    </tr>\n",
       "    <tr>\n",
       "      <th>143</th>\n",
       "      <td>1960-12-01</td>\n",
       "      <td>432</td>\n",
       "      <td>422.081604</td>\n",
       "      <td>-9.918396</td>\n",
       "      <td>440.227173</td>\n",
       "      <td>8.227173</td>\n",
       "      <td>440.874268</td>\n",
       "      <td>8.874268</td>\n",
       "      <td>-304.496002</td>\n",
       "      <td>-286.350433</td>\n",
       "      <td>-285.703339</td>\n",
       "      <td>713.896118</td>\n",
       "      <td>12.681476</td>\n",
       "    </tr>\n",
       "    <tr>\n",
       "      <th>144</th>\n",
       "      <td>1961-01-01</td>\n",
       "      <td>None</td>\n",
       "      <td>452.463287</td>\n",
       "      <td>NaN</td>\n",
       "      <td>444.093292</td>\n",
       "      <td>NaN</td>\n",
       "      <td>459.705872</td>\n",
       "      <td>NaN</td>\n",
       "      <td>-272.876862</td>\n",
       "      <td>-281.246826</td>\n",
       "      <td>-265.634277</td>\n",
       "      <td>720.875427</td>\n",
       "      <td>4.464685</td>\n",
       "    </tr>\n",
       "    <tr>\n",
       "      <th>145</th>\n",
       "      <td>1961-02-01</td>\n",
       "      <td>None</td>\n",
       "      <td>None</td>\n",
       "      <td>NaN</td>\n",
       "      <td>465.577515</td>\n",
       "      <td>NaN</td>\n",
       "      <td>457.13092</td>\n",
       "      <td>NaN</td>\n",
       "      <td>None</td>\n",
       "      <td>-236.144577</td>\n",
       "      <td>-244.591156</td>\n",
       "      <td>727.854797</td>\n",
       "      <td>-26.132689</td>\n",
       "    </tr>\n",
       "    <tr>\n",
       "      <th>146</th>\n",
       "      <td>1961-03-01</td>\n",
       "      <td>None</td>\n",
       "      <td>None</td>\n",
       "      <td>NaN</td>\n",
       "      <td>None</td>\n",
       "      <td>NaN</td>\n",
       "      <td>525.992676</td>\n",
       "      <td>NaN</td>\n",
       "      <td>None</td>\n",
       "      <td>None</td>\n",
       "      <td>-189.82428</td>\n",
       "      <td>734.158813</td>\n",
       "      <td>-18.341887</td>\n",
       "    </tr>\n",
       "  </tbody>\n",
       "</table>\n",
       "</div>"
      ],
      "text/plain": [
       "            ds     y       yhat1  residual1       yhat2  residual2  \\\n",
       "142 1960-11-01   390  409.625458  19.625458  409.470306  19.470306   \n",
       "143 1960-12-01   432  422.081604  -9.918396  440.227173   8.227173   \n",
       "144 1961-01-01  None  452.463287        NaN  444.093292        NaN   \n",
       "145 1961-02-01  None        None        NaN  465.577515        NaN   \n",
       "146 1961-03-01  None        None        NaN        None        NaN   \n",
       "\n",
       "          yhat3  residual3         ar1         ar2         ar3       trend  \\\n",
       "142  420.463806  30.463806 -264.339569  -264.49472 -253.501205  707.141907   \n",
       "143  440.874268   8.874268 -304.496002 -286.350433 -285.703339  713.896118   \n",
       "144  459.705872        NaN -272.876862 -281.246826 -265.634277  720.875427   \n",
       "145   457.13092        NaN        None -236.144577 -244.591156  727.854797   \n",
       "146  525.992676        NaN        None        None  -189.82428  734.158813   \n",
       "\n",
       "    season_yearly  \n",
       "142    -33.176899  \n",
       "143     12.681476  \n",
       "144      4.464685  \n",
       "145    -26.132689  \n",
       "146    -18.341887  "
      ]
     },
     "execution_count": 11,
     "metadata": {},
     "output_type": "execute_result"
    }
   ],
   "source": [
    "forecast = m.predict(future)\n",
    "forecast.tail()"
   ]
  },
  {
   "cell_type": "markdown",
   "id": "0a9c7316-95fd-420e-ac51-1fdf34bd5c51",
   "metadata": {},
   "source": [
    "## Predictions based on forecast start\n",
    "Calling `predict_raw`, we get a `df` where each `'step<i>'` refers to the `<i>`th step-ahead prediction **starting at this row's datetime**.\n",
    "Here, `<i>`  refers to how many steps ahead the prediction is targeted at.\n",
    "\n",
    "e.g. `step0` is the prediction for this datetime. `step1` is the prediction for the next datetime. \n",
    "\n",
    "All the predictions of a particular row were made at the same time: One step before the rows datestamp."
   ]
  },
  {
   "cell_type": "code",
   "execution_count": 12,
   "id": "39e3486e-c86d-4952-a8cd-339817b905fa",
   "metadata": {},
   "outputs": [
    {
     "name": "stderr",
     "output_type": "stream",
     "text": [
      "WARNING - (NP.forecaster.predict) - raw forecasts are incompatible with plotting utilities\n"
     ]
    },
    {
     "data": {
      "text/html": [
       "<div>\n",
       "<style scoped>\n",
       "    .dataframe tbody tr th:only-of-type {\n",
       "        vertical-align: middle;\n",
       "    }\n",
       "\n",
       "    .dataframe tbody tr th {\n",
       "        vertical-align: top;\n",
       "    }\n",
       "\n",
       "    .dataframe thead th {\n",
       "        text-align: right;\n",
       "    }\n",
       "</style>\n",
       "<table border=\"1\" class=\"dataframe\">\n",
       "  <thead>\n",
       "    <tr style=\"text-align: right;\">\n",
       "      <th></th>\n",
       "      <th>ds</th>\n",
       "      <th>step0</th>\n",
       "      <th>step1</th>\n",
       "      <th>step2</th>\n",
       "    </tr>\n",
       "  </thead>\n",
       "  <tbody>\n",
       "    <tr>\n",
       "      <th>135</th>\n",
       "      <td>1960-09-01</td>\n",
       "      <td>510.785583</td>\n",
       "      <td>469.965332</td>\n",
       "      <td>420.463806</td>\n",
       "    </tr>\n",
       "    <tr>\n",
       "      <th>136</th>\n",
       "      <td>1960-10-01</td>\n",
       "      <td>466.057037</td>\n",
       "      <td>409.470306</td>\n",
       "      <td>440.874268</td>\n",
       "    </tr>\n",
       "    <tr>\n",
       "      <th>137</th>\n",
       "      <td>1960-11-01</td>\n",
       "      <td>409.625458</td>\n",
       "      <td>440.227173</td>\n",
       "      <td>459.705872</td>\n",
       "    </tr>\n",
       "    <tr>\n",
       "      <th>138</th>\n",
       "      <td>1960-12-01</td>\n",
       "      <td>422.081604</td>\n",
       "      <td>444.093292</td>\n",
       "      <td>457.130920</td>\n",
       "    </tr>\n",
       "    <tr>\n",
       "      <th>139</th>\n",
       "      <td>1961-01-01</td>\n",
       "      <td>452.463287</td>\n",
       "      <td>465.577515</td>\n",
       "      <td>525.992676</td>\n",
       "    </tr>\n",
       "  </tbody>\n",
       "</table>\n",
       "</div>"
      ],
      "text/plain": [
       "            ds       step0       step1       step2\n",
       "135 1960-09-01  510.785583  469.965332  420.463806\n",
       "136 1960-10-01  466.057037  409.470306  440.874268\n",
       "137 1960-11-01  409.625458  440.227173  459.705872\n",
       "138 1960-12-01  422.081604  444.093292  457.130920\n",
       "139 1961-01-01  452.463287  465.577515  525.992676"
      ]
     },
     "execution_count": 12,
     "metadata": {},
     "output_type": "execute_result"
    }
   ],
   "source": [
    "forecast = m.predict(future, decompose=False, raw=True)\n",
    "forecast.tail()"
   ]
  },
  {
   "cell_type": "markdown",
   "id": "953b82fd-3e5a-445c-b276-89607281d5f7",
   "metadata": {},
   "source": [
    "Note that the last row contains the last possible forecast, forecasting `1961-1-01`, `1961-2-01` and `1961-3-01` with data available at `1960-12-01`.\n",
    "\n",
    "\n",
    "Setting `decompose=True` will include the individual forecast components, which also refer to their respective contrigution to `step<i>` into the future. "
   ]
  },
  {
   "cell_type": "code",
   "execution_count": 13,
   "id": "f86f16de-9535-4573-8c09-8033b7f27ee3",
   "metadata": {},
   "outputs": [
    {
     "name": "stderr",
     "output_type": "stream",
     "text": [
      "WARNING - (NP.forecaster.predict) - raw forecasts are incompatible with plotting utilities\n"
     ]
    },
    {
     "data": {
      "text/html": [
       "<div>\n",
       "<style scoped>\n",
       "    .dataframe tbody tr th:only-of-type {\n",
       "        vertical-align: middle;\n",
       "    }\n",
       "\n",
       "    .dataframe tbody tr th {\n",
       "        vertical-align: top;\n",
       "    }\n",
       "\n",
       "    .dataframe thead th {\n",
       "        text-align: right;\n",
       "    }\n",
       "</style>\n",
       "<table border=\"1\" class=\"dataframe\">\n",
       "  <thead>\n",
       "    <tr style=\"text-align: right;\">\n",
       "      <th></th>\n",
       "      <th>ds</th>\n",
       "      <th>step0</th>\n",
       "      <th>step1</th>\n",
       "      <th>step2</th>\n",
       "      <th>trend0</th>\n",
       "      <th>trend1</th>\n",
       "      <th>trend2</th>\n",
       "      <th>season_yearly0</th>\n",
       "      <th>season_yearly1</th>\n",
       "      <th>season_yearly2</th>\n",
       "      <th>ar0</th>\n",
       "      <th>ar1</th>\n",
       "      <th>ar2</th>\n",
       "    </tr>\n",
       "  </thead>\n",
       "  <tbody>\n",
       "    <tr>\n",
       "      <th>135</th>\n",
       "      <td>1960-09-01</td>\n",
       "      <td>510.785583</td>\n",
       "      <td>469.965332</td>\n",
       "      <td>420.463806</td>\n",
       "      <td>693.408386</td>\n",
       "      <td>700.162598</td>\n",
       "      <td>707.141907</td>\n",
       "      <td>3.742019</td>\n",
       "      <td>-18.733738</td>\n",
       "      <td>-33.176899</td>\n",
       "      <td>-186.364853</td>\n",
       "      <td>-211.463501</td>\n",
       "      <td>-253.501205</td>\n",
       "    </tr>\n",
       "    <tr>\n",
       "      <th>136</th>\n",
       "      <td>1960-10-01</td>\n",
       "      <td>466.057037</td>\n",
       "      <td>409.470306</td>\n",
       "      <td>440.874268</td>\n",
       "      <td>700.162598</td>\n",
       "      <td>707.141907</td>\n",
       "      <td>713.896118</td>\n",
       "      <td>-18.733738</td>\n",
       "      <td>-33.176899</td>\n",
       "      <td>12.681476</td>\n",
       "      <td>-215.371811</td>\n",
       "      <td>-264.494720</td>\n",
       "      <td>-285.703339</td>\n",
       "    </tr>\n",
       "    <tr>\n",
       "      <th>137</th>\n",
       "      <td>1960-11-01</td>\n",
       "      <td>409.625458</td>\n",
       "      <td>440.227173</td>\n",
       "      <td>459.705872</td>\n",
       "      <td>707.141907</td>\n",
       "      <td>713.896118</td>\n",
       "      <td>720.875427</td>\n",
       "      <td>-33.176899</td>\n",
       "      <td>12.681476</td>\n",
       "      <td>4.464685</td>\n",
       "      <td>-264.339569</td>\n",
       "      <td>-286.350433</td>\n",
       "      <td>-265.634277</td>\n",
       "    </tr>\n",
       "    <tr>\n",
       "      <th>138</th>\n",
       "      <td>1960-12-01</td>\n",
       "      <td>422.081604</td>\n",
       "      <td>444.093292</td>\n",
       "      <td>457.130920</td>\n",
       "      <td>713.896118</td>\n",
       "      <td>720.875427</td>\n",
       "      <td>727.854797</td>\n",
       "      <td>12.681476</td>\n",
       "      <td>4.464685</td>\n",
       "      <td>-26.132689</td>\n",
       "      <td>-304.496002</td>\n",
       "      <td>-281.246826</td>\n",
       "      <td>-244.591156</td>\n",
       "    </tr>\n",
       "    <tr>\n",
       "      <th>139</th>\n",
       "      <td>1961-01-01</td>\n",
       "      <td>452.463287</td>\n",
       "      <td>465.577515</td>\n",
       "      <td>525.992676</td>\n",
       "      <td>720.875427</td>\n",
       "      <td>727.854797</td>\n",
       "      <td>734.158813</td>\n",
       "      <td>4.464685</td>\n",
       "      <td>-26.132689</td>\n",
       "      <td>-18.341887</td>\n",
       "      <td>-272.876862</td>\n",
       "      <td>-236.144577</td>\n",
       "      <td>-189.824280</td>\n",
       "    </tr>\n",
       "  </tbody>\n",
       "</table>\n",
       "</div>"
      ],
      "text/plain": [
       "            ds       step0       step1       step2      trend0      trend1  \\\n",
       "135 1960-09-01  510.785583  469.965332  420.463806  693.408386  700.162598   \n",
       "136 1960-10-01  466.057037  409.470306  440.874268  700.162598  707.141907   \n",
       "137 1960-11-01  409.625458  440.227173  459.705872  707.141907  713.896118   \n",
       "138 1960-12-01  422.081604  444.093292  457.130920  713.896118  720.875427   \n",
       "139 1961-01-01  452.463287  465.577515  525.992676  720.875427  727.854797   \n",
       "\n",
       "         trend2  season_yearly0  season_yearly1  season_yearly2         ar0  \\\n",
       "135  707.141907        3.742019      -18.733738      -33.176899 -186.364853   \n",
       "136  713.896118      -18.733738      -33.176899       12.681476 -215.371811   \n",
       "137  720.875427      -33.176899       12.681476        4.464685 -264.339569   \n",
       "138  727.854797       12.681476        4.464685      -26.132689 -304.496002   \n",
       "139  734.158813        4.464685      -26.132689      -18.341887 -272.876862   \n",
       "\n",
       "            ar1         ar2  \n",
       "135 -211.463501 -253.501205  \n",
       "136 -264.494720 -285.703339  \n",
       "137 -286.350433 -265.634277  \n",
       "138 -281.246826 -244.591156  \n",
       "139 -236.144577 -189.824280  "
      ]
     },
     "execution_count": 13,
     "metadata": {},
     "output_type": "execute_result"
    }
   ],
   "source": [
    "forecast = m.predict(future, decompose=True, raw=True)\n",
    "forecast.tail()"
   ]
  },
  {
   "cell_type": "markdown",
   "id": "83584895-99c0-4c90-baca-73e946258f3f",
   "metadata": {},
   "source": [
    "### Advanced: Get predictions based on forecast start as arrays\n",
    "This function was not meant to be used directly, but if you have a specific need, it may be useful to get the values directly as arrays.\n",
    "The returned predictions are also based on forecast origin."
   ]
  },
  {
   "cell_type": "code",
   "execution_count": 21,
   "id": "71f4a3ea-7f8d-4fe9-a1a8-ebafe6585c75",
   "metadata": {},
   "outputs": [],
   "source": [
    "future = m.prepare_dataframe_to_predict(df)\n",
    "dates, predicted, components = m._predict_raw(future, include_components=True)"
   ]
  },
  {
   "cell_type": "code",
   "execution_count": 22,
   "id": "ae18bd3a-72c2-4361-a2cc-689c47936134",
   "metadata": {},
   "outputs": [
    {
     "data": {
      "text/plain": [
       "140   1960-09-01\n",
       "141   1960-10-01\n",
       "142   1960-11-01\n",
       "143   1960-12-01\n",
       "144   1961-01-01\n",
       "Name: ds, dtype: datetime64[ns]"
      ]
     },
     "execution_count": 22,
     "metadata": {},
     "output_type": "execute_result"
    }
   ],
   "source": [
    "dates[-5:]"
   ]
  },
  {
   "cell_type": "code",
   "execution_count": 23,
   "id": "5f438921-168a-4d09-86bd-2e8dc3e98f22",
   "metadata": {},
   "outputs": [
    {
     "data": {
      "text/plain": [
       "array([[510.78558, 469.96533, 420.4638 ],\n",
       "       [466.05704, 409.4703 , 440.87427],\n",
       "       [409.62546, 440.22717, 459.70587],\n",
       "       [422.0816 , 444.0933 , 457.13092],\n",
       "       [452.4633 , 465.5775 , 525.9927 ]], dtype=float32)"
      ]
     },
     "execution_count": 23,
     "metadata": {},
     "output_type": "execute_result"
    }
   ],
   "source": [
    "predicted[-5:]"
   ]
  },
  {
   "cell_type": "code",
   "execution_count": 24,
   "id": "f4686019-8954-495e-a387-cfdabd1e52e8",
   "metadata": {},
   "outputs": [
    {
     "data": {
      "text/plain": [
       "[('trend',\n",
       "  array([[693.4084, 700.1626, 707.1419],\n",
       "         [700.1626, 707.1419, 713.8961],\n",
       "         [707.1419, 713.8961, 720.8754],\n",
       "         [713.8961, 720.8754, 727.8548],\n",
       "         [720.8754, 727.8548, 734.1588]], dtype=float32)),\n",
       " ('season_yearly',\n",
       "  array([[  3.7420192, -18.733738 , -33.1769   ],\n",
       "         [-18.733738 , -33.1769   ,  12.681476 ],\n",
       "         [-33.1769   ,  12.681476 ,   4.4646854],\n",
       "         [ 12.681476 ,   4.4646854, -26.132689 ],\n",
       "         [  4.4646854, -26.132689 , -18.341887 ]], dtype=float32)),\n",
       " ('ar',\n",
       "  array([[-186.36485, -211.4635 , -253.5012 ],\n",
       "         [-215.37181, -264.49472, -285.70334],\n",
       "         [-264.33957, -286.35043, -265.63428],\n",
       "         [-304.496  , -281.24683, -244.59116],\n",
       "         [-272.87686, -236.14458, -189.82428]], dtype=float32))]"
      ]
     },
     "execution_count": 24,
     "metadata": {},
     "output_type": "execute_result"
    }
   ],
   "source": [
    "[(key, values[-5:]) for key, values in components.items()]"
   ]
  },
  {
   "cell_type": "markdown",
   "id": "c1d12b4a-13a5-4eea-9a41-da1337bc7b99",
   "metadata": {},
   "source": [
    "# Collect out-of-sample predictions\n",
    "This is how you can extend predictions into the unknown future:"
   ]
  },
  {
   "cell_type": "code",
   "execution_count": 35,
   "id": "276f79da-e024-4c12-8a68-dc59885a3e92",
   "metadata": {},
   "outputs": [],
   "source": [
    "future = m.make_future_dataframe(df) # periods=m.n_forecasts, n_historic_predictions=False"
   ]
  },
  {
   "cell_type": "markdown",
   "id": "8ab68b04-a6b8-45d1-a9bd-8c4d33d16a40",
   "metadata": {},
   "source": [
    "Now, the forecast dataframe only contains predictions about the yet unobserved future."
   ]
  },
  {
   "cell_type": "markdown",
   "id": "6cbb621e-4abd-406b-8c16-23361d9aac15",
   "metadata": {},
   "source": [
    "## Predictions based on forecast target"
   ]
  },
  {
   "cell_type": "code",
   "execution_count": 36,
   "id": "97275377-ca98-417a-9234-897f48cdfd57",
   "metadata": {},
   "outputs": [
    {
     "name": "stderr",
     "output_type": "stream",
     "text": [
      "INFO - (NP.forecaster._handle_missing_data) - 3 NaN values in column y were auto-imputed.\n"
     ]
    },
    {
     "data": {
      "text/html": [
       "<div>\n",
       "<style scoped>\n",
       "    .dataframe tbody tr th:only-of-type {\n",
       "        vertical-align: middle;\n",
       "    }\n",
       "\n",
       "    .dataframe tbody tr th {\n",
       "        vertical-align: top;\n",
       "    }\n",
       "\n",
       "    .dataframe thead th {\n",
       "        text-align: right;\n",
       "    }\n",
       "</style>\n",
       "<table border=\"1\" class=\"dataframe\">\n",
       "  <thead>\n",
       "    <tr style=\"text-align: right;\">\n",
       "      <th></th>\n",
       "      <th>ds</th>\n",
       "      <th>y</th>\n",
       "      <th>yhat1</th>\n",
       "      <th>residual1</th>\n",
       "      <th>yhat2</th>\n",
       "      <th>residual2</th>\n",
       "      <th>yhat3</th>\n",
       "      <th>residual3</th>\n",
       "      <th>ar1</th>\n",
       "      <th>ar2</th>\n",
       "      <th>ar3</th>\n",
       "      <th>trend</th>\n",
       "      <th>season_yearly</th>\n",
       "    </tr>\n",
       "  </thead>\n",
       "  <tbody>\n",
       "    <tr>\n",
       "      <th>8</th>\n",
       "      <td>1961-04-01</td>\n",
       "      <td>NaN</td>\n",
       "      <td>548.791016</td>\n",
       "      <td>NaN</td>\n",
       "      <td>528.551514</td>\n",
       "      <td>NaN</td>\n",
       "      <td>527.593994</td>\n",
       "      <td>NaN</td>\n",
       "      <td>-162.941544</td>\n",
       "      <td>-183.181107</td>\n",
       "      <td>-184.138565</td>\n",
       "      <td>741.138062</td>\n",
       "      <td>-29.405451</td>\n",
       "    </tr>\n",
       "    <tr>\n",
       "      <th>9</th>\n",
       "      <td>1961-05-01</td>\n",
       "      <td>NaN</td>\n",
       "      <td>None</td>\n",
       "      <td>NaN</td>\n",
       "      <td>547.359619</td>\n",
       "      <td>NaN</td>\n",
       "      <td>542.048462</td>\n",
       "      <td>NaN</td>\n",
       "      <td>None</td>\n",
       "      <td>-175.251038</td>\n",
       "      <td>-180.562164</td>\n",
       "      <td>747.892273</td>\n",
       "      <td>-25.281633</td>\n",
       "    </tr>\n",
       "    <tr>\n",
       "      <th>10</th>\n",
       "      <td>1961-06-01</td>\n",
       "      <td>NaN</td>\n",
       "      <td>None</td>\n",
       "      <td>NaN</td>\n",
       "      <td>None</td>\n",
       "      <td>NaN</td>\n",
       "      <td>587.958862</td>\n",
       "      <td>NaN</td>\n",
       "      <td>None</td>\n",
       "      <td>None</td>\n",
       "      <td>-182.171585</td>\n",
       "      <td>754.871582</td>\n",
       "      <td>15.258847</td>\n",
       "    </tr>\n",
       "  </tbody>\n",
       "</table>\n",
       "</div>"
      ],
      "text/plain": [
       "           ds   y       yhat1 residual1       yhat2 residual2       yhat3  \\\n",
       "8  1961-04-01 NaN  548.791016       NaN  528.551514       NaN  527.593994   \n",
       "9  1961-05-01 NaN        None       NaN  547.359619       NaN  542.048462   \n",
       "10 1961-06-01 NaN        None       NaN        None       NaN  587.958862   \n",
       "\n",
       "   residual3         ar1         ar2         ar3       trend season_yearly  \n",
       "8        NaN -162.941544 -183.181107 -184.138565  741.138062    -29.405451  \n",
       "9        NaN        None -175.251038 -180.562164  747.892273    -25.281633  \n",
       "10       NaN        None        None -182.171585  754.871582     15.258847  "
      ]
     },
     "execution_count": 36,
     "metadata": {},
     "output_type": "execute_result"
    }
   ],
   "source": [
    "forecast = m.predict(future)\n",
    "forecast.tail(3)"
   ]
  },
  {
   "cell_type": "markdown",
   "id": "ccd0af24-2aa1-45dc-884f-f27fd71818a2",
   "metadata": {},
   "source": [
    "## Predictions based on forecast start\n",
    "We can also get the forecasts based on the forecast start"
   ]
  },
  {
   "cell_type": "code",
   "execution_count": 40,
   "id": "d7fa8af1-c921-4e3c-96e8-d004a1adc751",
   "metadata": {},
   "outputs": [
    {
     "name": "stderr",
     "output_type": "stream",
     "text": [
      "WARNING - (NP.forecaster.predict) - raw forecasts are incompatible with plotting utilities\n",
      "INFO - (NP.forecaster._handle_missing_data) - 3 NaN values in column y were auto-imputed.\n"
     ]
    },
    {
     "data": {
      "text/html": [
       "<div>\n",
       "<style scoped>\n",
       "    .dataframe tbody tr th:only-of-type {\n",
       "        vertical-align: middle;\n",
       "    }\n",
       "\n",
       "    .dataframe tbody tr th {\n",
       "        vertical-align: top;\n",
       "    }\n",
       "\n",
       "    .dataframe thead th {\n",
       "        text-align: right;\n",
       "    }\n",
       "</style>\n",
       "<table border=\"1\" class=\"dataframe\">\n",
       "  <thead>\n",
       "    <tr style=\"text-align: right;\">\n",
       "      <th></th>\n",
       "      <th>ds</th>\n",
       "      <th>step0</th>\n",
       "      <th>step1</th>\n",
       "      <th>step2</th>\n",
       "    </tr>\n",
       "  </thead>\n",
       "  <tbody>\n",
       "    <tr>\n",
       "      <th>0</th>\n",
       "      <td>1961-01-01</td>\n",
       "      <td>452.463287</td>\n",
       "      <td>465.577515</td>\n",
       "      <td>525.992676</td>\n",
       "    </tr>\n",
       "    <tr>\n",
       "      <th>1</th>\n",
       "      <td>1961-02-01</td>\n",
       "      <td>482.322327</td>\n",
       "      <td>524.370728</td>\n",
       "      <td>527.593994</td>\n",
       "    </tr>\n",
       "    <tr>\n",
       "      <th>2</th>\n",
       "      <td>1961-03-01</td>\n",
       "      <td>530.041992</td>\n",
       "      <td>528.551514</td>\n",
       "      <td>542.048462</td>\n",
       "    </tr>\n",
       "    <tr>\n",
       "      <th>3</th>\n",
       "      <td>1961-04-01</td>\n",
       "      <td>548.791016</td>\n",
       "      <td>547.359619</td>\n",
       "      <td>587.958862</td>\n",
       "    </tr>\n",
       "  </tbody>\n",
       "</table>\n",
       "</div>"
      ],
      "text/plain": [
       "          ds       step0       step1       step2\n",
       "0 1961-01-01  452.463287  465.577515  525.992676\n",
       "1 1961-02-01  482.322327  524.370728  527.593994\n",
       "2 1961-03-01  530.041992  528.551514  542.048462\n",
       "3 1961-04-01  548.791016  547.359619  587.958862"
      ]
     },
     "execution_count": 40,
     "metadata": {},
     "output_type": "execute_result"
    }
   ],
   "source": [
    "forecast = m.predict(future, raw=True, decompose=False)\n",
    "forecast"
   ]
  },
  {
   "cell_type": "markdown",
   "id": "56a7ff91-562d-4bfd-a2ba-17de298b4606",
   "metadata": {},
   "source": [
    "... and as an array"
   ]
  },
  {
   "cell_type": "code",
   "execution_count": 42,
   "id": "777932c7-09a0-4f86-9cc2-0485f78f96f8",
   "metadata": {},
   "outputs": [
    {
     "data": {
      "text/plain": [
       "array([[452.4633 , 465.57755, 525.9927 ]], dtype=float32)"
      ]
     },
     "execution_count": 42,
     "metadata": {},
     "output_type": "execute_result"
    }
   ],
   "source": [
    "dates, predicted, components = m._predict_raw(future)\n",
    "predicted"
   ]
  },
  {
   "cell_type": "code",
   "execution_count": 43,
   "id": "fc16bfe9-f8b0-4ace-93bf-a2b15c78897a",
   "metadata": {},
   "outputs": [
    {
     "name": "stdout",
     "output_type": "stream",
     "text": [
      "rm: cannot remove 'tmp-data': No such file or directory\n"
     ]
    }
   ],
   "source": [
    "# remove temporary data folder.\n",
    "!rm -r tmp-data"
   ]
  },
  {
   "cell_type": "code",
   "execution_count": null,
   "id": "b87accb7-b5b2-43d9-a072-d85c891b0478",
   "metadata": {},
   "outputs": [],
   "source": []
  },
  {
   "cell_type": "code",
   "execution_count": null,
   "id": "bb1763f3-8bf2-4d29-a19d-25b46dee9413",
   "metadata": {},
   "outputs": [],
   "source": []
  }
 ],
 "metadata": {
  "kernelspec": {
   "display_name": "np-dev",
   "language": "python",
   "name": "np-dev"
  },
  "language_info": {
   "codemirror_mode": {
    "name": "ipython",
    "version": 3
   },
   "file_extension": ".py",
   "mimetype": "text/x-python",
   "name": "python",
   "nbconvert_exporter": "python",
   "pygments_lexer": "ipython3",
   "version": "3.9.5"
  }
 },
 "nbformat": 4,
 "nbformat_minor": 5
}
