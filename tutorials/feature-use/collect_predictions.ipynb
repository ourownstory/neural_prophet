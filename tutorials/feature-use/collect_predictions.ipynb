{
 "cells": [
  {
   "cell_type": "code",
   "execution_count": 1,
   "id": "dc722653-e984-4044-bff4-589311e45b4f",
   "metadata": {},
   "outputs": [],
   "source": [
    "from neuralprophet import NeuralProphet\n",
    "import numpy as np\n",
    "import pandas as pd\n",
    "import os"
   ]
  },
  {
   "cell_type": "code",
   "execution_count": 2,
   "id": "02217707-dda6-4cbd-98a1-2203779ec959",
   "metadata": {},
   "outputs": [],
   "source": [
    "# %%capture\n",
    "# # create temporary data folder and download data\n",
    "# !rm -r tmp-data\n",
    "# !mkdir tmp-data\n",
    "# !wget -P tmp-data https://raw.githubusercontent.com/ourownstory/neuralprophet-data/main/datasets/air_passengers.csv\n",
    "# os.listdir('tmp-data')"
   ]
  },
  {
   "cell_type": "code",
   "execution_count": 4,
   "id": "863bf403-5810-491e-922c-9237d81673d7",
   "metadata": {},
   "outputs": [],
   "source": [
    "# air_passengers_df = pd.read_csv(os.path.join('tmp-data', 'air_passengers.csv'))\n",
    "# df = air_passengers_df\n",
    "\n",
    "df = pd.read_csv(\"../../tests/test-data/air_passengers.csv\")"
   ]
  },
  {
   "cell_type": "code",
   "execution_count": 5,
   "id": "db4f3490-2652-4fd5-8b27-bd6d6b88bb67",
   "metadata": {},
   "outputs": [
    {
     "name": "stderr",
     "output_type": "stream",
     "text": [
      "INFO - (NP.utils.set_auto_seasonalities) - Disabling weekly seasonality. Run NeuralProphet with weekly_seasonality=True to override this.\n",
      "INFO - (NP.utils.set_auto_seasonalities) - Disabling daily seasonality. Run NeuralProphet with daily_seasonality=True to override this.\n",
      "INFO - (NP.config.set_auto_batch_epoch) - Auto-set batch_size to 16\n",
      "INFO - (NP.config.set_auto_batch_epoch) - Auto-set epochs to 292\n",
      "INFO - (NP.utils_torch.lr_range_test) - lr-range-test results: steep: 3.67E-02, min: 2.23E+00\n",
      "INFO - (NP.utils_torch.lr_range_test) - learning rate range test selected lr: 5.67E-01\n"
     ]
    }
   ],
   "source": [
    "%%capture\n",
    "m = NeuralProphet(n_lags=5, n_forecasts=3)\n",
    "metrics_train = m.fit(df=df, freq=\"MS\")"
   ]
  },
  {
   "cell_type": "markdown",
   "id": "5d621caf-b601-43ca-a64b-a1d7be7453c0",
   "metadata": {},
   "source": [
    "# Collect in-sample predictions"
   ]
  },
  {
   "cell_type": "code",
   "execution_count": 6,
   "id": "8ffc7c44-87b2-4282-bdea-f0bc2969360d",
   "metadata": {},
   "outputs": [],
   "source": [
    "future = df.copy(deep=True)"
   ]
  },
  {
   "cell_type": "markdown",
   "id": "3d2dc84d-c388-4b59-8fe3-89633e9671fe",
   "metadata": {},
   "source": [
    "## Predictions sorted based on forecast target\n",
    "Calling `predict`, we get a `df_forecast` where each `'yhat<i>'` refers to the `<i>` -step-ahead prediction for **this row's datetime being the target**.\n",
    "Here, `<i>`  refers to the age of the prediction.\n",
    "\n",
    "e.g. `yhat3` is the prediction for this datetime, predicted 3 steps ago, it is \"3 steps old\".\n",
    "\n",
    "Note that the last row `1961-3-01` only has a `yhat3`, which was forecasted at the last location with data `1960-12-01`.\n",
    "Because we lack inputs after that location, we do not have more recent predictions `yhat1` from `1961-2-01` nor  `yhat2` from `1961-1-01`.\n",
    "\n",
    "We also get the individual forecast components, which also refer to their respective contrigution to `yhat<i>`, forecasted `<i>` steps ago. \n",
    "\n",
    "Components without an added number are only time-dependent or based on future regressors, neither are lagged, and thus a single value."
   ]
  },
  {
   "cell_type": "code",
   "execution_count": 7,
   "id": "7a1b8a10-9708-45b9-9f68-1a4be0dd1ee9",
   "metadata": {},
   "outputs": [
    {
     "data": {
      "text/html": [
       "<div>\n",
       "<style scoped>\n",
       "    .dataframe tbody tr th:only-of-type {\n",
       "        vertical-align: middle;\n",
       "    }\n",
       "\n",
       "    .dataframe tbody tr th {\n",
       "        vertical-align: top;\n",
       "    }\n",
       "\n",
       "    .dataframe thead th {\n",
       "        text-align: right;\n",
       "    }\n",
       "</style>\n",
       "<table border=\"1\" class=\"dataframe\">\n",
       "  <thead>\n",
       "    <tr style=\"text-align: right;\">\n",
       "      <th></th>\n",
       "      <th>ds</th>\n",
       "      <th>y</th>\n",
       "      <th>yhat1</th>\n",
       "      <th>residual1</th>\n",
       "      <th>yhat2</th>\n",
       "      <th>residual2</th>\n",
       "      <th>yhat3</th>\n",
       "      <th>residual3</th>\n",
       "      <th>ar1</th>\n",
       "      <th>ar2</th>\n",
       "      <th>ar3</th>\n",
       "      <th>trend</th>\n",
       "      <th>season_yearly</th>\n",
       "    </tr>\n",
       "  </thead>\n",
       "  <tbody>\n",
       "    <tr>\n",
       "      <th>142</th>\n",
       "      <td>1960-11-01</td>\n",
       "      <td>390</td>\n",
       "      <td>409.930786</td>\n",
       "      <td>19.930786</td>\n",
       "      <td>408.954346</td>\n",
       "      <td>18.954346</td>\n",
       "      <td>420.211639</td>\n",
       "      <td>30.211639</td>\n",
       "      <td>-260.531158</td>\n",
       "      <td>-261.507629</td>\n",
       "      <td>-250.250305</td>\n",
       "      <td>703.888672</td>\n",
       "      <td>-33.426682</td>\n",
       "    </tr>\n",
       "    <tr>\n",
       "      <th>143</th>\n",
       "      <td>1960-12-01</td>\n",
       "      <td>432</td>\n",
       "      <td>422.386444</td>\n",
       "      <td>-9.613556</td>\n",
       "      <td>440.352509</td>\n",
       "      <td>8.352509</td>\n",
       "      <td>440.08432</td>\n",
       "      <td>8.08432</td>\n",
       "      <td>-300.877869</td>\n",
       "      <td>-282.911774</td>\n",
       "      <td>-283.179962</td>\n",
       "      <td>710.580261</td>\n",
       "      <td>12.684018</td>\n",
       "    </tr>\n",
       "    <tr>\n",
       "      <th>144</th>\n",
       "      <td>1961-01-01</td>\n",
       "      <td>None</td>\n",
       "      <td>451.373566</td>\n",
       "      <td>NaN</td>\n",
       "      <td>444.720123</td>\n",
       "      <td>NaN</td>\n",
       "      <td>458.65033</td>\n",
       "      <td>NaN</td>\n",
       "      <td>-270.423492</td>\n",
       "      <td>-277.076935</td>\n",
       "      <td>-263.146729</td>\n",
       "      <td>717.494934</td>\n",
       "      <td>4.3021</td>\n",
       "    </tr>\n",
       "    <tr>\n",
       "      <th>145</th>\n",
       "      <td>1961-02-01</td>\n",
       "      <td>None</td>\n",
       "      <td>None</td>\n",
       "      <td>NaN</td>\n",
       "      <td>463.23172</td>\n",
       "      <td>NaN</td>\n",
       "      <td>456.139069</td>\n",
       "      <td>NaN</td>\n",
       "      <td>None</td>\n",
       "      <td>-235.507568</td>\n",
       "      <td>-242.600174</td>\n",
       "      <td>724.409668</td>\n",
       "      <td>-25.67042</td>\n",
       "    </tr>\n",
       "    <tr>\n",
       "      <th>146</th>\n",
       "      <td>1961-03-01</td>\n",
       "      <td>None</td>\n",
       "      <td>None</td>\n",
       "      <td>NaN</td>\n",
       "      <td>None</td>\n",
       "      <td>NaN</td>\n",
       "      <td>524.548218</td>\n",
       "      <td>NaN</td>\n",
       "      <td>None</td>\n",
       "      <td>None</td>\n",
       "      <td>-187.90477</td>\n",
       "      <td>730.655334</td>\n",
       "      <td>-18.20232</td>\n",
       "    </tr>\n",
       "  </tbody>\n",
       "</table>\n",
       "</div>"
      ],
      "text/plain": [
       "            ds     y       yhat1  residual1       yhat2  residual2  \\\n",
       "142 1960-11-01   390  409.930786  19.930786  408.954346  18.954346   \n",
       "143 1960-12-01   432  422.386444  -9.613556  440.352509   8.352509   \n",
       "144 1961-01-01  None  451.373566        NaN  444.720123        NaN   \n",
       "145 1961-02-01  None        None        NaN   463.23172        NaN   \n",
       "146 1961-03-01  None        None        NaN        None        NaN   \n",
       "\n",
       "          yhat3  residual3         ar1         ar2         ar3       trend  \\\n",
       "142  420.211639  30.211639 -260.531158 -261.507629 -250.250305  703.888672   \n",
       "143   440.08432    8.08432 -300.877869 -282.911774 -283.179962  710.580261   \n",
       "144   458.65033        NaN -270.423492 -277.076935 -263.146729  717.494934   \n",
       "145  456.139069        NaN        None -235.507568 -242.600174  724.409668   \n",
       "146  524.548218        NaN        None        None  -187.90477  730.655334   \n",
       "\n",
       "    season_yearly  \n",
       "142    -33.426682  \n",
       "143     12.684018  \n",
       "144        4.3021  \n",
       "145     -25.67042  \n",
       "146     -18.20232  "
      ]
     },
     "execution_count": 7,
     "metadata": {},
     "output_type": "execute_result"
    }
   ],
   "source": [
    "forecast = m.predict(future)\n",
    "forecast.tail()"
   ]
  },
  {
   "cell_type": "markdown",
   "id": "0a9c7316-95fd-420e-ac51-1fdf34bd5c51",
   "metadata": {},
   "source": [
    "## Predictions based on forecast start\n",
    "Calling `predict_raw`, we get a `df` where each `'step<i>'` refers to the `<i>`th step-ahead prediction **starting at this row's datetime**.\n",
    "Here, `<i>`  refers to how many steps ahead the prediction is targeted at.\n",
    "\n",
    "e.g. `step0` is the prediction for this datetime. `step1` is the prediction for the next datetime. \n",
    "\n",
    "All the predictions of a particular row were made at the same time: One step before the rows datestamp."
   ]
  },
  {
   "cell_type": "code",
   "execution_count": 8,
   "id": "39e3486e-c86d-4952-a8cd-339817b905fa",
   "metadata": {},
   "outputs": [
    {
     "name": "stderr",
     "output_type": "stream",
     "text": [
      "WARNING - (NP.forecaster.predict) - raw forecasts are incompatible with plotting utilities\n"
     ]
    },
    {
     "data": {
      "text/html": [
       "<div>\n",
       "<style scoped>\n",
       "    .dataframe tbody tr th:only-of-type {\n",
       "        vertical-align: middle;\n",
       "    }\n",
       "\n",
       "    .dataframe tbody tr th {\n",
       "        vertical-align: top;\n",
       "    }\n",
       "\n",
       "    .dataframe thead th {\n",
       "        text-align: right;\n",
       "    }\n",
       "</style>\n",
       "<table border=\"1\" class=\"dataframe\">\n",
       "  <thead>\n",
       "    <tr style=\"text-align: right;\">\n",
       "      <th></th>\n",
       "      <th>ds</th>\n",
       "      <th>step0</th>\n",
       "      <th>step1</th>\n",
       "      <th>step2</th>\n",
       "    </tr>\n",
       "  </thead>\n",
       "  <tbody>\n",
       "    <tr>\n",
       "      <th>135</th>\n",
       "      <td>1960-09-01</td>\n",
       "      <td>510.894653</td>\n",
       "      <td>470.128998</td>\n",
       "      <td>420.211639</td>\n",
       "    </tr>\n",
       "    <tr>\n",
       "      <th>136</th>\n",
       "      <td>1960-10-01</td>\n",
       "      <td>465.815521</td>\n",
       "      <td>408.954346</td>\n",
       "      <td>440.084320</td>\n",
       "    </tr>\n",
       "    <tr>\n",
       "      <th>137</th>\n",
       "      <td>1960-11-01</td>\n",
       "      <td>409.930786</td>\n",
       "      <td>440.352509</td>\n",
       "      <td>458.650330</td>\n",
       "    </tr>\n",
       "    <tr>\n",
       "      <th>138</th>\n",
       "      <td>1960-12-01</td>\n",
       "      <td>422.386444</td>\n",
       "      <td>444.720123</td>\n",
       "      <td>456.139069</td>\n",
       "    </tr>\n",
       "    <tr>\n",
       "      <th>139</th>\n",
       "      <td>1961-01-01</td>\n",
       "      <td>451.373566</td>\n",
       "      <td>463.231720</td>\n",
       "      <td>524.548218</td>\n",
       "    </tr>\n",
       "  </tbody>\n",
       "</table>\n",
       "</div>"
      ],
      "text/plain": [
       "            ds       step0       step1       step2\n",
       "135 1960-09-01  510.894653  470.128998  420.211639\n",
       "136 1960-10-01  465.815521  408.954346  440.084320\n",
       "137 1960-11-01  409.930786  440.352509  458.650330\n",
       "138 1960-12-01  422.386444  444.720123  456.139069\n",
       "139 1961-01-01  451.373566  463.231720  524.548218"
      ]
     },
     "execution_count": 8,
     "metadata": {},
     "output_type": "execute_result"
    }
   ],
   "source": [
    "forecast = m.predict(future, decompose=False, raw=True)\n",
    "forecast.tail()"
   ]
  },
  {
   "cell_type": "markdown",
   "id": "953b82fd-3e5a-445c-b276-89607281d5f7",
   "metadata": {},
   "source": [
    "Note that the last row contains the last possible forecast, forecasting `1961-1-01`, `1961-2-01` and `1961-3-01` with data available at `1960-12-01`.\n",
    "\n",
    "\n",
    "Setting `decompose=True` will include the individual forecast components, which also refer to their respective contrigution to `step<i>` into the future. "
   ]
  },
  {
   "cell_type": "code",
   "execution_count": 9,
   "id": "f86f16de-9535-4573-8c09-8033b7f27ee3",
   "metadata": {},
   "outputs": [
    {
     "name": "stderr",
     "output_type": "stream",
     "text": [
      "WARNING - (NP.forecaster.predict) - raw forecasts are incompatible with plotting utilities\n"
     ]
    },
    {
     "data": {
      "text/html": [
       "<div>\n",
       "<style scoped>\n",
       "    .dataframe tbody tr th:only-of-type {\n",
       "        vertical-align: middle;\n",
       "    }\n",
       "\n",
       "    .dataframe tbody tr th {\n",
       "        vertical-align: top;\n",
       "    }\n",
       "\n",
       "    .dataframe thead th {\n",
       "        text-align: right;\n",
       "    }\n",
       "</style>\n",
       "<table border=\"1\" class=\"dataframe\">\n",
       "  <thead>\n",
       "    <tr style=\"text-align: right;\">\n",
       "      <th></th>\n",
       "      <th>ds</th>\n",
       "      <th>step0</th>\n",
       "      <th>step1</th>\n",
       "      <th>step2</th>\n",
       "      <th>trend0</th>\n",
       "      <th>trend1</th>\n",
       "      <th>trend2</th>\n",
       "      <th>season_yearly0</th>\n",
       "      <th>season_yearly1</th>\n",
       "      <th>season_yearly2</th>\n",
       "      <th>ar0</th>\n",
       "      <th>ar1</th>\n",
       "      <th>ar2</th>\n",
       "    </tr>\n",
       "  </thead>\n",
       "  <tbody>\n",
       "    <tr>\n",
       "      <th>135</th>\n",
       "      <td>1960-09-01</td>\n",
       "      <td>510.894653</td>\n",
       "      <td>470.128998</td>\n",
       "      <td>420.211639</td>\n",
       "      <td>690.282227</td>\n",
       "      <td>696.973877</td>\n",
       "      <td>703.888672</td>\n",
       "      <td>3.070502</td>\n",
       "      <td>-19.491608</td>\n",
       "      <td>-33.426682</td>\n",
       "      <td>-182.458145</td>\n",
       "      <td>-207.353271</td>\n",
       "      <td>-250.250305</td>\n",
       "    </tr>\n",
       "    <tr>\n",
       "      <th>136</th>\n",
       "      <td>1960-10-01</td>\n",
       "      <td>465.815521</td>\n",
       "      <td>408.954346</td>\n",
       "      <td>440.084320</td>\n",
       "      <td>696.973877</td>\n",
       "      <td>703.888672</td>\n",
       "      <td>710.580261</td>\n",
       "      <td>-19.491608</td>\n",
       "      <td>-33.426682</td>\n",
       "      <td>12.684018</td>\n",
       "      <td>-211.666763</td>\n",
       "      <td>-261.507629</td>\n",
       "      <td>-283.179962</td>\n",
       "    </tr>\n",
       "    <tr>\n",
       "      <th>137</th>\n",
       "      <td>1960-11-01</td>\n",
       "      <td>409.930786</td>\n",
       "      <td>440.352509</td>\n",
       "      <td>458.650330</td>\n",
       "      <td>703.888672</td>\n",
       "      <td>710.580261</td>\n",
       "      <td>717.494934</td>\n",
       "      <td>-33.426682</td>\n",
       "      <td>12.684018</td>\n",
       "      <td>4.302100</td>\n",
       "      <td>-260.531158</td>\n",
       "      <td>-282.911774</td>\n",
       "      <td>-263.146729</td>\n",
       "    </tr>\n",
       "    <tr>\n",
       "      <th>138</th>\n",
       "      <td>1960-12-01</td>\n",
       "      <td>422.386444</td>\n",
       "      <td>444.720123</td>\n",
       "      <td>456.139069</td>\n",
       "      <td>710.580261</td>\n",
       "      <td>717.494934</td>\n",
       "      <td>724.409668</td>\n",
       "      <td>12.684018</td>\n",
       "      <td>4.302100</td>\n",
       "      <td>-25.670420</td>\n",
       "      <td>-300.877869</td>\n",
       "      <td>-277.076935</td>\n",
       "      <td>-242.600174</td>\n",
       "    </tr>\n",
       "    <tr>\n",
       "      <th>139</th>\n",
       "      <td>1961-01-01</td>\n",
       "      <td>451.373566</td>\n",
       "      <td>463.231720</td>\n",
       "      <td>524.548218</td>\n",
       "      <td>717.494934</td>\n",
       "      <td>724.409668</td>\n",
       "      <td>730.655334</td>\n",
       "      <td>4.302100</td>\n",
       "      <td>-25.670420</td>\n",
       "      <td>-18.202320</td>\n",
       "      <td>-270.423492</td>\n",
       "      <td>-235.507568</td>\n",
       "      <td>-187.904770</td>\n",
       "    </tr>\n",
       "  </tbody>\n",
       "</table>\n",
       "</div>"
      ],
      "text/plain": [
       "            ds       step0       step1       step2      trend0      trend1  \\\n",
       "135 1960-09-01  510.894653  470.128998  420.211639  690.282227  696.973877   \n",
       "136 1960-10-01  465.815521  408.954346  440.084320  696.973877  703.888672   \n",
       "137 1960-11-01  409.930786  440.352509  458.650330  703.888672  710.580261   \n",
       "138 1960-12-01  422.386444  444.720123  456.139069  710.580261  717.494934   \n",
       "139 1961-01-01  451.373566  463.231720  524.548218  717.494934  724.409668   \n",
       "\n",
       "         trend2  season_yearly0  season_yearly1  season_yearly2         ar0  \\\n",
       "135  703.888672        3.070502      -19.491608      -33.426682 -182.458145   \n",
       "136  710.580261      -19.491608      -33.426682       12.684018 -211.666763   \n",
       "137  717.494934      -33.426682       12.684018        4.302100 -260.531158   \n",
       "138  724.409668       12.684018        4.302100      -25.670420 -300.877869   \n",
       "139  730.655334        4.302100      -25.670420      -18.202320 -270.423492   \n",
       "\n",
       "            ar1         ar2  \n",
       "135 -207.353271 -250.250305  \n",
       "136 -261.507629 -283.179962  \n",
       "137 -282.911774 -263.146729  \n",
       "138 -277.076935 -242.600174  \n",
       "139 -235.507568 -187.904770  "
      ]
     },
     "execution_count": 9,
     "metadata": {},
     "output_type": "execute_result"
    }
   ],
   "source": [
    "forecast = m.predict(future, decompose=True, raw=True)\n",
    "forecast.tail()"
   ]
  },
  {
   "cell_type": "markdown",
   "id": "83584895-99c0-4c90-baca-73e946258f3f",
   "metadata": {},
   "source": [
    "### Advanced: Get predictions based on forecast start as arrays\n",
    "This function was not meant to be used directly, but if you have a specific need, it may be useful to get the values directly as arrays.\n",
    "The returned predictions are also based on forecast origin."
   ]
  },
  {
   "cell_type": "code",
   "execution_count": 10,
   "id": "71f4a3ea-7f8d-4fe9-a1a8-ebafe6585c75",
   "metadata": {},
   "outputs": [],
   "source": [
    "future = m.prepare_dataframe_to_predict(df)\n",
    "dates, predicted, components = m._predict_raw(future, include_components=True)"
   ]
  },
  {
   "cell_type": "code",
   "execution_count": 11,
   "id": "ae18bd3a-72c2-4361-a2cc-689c47936134",
   "metadata": {},
   "outputs": [
    {
     "data": {
      "text/plain": [
       "137   1960-06-01\n",
       "138   1960-07-01\n",
       "139   1960-08-01\n",
       "140   1960-09-01\n",
       "141   1960-10-01\n",
       "Name: ds, dtype: datetime64[ns]"
      ]
     },
     "execution_count": 11,
     "metadata": {},
     "output_type": "execute_result"
    }
   ],
   "source": [
    "dates[-5:]"
   ]
  },
  {
   "cell_type": "code",
   "execution_count": 12,
   "id": "5f438921-168a-4d09-86bd-2e8dc3e98f22",
   "metadata": {},
   "outputs": [
    {
     "data": {
      "text/plain": [
       "array([[526.6588 , 570.90094, 563.1465 ],\n",
       "       [586.65533, 576.89435, 511.73834],\n",
       "       [583.13544, 524.6257 , 478.01617],\n",
       "       [510.89465, 470.129  , 420.21164],\n",
       "       [465.81552, 408.95435, 440.08432]], dtype=float32)"
      ]
     },
     "execution_count": 12,
     "metadata": {},
     "output_type": "execute_result"
    }
   ],
   "source": [
    "predicted[-5:]"
   ]
  },
  {
   "cell_type": "code",
   "execution_count": 13,
   "id": "f4686019-8954-495e-a387-cfdabd1e52e8",
   "metadata": {},
   "outputs": [
    {
     "data": {
      "text/plain": [
       "[('trend',\n",
       "  array([[669.7612 , 676.4528 , 683.3676 ],\n",
       "         [676.4528 , 683.3676 , 690.2822 ],\n",
       "         [683.3676 , 690.2822 , 696.9739 ],\n",
       "         [690.2822 , 696.9739 , 703.8887 ],\n",
       "         [696.9739 , 703.8887 , 710.58026]], dtype=float32)),\n",
       " ('season_yearly',\n",
       "  array([[ 16.571056,  58.133564,  58.72041 ],\n",
       "         [ 58.133564,  58.72041 ,   3.070502],\n",
       "         [ 58.72041 ,   3.070502, -19.491608],\n",
       "         [  3.070502, -19.491608, -33.42668 ],\n",
       "         [-19.491608, -33.42668 ,  12.684018]], dtype=float32)),\n",
       " ('ar',\n",
       "  array([[-159.67343, -163.68549, -178.94156],\n",
       "         [-147.93109, -165.19366, -181.6144 ],\n",
       "         [-158.95258, -168.72707, -199.4661 ],\n",
       "         [-182.45815, -207.35327, -250.2503 ],\n",
       "         [-211.66676, -261.50763, -283.17996]], dtype=float32))]"
      ]
     },
     "execution_count": 13,
     "metadata": {},
     "output_type": "execute_result"
    }
   ],
   "source": [
    "[(key, values[-5:]) for key, values in components.items()]"
   ]
  },
  {
   "cell_type": "markdown",
   "id": "c1d12b4a-13a5-4eea-9a41-da1337bc7b99",
   "metadata": {},
   "source": [
    "# Collect out-of-sample predictions\n",
    "This is how you can extend predictions into the unknown future:"
   ]
  },
  {
   "cell_type": "code",
   "execution_count": 14,
   "id": "276f79da-e024-4c12-8a68-dc59885a3e92",
   "metadata": {},
   "outputs": [],
   "source": [
    "future = m.make_future_dataframe(df) # periods=m.n_forecasts, n_historic_predictions=False"
   ]
  },
  {
   "cell_type": "markdown",
   "id": "8ab68b04-a6b8-45d1-a9bd-8c4d33d16a40",
   "metadata": {},
   "source": [
    "Now, the forecast dataframe only contains predictions about the yet unobserved future."
   ]
  },
  {
   "cell_type": "markdown",
   "id": "6cbb621e-4abd-406b-8c16-23361d9aac15",
   "metadata": {},
   "source": [
    "## Predictions based on forecast target"
   ]
  },
  {
   "cell_type": "code",
   "execution_count": 15,
   "id": "97275377-ca98-417a-9234-897f48cdfd57",
   "metadata": {},
   "outputs": [
    {
     "data": {
      "text/html": [
       "<div>\n",
       "<style scoped>\n",
       "    .dataframe tbody tr th:only-of-type {\n",
       "        vertical-align: middle;\n",
       "    }\n",
       "\n",
       "    .dataframe tbody tr th {\n",
       "        vertical-align: top;\n",
       "    }\n",
       "\n",
       "    .dataframe thead th {\n",
       "        text-align: right;\n",
       "    }\n",
       "</style>\n",
       "<table border=\"1\" class=\"dataframe\">\n",
       "  <thead>\n",
       "    <tr style=\"text-align: right;\">\n",
       "      <th></th>\n",
       "      <th>ds</th>\n",
       "      <th>y</th>\n",
       "      <th>yhat1</th>\n",
       "      <th>residual1</th>\n",
       "      <th>yhat2</th>\n",
       "      <th>residual2</th>\n",
       "      <th>yhat3</th>\n",
       "      <th>residual3</th>\n",
       "      <th>ar1</th>\n",
       "      <th>ar2</th>\n",
       "      <th>ar3</th>\n",
       "      <th>trend</th>\n",
       "      <th>season_yearly</th>\n",
       "    </tr>\n",
       "  </thead>\n",
       "  <tbody>\n",
       "    <tr>\n",
       "      <th>5</th>\n",
       "      <td>1961-01-01</td>\n",
       "      <td>NaN</td>\n",
       "      <td>451.373596</td>\n",
       "      <td>NaN</td>\n",
       "      <td>None</td>\n",
       "      <td>NaN</td>\n",
       "      <td>None</td>\n",
       "      <td>NaN</td>\n",
       "      <td>-270.423462</td>\n",
       "      <td>None</td>\n",
       "      <td>None</td>\n",
       "      <td>717.494934</td>\n",
       "      <td>4.3021</td>\n",
       "    </tr>\n",
       "    <tr>\n",
       "      <th>6</th>\n",
       "      <td>1961-02-01</td>\n",
       "      <td>NaN</td>\n",
       "      <td>None</td>\n",
       "      <td>NaN</td>\n",
       "      <td>463.23172</td>\n",
       "      <td>NaN</td>\n",
       "      <td>None</td>\n",
       "      <td>NaN</td>\n",
       "      <td>None</td>\n",
       "      <td>-235.507568</td>\n",
       "      <td>None</td>\n",
       "      <td>724.409668</td>\n",
       "      <td>-25.67042</td>\n",
       "    </tr>\n",
       "    <tr>\n",
       "      <th>7</th>\n",
       "      <td>1961-03-01</td>\n",
       "      <td>NaN</td>\n",
       "      <td>None</td>\n",
       "      <td>NaN</td>\n",
       "      <td>None</td>\n",
       "      <td>NaN</td>\n",
       "      <td>524.548218</td>\n",
       "      <td>NaN</td>\n",
       "      <td>None</td>\n",
       "      <td>None</td>\n",
       "      <td>-187.90477</td>\n",
       "      <td>730.655334</td>\n",
       "      <td>-18.20232</td>\n",
       "    </tr>\n",
       "  </tbody>\n",
       "</table>\n",
       "</div>"
      ],
      "text/plain": [
       "          ds   y       yhat1 residual1      yhat2 residual2       yhat3  \\\n",
       "5 1961-01-01 NaN  451.373596       NaN       None       NaN        None   \n",
       "6 1961-02-01 NaN        None       NaN  463.23172       NaN        None   \n",
       "7 1961-03-01 NaN        None       NaN       None       NaN  524.548218   \n",
       "\n",
       "  residual3         ar1         ar2        ar3       trend season_yearly  \n",
       "5       NaN -270.423462        None       None  717.494934        4.3021  \n",
       "6       NaN        None -235.507568       None  724.409668     -25.67042  \n",
       "7       NaN        None        None -187.90477  730.655334     -18.20232  "
      ]
     },
     "execution_count": 15,
     "metadata": {},
     "output_type": "execute_result"
    }
   ],
   "source": [
    "forecast = m.predict(future)\n",
    "forecast.tail(3)"
   ]
  },
  {
   "cell_type": "markdown",
   "id": "ccd0af24-2aa1-45dc-884f-f27fd71818a2",
   "metadata": {},
   "source": [
    "## Predictions based on forecast start\n",
    "We can also get the forecasts based on the forecast start"
   ]
  },
  {
   "cell_type": "code",
   "execution_count": 16,
   "id": "d7fa8af1-c921-4e3c-96e8-d004a1adc751",
   "metadata": {},
   "outputs": [
    {
     "name": "stderr",
     "output_type": "stream",
     "text": [
      "WARNING - (NP.forecaster.predict) - raw forecasts are incompatible with plotting utilities\n"
     ]
    },
    {
     "data": {
      "text/html": [
       "<div>\n",
       "<style scoped>\n",
       "    .dataframe tbody tr th:only-of-type {\n",
       "        vertical-align: middle;\n",
       "    }\n",
       "\n",
       "    .dataframe tbody tr th {\n",
       "        vertical-align: top;\n",
       "    }\n",
       "\n",
       "    .dataframe thead th {\n",
       "        text-align: right;\n",
       "    }\n",
       "</style>\n",
       "<table border=\"1\" class=\"dataframe\">\n",
       "  <thead>\n",
       "    <tr style=\"text-align: right;\">\n",
       "      <th></th>\n",
       "      <th>ds</th>\n",
       "      <th>step0</th>\n",
       "      <th>step1</th>\n",
       "      <th>step2</th>\n",
       "    </tr>\n",
       "  </thead>\n",
       "  <tbody>\n",
       "    <tr>\n",
       "      <th>0</th>\n",
       "      <td>1961-01-01</td>\n",
       "      <td>451.373596</td>\n",
       "      <td>463.23172</td>\n",
       "      <td>524.548218</td>\n",
       "    </tr>\n",
       "  </tbody>\n",
       "</table>\n",
       "</div>"
      ],
      "text/plain": [
       "          ds       step0      step1       step2\n",
       "0 1961-01-01  451.373596  463.23172  524.548218"
      ]
     },
     "execution_count": 16,
     "metadata": {},
     "output_type": "execute_result"
    }
   ],
   "source": [
    "forecast = m.predict(future, raw=True, decompose=False)\n",
    "forecast"
   ]
  },
  {
   "cell_type": "markdown",
   "id": "56a7ff91-562d-4bfd-a2ba-17de298b4606",
   "metadata": {},
   "source": [
    "... and as an array"
   ]
  },
  {
   "cell_type": "code",
   "execution_count": 17,
   "id": "777932c7-09a0-4f86-9cc2-0485f78f96f8",
   "metadata": {},
   "outputs": [
    {
     "data": {
      "text/plain": [
       "array([[451.3736 , 463.23172, 524.5482 ]], dtype=float32)"
      ]
     },
     "execution_count": 17,
     "metadata": {},
     "output_type": "execute_result"
    }
   ],
   "source": [
    "dates, predicted, components = m._predict_raw(future)\n",
    "predicted"
   ]
  },
  {
   "cell_type": "code",
   "execution_count": 18,
   "id": "fc16bfe9-f8b0-4ace-93bf-a2b15c78897a",
   "metadata": {},
   "outputs": [],
   "source": [
    "# remove temporary data folder.\n",
    "!rm -r tmp-data"
   ]
  },
  {
   "cell_type": "code",
   "execution_count": null,
   "id": "b87accb7-b5b2-43d9-a072-d85c891b0478",
   "metadata": {},
   "outputs": [],
   "source": []
  },
  {
   "cell_type": "code",
   "execution_count": null,
   "id": "bb1763f3-8bf2-4d29-a19d-25b46dee9413",
   "metadata": {},
   "outputs": [],
   "source": []
  }
 ],
 "metadata": {
  "kernelspec": {
   "display_name": "np-dev",
   "language": "python",
   "name": "np-dev"
  },
  "language_info": {
   "codemirror_mode": {
    "name": "ipython",
    "version": 3
   },
   "file_extension": ".py",
   "mimetype": "text/x-python",
   "name": "python",
   "nbconvert_exporter": "python",
   "pygments_lexer": "ipython3",
   "version": "3.9.5"
  }
 },
 "nbformat": 4,
 "nbformat_minor": 5
}
