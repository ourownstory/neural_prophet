{
 "cells": [
  {
   "cell_type": "markdown",
   "metadata": {
    "collapsed": false
   },
   "source": [
    "[![Open In Colab](https://colab.research.google.com/assets/colab-badge.svg)](https://colab.research.google.com/github/ourownstory/neural_prophet/blob/main/tutorials/feature-use/conditional_seasonality_peyton.ipynb)"
   ]
  },
  {
   "cell_type": "markdown",
   "metadata": {
    "collapsed": false
   },
   "source": [
    "# Conditional Seasonality\n",
    "Per default, NeuralProphet models yearly, weekly, and daily seasonalities that remain static throughout all timestamps.\n",
    "With conditional seasonality, we enable the model to fit seasonalities to certain portions of the dataset."
   ]
  },
  {
   "cell_type": "code",
   "execution_count": 1,
   "metadata": {
    "collapsed": false,
    "pycharm": {
     "name": "#%%\n"
    }
   },
   "outputs": [
    {
     "name": "stderr",
     "output_type": "stream",
     "text": [
      "/Users/leoniewagner/Documents/Uni/Stanford/dev_code/neural_prophet/.venv/lib/python3.9/site-packages/plotly_resampler/aggregation/aggregators.py:25: UserWarning: Could not import lttbc; will use a (slower) python alternative.\n",
      "  warnings.warn(\"Could not import lttbc; will use a (slower) python alternative.\")\n"
     ]
    }
   ],
   "source": [
    "if \"google.colab\" in str(get_ipython()):\n",
    "    !pip install git+https://github.com/ourownstory/neural_prophet.git@examples_cond_seas # may take a while\n",
    "    #!pip install neuralprophet # much faster, but may not have the latest upgrades/bugfixes\n",
    "\n",
    "import pandas as pd\n",
    "from neuralprophet import NeuralProphet, set_log_level, df_utils\n",
    "\n",
    "set_log_level(\"ERROR\")"
   ]
  },
  {
   "cell_type": "code",
   "execution_count": 2,
   "metadata": {
    "collapsed": false,
    "pycharm": {
     "name": "#%%\n"
    }
   },
   "outputs": [],
   "source": [
    "data_location = \"https://raw.githubusercontent.com/ourownstory/neuralprophet-data/main/datasets/\"\n",
    "df = pd.read_csv(data_location + \"wp_log_peyton_manning.csv\")"
   ]
  },
  {
   "attachments": {},
   "cell_type": "markdown",
   "metadata": {
    "collapsed": false
   },
   "source": [
    "## Custom conditional seasonality\n",
    "For example, we can define two weekly seasonalities: one for on-season football, and one for off-season football.\n",
    "The football season starts in September, and ends after January. We account for this by adding two columns containing binary values (0 and 1) to the input df, depending on whether the condition is activated at a given timestamp or not. Note that also floats between 0..1 can be added to model a softer transition.\n",
    "\n",
    "As we are defining alternative weekly seasonalities, we disable the model's default one."
   ]
  },
  {
   "cell_type": "code",
   "execution_count": 3,
   "metadata": {
    "collapsed": false,
    "pycharm": {
     "name": "#%%\n"
    }
   },
   "outputs": [],
   "source": [
    "df[\"ds\"] = pd.to_datetime(df[\"ds\"])\n",
    "df[\"on_season\"] = df[\"ds\"].apply(lambda x: x.month in [9, 10, 11, 12, 1])\n",
    "df[\"off_season\"] = df[\"ds\"].apply(lambda x: x.month not in [9, 10, 11, 12, 1])"
   ]
  },
  {
   "attachments": {},
   "cell_type": "markdown",
   "metadata": {
    "collapsed": false,
    "tags": []
   },
   "source": [
    "`period=7` implies that we are adding a new weekly seasonality. With the parameter condition_name= we specify to what condition the newly added seasonality shall be fitted"
   ]
  },
  {
   "cell_type": "code",
   "execution_count": 4,
   "metadata": {
    "collapsed": false,
    "pycharm": {
     "name": "#%%\n"
    }
   },
   "outputs": [
    {
     "data": {
      "application/vnd.jupyter.widget-view+json": {
       "model_id": "e3c9d010085240a4a654c8cfc7681d05",
       "version_major": 2,
       "version_minor": 0
      },
      "text/plain": [
       "Finding best initial lr:   0%|          | 0/237 [00:00<?, ?it/s]"
      ]
     },
     "metadata": {},
     "output_type": "display_data"
    },
    {
     "data": {
      "application/vnd.jupyter.widget-view+json": {
       "model_id": "9ddee03c8b054b70abe099ff1c29a73e",
       "version_major": 2,
       "version_minor": 0
      },
      "text/plain": [
       "Training: 0it [00:00, ?it/s]"
      ]
     },
     "metadata": {},
     "output_type": "display_data"
    }
   ],
   "source": [
    "m = NeuralProphet(weekly_seasonality=False)\n",
    "m.add_seasonality(name=\"on_season\", period=7, fourier_order=3, condition_name=\"on_season\")\n",
    "m.add_seasonality(name=\"off_season\", period=7, fourier_order=3, condition_name=\"off_season\")\n",
    "metrics = m.fit(df, freq=\"D\")"
   ]
  },
  {
   "cell_type": "markdown",
   "metadata": {
    "collapsed": false
   },
   "source": [
    "When predicting into the unknown future, the future df must be extended in the same way as the input df."
   ]
  },
  {
   "cell_type": "code",
   "execution_count": 5,
   "metadata": {
    "collapsed": false,
    "pycharm": {
     "name": "#%%\n"
    }
   },
   "outputs": [
    {
     "data": {
      "application/vnd.jupyter.widget-view+json": {
       "model_id": "bdf2ff4584d24ca59badca32ca96c7fa",
       "version_major": 2,
       "version_minor": 0
      },
      "text/plain": [
       "Predicting: 93it [00:00, ?it/s]"
      ]
     },
     "metadata": {},
     "output_type": "display_data"
    }
   ],
   "source": [
    "future = m.make_future_dataframe(df, n_historic_predictions=365, periods=365)\n",
    "future[\"on_season\"] = future[\"ds\"].apply(lambda x: x.month in [9, 10, 11, 12, 1])\n",
    "future[\"off_season\"] = future[\"ds\"].apply(lambda x: x.month not in [9, 10, 11, 12, 1])\n",
    "forecast = m.predict(df=future)"
   ]
  },
  {
   "cell_type": "markdown",
   "metadata": {
    "collapsed": false
   },
   "source": [
    "The plot shows both of the newly added weekly seasonalities. In-season we observe a high during the weekends, while during the week there is no game going on. off-season does not show an increase during the weekend."
   ]
  },
  {
   "cell_type": "code",
   "execution_count": 6,
   "metadata": {
    "collapsed": false,
    "pycharm": {
     "name": "#%%\n"
    }
   },
   "outputs": [
    {
     "data": {
      "application/vnd.jupyter.widget-view+json": {
       "model_id": "6c27abbed94049bf8acd11f87f883715",
       "version_major": 2,
       "version_minor": 0
      },
      "text/plain": [
       "FigureWidgetResampler({\n",
       "    'data': [{'fill': 'none',\n",
       "              'line': {'color': '#2d92ff', 'width': 2},\n",
       "              'mode': 'lines',\n",
       "              'name': 'yearly',\n",
       "              'type': 'scatter',\n",
       "              'uid': '103d0c00-48cc-44c9-aa9b-4a71a89578aa',\n",
       "              'x': array([datetime.datetime(2017, 1, 1, 0, 0),\n",
       "                          datetime.datetime(2017, 1, 2, 0, 0),\n",
       "                          datetime.datetime(2017, 1, 3, 0, 0), ...,\n",
       "                          datetime.datetime(2017, 12, 29, 0, 0),\n",
       "                          datetime.datetime(2017, 12, 30, 0, 0),\n",
       "                          datetime.datetime(2017, 12, 31, 0, 0)], dtype=object),\n",
       "              'xaxis': 'x',\n",
       "              'y': array([0.65676883, 0.68879842, 0.72117885, ..., 0.55781151, 0.5871638 ,\n",
       "                          0.61757601]),\n",
       "              'yaxis': 'y'},\n",
       "             {'fill': 'none',\n",
       "              'line': {'color': '#2d92ff', 'width': 2},\n",
       "              'mode': 'lines',\n",
       "              'name': 'on_season',\n",
       "              'type': 'scatter',\n",
       "              'uid': '897ea3d0-fd6e-4681-bfc1-7256a575e84c',\n",
       "              'x': array([  0,   1,   2,   3,   4,   5,   6,   7,   8,   9,  10,  11,  12,  13,\n",
       "                           14,  15,  16,  17,  18,  19,  20,  21,  22,  23,  24,  25,  26,  27,\n",
       "                           28,  29,  30,  31,  32,  33,  34,  35,  36,  37,  38,  39,  40,  41,\n",
       "                           42,  43,  44,  45,  46,  47,  48,  49,  50,  51,  52,  53,  54,  55,\n",
       "                           56,  57,  58,  59,  60,  61,  62,  63,  64,  65,  66,  67,  68,  69,\n",
       "                           70,  71,  72,  73,  74,  75,  76,  77,  78,  79,  80,  81,  82,  83,\n",
       "                           84,  85,  86,  87,  88,  89,  90,  91,  92,  93,  94,  95,  96,  97,\n",
       "                           98,  99, 100, 101, 102, 103, 104, 105, 106, 107, 108, 109, 110, 111,\n",
       "                          112, 113, 114, 115, 116, 117, 118, 119, 120, 121, 122, 123, 124, 125,\n",
       "                          126, 127, 128, 129, 130, 131, 132, 133, 134, 135, 136, 137, 138, 139,\n",
       "                          140, 141, 142, 143, 144, 145, 146, 147, 148, 149, 150, 151, 152, 153,\n",
       "                          154, 155, 156, 157, 158, 159, 160, 161, 162, 163, 164, 165, 166, 167]),\n",
       "              'xaxis': 'x2',\n",
       "              'y': array([ 0.2620665 ,  0.30506591,  0.34704832,  0.38778272,  0.4270489 ,\n",
       "                           0.46463922,  0.50036019,  0.53403391,  0.56549942,  0.59461372,\n",
       "                           0.6212527 ,  0.64531186,  0.66670678,  0.68537342,  0.70126822,\n",
       "                           0.71436794,  0.72466938,  0.73218884,  0.73696142,  0.73904017,\n",
       "                           0.73849504,  0.73541168,  0.7298902 ,  0.72204368,  0.7119967 ,\n",
       "                           0.69988375,  0.68584757,  0.67003751,  0.65260782,  0.63371595,\n",
       "                           0.61352094,  0.59218178,  0.56985588,  0.54669758,  0.52285682,\n",
       "                           0.49847783,  0.47369803,  0.44864701,  0.42344568,  0.39820556,\n",
       "                           0.37302818,  0.34800476,  0.32321588,  0.29873146,  0.27461079,\n",
       "                           0.25090273,  0.22764612,  0.20487018,  0.1825952 ,  0.16083316,\n",
       "                           0.13958859,  0.11885946,  0.09863807,  0.07891209,  0.05966554,\n",
       "                           0.04087989,  0.02253503,  0.0046103 , -0.0129145 , -0.03005822,\n",
       "                          -0.04683748, -0.0632659 , -0.07935339, -0.09510558, -0.11052331,\n",
       "                          -0.1256023 , -0.1403329 , -0.15469996, -0.16868287, -0.18225569,\n",
       "                          -0.19538741, -0.20804238, -0.22018075, -0.23175915, -0.24273139,\n",
       "                          -0.2530492 , -0.2626632 , -0.27152377, -0.27958203, -0.28679092,\n",
       "                          -0.29310615, -0.29848728, -0.30289873, -0.30631072, -0.30870024,\n",
       "                          -0.31005189, -0.31035865, -0.30962259, -0.30785542, -0.30507896,\n",
       "                          -0.30132547, -0.29663783, -0.29106958, -0.28468485, -0.27755805,\n",
       "                          -0.2697735 , -0.26142488, -0.25261448, -0.2434524 , -0.23405553,\n",
       "                          -0.22454649, -0.21505235, -0.20570338, -0.19663159, -0.18796927,\n",
       "                          -0.1798475 , -0.17239455, -0.16573429, -0.15998469, -0.15525619,\n",
       "                          -0.15165024, -0.14925786, -0.14815825, -0.14841756, -0.15008771,\n",
       "                          -0.15320542, -0.15779132, -0.16384926, -0.17136577, -0.18030973,\n",
       "                          -0.19063221, -0.2022665 , -0.21512833, -0.22911636, -0.24411276,\n",
       "                          -0.25998405, -0.27658214, -0.29374548, -0.31130045, -0.32906286,\n",
       "                          -0.3468396 , -0.36443044, -0.38162991, -0.39822924, -0.41401843,\n",
       "                          -0.42878834, -0.44233273, -0.45445045, -0.46494745, -0.47363884,\n",
       "                          -0.48035085, -0.48492271, -0.48720839, -0.48707826, -0.48442056,\n",
       "                          -0.47914268, -0.47117237, -0.4604586 , -0.44697234, -0.43070708,\n",
       "                          -0.41167911, -0.3899276 , -0.36551446, -0.33852396, -0.30906215,\n",
       "                          -0.27725601, -0.24325248, -0.20721721, -0.16933317, -0.12979912,\n",
       "                          -0.08882785, -0.04664433, -0.00348378,  0.0404104 ,  0.08478879,\n",
       "                           0.12939808,  0.1739833 ,  0.21829001]),\n",
       "              'yaxis': 'y2'},\n",
       "             {'fill': 'none',\n",
       "              'line': {'color': '#2d92ff', 'width': 2},\n",
       "              'mode': 'lines',\n",
       "              'name': 'off_season',\n",
       "              'type': 'scatter',\n",
       "              'uid': 'd3310463-f855-42cb-9de8-5fb6745ae2d3',\n",
       "              'x': array([  0,   1,   2,   3,   4,   5,   6,   7,   8,   9,  10,  11,  12,  13,\n",
       "                           14,  15,  16,  17,  18,  19,  20,  21,  22,  23,  24,  25,  26,  27,\n",
       "                           28,  29,  30,  31,  32,  33,  34,  35,  36,  37,  38,  39,  40,  41,\n",
       "                           42,  43,  44,  45,  46,  47,  48,  49,  50,  51,  52,  53,  54,  55,\n",
       "                           56,  57,  58,  59,  60,  61,  62,  63,  64,  65,  66,  67,  68,  69,\n",
       "                           70,  71,  72,  73,  74,  75,  76,  77,  78,  79,  80,  81,  82,  83,\n",
       "                           84,  85,  86,  87,  88,  89,  90,  91,  92,  93,  94,  95,  96,  97,\n",
       "                           98,  99, 100, 101, 102, 103, 104, 105, 106, 107, 108, 109, 110, 111,\n",
       "                          112, 113, 114, 115, 116, 117, 118, 119, 120, 121, 122, 123, 124, 125,\n",
       "                          126, 127, 128, 129, 130, 131, 132, 133, 134, 135, 136, 137, 138, 139,\n",
       "                          140, 141, 142, 143, 144, 145, 146, 147, 148, 149, 150, 151, 152, 153,\n",
       "                          154, 155, 156, 157, 158, 159, 160, 161, 162, 163, 164, 165, 166, 167]),\n",
       "              'xaxis': 'x3',\n",
       "              'y': array([-0.11677365, -0.10601317, -0.0950904 , -0.08406698, -0.07300382,\n",
       "                          -0.06196059, -0.0509953 , -0.04016383, -0.02951958, -0.01911307,\n",
       "                          -0.00899161,  0.00080103,  0.0102248 ,  0.01924367,  0.02782578,\n",
       "                           0.03594354,  0.04357376,  0.05069765,  0.05730089,  0.06337349,\n",
       "                           0.0689098 ,  0.07390831,  0.07837157,  0.08230591,  0.0857213 ,\n",
       "                           0.08863103,  0.09105147,  0.09300179,  0.0945036 ,  0.09558066,\n",
       "                           0.09625856,  0.09656434,  0.0965262 ,  0.09617313,  0.09553461,\n",
       "                           0.09464029,  0.09351969,  0.09220191,  0.0907154 ,  0.08908767,\n",
       "                           0.08734513,  0.08551287,  0.08361452,  0.08167209,  0.07970593,\n",
       "                           0.07773459,  0.07577481,  0.07384151,  0.07194779,  0.07010498,\n",
       "                           0.06832268,  0.06660887,  0.06497001,  0.06341113,  0.06193599,\n",
       "                           0.06054722,  0.05924646,  0.05803456,  0.05691165,  0.05587739,\n",
       "                           0.05493108,  0.05407179,  0.05329855,  0.0526104 ,  0.05200658,\n",
       "                           0.05148655,  0.05105011,  0.05069745,  0.05042915,  0.05024624,\n",
       "                           0.05015017,  0.05014277,  0.05022622,  0.05040298,  0.05067566,\n",
       "                           0.05104696,  0.05151956,  0.0520959 ,  0.05277813,  0.0535679 ,\n",
       "                           0.05446621,  0.05547325,  0.05658823,  0.05780922,  0.05913302,\n",
       "                           0.06055496,  0.06206883,  0.06366673,  0.06533897,  0.06707401,\n",
       "                           0.06885838,  0.07067669,  0.07251157,  0.07434377,  0.07615213,\n",
       "                           0.07791374,  0.07960401,  0.08119681,  0.08266467,  0.08397898,\n",
       "                           0.08511018,  0.08602804,  0.08670194,  0.08710114,  0.08719513,\n",
       "                           0.08695391,  0.08634834,  0.0853505 ,  0.08393402,  0.08207441,\n",
       "                           0.07974944,  0.0769394 ,  0.07362749,  0.06980007,  0.06544694,\n",
       "                           0.0605616 ,  0.05514147,  0.04918809,  0.04270723,  0.03570908,\n",
       "                           0.02820823,  0.02022381,  0.0117794 ,  0.00290301, -0.00637302,\n",
       "                          -0.01601216, -0.02597388, -0.03621388, -0.04668437, -0.05733434,\n",
       "                          -0.06810996, -0.07895493, -0.08981088, -0.10061783, -0.11131467,\n",
       "                          -0.12183956, -0.13213053, -0.14212589, -0.15176479, -0.1609877 ,\n",
       "                          -0.16973692, -0.17795708, -0.18559558, -0.19260308, -0.1989339 ,\n",
       "                          -0.20454643, -0.20940348, -0.21347263, -0.21672649, -0.21914297,\n",
       "                          -0.22070543, -0.22140289, -0.22123006, -0.22018743, -0.21828126,\n",
       "                          -0.2155235 , -0.21193172, -0.20752892, -0.20234333, -0.19640818,\n",
       "                          -0.1897614 , -0.18244526, -0.17450605, -0.16599362, -0.156961  ,\n",
       "                          -0.14746392, -0.13756033, -0.12730993]),\n",
       "              'yaxis': 'y3'}],\n",
       "    'layout': {'autosize': True,\n",
       "               'font': {'size': 10},\n",
       "               'height': 630,\n",
       "               'hovermode': 'x unified',\n",
       "               'margin': {'b': 0, 'l': 0, 'pad': 0, 'r': 10, 't': 10},\n",
       "               'showlegend': False,\n",
       "               'template': '...',\n",
       "               'title': {'font': {'size': 12}},\n",
       "               'width': 700,\n",
       "               'xaxis': {'anchor': 'y',\n",
       "                         'domain': [0.0, 1.0],\n",
       "                         'linewidth': 1.5,\n",
       "                         'mirror': True,\n",
       "                         'range': [2016-12-14 00:00:00, 2018-01-18 00:00:00],\n",
       "                         'showline': True,\n",
       "                         'title': {'text': 'Day of year'}},\n",
       "               'xaxis2': {'anchor': 'y2',\n",
       "                          'domain': [0.0, 1.0],\n",
       "                          'linewidth': 1.5,\n",
       "                          'mirror': True,\n",
       "                          'range': [-8, 175],\n",
       "                          'showline': True,\n",
       "                          'tickmode': 'array',\n",
       "                          'ticktext': [Sunday, Monday, Tuesday, Wednesday,\n",
       "                                       Thursday, Friday, Saturday, Sunday, Sunday],\n",
       "                          'tickvals': [0, 24, 48, 72, 96, 120, 144, 168, 192],\n",
       "                          'title': {'text': 'Day of week'}},\n",
       "               'xaxis3': {'anchor': 'y3',\n",
       "                          'domain': [0.0, 1.0],\n",
       "                          'linewidth': 1.5,\n",
       "                          'mirror': True,\n",
       "                          'range': [-8, 175],\n",
       "                          'showline': True,\n",
       "                          'tickmode': 'array',\n",
       "                          'ticktext': [Sunday, Monday, Tuesday, Wednesday,\n",
       "                                       Thursday, Friday, Saturday, Sunday, Sunday],\n",
       "                          'tickvals': [0, 24, 48, 72, 96, 120, 144, 168, 192],\n",
       "                          'title': {'text': 'Day of week'}},\n",
       "               'yaxis': {'anchor': 'x',\n",
       "                         'domain': [0.7333333333333333, 1.0],\n",
       "                         'linewidth': 1.5,\n",
       "                         'mirror': True,\n",
       "                         'rangemode': 'normal',\n",
       "                         'showline': True,\n",
       "                         'title': {'text': 'Seasonality: yearly'}},\n",
       "               'yaxis2': {'anchor': 'x2',\n",
       "                          'domain': [0.36666666666666664, 0.6333333333333333],\n",
       "                          'linewidth': 1.5,\n",
       "                          'mirror': True,\n",
       "                          'rangemode': 'normal',\n",
       "                          'showline': True,\n",
       "                          'title': {'text': 'Seasonality: on_season'}},\n",
       "               'yaxis3': {'anchor': 'x3',\n",
       "                          'domain': [0.0, 0.26666666666666666],\n",
       "                          'linewidth': 1.5,\n",
       "                          'mirror': True,\n",
       "                          'rangemode': 'normal',\n",
       "                          'showline': True,\n",
       "                          'title': {'text': 'Seasonality: off_season'}}}\n",
       "})"
      ]
     },
     "execution_count": 6,
     "metadata": {},
     "output_type": "execute_result"
    }
   ],
   "source": [
    "m.plot_parameters(components=\"seasonality\")"
   ]
  },
  {
   "attachments": {},
   "cell_type": "markdown",
   "metadata": {
    "collapsed": false
   },
   "source": [
    "## Pre-defined conditional seasonality\n",
    "\n",
    "NeuralProphet also provides pre-defined conditions (quarters, weekday/weekend) that are added to the input df with a simple function call.\n",
    "In this case, we would like to incorporate a quarterly changing weekly seasonality."
   ]
  },
  {
   "cell_type": "code",
   "execution_count": 7,
   "metadata": {
    "collapsed": false,
    "pycharm": {
     "name": "#%%\n"
    }
   },
   "outputs": [
    {
     "data": {
      "text/html": [
       "<div>\n",
       "<style scoped>\n",
       "    .dataframe tbody tr th:only-of-type {\n",
       "        vertical-align: middle;\n",
       "    }\n",
       "\n",
       "    .dataframe tbody tr th {\n",
       "        vertical-align: top;\n",
       "    }\n",
       "\n",
       "    .dataframe thead th {\n",
       "        text-align: right;\n",
       "    }\n",
       "</style>\n",
       "<table border=\"1\" class=\"dataframe\">\n",
       "  <thead>\n",
       "    <tr style=\"text-align: right;\">\n",
       "      <th></th>\n",
       "      <th>ds</th>\n",
       "      <th>y</th>\n",
       "      <th>summer</th>\n",
       "      <th>winter</th>\n",
       "      <th>spring</th>\n",
       "      <th>fall</th>\n",
       "    </tr>\n",
       "  </thead>\n",
       "  <tbody>\n",
       "    <tr>\n",
       "      <th>0</th>\n",
       "      <td>2007-12-10</td>\n",
       "      <td>9.5908</td>\n",
       "      <td>0</td>\n",
       "      <td>1</td>\n",
       "      <td>0</td>\n",
       "      <td>0</td>\n",
       "    </tr>\n",
       "    <tr>\n",
       "      <th>1</th>\n",
       "      <td>2007-12-11</td>\n",
       "      <td>8.5196</td>\n",
       "      <td>0</td>\n",
       "      <td>1</td>\n",
       "      <td>0</td>\n",
       "      <td>0</td>\n",
       "    </tr>\n",
       "    <tr>\n",
       "      <th>2</th>\n",
       "      <td>2007-12-12</td>\n",
       "      <td>8.1837</td>\n",
       "      <td>0</td>\n",
       "      <td>1</td>\n",
       "      <td>0</td>\n",
       "      <td>0</td>\n",
       "    </tr>\n",
       "    <tr>\n",
       "      <th>3</th>\n",
       "      <td>2007-12-13</td>\n",
       "      <td>8.0725</td>\n",
       "      <td>0</td>\n",
       "      <td>1</td>\n",
       "      <td>0</td>\n",
       "      <td>0</td>\n",
       "    </tr>\n",
       "    <tr>\n",
       "      <th>4</th>\n",
       "      <td>2007-12-14</td>\n",
       "      <td>7.8936</td>\n",
       "      <td>0</td>\n",
       "      <td>1</td>\n",
       "      <td>0</td>\n",
       "      <td>0</td>\n",
       "    </tr>\n",
       "  </tbody>\n",
       "</table>\n",
       "</div>"
      ],
      "text/plain": [
       "          ds       y  summer  winter  spring  fall\n",
       "0 2007-12-10  9.5908       0       1       0     0\n",
       "1 2007-12-11  8.5196       0       1       0     0\n",
       "2 2007-12-12  8.1837       0       1       0     0\n",
       "3 2007-12-13  8.0725       0       1       0     0\n",
       "4 2007-12-14  7.8936       0       1       0     0"
      ]
     },
     "execution_count": 7,
     "metadata": {},
     "output_type": "execute_result"
    }
   ],
   "source": [
    "data_location = \"https://raw.githubusercontent.com/ourownstory/neuralprophet-data/main/datasets/\"\n",
    "df = pd.read_csv(data_location + \"wp_log_peyton_manning.csv\")\n",
    "df = df_utils.add_quarter_condition(df)\n",
    "df.head()"
   ]
  },
  {
   "cell_type": "code",
   "execution_count": 8,
   "metadata": {
    "collapsed": false,
    "pycharm": {
     "name": "#%%\n"
    }
   },
   "outputs": [
    {
     "data": {
      "application/vnd.jupyter.widget-view+json": {
       "model_id": "fc8f6c6ece024232a6481f06c83d8965",
       "version_major": 2,
       "version_minor": 0
      },
      "text/plain": [
       "Finding best initial lr:   0%|          | 0/237 [00:00<?, ?it/s]"
      ]
     },
     "metadata": {},
     "output_type": "display_data"
    },
    {
     "data": {
      "application/vnd.jupyter.widget-view+json": {
       "model_id": "cad70078e07e4799bb5a7c370814889b",
       "version_major": 2,
       "version_minor": 0
      },
      "text/plain": [
       "Training: 0it [00:00, ?it/s]"
      ]
     },
     "metadata": {},
     "output_type": "display_data"
    }
   ],
   "source": [
    "m = NeuralProphet(weekly_seasonality=False)\n",
    "m.add_seasonality(name=\"weekly_summer\", period=7, fourier_order=3, condition_name=\"summer\")\n",
    "m.add_seasonality(name=\"weekly_fall\", period=7, fourier_order=3, condition_name=\"fall\")\n",
    "m.add_seasonality(name=\"weekly_winter\", period=7, fourier_order=3, condition_name=\"winter\")\n",
    "m.add_seasonality(name=\"weekly_spring\", period=7, fourier_order=3, condition_name=\"spring\")\n",
    "metrics = m.fit(df, freq=\"D\")"
   ]
  },
  {
   "cell_type": "code",
   "execution_count": 9,
   "metadata": {
    "collapsed": false,
    "pycharm": {
     "name": "#%%\n"
    }
   },
   "outputs": [
    {
     "data": {
      "application/vnd.jupyter.widget-view+json": {
       "model_id": "7eb86dbd0a534f839d870f8672a0e61d",
       "version_major": 2,
       "version_minor": 0
      },
      "text/plain": [
       "Predicting: 93it [00:00, ?it/s]"
      ]
     },
     "metadata": {},
     "output_type": "display_data"
    }
   ],
   "source": [
    "future = m.make_future_dataframe(df, n_historic_predictions=365, periods=365)\n",
    "future = df_utils.add_quarter_condition(future)\n",
    "forecast = m.predict(df=future)"
   ]
  },
  {
   "cell_type": "code",
   "execution_count": 10,
   "metadata": {
    "collapsed": false,
    "pycharm": {
     "name": "#%%\n"
    }
   },
   "outputs": [
    {
     "data": {
      "application/vnd.jupyter.widget-view+json": {
       "model_id": "f6e93d6a11a64f85bcfe2dc48df42f9b",
       "version_major": 2,
       "version_minor": 0
      },
      "text/plain": [
       "FigureWidgetResampler({\n",
       "    'data': [{'fill': 'none',\n",
       "              'line': {'color': '#2d92ff', 'width': 2},\n",
       "              'mode': 'lines',\n",
       "              'name': 'yearly',\n",
       "              'type': 'scatter',\n",
       "              'uid': '53e4ec7e-37f3-4c72-8604-0bdbf6cff627',\n",
       "              'x': array([datetime.datetime(2017, 1, 1, 0, 0),\n",
       "                          datetime.datetime(2017, 1, 2, 0, 0),\n",
       "                          datetime.datetime(2017, 1, 3, 0, 0), ...,\n",
       "                          datetime.datetime(2017, 12, 29, 0, 0),\n",
       "                          datetime.datetime(2017, 12, 30, 0, 0),\n",
       "                          datetime.datetime(2017, 12, 31, 0, 0)], dtype=object),\n",
       "              'xaxis': 'x',\n",
       "              'y': array([0.65250256, 0.68435713, 0.7165657 , ..., 0.55411306, 0.58329297,\n",
       "                          0.61353   ]),\n",
       "              'yaxis': 'y'},\n",
       "             {'fill': 'none',\n",
       "              'line': {'color': '#2d92ff', 'width': 2},\n",
       "              'mode': 'lines',\n",
       "              'name': 'weekly_summer',\n",
       "              'type': 'scatter',\n",
       "              'uid': '43b74a7a-cb5c-4f44-8857-57ae0586041c',\n",
       "              'x': array([  0,   1,   2,   3,   4,   5,   6,   7,   8,   9,  10,  11,  12,  13,\n",
       "                           14,  15,  16,  17,  18,  19,  20,  21,  22,  23,  24,  25,  26,  27,\n",
       "                           28,  29,  30,  31,  32,  33,  34,  35,  36,  37,  38,  39,  40,  41,\n",
       "                           42,  43,  44,  45,  46,  47,  48,  49,  50,  51,  52,  53,  54,  55,\n",
       "                           56,  57,  58,  59,  60,  61,  62,  63,  64,  65,  66,  67,  68,  69,\n",
       "                           70,  71,  72,  73,  74,  75,  76,  77,  78,  79,  80,  81,  82,  83,\n",
       "                           84,  85,  86,  87,  88,  89,  90,  91,  92,  93,  94,  95,  96,  97,\n",
       "                           98,  99, 100, 101, 102, 103, 104, 105, 106, 107, 108, 109, 110, 111,\n",
       "                          112, 113, 114, 115, 116, 117, 118, 119, 120, 121, 122, 123, 124, 125,\n",
       "                          126, 127, 128, 129, 130, 131, 132, 133, 134, 135, 136, 137, 138, 139,\n",
       "                          140, 141, 142, 143, 144, 145, 146, 147, 148, 149, 150, 151, 152, 153,\n",
       "                          154, 155, 156, 157, 158, 159, 160, 161, 162, 163, 164, 165, 166, 167]),\n",
       "              'xaxis': 'x2',\n",
       "              'y': array([-0.10305643, -0.09596246, -0.08873163, -0.08139631, -0.07398802,\n",
       "                          -0.06653725, -0.05907335, -0.05162442, -0.0442172 , -0.03687697,\n",
       "                          -0.02962755, -0.02249119, -0.0154886 , -0.00863892, -0.00195973,\n",
       "                           0.0045329 ,  0.01082443,  0.01690173,  0.02275309,  0.02836809,\n",
       "                           0.0337376 ,  0.03885364,  0.04370934,  0.04829884,  0.05261725,\n",
       "                           0.05666053,  0.06042544,  0.06390947,  0.06711082,  0.07002828,\n",
       "                           0.07266124,  0.07500965,  0.07707398,  0.07885521,  0.08035485,\n",
       "                           0.08157491,  0.08251796,  0.0831871 ,  0.08358603,  0.08371907,\n",
       "                           0.08359121,  0.08320817,  0.08257641,  0.08170322,  0.08059675,\n",
       "                           0.07926608,  0.07772125,  0.07597328,  0.07403424,  0.07191726,\n",
       "                           0.06963654,  0.06720735,  0.06464605,  0.06197001,  0.05919765,\n",
       "                           0.05634831,  0.05344223,  0.05050047,  0.04754478,  0.0445975 ,\n",
       "                           0.04168145,  0.03881973,  0.03603563,  0.03335242,  0.03079316,\n",
       "                           0.02838055,  0.02613669,  0.02408288,  0.02223944,  0.02062549,\n",
       "                           0.01925873,  0.01815523,  0.01732925,  0.01679307,  0.01655674,\n",
       "                           0.01662799,  0.01701204,  0.01771146,  0.01872611,  0.02005298,\n",
       "                           0.02168618,  0.02361684,  0.02583317,  0.0283204 ,  0.03106087,\n",
       "                           0.03403407,  0.03721675,  0.04058302,  0.04410457,  0.04775076,\n",
       "                           0.05148888,  0.05528439,  0.05910113,  0.06290164,  0.06664741,\n",
       "                           0.07029921,  0.07381742,  0.07716234,  0.08029454,  0.08317522,\n",
       "                           0.0857665 ,  0.08803184,  0.08993629,  0.09144688,  0.09253292,\n",
       "                           0.09316627,  0.09332165,  0.09297689,  0.09211316,  0.09071517,\n",
       "                           0.08877136,  0.08627406,  0.08321955,  0.07960823,  0.07544458,\n",
       "                           0.07073721,  0.06549885,  0.05974626,  0.05350014,  0.04678503,\n",
       "                           0.03962909,  0.03206397,  0.02412452,  0.01584861,  0.00727676,\n",
       "                          -0.00154806, -0.01058084, -0.01977483, -0.02908187, -0.03845279,\n",
       "                          -0.0478378 , -0.05718679, -0.06644977, -0.07557723, -0.08452047,\n",
       "                          -0.09323202, -0.10166591, -0.10977804, -0.11752647, -0.12487173,\n",
       "                          -0.13177705, -0.1382086 , -0.14413572, -0.14953107, -0.15437082,\n",
       "                          -0.1586347 , -0.16230615, -0.16537233, -0.16782415, -0.16965629,\n",
       "                          -0.1708671 , -0.17145857, -0.17143624, -0.17080902, -0.1695891 ,\n",
       "                          -0.16779174, -0.16543507, -0.16253993, -0.15912956, -0.15522945,\n",
       "                          -0.15086702, -0.1460714 , -0.14087316, -0.13530405, -0.12939673,\n",
       "                          -0.12318452, -0.11670115, -0.10998051]),\n",
       "              'yaxis': 'y2'},\n",
       "             {'fill': 'none',\n",
       "              'line': {'color': '#2d92ff', 'width': 2},\n",
       "              'mode': 'lines',\n",
       "              'name': 'weekly_fall',\n",
       "              'type': 'scatter',\n",
       "              'uid': '58bdd0b9-12c7-4508-ad2e-8cab8db1c842',\n",
       "              'x': array([  0,   1,   2,   3,   4,   5,   6,   7,   8,   9,  10,  11,  12,  13,\n",
       "                           14,  15,  16,  17,  18,  19,  20,  21,  22,  23,  24,  25,  26,  27,\n",
       "                           28,  29,  30,  31,  32,  33,  34,  35,  36,  37,  38,  39,  40,  41,\n",
       "                           42,  43,  44,  45,  46,  47,  48,  49,  50,  51,  52,  53,  54,  55,\n",
       "                           56,  57,  58,  59,  60,  61,  62,  63,  64,  65,  66,  67,  68,  69,\n",
       "                           70,  71,  72,  73,  74,  75,  76,  77,  78,  79,  80,  81,  82,  83,\n",
       "                           84,  85,  86,  87,  88,  89,  90,  91,  92,  93,  94,  95,  96,  97,\n",
       "                           98,  99, 100, 101, 102, 103, 104, 105, 106, 107, 108, 109, 110, 111,\n",
       "                          112, 113, 114, 115, 116, 117, 118, 119, 120, 121, 122, 123, 124, 125,\n",
       "                          126, 127, 128, 129, 130, 131, 132, 133, 134, 135, 136, 137, 138, 139,\n",
       "                          140, 141, 142, 143, 144, 145, 146, 147, 148, 149, 150, 151, 152, 153,\n",
       "                          154, 155, 156, 157, 158, 159, 160, 161, 162, 163, 164, 165, 166, 167]),\n",
       "              'xaxis': 'x3',\n",
       "              'y': array([ 0.23696175,  0.28342738,  0.32911444,  0.37376145,  0.41711578,\n",
       "                           0.45893573,  0.49899242,  0.53707158,  0.57297517,  0.60652284,\n",
       "                           0.63755315,  0.66592461,  0.69151658,  0.71422982,  0.73398695,\n",
       "                           0.75073262,  0.76443346,  0.77507786,  0.7826755 ,  0.78725668,\n",
       "                           0.78887153,  0.78758893,  0.78349539,  0.77669367,  0.76730138,\n",
       "                           0.75544939,  0.74128019,  0.72494619,  0.70660794,  0.68643238,\n",
       "                           0.66459099,  0.64125808,  0.61660904,  0.59081862,  0.56405938,\n",
       "                           0.53650015,  0.50830464,  0.47963014,  0.45062638,  0.42143453,\n",
       "                           0.39218633,  0.36300342,  0.33399679,  0.30526639,  0.27690098,\n",
       "                           0.24897803,  0.22156383,  0.19471378,  0.16847279,  0.14287576,\n",
       "                           0.11794827,  0.09370731,  0.07016212,  0.04731512,  0.02516287,\n",
       "                           0.00369708, -0.01709437, -0.03722633, -0.05671541, -0.07557896,\n",
       "                          -0.09383408, -0.11149674, -0.12858097, -0.14509807, -0.16105601,\n",
       "                          -0.17645886, -0.19130638, -0.20559372, -0.21931124, -0.23244446,\n",
       "                          -0.24497415, -0.25687653, -0.26812361, -0.27868363, -0.28852164,\n",
       "                          -0.29760017, -0.30587995, -0.31332077, -0.31988239, -0.32552546,\n",
       "                          -0.33021254, -0.3339091 , -0.33658451, -0.33821304, -0.33877485,\n",
       "                          -0.33825687, -0.33665369, -0.33396829, -0.33021276, -0.32540884,\n",
       "                          -0.3195884 , -0.31279373, -0.30507774, -0.29650403, -0.28714669,\n",
       "                          -0.27709013, -0.2664286 , -0.2552656 , -0.24371322, -0.23189117,\n",
       "                          -0.21992588, -0.20794924, -0.19609745, -0.1845096 , -0.17332621,\n",
       "                          -0.16268776, -0.15273307, -0.14359768, -0.13541225, -0.12830089,\n",
       "                          -0.1223796 , -0.11775465, -0.11452111, -0.11276144, -0.11254416,\n",
       "                          -0.11392262, -0.11693402, -0.12159843, -0.12791809, -0.13587684,\n",
       "                          -0.14543976, -0.15655297, -0.1691437 , -0.1831205 , -0.19837371,\n",
       "                          -0.21477609, -0.23218369, -0.25043691, -0.26936174, -0.28877119,\n",
       "                          -0.30846685, -0.32824068, -0.34787682, -0.36715362, -0.3858457 ,\n",
       "                          -0.40372613, -0.42056857, -0.4361496 , -0.45025085, -0.46266129,\n",
       "                          -0.47317937, -0.48161512, -0.48779218, -0.49154966, -0.49274397,\n",
       "                          -0.49125034, -0.48696435, -0.4798031 , -0.46970631, -0.45663713,\n",
       "                          -0.44058276, -0.42155478, -0.39958935, -0.37474708, -0.34711268,\n",
       "                          -0.3167944 , -0.28392323, -0.24865184, -0.21115337, -0.17162002,\n",
       "                          -0.13026134, -0.08730254, -0.0429825 ,  0.00244829,  0.04872986,\n",
       "                           0.09559508,  0.14277189,  0.18998571]),\n",
       "              'yaxis': 'y3'},\n",
       "             {'fill': 'none',\n",
       "              'line': {'color': '#2d92ff', 'width': 2},\n",
       "              'mode': 'lines',\n",
       "              'name': 'weekly_winter',\n",
       "              'type': 'scatter',\n",
       "              'uid': '1b541b0d-de3c-41a1-a021-94473a55d1d6',\n",
       "              'x': array([  0,   1,   2,   3,   4,   5,   6,   7,   8,   9,  10,  11,  12,  13,\n",
       "                           14,  15,  16,  17,  18,  19,  20,  21,  22,  23,  24,  25,  26,  27,\n",
       "                           28,  29,  30,  31,  32,  33,  34,  35,  36,  37,  38,  39,  40,  41,\n",
       "                           42,  43,  44,  45,  46,  47,  48,  49,  50,  51,  52,  53,  54,  55,\n",
       "                           56,  57,  58,  59,  60,  61,  62,  63,  64,  65,  66,  67,  68,  69,\n",
       "                           70,  71,  72,  73,  74,  75,  76,  77,  78,  79,  80,  81,  82,  83,\n",
       "                           84,  85,  86,  87,  88,  89,  90,  91,  92,  93,  94,  95,  96,  97,\n",
       "                           98,  99, 100, 101, 102, 103, 104, 105, 106, 107, 108, 109, 110, 111,\n",
       "                          112, 113, 114, 115, 116, 117, 118, 119, 120, 121, 122, 123, 124, 125,\n",
       "                          126, 127, 128, 129, 130, 131, 132, 133, 134, 135, 136, 137, 138, 139,\n",
       "                          140, 141, 142, 143, 144, 145, 146, 147, 148, 149, 150, 151, 152, 153,\n",
       "                          154, 155, 156, 157, 158, 159, 160, 161, 162, 163, 164, 165, 166, 167]),\n",
       "              'xaxis': 'x4',\n",
       "              'y': array([ 0.20309818,  0.23804414,  0.27225435,  0.30554246,  0.3377292 ,\n",
       "                           0.36864389,  0.39812582,  0.42602554,  0.452206  ,  0.47654361,\n",
       "                           0.49892913,  0.51926839,  0.53748291,  0.55351028,  0.56730449,\n",
       "                           0.57883599,  0.58809162,  0.59507444,  0.59980329,  0.60231232,\n",
       "                           0.60265027,  0.60087971,  0.5970761 ,  0.59132676,  0.58372975,\n",
       "                           0.57439263,  0.56343122,  0.55096824,  0.53713197,  0.52205482,\n",
       "                           0.50587201,  0.48872009,  0.47073569,  0.45205415,  0.43280828,\n",
       "                           0.41312718,  0.39313514,  0.37295063,  0.35268539,  0.33244365,\n",
       "                           0.31232145,  0.29240608,  0.27277566,  0.25349884,  0.23463464,\n",
       "                           0.21623242,  0.19833194,  0.18096359,  0.16414869,  0.14789994,\n",
       "                           0.13222192,  0.11711172,  0.10255964,  0.08854992,  0.07506156,\n",
       "                           0.06206919,  0.04954392,  0.03745424,  0.02576692,  0.0144479 ,\n",
       "                           0.0034631 , -0.00722073, -0.01763523, -0.02780978, -0.03777081,\n",
       "                          -0.04754125, -0.05714011, -0.06658203, -0.07587705, -0.08503038,\n",
       "                          -0.09404239, -0.10290854, -0.11161958, -0.12016172, -0.12851696,\n",
       "                          -0.13666349, -0.14457616, -0.15222704, -0.15958604, -0.16662156,\n",
       "                          -0.17330123, -0.17959262, -0.18546402, -0.19088522, -0.19582824,\n",
       "                          -0.20026807, -0.20418342, -0.20755734, -0.21037787, -0.21263855,\n",
       "                          -0.21433891, -0.21548487, -0.216089  , -0.21617075, -0.21575651,\n",
       "                          -0.21487964, -0.21358027, -0.21190517, -0.20990729, -0.20764541,\n",
       "                          -0.20518352, -0.20259019, -0.19993783, -0.19730185, -0.19475977,\n",
       "                          -0.19239028, -0.19027217, -0.18848335, -0.18709971, -0.18619409,\n",
       "                          -0.18583514, -0.18608629, -0.18700471, -0.18864032, -0.19103484,\n",
       "                          -0.19422096, -0.19822156, -0.20304902, -0.2087047 , -0.21517842,\n",
       "                          -0.22244821, -0.23048008, -0.23922797, -0.24863387, -0.258628  ,\n",
       "                          -0.26912924, -0.2800456 , -0.2912749 , -0.30270557, -0.31421754,\n",
       "                          -0.32568327, -0.33696893, -0.3479356 , -0.35844061, -0.36833892,\n",
       "                          -0.37748459, -0.38573226, -0.39293868, -0.39896419, -0.4036743 ,\n",
       "                          -0.40694111, -0.40864481, -0.40867502, -0.40693215, -0.40332856,\n",
       "                          -0.39778974, -0.39025526, -0.38067965, -0.36903312, -0.35530216,\n",
       "                          -0.33948992, -0.32161651, -0.30171903, -0.27985157, -0.25608487,\n",
       "                          -0.23050597, -0.20321759, -0.17433741, -0.14399717, -0.11234164,\n",
       "                          -0.07952743, -0.04572172, -0.01110089,  0.02415101,  0.05984381,\n",
       "                           0.09578284,  0.13177057,  0.16760838]),\n",
       "              'yaxis': 'y4'},\n",
       "             {'fill': 'none',\n",
       "              'line': {'color': '#2d92ff', 'width': 2},\n",
       "              'mode': 'lines',\n",
       "              'name': 'weekly_spring',\n",
       "              'type': 'scatter',\n",
       "              'uid': '5f93351d-bc4f-4aee-951b-00020294a75a',\n",
       "              'x': array([  0,   1,   2,   3,   4,   5,   6,   7,   8,   9,  10,  11,  12,  13,\n",
       "                           14,  15,  16,  17,  18,  19,  20,  21,  22,  23,  24,  25,  26,  27,\n",
       "                           28,  29,  30,  31,  32,  33,  34,  35,  36,  37,  38,  39,  40,  41,\n",
       "                           42,  43,  44,  45,  46,  47,  48,  49,  50,  51,  52,  53,  54,  55,\n",
       "                           56,  57,  58,  59,  60,  61,  62,  63,  64,  65,  66,  67,  68,  69,\n",
       "                           70,  71,  72,  73,  74,  75,  76,  77,  78,  79,  80,  81,  82,  83,\n",
       "                           84,  85,  86,  87,  88,  89,  90,  91,  92,  93,  94,  95,  96,  97,\n",
       "                           98,  99, 100, 101, 102, 103, 104, 105, 106, 107, 108, 109, 110, 111,\n",
       "                          112, 113, 114, 115, 116, 117, 118, 119, 120, 121, 122, 123, 124, 125,\n",
       "                          126, 127, 128, 129, 130, 131, 132, 133, 134, 135, 136, 137, 138, 139,\n",
       "                          140, 141, 142, 143, 144, 145, 146, 147, 148, 149, 150, 151, 152, 153,\n",
       "                          154, 155, 156, 157, 158, 159, 160, 161, 162, 163, 164, 165, 166, 167]),\n",
       "              'xaxis': 'x5',\n",
       "              'y': array([-0.16396405, -0.15348537, -0.14292339, -0.13234638, -0.12181995,\n",
       "                          -0.11140643, -0.1011644 , -0.09114823, -0.08140768, -0.07198751,\n",
       "                          -0.06292726, -0.05426098, -0.04601711, -0.03821838, -0.03088176,\n",
       "                          -0.02401856, -0.01763448, -0.01172984, -0.00629971, -0.00133431,\n",
       "                           0.00318077,  0.00726413,  0.01093818,  0.01422867,  0.01716425,\n",
       "                           0.01977592,  0.02209661,  0.02416057,  0.02600293,  0.02765913,\n",
       "                           0.02916447,  0.0305536 ,  0.03186009,  0.03311598,  0.03435139,\n",
       "                           0.03559419,  0.03686968,  0.03820032,  0.03960553,  0.0411015 ,\n",
       "                           0.04270111,  0.04441387,  0.04624589,  0.04819994,  0.05027554,\n",
       "                           0.05246911,  0.05477414,  0.05718143,  0.05967936,  0.06225416,\n",
       "                           0.06489027,  0.06757064,  0.07027714,  0.07299091,  0.07569274,\n",
       "                           0.07836343,  0.08098419,  0.08353702,  0.08600496,  0.08837252,\n",
       "                           0.09062589,  0.09275322,  0.09474488,  0.09659358,  0.09829455,\n",
       "                           0.09984562,  0.10124728,  0.10250268,  0.10361755,  0.10460018,\n",
       "                           0.10546119,  0.10621342,  0.10687168,  0.10745248,  0.10797373,\n",
       "                           0.10845443,  0.10891431,  0.10937344,  0.10985184,  0.11036911,\n",
       "                           0.11094399,  0.11159398,  0.11233493,  0.11318066,  0.11414261,\n",
       "                           0.1152295 ,  0.11644704,  0.11779762,  0.11928013,  0.12088976,\n",
       "                           0.12261785,  0.12445183,  0.12637517,  0.12836742,  0.13040428,\n",
       "                           0.13245777,  0.13449635,  0.13648525,  0.13838673,  0.1401604 ,\n",
       "                           0.1417637 ,  0.14315224,  0.14428033,  0.14510151,  0.145569  ,\n",
       "                           0.14563634,  0.14525791,  0.14438952,  0.142989  ,  0.14101674,\n",
       "                           0.13843624,  0.1352147 ,  0.13132349,  0.12673859,  0.1214411 ,\n",
       "                           0.11541756,  0.10866034,  0.10116788,  0.09294492,  0.08400268,\n",
       "                           0.07435892,  0.06403797,  0.0530707 ,  0.04149438,  0.0293525 ,\n",
       "                           0.01669453,  0.00357555, -0.00994407, -0.02379919, -0.03792035,\n",
       "                          -0.05223433, -0.06666477, -0.08113282, -0.09555776, -0.10985776,\n",
       "                          -0.12395055, -0.13775417, -0.1511877 , -0.16417197, -0.1766303 ,\n",
       "                          -0.18848916, -0.19967886, -0.21013418, -0.21979492, -0.22860651,\n",
       "                          -0.23652042, -0.24349465, -0.24949405, -0.25449064, -0.25846382,\n",
       "                          -0.26140053, -0.26329534, -0.26415041, -0.26397546, -0.2627876 ,\n",
       "                          -0.26061114, -0.25747725, -0.25342365, -0.24849417, -0.24273829,\n",
       "                          -0.23621062, -0.22897031, -0.22108044, -0.2126074 , -0.20362022,\n",
       "                          -0.19418986, -0.18438854, -0.17428906]),\n",
       "              'yaxis': 'y5'}],\n",
       "    'layout': {'autosize': True,\n",
       "               'font': {'size': 10},\n",
       "               'height': 1050,\n",
       "               'hovermode': 'x unified',\n",
       "               'margin': {'b': 0, 'l': 0, 'pad': 0, 'r': 10, 't': 10},\n",
       "               'showlegend': False,\n",
       "               'template': '...',\n",
       "               'title': {'font': {'size': 12}},\n",
       "               'width': 700,\n",
       "               'xaxis': {'anchor': 'y',\n",
       "                         'domain': [0.0, 1.0],\n",
       "                         'linewidth': 1.5,\n",
       "                         'mirror': True,\n",
       "                         'range': [2016-12-14 00:00:00, 2018-01-18 00:00:00],\n",
       "                         'showline': True,\n",
       "                         'title': {'text': 'Day of year'}},\n",
       "               'xaxis2': {'anchor': 'y2',\n",
       "                          'domain': [0.0, 1.0],\n",
       "                          'linewidth': 1.5,\n",
       "                          'mirror': True,\n",
       "                          'range': [-8, 175],\n",
       "                          'showline': True,\n",
       "                          'tickmode': 'array',\n",
       "                          'ticktext': [Sunday, Monday, Tuesday, Wednesday,\n",
       "                                       Thursday, Friday, Saturday, Sunday, Sunday],\n",
       "                          'tickvals': [0, 24, 48, 72, 96, 120, 144, 168, 192],\n",
       "                          'title': {'text': 'Day of week'}},\n",
       "               'xaxis3': {'anchor': 'y3',\n",
       "                          'domain': [0.0, 1.0],\n",
       "                          'linewidth': 1.5,\n",
       "                          'mirror': True,\n",
       "                          'range': [-8, 175],\n",
       "                          'showline': True,\n",
       "                          'tickmode': 'array',\n",
       "                          'ticktext': [Sunday, Monday, Tuesday, Wednesday,\n",
       "                                       Thursday, Friday, Saturday, Sunday, Sunday],\n",
       "                          'tickvals': [0, 24, 48, 72, 96, 120, 144, 168, 192],\n",
       "                          'title': {'text': 'Day of week'}},\n",
       "               'xaxis4': {'anchor': 'y4',\n",
       "                          'domain': [0.0, 1.0],\n",
       "                          'linewidth': 1.5,\n",
       "                          'mirror': True,\n",
       "                          'range': [-8, 175],\n",
       "                          'showline': True,\n",
       "                          'tickmode': 'array',\n",
       "                          'ticktext': [Sunday, Monday, Tuesday, Wednesday,\n",
       "                                       Thursday, Friday, Saturday, Sunday, Sunday],\n",
       "                          'tickvals': [0, 24, 48, 72, 96, 120, 144, 168, 192],\n",
       "                          'title': {'text': 'Day of week'}},\n",
       "               'xaxis5': {'anchor': 'y5',\n",
       "                          'domain': [0.0, 1.0],\n",
       "                          'linewidth': 1.5,\n",
       "                          'mirror': True,\n",
       "                          'range': [-8, 175],\n",
       "                          'showline': True,\n",
       "                          'tickmode': 'array',\n",
       "                          'ticktext': [Sunday, Monday, Tuesday, Wednesday,\n",
       "                                       Thursday, Friday, Saturday, Sunday, Sunday],\n",
       "                          'tickvals': [0, 24, 48, 72, 96, 120, 144, 168, 192],\n",
       "                          'title': {'text': 'Day of week'}},\n",
       "               'yaxis': {'anchor': 'x',\n",
       "                         'domain': [0.848, 1.0],\n",
       "                         'linewidth': 1.5,\n",
       "                         'mirror': True,\n",
       "                         'rangemode': 'normal',\n",
       "                         'showline': True,\n",
       "                         'title': {'text': 'Seasonality: yearly'}},\n",
       "               'yaxis2': {'anchor': 'x2',\n",
       "                          'domain': [0.6359999999999999, 0.7879999999999999],\n",
       "                          'linewidth': 1.5,\n",
       "                          'mirror': True,\n",
       "                          'rangemode': 'normal',\n",
       "                          'showline': True,\n",
       "                          'title': {'text': 'Seasonality: weekly_summer'}},\n",
       "               'yaxis3': {'anchor': 'x3',\n",
       "                          'domain': [0.424, 0.576],\n",
       "                          'linewidth': 1.5,\n",
       "                          'mirror': True,\n",
       "                          'rangemode': 'normal',\n",
       "                          'showline': True,\n",
       "                          'title': {'text': 'Seasonality: weekly_fall'}},\n",
       "               'yaxis4': {'anchor': 'x4',\n",
       "                          'domain': [0.212, 0.364],\n",
       "                          'linewidth': 1.5,\n",
       "                          'mirror': True,\n",
       "                          'rangemode': 'normal',\n",
       "                          'showline': True,\n",
       "                          'title': {'text': 'Seasonality: weekly_winter'}},\n",
       "               'yaxis5': {'anchor': 'x5',\n",
       "                          'domain': [0.0, 0.152],\n",
       "                          'linewidth': 1.5,\n",
       "                          'mirror': True,\n",
       "                          'rangemode': 'normal',\n",
       "                          'showline': True,\n",
       "                          'title': {'text': 'Seasonality: weekly_spring'}}}\n",
       "})"
      ]
     },
     "execution_count": 10,
     "metadata": {},
     "output_type": "execute_result"
    }
   ],
   "source": [
    "m.plot_parameters(components=\"seasonality\")"
   ]
  },
  {
   "cell_type": "code",
   "execution_count": null,
   "metadata": {},
   "outputs": [],
   "source": []
  }
 ],
 "metadata": {
  "kernelspec": {
   "display_name": "Python 3",
   "language": "python",
   "name": "python3"
  },
  "language_info": {
   "codemirror_mode": {
    "name": "ipython",
    "version": 3
   },
   "file_extension": ".py",
   "mimetype": "text/x-python",
   "name": "python",
   "nbconvert_exporter": "python",
   "pygments_lexer": "ipython3",
   "version": "3.9.16"
  }
 },
 "nbformat": 4,
 "nbformat_minor": 0
}
