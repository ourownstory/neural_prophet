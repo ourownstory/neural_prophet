{
 "cells": [
  {
   "cell_type": "markdown",
   "metadata": {},
   "source": [
    "[![Open In Colab](https://colab.research.google.com/assets/colab-badge.svg)](https://colab.research.google.com/github/ourownstory/neural_prophet/blob/main/tutorials/feature-use/network_architecture_visualization.ipynb)"
   ]
  },
  {
   "cell_type": "markdown",
   "metadata": {
    "id": "0Krto6fIvHit"
   },
   "source": [
    "# Network Architecture Visualization\n",
    "\n",
    "Understanding the Model Architecture might be really helpful for both debugging your network or understanding its behaviour.\n",
    "\n",
    "In this notebook, we will build a global model using data from the hourly load of the ERCOT region. We will use as reference the notebook `./global_modeling.ipynb`\n",
    "\n",
    "Finally, we will visualize the network's architecture.\n",
    "\n"
   ]
  },
  {
   "cell_type": "markdown",
   "metadata": {},
   "source": [
    "First we will install graphviz. For windows go to https://www.graphviz.org/download/.\n",
    "For Mac/Linux run the command below\n"
   ]
  },
  {
   "cell_type": "code",
   "execution_count": 1,
   "metadata": {},
   "outputs": [],
   "source": [
    "try:\n",
    "    # it already installed dependencies\n",
    "    from torchsummary import summary\n",
    "    from torchviz import make_dot\n",
    "except:\n",
    "    # install graphviz on system\n",
    "    import platform\n",
    "\n",
    "    if \"Darwin\" == platform.system():\n",
    "        !brew install graphviz\n",
    "    elif \"Linux\" == platform.system():\n",
    "        !sudo apt install graphviz\n",
    "    else:\n",
    "        print(\"go to  https://www.graphviz.org/download/\")\n",
    "    # Next we need to install the following dependencies:\n",
    "    !pip install torchsummary\n",
    "    !pip install torch-summary\n",
    "    !pip install torchviz\n",
    "    !pip install graphviz\n",
    "    # import\n",
    "    from torchsummary import summary\n",
    "    from torchviz import make_dot"
   ]
  },
  {
   "cell_type": "code",
   "execution_count": 2,
   "metadata": {},
   "outputs": [],
   "source": [
    "try:\n",
    "    from neuralprophet import NeuralProphet\n",
    "except:\n",
    "    # if NeuralProphet is not installed yet:\n",
    "    !pip install git+https://github.com/ourownstory/neural_prophet.git\n",
    "    from neuralprophet import NeuralProphet"
   ]
  },
  {
   "cell_type": "code",
   "execution_count": 9,
   "metadata": {},
   "outputs": [],
   "source": [
    "import pandas as pd\n",
    "from neuralprophet import set_log_level\n",
    "\n",
    "set_log_level(\"ERROR\")"
   ]
  },
  {
   "cell_type": "markdown",
   "metadata": {
    "colab": {
     "base_uri": "https://localhost:8080/"
    },
    "id": "Ywzhdfn2uqLf",
    "outputId": "95decf15-d410-45c9-b703-91fd68891e7f",
    "pycharm": {
     "name": "#%% md\n"
    }
   },
   "source": [
    "First, we load the data:\n",
    "\n"
   ]
  },
  {
   "cell_type": "code",
   "execution_count": 4,
   "metadata": {
    "colab": {
     "base_uri": "https://localhost:8080/",
     "height": 140
    },
    "id": "TvrgKVWIuxFJ",
    "outputId": "99908203-2022-456a-9d05-73c3d0e6731e"
   },
   "outputs": [
    {
     "data": {
      "text/html": [
       "<div>\n",
       "<style scoped>\n",
       "    .dataframe tbody tr th:only-of-type {\n",
       "        vertical-align: middle;\n",
       "    }\n",
       "\n",
       "    .dataframe tbody tr th {\n",
       "        vertical-align: top;\n",
       "    }\n",
       "\n",
       "    .dataframe thead th {\n",
       "        text-align: right;\n",
       "    }\n",
       "</style>\n",
       "<table border=\"1\" class=\"dataframe\">\n",
       "  <thead>\n",
       "    <tr style=\"text-align: right;\">\n",
       "      <th></th>\n",
       "      <th>ds</th>\n",
       "      <th>COAST</th>\n",
       "      <th>EAST</th>\n",
       "      <th>FAR_WEST</th>\n",
       "      <th>NORTH</th>\n",
       "      <th>NORTH_C</th>\n",
       "      <th>SOUTHERN</th>\n",
       "      <th>SOUTH_C</th>\n",
       "      <th>WEST</th>\n",
       "    </tr>\n",
       "  </thead>\n",
       "  <tbody>\n",
       "    <tr>\n",
       "      <th>0</th>\n",
       "      <td>2004-01-01 01:00:00</td>\n",
       "      <td>7225.09</td>\n",
       "      <td>877.79</td>\n",
       "      <td>1044.89</td>\n",
       "      <td>745.79</td>\n",
       "      <td>7124.21</td>\n",
       "      <td>1660.45</td>\n",
       "      <td>3639.12</td>\n",
       "      <td>654.61</td>\n",
       "    </tr>\n",
       "    <tr>\n",
       "      <th>1</th>\n",
       "      <td>2004-01-01 02:00:00</td>\n",
       "      <td>6994.25</td>\n",
       "      <td>850.75</td>\n",
       "      <td>1032.04</td>\n",
       "      <td>721.34</td>\n",
       "      <td>6854.58</td>\n",
       "      <td>1603.52</td>\n",
       "      <td>3495.16</td>\n",
       "      <td>639.88</td>\n",
       "    </tr>\n",
       "    <tr>\n",
       "      <th>2</th>\n",
       "      <td>2004-01-01 03:00:00</td>\n",
       "      <td>6717.42</td>\n",
       "      <td>831.63</td>\n",
       "      <td>1021.10</td>\n",
       "      <td>699.70</td>\n",
       "      <td>6639.48</td>\n",
       "      <td>1527.99</td>\n",
       "      <td>3322.70</td>\n",
       "      <td>623.42</td>\n",
       "    </tr>\n",
       "    <tr>\n",
       "      <th>3</th>\n",
       "      <td>2004-01-01 04:00:00</td>\n",
       "      <td>6554.27</td>\n",
       "      <td>823.56</td>\n",
       "      <td>1015.41</td>\n",
       "      <td>691.84</td>\n",
       "      <td>6492.39</td>\n",
       "      <td>1473.89</td>\n",
       "      <td>3201.72</td>\n",
       "      <td>613.49</td>\n",
       "    </tr>\n",
       "    <tr>\n",
       "      <th>4</th>\n",
       "      <td>2004-01-01 05:00:00</td>\n",
       "      <td>6511.19</td>\n",
       "      <td>823.38</td>\n",
       "      <td>1009.74</td>\n",
       "      <td>686.76</td>\n",
       "      <td>6452.26</td>\n",
       "      <td>1462.76</td>\n",
       "      <td>3163.74</td>\n",
       "      <td>613.32</td>\n",
       "    </tr>\n",
       "  </tbody>\n",
       "</table>\n",
       "</div>"
      ],
      "text/plain": [
       "                    ds    COAST    EAST  FAR_WEST   NORTH  NORTH_C  SOUTHERN  \\\n",
       "0  2004-01-01 01:00:00  7225.09  877.79   1044.89  745.79  7124.21   1660.45   \n",
       "1  2004-01-01 02:00:00  6994.25  850.75   1032.04  721.34  6854.58   1603.52   \n",
       "2  2004-01-01 03:00:00  6717.42  831.63   1021.10  699.70  6639.48   1527.99   \n",
       "3  2004-01-01 04:00:00  6554.27  823.56   1015.41  691.84  6492.39   1473.89   \n",
       "4  2004-01-01 05:00:00  6511.19  823.38   1009.74  686.76  6452.26   1462.76   \n",
       "\n",
       "   SOUTH_C    WEST  \n",
       "0  3639.12  654.61  \n",
       "1  3495.16  639.88  \n",
       "2  3322.70  623.42  \n",
       "3  3201.72  613.49  \n",
       "4  3163.74  613.32  "
      ]
     },
     "execution_count": 4,
     "metadata": {},
     "output_type": "execute_result"
    }
   ],
   "source": [
    "data_location = \"https://raw.githubusercontent.com/ourownstory/neuralprophet-data/main/datasets/\"\n",
    "df_ercot = pd.read_csv(data_location + \"multivariate/load_ercot_regions.csv\")\n",
    "df_ercot.head(3)"
   ]
  },
  {
   "cell_type": "markdown",
   "metadata": {},
   "source": [
    "We extract the name of the regions which will be later used in the model creation."
   ]
  },
  {
   "cell_type": "code",
   "execution_count": 5,
   "metadata": {},
   "outputs": [],
   "source": [
    "regions = list(df_ercot)[1:]"
   ]
  },
  {
   "cell_type": "markdown",
   "metadata": {},
   "source": [
    "Global models can be enabled when the `df` input of the function has an additional column 'ID', which identifies the different time-series (besides the typical column 'ds', which has the timestamps, and column 'y', which contains the observed values of the time series). We select data from a three-year interval in our example (from 2004 to 2007)."
   ]
  },
  {
   "cell_type": "code",
   "execution_count": 7,
   "metadata": {},
   "outputs": [
    {
     "data": {
      "text/html": [
       "<div>\n",
       "<style scoped>\n",
       "    .dataframe tbody tr th:only-of-type {\n",
       "        vertical-align: middle;\n",
       "    }\n",
       "\n",
       "    .dataframe tbody tr th {\n",
       "        vertical-align: top;\n",
       "    }\n",
       "\n",
       "    .dataframe thead th {\n",
       "        text-align: right;\n",
       "    }\n",
       "</style>\n",
       "<table border=\"1\" class=\"dataframe\">\n",
       "  <thead>\n",
       "    <tr style=\"text-align: right;\">\n",
       "      <th></th>\n",
       "      <th>ds</th>\n",
       "      <th>y</th>\n",
       "      <th>ID</th>\n",
       "    </tr>\n",
       "  </thead>\n",
       "  <tbody>\n",
       "    <tr>\n",
       "      <th>0</th>\n",
       "      <td>2004-01-01 01:00:00</td>\n",
       "      <td>7225.09</td>\n",
       "      <td>COAST</td>\n",
       "    </tr>\n",
       "    <tr>\n",
       "      <th>1</th>\n",
       "      <td>2004-01-01 02:00:00</td>\n",
       "      <td>6994.25</td>\n",
       "      <td>COAST</td>\n",
       "    </tr>\n",
       "    <tr>\n",
       "      <th>2</th>\n",
       "      <td>2004-01-01 03:00:00</td>\n",
       "      <td>6717.42</td>\n",
       "      <td>COAST</td>\n",
       "    </tr>\n",
       "    <tr>\n",
       "      <th>3</th>\n",
       "      <td>2004-01-01 04:00:00</td>\n",
       "      <td>6554.27</td>\n",
       "      <td>COAST</td>\n",
       "    </tr>\n",
       "    <tr>\n",
       "      <th>4</th>\n",
       "      <td>2004-01-01 05:00:00</td>\n",
       "      <td>6511.19</td>\n",
       "      <td>COAST</td>\n",
       "    </tr>\n",
       "  </tbody>\n",
       "</table>\n",
       "</div>"
      ],
      "text/plain": [
       "                    ds        y     ID\n",
       "0  2004-01-01 01:00:00  7225.09  COAST\n",
       "1  2004-01-01 02:00:00  6994.25  COAST\n",
       "2  2004-01-01 03:00:00  6717.42  COAST\n",
       "3  2004-01-01 04:00:00  6554.27  COAST\n",
       "4  2004-01-01 05:00:00  6511.19  COAST"
      ]
     },
     "execution_count": 7,
     "metadata": {},
     "output_type": "execute_result"
    }
   ],
   "source": [
    "df_global = pd.DataFrame()\n",
    "for col in regions:\n",
    "    aux = df_ercot[[\"ds\", col]].copy(deep=True)  # select column associated with region\n",
    "    aux = aux.iloc[:26301, :].copy(deep=True)  # selects data up to 26301 row (2004 to 2007 time stamps)\n",
    "    aux = aux.rename(columns={col: \"y\"})  # rename column of data to 'y' which is compatible with Neural Prophet\n",
    "    aux[\"ID\"] = col\n",
    "    df_global = pd.concat((df_global, aux))\n",
    "df_global.head(3)"
   ]
  },
  {
   "cell_type": "markdown",
   "metadata": {},
   "source": [
    "When a pd.DataFrame with an 'ID' column is the input for the `split_df` function, train and validation data are provided in a similar format. For global models, the input data is typically split according to a fraction of the time encompassing all time series (default when there is more than one 'ID' and when `local_split=False`). If the user wants to split each time series locally, the `local_split` parameter must be set to True. In this example, we will split our data into train and test (with a 33% test proportion - 2 years train and 1 year test)."
   ]
  },
  {
   "cell_type": "markdown",
   "metadata": {},
   "source": [
    "Global modeling lets us train our model based on a global or a local normalization. In the latter, each time series is normalized locally (each time series has its respective data params). In the former, we have unique data params which will be used in all the time series at hand."
   ]
  },
  {
   "cell_type": "markdown",
   "metadata": {},
   "source": [
    "## Global Modeling - Local Normalization"
   ]
  },
  {
   "cell_type": "code",
   "execution_count": 21,
   "metadata": {},
   "outputs": [],
   "source": [
    "m = NeuralProphet(n_lags=24, epochs=2, learning_rate=0.1)\n",
    "df_train, df_test = m.split_df(df_global, valid_p=0.33, local_split=True)"
   ]
  },
  {
   "cell_type": "markdown",
   "metadata": {},
   "source": [
    "The default fitting of global models is based on local data normalization. Each time series will have data normalization parameters associated with each 'ID' provided. We are going to define a model which predicts the next hour based on the last 24 hours."
   ]
  },
  {
   "cell_type": "markdown",
   "metadata": {},
   "source": [
    "After creating an object of the `NeuralProphet`, a model can be created by calling the `fit` function."
   ]
  },
  {
   "cell_type": "code",
   "execution_count": 22,
   "metadata": {
    "colab": {
     "base_uri": "https://localhost:8080/",
     "height": 148,
     "referenced_widgets": [
      "4ac0917121f8498698e087259b787dcf",
      "94108fe9090f47c7ba2216479e0d3fac",
      "2d8235496ec642af8192f52d9f2692b1",
      "c94a8ae41b994c55a96ad44806b0f1c7",
      "24bf564f55644476911a6cf004a395e7",
      "87c170d1e00742a29e7f797e98c49cc2",
      "8a192ccc35e94e9f8be85898ed583e2c",
      "9467345334da47a8beadc770feef952a",
      "dc468cd35d2b4f0e8eb287689ac15412",
      "f35fc9cbd82c4187a4cdc08c3ac26998",
      "aab682cd3df24821a80331720f7c24e5"
     ]
    },
    "id": "s7faUgnrvGFN",
    "outputId": "50da2450-767f-4e3b-f03d-d03226d24ff8",
    "scrolled": true
   },
   "outputs": [
    {
     "name": "stderr",
     "output_type": "stream",
     "text": [
      "                                                                                                                                                 \r"
     ]
    },
    {
     "data": {
      "text/html": [
       "<div>\n",
       "<style scoped>\n",
       "    .dataframe tbody tr th:only-of-type {\n",
       "        vertical-align: middle;\n",
       "    }\n",
       "\n",
       "    .dataframe tbody tr th {\n",
       "        vertical-align: top;\n",
       "    }\n",
       "\n",
       "    .dataframe thead th {\n",
       "        text-align: right;\n",
       "    }\n",
       "</style>\n",
       "<table border=\"1\" class=\"dataframe\">\n",
       "  <thead>\n",
       "    <tr style=\"text-align: right;\">\n",
       "      <th></th>\n",
       "      <th>SmoothL1Loss</th>\n",
       "      <th>MAE</th>\n",
       "      <th>RMSE</th>\n",
       "      <th>RegLoss</th>\n",
       "    </tr>\n",
       "  </thead>\n",
       "  <tbody>\n",
       "    <tr>\n",
       "      <th>1</th>\n",
       "      <td>0.000437</td>\n",
       "      <td>0.02239</td>\n",
       "      <td>0.028922</td>\n",
       "      <td>0.0</td>\n",
       "    </tr>\n",
       "  </tbody>\n",
       "</table>\n",
       "</div>"
      ],
      "text/plain": [
       "   SmoothL1Loss      MAE      RMSE  RegLoss\n",
       "1      0.000437  0.02239  0.028922      0.0"
      ]
     },
     "execution_count": 22,
     "metadata": {},
     "output_type": "execute_result"
    }
   ],
   "source": [
    "metrics = m.fit(df_train, freq=\"H\")\n",
    "metrics.tail(1)"
   ]
  },
  {
   "cell_type": "markdown",
   "metadata": {},
   "source": [
    "### 1. Network Summary\n",
    "From https://pypi.org/project/torch-summary/ :\n",
    "\n",
    "Torch-summary provides information complementary to what is provided by `print(your_model)` in PyTorch, similar to Tensorflow's `model.summary()` API to view the visualization of the model, which is helpful while debugging your network. In this project, we implement a similar functionality in PyTorch and create a clean, simple interface to use in your projects.`\n"
   ]
  },
  {
   "cell_type": "code",
   "execution_count": 15,
   "metadata": {},
   "outputs": [
    {
     "name": "stdout",
     "output_type": "stream",
     "text": [
      "=================================================================\n",
      "Layer (type:depth-idx)                   Param #\n",
      "=================================================================\n",
      "├─ParameterDict: 1-1                     30\n",
      "├─ModuleList: 1-2                        --\n",
      "|    └─Linear: 2-1                       24\n",
      "=================================================================\n",
      "Total params: 54\n",
      "Trainable params: 54\n",
      "Non-trainable params: 0\n",
      "=================================================================\n"
     ]
    },
    {
     "data": {
      "text/plain": [
       "=================================================================\n",
       "Layer (type:depth-idx)                   Param #\n",
       "=================================================================\n",
       "├─ParameterDict: 1-1                     30\n",
       "├─ModuleList: 1-2                        --\n",
       "|    └─Linear: 2-1                       24\n",
       "=================================================================\n",
       "Total params: 54\n",
       "Trainable params: 54\n",
       "Non-trainable params: 0\n",
       "================================================================="
      ]
     },
     "metadata": {},
     "output_type": "display_data"
    }
   ],
   "source": [
    "display(summary(m.model))"
   ]
  },
  {
   "cell_type": "markdown",
   "metadata": {},
   "source": [
    "### 2. Network Vizualisation\n",
    "\n",
    "From https://github.com/szagoruyko/pytorchviz :\n",
    "\n",
    "A small package to create visualizations of PyTorch execution graphs and traces.\n"
   ]
  },
  {
   "cell_type": "code",
   "execution_count": 16,
   "metadata": {},
   "outputs": [
    {
     "data": {
      "image/svg+xml": "<?xml version=\"1.0\" encoding=\"UTF-8\" standalone=\"no\"?>\n<!DOCTYPE svg PUBLIC \"-//W3C//DTD SVG 1.1//EN\"\n \"http://www.w3.org/Graphics/SVG/1.1/DTD/svg11.dtd\">\n<!-- Generated by graphviz version 2.43.0 (0)\n -->\n<!-- Title: %3 Pages: 1 -->\n<svg width=\"850pt\" height=\"831pt\"\n viewBox=\"0.00 0.00 850.00 831.00\" xmlns=\"http://www.w3.org/2000/svg\" xmlns:xlink=\"http://www.w3.org/1999/xlink\">\n<g id=\"graph0\" class=\"graph\" transform=\"scale(1 1) rotate(0) translate(4 827)\">\n<title>%3</title>\n<polygon fill=\"white\" stroke=\"transparent\" points=\"-4,4 -4,-827 846,-827 846,4 -4,4\"/>\n<!-- 139982365955936 -->\n<g id=\"node1\" class=\"node\">\n<title>139982365955936</title>\n<polygon fill=\"#caff70\" stroke=\"black\" points=\"366,-31 301,-31 301,0 366,0 366,-31\"/>\n<text text-anchor=\"middle\" x=\"333.5\" y=\"-7\" font-family=\"monospace\" font-size=\"10.00\"> (64, 1)</text>\n</g>\n<!-- 139983192920784 -->\n<g id=\"node2\" class=\"node\">\n<title>139983192920784</title>\n<polygon fill=\"lightgrey\" stroke=\"black\" points=\"378,-86 289,-86 289,-67 378,-67 378,-86\"/>\n<text text-anchor=\"middle\" x=\"333.5\" y=\"-74\" font-family=\"monospace\" font-size=\"10.00\">AddBackward0</text>\n</g>\n<!-- 139983192920784&#45;&gt;139982365955936 -->\n<g id=\"edge50\" class=\"edge\">\n<title>139983192920784&#45;&gt;139982365955936</title>\n<path fill=\"none\" stroke=\"black\" d=\"M333.5,-66.79C333.5,-60.07 333.5,-50.4 333.5,-41.34\"/>\n<polygon fill=\"black\" stroke=\"black\" points=\"337,-41.19 333.5,-31.19 330,-41.19 337,-41.19\"/>\n</g>\n<!-- 139983192923616 -->\n<g id=\"node3\" class=\"node\">\n<title>139983192923616</title>\n<polygon fill=\"lightgrey\" stroke=\"black\" points=\"378,-141 289,-141 289,-122 378,-122 378,-141\"/>\n<text text-anchor=\"middle\" x=\"333.5\" y=\"-129\" font-family=\"monospace\" font-size=\"10.00\">AddBackward0</text>\n</g>\n<!-- 139983192923616&#45;&gt;139983192920784 -->\n<g id=\"edge1\" class=\"edge\">\n<title>139983192923616&#45;&gt;139983192920784</title>\n<path fill=\"none\" stroke=\"black\" d=\"M333.5,-121.75C333.5,-114.8 333.5,-104.85 333.5,-96.13\"/>\n<polygon fill=\"black\" stroke=\"black\" points=\"337,-96.09 333.5,-86.09 330,-96.09 337,-96.09\"/>\n</g>\n<!-- 139983192924432 -->\n<g id=\"node4\" class=\"node\">\n<title>139983192924432</title>\n<polygon fill=\"lightgrey\" stroke=\"black\" points=\"317,-196 228,-196 228,-177 317,-177 317,-196\"/>\n<text text-anchor=\"middle\" x=\"272.5\" y=\"-184\" font-family=\"monospace\" font-size=\"10.00\">AddBackward0</text>\n</g>\n<!-- 139983192924432&#45;&gt;139983192923616 -->\n<g id=\"edge2\" class=\"edge\">\n<title>139983192924432&#45;&gt;139983192923616</title>\n<path fill=\"none\" stroke=\"black\" d=\"M282.3,-176.98C291.32,-169.15 304.91,-157.34 315.82,-147.86\"/>\n<polygon fill=\"black\" stroke=\"black\" points=\"318.27,-150.37 323.52,-141.17 313.68,-145.09 318.27,-150.37\"/>\n</g>\n<!-- 139982356774432 -->\n<g id=\"node5\" class=\"node\">\n<title>139982356774432</title>\n<polygon fill=\"lightgrey\" stroke=\"black\" points=\"206,-251 105,-251 105,-232 206,-232 206,-251\"/>\n<text text-anchor=\"middle\" x=\"155.5\" y=\"-239\" font-family=\"monospace\" font-size=\"10.00\">AccumulateGrad</text>\n</g>\n<!-- 139982356774432&#45;&gt;139983192924432 -->\n<g id=\"edge3\" class=\"edge\">\n<title>139982356774432&#45;&gt;139983192924432</title>\n<path fill=\"none\" stroke=\"black\" d=\"M174.3,-231.98C193.12,-223.46 222.32,-210.23 244,-200.41\"/>\n<polygon fill=\"black\" stroke=\"black\" points=\"245.7,-203.48 253.36,-196.17 242.81,-197.11 245.7,-203.48\"/>\n</g>\n<!-- 139982845487328 -->\n<g id=\"node6\" class=\"node\">\n<title>139982845487328</title>\n<polygon fill=\"lightblue\" stroke=\"black\" points=\"178.5,-317 124.5,-317 124.5,-287 178.5,-287 178.5,-317\"/>\n<text text-anchor=\"middle\" x=\"151.5\" y=\"-305\" font-family=\"monospace\" font-size=\"10.00\">bias</text>\n<text text-anchor=\"middle\" x=\"151.5\" y=\"-294\" font-family=\"monospace\" font-size=\"10.00\"> (1)</text>\n</g>\n<!-- 139982845487328&#45;&gt;139982356774432 -->\n<g id=\"edge4\" class=\"edge\">\n<title>139982845487328&#45;&gt;139982356774432</title>\n<path fill=\"none\" stroke=\"black\" d=\"M152.47,-286.84C152.99,-279.21 153.64,-269.7 154.2,-261.45\"/>\n<polygon fill=\"black\" stroke=\"black\" points=\"157.71,-261.48 154.9,-251.27 150.73,-261 157.71,-261.48\"/>\n</g>\n<!-- 139982356773808 -->\n<g id=\"node7\" class=\"node\">\n<title>139982356773808</title>\n<polygon fill=\"lightgrey\" stroke=\"black\" points=\"317,-251 228,-251 228,-232 317,-232 317,-251\"/>\n<text text-anchor=\"middle\" x=\"272.5\" y=\"-239\" font-family=\"monospace\" font-size=\"10.00\">AddBackward0</text>\n</g>\n<!-- 139982356773808&#45;&gt;139983192924432 -->\n<g id=\"edge5\" class=\"edge\">\n<title>139982356773808&#45;&gt;139983192924432</title>\n<path fill=\"none\" stroke=\"black\" d=\"M272.5,-231.75C272.5,-224.8 272.5,-214.85 272.5,-206.13\"/>\n<polygon fill=\"black\" stroke=\"black\" points=\"276,-206.09 272.5,-196.09 269,-206.09 276,-206.09\"/>\n</g>\n<!-- 139982366320064 -->\n<g id=\"node8\" class=\"node\">\n<title>139982366320064</title>\n<polygon fill=\"lightgrey\" stroke=\"black\" points=\"216,-372 127,-372 127,-353 216,-353 216,-372\"/>\n<text text-anchor=\"middle\" x=\"171.5\" y=\"-360\" font-family=\"monospace\" font-size=\"10.00\">MulBackward0</text>\n</g>\n<!-- 139982366320064&#45;&gt;139982356773808 -->\n<g id=\"edge6\" class=\"edge\">\n<title>139982366320064&#45;&gt;139982356773808</title>\n<path fill=\"none\" stroke=\"black\" d=\"M177.01,-352.85C186.28,-338.54 205.91,-309.34 225.5,-287 234.46,-276.78 245.45,-266.28 254.55,-258.05\"/>\n<polygon fill=\"black\" stroke=\"black\" points=\"257.1,-260.46 262.26,-251.2 252.46,-255.23 257.1,-260.46\"/>\n</g>\n<!-- 139983192088656 -->\n<g id=\"node9\" class=\"node\">\n<title>139983192088656</title>\n<polygon fill=\"lightgrey\" stroke=\"black\" points=\"211,-487.5 122,-487.5 122,-468.5 211,-468.5 211,-487.5\"/>\n<text text-anchor=\"middle\" x=\"166.5\" y=\"-475.5\" font-family=\"monospace\" font-size=\"10.00\">AddBackward0</text>\n</g>\n<!-- 139983192088656&#45;&gt;139982366320064 -->\n<g id=\"edge7\" class=\"edge\">\n<title>139983192088656&#45;&gt;139982366320064</title>\n<path fill=\"none\" stroke=\"black\" d=\"M166.88,-468.47C167.68,-450.23 169.58,-407.07 170.68,-382.14\"/>\n<polygon fill=\"black\" stroke=\"black\" points=\"174.18,-382.27 171.12,-372.13 167.18,-381.97 174.18,-382.27\"/>\n</g>\n<!-- 139983192087792 -->\n<g id=\"node10\" class=\"node\">\n<title>139983192087792</title>\n<polygon fill=\"lightgrey\" stroke=\"black\" points=\"101,-685.5 0,-685.5 0,-666.5 101,-666.5 101,-685.5\"/>\n<text text-anchor=\"middle\" x=\"50.5\" y=\"-673.5\" font-family=\"monospace\" font-size=\"10.00\">AccumulateGrad</text>\n</g>\n<!-- 139983192087792&#45;&gt;139983192088656 -->\n<g id=\"edge8\" class=\"edge\">\n<title>139983192087792&#45;&gt;139983192088656</title>\n<path fill=\"none\" stroke=\"black\" d=\"M53.13,-666.19C60.46,-642.52 82.74,-576.17 115.5,-529 124.54,-515.98 137.27,-503.5 147.75,-494.26\"/>\n<polygon fill=\"black\" stroke=\"black\" points=\"150.22,-496.75 155.56,-487.6 145.68,-491.43 150.22,-496.75\"/>\n</g>\n<!-- 139982366343520 -->\n<g id=\"node23\" class=\"node\">\n<title>139982366343520</title>\n<polygon fill=\"lightgrey\" stroke=\"black\" points=\"323,-619.5 234,-619.5 234,-600.5 323,-600.5 323,-619.5\"/>\n<text text-anchor=\"middle\" x=\"278.5\" y=\"-607.5\" font-family=\"monospace\" font-size=\"10.00\">CatBackward0</text>\n</g>\n<!-- 139983192087792&#45;&gt;139982366343520 -->\n<g id=\"edge23\" class=\"edge\">\n<title>139983192087792&#45;&gt;139982366343520</title>\n<path fill=\"none\" stroke=\"black\" d=\"M81.25,-666.37C121.82,-654.98 193.31,-634.91 238.18,-622.32\"/>\n<polygon fill=\"black\" stroke=\"black\" points=\"239.19,-625.67 247.87,-619.6 237.3,-618.93 239.19,-625.67\"/>\n</g>\n<!-- 139982365904784 -->\n<g id=\"node11\" class=\"node\">\n<title>139982365904784</title>\n<polygon fill=\"lightblue\" stroke=\"black\" points=\"83,-757 18,-757 18,-727 83,-727 83,-757\"/>\n<text text-anchor=\"middle\" x=\"50.5\" y=\"-745\" font-family=\"monospace\" font-size=\"10.00\">trend_k0</text>\n<text text-anchor=\"middle\" x=\"50.5\" y=\"-734\" font-family=\"monospace\" font-size=\"10.00\"> (1)</text>\n</g>\n<!-- 139982365904784&#45;&gt;139983192087792 -->\n<g id=\"edge9\" class=\"edge\">\n<title>139982365904784&#45;&gt;139983192087792</title>\n<path fill=\"none\" stroke=\"black\" d=\"M50.5,-726.8C50.5,-717.7 50.5,-705.79 50.5,-695.9\"/>\n<polygon fill=\"black\" stroke=\"black\" points=\"54,-695.84 50.5,-685.84 47,-695.84 54,-695.84\"/>\n</g>\n<!-- 139983192089184 -->\n<g id=\"node12\" class=\"node\">\n<title>139983192089184</title>\n<polygon fill=\"lightgrey\" stroke=\"black\" points=\"214,-553.5 125,-553.5 125,-534.5 214,-534.5 214,-553.5\"/>\n<text text-anchor=\"middle\" x=\"169.5\" y=\"-541.5\" font-family=\"monospace\" font-size=\"10.00\">SumBackward1</text>\n</g>\n<!-- 139983192089184&#45;&gt;139983192088656 -->\n<g id=\"edge10\" class=\"edge\">\n<title>139983192089184&#45;&gt;139983192088656</title>\n<path fill=\"none\" stroke=\"black\" d=\"M169.1,-534.37C168.66,-525.07 167.95,-509.98 167.39,-497.9\"/>\n<polygon fill=\"black\" stroke=\"black\" points=\"170.88,-497.73 166.92,-487.91 163.89,-498.06 170.88,-497.73\"/>\n</g>\n<!-- 139983199715728 -->\n<g id=\"node13\" class=\"node\">\n<title>139983199715728</title>\n<polygon fill=\"lightgrey\" stroke=\"black\" points=\"215,-619.5 126,-619.5 126,-600.5 215,-600.5 215,-619.5\"/>\n<text text-anchor=\"middle\" x=\"170.5\" y=\"-607.5\" font-family=\"monospace\" font-size=\"10.00\">MulBackward0</text>\n</g>\n<!-- 139983199715728&#45;&gt;139983192089184 -->\n<g id=\"edge11\" class=\"edge\">\n<title>139983199715728&#45;&gt;139983192089184</title>\n<path fill=\"none\" stroke=\"black\" d=\"M170.37,-600.37C170.22,-591.16 169.99,-576.29 169.8,-564.27\"/>\n<polygon fill=\"black\" stroke=\"black\" points=\"173.3,-563.85 169.64,-553.91 166.3,-563.96 173.3,-563.85\"/>\n</g>\n<!-- 139983199718560 -->\n<g id=\"node14\" class=\"node\">\n<title>139983199718560</title>\n<polygon fill=\"lightgrey\" stroke=\"black\" points=\"244,-685.5 119,-685.5 119,-666.5 244,-666.5 244,-685.5\"/>\n<text text-anchor=\"middle\" x=\"181.5\" y=\"-673.5\" font-family=\"monospace\" font-size=\"10.00\">UnsqueezeBackward0</text>\n</g>\n<!-- 139983199718560&#45;&gt;139983199715728 -->\n<g id=\"edge12\" class=\"edge\">\n<title>139983199718560&#45;&gt;139983199715728</title>\n<path fill=\"none\" stroke=\"black\" d=\"M180.02,-666.37C178.42,-657.07 175.82,-641.98 173.75,-629.9\"/>\n<polygon fill=\"black\" stroke=\"black\" points=\"177.17,-629.17 172.03,-619.91 170.28,-630.35 177.17,-629.17\"/>\n</g>\n<!-- 139982366344000 -->\n<g id=\"node15\" class=\"node\">\n<title>139982366344000</title>\n<polygon fill=\"lightgrey\" stroke=\"black\" points=\"363,-751.5 262,-751.5 262,-732.5 363,-732.5 363,-751.5\"/>\n<text text-anchor=\"middle\" x=\"312.5\" y=\"-739.5\" font-family=\"monospace\" font-size=\"10.00\">AccumulateGrad</text>\n</g>\n<!-- 139982366344000&#45;&gt;139983199718560 -->\n<g id=\"edge13\" class=\"edge\">\n<title>139982366344000&#45;&gt;139983199718560</title>\n<path fill=\"none\" stroke=\"black\" d=\"M294.83,-732.37C272.66,-721.54 234.42,-702.85 208.55,-690.22\"/>\n<polygon fill=\"black\" stroke=\"black\" points=\"209.83,-686.94 199.31,-685.7 206.75,-693.23 209.83,-686.94\"/>\n</g>\n<!-- 139982366347024 -->\n<g id=\"node22\" class=\"node\">\n<title>139982366347024</title>\n<polygon fill=\"lightgrey\" stroke=\"black\" points=\"442,-619.5 341,-619.5 341,-600.5 442,-600.5 442,-619.5\"/>\n<text text-anchor=\"middle\" x=\"391.5\" y=\"-607.5\" font-family=\"monospace\" font-size=\"10.00\">SliceBackward0</text>\n</g>\n<!-- 139982366344000&#45;&gt;139982366347024 -->\n<g id=\"edge21\" class=\"edge\">\n<title>139982366344000&#45;&gt;139982366347024</title>\n<path fill=\"none\" stroke=\"black\" d=\"M327.15,-732.38C340.7,-723.65 360.37,-708.9 371.5,-691 383.17,-672.23 388.04,-647.01 390.07,-629.94\"/>\n<polygon fill=\"black\" stroke=\"black\" points=\"393.59,-629.89 391.06,-619.6 386.62,-629.22 393.59,-629.89\"/>\n</g>\n<!-- 139983199614144 -->\n<g id=\"node24\" class=\"node\">\n<title>139983199614144</title>\n<polygon fill=\"lightgrey\" stroke=\"black\" points=\"363,-685.5 262,-685.5 262,-666.5 363,-666.5 363,-685.5\"/>\n<text text-anchor=\"middle\" x=\"312.5\" y=\"-673.5\" font-family=\"monospace\" font-size=\"10.00\">SliceBackward0</text>\n</g>\n<!-- 139982366344000&#45;&gt;139983199614144 -->\n<g id=\"edge25\" class=\"edge\">\n<title>139982366344000&#45;&gt;139983199614144</title>\n<path fill=\"none\" stroke=\"black\" d=\"M312.5,-732.37C312.5,-723.16 312.5,-708.29 312.5,-696.27\"/>\n<polygon fill=\"black\" stroke=\"black\" points=\"316,-695.91 312.5,-685.91 309,-695.91 316,-695.91\"/>\n</g>\n<!-- 139982471526048 -->\n<g id=\"node16\" class=\"node\">\n<title>139982471526048</title>\n<polygon fill=\"lightblue\" stroke=\"black\" points=\"357,-823 268,-823 268,-793 357,-793 357,-823\"/>\n<text text-anchor=\"middle\" x=\"312.5\" y=\"-811\" font-family=\"monospace\" font-size=\"10.00\">trend_deltas</text>\n<text text-anchor=\"middle\" x=\"312.5\" y=\"-800\" font-family=\"monospace\" font-size=\"10.00\"> (11)</text>\n</g>\n<!-- 139982471526048&#45;&gt;139982366344000 -->\n<g id=\"edge14\" class=\"edge\">\n<title>139982471526048&#45;&gt;139982366344000</title>\n<path fill=\"none\" stroke=\"black\" d=\"M312.5,-792.8C312.5,-783.7 312.5,-771.79 312.5,-761.9\"/>\n<polygon fill=\"black\" stroke=\"black\" points=\"316,-761.84 312.5,-751.84 309,-761.84 316,-761.84\"/>\n</g>\n<!-- 139982366311904 -->\n<g id=\"node17\" class=\"node\">\n<title>139982366311904</title>\n<polygon fill=\"lightgrey\" stroke=\"black\" points=\"324,-311.5 235,-311.5 235,-292.5 324,-292.5 324,-311.5\"/>\n<text text-anchor=\"middle\" x=\"279.5\" y=\"-299.5\" font-family=\"monospace\" font-size=\"10.00\">SumBackward1</text>\n</g>\n<!-- 139982366311904&#45;&gt;139982356773808 -->\n<g id=\"edge15\" class=\"edge\">\n<title>139982366311904&#45;&gt;139982356773808</title>\n<path fill=\"none\" stroke=\"black\" d=\"M278.47,-292.37C277.5,-284.25 276.01,-271.81 274.76,-261.39\"/>\n<polygon fill=\"black\" stroke=\"black\" points=\"278.2,-260.68 273.54,-251.17 271.25,-261.51 278.2,-260.68\"/>\n</g>\n<!-- 139983199718512 -->\n<g id=\"node18\" class=\"node\">\n<title>139983199718512</title>\n<polygon fill=\"lightgrey\" stroke=\"black\" points=\"324,-372 235,-372 235,-353 324,-353 324,-372\"/>\n<text text-anchor=\"middle\" x=\"279.5\" y=\"-360\" font-family=\"monospace\" font-size=\"10.00\">MulBackward0</text>\n</g>\n<!-- 139983199718512&#45;&gt;139982366311904 -->\n<g id=\"edge16\" class=\"edge\">\n<title>139983199718512&#45;&gt;139982366311904</title>\n<path fill=\"none\" stroke=\"black\" d=\"M279.5,-352.87C279.5,-344.75 279.5,-332.31 279.5,-321.89\"/>\n<polygon fill=\"black\" stroke=\"black\" points=\"283,-321.67 279.5,-311.67 276,-321.67 283,-321.67\"/>\n</g>\n<!-- 139983192091440 -->\n<g id=\"node19\" class=\"node\">\n<title>139983192091440</title>\n<polygon fill=\"lightgrey\" stroke=\"black\" points=\"324,-427 235,-427 235,-408 324,-408 324,-427\"/>\n<text text-anchor=\"middle\" x=\"279.5\" y=\"-415\" font-family=\"monospace\" font-size=\"10.00\">MulBackward0</text>\n</g>\n<!-- 139983192091440&#45;&gt;139983199718512 -->\n<g id=\"edge17\" class=\"edge\">\n<title>139983192091440&#45;&gt;139983199718512</title>\n<path fill=\"none\" stroke=\"black\" d=\"M279.5,-407.75C279.5,-400.8 279.5,-390.85 279.5,-382.13\"/>\n<polygon fill=\"black\" stroke=\"black\" points=\"283,-382.09 279.5,-372.09 276,-382.09 283,-382.09\"/>\n</g>\n<!-- 139982366343952 -->\n<g id=\"node20\" class=\"node\">\n<title>139982366343952</title>\n<polygon fill=\"lightgrey\" stroke=\"black\" points=\"330,-487.5 229,-487.5 229,-468.5 330,-468.5 330,-487.5\"/>\n<text text-anchor=\"middle\" x=\"279.5\" y=\"-475.5\" font-family=\"monospace\" font-size=\"10.00\">SliceBackward0</text>\n</g>\n<!-- 139982366343952&#45;&gt;139983192091440 -->\n<g id=\"edge18\" class=\"edge\">\n<title>139982366343952&#45;&gt;139983192091440</title>\n<path fill=\"none\" stroke=\"black\" d=\"M279.5,-468.37C279.5,-460.25 279.5,-447.81 279.5,-437.39\"/>\n<polygon fill=\"black\" stroke=\"black\" points=\"283,-437.17 279.5,-427.17 276,-437.17 283,-437.17\"/>\n</g>\n<!-- 139982366343712 -->\n<g id=\"node21\" class=\"node\">\n<title>139982366343712</title>\n<polygon fill=\"lightgrey\" stroke=\"black\" points=\"324,-553.5 235,-553.5 235,-534.5 324,-534.5 324,-553.5\"/>\n<text text-anchor=\"middle\" x=\"279.5\" y=\"-541.5\" font-family=\"monospace\" font-size=\"10.00\">SubBackward0</text>\n</g>\n<!-- 139982366343712&#45;&gt;139982366343952 -->\n<g id=\"edge19\" class=\"edge\">\n<title>139982366343712&#45;&gt;139982366343952</title>\n<path fill=\"none\" stroke=\"black\" d=\"M279.5,-534.37C279.5,-525.16 279.5,-510.29 279.5,-498.27\"/>\n<polygon fill=\"black\" stroke=\"black\" points=\"283,-497.91 279.5,-487.91 276,-497.91 283,-497.91\"/>\n</g>\n<!-- 139982366347024&#45;&gt;139982366343712 -->\n<g id=\"edge20\" class=\"edge\">\n<title>139982366347024&#45;&gt;139982366343712</title>\n<path fill=\"none\" stroke=\"black\" d=\"M376.4,-600.37C357.69,-589.68 325.6,-571.35 303.51,-558.72\"/>\n<polygon fill=\"black\" stroke=\"black\" points=\"305.14,-555.62 294.72,-553.7 301.67,-561.7 305.14,-555.62\"/>\n</g>\n<!-- 139982366343520&#45;&gt;139982366343712 -->\n<g id=\"edge22\" class=\"edge\">\n<title>139982366343520&#45;&gt;139982366343712</title>\n<path fill=\"none\" stroke=\"black\" d=\"M278.63,-600.37C278.78,-591.16 279.01,-576.29 279.2,-564.27\"/>\n<polygon fill=\"black\" stroke=\"black\" points=\"282.7,-563.96 279.36,-553.91 275.7,-563.85 282.7,-563.96\"/>\n</g>\n<!-- 139983199614144&#45;&gt;139982366343520 -->\n<g id=\"edge24\" class=\"edge\">\n<title>139983199614144&#45;&gt;139982366343520</title>\n<path fill=\"none\" stroke=\"black\" d=\"M307.91,-666.37C302.82,-656.78 294.46,-641.05 287.96,-628.8\"/>\n<polygon fill=\"black\" stroke=\"black\" points=\"291.01,-627.09 283.23,-619.91 284.83,-630.38 291.01,-627.09\"/>\n</g>\n<!-- 139983192927504 -->\n<g id=\"node25\" class=\"node\">\n<title>139983192927504</title>\n<polygon fill=\"lightgrey\" stroke=\"black\" points=\"446,-196 357,-196 357,-177 446,-177 446,-196\"/>\n<text text-anchor=\"middle\" x=\"401.5\" y=\"-184\" font-family=\"monospace\" font-size=\"10.00\">AddBackward0</text>\n</g>\n<!-- 139983192927504&#45;&gt;139983192923616 -->\n<g id=\"edge26\" class=\"edge\">\n<title>139983192927504&#45;&gt;139983192923616</title>\n<path fill=\"none\" stroke=\"black\" d=\"M390.57,-176.98C380.42,-169.07 365.08,-157.11 352.85,-147.58\"/>\n<polygon fill=\"black\" stroke=\"black\" points=\"354.66,-144.56 344.62,-141.17 350.36,-150.08 354.66,-144.56\"/>\n</g>\n<!-- 139983199723216 -->\n<g id=\"node26\" class=\"node\">\n<title>139983199723216</title>\n<polygon fill=\"lightgrey\" stroke=\"black\" points=\"446,-251 357,-251 357,-232 446,-232 446,-251\"/>\n<text text-anchor=\"middle\" x=\"401.5\" y=\"-239\" font-family=\"monospace\" font-size=\"10.00\">AddBackward0</text>\n</g>\n<!-- 139983199723216&#45;&gt;139983192927504 -->\n<g id=\"edge27\" class=\"edge\">\n<title>139983199723216&#45;&gt;139983192927504</title>\n<path fill=\"none\" stroke=\"black\" d=\"M401.5,-231.75C401.5,-224.8 401.5,-214.85 401.5,-206.13\"/>\n<polygon fill=\"black\" stroke=\"black\" points=\"405,-206.09 401.5,-196.09 398,-206.09 405,-206.09\"/>\n</g>\n<!-- 139982366344048 -->\n<g id=\"node27\" class=\"node\">\n<title>139982366344048</title>\n<polygon fill=\"lightgrey\" stroke=\"black\" points=\"443,-311.5 360,-311.5 360,-292.5 443,-292.5 443,-311.5\"/>\n<text text-anchor=\"middle\" x=\"401.5\" y=\"-299.5\" font-family=\"monospace\" font-size=\"10.00\">MmBackward0</text>\n</g>\n<!-- 139982366344048&#45;&gt;139983199723216 -->\n<g id=\"edge28\" class=\"edge\">\n<title>139982366344048&#45;&gt;139983199723216</title>\n<path fill=\"none\" stroke=\"black\" d=\"M401.5,-292.37C401.5,-284.25 401.5,-271.81 401.5,-261.39\"/>\n<polygon fill=\"black\" stroke=\"black\" points=\"405,-261.17 401.5,-251.17 398,-261.17 405,-261.17\"/>\n</g>\n<!-- 139982366354944 -->\n<g id=\"node28\" class=\"node\">\n<title>139982366354944</title>\n<polygon fill=\"lightgrey\" stroke=\"black\" points=\"440,-372 363,-372 363,-353 440,-353 440,-372\"/>\n<text text-anchor=\"middle\" x=\"401.5\" y=\"-360\" font-family=\"monospace\" font-size=\"10.00\">TBackward0</text>\n</g>\n<!-- 139982366354944&#45;&gt;139982366344048 -->\n<g id=\"edge29\" class=\"edge\">\n<title>139982366354944&#45;&gt;139982366344048</title>\n<path fill=\"none\" stroke=\"black\" d=\"M401.5,-352.87C401.5,-344.75 401.5,-332.31 401.5,-321.89\"/>\n<polygon fill=\"black\" stroke=\"black\" points=\"405,-321.67 401.5,-311.67 398,-321.67 405,-321.67\"/>\n</g>\n<!-- 139983199613904 -->\n<g id=\"node29\" class=\"node\">\n<title>139983199613904</title>\n<polygon fill=\"lightgrey\" stroke=\"black\" points=\"452,-427 351,-427 351,-408 452,-408 452,-427\"/>\n<text text-anchor=\"middle\" x=\"401.5\" y=\"-415\" font-family=\"monospace\" font-size=\"10.00\">AccumulateGrad</text>\n</g>\n<!-- 139983199613904&#45;&gt;139982366354944 -->\n<g id=\"edge30\" class=\"edge\">\n<title>139983199613904&#45;&gt;139982366354944</title>\n<path fill=\"none\" stroke=\"black\" d=\"M401.5,-407.75C401.5,-400.8 401.5,-390.85 401.5,-382.13\"/>\n<polygon fill=\"black\" stroke=\"black\" points=\"405,-382.09 401.5,-372.09 398,-382.09 405,-382.09\"/>\n</g>\n<!-- 139982356822384 -->\n<g id=\"node30\" class=\"node\">\n<title>139982356822384</title>\n<polygon fill=\"lightblue\" stroke=\"black\" points=\"455,-493 348,-493 348,-463 455,-463 455,-493\"/>\n<text text-anchor=\"middle\" x=\"401.5\" y=\"-481\" font-family=\"monospace\" font-size=\"10.00\">ar_net.0.weight</text>\n<text text-anchor=\"middle\" x=\"401.5\" y=\"-470\" font-family=\"monospace\" font-size=\"10.00\"> (1, 24)</text>\n</g>\n<!-- 139982356822384&#45;&gt;139983199613904 -->\n<g id=\"edge31\" class=\"edge\">\n<title>139982356822384&#45;&gt;139983199613904</title>\n<path fill=\"none\" stroke=\"black\" d=\"M401.5,-462.84C401.5,-455.21 401.5,-445.7 401.5,-437.45\"/>\n<polygon fill=\"black\" stroke=\"black\" points=\"405,-437.27 401.5,-427.27 398,-437.27 405,-437.27\"/>\n</g>\n<!-- 139983192089952 -->\n<g id=\"node31\" class=\"node\">\n<title>139983192089952</title>\n<polygon fill=\"lightgrey\" stroke=\"black\" points=\"593,-251 504,-251 504,-232 593,-232 593,-251\"/>\n<text text-anchor=\"middle\" x=\"548.5\" y=\"-239\" font-family=\"monospace\" font-size=\"10.00\">AddBackward0</text>\n</g>\n<!-- 139983192089952&#45;&gt;139983192927504 -->\n<g id=\"edge32\" class=\"edge\">\n<title>139983192089952&#45;&gt;139983192927504</title>\n<path fill=\"none\" stroke=\"black\" d=\"M524.88,-231.98C500.6,-223.23 462.55,-209.51 435.13,-199.62\"/>\n<polygon fill=\"black\" stroke=\"black\" points=\"436.14,-196.27 425.55,-196.17 433.77,-202.85 436.14,-196.27\"/>\n</g>\n<!-- 139982366346112 -->\n<g id=\"node32\" class=\"node\">\n<title>139982366346112</title>\n<polygon fill=\"lightgrey\" stroke=\"black\" points=\"593,-311.5 504,-311.5 504,-292.5 593,-292.5 593,-311.5\"/>\n<text text-anchor=\"middle\" x=\"548.5\" y=\"-299.5\" font-family=\"monospace\" font-size=\"10.00\">AddBackward0</text>\n</g>\n<!-- 139982366346112&#45;&gt;139983192089952 -->\n<g id=\"edge33\" class=\"edge\">\n<title>139982366346112&#45;&gt;139983192089952</title>\n<path fill=\"none\" stroke=\"black\" d=\"M548.5,-292.37C548.5,-284.25 548.5,-271.81 548.5,-261.39\"/>\n<polygon fill=\"black\" stroke=\"black\" points=\"552,-261.17 548.5,-251.17 545,-261.17 552,-261.17\"/>\n</g>\n<!-- 139983199614240 -->\n<g id=\"node33\" class=\"node\">\n<title>139983199614240</title>\n<polygon fill=\"lightgrey\" stroke=\"black\" points=\"566,-372 477,-372 477,-353 566,-353 566,-372\"/>\n<text text-anchor=\"middle\" x=\"521.5\" y=\"-360\" font-family=\"monospace\" font-size=\"10.00\">AddBackward0</text>\n</g>\n<!-- 139983199614240&#45;&gt;139982366346112 -->\n<g id=\"edge34\" class=\"edge\">\n<title>139983199614240&#45;&gt;139982366346112</title>\n<path fill=\"none\" stroke=\"black\" d=\"M525.48,-352.87C529.35,-344.49 535.34,-331.51 540.24,-320.89\"/>\n<polygon fill=\"black\" stroke=\"black\" points=\"543.49,-322.21 544.5,-311.67 537.13,-319.28 543.49,-322.21\"/>\n</g>\n<!-- 139983199613424 -->\n<g id=\"node34\" class=\"node\">\n<title>139983199613424</title>\n<polygon fill=\"lightgrey\" stroke=\"black\" points=\"566,-427 477,-427 477,-408 566,-408 566,-427\"/>\n<text text-anchor=\"middle\" x=\"521.5\" y=\"-415\" font-family=\"monospace\" font-size=\"10.00\">SumBackward1</text>\n</g>\n<!-- 139983199613424&#45;&gt;139983199614240 -->\n<g id=\"edge35\" class=\"edge\">\n<title>139983199613424&#45;&gt;139983199614240</title>\n<path fill=\"none\" stroke=\"black\" d=\"M521.5,-407.75C521.5,-400.8 521.5,-390.85 521.5,-382.13\"/>\n<polygon fill=\"black\" stroke=\"black\" points=\"525,-382.09 521.5,-372.09 518,-382.09 525,-382.09\"/>\n</g>\n<!-- 139983199616640 -->\n<g id=\"node35\" class=\"node\">\n<title>139983199616640</title>\n<polygon fill=\"lightgrey\" stroke=\"black\" points=\"562,-487.5 473,-487.5 473,-468.5 562,-468.5 562,-487.5\"/>\n<text text-anchor=\"middle\" x=\"517.5\" y=\"-475.5\" font-family=\"monospace\" font-size=\"10.00\">MulBackward0</text>\n</g>\n<!-- 139983199616640&#45;&gt;139983199613424 -->\n<g id=\"edge36\" class=\"edge\">\n<title>139983199616640&#45;&gt;139983199613424</title>\n<path fill=\"none\" stroke=\"black\" d=\"M518.09,-468.37C518.65,-460.25 519.5,-447.81 520.21,-437.39\"/>\n<polygon fill=\"black\" stroke=\"black\" points=\"523.72,-437.38 520.91,-427.17 516.73,-436.91 523.72,-437.38\"/>\n</g>\n<!-- 139983199616688 -->\n<g id=\"node36\" class=\"node\">\n<title>139983199616688</title>\n<polygon fill=\"lightgrey\" stroke=\"black\" points=\"573,-553.5 448,-553.5 448,-534.5 573,-534.5 573,-553.5\"/>\n<text text-anchor=\"middle\" x=\"510.5\" y=\"-541.5\" font-family=\"monospace\" font-size=\"10.00\">UnsqueezeBackward0</text>\n</g>\n<!-- 139983199616688&#45;&gt;139983199616640 -->\n<g id=\"edge37\" class=\"edge\">\n<title>139983199616688&#45;&gt;139983199616640</title>\n<path fill=\"none\" stroke=\"black\" d=\"M511.44,-534.37C512.46,-525.07 514.11,-509.98 515.43,-497.9\"/>\n<polygon fill=\"black\" stroke=\"black\" points=\"518.92,-498.23 516.53,-487.91 511.96,-497.47 518.92,-498.23\"/>\n</g>\n<!-- 139983199613760 -->\n<g id=\"node37\" class=\"node\">\n<title>139983199613760</title>\n<polygon fill=\"lightgrey\" stroke=\"black\" points=\"561,-619.5 460,-619.5 460,-600.5 561,-600.5 561,-619.5\"/>\n<text text-anchor=\"middle\" x=\"510.5\" y=\"-607.5\" font-family=\"monospace\" font-size=\"10.00\">AccumulateGrad</text>\n</g>\n<!-- 139983199613760&#45;&gt;139983199616688 -->\n<g id=\"edge38\" class=\"edge\">\n<title>139983199613760&#45;&gt;139983199616688</title>\n<path fill=\"none\" stroke=\"black\" d=\"M510.5,-600.37C510.5,-591.16 510.5,-576.29 510.5,-564.27\"/>\n<polygon fill=\"black\" stroke=\"black\" points=\"514,-563.91 510.5,-553.91 507,-563.91 514,-563.91\"/>\n</g>\n<!-- 139982377006112 -->\n<g id=\"node38\" class=\"node\">\n<title>139982377006112</title>\n<polygon fill=\"lightblue\" stroke=\"black\" points=\"579,-691 442,-691 442,-661 579,-661 579,-691\"/>\n<text text-anchor=\"middle\" x=\"510.5\" y=\"-679\" font-family=\"monospace\" font-size=\"10.00\">season_params.yearly</text>\n<text text-anchor=\"middle\" x=\"510.5\" y=\"-668\" font-family=\"monospace\" font-size=\"10.00\"> (12)</text>\n</g>\n<!-- 139982377006112&#45;&gt;139983199613760 -->\n<g id=\"edge39\" class=\"edge\">\n<title>139982377006112&#45;&gt;139983199613760</title>\n<path fill=\"none\" stroke=\"black\" d=\"M510.5,-660.8C510.5,-651.7 510.5,-639.79 510.5,-629.9\"/>\n<polygon fill=\"black\" stroke=\"black\" points=\"514,-629.84 510.5,-619.84 507,-629.84 514,-629.84\"/>\n</g>\n<!-- 139983199614576 -->\n<g id=\"node39\" class=\"node\">\n<title>139983199614576</title>\n<polygon fill=\"lightgrey\" stroke=\"black\" points=\"678,-372 589,-372 589,-353 678,-353 678,-372\"/>\n<text text-anchor=\"middle\" x=\"633.5\" y=\"-360\" font-family=\"monospace\" font-size=\"10.00\">SumBackward1</text>\n</g>\n<!-- 139983199614576&#45;&gt;139982366346112 -->\n<g id=\"edge40\" class=\"edge\">\n<title>139983199614576&#45;&gt;139982366346112</title>\n<path fill=\"none\" stroke=\"black\" d=\"M620.96,-352.87C607.4,-343.54 585.56,-328.51 569.4,-317.38\"/>\n<polygon fill=\"black\" stroke=\"black\" points=\"571.32,-314.45 561.09,-311.67 567.35,-320.22 571.32,-314.45\"/>\n</g>\n<!-- 139983199616448 -->\n<g id=\"node40\" class=\"node\">\n<title>139983199616448</title>\n<polygon fill=\"lightgrey\" stroke=\"black\" points=\"682,-427 593,-427 593,-408 682,-408 682,-427\"/>\n<text text-anchor=\"middle\" x=\"637.5\" y=\"-415\" font-family=\"monospace\" font-size=\"10.00\">MulBackward0</text>\n</g>\n<!-- 139983199616448&#45;&gt;139983199614576 -->\n<g id=\"edge41\" class=\"edge\">\n<title>139983199616448&#45;&gt;139983199614576</title>\n<path fill=\"none\" stroke=\"black\" d=\"M636.84,-407.75C636.32,-400.8 635.56,-390.85 634.91,-382.13\"/>\n<polygon fill=\"black\" stroke=\"black\" points=\"638.39,-381.8 634.15,-372.09 631.41,-382.32 638.39,-381.8\"/>\n</g>\n<!-- 139983199615344 -->\n<g id=\"node41\" class=\"node\">\n<title>139983199615344</title>\n<polygon fill=\"lightgrey\" stroke=\"black\" points=\"705,-487.5 580,-487.5 580,-468.5 705,-468.5 705,-487.5\"/>\n<text text-anchor=\"middle\" x=\"642.5\" y=\"-475.5\" font-family=\"monospace\" font-size=\"10.00\">UnsqueezeBackward0</text>\n</g>\n<!-- 139983199615344&#45;&gt;139983199616448 -->\n<g id=\"edge42\" class=\"edge\">\n<title>139983199615344&#45;&gt;139983199616448</title>\n<path fill=\"none\" stroke=\"black\" d=\"M641.76,-468.37C641.07,-460.25 640,-447.81 639.11,-437.39\"/>\n<polygon fill=\"black\" stroke=\"black\" points=\"642.58,-436.83 638.24,-427.17 635.61,-437.43 642.58,-436.83\"/>\n</g>\n<!-- 139983199615440 -->\n<g id=\"node42\" class=\"node\">\n<title>139983199615440</title>\n<polygon fill=\"lightgrey\" stroke=\"black\" points=\"693,-553.5 592,-553.5 592,-534.5 693,-534.5 693,-553.5\"/>\n<text text-anchor=\"middle\" x=\"642.5\" y=\"-541.5\" font-family=\"monospace\" font-size=\"10.00\">AccumulateGrad</text>\n</g>\n<!-- 139983199615440&#45;&gt;139983199615344 -->\n<g id=\"edge43\" class=\"edge\">\n<title>139983199615440&#45;&gt;139983199615344</title>\n<path fill=\"none\" stroke=\"black\" d=\"M642.5,-534.37C642.5,-525.16 642.5,-510.29 642.5,-498.27\"/>\n<polygon fill=\"black\" stroke=\"black\" points=\"646,-497.91 642.5,-487.91 639,-497.91 646,-497.91\"/>\n</g>\n<!-- 139982377006272 -->\n<g id=\"node43\" class=\"node\">\n<title>139982377006272</title>\n<polygon fill=\"lightblue\" stroke=\"black\" points=\"716,-625 579,-625 579,-595 716,-595 716,-625\"/>\n<text text-anchor=\"middle\" x=\"647.5\" y=\"-613\" font-family=\"monospace\" font-size=\"10.00\">season_params.weekly</text>\n<text text-anchor=\"middle\" x=\"647.5\" y=\"-602\" font-family=\"monospace\" font-size=\"10.00\"> (6)</text>\n</g>\n<!-- 139982377006272&#45;&gt;139983199615440 -->\n<g id=\"edge44\" class=\"edge\">\n<title>139982377006272&#45;&gt;139983199615440</title>\n<path fill=\"none\" stroke=\"black\" d=\"M646.39,-594.8C645.68,-585.7 644.75,-573.79 643.98,-563.9\"/>\n<polygon fill=\"black\" stroke=\"black\" points=\"647.46,-563.54 643.19,-553.84 640.48,-564.09 647.46,-563.54\"/>\n</g>\n<!-- 139982366349568 -->\n<g id=\"node44\" class=\"node\">\n<title>139982366349568</title>\n<polygon fill=\"lightgrey\" stroke=\"black\" points=\"753,-311.5 664,-311.5 664,-292.5 753,-292.5 753,-311.5\"/>\n<text text-anchor=\"middle\" x=\"708.5\" y=\"-299.5\" font-family=\"monospace\" font-size=\"10.00\">SumBackward1</text>\n</g>\n<!-- 139982366349568&#45;&gt;139983192089952 -->\n<g id=\"edge45\" class=\"edge\">\n<title>139982366349568&#45;&gt;139983192089952</title>\n<path fill=\"none\" stroke=\"black\" d=\"M685.23,-292.49C657.86,-282.49 612.23,-265.8 581.28,-254.49\"/>\n<polygon fill=\"black\" stroke=\"black\" points=\"582.39,-251.16 571.79,-251.02 579.98,-257.74 582.39,-251.16\"/>\n</g>\n<!-- 139983199615872 -->\n<g id=\"node45\" class=\"node\">\n<title>139983199615872</title>\n<polygon fill=\"lightgrey\" stroke=\"black\" points=\"794,-372 705,-372 705,-353 794,-353 794,-372\"/>\n<text text-anchor=\"middle\" x=\"749.5\" y=\"-360\" font-family=\"monospace\" font-size=\"10.00\">MulBackward0</text>\n</g>\n<!-- 139983199615872&#45;&gt;139982366349568 -->\n<g id=\"edge46\" class=\"edge\">\n<title>139983199615872&#45;&gt;139982366349568</title>\n<path fill=\"none\" stroke=\"black\" d=\"M743.45,-352.87C737.39,-344.23 727.91,-330.7 720.36,-319.92\"/>\n<polygon fill=\"black\" stroke=\"black\" points=\"723.18,-317.85 714.57,-311.67 717.45,-321.87 723.18,-317.85\"/>\n</g>\n<!-- 139983199613808 -->\n<g id=\"node46\" class=\"node\">\n<title>139983199613808</title>\n<polygon fill=\"lightgrey\" stroke=\"black\" points=\"834,-427 709,-427 709,-408 834,-408 834,-427\"/>\n<text text-anchor=\"middle\" x=\"771.5\" y=\"-415\" font-family=\"monospace\" font-size=\"10.00\">UnsqueezeBackward0</text>\n</g>\n<!-- 139983199613808&#45;&gt;139983199615872 -->\n<g id=\"edge47\" class=\"edge\">\n<title>139983199613808&#45;&gt;139983199615872</title>\n<path fill=\"none\" stroke=\"black\" d=\"M767.87,-407.75C764.92,-400.65 760.67,-390.4 756.99,-381.56\"/>\n<polygon fill=\"black\" stroke=\"black\" points=\"760.13,-379.98 753.07,-372.09 753.67,-382.67 760.13,-379.98\"/>\n</g>\n<!-- 139982840860144 -->\n<g id=\"node47\" class=\"node\">\n<title>139982840860144</title>\n<polygon fill=\"lightgrey\" stroke=\"black\" points=\"826,-487.5 725,-487.5 725,-468.5 826,-468.5 826,-487.5\"/>\n<text text-anchor=\"middle\" x=\"775.5\" y=\"-475.5\" font-family=\"monospace\" font-size=\"10.00\">AccumulateGrad</text>\n</g>\n<!-- 139982840860144&#45;&gt;139983199613808 -->\n<g id=\"edge48\" class=\"edge\">\n<title>139982840860144&#45;&gt;139983199613808</title>\n<path fill=\"none\" stroke=\"black\" d=\"M774.91,-468.37C774.35,-460.25 773.5,-447.81 772.79,-437.39\"/>\n<polygon fill=\"black\" stroke=\"black\" points=\"776.27,-436.91 772.09,-427.17 769.28,-437.38 776.27,-436.91\"/>\n</g>\n<!-- 139982377005392 -->\n<g id=\"node48\" class=\"node\">\n<title>139982377005392</title>\n<polygon fill=\"lightblue\" stroke=\"black\" points=\"842,-559 711,-559 711,-529 842,-529 842,-559\"/>\n<text text-anchor=\"middle\" x=\"776.5\" y=\"-547\" font-family=\"monospace\" font-size=\"10.00\">season_params.daily</text>\n<text text-anchor=\"middle\" x=\"776.5\" y=\"-536\" font-family=\"monospace\" font-size=\"10.00\"> (12)</text>\n</g>\n<!-- 139982377005392&#45;&gt;139982840860144 -->\n<g id=\"edge49\" class=\"edge\">\n<title>139982377005392&#45;&gt;139982840860144</title>\n<path fill=\"none\" stroke=\"black\" d=\"M776.28,-528.8C776.14,-519.7 775.95,-507.79 775.8,-497.9\"/>\n<polygon fill=\"black\" stroke=\"black\" points=\"779.29,-497.79 775.64,-487.84 772.29,-497.9 779.29,-497.79\"/>\n</g>\n</g>\n</svg>\n",
      "text/plain": [
       "<graphviz.graphs.Digraph at 0x7f50607d0820>"
      ]
     },
     "metadata": {},
     "output_type": "display_data"
    }
   ],
   "source": [
    "fig = make_dot(m.model.train_epoch_prediction, params=dict(m.model.named_parameters()))\n",
    "# fig_glob.render(filename='img/fig_glob')\n",
    "display(fig)"
   ]
  },
  {
   "cell_type": "code",
   "execution_count": null,
   "metadata": {},
   "outputs": [],
   "source": []
  }
 ],
 "metadata": {
  "colab": {
   "collapsed_sections": [],
   "name": "energy_data_example.ipynb",
   "provenance": []
  },
  "kernelspec": {
   "display_name": "Python 3.8.9 ('venv': venv)",
   "language": "python",
   "name": "python3"
  },
  "language_info": {
   "codemirror_mode": {
    "name": "ipython",
    "version": 3
   },
   "file_extension": ".py",
   "mimetype": "text/x-python",
   "name": "python",
   "nbconvert_exporter": "python",
   "pygments_lexer": "ipython3",
   "version": "3.8.9"
  },
  "vscode": {
   "interpreter": {
    "hash": "e488e6bd15b38f84fe669bfc536f96b6c5fb6be3ab1c1213873b81c0afcbd577"
   }
  },
  "widgets": {
   "application/vnd.jupyter.widget-state+json": {
    "24bf564f55644476911a6cf004a395e7": {
     "model_module": "@jupyter-widgets/controls",
     "model_name": "HTMLModel",
     "state": {
      "_dom_classes": [],
      "_model_module": "@jupyter-widgets/controls",
      "_model_module_version": "1.5.0",
      "_model_name": "HTMLModel",
      "_view_count": null,
      "_view_module": "@jupyter-widgets/controls",
      "_view_module_version": "1.5.0",
      "_view_name": "HTMLView",
      "description": "",
      "description_tooltip": null,
      "layout": "IPY_MODEL_aab682cd3df24821a80331720f7c24e5",
      "placeholder": "​",
      "style": "IPY_MODEL_f35fc9cbd82c4187a4cdc08c3ac26998",
      "value": " 264/297 [00:04&lt;00:00, 59.93it/s]"
     }
    },
    "2d8235496ec642af8192f52d9f2692b1": {
     "model_module": "@jupyter-widgets/controls",
     "model_name": "HTMLModel",
     "state": {
      "_dom_classes": [],
      "_model_module": "@jupyter-widgets/controls",
      "_model_module_version": "1.5.0",
      "_model_name": "HTMLModel",
      "_view_count": null,
      "_view_module": "@jupyter-widgets/controls",
      "_view_module_version": "1.5.0",
      "_view_name": "HTMLView",
      "description": "",
      "description_tooltip": null,
      "layout": "IPY_MODEL_8a192ccc35e94e9f8be85898ed583e2c",
      "placeholder": "​",
      "style": "IPY_MODEL_87c170d1e00742a29e7f797e98c49cc2",
      "value": " 89%"
     }
    },
    "4ac0917121f8498698e087259b787dcf": {
     "model_module": "@jupyter-widgets/controls",
     "model_name": "HBoxModel",
     "state": {
      "_dom_classes": [],
      "_model_module": "@jupyter-widgets/controls",
      "_model_module_version": "1.5.0",
      "_model_name": "HBoxModel",
      "_view_count": null,
      "_view_module": "@jupyter-widgets/controls",
      "_view_module_version": "1.5.0",
      "_view_name": "HBoxView",
      "box_style": "",
      "children": [
       "IPY_MODEL_2d8235496ec642af8192f52d9f2692b1",
       "IPY_MODEL_c94a8ae41b994c55a96ad44806b0f1c7",
       "IPY_MODEL_24bf564f55644476911a6cf004a395e7"
      ],
      "layout": "IPY_MODEL_94108fe9090f47c7ba2216479e0d3fac"
     }
    },
    "87c170d1e00742a29e7f797e98c49cc2": {
     "model_module": "@jupyter-widgets/controls",
     "model_name": "DescriptionStyleModel",
     "state": {
      "_model_module": "@jupyter-widgets/controls",
      "_model_module_version": "1.5.0",
      "_model_name": "DescriptionStyleModel",
      "_view_count": null,
      "_view_module": "@jupyter-widgets/base",
      "_view_module_version": "1.2.0",
      "_view_name": "StyleView",
      "description_width": ""
     }
    },
    "8a192ccc35e94e9f8be85898ed583e2c": {
     "model_module": "@jupyter-widgets/base",
     "model_name": "LayoutModel",
     "state": {
      "_model_module": "@jupyter-widgets/base",
      "_model_module_version": "1.2.0",
      "_model_name": "LayoutModel",
      "_view_count": null,
      "_view_module": "@jupyter-widgets/base",
      "_view_module_version": "1.2.0",
      "_view_name": "LayoutView",
      "align_content": null,
      "align_items": null,
      "align_self": null,
      "border": null,
      "bottom": null,
      "display": null,
      "flex": null,
      "flex_flow": null,
      "grid_area": null,
      "grid_auto_columns": null,
      "grid_auto_flow": null,
      "grid_auto_rows": null,
      "grid_column": null,
      "grid_gap": null,
      "grid_row": null,
      "grid_template_areas": null,
      "grid_template_columns": null,
      "grid_template_rows": null,
      "height": null,
      "justify_content": null,
      "justify_items": null,
      "left": null,
      "margin": null,
      "max_height": null,
      "max_width": null,
      "min_height": null,
      "min_width": null,
      "object_fit": null,
      "object_position": null,
      "order": null,
      "overflow": null,
      "overflow_x": null,
      "overflow_y": null,
      "padding": null,
      "right": null,
      "top": null,
      "visibility": null,
      "width": null
     }
    },
    "94108fe9090f47c7ba2216479e0d3fac": {
     "model_module": "@jupyter-widgets/base",
     "model_name": "LayoutModel",
     "state": {
      "_model_module": "@jupyter-widgets/base",
      "_model_module_version": "1.2.0",
      "_model_name": "LayoutModel",
      "_view_count": null,
      "_view_module": "@jupyter-widgets/base",
      "_view_module_version": "1.2.0",
      "_view_name": "LayoutView",
      "align_content": null,
      "align_items": null,
      "align_self": null,
      "border": null,
      "bottom": null,
      "display": null,
      "flex": null,
      "flex_flow": null,
      "grid_area": null,
      "grid_auto_columns": null,
      "grid_auto_flow": null,
      "grid_auto_rows": null,
      "grid_column": null,
      "grid_gap": null,
      "grid_row": null,
      "grid_template_areas": null,
      "grid_template_columns": null,
      "grid_template_rows": null,
      "height": null,
      "justify_content": null,
      "justify_items": null,
      "left": null,
      "margin": null,
      "max_height": null,
      "max_width": null,
      "min_height": null,
      "min_width": null,
      "object_fit": null,
      "object_position": null,
      "order": null,
      "overflow": null,
      "overflow_x": null,
      "overflow_y": null,
      "padding": null,
      "right": null,
      "top": null,
      "visibility": null,
      "width": null
     }
    },
    "9467345334da47a8beadc770feef952a": {
     "model_module": "@jupyter-widgets/controls",
     "model_name": "ProgressStyleModel",
     "state": {
      "_model_module": "@jupyter-widgets/controls",
      "_model_module_version": "1.5.0",
      "_model_name": "ProgressStyleModel",
      "_view_count": null,
      "_view_module": "@jupyter-widgets/base",
      "_view_module_version": "1.2.0",
      "_view_name": "StyleView",
      "bar_color": null,
      "description_width": ""
     }
    },
    "aab682cd3df24821a80331720f7c24e5": {
     "model_module": "@jupyter-widgets/base",
     "model_name": "LayoutModel",
     "state": {
      "_model_module": "@jupyter-widgets/base",
      "_model_module_version": "1.2.0",
      "_model_name": "LayoutModel",
      "_view_count": null,
      "_view_module": "@jupyter-widgets/base",
      "_view_module_version": "1.2.0",
      "_view_name": "LayoutView",
      "align_content": null,
      "align_items": null,
      "align_self": null,
      "border": null,
      "bottom": null,
      "display": null,
      "flex": null,
      "flex_flow": null,
      "grid_area": null,
      "grid_auto_columns": null,
      "grid_auto_flow": null,
      "grid_auto_rows": null,
      "grid_column": null,
      "grid_gap": null,
      "grid_row": null,
      "grid_template_areas": null,
      "grid_template_columns": null,
      "grid_template_rows": null,
      "height": null,
      "justify_content": null,
      "justify_items": null,
      "left": null,
      "margin": null,
      "max_height": null,
      "max_width": null,
      "min_height": null,
      "min_width": null,
      "object_fit": null,
      "object_position": null,
      "order": null,
      "overflow": null,
      "overflow_x": null,
      "overflow_y": null,
      "padding": null,
      "right": null,
      "top": null,
      "visibility": null,
      "width": null
     }
    },
    "c94a8ae41b994c55a96ad44806b0f1c7": {
     "model_module": "@jupyter-widgets/controls",
     "model_name": "FloatProgressModel",
     "state": {
      "_dom_classes": [],
      "_model_module": "@jupyter-widgets/controls",
      "_model_module_version": "1.5.0",
      "_model_name": "FloatProgressModel",
      "_view_count": null,
      "_view_module": "@jupyter-widgets/controls",
      "_view_module_version": "1.5.0",
      "_view_name": "ProgressView",
      "bar_style": "danger",
      "description": "",
      "description_tooltip": null,
      "layout": "IPY_MODEL_dc468cd35d2b4f0e8eb287689ac15412",
      "max": 297,
      "min": 0,
      "orientation": "horizontal",
      "style": "IPY_MODEL_9467345334da47a8beadc770feef952a",
      "value": 264
     }
    },
    "dc468cd35d2b4f0e8eb287689ac15412": {
     "model_module": "@jupyter-widgets/base",
     "model_name": "LayoutModel",
     "state": {
      "_model_module": "@jupyter-widgets/base",
      "_model_module_version": "1.2.0",
      "_model_name": "LayoutModel",
      "_view_count": null,
      "_view_module": "@jupyter-widgets/base",
      "_view_module_version": "1.2.0",
      "_view_name": "LayoutView",
      "align_content": null,
      "align_items": null,
      "align_self": null,
      "border": null,
      "bottom": null,
      "display": null,
      "flex": null,
      "flex_flow": null,
      "grid_area": null,
      "grid_auto_columns": null,
      "grid_auto_flow": null,
      "grid_auto_rows": null,
      "grid_column": null,
      "grid_gap": null,
      "grid_row": null,
      "grid_template_areas": null,
      "grid_template_columns": null,
      "grid_template_rows": null,
      "height": null,
      "justify_content": null,
      "justify_items": null,
      "left": null,
      "margin": null,
      "max_height": null,
      "max_width": null,
      "min_height": null,
      "min_width": null,
      "object_fit": null,
      "object_position": null,
      "order": null,
      "overflow": null,
      "overflow_x": null,
      "overflow_y": null,
      "padding": null,
      "right": null,
      "top": null,
      "visibility": null,
      "width": null
     }
    },
    "f35fc9cbd82c4187a4cdc08c3ac26998": {
     "model_module": "@jupyter-widgets/controls",
     "model_name": "DescriptionStyleModel",
     "state": {
      "_model_module": "@jupyter-widgets/controls",
      "_model_module_version": "1.5.0",
      "_model_name": "DescriptionStyleModel",
      "_view_count": null,
      "_view_module": "@jupyter-widgets/base",
      "_view_module_version": "1.2.0",
      "_view_name": "StyleView",
      "description_width": ""
     }
    }
   }
  }
 },
 "nbformat": 4,
 "nbformat_minor": 4
}
