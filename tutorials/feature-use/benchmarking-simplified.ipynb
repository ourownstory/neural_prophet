{
 "cells": [
  {
   "cell_type": "markdown",
   "id": "2f2af163-c378-4e01-8d5b-3def6194c29e",
   "metadata": {},
   "source": [
    "# Run benchmarking experiments\n",
    "Note: The Benchmarking Framework does currently not properly support auto-regression or lagged covariates with multiple step ahead forecasts."
   ]
  },
  {
   "cell_type": "code",
   "execution_count": 1,
   "id": "80400b6d-ca57-47ba-9dc5-0da3885ab6b1",
   "metadata": {},
   "outputs": [],
   "source": [
    "import os\n",
    "import pandas as pd\n",
    "from neuralprophet import NeuralProphet, set_log_level\n",
    "\n",
    "set_log_level(\"ERROR\")"
   ]
  },
  {
   "cell_type": "markdown",
   "id": "e5e79793-8ebb-4d06-b021-82b49d107653",
   "metadata": {},
   "source": [
    "## Load data"
   ]
  },
  {
   "cell_type": "code",
   "execution_count": 2,
   "id": "90e2ee7e-6798-4a0c-a37f-c3b7325d9c70",
   "metadata": {},
   "outputs": [],
   "source": [
    "%%capture\n",
    "# create temporary data folder and download data\n",
    "!rm -r tmp-data\n",
    "!mkdir tmp-data\n",
    "!wget -P tmp-data https://raw.githubusercontent.com/ourownstory/neuralprophet-data/main/datasets/air_passengers.csv\n",
    "# !wget -P tmp-data https://raw.githubusercontent.com/ourownstory/neuralprophet-data/main/datasets/wp_log_peyton_manning.csv\n",
    "# !wget -P tmp-data https://raw.githubusercontent.com/ourownstory/neuralprophet-data/main/datasets/retail_sales.csv\n",
    "# !wget -P tmp-data https://raw.githubusercontent.com/ourownstory/neuralprophet-data/main/datasets/yosemite_temps.csv\n",
    "# !wget -P tmp-data https://raw.githubusercontent.com/ourownstory/neuralprophet-data/main/datasets/energy/ERCOT_load_2004_2021Sept.csv"
   ]
  },
  {
   "cell_type": "code",
   "execution_count": 3,
   "id": "4e358898-1fef-42a6-9577-eef2e3750e3e",
   "metadata": {},
   "outputs": [
    {
     "data": {
      "text/plain": [
       "['air_passengers.csv']"
      ]
     },
     "execution_count": 3,
     "metadata": {},
     "output_type": "execute_result"
    }
   ],
   "source": [
    "os.listdir('tmp-data')"
   ]
  },
  {
   "cell_type": "code",
   "execution_count": 4,
   "id": "ed35dcd3-f45a-4448-9de6-b0faf07b3ee4",
   "metadata": {},
   "outputs": [],
   "source": [
    "air_passengers_df = pd.read_csv(os.path.join('tmp-data', 'air_passengers.csv'))\n",
    "# peyton_manning_df = pd.read_csv(os.path.join('tmp-data', 'wp_log_peyton_manning.csv'))\n",
    "# retail_sales_df = pd.read_csv(os.path.join('tmp-data', 'retail_sales.csv'))\n",
    "# yosemite_temps_df = pd.read_csv(os.path.join('tmp-data', 'yosemite_temps.csv'))\n",
    "# ercot_load_df = pd.read_csv(os.path.join('tmp-data', 'ERCOT_load_2004_2021Sept.csv'))[['ds', 'y']]"
   ]
  },
  {
   "cell_type": "markdown",
   "id": "3981db85-f30e-4a21-9538-d318ac3a10ee",
   "metadata": {},
   "source": [
    "# Streamlined "
   ]
  },
  {
   "cell_type": "code",
   "execution_count": 5,
   "id": "4f5cf11f-4b7c-4572-b042-d7b27a4e6ba8",
   "metadata": {},
   "outputs": [],
   "source": [
    "from neuralprophet.benchmark import Dataset, NeuralProphetModel, SimpleExperiment, CrossValidationExperiment\n",
    "from neuralprophet.benchmark import SimpleBenchmark, CrossValidationBenchmark"
   ]
  },
  {
   "cell_type": "markdown",
   "id": "a670cc75-ca50-4e32-a723-9d6714cfbaca",
   "metadata": {},
   "source": [
    "## Streamlined Simple"
   ]
  },
  {
   "cell_type": "code",
   "execution_count": 6,
   "id": "83d3ee62-7c96-443e-8369-3d153c8094a6",
   "metadata": {},
   "outputs": [
    {
     "data": {
      "application/vnd.jupyter.widget-view+json": {
       "model_id": "71f991b15d97491899c328f0a4adb80c",
       "version_major": 2,
       "version_minor": 0
      },
      "text/plain": [
       "  0%|          | 0/203 [00:00<?, ?it/s]"
      ]
     },
     "metadata": {},
     "output_type": "display_data"
    },
    {
     "name": "stderr",
     "output_type": "stream",
     "text": [
      "                                                                                    \r"
     ]
    }
   ],
   "source": [
    "ts = Dataset(df = air_passengers_df, name = \"air_passengers\", freq = \"MS\")\n",
    "params = {\"seasonality_mode\": \"multiplicative\"}\n",
    "exp = SimpleExperiment(\n",
    "    model_class=NeuralProphetModel,\n",
    "    params=params,\n",
    "    data=ts,\n",
    "    metrics=[\"MAE\", \"MSE\"],\n",
    "    test_percentage=25,\n",
    ")\n",
    "result_train, result_val = exp.fit()"
   ]
  },
  {
   "cell_type": "code",
   "execution_count": 7,
   "id": "9a2e88e6-0c89-4efe-b203-b0c6c2782bd1",
   "metadata": {},
   "outputs": [
    {
     "data": {
      "text/plain": [
       "{'data': 'air_passengers',\n",
       " 'model': 'NeuralProphet',\n",
       " 'params': \"{'seasonality_mode': 'multiplicative'}\",\n",
       " 'MAE': 24.757139205932617,\n",
       " 'MSE': 837.4072265625}"
      ]
     },
     "execution_count": 7,
     "metadata": {},
     "output_type": "execute_result"
    }
   ],
   "source": [
    "result_val"
   ]
  },
  {
   "cell_type": "markdown",
   "id": "78ce6c22-c36f-4e46-aca4-9e40bba4e59e",
   "metadata": {},
   "source": [
    "## Streamlined CV\n"
   ]
  },
  {
   "cell_type": "code",
   "execution_count": 8,
   "id": "2a115641-fe1a-4a96-ad83-c88fee69feef",
   "metadata": {},
   "outputs": [
    {
     "data": {
      "application/vnd.jupyter.widget-view+json": {
       "model_id": "15a4a9f020c44f15a3165fa7baa70bb5",
       "version_major": 2,
       "version_minor": 0
      },
      "text/plain": [
       "  0%|          | 0/202 [00:00<?, ?it/s]"
      ]
     },
     "metadata": {},
     "output_type": "display_data"
    },
    {
     "name": "stderr",
     "output_type": "stream",
     "text": [
      "                                                                                    \r"
     ]
    },
    {
     "data": {
      "application/vnd.jupyter.widget-view+json": {
       "model_id": "210676430ac94441a060d3f59702d26b",
       "version_major": 2,
       "version_minor": 0
      },
      "text/plain": [
       "  0%|          | 0/205 [00:00<?, ?it/s]"
      ]
     },
     "metadata": {},
     "output_type": "display_data"
    },
    {
     "name": "stderr",
     "output_type": "stream",
     "text": [
      "                                                                                    \r"
     ]
    },
    {
     "data": {
      "application/vnd.jupyter.widget-view+json": {
       "model_id": "2262de9761db4216903672767d987653",
       "version_major": 2,
       "version_minor": 0
      },
      "text/plain": [
       "  0%|          | 0/207 [00:00<?, ?it/s]"
      ]
     },
     "metadata": {},
     "output_type": "display_data"
    },
    {
     "name": "stderr",
     "output_type": "stream",
     "text": [
      "                                                                                    \r"
     ]
    }
   ],
   "source": [
    "ts = Dataset(df = air_passengers_df, name = \"air_passengers\", freq = \"MS\")\n",
    "params = {\"seasonality_mode\": \"multiplicative\"}\n",
    "exp_cv = CrossValidationExperiment(\n",
    "    model_class=NeuralProphetModel,\n",
    "    params=params,\n",
    "    data=ts,\n",
    "    metrics=[\"MAE\", \"MSE\"],\n",
    "    test_percentage=10,\n",
    "    num_folds=3,\n",
    "    fold_overlap_pct=0,\n",
    "  )\n",
    "result_train, result_val = exp_cv.fit()"
   ]
  },
  {
   "cell_type": "code",
   "execution_count": 9,
   "id": "deb8cc70-2485-4472-93dc-100ecac33eb9",
   "metadata": {},
   "outputs": [
    {
     "data": {
      "text/plain": [
       "{'data': 'air_passengers',\n",
       " 'model': 'NeuralProphet',\n",
       " 'params': \"{'seasonality_mode': 'multiplicative'}\",\n",
       " 'MAE': [16.760211944580078, 12.247063636779785, 28.325775146484375],\n",
       " 'MSE': [443.76409912109375, 248.8365020751953, 860.5340576171875]}"
      ]
     },
     "execution_count": 9,
     "metadata": {},
     "output_type": "execute_result"
    }
   ],
   "source": [
    "result_val"
   ]
  },
  {
   "cell_type": "markdown",
   "id": "a578546d-0642-40f8-a230-01d98dbffa89",
   "metadata": {},
   "source": [
    "# Streamlined Benchmark"
   ]
  },
  {
   "cell_type": "code",
   "execution_count": 10,
   "id": "2453e574-23a0-4a7a-baf9-d02213221929",
   "metadata": {},
   "outputs": [],
   "source": [
    "dataset_list = [\n",
    "    Dataset(df = air_passengers_df, name = \"air_passengers\", freq = \"MS\"),\n",
    "    # Dataset(df = peyton_manning_df, name = \"peyton_manning\", freq = \"D\"),\n",
    "    # Dataset(df = retail_sales_df, name = \"retail_sales\", freq = \"D\"),\n",
    "    # Dataset(df = yosemite_temps_df, name = \"yosemite_temps\", freq = \"5min\"),\n",
    "    # Dataset(df = ercot_load_df, name = \"ercot_load\", freq = \"H\"),\n",
    "]\n",
    "model_classes_and_params = [\n",
    "    (NeuralProphetModel, {}),\n",
    "    (NeuralProphetModel, {\"n_changepoints\": 5}),\n",
    "    (NeuralProphetModel, {\"seasonality_mode\": \"multiplicative\", \"learning_rate\": 0.1}),\n",
    "]"
   ]
  },
  {
   "cell_type": "code",
   "execution_count": 11,
   "id": "f6f97143-31b5-414e-bfb1-fa077e923d66",
   "metadata": {},
   "outputs": [
    {
     "data": {
      "application/vnd.jupyter.widget-view+json": {
       "model_id": "0fc1c6372d4a43bcb9571ce7dacda966",
       "version_major": 2,
       "version_minor": 0
      },
      "text/plain": [
       "  0%|          | 0/203 [00:00<?, ?it/s]"
      ]
     },
     "metadata": {},
     "output_type": "display_data"
    },
    {
     "name": "stderr",
     "output_type": "stream",
     "text": [
      "                                                                                    \r"
     ]
    },
    {
     "data": {
      "application/vnd.jupyter.widget-view+json": {
       "model_id": "e5563af3f7d44737a0d56cd10e9153d9",
       "version_major": 2,
       "version_minor": 0
      },
      "text/plain": [
       "  0%|          | 0/203 [00:00<?, ?it/s]"
      ]
     },
     "metadata": {},
     "output_type": "display_data"
    },
    {
     "name": "stderr",
     "output_type": "stream",
     "text": [
      "                                                                                    \r"
     ]
    }
   ],
   "source": [
    "benchmark = SimpleBenchmark(\n",
    "    model_classes_and_params=model_classes_and_params, # iterate over this list of tuples\n",
    "    datasets=dataset_list, # iterate over this list\n",
    "    metrics=[\"MAE\", \"MSE\"],\n",
    "    test_percentage=25,\n",
    ")\n",
    "results_train, results_val = benchmark.run()\n"
   ]
  },
  {
   "cell_type": "code",
   "execution_count": 12,
   "id": "1f221b38-dd71-4ca3-89a8-1d8b67279eb4",
   "metadata": {},
   "outputs": [
    {
     "data": {
      "text/html": [
       "<div>\n",
       "<style scoped>\n",
       "    .dataframe tbody tr th:only-of-type {\n",
       "        vertical-align: middle;\n",
       "    }\n",
       "\n",
       "    .dataframe tbody tr th {\n",
       "        vertical-align: top;\n",
       "    }\n",
       "\n",
       "    .dataframe thead th {\n",
       "        text-align: right;\n",
       "    }\n",
       "</style>\n",
       "<table border=\"1\" class=\"dataframe\">\n",
       "  <thead>\n",
       "    <tr style=\"text-align: right;\">\n",
       "      <th></th>\n",
       "      <th>data</th>\n",
       "      <th>model</th>\n",
       "      <th>params</th>\n",
       "      <th>MAE</th>\n",
       "      <th>MSE</th>\n",
       "    </tr>\n",
       "  </thead>\n",
       "  <tbody>\n",
       "    <tr>\n",
       "      <th>0</th>\n",
       "      <td>air_passengers</td>\n",
       "      <td>NeuralProphet</td>\n",
       "      <td>{}</td>\n",
       "      <td>38.343773</td>\n",
       "      <td>1896.185059</td>\n",
       "    </tr>\n",
       "    <tr>\n",
       "      <th>1</th>\n",
       "      <td>air_passengers</td>\n",
       "      <td>NeuralProphet</td>\n",
       "      <td>{'n_changepoints': 5}</td>\n",
       "      <td>39.860699</td>\n",
       "      <td>2000.540527</td>\n",
       "    </tr>\n",
       "    <tr>\n",
       "      <th>2</th>\n",
       "      <td>air_passengers</td>\n",
       "      <td>NeuralProphet</td>\n",
       "      <td>{'seasonality_mode': 'multiplicative', 'learni...</td>\n",
       "      <td>24.721510</td>\n",
       "      <td>839.445984</td>\n",
       "    </tr>\n",
       "  </tbody>\n",
       "</table>\n",
       "</div>"
      ],
      "text/plain": [
       "             data          model  \\\n",
       "0  air_passengers  NeuralProphet   \n",
       "1  air_passengers  NeuralProphet   \n",
       "2  air_passengers  NeuralProphet   \n",
       "\n",
       "                                              params        MAE          MSE  \n",
       "0                                                 {}  38.343773  1896.185059  \n",
       "1                              {'n_changepoints': 5}  39.860699  2000.540527  \n",
       "2  {'seasonality_mode': 'multiplicative', 'learni...  24.721510   839.445984  "
      ]
     },
     "execution_count": 12,
     "metadata": {},
     "output_type": "execute_result"
    }
   ],
   "source": [
    "results_val"
   ]
  },
  {
   "cell_type": "code",
   "execution_count": 13,
   "id": "71ded2d4-40f8-4c56-bfd3-c24423bf9903",
   "metadata": {},
   "outputs": [
    {
     "data": {
      "application/vnd.jupyter.widget-view+json": {
       "model_id": "8f1ee4721aa547149973dcd78d6d1209",
       "version_major": 2,
       "version_minor": 0
      },
      "text/plain": [
       "  0%|          | 0/202 [00:00<?, ?it/s]"
      ]
     },
     "metadata": {},
     "output_type": "display_data"
    },
    {
     "name": "stderr",
     "output_type": "stream",
     "text": [
      "                                                                                    \r"
     ]
    },
    {
     "data": {
      "application/vnd.jupyter.widget-view+json": {
       "model_id": "766e3b2d718d4f71aec050602abe1183",
       "version_major": 2,
       "version_minor": 0
      },
      "text/plain": [
       "  0%|          | 0/205 [00:00<?, ?it/s]"
      ]
     },
     "metadata": {},
     "output_type": "display_data"
    },
    {
     "name": "stderr",
     "output_type": "stream",
     "text": [
      "                                                                                    \r"
     ]
    },
    {
     "data": {
      "application/vnd.jupyter.widget-view+json": {
       "model_id": "85c8823978a4476080c0a903684d0a6e",
       "version_major": 2,
       "version_minor": 0
      },
      "text/plain": [
       "  0%|          | 0/207 [00:00<?, ?it/s]"
      ]
     },
     "metadata": {},
     "output_type": "display_data"
    },
    {
     "name": "stderr",
     "output_type": "stream",
     "text": [
      "                                                                                    \r"
     ]
    },
    {
     "data": {
      "application/vnd.jupyter.widget-view+json": {
       "model_id": "51d4185e28384cc0b2084085eef16480",
       "version_major": 2,
       "version_minor": 0
      },
      "text/plain": [
       "  0%|          | 0/202 [00:00<?, ?it/s]"
      ]
     },
     "metadata": {},
     "output_type": "display_data"
    },
    {
     "name": "stderr",
     "output_type": "stream",
     "text": [
      "                                                                                    \r"
     ]
    },
    {
     "data": {
      "application/vnd.jupyter.widget-view+json": {
       "model_id": "233b240a3619469d9e6c70e39a186b5c",
       "version_major": 2,
       "version_minor": 0
      },
      "text/plain": [
       "  0%|          | 0/205 [00:00<?, ?it/s]"
      ]
     },
     "metadata": {},
     "output_type": "display_data"
    },
    {
     "name": "stderr",
     "output_type": "stream",
     "text": [
      "                                                                                    \r"
     ]
    },
    {
     "data": {
      "application/vnd.jupyter.widget-view+json": {
       "model_id": "84014df3a55341deba44d28ee2236383",
       "version_major": 2,
       "version_minor": 0
      },
      "text/plain": [
       "  0%|          | 0/207 [00:00<?, ?it/s]"
      ]
     },
     "metadata": {},
     "output_type": "display_data"
    },
    {
     "name": "stderr",
     "output_type": "stream",
     "text": [
      "                                                                                    \r"
     ]
    }
   ],
   "source": [
    "benchmark_cv = CrossValidationBenchmark(\n",
    "    model_classes_and_params=model_classes_and_params, # iterate over this list of tuples\n",
    "    datasets=dataset_list, # iterate over this list\n",
    "    metrics=[\"MAE\", \"MSE\"],\n",
    "    test_percentage=10,\n",
    "    num_folds=3,\n",
    "    fold_overlap_pct=0,\n",
    ")\n",
    "results_summary, results_train, results_val = benchmark_cv.run()"
   ]
  },
  {
   "cell_type": "code",
   "execution_count": 14,
   "id": "7efa7389-dd87-4603-abe8-b9abe1a00fe1",
   "metadata": {},
   "outputs": [
    {
     "data": {
      "text/html": [
       "<div>\n",
       "<style scoped>\n",
       "    .dataframe tbody tr th:only-of-type {\n",
       "        vertical-align: middle;\n",
       "    }\n",
       "\n",
       "    .dataframe tbody tr th {\n",
       "        vertical-align: top;\n",
       "    }\n",
       "\n",
       "    .dataframe thead th {\n",
       "        text-align: right;\n",
       "    }\n",
       "</style>\n",
       "<table border=\"1\" class=\"dataframe\">\n",
       "  <thead>\n",
       "    <tr style=\"text-align: right;\">\n",
       "      <th></th>\n",
       "      <th>data</th>\n",
       "      <th>model</th>\n",
       "      <th>params</th>\n",
       "      <th>train_MAE</th>\n",
       "      <th>train_MAE_std</th>\n",
       "      <th>train_MSE</th>\n",
       "      <th>train_MSE_std</th>\n",
       "      <th>val_MAE</th>\n",
       "      <th>val_MAE_std</th>\n",
       "      <th>val_MSE</th>\n",
       "      <th>val_MSE_std</th>\n",
       "    </tr>\n",
       "  </thead>\n",
       "  <tbody>\n",
       "    <tr>\n",
       "      <th>0</th>\n",
       "      <td>air_passengers</td>\n",
       "      <td>NeuralProphet</td>\n",
       "      <td>{}</td>\n",
       "      <td>11.995695</td>\n",
       "      <td>2.315776</td>\n",
       "      <td>268.377174</td>\n",
       "      <td>96.296339</td>\n",
       "      <td>31.766712</td>\n",
       "      <td>1.176802</td>\n",
       "      <td>1391.404582</td>\n",
       "      <td>39.272640</td>\n",
       "    </tr>\n",
       "    <tr>\n",
       "      <th>1</th>\n",
       "      <td>air_passengers</td>\n",
       "      <td>NeuralProphet</td>\n",
       "      <td>{'n_changepoints': 5}</td>\n",
       "      <td>12.645453</td>\n",
       "      <td>2.328012</td>\n",
       "      <td>279.106695</td>\n",
       "      <td>97.374211</td>\n",
       "      <td>32.275642</td>\n",
       "      <td>1.657967</td>\n",
       "      <td>1480.973063</td>\n",
       "      <td>81.804540</td>\n",
       "    </tr>\n",
       "    <tr>\n",
       "      <th>2</th>\n",
       "      <td>air_passengers</td>\n",
       "      <td>NeuralProphet</td>\n",
       "      <td>{'seasonality_mode': 'multiplicative', 'learni...</td>\n",
       "      <td>5.974563</td>\n",
       "      <td>0.550465</td>\n",
       "      <td>60.886582</td>\n",
       "      <td>10.902528</td>\n",
       "      <td>20.221582</td>\n",
       "      <td>7.132781</td>\n",
       "      <td>570.315328</td>\n",
       "      <td>289.548278</td>\n",
       "    </tr>\n",
       "  </tbody>\n",
       "</table>\n",
       "</div>"
      ],
      "text/plain": [
       "             data          model  \\\n",
       "0  air_passengers  NeuralProphet   \n",
       "1  air_passengers  NeuralProphet   \n",
       "2  air_passengers  NeuralProphet   \n",
       "\n",
       "                                              params  train_MAE  \\\n",
       "0                                                 {}  11.995695   \n",
       "1                              {'n_changepoints': 5}  12.645453   \n",
       "2  {'seasonality_mode': 'multiplicative', 'learni...   5.974563   \n",
       "\n",
       "   train_MAE_std   train_MSE  train_MSE_std    val_MAE  val_MAE_std  \\\n",
       "0       2.315776  268.377174      96.296339  31.766712     1.176802   \n",
       "1       2.328012  279.106695      97.374211  32.275642     1.657967   \n",
       "2       0.550465   60.886582      10.902528  20.221582     7.132781   \n",
       "\n",
       "       val_MSE  val_MSE_std  \n",
       "0  1391.404582    39.272640  \n",
       "1  1480.973063    81.804540  \n",
       "2   570.315328   289.548278  "
      ]
     },
     "execution_count": 14,
     "metadata": {},
     "output_type": "execute_result"
    }
   ],
   "source": [
    "results_summary"
   ]
  },
  {
   "cell_type": "code",
   "execution_count": 16,
   "id": "ce691b55-97cd-4a78-9613-6b4ed6168f33",
   "metadata": {},
   "outputs": [
    {
     "name": "stdout",
     "output_type": "stream",
     "text": [
      "rm: cannot remove 'tmp-data': No such file or directory\n"
     ]
    }
   ],
   "source": [
    "# remove temporary data folder.\n",
    "!rm -r tmp-data"
   ]
  }
 ],
 "metadata": {
  "kernelspec": {
   "display_name": "kats-np",
   "language": "python",
   "name": "kats-np"
  },
  "language_info": {
   "codemirror_mode": {
    "name": "ipython",
    "version": 3
   },
   "file_extension": ".py",
   "mimetype": "text/x-python",
   "name": "python",
   "nbconvert_exporter": "python",
   "pygments_lexer": "ipython3",
   "version": "3.9.5"
  }
 },
 "nbformat": 4,
 "nbformat_minor": 5
}
