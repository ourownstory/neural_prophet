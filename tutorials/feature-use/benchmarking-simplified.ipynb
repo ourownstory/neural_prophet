{
 "cells": [
  {
   "cell_type": "markdown",
   "id": "2f2af163-c378-4e01-8d5b-3def6194c29e",
   "metadata": {},
   "source": [
    "# Run benchmarking experiments\n",
    "Note: The Benchmarking Framework does currently not properly support auto-regression or lagged covariates with multiple step ahead forecasts."
   ]
  },
  {
   "cell_type": "code",
   "execution_count": 8,
   "id": "80400b6d-ca57-47ba-9dc5-0da3885ab6b1",
   "metadata": {},
   "outputs": [],
   "source": [
    "import os\n",
    "import pandas as pd\n",
    "from neuralprophet import NeuralProphet, set_log_level\n",
    "\n",
    "set_log_level(\"ERROR\")"
   ]
  },
  {
   "cell_type": "markdown",
   "id": "e5e79793-8ebb-4d06-b021-82b49d107653",
   "metadata": {},
   "source": [
    "## Load data"
   ]
  },
  {
   "cell_type": "code",
   "execution_count": 2,
   "id": "90e2ee7e-6798-4a0c-a37f-c3b7325d9c70",
   "metadata": {},
   "outputs": [],
   "source": [
    "%%capture\n",
    "# create temporary data folder and download data\n",
    "!rm -r tmp-data\n",
    "!mkdir tmp-data\n",
    "!wget -P tmp-data https://raw.githubusercontent.com/ourownstory/neuralprophet-data/main/datasets/air_passengers.csv\n",
    "!wget -P tmp-data https://raw.githubusercontent.com/ourownstory/neuralprophet-data/main/datasets/wp_log_peyton_manning.csv\n",
    "# !wget -P tmp-data https://raw.githubusercontent.com/ourownstory/neuralprophet-data/main/datasets/retail_sales.csv\n",
    "# !wget -P tmp-data https://raw.githubusercontent.com/ourownstory/neuralprophet-data/main/datasets/yosemite_temps.csv\n",
    "# !wget -P tmp-data https://raw.githubusercontent.com/ourownstory/neuralprophet-data/main/datasets/energy/ERCOT_load_2004_2021Sept.csv"
   ]
  },
  {
   "cell_type": "code",
   "execution_count": 3,
   "id": "4e358898-1fef-42a6-9577-eef2e3750e3e",
   "metadata": {},
   "outputs": [
    {
     "data": {
      "text/plain": [
       "['air_passengers.csv', 'wp_log_peyton_manning.csv']"
      ]
     },
     "execution_count": 3,
     "metadata": {},
     "output_type": "execute_result"
    }
   ],
   "source": [
    "os.listdir('tmp-data')"
   ]
  },
  {
   "cell_type": "code",
   "execution_count": null,
   "id": "ed35dcd3-f45a-4448-9de6-b0faf07b3ee4",
   "metadata": {},
   "outputs": [],
   "source": [
    "air_passengers_df = pd.read_csv(os.path.join('tmp-data', 'air_passengers.csv'))\n",
    "# peyton_manning_df = pd.read_csv(os.path.join('tmp-data', 'wp_log_peyton_manning.csv'))\n",
    "# retail_sales_df = pd.read_csv(os.path.join('tmp-data', 'retail_sales.csv'))\n",
    "# yosemite_temps_df = pd.read_csv(os.path.join('tmp-data', 'yosemite_temps.csv'))\n",
    "# ercot_load_df = pd.read_csv(os.path.join('tmp-data', 'ERCOT_load_2004_2021Sept.csv'))[['ds', 'y']]"
   ]
  },
  {
   "cell_type": "markdown",
   "id": "3981db85-f30e-4a21-9538-d318ac3a10ee",
   "metadata": {},
   "source": [
    "# Streamlined CV\n"
   ]
  },
  {
   "cell_type": "code",
   "execution_count": 13,
   "id": "4f5cf11f-4b7c-4572-b042-d7b27a4e6ba8",
   "metadata": {},
   "outputs": [],
   "source": [
    "from neuralprophet.benchmark import Dataset, NeuralProphetModel, NeuralProphetParams\n",
    "from neuralprophet.benchmark import SimpleExperiment, SimpleBenchmark, CVExperiment, CVBenchmark\n",
    "\n",
    "  "
   ]
  },
  {
   "cell_type": "code",
   "execution_count": 14,
   "id": "2a115641-fe1a-4a96-ad83-c88fee69feef",
   "metadata": {},
   "outputs": [
    {
     "ename": "NameError",
     "evalue": "name 'Dataset' is not defined",
     "output_type": "error",
     "traceback": [
      "\u001b[0;31m---------------------------------------------------------------------------\u001b[0m",
      "\u001b[0;31mNameError\u001b[0m                                 Traceback (most recent call last)",
      "\u001b[0;32m/tmp/ipykernel_6463/2003426691.py\u001b[0m in \u001b[0;36m<module>\u001b[0;34m\u001b[0m\n\u001b[0;32m----> 1\u001b[0;31m \u001b[0mts\u001b[0m \u001b[0;34m=\u001b[0m \u001b[0mDataset\u001b[0m\u001b[0;34m(\u001b[0m\u001b[0mdf\u001b[0m \u001b[0;34m=\u001b[0m \u001b[0mair_passengers_df\u001b[0m\u001b[0;34m,\u001b[0m \u001b[0mname\u001b[0m \u001b[0;34m=\u001b[0m \u001b[0;34m\"air_passengers\"\u001b[0m\u001b[0;34m,\u001b[0m \u001b[0mfreq\u001b[0m \u001b[0;34m=\u001b[0m \u001b[0;34m\"MS\"\u001b[0m\u001b[0;34m)\u001b[0m\u001b[0;34m\u001b[0m\u001b[0;34m\u001b[0m\u001b[0m\n\u001b[0m\u001b[1;32m      2\u001b[0m \u001b[0mparams\u001b[0m \u001b[0;34m=\u001b[0m \u001b[0mNeuralProphetParams\u001b[0m\u001b[0;34m(\u001b[0m\u001b[0mseasonality_mode\u001b[0m\u001b[0;34m=\u001b[0m\u001b[0;34m\"multiplicative\"\u001b[0m\u001b[0;34m)\u001b[0m\u001b[0;34m\u001b[0m\u001b[0;34m\u001b[0m\u001b[0m\n\u001b[1;32m      3\u001b[0m \u001b[0mmetrics\u001b[0m \u001b[0;34m=\u001b[0m \u001b[0;34m[\u001b[0m\u001b[0;34m\"MAE\"\u001b[0m\u001b[0;34m,\u001b[0m \u001b[0;34m\"MSE\"\u001b[0m\u001b[0;34m]\u001b[0m\u001b[0;34m\u001b[0m\u001b[0;34m\u001b[0m\u001b[0m\n\u001b[1;32m      4\u001b[0m cv = CrossValidationExperiment(\n\u001b[1;32m      5\u001b[0m     \u001b[0mmodel_class\u001b[0m\u001b[0;34m=\u001b[0m\u001b[0mNeuralProphetModel\u001b[0m\u001b[0;34m,\u001b[0m\u001b[0;34m\u001b[0m\u001b[0;34m\u001b[0m\u001b[0m\n",
      "\u001b[0;31mNameError\u001b[0m: name 'Dataset' is not defined"
     ]
    }
   ],
   "source": [
    "ts = Dataset(df = air_passengers_df, name = \"air_passengers\", freq = \"MS\")\n",
    "params = NeuralProphetParams(seasonality_mode=\"multiplicative\")\n",
    "metrics = [\"MAE\", \"MSE\"]\n",
    "cv = CrossValidationExperiment(\n",
    "    model_class=NeuralProphetModel,\n",
    "    params=params,\n",
    "    data=ts,\n",
    "    error_methods=metrics,\n",
    "    test_percentage=25,\n",
    "    num_folds=3,\n",
    "  )\n",
    "cv.run_cv()"
   ]
  },
  {
   "cell_type": "markdown",
   "id": "a578546d-0642-40f8-a230-01d98dbffa89",
   "metadata": {},
   "source": [
    "# Streamlined Benchmark"
   ]
  },
  {
   "cell_type": "code",
   "execution_count": null,
   "id": "2453e574-23a0-4a7a-baf9-d02213221929",
   "metadata": {},
   "outputs": [],
   "source": [
    "dataset_list = [\n",
    "    Dataset(df = air_passengers_df, name = \"air_passengers\", freq = \"MS\"),\n",
    "    # Dataset(df = peyton_manning_df, name = \"peyton_manning\", freq = \"D\"),\n",
    "    # Dataset(df = retail_sales_df, name = \"retail_sales\", freq = \"D\"),\n",
    "    # Dataset(df = yosemite_temps_df, name = \"yosemite_temps\", freq = \"5min\"),\n",
    "    # Dataset(df = ercot_load_df, name = \"ercot_load\", freq = \"H\"),\n",
    "]"
   ]
  },
  {
   "cell_type": "code",
   "execution_count": 12,
   "id": "f6f97143-31b5-414e-bfb1-fa077e923d66",
   "metadata": {},
   "outputs": [
    {
     "ename": "TypeError",
     "evalue": "__init__() takes 0 positional arguments but 1 was given",
     "output_type": "error",
     "traceback": [
      "\u001b[0;31m---------------------------------------------------------------------------\u001b[0m",
      "\u001b[0;31mTypeError\u001b[0m                                 Traceback (most recent call last)",
      "\u001b[0;32m/tmp/ipykernel_6463/1748641321.py\u001b[0m in \u001b[0;36m<module>\u001b[0;34m\u001b[0m\n\u001b[1;32m      1\u001b[0m params_list = [\n\u001b[0;32m----> 2\u001b[0;31m     \u001b[0mNeuralProphetParams\u001b[0m\u001b[0;34m(\u001b[0m\u001b[0;34m)\u001b[0m\u001b[0;34m,\u001b[0m\u001b[0;34m\u001b[0m\u001b[0;34m\u001b[0m\u001b[0m\n\u001b[0m\u001b[1;32m      3\u001b[0m     \u001b[0mNeuralProphetParams\u001b[0m\u001b[0;34m(\u001b[0m\u001b[0mn_changepoints\u001b[0m\u001b[0;34m=\u001b[0m \u001b[0;36m5\u001b[0m\u001b[0;34m)\u001b[0m\u001b[0;34m,\u001b[0m\u001b[0;34m\u001b[0m\u001b[0;34m\u001b[0m\u001b[0m\n\u001b[1;32m      4\u001b[0m     \u001b[0mNeuralProphetParams\u001b[0m\u001b[0;34m(\u001b[0m\u001b[0mseasonality_mode\u001b[0m\u001b[0;34m=\u001b[0m\u001b[0;34m\"multiplicative\"\u001b[0m\u001b[0;34m,\u001b[0m \u001b[0mlearning_rate\u001b[0m \u001b[0;34m=\u001b[0m \u001b[0;36m0.1\u001b[0m\u001b[0;34m)\u001b[0m\u001b[0;34m,\u001b[0m\u001b[0;34m\u001b[0m\u001b[0;34m\u001b[0m\u001b[0m\n\u001b[1;32m      5\u001b[0m ]\n",
      "\u001b[0;31mTypeError\u001b[0m: __init__() takes 0 positional arguments but 1 was given"
     ]
    }
   ],
   "source": [
    "params_list = [\n",
    "    NeuralProphetParams(),\n",
    "    NeuralProphetParams(n_changepoints= 5),\n",
    "    NeuralProphetParams(seasonality_mode = \"multiplicative\", learning_rate = 0.1),\n",
    "]\n"
   ]
  },
  {
   "cell_type": "code",
   "execution_count": null,
   "id": "c0430e77-0255-42d5-a051-1ea4ce776007",
   "metadata": {},
   "outputs": [],
   "source": []
  },
  {
   "cell_type": "code",
   "execution_count": null,
   "id": "d511dfd0-65ec-4487-b91a-6d2bda1de8cf",
   "metadata": {},
   "outputs": [],
   "source": []
  },
  {
   "cell_type": "markdown",
   "id": "d151730f-3354-47da-9d92-15abc3c87e2a",
   "metadata": {},
   "source": [
    "# 2 Benchmarking using Benchmark Framework"
   ]
  },
  {
   "cell_type": "code",
   "execution_count": 10,
   "id": "f23fd06b-2f0c-4f2c-92fa-5ad28e286d4c",
   "metadata": {},
   "outputs": [],
   "source": [
    "from neuralprophet.benchmark import Dataset, Model, SimpleExperiment, SimpleBenchmark, CVExperiment, CVBenchmark"
   ]
  },
  {
   "cell_type": "markdown",
   "id": "40f0b0c0-eeaa-4a1f-9251-84d41da1deae",
   "metadata": {},
   "source": [
    "## 2.0 Configure Datasets and Model Parameters\n",
    "First, we define the datasets that we would like to benchmerk on."
   ]
  },
  {
   "cell_type": "code",
   "execution_count": 11,
   "id": "5d27facc-cfb3-4270-b950-9d921e4f6477",
   "metadata": {},
   "outputs": [],
   "source": [
    "datasets = [\n",
    "    Dataset(df = air_passengers_df, name = \"air_passengers\", freq = \"MS\"),\n",
    "    # Dataset(df = peyton_manning_df, name = \"peyton_manning\", freq = \"D\"),\n",
    "    # Dataset(df = retail_sales_df, name = \"retail_sales\", freq = \"D\"),\n",
    "    # Dataset(df = yosemite_temps_df, name = \"yosemite_temps\", freq = \"5min\"),\n",
    "    # Dataset(df = ercot_load_df, name = \"ercot_load\", freq = \"H\"),\n",
    "]"
   ]
  },
  {
   "cell_type": "markdown",
   "id": "e8037c5d-1bdd-4fa3-9269-a708657d82e7",
   "metadata": {},
   "source": [
    "Next, we define the models that we want to evaluate and set their hyperparameters."
   ]
  },
  {
   "cell_type": "code",
   "execution_count": 12,
   "id": "44100ca0-921a-4f3d-afcf-517b736c7291",
   "metadata": {},
   "outputs": [],
   "source": [
    "parameters = [\n",
    "    {},\n",
    "    {\"n_changepoints\": 5},\n",
    "    {\"seasonality_mode\": \"multiplicative\", \"learning_rate\": 0.1},\n",
    "]"
   ]
  },
  {
   "cell_type": "markdown",
   "id": "7977f0ce-d0c6-4d0c-9edc-a62862d1ea1e",
   "metadata": {},
   "source": [
    "## 2.2 CVBenchmark: CrossValidation Benchmarking\n",
    "Setting up a crossvalidated benchmark is just as simple:"
   ]
  },
  {
   "cell_type": "code",
   "execution_count": 17,
   "id": "9a5812bd-45d5-4a45-af9f-8dac25524e15",
   "metadata": {},
   "outputs": [],
   "source": [
    "experiments_cv = []\n",
    "for d in datasets:\n",
    "    for m in models:\n",
    "        experiments_cv.append(CVExperiment(\n",
    "            model=m, \n",
    "            dataset=d, \n",
    "            valid_pct=0.1, \n",
    "            n_folds=3))"
   ]
  },
  {
   "cell_type": "code",
   "execution_count": null,
   "id": "d3c2f3ba-f35d-4f2f-98c2-e506ce807683",
   "metadata": {},
   "outputs": [],
   "source": [
    "benchmark_cv = CVBenchmark(\n",
    "    experiments = experiments_cv,\n",
    "    # metrics = ['MAE', 'MSE']\n",
    ")\n",
    "results_summary, results_train, results_val = benchmark_cv.run()"
   ]
  },
  {
   "cell_type": "markdown",
   "id": "b2ca0381-7469-427f-b924-1269ff9f4c50",
   "metadata": {},
   "source": [
    "We now also get a summary DataFrame showing the metrics' mean and standard deviation over all folds."
   ]
  },
  {
   "cell_type": "code",
   "execution_count": 19,
   "id": "653ed48e-221d-48b2-81af-f1a172fe2beb",
   "metadata": {},
   "outputs": [
    {
     "data": {
      "text/html": [
       "<div>\n",
       "<style scoped>\n",
       "    .dataframe tbody tr th:only-of-type {\n",
       "        vertical-align: middle;\n",
       "    }\n",
       "\n",
       "    .dataframe tbody tr th {\n",
       "        vertical-align: top;\n",
       "    }\n",
       "\n",
       "    .dataframe thead th {\n",
       "        text-align: right;\n",
       "    }\n",
       "</style>\n",
       "<table border=\"1\" class=\"dataframe\">\n",
       "  <thead>\n",
       "    <tr style=\"text-align: right;\">\n",
       "      <th></th>\n",
       "      <th>data</th>\n",
       "      <th>model</th>\n",
       "      <th>params</th>\n",
       "      <th>train_MAE</th>\n",
       "      <th>train_MAE_std</th>\n",
       "      <th>train_MSE</th>\n",
       "      <th>train_MSE_std</th>\n",
       "      <th>val_MAE</th>\n",
       "      <th>val_MAE_std</th>\n",
       "      <th>val_MSE</th>\n",
       "      <th>val_MSE_std</th>\n",
       "    </tr>\n",
       "  </thead>\n",
       "  <tbody>\n",
       "    <tr>\n",
       "      <th>0</th>\n",
       "      <td>air_passengers</td>\n",
       "      <td>NeuralProphet</td>\n",
       "      <td>{}</td>\n",
       "      <td>11.919034</td>\n",
       "      <td>2.274636</td>\n",
       "      <td>267.856055</td>\n",
       "      <td>96.151321</td>\n",
       "      <td>31.943411</td>\n",
       "      <td>1.131166</td>\n",
       "      <td>1424.348674</td>\n",
       "      <td>70.604711</td>\n",
       "    </tr>\n",
       "    <tr>\n",
       "      <th>1</th>\n",
       "      <td>air_passengers</td>\n",
       "      <td>NeuralProphet</td>\n",
       "      <td>{'n_changepoints': 5}</td>\n",
       "      <td>12.571386</td>\n",
       "      <td>2.224153</td>\n",
       "      <td>278.142151</td>\n",
       "      <td>95.803883</td>\n",
       "      <td>32.669716</td>\n",
       "      <td>1.482547</td>\n",
       "      <td>1507.468424</td>\n",
       "      <td>138.837527</td>\n",
       "    </tr>\n",
       "    <tr>\n",
       "      <th>2</th>\n",
       "      <td>air_passengers</td>\n",
       "      <td>NeuralProphet</td>\n",
       "      <td>{'seasonality_mode': 'multiplicative', 'learni...</td>\n",
       "      <td>5.947840</td>\n",
       "      <td>0.584368</td>\n",
       "      <td>59.400076</td>\n",
       "      <td>11.142714</td>\n",
       "      <td>19.550558</td>\n",
       "      <td>6.993353</td>\n",
       "      <td>535.953837</td>\n",
       "      <td>270.510983</td>\n",
       "    </tr>\n",
       "    <tr>\n",
       "      <th>3</th>\n",
       "      <td>peyton_manning</td>\n",
       "      <td>NeuralProphet</td>\n",
       "      <td>{}</td>\n",
       "      <td>0.343092</td>\n",
       "      <td>0.010171</td>\n",
       "      <td>0.240947</td>\n",
       "      <td>0.010685</td>\n",
       "      <td>0.492389</td>\n",
       "      <td>0.122705</td>\n",
       "      <td>0.476242</td>\n",
       "      <td>0.203495</td>\n",
       "    </tr>\n",
       "    <tr>\n",
       "      <th>4</th>\n",
       "      <td>peyton_manning</td>\n",
       "      <td>NeuralProphet</td>\n",
       "      <td>{'n_changepoints': 5}</td>\n",
       "      <td>0.353422</td>\n",
       "      <td>0.009915</td>\n",
       "      <td>0.255995</td>\n",
       "      <td>0.015649</td>\n",
       "      <td>0.500979</td>\n",
       "      <td>0.186996</td>\n",
       "      <td>0.489329</td>\n",
       "      <td>0.343209</td>\n",
       "    </tr>\n",
       "    <tr>\n",
       "      <th>5</th>\n",
       "      <td>peyton_manning</td>\n",
       "      <td>NeuralProphet</td>\n",
       "      <td>{'seasonality_mode': 'multiplicative', 'learni...</td>\n",
       "      <td>0.339933</td>\n",
       "      <td>0.008400</td>\n",
       "      <td>0.240326</td>\n",
       "      <td>0.010455</td>\n",
       "      <td>0.547279</td>\n",
       "      <td>0.163976</td>\n",
       "      <td>0.578785</td>\n",
       "      <td>0.299463</td>\n",
       "    </tr>\n",
       "  </tbody>\n",
       "</table>\n",
       "</div>"
      ],
      "text/plain": [
       "             data          model  \\\n",
       "0  air_passengers  NeuralProphet   \n",
       "1  air_passengers  NeuralProphet   \n",
       "2  air_passengers  NeuralProphet   \n",
       "3  peyton_manning  NeuralProphet   \n",
       "4  peyton_manning  NeuralProphet   \n",
       "5  peyton_manning  NeuralProphet   \n",
       "\n",
       "                                              params  train_MAE  \\\n",
       "0                                                 {}  11.919034   \n",
       "1                              {'n_changepoints': 5}  12.571386   \n",
       "2  {'seasonality_mode': 'multiplicative', 'learni...   5.947840   \n",
       "3                                                 {}   0.343092   \n",
       "4                              {'n_changepoints': 5}   0.353422   \n",
       "5  {'seasonality_mode': 'multiplicative', 'learni...   0.339933   \n",
       "\n",
       "   train_MAE_std   train_MSE  train_MSE_std    val_MAE  val_MAE_std  \\\n",
       "0       2.274636  267.856055      96.151321  31.943411     1.131166   \n",
       "1       2.224153  278.142151      95.803883  32.669716     1.482547   \n",
       "2       0.584368   59.400076      11.142714  19.550558     6.993353   \n",
       "3       0.010171    0.240947       0.010685   0.492389     0.122705   \n",
       "4       0.009915    0.255995       0.015649   0.500979     0.186996   \n",
       "5       0.008400    0.240326       0.010455   0.547279     0.163976   \n",
       "\n",
       "       val_MSE  val_MSE_std  \n",
       "0  1424.348674    70.604711  \n",
       "1  1507.468424   138.837527  \n",
       "2   535.953837   270.510983  \n",
       "3     0.476242     0.203495  \n",
       "4     0.489329     0.343209  \n",
       "5     0.578785     0.299463  "
      ]
     },
     "execution_count": 19,
     "metadata": {},
     "output_type": "execute_result"
    }
   ],
   "source": [
    "results_summary"
   ]
  },
  {
   "cell_type": "code",
   "execution_count": 20,
   "id": "03765e2a-91d6-4c3c-90a1-787f1b0339dc",
   "metadata": {},
   "outputs": [
    {
     "data": {
      "image/png": "[encoded data removed]",
      "text/plain": [
       "<Figure size 432x288 with 1 Axes>"
      ]
     },
     "metadata": {
      "needs_background": "light"
     },
     "output_type": "display_data"
    }
   ],
   "source": [
    "peyton_manning = results_summary[results_summary['data'] == 'peyton_manning']\n",
    "plt = peyton_manning.plot(x='params', y=['val_MAE', 'val_MAE_std'], kind='barh')"
   ]
  },
  {
   "cell_type": "code",
   "execution_count": 21,
   "id": "12697c82-16f0-4807-8ac5-66aa730fa0f6",
   "metadata": {},
   "outputs": [
    {
     "data": {
      "image/png": "[encoded data removed]",
      "text/plain": [
       "<Figure size 432x288 with 1 Axes>"
      ]
     },
     "metadata": {
      "needs_background": "light"
     },
     "output_type": "display_data"
    }
   ],
   "source": [
    "air_passengers = results_summary[results_summary['data'] == 'air_passengers']\n",
    "plt = air_passengers.plot(x='params', y=['val_MAE', 'val_MAE_std'], kind='barh')"
   ]
  },
  {
   "cell_type": "markdown",
   "id": "0b32fd49-55c6-4cd4-9082-3ee073cc741e",
   "metadata": {},
   "source": [
    "The metrics for each fold are also recoreded individually:"
   ]
  },
  {
   "cell_type": "code",
   "execution_count": 22,
   "id": "5bdf240d-a6a8-4433-b12f-3fa3921d8b7a",
   "metadata": {},
   "outputs": [
    {
     "data": {
      "text/html": [
       "<div>\n",
       "<style scoped>\n",
       "    .dataframe tbody tr th:only-of-type {\n",
       "        vertical-align: middle;\n",
       "    }\n",
       "\n",
       "    .dataframe tbody tr th {\n",
       "        vertical-align: top;\n",
       "    }\n",
       "\n",
       "    .dataframe thead th {\n",
       "        text-align: right;\n",
       "    }\n",
       "</style>\n",
       "<table border=\"1\" class=\"dataframe\">\n",
       "  <thead>\n",
       "    <tr style=\"text-align: right;\">\n",
       "      <th></th>\n",
       "      <th>data</th>\n",
       "      <th>model</th>\n",
       "      <th>params</th>\n",
       "      <th>MAE</th>\n",
       "      <th>MSE</th>\n",
       "    </tr>\n",
       "  </thead>\n",
       "  <tbody>\n",
       "    <tr>\n",
       "      <th>0</th>\n",
       "      <td>air_passengers</td>\n",
       "      <td>NeuralProphet</td>\n",
       "      <td>{}</td>\n",
       "      <td>[33.51242446899414, 31.428998947143555, 30.888...</td>\n",
       "      <td>[1363.7059326171875, 1385.9722900390625, 1523....</td>\n",
       "    </tr>\n",
       "    <tr>\n",
       "      <th>1</th>\n",
       "      <td>air_passengers</td>\n",
       "      <td>NeuralProphet</td>\n",
       "      <td>{'n_changepoints': 5}</td>\n",
       "      <td>[34.76591873168945, 31.658613204956055, 31.584...</td>\n",
       "      <td>[1433.631103515625, 1386.828125, 1701.94604492...</td>\n",
       "    </tr>\n",
       "    <tr>\n",
       "      <th>2</th>\n",
       "      <td>air_passengers</td>\n",
       "      <td>NeuralProphet</td>\n",
       "      <td>{'seasonality_mode': 'multiplicative', 'learni...</td>\n",
       "      <td>[16.674509048461914, 12.793660163879395, 29.18...</td>\n",
       "      <td>[439.78277587890625, 263.37188720703125, 904.7...</td>\n",
       "    </tr>\n",
       "    <tr>\n",
       "      <th>3</th>\n",
       "      <td>peyton_manning</td>\n",
       "      <td>NeuralProphet</td>\n",
       "      <td>{}</td>\n",
       "      <td>[0.6265700459480286, 0.5205954909324646, 0.330...</td>\n",
       "      <td>[0.7559162974357605, 0.3951578736305237, 0.277...</td>\n",
       "    </tr>\n",
       "    <tr>\n",
       "      <th>4</th>\n",
       "      <td>peyton_manning</td>\n",
       "      <td>NeuralProphet</td>\n",
       "      <td>{'n_changepoints': 5}</td>\n",
       "      <td>[0.7652839422225952, 0.3764779269695282, 0.361...</td>\n",
       "      <td>[0.9745428562164307, 0.23603081703186035, 0.25...</td>\n",
       "    </tr>\n",
       "    <tr>\n",
       "      <th>5</th>\n",
       "      <td>peyton_manning</td>\n",
       "      <td>NeuralProphet</td>\n",
       "      <td>{'seasonality_mode': 'multiplicative', 'learni...</td>\n",
       "      <td>[0.7450417876243591, 0.5532765984535217, 0.343...</td>\n",
       "      <td>[0.9957593083381653, 0.43445906043052673, 0.30...</td>\n",
       "    </tr>\n",
       "  </tbody>\n",
       "</table>\n",
       "</div>"
      ],
      "text/plain": [
       "             data          model  \\\n",
       "0  air_passengers  NeuralProphet   \n",
       "1  air_passengers  NeuralProphet   \n",
       "2  air_passengers  NeuralProphet   \n",
       "3  peyton_manning  NeuralProphet   \n",
       "4  peyton_manning  NeuralProphet   \n",
       "5  peyton_manning  NeuralProphet   \n",
       "\n",
       "                                              params  \\\n",
       "0                                                 {}   \n",
       "1                              {'n_changepoints': 5}   \n",
       "2  {'seasonality_mode': 'multiplicative', 'learni...   \n",
       "3                                                 {}   \n",
       "4                              {'n_changepoints': 5}   \n",
       "5  {'seasonality_mode': 'multiplicative', 'learni...   \n",
       "\n",
       "                                                 MAE  \\\n",
       "0  [33.51242446899414, 31.428998947143555, 30.888...   \n",
       "1  [34.76591873168945, 31.658613204956055, 31.584...   \n",
       "2  [16.674509048461914, 12.793660163879395, 29.18...   \n",
       "3  [0.6265700459480286, 0.5205954909324646, 0.330...   \n",
       "4  [0.7652839422225952, 0.3764779269695282, 0.361...   \n",
       "5  [0.7450417876243591, 0.5532765984535217, 0.343...   \n",
       "\n",
       "                                                 MSE  \n",
       "0  [1363.7059326171875, 1385.9722900390625, 1523....  \n",
       "1  [1433.631103515625, 1386.828125, 1701.94604492...  \n",
       "2  [439.78277587890625, 263.37188720703125, 904.7...  \n",
       "3  [0.7559162974357605, 0.3951578736305237, 0.277...  \n",
       "4  [0.9745428562164307, 0.23603081703186035, 0.25...  \n",
       "5  [0.9957593083381653, 0.43445906043052673, 0.30...  "
      ]
     },
     "execution_count": 22,
     "metadata": {},
     "output_type": "execute_result"
    }
   ],
   "source": [
    "results_val"
   ]
  },
  {
   "cell_type": "code",
   "execution_count": 23,
   "id": "ce691b55-97cd-4a78-9613-6b4ed6168f33",
   "metadata": {},
   "outputs": [],
   "source": [
    "# remove temporary data folder.\n",
    "!rm -r tmp-data"
   ]
  },
  {
   "cell_type": "code",
   "execution_count": null,
   "id": "0a8a61b2-79e5-469d-82de-9eb5ed19437c",
   "metadata": {},
   "outputs": [],
   "source": []
  }
 ],
 "metadata": {
  "kernelspec": {
   "display_name": "kats-np",
   "language": "python",
   "name": "kats-np"
  },
  "language_info": {
   "codemirror_mode": {
    "name": "ipython",
    "version": 3
   },
   "file_extension": ".py",
   "mimetype": "text/x-python",
   "name": "python",
   "nbconvert_exporter": "python",
   "pygments_lexer": "ipython3",
   "version": "3.9.5"
  }
 },
 "nbformat": 4,
 "nbformat_minor": 5
}
