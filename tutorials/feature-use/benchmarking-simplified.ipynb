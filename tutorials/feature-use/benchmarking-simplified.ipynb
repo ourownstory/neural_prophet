{
 "cells": [
  {
   "cell_type": "markdown",
   "id": "2f2af163-c378-4e01-8d5b-3def6194c29e",
   "metadata": {},
   "source": [
    "# Run benchmarking experiments\n",
    "Note: The Benchmarking Framework does currently not properly support auto-regression or lagged covariates with multiple step ahead forecasts."
   ]
  },
  {
   "cell_type": "code",
   "execution_count": 1,
   "id": "80400b6d-ca57-47ba-9dc5-0da3885ab6b1",
   "metadata": {},
   "outputs": [],
   "source": [
    "import os\n",
    "import pandas as pd\n",
    "from neuralprophet import NeuralProphet, set_log_level\n",
    "\n",
    "set_log_level(\"ERROR\")"
   ]
  },
  {
   "cell_type": "markdown",
   "id": "e5e79793-8ebb-4d06-b021-82b49d107653",
   "metadata": {},
   "source": [
    "## Load data"
   ]
  },
  {
   "cell_type": "code",
   "execution_count": 2,
   "id": "90e2ee7e-6798-4a0c-a37f-c3b7325d9c70",
   "metadata": {},
   "outputs": [],
   "source": [
    "%%capture\n",
    "# create temporary data folder and download data\n",
    "!rm -r tmp-data\n",
    "!mkdir tmp-data\n",
    "!wget -P tmp-data https://raw.githubusercontent.com/ourownstory/neuralprophet-data/main/datasets/air_passengers.csv\n",
    "# !wget -P tmp-data https://raw.githubusercontent.com/ourownstory/neuralprophet-data/main/datasets/wp_log_peyton_manning.csv\n",
    "# !wget -P tmp-data https://raw.githubusercontent.com/ourownstory/neuralprophet-data/main/datasets/retail_sales.csv\n",
    "# !wget -P tmp-data https://raw.githubusercontent.com/ourownstory/neuralprophet-data/main/datasets/yosemite_temps.csv\n",
    "# !wget -P tmp-data https://raw.githubusercontent.com/ourownstory/neuralprophet-data/main/datasets/energy/ERCOT_load_2004_2021Sept.csv"
   ]
  },
  {
   "cell_type": "code",
   "execution_count": 3,
   "id": "4e358898-1fef-42a6-9577-eef2e3750e3e",
   "metadata": {},
   "outputs": [
    {
     "data": {
      "text/plain": [
       "['air_passengers.csv']"
      ]
     },
     "execution_count": 3,
     "metadata": {},
     "output_type": "execute_result"
    }
   ],
   "source": [
    "os.listdir('tmp-data')"
   ]
  },
  {
   "cell_type": "code",
   "execution_count": 4,
   "id": "ed35dcd3-f45a-4448-9de6-b0faf07b3ee4",
   "metadata": {},
   "outputs": [],
   "source": [
    "air_passengers_df = pd.read_csv(os.path.join('tmp-data', 'air_passengers.csv'))\n",
    "# peyton_manning_df = pd.read_csv(os.path.join('tmp-data', 'wp_log_peyton_manning.csv'))\n",
    "# retail_sales_df = pd.read_csv(os.path.join('tmp-data', 'retail_sales.csv'))\n",
    "# yosemite_temps_df = pd.read_csv(os.path.join('tmp-data', 'yosemite_temps.csv'))\n",
    "# ercot_load_df = pd.read_csv(os.path.join('tmp-data', 'ERCOT_load_2004_2021Sept.csv'))[['ds', 'y']]"
   ]
  },
  {
   "cell_type": "markdown",
   "id": "3981db85-f30e-4a21-9538-d318ac3a10ee",
   "metadata": {},
   "source": [
    "# Streamlined "
   ]
  },
  {
   "cell_type": "code",
   "execution_count": 5,
   "id": "4f5cf11f-4b7c-4572-b042-d7b27a4e6ba8",
   "metadata": {},
   "outputs": [],
   "source": [
    "from neuralprophet.benchmark import Dataset, NeuralProphetModel, NeuralProphetParams, CrossValidationExperiment\n",
    "from neuralprophet.benchmark import SimpleExperiment, SimpleBenchmark, CVExperiment, CVBenchmark\n",
    "\n",
    "  "
   ]
  },
  {
   "cell_type": "markdown",
   "id": "a670cc75-ca50-4e32-a723-9d6714cfbaca",
   "metadata": {},
   "source": [
    "## Streamlined Simple"
   ]
  },
  {
   "cell_type": "code",
   "execution_count": 6,
   "id": "83d3ee62-7c96-443e-8369-3d153c8094a6",
   "metadata": {},
   "outputs": [
    {
     "ename": "TypeError",
     "evalue": "initialize() missing 1 required positional argument: 'self'",
     "output_type": "error",
     "traceback": [
      "\u001b[0;31m---------------------------------------------------------------------------\u001b[0m",
      "\u001b[0;31mTypeError\u001b[0m                                 Traceback (most recent call last)",
      "\u001b[0;32m/tmp/ipykernel_12137/1253091743.py\u001b[0m in \u001b[0;36m<module>\u001b[0;34m\u001b[0m\n\u001b[1;32m     10\u001b[0m )\n\u001b[1;32m     11\u001b[0m \u001b[0;34m\u001b[0m\u001b[0m\n\u001b[0;32m---> 12\u001b[0;31m \u001b[0mresult_train\u001b[0m\u001b[0;34m,\u001b[0m \u001b[0mresult_val\u001b[0m \u001b[0;34m=\u001b[0m \u001b[0mexp\u001b[0m\u001b[0;34m.\u001b[0m\u001b[0mfit\u001b[0m\u001b[0;34m(\u001b[0m\u001b[0;34m)\u001b[0m\u001b[0;34m\u001b[0m\u001b[0;34m\u001b[0m\u001b[0m\n\u001b[0m",
      "\u001b[0;32m~/github/neural_prophet/neuralprophet/benchmark.py\u001b[0m in \u001b[0;36mfit\u001b[0;34m(self)\u001b[0m\n\u001b[1;32m     99\u001b[0m \u001b[0;34m\u001b[0m\u001b[0m\n\u001b[1;32m    100\u001b[0m     \u001b[0;32mdef\u001b[0m \u001b[0mfit\u001b[0m\u001b[0;34m(\u001b[0m\u001b[0mself\u001b[0m\u001b[0;34m)\u001b[0m\u001b[0;34m:\u001b[0m\u001b[0;34m\u001b[0m\u001b[0;34m\u001b[0m\u001b[0m\n\u001b[0;32m--> 101\u001b[0;31m         \u001b[0mmodel\u001b[0m \u001b[0;34m=\u001b[0m \u001b[0mself\u001b[0m\u001b[0;34m.\u001b[0m\u001b[0mmodel_class\u001b[0m\u001b[0;34m.\u001b[0m\u001b[0minitialize\u001b[0m\u001b[0;34m(\u001b[0m\u001b[0mparams\u001b[0m\u001b[0;34m=\u001b[0m\u001b[0mself\u001b[0m\u001b[0;34m.\u001b[0m\u001b[0mparams\u001b[0m\u001b[0;34m)\u001b[0m\u001b[0;34m\u001b[0m\u001b[0;34m\u001b[0m\u001b[0m\n\u001b[0m\u001b[1;32m    102\u001b[0m         df_train, df_val = model.split_df(\n\u001b[1;32m    103\u001b[0m             \u001b[0mdf\u001b[0m\u001b[0;34m=\u001b[0m\u001b[0mself\u001b[0m\u001b[0;34m.\u001b[0m\u001b[0mdata\u001b[0m\u001b[0;34m.\u001b[0m\u001b[0mdf\u001b[0m\u001b[0;34m,\u001b[0m\u001b[0;34m\u001b[0m\u001b[0;34m\u001b[0m\u001b[0m\n",
      "\u001b[0;31mTypeError\u001b[0m: initialize() missing 1 required positional argument: 'self'"
     ]
    }
   ],
   "source": [
    "ts = Dataset(df = air_passengers_df, name = \"air_passengers\", freq = \"MS\")\n",
    "params = NeuralProphetParams(seasonality_mode=\"multiplicative\")\n",
    "metrics = [\"MAE\", \"MSE\"]\n",
    "exp = SimpleExperiment(\n",
    "    model_class=NeuralProphetModel,\n",
    "    params=params,\n",
    "    data=ts,\n",
    "    metrics=metrics,\n",
    "    test_percentage=25,\n",
    ")\n",
    "\n",
    "result_train, result_val = exp.fit()"
   ]
  },
  {
   "cell_type": "markdown",
   "id": "78ce6c22-c36f-4e46-aca4-9e40bba4e59e",
   "metadata": {},
   "source": [
    "## Streamlined CV\n"
   ]
  },
  {
   "cell_type": "code",
   "execution_count": null,
   "id": "2a115641-fe1a-4a96-ad83-c88fee69feef",
   "metadata": {},
   "outputs": [],
   "source": [
    "ts = Dataset(df = air_passengers_df, name = \"air_passengers\", freq = \"MS\")\n",
    "params = NeuralProphetParams(seasonality_mode=\"multiplicative\")\n",
    "metrics = [\"MAE\", \"MSE\"]\n",
    "exp_cv = CrossValidationExperiment(\n",
    "    model_class=NeuralProphetModel,\n",
    "    params=params,\n",
    "    data=ts,\n",
    "    metrics=metrics,\n",
    "    test_percentage=25,\n",
    "    num_folds=3,\n",
    "  )\n",
    "result_train, result_val = exp_cv.fit()"
   ]
  },
  {
   "cell_type": "markdown",
   "id": "a578546d-0642-40f8-a230-01d98dbffa89",
   "metadata": {},
   "source": [
    "# Streamlined Benchmark"
   ]
  },
  {
   "cell_type": "code",
   "execution_count": null,
   "id": "2453e574-23a0-4a7a-baf9-d02213221929",
   "metadata": {},
   "outputs": [],
   "source": [
    "dataset_list = [\n",
    "    Dataset(df = air_passengers_df, name = \"air_passengers\", freq = \"MS\"),\n",
    "    # Dataset(df = peyton_manning_df, name = \"peyton_manning\", freq = \"D\"),\n",
    "    # Dataset(df = retail_sales_df, name = \"retail_sales\", freq = \"D\"),\n",
    "    # Dataset(df = yosemite_temps_df, name = \"yosemite_temps\", freq = \"5min\"),\n",
    "    # Dataset(df = ercot_load_df, name = \"ercot_load\", freq = \"H\"),\n",
    "]"
   ]
  },
  {
   "cell_type": "code",
   "execution_count": null,
   "id": "f6f97143-31b5-414e-bfb1-fa077e923d66",
   "metadata": {},
   "outputs": [],
   "source": [
    "params_list = [\n",
    "    NeuralProphetParams(),\n",
    "    NeuralProphetParams(n_changepoints= 5),\n",
    "    NeuralProphetParams(seasonality_mode = \"multiplicative\", learning_rate = 0.1),\n",
    "]\n"
   ]
  },
  {
   "cell_type": "code",
   "execution_count": null,
   "id": "c0430e77-0255-42d5-a051-1ea4ce776007",
   "metadata": {},
   "outputs": [],
   "source": []
  },
  {
   "cell_type": "code",
   "execution_count": null,
   "id": "d511dfd0-65ec-4487-b91a-6d2bda1de8cf",
   "metadata": {},
   "outputs": [],
   "source": []
  },
  {
   "cell_type": "markdown",
   "id": "d151730f-3354-47da-9d92-15abc3c87e2a",
   "metadata": {},
   "source": [
    "# 2 Benchmarking using Benchmark Framework"
   ]
  },
  {
   "cell_type": "code",
   "execution_count": null,
   "id": "f23fd06b-2f0c-4f2c-92fa-5ad28e286d4c",
   "metadata": {},
   "outputs": [],
   "source": [
    "from neuralprophet.benchmark import Dataset, Model, SimpleExperiment, SimpleBenchmark, CVExperiment, CVBenchmark"
   ]
  },
  {
   "cell_type": "markdown",
   "id": "40f0b0c0-eeaa-4a1f-9251-84d41da1deae",
   "metadata": {},
   "source": [
    "## 2.0 Configure Datasets and Model Parameters\n",
    "First, we define the datasets that we would like to benchmerk on."
   ]
  },
  {
   "cell_type": "code",
   "execution_count": null,
   "id": "5d27facc-cfb3-4270-b950-9d921e4f6477",
   "metadata": {},
   "outputs": [],
   "source": [
    "datasets = [\n",
    "    Dataset(df = air_passengers_df, name = \"air_passengers\", freq = \"MS\"),\n",
    "    # Dataset(df = peyton_manning_df, name = \"peyton_manning\", freq = \"D\"),\n",
    "    # Dataset(df = retail_sales_df, name = \"retail_sales\", freq = \"D\"),\n",
    "    # Dataset(df = yosemite_temps_df, name = \"yosemite_temps\", freq = \"5min\"),\n",
    "    # Dataset(df = ercot_load_df, name = \"ercot_load\", freq = \"H\"),\n",
    "]"
   ]
  },
  {
   "cell_type": "markdown",
   "id": "e8037c5d-1bdd-4fa3-9269-a708657d82e7",
   "metadata": {},
   "source": [
    "Next, we define the models that we want to evaluate and set their hyperparameters."
   ]
  },
  {
   "cell_type": "code",
   "execution_count": null,
   "id": "44100ca0-921a-4f3d-afcf-517b736c7291",
   "metadata": {},
   "outputs": [],
   "source": [
    "parameters = [\n",
    "    {},\n",
    "    {\"n_changepoints\": 5},\n",
    "    {\"seasonality_mode\": \"multiplicative\", \"learning_rate\": 0.1},\n",
    "]"
   ]
  },
  {
   "cell_type": "markdown",
   "id": "7977f0ce-d0c6-4d0c-9edc-a62862d1ea1e",
   "metadata": {},
   "source": [
    "## 2.2 CVBenchmark: CrossValidation Benchmarking\n",
    "Setting up a crossvalidated benchmark is just as simple:"
   ]
  },
  {
   "cell_type": "code",
   "execution_count": null,
   "id": "9a5812bd-45d5-4a45-af9f-8dac25524e15",
   "metadata": {},
   "outputs": [],
   "source": [
    "experiments_cv = []\n",
    "for d in datasets:\n",
    "    for m in models:\n",
    "        experiments_cv.append(CVExperiment(\n",
    "            model=m, \n",
    "            dataset=d, \n",
    "            valid_pct=0.1, \n",
    "            n_folds=3))"
   ]
  },
  {
   "cell_type": "code",
   "execution_count": null,
   "id": "d3c2f3ba-f35d-4f2f-98c2-e506ce807683",
   "metadata": {},
   "outputs": [],
   "source": [
    "benchmark_cv = CVBenchmark(\n",
    "    experiments = experiments_cv,\n",
    "    # metrics = ['MAE', 'MSE']\n",
    ")\n",
    "results_summary, results_train, results_val = benchmark_cv.run()"
   ]
  },
  {
   "cell_type": "markdown",
   "id": "b2ca0381-7469-427f-b924-1269ff9f4c50",
   "metadata": {},
   "source": [
    "We now also get a summary DataFrame showing the metrics' mean and standard deviation over all folds."
   ]
  },
  {
   "cell_type": "code",
   "execution_count": null,
   "id": "653ed48e-221d-48b2-81af-f1a172fe2beb",
   "metadata": {},
   "outputs": [],
   "source": [
    "results_summary"
   ]
  },
  {
   "cell_type": "code",
   "execution_count": null,
   "id": "03765e2a-91d6-4c3c-90a1-787f1b0339dc",
   "metadata": {},
   "outputs": [],
   "source": [
    "peyton_manning = results_summary[results_summary['data'] == 'peyton_manning']\n",
    "plt = peyton_manning.plot(x='params', y=['val_MAE', 'val_MAE_std'], kind='barh')"
   ]
  },
  {
   "cell_type": "code",
   "execution_count": null,
   "id": "12697c82-16f0-4807-8ac5-66aa730fa0f6",
   "metadata": {},
   "outputs": [],
   "source": [
    "air_passengers = results_summary[results_summary['data'] == 'air_passengers']\n",
    "plt = air_passengers.plot(x='params', y=['val_MAE', 'val_MAE_std'], kind='barh')"
   ]
  },
  {
   "cell_type": "markdown",
   "id": "0b32fd49-55c6-4cd4-9082-3ee073cc741e",
   "metadata": {},
   "source": [
    "The metrics for each fold are also recoreded individually:"
   ]
  },
  {
   "cell_type": "code",
   "execution_count": null,
   "id": "5bdf240d-a6a8-4433-b12f-3fa3921d8b7a",
   "metadata": {},
   "outputs": [],
   "source": [
    "results_val"
   ]
  },
  {
   "cell_type": "code",
   "execution_count": null,
   "id": "ce691b55-97cd-4a78-9613-6b4ed6168f33",
   "metadata": {},
   "outputs": [],
   "source": [
    "# remove temporary data folder.\n",
    "!rm -r tmp-data"
   ]
  },
  {
   "cell_type": "code",
   "execution_count": null,
   "id": "0a8a61b2-79e5-469d-82de-9eb5ed19437c",
   "metadata": {},
   "outputs": [],
   "source": []
  }
 ],
 "metadata": {
  "kernelspec": {
   "display_name": "kats-np",
   "language": "python",
   "name": "kats-np"
  },
  "language_info": {
   "codemirror_mode": {
    "name": "ipython",
    "version": 3
   },
   "file_extension": ".py",
   "mimetype": "text/x-python",
   "name": "python",
   "nbconvert_exporter": "python",
   "pygments_lexer": "ipython3",
   "version": "3.9.5"
  }
 },
 "nbformat": 4,
 "nbformat_minor": 5
}
