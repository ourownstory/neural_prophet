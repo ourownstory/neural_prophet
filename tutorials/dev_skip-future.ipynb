{
 "cells": [
  {
   "cell_type": "code",
   "execution_count": 1,
   "id": "98c6633b-e743-4aab-8e18-f1485cdeb390",
   "metadata": {},
   "outputs": [],
   "source": [
    "from neuralprophet import NeuralProphet\n",
    "import pandas as pd"
   ]
  },
  {
   "cell_type": "code",
   "execution_count": 2,
   "id": "8cc68c08-995c-4ade-8b3d-44cce7f4d27a",
   "metadata": {},
   "outputs": [],
   "source": [
    "df = pd.read_csv(\"../tests/test-data/air_passengers.csv\")"
   ]
  },
  {
   "cell_type": "code",
   "execution_count": 3,
   "id": "49663904-8a46-44b7-b5b3-d1030dec55f8",
   "metadata": {},
   "outputs": [
    {
     "name": "stderr",
     "output_type": "stream",
     "text": [
      "INFO - (NP.utils.set_auto_seasonalities) - Disabling weekly seasonality. Run NeuralProphet with weekly_seasonality=True to override this.\n",
      "INFO - (NP.utils.set_auto_seasonalities) - Disabling daily seasonality. Run NeuralProphet with daily_seasonality=True to override this.\n",
      "INFO - (NP.config.set_auto_batch_epoch) - Auto-set batch_size to 16\n",
      "INFO - (NP.config.set_auto_batch_epoch) - Auto-set epochs to 292\n"
     ]
    },
    {
     "data": {
      "application/vnd.jupyter.widget-view+json": {
       "model_id": "9864223f28144a04acc1410b08dd0114",
       "version_major": 2,
       "version_minor": 0
      },
      "text/plain": [
       "  0%|          | 0/209 [00:00<?, ?it/s]"
      ]
     },
     "metadata": {},
     "output_type": "display_data"
    },
    {
     "name": "stderr",
     "output_type": "stream",
     "text": [
      "INFO - (NP.utils_torch.lr_range_test) - lr-range-test results: steep: 6.94E-02, min: 1.39E-01\n",
      "INFO - (NP.utils_torch.lr_range_test) - learning rate range test selected lr: 1.10E-01\n",
      "Epoch[292/292]: 100%|█| 292/292 [00:02<00:00, 101.49it/s, SmoothL1Loss=0.000294, MAE=\n"
     ]
    }
   ],
   "source": [
    "m = NeuralProphet(seasonality_mode='multiplicative')\n",
    "metrics = m.fit(df, freq=\"MS\")"
   ]
  },
  {
   "cell_type": "code",
   "execution_count": 4,
   "id": "80745266-9f89-408b-90fd-748d26162d90",
   "metadata": {},
   "outputs": [
    {
     "data": {
      "text/html": [
       "<div>\n",
       "<style scoped>\n",
       "    .dataframe tbody tr th:only-of-type {\n",
       "        vertical-align: middle;\n",
       "    }\n",
       "\n",
       "    .dataframe tbody tr th {\n",
       "        vertical-align: top;\n",
       "    }\n",
       "\n",
       "    .dataframe thead th {\n",
       "        text-align: right;\n",
       "    }\n",
       "</style>\n",
       "<table border=\"1\" class=\"dataframe\">\n",
       "  <thead>\n",
       "    <tr style=\"text-align: right;\">\n",
       "      <th></th>\n",
       "      <th>ds</th>\n",
       "      <th>y</th>\n",
       "      <th>t</th>\n",
       "      <th>y_scaled</th>\n",
       "    </tr>\n",
       "  </thead>\n",
       "  <tbody>\n",
       "    <tr>\n",
       "      <th>0</th>\n",
       "      <td>1961-01-01</td>\n",
       "      <td>None</td>\n",
       "      <td>1.007123</td>\n",
       "      <td>NaN</td>\n",
       "    </tr>\n",
       "    <tr>\n",
       "      <th>1</th>\n",
       "      <td>1961-02-01</td>\n",
       "      <td>None</td>\n",
       "      <td>1.014246</td>\n",
       "      <td>NaN</td>\n",
       "    </tr>\n",
       "    <tr>\n",
       "      <th>2</th>\n",
       "      <td>1961-03-01</td>\n",
       "      <td>None</td>\n",
       "      <td>1.020680</td>\n",
       "      <td>NaN</td>\n",
       "    </tr>\n",
       "  </tbody>\n",
       "</table>\n",
       "</div>"
      ],
      "text/plain": [
       "          ds     y         t y_scaled\n",
       "0 1961-01-01  None  1.007123      NaN\n",
       "1 1961-02-01  None  1.014246      NaN\n",
       "2 1961-03-01  None  1.020680      NaN"
      ]
     },
     "execution_count": 4,
     "metadata": {},
     "output_type": "execute_result"
    }
   ],
   "source": [
    "future = m.make_future_dataframe(df,periods=3)\n",
    "future.tail()"
   ]
  },
  {
   "cell_type": "code",
   "execution_count": 5,
   "id": "d9f513d4-9412-432b-b754-c21bdc6d2562",
   "metadata": {},
   "outputs": [
    {
     "data": {
      "text/html": [
       "<div>\n",
       "<style scoped>\n",
       "    .dataframe tbody tr th:only-of-type {\n",
       "        vertical-align: middle;\n",
       "    }\n",
       "\n",
       "    .dataframe tbody tr th {\n",
       "        vertical-align: top;\n",
       "    }\n",
       "\n",
       "    .dataframe thead th {\n",
       "        text-align: right;\n",
       "    }\n",
       "</style>\n",
       "<table border=\"1\" class=\"dataframe\">\n",
       "  <thead>\n",
       "    <tr style=\"text-align: right;\">\n",
       "      <th></th>\n",
       "      <th>ds</th>\n",
       "      <th>y</th>\n",
       "      <th>yhat1</th>\n",
       "      <th>residual1</th>\n",
       "      <th>trend</th>\n",
       "      <th>season_yearly</th>\n",
       "    </tr>\n",
       "  </thead>\n",
       "  <tbody>\n",
       "    <tr>\n",
       "      <th>0</th>\n",
       "      <td>1961-01-01</td>\n",
       "      <td>None</td>\n",
       "      <td>451.479645</td>\n",
       "      <td>NaN</td>\n",
       "      <td>507.195007</td>\n",
       "      <td>-0.138185</td>\n",
       "    </tr>\n",
       "    <tr>\n",
       "      <th>1</th>\n",
       "      <td>1961-02-01</td>\n",
       "      <td>None</td>\n",
       "      <td>430.277527</td>\n",
       "      <td>NaN</td>\n",
       "      <td>511.725372</td>\n",
       "      <td>-0.199762</td>\n",
       "    </tr>\n",
       "    <tr>\n",
       "      <th>2</th>\n",
       "      <td>1961-03-01</td>\n",
       "      <td>None</td>\n",
       "      <td>499.922028</td>\n",
       "      <td>NaN</td>\n",
       "      <td>515.817261</td>\n",
       "      <td>-0.038598</td>\n",
       "    </tr>\n",
       "  </tbody>\n",
       "</table>\n",
       "</div>"
      ],
      "text/plain": [
       "          ds     y       yhat1 residual1       trend  season_yearly\n",
       "0 1961-01-01  None  451.479645       NaN  507.195007      -0.138185\n",
       "1 1961-02-01  None  430.277527       NaN  511.725372      -0.199762\n",
       "2 1961-03-01  None  499.922028       NaN  515.817261      -0.038598"
      ]
     },
     "execution_count": 5,
     "metadata": {},
     "output_type": "execute_result"
    }
   ],
   "source": [
    "forecast = m.predict(future)\n",
    "# plt = forecast.plot(x='ds', y=['y', 'yhat1'])\n",
    "forecast.tail()"
   ]
  },
  {
   "cell_type": "code",
   "execution_count": null,
   "id": "90085a01-bb39-445c-a864-2b1497611d7b",
   "metadata": {},
   "outputs": [],
   "source": [
    "future = m.make_future_dataframe(df,periods=3, n_historic_predictions=T)\n",
    "forecast = m.predict(future)\n",
    "# plt = forecast.plot(x='ds', y=['y', 'yhat1'])\n",
    "forecast.tail()"
   ]
  },
  {
   "cell_type": "code",
   "execution_count": 6,
   "id": "a6e2a5b2-ea49-45ed-9de6-60b28890fe4c",
   "metadata": {},
   "outputs": [
    {
     "data": {
      "text/html": [
       "<div>\n",
       "<style scoped>\n",
       "    .dataframe tbody tr th:only-of-type {\n",
       "        vertical-align: middle;\n",
       "    }\n",
       "\n",
       "    .dataframe tbody tr th {\n",
       "        vertical-align: top;\n",
       "    }\n",
       "\n",
       "    .dataframe thead th {\n",
       "        text-align: right;\n",
       "    }\n",
       "</style>\n",
       "<table border=\"1\" class=\"dataframe\">\n",
       "  <thead>\n",
       "    <tr style=\"text-align: right;\">\n",
       "      <th></th>\n",
       "      <th>ds</th>\n",
       "      <th>y</th>\n",
       "      <th>yhat1</th>\n",
       "      <th>residual1</th>\n",
       "      <th>trend</th>\n",
       "      <th>season_yearly</th>\n",
       "    </tr>\n",
       "  </thead>\n",
       "  <tbody>\n",
       "    <tr>\n",
       "      <th>139</th>\n",
       "      <td>1960-08-01</td>\n",
       "      <td>606</td>\n",
       "      <td>621.473999</td>\n",
       "      <td>15.473999</td>\n",
       "      <td>484.835846</td>\n",
       "      <td>0.358785</td>\n",
       "    </tr>\n",
       "    <tr>\n",
       "      <th>140</th>\n",
       "      <td>1960-09-01</td>\n",
       "      <td>508</td>\n",
       "      <td>516.563843</td>\n",
       "      <td>8.563843</td>\n",
       "      <td>489.366150</td>\n",
       "      <td>0.070576</td>\n",
       "    </tr>\n",
       "    <tr>\n",
       "      <th>141</th>\n",
       "      <td>1960-10-01</td>\n",
       "      <td>461</td>\n",
       "      <td>451.555481</td>\n",
       "      <td>-9.444519</td>\n",
       "      <td>493.750275</td>\n",
       "      <td>-0.108261</td>\n",
       "    </tr>\n",
       "    <tr>\n",
       "      <th>142</th>\n",
       "      <td>1960-11-01</td>\n",
       "      <td>390</td>\n",
       "      <td>384.324493</td>\n",
       "      <td>-5.675507</td>\n",
       "      <td>498.280579</td>\n",
       "      <td>-0.289023</td>\n",
       "    </tr>\n",
       "    <tr>\n",
       "      <th>143</th>\n",
       "      <td>1960-12-01</td>\n",
       "      <td>432</td>\n",
       "      <td>437.829132</td>\n",
       "      <td>5.829132</td>\n",
       "      <td>502.664764</td>\n",
       "      <td>-0.162632</td>\n",
       "    </tr>\n",
       "  </tbody>\n",
       "</table>\n",
       "</div>"
      ],
      "text/plain": [
       "            ds    y       yhat1  residual1       trend  season_yearly\n",
       "139 1960-08-01  606  621.473999  15.473999  484.835846       0.358785\n",
       "140 1960-09-01  508  516.563843   8.563843  489.366150       0.070576\n",
       "141 1960-10-01  461  451.555481  -9.444519  493.750275      -0.108261\n",
       "142 1960-11-01  390  384.324493  -5.675507  498.280579      -0.289023\n",
       "143 1960-12-01  432  437.829132   5.829132  502.664764      -0.162632"
      ]
     },
     "execution_count": 6,
     "metadata": {},
     "output_type": "execute_result"
    }
   ],
   "source": [
    "forecast = m.predict(df)\n",
    "# plt = forecast.plot(x='ds', y=['y', 'yhat1'])\n",
    "forecast.tail()"
   ]
  },
  {
   "cell_type": "code",
   "execution_count": 7,
   "id": "019669ef-d8bb-4fd0-9d15-045d413b58fd",
   "metadata": {},
   "outputs": [
    {
     "data": {
      "image/png": "[encoded data removed]",
      "text/plain": [
       "<Figure size 432x288 with 1 Axes>"
      ]
     },
     "metadata": {
      "needs_background": "light"
     },
     "output_type": "display_data"
    }
   ],
   "source": [
    "future = m.make_future_dataframe(df, n_historic_predictions=False, periods=24)\n",
    "forecast = m.predict(future)\n",
    "plt = forecast.plot(x='ds', y=['y', 'yhat1'])"
   ]
  },
  {
   "cell_type": "code",
   "execution_count": 8,
   "id": "a5d8e54c-b60c-43bb-b306-8dc53ee50f92",
   "metadata": {},
   "outputs": [
    {
     "ename": "AttributeError",
     "evalue": "'NeuralProphet' object has no attribute 'predict_future'",
     "output_type": "error",
     "traceback": [
      "\u001b[0;31m---------------------------------------------------------------------------\u001b[0m",
      "\u001b[0;31mAttributeError\u001b[0m                            Traceback (most recent call last)",
      "\u001b[0;32m/tmp/ipykernel_5394/683442376.py\u001b[0m in \u001b[0;36m<module>\u001b[0;34m\u001b[0m\n\u001b[0;32m----> 1\u001b[0;31m \u001b[0mforecast\u001b[0m \u001b[0;34m=\u001b[0m \u001b[0mm\u001b[0m\u001b[0;34m.\u001b[0m\u001b[0mpredict_future\u001b[0m\u001b[0;34m(\u001b[0m\u001b[0mfuture\u001b[0m\u001b[0;34m,\u001b[0m \u001b[0mn_historic_predictions\u001b[0m\u001b[0;34m=\u001b[0m\u001b[0;32mFalse\u001b[0m\u001b[0;34m,\u001b[0m \u001b[0mperiods\u001b[0m\u001b[0;34m=\u001b[0m\u001b[0;36m24\u001b[0m\u001b[0;34m)\u001b[0m\u001b[0;34m\u001b[0m\u001b[0;34m\u001b[0m\u001b[0m\n\u001b[0m\u001b[1;32m      2\u001b[0m \u001b[0mplt\u001b[0m \u001b[0;34m=\u001b[0m \u001b[0mforecast\u001b[0m\u001b[0;34m.\u001b[0m\u001b[0mplot\u001b[0m\u001b[0;34m(\u001b[0m\u001b[0mx\u001b[0m\u001b[0;34m=\u001b[0m\u001b[0;34m'ds'\u001b[0m\u001b[0;34m,\u001b[0m \u001b[0my\u001b[0m\u001b[0;34m=\u001b[0m\u001b[0;34m[\u001b[0m\u001b[0;34m'y'\u001b[0m\u001b[0;34m,\u001b[0m \u001b[0;34m'yhat1'\u001b[0m\u001b[0;34m]\u001b[0m\u001b[0;34m)\u001b[0m\u001b[0;34m\u001b[0m\u001b[0;34m\u001b[0m\u001b[0m\n",
      "\u001b[0;31mAttributeError\u001b[0m: 'NeuralProphet' object has no attribute 'predict_future'"
     ]
    }
   ],
   "source": [
    "forecast = m.predict_future(future, n_historic_predictions=False, periods=24)\n",
    "plt = forecast.plot(x='ds', y=['y', 'yhat1'])"
   ]
  },
  {
   "cell_type": "code",
   "execution_count": null,
   "id": "8c9bb4da-0ccf-4599-b880-dfb81f328331",
   "metadata": {},
   "outputs": [],
   "source": []
  },
  {
   "cell_type": "code",
   "execution_count": null,
   "id": "29734dd8-3dcf-4960-b7be-7cde6f66fbce",
   "metadata": {},
   "outputs": [],
   "source": []
  }
 ],
 "metadata": {
  "kernelspec": {
   "display_name": "np-dev",
   "language": "python",
   "name": "np-dev"
  },
  "language_info": {
   "codemirror_mode": {
    "name": "ipython",
    "version": 3
   },
   "file_extension": ".py",
   "mimetype": "text/x-python",
   "name": "python",
   "nbconvert_exporter": "python",
   "pygments_lexer": "ipython3",
   "version": "3.9.5"
  }
 },
 "nbformat": 4,
 "nbformat_minor": 5
}
