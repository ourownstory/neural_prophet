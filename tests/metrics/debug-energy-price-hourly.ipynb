{
 "cells": [
  {
   "cell_type": "code",
   "execution_count": 1,
   "metadata": {},
   "outputs": [],
   "source": [
    "import os\n",
    "import torch\n",
    "\n",
    "import numpy as np\n",
    "import pandas as pd\n",
    "import plotly.graph_objects as go\n",
    "from plotly.subplots import make_subplots\n",
    "from plotly_resampler import unregister_plotly_resampler\n",
    "\n",
    "from neuralprophet import NeuralProphet"
   ]
  },
  {
   "cell_type": "code",
   "execution_count": 2,
   "metadata": {},
   "outputs": [],
   "source": [
    "def create_metrics_plot(metrics):\n",
    "    # Deactivate the resampler since it is not compatible with kaleido (image export)\n",
    "    unregister_plotly_resampler()\n",
    "\n",
    "    # Plotly params\n",
    "    prediction_color = \"#2d92ff\"\n",
    "    actual_color = \"black\"\n",
    "    line_width = 2\n",
    "    xaxis_args = {\"showline\": True, \"mirror\": True, \"linewidth\": 1.5, \"showgrid\": False}\n",
    "    yaxis_args = {\n",
    "        \"showline\": True,\n",
    "        \"mirror\": True,\n",
    "        \"linewidth\": 1.5,\n",
    "        \"showgrid\": False,\n",
    "        \"rangemode\": \"tozero\",\n",
    "        \"type\": \"log\",\n",
    "    }\n",
    "    layout_args = {\n",
    "        \"autosize\": True,\n",
    "        \"template\": \"plotly_white\",\n",
    "        \"margin\": go.layout.Margin(l=0, r=10, b=0, t=30, pad=0),\n",
    "        \"font\": dict(size=10),\n",
    "        \"title\": dict(font=dict(size=10)),\n",
    "        \"width\": 1000,\n",
    "        \"height\": 200,\n",
    "    }\n",
    "\n",
    "    metric_cols = [col for col in metrics.columns if not (\"_val\" in col or col == \"RegLoss\" or col == \"epoch\")]\n",
    "    fig = make_subplots(rows=1, cols=len(metric_cols), subplot_titles=metric_cols)\n",
    "    for i, metric in enumerate(metric_cols):\n",
    "        fig.add_trace(\n",
    "            go.Scatter(\n",
    "                y=metrics[metric],\n",
    "                name=metric,\n",
    "                mode=\"lines\",\n",
    "                line=dict(color=prediction_color, width=line_width),\n",
    "                legendgroup=metric,\n",
    "            ),\n",
    "            row=1,\n",
    "            col=i + 1,\n",
    "        )\n",
    "        if f\"{metric}_val\" in metrics.columns:\n",
    "            fig.add_trace(\n",
    "                go.Scatter(\n",
    "                    y=metrics[f\"{metric}_val\"],\n",
    "                    name=f\"{metric}_val\",\n",
    "                    mode=\"lines\",\n",
    "                    line=dict(color=actual_color, width=line_width),\n",
    "                    legendgroup=metric,\n",
    "                ),\n",
    "                row=1,\n",
    "                col=i + 1,\n",
    "            )\n",
    "        if metric == \"Loss\":\n",
    "            fig.add_trace(\n",
    "                go.Scatter(\n",
    "                    y=metrics[\"RegLoss\"],\n",
    "                    name=\"RegLoss\",\n",
    "                    mode=\"lines\",\n",
    "                    line=dict(color=actual_color, width=line_width),\n",
    "                    legendgroup=metric,\n",
    "                ),\n",
    "                row=1,\n",
    "                col=i + 1,\n",
    "            )\n",
    "    fig.update_xaxes(xaxis_args)\n",
    "    fig.update_yaxes(yaxis_args)\n",
    "    fig.update_layout(layout_args)\n",
    "    return fig"
   ]
  },
  {
   "cell_type": "code",
   "execution_count": 3,
   "metadata": {},
   "outputs": [],
   "source": [
    "DIR = \"~/github/neural_prophet\"\n",
    "DATA_DIR = os.path.join(DIR, \"tests\", \"test-data\")\n",
    "PEYTON_FILE = os.path.join(DATA_DIR, \"wp_log_peyton_manning.csv\")\n",
    "AIR_FILE = os.path.join(DATA_DIR, \"air_passengers.csv\")\n",
    "YOS_FILE = os.path.join(DATA_DIR, \"yosemite_temps.csv\")\n",
    "ENERGY_PRICE_DAILY_FILE = os.path.join(DATA_DIR, \"tutorial04_kaggle_energy_daily_temperature.csv\")"
   ]
  },
  {
   "cell_type": "code",
   "execution_count": 4,
   "metadata": {},
   "outputs": [],
   "source": [
    "df = pd.read_csv(ENERGY_PRICE_DAILY_FILE)\n",
    "df[\"temp\"] = df[\"temperature\"]\n",
    "df = df.drop(columns=\"temperature\")\n",
    "df[\"ds\"] = pd.to_datetime(df[\"ds\"])\n",
    "df[\"y\"] = pd.to_numeric(df[\"y\"], errors=\"coerce\")\n",
    "\n",
    "df = df.drop(\"ds\", axis=1)\n",
    "df[\"ds\"] = pd.date_range(start=\"2015-01-01 00:00:00\", periods=len(df), freq=\"H\")\n",
    "df[\"ID\"] = \"test\"\n",
    "\n",
    "df_id = df[[\"ds\", \"y\", \"temp\"]].copy()\n",
    "df_id[\"ID\"] = \"test2\"\n",
    "df_id[\"y\"] = df_id[\"y\"] * 0.3\n",
    "df_id[\"temp\"] = df_id[\"temp\"] * 0.4\n",
    "df = pd.concat([df, df_id], ignore_index=True)\n",
    "\n",
    "# Conditional Seasonality\n",
    "df[\"winter\"] = np.where(\n",
    "    df[\"ds\"].dt.month.isin([1]),\n",
    "    1,\n",
    "    0,\n",
    ")\n",
    "df[\"summer\"] = np.where(df[\"ds\"].dt.month.isin([2, 3, 4, 5, 6, 7, 8, 9, 10, 11, 12]), 1, 0)\n",
    "df[\"winter\"] = pd.to_numeric(df[\"winter\"], errors=\"coerce\")\n",
    "df[\"summer\"] = pd.to_numeric(df[\"summer\"], errors=\"coerce\")\n",
    "\n",
    "# Normalize Temperature\n",
    "df[\"temp\"] = (df[\"temp\"] - 65.0) / 50.0\n",
    "\n",
    "# df\n",
    "df = df[[\"ID\", \"ds\", \"y\", \"temp\", \"winter\", \"summer\"]]"
   ]
  },
  {
   "cell_type": "code",
   "execution_count": 5,
   "metadata": {},
   "outputs": [
    {
     "name": "stdout",
     "output_type": "stream",
     "text": [
      "Using CPU\n"
     ]
    },
    {
     "data": {
      "text/plain": [
       "<neuralprophet.forecaster.NeuralProphet at 0x7b48ec932690>"
      ]
     },
     "execution_count": 5,
     "metadata": {},
     "output_type": "execute_result"
    }
   ],
   "source": [
    "### Temporary Test for on-the-fly sampling - very time consuming!\n",
    "\n",
    "\n",
    "# Hyperparameter\n",
    "tuned_params = {\n",
    "    \"n_lags\": 10,\n",
    "    \"newer_samples_weight\": 2.0,\n",
    "    \"n_changepoints\": 0,\n",
    "    \"yearly_seasonality\": 10,\n",
    "    \"weekly_seasonality\": True,\n",
    "    \"daily_seasonality\": False,  # due to conditional daily seasonality\n",
    "    \"batch_size\": 128,\n",
    "    \"ar_layers\": [8, 4],\n",
    "    \"lagged_reg_layers\": [8],\n",
    "    # not tuned\n",
    "    \"n_forecasts\": 5,\n",
    "    \"learning_rate\": 0.001,\n",
    "    \"epochs\": 10,\n",
    "    \"trend_global_local\": \"global\",\n",
    "    \"season_global_local\": \"global\",\n",
    "    \"drop_missing\": True,\n",
    "    \"normalize\": \"standardize\",\n",
    "}\n",
    "\n",
    "# Uncertainty Quantification\n",
    "confidence_lv = 0.98\n",
    "quantile_list = [round(((1 - confidence_lv) / 2), 2), round((confidence_lv + (1 - confidence_lv) / 2), 2)]\n",
    "\n",
    "# Check if GPU is available\n",
    "use_gpu = torch.cuda.is_available()\n",
    "\n",
    "# Set trainer configuration\n",
    "trainer_configs = {\n",
    "    \"accelerator\": \"gpu\" if use_gpu else \"cpu\",\n",
    "}\n",
    "print(f\"Using {'GPU' if use_gpu else 'CPU'}\")\n",
    "\n",
    "# Model\n",
    "m = NeuralProphet(**tuned_params, **trainer_configs, quantiles=quantile_list)\n",
    "\n",
    "# Lagged Regressor\n",
    "m.add_lagged_regressor(names=\"temp\", n_lags=33, normalize=\"standardize\")\n",
    "\n",
    "# Conditional Seasonality\n",
    "m.add_seasonality(name=\"winter\", period=1, fourier_order=6, condition_name=\"winter\")\n",
    "m.add_seasonality(name=\"summer\", period=1, fourier_order=6, condition_name=\"summer\")\n",
    "\n",
    "# Holidays\n",
    "m.add_country_holidays(country_name=\"US\", lower_window=-1, upper_window=1)"
   ]
  },
  {
   "cell_type": "code",
   "execution_count": 6,
   "metadata": {},
   "outputs": [
    {
     "name": "stderr",
     "output_type": "stream",
     "text": [
      "INFO - (NP.forecaster.fit) - When Global modeling with local normalization, metrics are displayed in normalized scale.\n",
      "INFO - (NP.df_utils._infer_frequency) - Major frequency H corresponds to 99.929% of the data.\n",
      "INFO - (NP.df_utils._infer_frequency) - Defined frequency is equal to major frequency - H\n",
      "INFO - (NP.df_utils._infer_frequency) - Major frequency H corresponds to 99.929% of the data.\n",
      "INFO - (NP.df_utils._infer_frequency) - Defined frequency is equal to major frequency - H\n",
      "INFO - (NP.utils.configure_trainer) - Using accelerator cpu with 1 device(s).\n"
     ]
    },
    {
     "data": {
      "application/vnd.jupyter.widget-view+json": {
       "model_id": "aa26aaf9191f401b9c69ebafca381bab",
       "version_major": 2,
       "version_minor": 0
      },
      "text/plain": [
       "Training: 0it [00:00, ?it/s]"
      ]
     },
     "metadata": {},
     "output_type": "display_data"
    },
    {
     "data": {
      "application/vnd.jupyter.widget-view+json": {
       "model_id": "8f924e854e154a2a9e9e86640d0298db",
       "version_major": 2,
       "version_minor": 0
      },
      "text/plain": [
       "Validation: 0it [00:00, ?it/s]"
      ]
     },
     "metadata": {},
     "output_type": "display_data"
    },
    {
     "data": {
      "application/vnd.jupyter.widget-view+json": {
       "model_id": "babd196a4ca640adaa6302bdba9682b1",
       "version_major": 2,
       "version_minor": 0
      },
      "text/plain": [
       "Validation: 0it [00:00, ?it/s]"
      ]
     },
     "metadata": {},
     "output_type": "display_data"
    },
    {
     "data": {
      "application/vnd.jupyter.widget-view+json": {
       "model_id": "4c4b3ce470a7482f83b3118343efa35e",
       "version_major": 2,
       "version_minor": 0
      },
      "text/plain": [
       "Validation: 0it [00:00, ?it/s]"
      ]
     },
     "metadata": {},
     "output_type": "display_data"
    },
    {
     "data": {
      "application/vnd.jupyter.widget-view+json": {
       "model_id": "43e00642d3674fac82ab23cd4d56ab3c",
       "version_major": 2,
       "version_minor": 0
      },
      "text/plain": [
       "Validation: 0it [00:00, ?it/s]"
      ]
     },
     "metadata": {},
     "output_type": "display_data"
    },
    {
     "data": {
      "application/vnd.jupyter.widget-view+json": {
       "model_id": "9091c01f25ff475bb3e16f402bdcb08b",
       "version_major": 2,
       "version_minor": 0
      },
      "text/plain": [
       "Validation: 0it [00:00, ?it/s]"
      ]
     },
     "metadata": {},
     "output_type": "display_data"
    },
    {
     "data": {
      "application/vnd.jupyter.widget-view+json": {
       "model_id": "a86321ee392d4c42b7e078509adb4efd",
       "version_major": 2,
       "version_minor": 0
      },
      "text/plain": [
       "Validation: 0it [00:00, ?it/s]"
      ]
     },
     "metadata": {},
     "output_type": "display_data"
    },
    {
     "data": {
      "application/vnd.jupyter.widget-view+json": {
       "model_id": "a659c5f8d73f49d2ba37897c1d604989",
       "version_major": 2,
       "version_minor": 0
      },
      "text/plain": [
       "Validation: 0it [00:00, ?it/s]"
      ]
     },
     "metadata": {},
     "output_type": "display_data"
    },
    {
     "data": {
      "application/vnd.jupyter.widget-view+json": {
       "model_id": "76eb4a72f44b47048d9e23746a6baf41",
       "version_major": 2,
       "version_minor": 0
      },
      "text/plain": [
       "Validation: 0it [00:00, ?it/s]"
      ]
     },
     "metadata": {},
     "output_type": "display_data"
    },
    {
     "data": {
      "application/vnd.jupyter.widget-view+json": {
       "model_id": "f6400786ccbb4d899b117881cae52eb6",
       "version_major": 2,
       "version_minor": 0
      },
      "text/plain": [
       "Validation: 0it [00:00, ?it/s]"
      ]
     },
     "metadata": {},
     "output_type": "display_data"
    },
    {
     "data": {
      "application/vnd.jupyter.widget-view+json": {
       "model_id": "914fe3ff48524bf38e9f5892bd897646",
       "version_major": 2,
       "version_minor": 0
      },
      "text/plain": [
       "Validation: 0it [00:00, ?it/s]"
      ]
     },
     "metadata": {},
     "output_type": "display_data"
    }
   ],
   "source": [
    "# Split\n",
    "df_train = df[df[\"ds\"] < \"2015-03-01\"]\n",
    "df_test = df[df[\"ds\"] >= \"2015-03-01\"]\n",
    "\n",
    "# Training & Predict\n",
    "metrics = m.fit(df=df_train, validation_df=df_test, freq=\"H\", num_workers=4, early_stopping=False)"
   ]
  },
  {
   "cell_type": "code",
   "execution_count": 7,
   "metadata": {},
   "outputs": [
    {
     "data": {
      "application/vnd.plotly.v1+json": {
       "config": {
        "plotlyServerURL": "https://plot.ly"
       },
       "data": [
        {
         "legendgroup": "MAE",
         "line": {
          "color": "#2d92ff",
          "width": 2
         },
         "mode": "lines",
         "name": "MAE",
         "type": "scatter",
         "xaxis": "x",
         "y": [
          1.6991313695907593,
          1.5541504621505735,
          1.2866111993789673,
          1.0485198497772217,
          0.9603586792945862,
          0.933108389377594,
          0.9244528412818908,
          0.9177840948104858,
          0.9132021069526672,
          0.9105463027954102
         ],
         "yaxis": "y"
        },
        {
         "legendgroup": "MAE",
         "line": {
          "color": "black",
          "width": 2
         },
         "mode": "lines",
         "name": "MAE_val",
         "type": "scatter",
         "xaxis": "x",
         "y": [
          1.917430639266968,
          2.133635997772217,
          2.1361277103424072,
          1.954904317855835,
          1.8205108642578125,
          1.7834810018539429,
          1.7635681629180908,
          1.7493915557861328,
          1.7418491840362549,
          1.7389646768569946
         ],
         "yaxis": "y"
        },
        {
         "legendgroup": "RMSE",
         "line": {
          "color": "#2d92ff",
          "width": 2
         },
         "mode": "lines",
         "name": "RMSE",
         "type": "scatter",
         "xaxis": "x2",
         "y": [
          2.249849557876587,
          2.062807083129883,
          1.6801131963729858,
          1.344346523284912,
          1.2270969152450562,
          1.1934525966644287,
          1.1826142072677612,
          1.1741188764572144,
          1.169130563735962,
          1.164936065673828
         ],
         "yaxis": "y2"
        },
        {
         "legendgroup": "RMSE",
         "line": {
          "color": "black",
          "width": 2
         },
         "mode": "lines",
         "name": "RMSE_val",
         "type": "scatter",
         "xaxis": "x2",
         "y": [
          2.1282451152801514,
          2.287360668182373,
          2.318473100662231,
          2.140346050262451,
          2.0008866786956787,
          1.962218999862671,
          1.9410110712051392,
          1.9257516860961912,
          1.9175572395324707,
          1.914405107498169
         ],
         "yaxis": "y2"
        },
        {
         "legendgroup": "Loss",
         "line": {
          "color": "#2d92ff",
          "width": 2
         },
         "mode": "lines",
         "name": "Loss",
         "type": "scatter",
         "xaxis": "x3",
         "y": [
          3.4565775394439697,
          3.047083854675293,
          2.3058581352233887,
          1.710412621498108,
          1.4448997974395752,
          1.353717565536499,
          1.3267676830291748,
          1.3102833032608032,
          1.2921112775802612,
          1.2888280153274536
         ],
         "yaxis": "y3"
        },
        {
         "legendgroup": "Loss",
         "line": {
          "color": "black",
          "width": 2
         },
         "mode": "lines",
         "name": "Loss_val",
         "type": "scatter",
         "xaxis": "x3",
         "y": [
          4.821254730224609,
          4.705277919769287,
          4.240411758422852,
          3.7221953868865967,
          3.4264442920684814,
          3.345188617706299,
          3.2992584705352783,
          3.2648608684539795,
          3.246990919113159,
          3.2401645183563232
         ],
         "yaxis": "y3"
        },
        {
         "legendgroup": "Loss",
         "line": {
          "color": "black",
          "width": 2
         },
         "mode": "lines",
         "name": "RegLoss",
         "type": "scatter",
         "xaxis": "x3",
         "y": [
          0,
          0,
          0,
          0,
          0,
          0,
          0,
          0,
          0,
          0
         ],
         "yaxis": "y3"
        }
       ],
       "layout": {
        "annotations": [
         {
          "font": {
           "size": 16
          },
          "showarrow": false,
          "text": "MAE",
          "x": 0.14444444444444446,
          "xanchor": "center",
          "xref": "paper",
          "y": 1,
          "yanchor": "bottom",
          "yref": "paper"
         },
         {
          "font": {
           "size": 16
          },
          "showarrow": false,
          "text": "RMSE",
          "x": 0.5,
          "xanchor": "center",
          "xref": "paper",
          "y": 1,
          "yanchor": "bottom",
          "yref": "paper"
         },
         {
          "font": {
           "size": 16
          },
          "showarrow": false,
          "text": "Loss",
          "x": 0.8555555555555556,
          "xanchor": "center",
          "xref": "paper",
          "y": 1,
          "yanchor": "bottom",
          "yref": "paper"
         }
        ],
        "autosize": true,
        "font": {
         "size": 10
        },
        "height": 200,
        "margin": {
         "b": 0,
         "l": 0,
         "pad": 0,
         "r": 10,
         "t": 30
        },
        "template": {
         "data": {
          "bar": [
           {
            "error_x": {
             "color": "#2a3f5f"
            },
            "error_y": {
             "color": "#2a3f5f"
            },
            "marker": {
             "line": {
              "color": "white",
              "width": 0.5
             },
             "pattern": {
              "fillmode": "overlay",
              "size": 10,
              "solidity": 0.2
             }
            },
            "type": "bar"
           }
          ],
          "barpolar": [
           {
            "marker": {
             "line": {
              "color": "white",
              "width": 0.5
             },
             "pattern": {
              "fillmode": "overlay",
              "size": 10,
              "solidity": 0.2
             }
            },
            "type": "barpolar"
           }
          ],
          "carpet": [
           {
            "aaxis": {
             "endlinecolor": "#2a3f5f",
             "gridcolor": "#C8D4E3",
             "linecolor": "#C8D4E3",
             "minorgridcolor": "#C8D4E3",
             "startlinecolor": "#2a3f5f"
            },
            "baxis": {
             "endlinecolor": "#2a3f5f",
             "gridcolor": "#C8D4E3",
             "linecolor": "#C8D4E3",
             "minorgridcolor": "#C8D4E3",
             "startlinecolor": "#2a3f5f"
            },
            "type": "carpet"
           }
          ],
          "choropleth": [
           {
            "colorbar": {
             "outlinewidth": 0,
             "ticks": ""
            },
            "type": "choropleth"
           }
          ],
          "contour": [
           {
            "colorbar": {
             "outlinewidth": 0,
             "ticks": ""
            },
            "colorscale": [
             [
              0,
              "#0d0887"
             ],
             [
              0.1111111111111111,
              "#46039f"
             ],
             [
              0.2222222222222222,
              "#7201a8"
             ],
             [
              0.3333333333333333,
              "#9c179e"
             ],
             [
              0.4444444444444444,
              "#bd3786"
             ],
             [
              0.5555555555555556,
              "#d8576b"
             ],
             [
              0.6666666666666666,
              "#ed7953"
             ],
             [
              0.7777777777777778,
              "#fb9f3a"
             ],
             [
              0.8888888888888888,
              "#fdca26"
             ],
             [
              1,
              "#f0f921"
             ]
            ],
            "type": "contour"
           }
          ],
          "contourcarpet": [
           {
            "colorbar": {
             "outlinewidth": 0,
             "ticks": ""
            },
            "type": "contourcarpet"
           }
          ],
          "heatmap": [
           {
            "colorbar": {
             "outlinewidth": 0,
             "ticks": ""
            },
            "colorscale": [
             [
              0,
              "#0d0887"
             ],
             [
              0.1111111111111111,
              "#46039f"
             ],
             [
              0.2222222222222222,
              "#7201a8"
             ],
             [
              0.3333333333333333,
              "#9c179e"
             ],
             [
              0.4444444444444444,
              "#bd3786"
             ],
             [
              0.5555555555555556,
              "#d8576b"
             ],
             [
              0.6666666666666666,
              "#ed7953"
             ],
             [
              0.7777777777777778,
              "#fb9f3a"
             ],
             [
              0.8888888888888888,
              "#fdca26"
             ],
             [
              1,
              "#f0f921"
             ]
            ],
            "type": "heatmap"
           }
          ],
          "heatmapgl": [
           {
            "colorbar": {
             "outlinewidth": 0,
             "ticks": ""
            },
            "colorscale": [
             [
              0,
              "#0d0887"
             ],
             [
              0.1111111111111111,
              "#46039f"
             ],
             [
              0.2222222222222222,
              "#7201a8"
             ],
             [
              0.3333333333333333,
              "#9c179e"
             ],
             [
              0.4444444444444444,
              "#bd3786"
             ],
             [
              0.5555555555555556,
              "#d8576b"
             ],
             [
              0.6666666666666666,
              "#ed7953"
             ],
             [
              0.7777777777777778,
              "#fb9f3a"
             ],
             [
              0.8888888888888888,
              "#fdca26"
             ],
             [
              1,
              "#f0f921"
             ]
            ],
            "type": "heatmapgl"
           }
          ],
          "histogram": [
           {
            "marker": {
             "pattern": {
              "fillmode": "overlay",
              "size": 10,
              "solidity": 0.2
             }
            },
            "type": "histogram"
           }
          ],
          "histogram2d": [
           {
            "colorbar": {
             "outlinewidth": 0,
             "ticks": ""
            },
            "colorscale": [
             [
              0,
              "#0d0887"
             ],
             [
              0.1111111111111111,
              "#46039f"
             ],
             [
              0.2222222222222222,
              "#7201a8"
             ],
             [
              0.3333333333333333,
              "#9c179e"
             ],
             [
              0.4444444444444444,
              "#bd3786"
             ],
             [
              0.5555555555555556,
              "#d8576b"
             ],
             [
              0.6666666666666666,
              "#ed7953"
             ],
             [
              0.7777777777777778,
              "#fb9f3a"
             ],
             [
              0.8888888888888888,
              "#fdca26"
             ],
             [
              1,
              "#f0f921"
             ]
            ],
            "type": "histogram2d"
           }
          ],
          "histogram2dcontour": [
           {
            "colorbar": {
             "outlinewidth": 0,
             "ticks": ""
            },
            "colorscale": [
             [
              0,
              "#0d0887"
             ],
             [
              0.1111111111111111,
              "#46039f"
             ],
             [
              0.2222222222222222,
              "#7201a8"
             ],
             [
              0.3333333333333333,
              "#9c179e"
             ],
             [
              0.4444444444444444,
              "#bd3786"
             ],
             [
              0.5555555555555556,
              "#d8576b"
             ],
             [
              0.6666666666666666,
              "#ed7953"
             ],
             [
              0.7777777777777778,
              "#fb9f3a"
             ],
             [
              0.8888888888888888,
              "#fdca26"
             ],
             [
              1,
              "#f0f921"
             ]
            ],
            "type": "histogram2dcontour"
           }
          ],
          "mesh3d": [
           {
            "colorbar": {
             "outlinewidth": 0,
             "ticks": ""
            },
            "type": "mesh3d"
           }
          ],
          "parcoords": [
           {
            "line": {
             "colorbar": {
              "outlinewidth": 0,
              "ticks": ""
             }
            },
            "type": "parcoords"
           }
          ],
          "pie": [
           {
            "automargin": true,
            "type": "pie"
           }
          ],
          "scatter": [
           {
            "fillpattern": {
             "fillmode": "overlay",
             "size": 10,
             "solidity": 0.2
            },
            "type": "scatter"
           }
          ],
          "scatter3d": [
           {
            "line": {
             "colorbar": {
              "outlinewidth": 0,
              "ticks": ""
             }
            },
            "marker": {
             "colorbar": {
              "outlinewidth": 0,
              "ticks": ""
             }
            },
            "type": "scatter3d"
           }
          ],
          "scattercarpet": [
           {
            "marker": {
             "colorbar": {
              "outlinewidth": 0,
              "ticks": ""
             }
            },
            "type": "scattercarpet"
           }
          ],
          "scattergeo": [
           {
            "marker": {
             "colorbar": {
              "outlinewidth": 0,
              "ticks": ""
             }
            },
            "type": "scattergeo"
           }
          ],
          "scattergl": [
           {
            "marker": {
             "colorbar": {
              "outlinewidth": 0,
              "ticks": ""
             }
            },
            "type": "scattergl"
           }
          ],
          "scattermapbox": [
           {
            "marker": {
             "colorbar": {
              "outlinewidth": 0,
              "ticks": ""
             }
            },
            "type": "scattermapbox"
           }
          ],
          "scatterpolar": [
           {
            "marker": {
             "colorbar": {
              "outlinewidth": 0,
              "ticks": ""
             }
            },
            "type": "scatterpolar"
           }
          ],
          "scatterpolargl": [
           {
            "marker": {
             "colorbar": {
              "outlinewidth": 0,
              "ticks": ""
             }
            },
            "type": "scatterpolargl"
           }
          ],
          "scatterternary": [
           {
            "marker": {
             "colorbar": {
              "outlinewidth": 0,
              "ticks": ""
             }
            },
            "type": "scatterternary"
           }
          ],
          "surface": [
           {
            "colorbar": {
             "outlinewidth": 0,
             "ticks": ""
            },
            "colorscale": [
             [
              0,
              "#0d0887"
             ],
             [
              0.1111111111111111,
              "#46039f"
             ],
             [
              0.2222222222222222,
              "#7201a8"
             ],
             [
              0.3333333333333333,
              "#9c179e"
             ],
             [
              0.4444444444444444,
              "#bd3786"
             ],
             [
              0.5555555555555556,
              "#d8576b"
             ],
             [
              0.6666666666666666,
              "#ed7953"
             ],
             [
              0.7777777777777778,
              "#fb9f3a"
             ],
             [
              0.8888888888888888,
              "#fdca26"
             ],
             [
              1,
              "#f0f921"
             ]
            ],
            "type": "surface"
           }
          ],
          "table": [
           {
            "cells": {
             "fill": {
              "color": "#EBF0F8"
             },
             "line": {
              "color": "white"
             }
            },
            "header": {
             "fill": {
              "color": "#C8D4E3"
             },
             "line": {
              "color": "white"
             }
            },
            "type": "table"
           }
          ]
         },
         "layout": {
          "annotationdefaults": {
           "arrowcolor": "#2a3f5f",
           "arrowhead": 0,
           "arrowwidth": 1
          },
          "autotypenumbers": "strict",
          "coloraxis": {
           "colorbar": {
            "outlinewidth": 0,
            "ticks": ""
           }
          },
          "colorscale": {
           "diverging": [
            [
             0,
             "#8e0152"
            ],
            [
             0.1,
             "#c51b7d"
            ],
            [
             0.2,
             "#de77ae"
            ],
            [
             0.3,
             "#f1b6da"
            ],
            [
             0.4,
             "#fde0ef"
            ],
            [
             0.5,
             "#f7f7f7"
            ],
            [
             0.6,
             "#e6f5d0"
            ],
            [
             0.7,
             "#b8e186"
            ],
            [
             0.8,
             "#7fbc41"
            ],
            [
             0.9,
             "#4d9221"
            ],
            [
             1,
             "#276419"
            ]
           ],
           "sequential": [
            [
             0,
             "#0d0887"
            ],
            [
             0.1111111111111111,
             "#46039f"
            ],
            [
             0.2222222222222222,
             "#7201a8"
            ],
            [
             0.3333333333333333,
             "#9c179e"
            ],
            [
             0.4444444444444444,
             "#bd3786"
            ],
            [
             0.5555555555555556,
             "#d8576b"
            ],
            [
             0.6666666666666666,
             "#ed7953"
            ],
            [
             0.7777777777777778,
             "#fb9f3a"
            ],
            [
             0.8888888888888888,
             "#fdca26"
            ],
            [
             1,
             "#f0f921"
            ]
           ],
           "sequentialminus": [
            [
             0,
             "#0d0887"
            ],
            [
             0.1111111111111111,
             "#46039f"
            ],
            [
             0.2222222222222222,
             "#7201a8"
            ],
            [
             0.3333333333333333,
             "#9c179e"
            ],
            [
             0.4444444444444444,
             "#bd3786"
            ],
            [
             0.5555555555555556,
             "#d8576b"
            ],
            [
             0.6666666666666666,
             "#ed7953"
            ],
            [
             0.7777777777777778,
             "#fb9f3a"
            ],
            [
             0.8888888888888888,
             "#fdca26"
            ],
            [
             1,
             "#f0f921"
            ]
           ]
          },
          "colorway": [
           "#636efa",
           "#EF553B",
           "#00cc96",
           "#ab63fa",
           "#FFA15A",
           "#19d3f3",
           "#FF6692",
           "#B6E880",
           "#FF97FF",
           "#FECB52"
          ],
          "font": {
           "color": "#2a3f5f"
          },
          "geo": {
           "bgcolor": "white",
           "lakecolor": "white",
           "landcolor": "white",
           "showlakes": true,
           "showland": true,
           "subunitcolor": "#C8D4E3"
          },
          "hoverlabel": {
           "align": "left"
          },
          "hovermode": "closest",
          "mapbox": {
           "style": "light"
          },
          "paper_bgcolor": "white",
          "plot_bgcolor": "white",
          "polar": {
           "angularaxis": {
            "gridcolor": "#EBF0F8",
            "linecolor": "#EBF0F8",
            "ticks": ""
           },
           "bgcolor": "white",
           "radialaxis": {
            "gridcolor": "#EBF0F8",
            "linecolor": "#EBF0F8",
            "ticks": ""
           }
          },
          "scene": {
           "xaxis": {
            "backgroundcolor": "white",
            "gridcolor": "#DFE8F3",
            "gridwidth": 2,
            "linecolor": "#EBF0F8",
            "showbackground": true,
            "ticks": "",
            "zerolinecolor": "#EBF0F8"
           },
           "yaxis": {
            "backgroundcolor": "white",
            "gridcolor": "#DFE8F3",
            "gridwidth": 2,
            "linecolor": "#EBF0F8",
            "showbackground": true,
            "ticks": "",
            "zerolinecolor": "#EBF0F8"
           },
           "zaxis": {
            "backgroundcolor": "white",
            "gridcolor": "#DFE8F3",
            "gridwidth": 2,
            "linecolor": "#EBF0F8",
            "showbackground": true,
            "ticks": "",
            "zerolinecolor": "#EBF0F8"
           }
          },
          "shapedefaults": {
           "line": {
            "color": "#2a3f5f"
           }
          },
          "ternary": {
           "aaxis": {
            "gridcolor": "#DFE8F3",
            "linecolor": "#A2B1C6",
            "ticks": ""
           },
           "baxis": {
            "gridcolor": "#DFE8F3",
            "linecolor": "#A2B1C6",
            "ticks": ""
           },
           "bgcolor": "white",
           "caxis": {
            "gridcolor": "#DFE8F3",
            "linecolor": "#A2B1C6",
            "ticks": ""
           }
          },
          "title": {
           "x": 0.05
          },
          "xaxis": {
           "automargin": true,
           "gridcolor": "#EBF0F8",
           "linecolor": "#EBF0F8",
           "ticks": "",
           "title": {
            "standoff": 15
           },
           "zerolinecolor": "#EBF0F8",
           "zerolinewidth": 2
          },
          "yaxis": {
           "automargin": true,
           "gridcolor": "#EBF0F8",
           "linecolor": "#EBF0F8",
           "ticks": "",
           "title": {
            "standoff": 15
           },
           "zerolinecolor": "#EBF0F8",
           "zerolinewidth": 2
          }
         }
        },
        "title": {
         "font": {
          "size": 10
         }
        },
        "width": 1000,
        "xaxis": {
         "anchor": "y",
         "domain": [
          0,
          0.2888888888888889
         ],
         "linewidth": 1.5,
         "mirror": true,
         "showgrid": false,
         "showline": true
        },
        "xaxis2": {
         "anchor": "y2",
         "domain": [
          0.35555555555555557,
          0.6444444444444445
         ],
         "linewidth": 1.5,
         "mirror": true,
         "showgrid": false,
         "showline": true
        },
        "xaxis3": {
         "anchor": "y3",
         "domain": [
          0.7111111111111111,
          1
         ],
         "linewidth": 1.5,
         "mirror": true,
         "showgrid": false,
         "showline": true
        },
        "yaxis": {
         "anchor": "x",
         "domain": [
          0,
          1
         ],
         "linewidth": 1.5,
         "mirror": true,
         "rangemode": "tozero",
         "showgrid": false,
         "showline": true,
         "type": "log"
        },
        "yaxis2": {
         "anchor": "x2",
         "domain": [
          0,
          1
         ],
         "linewidth": 1.5,
         "mirror": true,
         "rangemode": "tozero",
         "showgrid": false,
         "showline": true,
         "type": "log"
        },
        "yaxis3": {
         "anchor": "x3",
         "domain": [
          0,
          1
         ],
         "linewidth": 1.5,
         "mirror": true,
         "rangemode": "tozero",
         "showgrid": false,
         "showline": true,
         "type": "log"
        }
       }
      }
     },
     "metadata": {},
     "output_type": "display_data"
    }
   ],
   "source": [
    "create_metrics_plot(metrics)"
   ]
  },
  {
   "cell_type": "code",
   "execution_count": 8,
   "metadata": {},
   "outputs": [
    {
     "data": {
      "text/plain": [
       "{'MAE_val': 1.7389646768569946,\n",
       " 'RMSE_val': 1.914405107498169,\n",
       " 'Loss_val': 3.2401645183563232,\n",
       " 'RegLoss_val': 0.0,\n",
       " 'epoch': 9,\n",
       " 'MAE': 0.9105463027954102,\n",
       " 'RMSE': 1.1649360656738281,\n",
       " 'Loss': 1.2888280153274536,\n",
       " 'RegLoss': 0.0}"
      ]
     },
     "execution_count": 8,
     "metadata": {},
     "output_type": "execute_result"
    }
   ],
   "source": [
    "metrics.to_dict(\"records\")[-1]"
   ]
  },
  {
   "cell_type": "code",
   "execution_count": 9,
   "metadata": {},
   "outputs": [
    {
     "data": {
      "text/html": [
       "<div>\n",
       "<style scoped>\n",
       "    .dataframe tbody tr th:only-of-type {\n",
       "        vertical-align: middle;\n",
       "    }\n",
       "\n",
       "    .dataframe tbody tr th {\n",
       "        vertical-align: top;\n",
       "    }\n",
       "\n",
       "    .dataframe thead th {\n",
       "        text-align: right;\n",
       "    }\n",
       "</style>\n",
       "<table border=\"1\" class=\"dataframe\">\n",
       "  <thead>\n",
       "    <tr style=\"text-align: right;\">\n",
       "      <th></th>\n",
       "      <th>MAE_val</th>\n",
       "      <th>RMSE_val</th>\n",
       "      <th>Loss_val</th>\n",
       "      <th>RegLoss_val</th>\n",
       "      <th>epoch</th>\n",
       "      <th>MAE</th>\n",
       "      <th>RMSE</th>\n",
       "      <th>Loss</th>\n",
       "      <th>RegLoss</th>\n",
       "    </tr>\n",
       "  </thead>\n",
       "  <tbody>\n",
       "    <tr>\n",
       "      <th>9</th>\n",
       "      <td>1.738965</td>\n",
       "      <td>1.914405</td>\n",
       "      <td>3.240165</td>\n",
       "      <td>0.0</td>\n",
       "      <td>9</td>\n",
       "      <td>0.910546</td>\n",
       "      <td>1.164936</td>\n",
       "      <td>1.288828</td>\n",
       "      <td>0.0</td>\n",
       "    </tr>\n",
       "  </tbody>\n",
       "</table>\n",
       "</div>"
      ],
      "text/plain": [
       "    MAE_val  RMSE_val  Loss_val  RegLoss_val  epoch       MAE      RMSE  \\\n",
       "9  1.738965  1.914405  3.240165          0.0      9  0.910546  1.164936   \n",
       "\n",
       "       Loss  RegLoss  \n",
       "9  1.288828      0.0  "
      ]
     },
     "execution_count": 9,
     "metadata": {},
     "output_type": "execute_result"
    }
   ],
   "source": [
    "metrics.tail(1)"
   ]
  },
  {
   "cell_type": "code",
   "execution_count": 10,
   "metadata": {},
   "outputs": [
    {
     "name": "stderr",
     "output_type": "stream",
     "text": [
      "INFO - (NP.df_utils._infer_frequency) - Major frequency H corresponds to 99.932% of the data.\n",
      "INFO - (NP.df_utils._infer_frequency) - Defined frequency is equal to major frequency - H\n",
      "INFO - (NP.df_utils._infer_frequency) - Major frequency H corresponds to 99.932% of the data.\n",
      "INFO - (NP.df_utils._infer_frequency) - Defined frequency is equal to major frequency - H\n"
     ]
    },
    {
     "name": "stderr",
     "output_type": "stream",
     "text": [
      "INFO - (NP.df_utils._infer_frequency) - Major frequency H corresponds to 99.932% of the data.\n",
      "INFO - (NP.df_utils._infer_frequency) - Defined frequency is equal to major frequency - H\n",
      "INFO - (NP.data.processing._handle_missing_data) - Dropped 5 rows at the end with NaNs in 'y' column.\n",
      "INFO - (NP.df_utils._infer_frequency) - Major frequency H corresponds to 99.932% of the data.\n",
      "INFO - (NP.df_utils._infer_frequency) - Defined frequency is equal to major frequency - H\n",
      "INFO - (NP.data.processing._handle_missing_data) - Dropped 5 rows at the end with NaNs in 'y' column.\n"
     ]
    },
    {
     "data": {
      "application/vnd.jupyter.widget-view+json": {
       "model_id": "78600faef98442c3bcae260cf6a78232",
       "version_major": 2,
       "version_minor": 0
      },
      "text/plain": [
       "Predicting: 22it [00:00, ?it/s]"
      ]
     },
     "metadata": {},
     "output_type": "display_data"
    },
    {
     "data": {
      "application/vnd.jupyter.widget-view+json": {
       "model_id": "a621592c80404313838c8ae9250a41c3",
       "version_major": 2,
       "version_minor": 0
      },
      "text/plain": [
       "Predicting: 22it [00:00, ?it/s]"
      ]
     },
     "metadata": {},
     "output_type": "display_data"
    }
   ],
   "source": [
    "forecast = m.predict(df)"
   ]
  },
  {
   "cell_type": "code",
   "execution_count": 13,
   "metadata": {},
   "outputs": [
    {
     "name": "stderr",
     "output_type": "stream",
     "text": [
      "INFO - (NP.forecaster.plot) - Plotting data from ID test\n"
     ]
    },
    {
     "data": {
      "application/vnd.jupyter.widget-view+json": {
       "model_id": "4d1fc6fc6bca4a459a6484e0f9bec945",
       "version_major": 2,
       "version_minor": 0
      },
      "text/plain": [
       "FigureWidgetResampler({\n",
       "    'data': [{'fillcolor': 'rgba(45, 146, 255, 0.2)',\n",
       "              'line': {'color': 'rgba(45, 146, 255, 0.2)', 'width': 1},\n",
       "              'mode': 'lines',\n",
       "              'name': '<b style=\"color:sandybrown\">[R]</b> yhat5 1.0% <i style=\"color:#fc9944\">~1h</i>',\n",
       "              'type': 'scatter',\n",
       "              'uid': 'aebc484d-c130-47bd-8870-268071f0b3d5',\n",
       "              'x': array([datetime.datetime(2015, 1, 2, 13, 0),\n",
       "                          datetime.datetime(2015, 1, 2, 14, 0),\n",
       "                          datetime.datetime(2015, 1, 2, 15, 0), ...,\n",
       "                          datetime.datetime(2015, 3, 2, 17, 0),\n",
       "                          datetime.datetime(2015, 3, 2, 18, 0),\n",
       "                          datetime.datetime(2015, 3, 2, 20, 0)], dtype=object),\n",
       "              'y': array([62.35801 , 58.90128 , 49.21923 , ..., 50.683945, 56.553596, 58.41175 ],\n",
       "                         dtype=float32)},\n",
       "             {'fill': 'tonexty',\n",
       "              'fillcolor': 'rgba(45, 146, 255, 0.2)',\n",
       "              'line': {'color': 'rgba(45, 146, 255, 0.2)', 'width': 1},\n",
       "              'mode': 'lines',\n",
       "              'name': '<b style=\"color:sandybrown\">[R]</b> yhat5 99.0% <i style=\"color:#fc9944\">~1h</i>',\n",
       "              'type': 'scatter',\n",
       "              'uid': 'c62aca2a-cbb9-4e43-915f-156387e57092',\n",
       "              'x': array([datetime.datetime(2015, 1, 2, 13, 0),\n",
       "                          datetime.datetime(2015, 1, 2, 14, 0),\n",
       "                          datetime.datetime(2015, 1, 2, 15, 0), ...,\n",
       "                          datetime.datetime(2015, 3, 2, 17, 0),\n",
       "                          datetime.datetime(2015, 3, 2, 19, 0),\n",
       "                          datetime.datetime(2015, 3, 2, 20, 0)], dtype=object),\n",
       "              'y': array([80.960884, 76.19124 , 64.98064 , ..., 55.83882 , 67.100685, 64.74074 ],\n",
       "                         dtype=float32)},\n",
       "             {'line': {'color': '#2d92ff', 'width': 2},\n",
       "              'mode': 'lines',\n",
       "              'name': '<b style=\"color:sandybrown\">[R]</b> Predicted <i style=\"color:#fc9944\">~1h</i>',\n",
       "              'type': 'scatter',\n",
       "              'uid': 'aeae0371-af61-428b-bac3-3d7c9675a881',\n",
       "              'x': array([datetime.datetime(2015, 1, 2, 13, 0),\n",
       "                          datetime.datetime(2015, 1, 2, 14, 0),\n",
       "                          datetime.datetime(2015, 1, 2, 15, 0), ...,\n",
       "                          datetime.datetime(2015, 3, 2, 17, 0),\n",
       "                          datetime.datetime(2015, 3, 2, 18, 0),\n",
       "                          datetime.datetime(2015, 3, 2, 20, 0)], dtype=object),\n",
       "              'y': array([62.35801 , 58.90128 , 49.21923 , ..., 50.683945, 56.553596, 58.41175 ],\n",
       "                         dtype=float32)},\n",
       "             {'marker': {'color': 'blue', 'size': 4, 'symbol': 'x'},\n",
       "              'mode': 'markers',\n",
       "              'name': '<b style=\"color:sandybrown\">[R]</b> Predicted <i style=\"color:#fc9944\">~1h</i>',\n",
       "              'type': 'scatter',\n",
       "              'uid': 'fdc61ccb-a79c-4487-bdf9-b9be5d0159d8',\n",
       "              'x': array([datetime.datetime(2015, 1, 2, 13, 0),\n",
       "                          datetime.datetime(2015, 1, 2, 14, 0),\n",
       "                          datetime.datetime(2015, 1, 2, 15, 0), ...,\n",
       "                          datetime.datetime(2015, 3, 2, 17, 0),\n",
       "                          datetime.datetime(2015, 3, 2, 18, 0),\n",
       "                          datetime.datetime(2015, 3, 2, 20, 0)], dtype=object),\n",
       "              'y': array([62.35801 , 58.90128 , 49.21923 , ..., 50.683945, 56.553596, 58.41175 ],\n",
       "                         dtype=float32)},\n",
       "             {'marker': {'color': 'black', 'size': 4},\n",
       "              'mode': 'markers',\n",
       "              'name': '<b style=\"color:sandybrown\">[R]</b> Actual <i style=\"color:#fc9944\">~1h</i>',\n",
       "              'type': 'scatter',\n",
       "              'uid': 'f3b8bafe-c1a6-4a00-b6d8-94ad845ee178',\n",
       "              'x': array([datetime.datetime(2015, 1, 1, 0, 0),\n",
       "                          datetime.datetime(2015, 1, 1, 1, 0),\n",
       "                          datetime.datetime(2015, 1, 1, 2, 0), ...,\n",
       "                          datetime.datetime(2015, 3, 2, 17, 0),\n",
       "                          datetime.datetime(2015, 3, 2, 18, 0),\n",
       "                          datetime.datetime(2015, 3, 2, 20, 0)], dtype=object),\n",
       "              'y': array([64.92, 58.46, 63.35, ..., 68.61, 60.22, 60.32])}],\n",
       "    'layout': {'autosize': True,\n",
       "               'font': {'size': 10},\n",
       "               'height': 420,\n",
       "               'hovermode': 'x unified',\n",
       "               'margin': {'b': 0, 'l': 0, 'pad': 0, 'r': 10, 't': 10},\n",
       "               'showlegend': True,\n",
       "               'template': '...',\n",
       "               'title': {'font': {'size': 12}},\n",
       "               'width': 700,\n",
       "               'xaxis': {'linewidth': 1.5,\n",
       "                         'mirror': True,\n",
       "                         'rangeselector': {'buttons': [{'count': 7, 'label': '1w', 'step': 'day', 'stepmode': 'backward'},\n",
       "                                                       {'count': 1,\n",
       "                                                        'label': '1m',\n",
       "                                                        'step': 'month',\n",
       "                                                        'stepmode': 'backward'},\n",
       "                                                       {'count': 6,\n",
       "                                                        'label': '6m',\n",
       "                                                        'step': 'month',\n",
       "                                                        'stepmode': 'backward'},\n",
       "                                                       {'count': 1, 'label': '1y', 'step': 'year', 'stepmode': 'backward'},\n",
       "                                                       {'step': 'all'}]},\n",
       "                         'rangeslider': {'visible': True},\n",
       "                         'showline': True,\n",
       "                         'title': {'text': 'ds'},\n",
       "                         'type': 'date'},\n",
       "               'yaxis': {'linewidth': 1.5, 'mirror': True, 'showline': True, 'title': {'text': 'y'}}}\n",
       "})"
      ]
     },
     "execution_count": 13,
     "metadata": {},
     "output_type": "execute_result"
    }
   ],
   "source": [
    "m.highlight_nth_step_ahead_of_each_forecast(m.n_forecasts)\n",
    "m.plot(forecast, df_name=\"test\")"
   ]
  },
  {
   "cell_type": "code",
   "execution_count": 15,
   "metadata": {},
   "outputs": [
    {
     "name": "stderr",
     "output_type": "stream",
     "text": [
      "INFO - (NP.forecaster.plot_components) - Plotting data from ID test\n"
     ]
    },
    {
     "data": {
      "application/vnd.jupyter.widget-view+json": {
       "model_id": "0851c9188ffb4c94bc7948103985aee2",
       "version_major": 2,
       "version_minor": 0
      },
      "text/plain": [
       "FigureWidgetResampler({\n",
       "    'data': [{'line': {'color': '#2d92ff', 'width': 2},\n",
       "              'mode': 'lines',\n",
       "              'name': '<b style=\"color:sandybrown\">[R]</b> Trend <i style=\"color:#fc9944\">~1h</i>',\n",
       "              'showlegend': False,\n",
       "              'type': 'scatter',\n",
       "              'uid': 'a971f8c1-1e2e-428f-bbae-b1e366f40f84',\n",
       "              'x': array([datetime.datetime(2015, 1, 2, 9, 0),\n",
       "                          datetime.datetime(2015, 1, 2, 10, 0),\n",
       "                          datetime.datetime(2015, 1, 2, 11, 0), ...,\n",
       "                          datetime.datetime(2015, 3, 2, 17, 0),\n",
       "                          datetime.datetime(2015, 3, 2, 19, 0),\n",
       "                          datetime.datetime(2015, 3, 2, 20, 0)], dtype=object),\n",
       "              'xaxis': 'x',\n",
       "              'y': array([41.138184, 41.136326, 41.134468, ..., 38.49218 , 38.488464, 38.486603],\n",
       "                         dtype=float32),\n",
       "              'yaxis': 'y'},\n",
       "             {'line': {'color': '#2d92ff', 'width': 2},\n",
       "              'mode': 'lines',\n",
       "              'name': ('<b style=\"color:sandybrown\">[R' ... ' style=\"color:#fc9944\">~1h</i>'),\n",
       "              'showlegend': False,\n",
       "              'type': 'scatter',\n",
       "              'uid': '896ec7a5-4db3-4572-9615-c92ff0a440c2',\n",
       "              'x': array([datetime.datetime(2015, 1, 2, 9, 0),\n",
       "                          datetime.datetime(2015, 1, 2, 10, 0),\n",
       "                          datetime.datetime(2015, 1, 2, 11, 0), ...,\n",
       "                          datetime.datetime(2015, 3, 2, 17, 0),\n",
       "                          datetime.datetime(2015, 3, 2, 19, 0),\n",
       "                          datetime.datetime(2015, 3, 2, 20, 0)], dtype=object),\n",
       "              'xaxis': 'x2',\n",
       "              'y': array([7.7610316, 7.77278  , 7.782315 , ..., 8.327494 , 8.318201 , 8.315492 ],\n",
       "                         dtype=float32),\n",
       "              'yaxis': 'y2'},\n",
       "             {'line': {'color': '#2d92ff', 'width': 2},\n",
       "              'mode': 'lines',\n",
       "              'name': ('<b style=\"color:sandybrown\">[R' ... ' style=\"color:#fc9944\">~1h</i>'),\n",
       "              'showlegend': False,\n",
       "              'type': 'scatter',\n",
       "              'uid': '4e7558c0-22c3-42b6-b38b-64828e95911f',\n",
       "              'x': array([datetime.datetime(2015, 1, 2, 9, 0),\n",
       "                          datetime.datetime(2015, 1, 2, 10, 0),\n",
       "                          datetime.datetime(2015, 1, 2, 11, 0), ...,\n",
       "                          datetime.datetime(2015, 3, 2, 17, 0),\n",
       "                          datetime.datetime(2015, 3, 2, 19, 0),\n",
       "                          datetime.datetime(2015, 3, 2, 20, 0)], dtype=object),\n",
       "              'xaxis': 'x3',\n",
       "              'y': array([ 0.36878857,  0.30485797,  0.2463306 , ..., -0.56539005,  0.4600458 ,\n",
       "                           0.93207777], dtype=float32),\n",
       "              'yaxis': 'y3'},\n",
       "             {'line': {'color': '#2d92ff', 'width': 2},\n",
       "              'mode': 'lines',\n",
       "              'name': ('<b style=\"color:sandybrown\">[R' ... ' style=\"color:#fc9944\">~1h</i>'),\n",
       "              'showlegend': False,\n",
       "              'type': 'scatter',\n",
       "              'uid': '421f3dfd-0361-48bd-b035-27b85837e7d1',\n",
       "              'x': array([datetime.datetime(2015, 1, 2, 9, 0),\n",
       "                          datetime.datetime(2015, 1, 2, 10, 0),\n",
       "                          datetime.datetime(2015, 1, 2, 11, 0), ...,\n",
       "                          datetime.datetime(2015, 3, 2, 17, 0),\n",
       "                          datetime.datetime(2015, 3, 2, 18, 0),\n",
       "                          datetime.datetime(2015, 3, 2, 20, 0)], dtype=object),\n",
       "              'xaxis': 'x4',\n",
       "              'y': array([ 6.8369484 ,  8.779529  , -0.55572075, ...,  0.        ,  0.        ,\n",
       "                           0.        ], dtype=float32),\n",
       "              'yaxis': 'y4'},\n",
       "             {'line': {'color': '#2d92ff', 'width': 2},\n",
       "              'mode': 'lines',\n",
       "              'name': ('<b style=\"color:sandybrown\">[R' ... ' style=\"color:#fc9944\">~1h</i>'),\n",
       "              'showlegend': False,\n",
       "              'type': 'scatter',\n",
       "              'uid': '34dff3a4-3054-4a91-b79e-f965aa8d3284',\n",
       "              'x': array([datetime.datetime(2015, 1, 2, 9, 0),\n",
       "                          datetime.datetime(2015, 1, 2, 10, 0),\n",
       "                          datetime.datetime(2015, 1, 2, 11, 0), ...,\n",
       "                          datetime.datetime(2015, 3, 2, 17, 0),\n",
       "                          datetime.datetime(2015, 3, 2, 18, 0),\n",
       "                          datetime.datetime(2015, 3, 2, 20, 0)], dtype=object),\n",
       "              'xaxis': 'x5',\n",
       "              'y': array([0.       , 0.       , 0.       , ..., 2.5935924, 7.5037613, 4.810857 ],\n",
       "                         dtype=float32),\n",
       "              'yaxis': 'y5'},\n",
       "             {'line': {'color': '#2d92ff', 'width': 2},\n",
       "              'mode': 'lines',\n",
       "              'name': ('<b style=\"color:sandybrown\">[R' ... ' style=\"color:#fc9944\">~1h</i>'),\n",
       "              'showlegend': False,\n",
       "              'type': 'scatter',\n",
       "              'uid': 'cd6c048f-2b7f-47c5-8f34-50aed056ee0b',\n",
       "              'x': array([datetime.datetime(2015, 1, 2, 13, 0),\n",
       "                          datetime.datetime(2015, 1, 2, 14, 0),\n",
       "                          datetime.datetime(2015, 1, 2, 15, 0), ...,\n",
       "                          datetime.datetime(2015, 3, 2, 17, 0),\n",
       "                          datetime.datetime(2015, 3, 2, 18, 0),\n",
       "                          datetime.datetime(2015, 3, 2, 20, 0)], dtype=object),\n",
       "              'xaxis': 'x6',\n",
       "              'y': array([14.265438  ,  6.3923936 , -0.08357577, ...,  0.        ,  0.4089267 ,\n",
       "                           4.4793005 ], dtype=float32),\n",
       "              'yaxis': 'y6'},\n",
       "             {'line': {'color': '#2d92ff', 'width': 2},\n",
       "              'mode': 'lines',\n",
       "              'name': ('<b style=\"color:sandybrown\">[R' ... ' style=\"color:#fc9944\">~1h</i>'),\n",
       "              'showlegend': False,\n",
       "              'type': 'scatter',\n",
       "              'uid': '61f91c94-2944-4efb-9907-709ee2fb6c77',\n",
       "              'x': array([datetime.datetime(2015, 1, 2, 13, 0),\n",
       "                          datetime.datetime(2015, 1, 2, 14, 0),\n",
       "                          datetime.datetime(2015, 1, 2, 15, 0), ...,\n",
       "                          datetime.datetime(2015, 3, 2, 17, 0),\n",
       "                          datetime.datetime(2015, 3, 2, 18, 0),\n",
       "                          datetime.datetime(2015, 3, 2, 20, 0)], dtype=object),\n",
       "              'xaxis': 'x7',\n",
       "              'y': array([1.765334 , 3.7883697, 4.1204934, ..., 1.8360679, 1.8920995, 0.       ],\n",
       "                         dtype=float32),\n",
       "              'yaxis': 'y7'},\n",
       "             {'line': {'color': '#2d92ff', 'width': 2},\n",
       "              'mode': 'lines',\n",
       "              'name': ('<b style=\"color:sandybrown\">[R' ... ' style=\"color:#fc9944\">~1h</i>'),\n",
       "              'showlegend': False,\n",
       "              'type': 'scatter',\n",
       "              'uid': '885dd23f-b889-4004-9dcf-70c1ca00a53d',\n",
       "              'x': array([datetime.datetime(2015, 1, 2, 9, 0),\n",
       "                          datetime.datetime(2015, 1, 2, 10, 0),\n",
       "                          datetime.datetime(2015, 1, 2, 11, 0), ...,\n",
       "                          datetime.datetime(2015, 3, 2, 17, 0),\n",
       "                          datetime.datetime(2015, 3, 2, 18, 0),\n",
       "                          datetime.datetime(2015, 3, 2, 20, 0)], dtype=object),\n",
       "              'xaxis': 'x8',\n",
       "              'y': array([0., 0., 0., ..., 0., 0., 0.], dtype=float32),\n",
       "              'yaxis': 'y8'},\n",
       "             {'fill': 'tozeroy',\n",
       "              'fillcolor': 'rgba(45, 146, 255, 0.2)',\n",
       "              'line': {'color': 'rgba(45, 146, 255, 0.2)', 'width': 1},\n",
       "              'mode': 'lines',\n",
       "              'name': '<b style=\"color:sandybrown\">[R]</b> yhat5 1.0% <i style=\"color:#fc9944\">~1h</i>',\n",
       "              'showlegend': True,\n",
       "              'type': 'scatter',\n",
       "              'uid': 'b180a45d-ef7d-43be-9180-b0d60ffffff7',\n",
       "              'x': array([datetime.datetime(2015, 1, 2, 13, 0),\n",
       "                          datetime.datetime(2015, 1, 2, 14, 0),\n",
       "                          datetime.datetime(2015, 1, 2, 15, 0), ...,\n",
       "                          datetime.datetime(2015, 3, 2, 17, 0),\n",
       "                          datetime.datetime(2015, 3, 2, 19, 0),\n",
       "                          datetime.datetime(2015, 3, 2, 20, 0)], dtype=object),\n",
       "              'xaxis': 'x9',\n",
       "              'y': array([ 37.975266 ,  31.622068 ,  -3.693409 , ..., -14.12719  ,  -2.9433403,\n",
       "                           -0.9949646], dtype=float32),\n",
       "              'yaxis': 'y9'},\n",
       "             {'fill': 'tozeroy',\n",
       "              'fillcolor': 'rgba(45, 146, 255, 0.2)',\n",
       "              'line': {'color': 'rgba(45, 146, 255, 0.2)', 'width': 1},\n",
       "              'mode': 'lines',\n",
       "              'name': '<b style=\"color:sandybrown\">[R]</b> yhat5 99.0% <i style=\"color:#fc9944\">~1h</i>',\n",
       "              'showlegend': True,\n",
       "              'type': 'scatter',\n",
       "              'uid': '94ed8664-debf-4a84-b7bf-74bc18ea9a66',\n",
       "              'x': array([datetime.datetime(2015, 1, 2, 13, 0),\n",
       "                          datetime.datetime(2015, 1, 2, 14, 0),\n",
       "                          datetime.datetime(2015, 1, 2, 15, 0), ...,\n",
       "                          datetime.datetime(2015, 3, 2, 17, 0),\n",
       "                          datetime.datetime(2015, 3, 2, 19, 0),\n",
       "                          datetime.datetime(2015, 3, 2, 20, 0)], dtype=object),\n",
       "              'xaxis': 'x9',\n",
       "              'y': array([56.57814  , 48.912025 , 12.067997 , ..., -8.972313 ,  5.452839 ,\n",
       "                           5.3340225], dtype=float32),\n",
       "              'yaxis': 'y9'}],\n",
       "    'layout': {'autosize': True,\n",
       "               'barmode': 'overlay',\n",
       "               'font': {'size': 10},\n",
       "               'height': 1890,\n",
       "               'hovermode': 'x unified',\n",
       "               'legend': {'traceorder': 'reversed', 'y': 0.1},\n",
       "               'margin': {'b': 0, 'l': 0, 'pad': 0, 'r': 10, 't': 10},\n",
       "               'template': '...',\n",
       "               'title': {'font': {'size': 12}},\n",
       "               'width': 700,\n",
       "               'xaxis': {'anchor': 'y',\n",
       "                         'domain': [0.0, 1.0],\n",
       "                         'linewidth': 1.5,\n",
       "                         'mirror': True,\n",
       "                         'range': [2014-12-30 10:00:00, 2015-03-05 19:00:00],\n",
       "                         'showline': True,\n",
       "                         'title': {'text': 'ds'},\n",
       "                         'type': 'date'},\n",
       "               'xaxis2': {'anchor': 'y2',\n",
       "                          'domain': [0.0, 1.0],\n",
       "                          'linewidth': 1.5,\n",
       "                          'mirror': True,\n",
       "                          'range': [2014-12-30 10:00:00, 2015-03-05 19:00:00],\n",
       "                          'showline': True,\n",
       "                          'title': {'text': 'ds'},\n",
       "                          'type': 'date'},\n",
       "               'xaxis3': {'anchor': 'y3',\n",
       "                          'domain': [0.0, 1.0],\n",
       "                          'linewidth': 1.5,\n",
       "                          'mirror': True,\n",
       "                          'range': [2014-12-30 10:00:00, 2015-03-05 19:00:00],\n",
       "                          'showline': True,\n",
       "                          'title': {'text': 'ds'},\n",
       "                          'type': 'date'},\n",
       "               'xaxis4': {'anchor': 'y4',\n",
       "                          'domain': [0.0, 1.0],\n",
       "                          'linewidth': 1.5,\n",
       "                          'mirror': True,\n",
       "                          'range': [2014-12-30 10:00:00, 2015-03-05 19:00:00],\n",
       "                          'showline': True,\n",
       "                          'title': {'text': 'ds'},\n",
       "                          'type': 'date'},\n",
       "               'xaxis5': {'anchor': 'y5',\n",
       "                          'domain': [0.0, 1.0],\n",
       "                          'linewidth': 1.5,\n",
       "                          'mirror': True,\n",
       "                          'range': [2014-12-30 10:00:00, 2015-03-05 19:00:00],\n",
       "                          'showline': True,\n",
       "                          'title': {'text': 'ds'},\n",
       "                          'type': 'date'},\n",
       "               'xaxis6': {'anchor': 'y6',\n",
       "                          'domain': [0.0, 1.0],\n",
       "                          'linewidth': 1.5,\n",
       "                          'mirror': True,\n",
       "                          'range': [2014-12-30 14:00:00, 2015-03-05 19:00:00],\n",
       "                          'showline': True,\n",
       "                          'title': {'text': 'ds'},\n",
       "                          'type': 'date'},\n",
       "               'xaxis7': {'anchor': 'y7',\n",
       "                          'domain': [0.0, 1.0],\n",
       "                          'linewidth': 1.5,\n",
       "                          'mirror': True,\n",
       "                          'range': [2014-12-30 14:00:00, 2015-03-05 19:00:00],\n",
       "                          'showline': True,\n",
       "                          'title': {'text': 'ds'},\n",
       "                          'type': 'date'},\n",
       "               'xaxis8': {'anchor': 'y8',\n",
       "                          'domain': [0.0, 1.0],\n",
       "                          'linewidth': 1.5,\n",
       "                          'mirror': True,\n",
       "                          'range': [2014-12-30 10:00:00, 2015-03-05 19:00:00],\n",
       "                          'showline': True,\n",
       "                          'title': {'text': 'ds'},\n",
       "                          'type': 'date'},\n",
       "               'xaxis9': {'anchor': 'y9',\n",
       "                          'domain': [0.0, 1.0],\n",
       "                          'linewidth': 1.5,\n",
       "                          'mirror': True,\n",
       "                          'range': [2014-12-30 14:00:00, 2015-03-05 19:00:00],\n",
       "                          'showline': True,\n",
       "                          'title': {'text': 'ds'},\n",
       "                          'type': 'date'},\n",
       "               'yaxis': {'anchor': 'x',\n",
       "                         'domain': [0.9185185185185185, 1.0],\n",
       "                         'linewidth': 1.5,\n",
       "                         'mirror': True,\n",
       "                         'rangemode': 'normal',\n",
       "                         'showline': True,\n",
       "                         'title': {'text': 'Trend'}},\n",
       "               'yaxis2': {'anchor': 'x2',\n",
       "                          'domain': [0.8037037037037038, 0.8851851851851853],\n",
       "                          'linewidth': 1.5,\n",
       "                          'mirror': True,\n",
       "                          'rangemode': 'tozero',\n",
       "                          'showline': True,\n",
       "                          'title': {'text': 'yearly seasonality'}},\n",
       "               'yaxis3': {'anchor': 'x3',\n",
       "                          'domain': [0.6888888888888889, 0.7703703703703704],\n",
       "                          'linewidth': 1.5,\n",
       "                          'mirror': True,\n",
       "                          'rangemode': 'tozero',\n",
       "                          'showline': True,\n",
       "                          'title': {'text': 'weekly seasonality'}},\n",
       "               'yaxis4': {'anchor': 'x4',\n",
       "                          'domain': [0.5740740740740741, 0.6555555555555556],\n",
       "                          'linewidth': 1.5,\n",
       "                          'mirror': True,\n",
       "                          'rangemode': 'tozero',\n",
       "                          'showline': True,\n",
       "                          'title': {'text': 'winter seasonality'}},\n",
       "               'yaxis5': {'anchor': 'x5',\n",
       "                          'domain': [0.45925925925925926, 0.5407407407407407],\n",
       "                          'linewidth': 1.5,\n",
       "                          'mirror': True,\n",
       "                          'rangemode': 'tozero',\n",
       "                          'showline': True,\n",
       "                          'title': {'text': 'summer seasonality'}},\n",
       "               'yaxis6': {'anchor': 'x6',\n",
       "                          'domain': [0.34444444444444444, 0.42592592592592593],\n",
       "                          'linewidth': 1.5,\n",
       "                          'mirror': True,\n",
       "                          'rangemode': 'tozero',\n",
       "                          'showline': True,\n",
       "                          'title': {'text': 'AR (5)-ahead'}},\n",
       "               'yaxis7': {'anchor': 'x7',\n",
       "                          'domain': [0.22962962962962963, 0.3111111111111111],\n",
       "                          'linewidth': 1.5,\n",
       "                          'mirror': True,\n",
       "                          'rangemode': 'tozero',\n",
       "                          'showline': True,\n",
       "                          'title': {'text': 'Lagged Regressor \"temp\" (5)-ahead'}},\n",
       "               'yaxis8': {'anchor': 'x8',\n",
       "                          'domain': [0.11481481481481481, 0.1962962962962963],\n",
       "                          'linewidth': 1.5,\n",
       "                          'mirror': True,\n",
       "                          'rangemode': 'tozero',\n",
       "                          'showline': True,\n",
       "                          'title': {'text': 'Additive Events'}},\n",
       "               'yaxis9': {'anchor': 'x9',\n",
       "                          'domain': [0.0, 0.08148148148148149],\n",
       "                          'linewidth': 1.5,\n",
       "                          'mirror': True,\n",
       "                          'rangemode': 'tozero',\n",
       "                          'showline': True,\n",
       "                          'title': {'text': 'Uncertainty'}}}\n",
       "})"
      ]
     },
     "execution_count": 15,
     "metadata": {},
     "output_type": "execute_result"
    }
   ],
   "source": [
    "m.plot_components(forecast, df_name=\"test\")"
   ]
  },
  {
   "cell_type": "code",
   "execution_count": 16,
   "metadata": {},
   "outputs": [
    {
     "data": {
      "application/vnd.jupyter.widget-view+json": {
       "model_id": "653b60479a0244c394b8e68cea26b341",
       "version_major": 2,
       "version_minor": 0
      },
      "text/plain": [
       "FigureWidgetResampler({\n",
       "    'data': [{'fill': 'none',\n",
       "              'line': {'color': '#2d92ff', 'width': 2},\n",
       "              'mode': 'lines',\n",
       "              'name': 'Trend',\n",
       "              'type': 'scatter',\n",
       "              'uid': 'f6f21f4d-8199-49f7-a49a-9951dd269bd9',\n",
       "              'x': array([datetime.datetime(2015, 1, 1, 0, 0),\n",
       "                          datetime.datetime(2015, 2, 28, 23, 0)], dtype=object),\n",
       "              'xaxis': 'x',\n",
       "              'y': array([41.1995 , 38.57022], dtype=float32),\n",
       "              'yaxis': 'y'},\n",
       "             {'fill': 'none',\n",
       "              'line': {'color': '#2d92ff', 'width': 2},\n",
       "              'mode': 'lines',\n",
       "              'name': 'yearly',\n",
       "              'type': 'scatter',\n",
       "              'uid': 'f0adc090-2190-4a3b-9c9b-97c8cede02e2',\n",
       "              'x': array([datetime.datetime(2017, 1, 1, 0, 0),\n",
       "                          datetime.datetime(2017, 1, 2, 0, 0),\n",
       "                          datetime.datetime(2017, 1, 3, 0, 0), ...,\n",
       "                          datetime.datetime(2017, 12, 29, 0, 0),\n",
       "                          datetime.datetime(2017, 12, 30, 0, 0),\n",
       "                          datetime.datetime(2017, 12, 31, 0, 0)], dtype=object),\n",
       "              'xaxis': 'x2',\n",
       "              'y': array([4.0829487 , 5.187225  , 6.208157  , ..., 0.19168049, 1.4080983 ,\n",
       "                          2.6177309 ], dtype=float32),\n",
       "              'yaxis': 'y2'},\n",
       "             {'fill': 'none',\n",
       "              'line': {'color': '#2d92ff', 'width': 2},\n",
       "              'mode': 'lines',\n",
       "              'name': 'weekly',\n",
       "              'type': 'scatter',\n",
       "              'uid': '17c4c727-ac96-43b0-8e36-acc3caab9c2d',\n",
       "              'x': array([  0,   1,   2,   3,   4,   5,   6,   7,   8,   9,  10,  11,  12,  13,\n",
       "                           14,  15,  16,  17,  18,  19,  20,  21,  22,  23,  24,  25,  26,  27,\n",
       "                           28,  29,  30,  31,  32,  33,  34,  35,  36,  37,  38,  39,  40,  41,\n",
       "                           42,  43,  44,  45,  46,  47,  48,  49,  50,  51,  52,  53,  54,  55,\n",
       "                           56,  57,  58,  59,  60,  61,  62,  63,  64,  65,  66,  67,  68,  69,\n",
       "                           70,  71,  72,  73,  74,  75,  76,  77,  78,  79,  80,  81,  82,  83,\n",
       "                           84,  85,  86,  87,  88,  89,  90,  91,  92,  93,  94,  95,  96,  97,\n",
       "                           98,  99, 100, 101, 102, 103, 104, 105, 106, 107, 108, 109, 110, 111,\n",
       "                          112, 113, 114, 115, 116, 117, 118, 119, 120, 121, 122, 123, 124, 125,\n",
       "                          126, 127, 128, 129, 130, 131, 132, 133, 134, 135, 136, 137, 138, 139,\n",
       "                          140, 141, 142, 143, 144, 145, 146, 147, 148, 149, 150, 151, 152, 153,\n",
       "                          154, 155, 156, 157, 158, 159, 160, 161, 162, 163, 164, 165, 166, 167]),\n",
       "              'xaxis': 'x3',\n",
       "              'y': array([-4.4598384 , -4.2069    , -3.939087  , -3.623846  , -3.2824173 ,\n",
       "                          -2.955236  , -2.6178632 , -2.2747667 , -1.9053857 , -1.5644891 ,\n",
       "                          -1.2317951 , -0.9106357 , -0.58533347, -0.28182796, -0.02269452,\n",
       "                           0.21292625,  0.42130318,  0.6071059 ,  0.7497983 ,  0.8622262 ,\n",
       "                           0.9443581 ,  0.99504983,  1.0032893 ,  0.9738326 ,  0.9262827 ,\n",
       "                           0.85167503,  0.74685544,  0.6115421 ,  0.4558556 ,  0.2885901 ,\n",
       "                           0.11641604, -0.07034495, -0.27396792, -0.47582942, -0.66030794,\n",
       "                          -0.8382371 , -1.0191802 , -1.1867032 , -1.3330028 , -1.4465324 ,\n",
       "                          -1.5369219 , -1.6096568 , -1.6520382 , -1.6572822 , -1.6354212 ,\n",
       "                          -1.5726112 , -1.4764075 , -1.3572443 , -1.2015358 , -1.011647  ,\n",
       "                          -0.80462766, -0.5479135 , -0.2638637 ,  0.02303137,  0.33831146,\n",
       "                           0.64510536,  0.9981383 ,  1.3464724 ,  1.6830701 ,  2.0331054 ,\n",
       "                           2.3555207 ,  2.69649   ,  3.008644  ,  3.2858677 ,  3.5552442 ,\n",
       "                           3.7721593 ,  3.9756846 ,  4.1423197 ,  4.264748  ,  4.3529058 ,\n",
       "                           4.389515  ,  4.3708434 ,  4.3175454 ,  4.2146673 ,  4.072025  ,\n",
       "                           3.8747027 ,  3.6363995 ,  3.340743  ,  3.0221694 ,  2.664729  ,\n",
       "                           2.2731943 ,  1.8473105 ,  1.4062825 ,  0.9366955 ,  0.42765933,\n",
       "                          -0.07621501, -0.56814903, -1.059046  , -1.5562105 , -2.0614126 ,\n",
       "                          -2.5020652 , -2.9485521 , -3.352801  , -3.7507663 , -4.1075444 ,\n",
       "                          -4.387843  , -4.6441846 , -4.8436375 , -4.9982753 , -5.098551  ,\n",
       "                          -5.1361027 , -5.115603  , -5.042491  , -4.910203  , -4.7105756 ,\n",
       "                          -4.472313  , -4.1741037 , -3.8366807 , -3.4286702 , -2.970053  ,\n",
       "                          -2.5127845 , -2.0011377 , -1.4785788 , -0.89798415, -0.33239934,\n",
       "                           0.24315366,  0.8609969 ,  1.4341363 ,  2.0365245 ,  2.5912929 ,\n",
       "                           3.1261334 ,  3.631675  ,  4.12216   ,  4.5922604 ,  4.9916644 ,\n",
       "                           5.357276  ,  5.6596603 ,  5.918557  ,  6.127722  ,  6.2664776 ,\n",
       "                           6.3465624 ,  6.3701463 ,  6.3298607 ,  6.2247863 ,  6.0684857 ,\n",
       "                           5.8579984 ,  5.5947313 ,  5.2599936 ,  4.8867702 ,  4.4837136 ,\n",
       "                           4.040872  ,  3.5451972 ,  3.0077634 ,  2.463368  ,  1.9197478 ,\n",
       "                           1.3607975 ,  0.7956455 ,  0.19293702, -0.40335596, -0.9517328 ,\n",
       "                          -1.4785621 , -1.9893605 , -2.4982615 , -2.9505756 , -3.3692324 ,\n",
       "                          -3.7429237 , -4.1006875 , -4.402756  , -4.6468496 , -4.8368144 ,\n",
       "                          -4.987736  , -5.0905485 , -5.1344304 , -5.1309776 , -5.0739946 ,\n",
       "                          -4.993806  , -4.8492026 , -4.6650367 ], dtype=float32),\n",
       "              'yaxis': 'y3'},\n",
       "             {'fill': 'none',\n",
       "              'line': {'color': '#2d92ff', 'width': 2},\n",
       "              'mode': 'lines',\n",
       "              'name': 'winter',\n",
       "              'type': 'scatter',\n",
       "              'uid': '22616063-3eff-4306-a74a-dc4965de0de9',\n",
       "              'x': array([  0,   1,   2, ..., 285, 286, 287]),\n",
       "              'xaxis': 'x4',\n",
       "              'y': array([-4.292418 , -3.5483618, -3.0230176, ..., -5.4796743, -5.2587185,\n",
       "                          -4.8447485], dtype=float32),\n",
       "              'yaxis': 'y4'},\n",
       "             {'fill': 'none',\n",
       "              'line': {'color': '#2d92ff', 'width': 2},\n",
       "              'mode': 'lines',\n",
       "              'name': 'summer',\n",
       "              'type': 'scatter',\n",
       "              'uid': '277a9945-45f4-45ca-91c5-7e8e3f338811',\n",
       "              'x': array([  0,   1,   2, ..., 285, 286, 287]),\n",
       "              'xaxis': 'x5',\n",
       "              'y': array([-1.6798731 , -2.3781397 , -2.901272  , ..., -0.19541107, -0.51879483,\n",
       "                          -1.117872  ], dtype=float32),\n",
       "              'yaxis': 'y5'},\n",
       "             {'marker': {'color': '#2d92ff'},\n",
       "              'name': 'AR',\n",
       "              'type': 'bar',\n",
       "              'uid': 'fa756dff-2aaa-47cc-b16e-9266593c0172',\n",
       "              'width': 0.8,\n",
       "              'x': array([10,  9,  8,  7,  6,  5,  4,  3,  2,  1]),\n",
       "              'xaxis': 'x6',\n",
       "              'y': array([-0.03951903,  0.41645312,  0.02179232, -0.2604984 , -0.06300073,\n",
       "                          -0.06662486, -0.08233377, -0.03597524,  0.08927898, -0.07381544],\n",
       "                         dtype=float32),\n",
       "              'yaxis': 'y6'},\n",
       "             {'marker': {'color': '#2d92ff'},\n",
       "              'name': 'Lagged Regressor \"temp\"',\n",
       "              'type': 'bar',\n",
       "              'uid': '041656ea-aaa1-4e1b-abce-a1e942a626bb',\n",
       "              'width': 0.8,\n",
       "              'x': array([33, 32, 31, 30, 29, 28, 27, 26, 25, 24, 23, 22, 21, 20, 19, 18, 17, 16,\n",
       "                          15, 14, 13, 12, 11, 10,  9,  8,  7,  6,  5,  4,  3,  2,  1]),\n",
       "              'xaxis': 'x7',\n",
       "              'y': array([ 0.20808354,  0.3050754 ,  0.52504927,  0.02816455, -0.2267277 ,\n",
       "                          -0.18377087,  0.34080964,  0.00188361, -0.14284115,  0.06430382,\n",
       "                           0.31131235, -0.09880974,  0.06406495,  0.25881714,  0.08779721,\n",
       "                          -0.18321382,  0.2451885 , -0.23906691, -0.233605  , -0.05307174,\n",
       "                           0.17820123,  0.12141816,  0.0911953 , -0.10566162,  0.07743413,\n",
       "                           0.21802229,  0.35458654,  0.06151056,  0.23792064, -0.12219968,\n",
       "                          -0.2825721 , -0.09865767,  0.25742164], dtype=float32),\n",
       "              'yaxis': 'y7'},\n",
       "             {'marker': {'color': '#2d92ff'},\n",
       "              'name': 'Additive event',\n",
       "              'type': 'bar',\n",
       "              'uid': '849f3240-aaa3-4374-b3fb-c1bd7cc14cfa',\n",
       "              'width': 0.8,\n",
       "              'x': array(['Veterans Day_+0', 'Veterans Day_+1', 'Veterans Day_-1',\n",
       "                          \"Washington's Birthday_+0\", \"Washington's Birthday_+1\",\n",
       "                          \"Washington's Birthday_-1\", 'Christmas Day_+0', 'Christmas Day_+1',\n",
       "                          'Christmas Day_-1', 'Thanksgiving_+0', 'Thanksgiving_+1',\n",
       "                          'Thanksgiving_-1', 'Martin Luther King Jr. Day_+0',\n",
       "                          'Martin Luther King Jr. Day_+1', 'Martin Luther King Jr. Day_-1',\n",
       "                          'Memorial Day_+0', 'Memorial Day_+1', 'Memorial Day_-1',\n",
       "                          \"New Year's Day_+0\", \"New Year's Day_+1\", \"New Year's Day_-1\",\n",
       "                          'Labor Day_+0', 'Labor Day_+1', 'Labor Day_-1', 'Independence Day_+0',\n",
       "                          'Independence Day_+1', 'Independence Day_-1', 'Columbus Day_+0',\n",
       "                          'Columbus Day_+1', 'Columbus Day_-1'], dtype=object),\n",
       "              'xaxis': 'x8',\n",
       "              'y': [1.7690346240997314, -4.356875419616699, -2.5583579540252686,\n",
       "                    3.7520101070404053, 1.3547093868255615, -1.4862573146820068,\n",
       "                    4.024331092834473, -0.7799521684646606, -1.7819913625717163,\n",
       "                    -2.080281972885132, 0.33075717091560364, 4.571771144866943,\n",
       "                    2.3425700664520264, 1.175431251525879, 2.4367449283599854,\n",
       "                    -2.1346323490142822, 3.684549331665039, 0.6624831557273865,\n",
       "                    -2.1663002967834473, -2.142958164215088, 5.068490505218506,\n",
       "                    -0.09585778415203094, 2.920788288116455, 3.8810973167419434,\n",
       "                    0.36290690302848816, -1.381648063659668, 1.097022533416748,\n",
       "                    2.787872552871704, 1.5658684968948364, 1.4216945171356201],\n",
       "              'yaxis': 'y8'}],\n",
       "    'layout': {'autosize': True,\n",
       "               'font': {'size': 10},\n",
       "               'height': 1680,\n",
       "               'hovermode': 'x unified',\n",
       "               'margin': {'b': 0, 'l': 0, 'pad': 0, 'r': 10, 't': 10},\n",
       "               'showlegend': False,\n",
       "               'template': '...',\n",
       "               'title': {'font': {'size': 12}},\n",
       "               'width': 700,\n",
       "               'xaxis': {'anchor': 'y',\n",
       "                         'domain': [0.0, 1.0],\n",
       "                         'linewidth': 1.5,\n",
       "                         'mirror': True,\n",
       "                         'range': [2014-12-29 00:00:00, 2015-03-03 00:00:00],\n",
       "                         'showline': True,\n",
       "                         'title': {'text': 'ds'},\n",
       "                         'type': 'date'},\n",
       "               'xaxis2': {'anchor': 'y2',\n",
       "                          'domain': [0.0, 1.0],\n",
       "                          'linewidth': 1.5,\n",
       "                          'mirror': True,\n",
       "                          'range': [2016-12-14 00:00:00, 2018-01-18 00:00:00],\n",
       "                          'showline': True,\n",
       "                          'tickformat': '%B %e',\n",
       "                          'title': {'text': 'Day of year'}},\n",
       "               'xaxis3': {'anchor': 'y3',\n",
       "                          'domain': [0.0, 1.0],\n",
       "                          'linewidth': 1.5,\n",
       "                          'mirror': True,\n",
       "                          'range': [-8, 175],\n",
       "                          'showline': True,\n",
       "                          'tickmode': 'array',\n",
       "                          'ticktext': [Sunday, Monday, Tuesday, Wednesday,\n",
       "                                       Thursday, Friday, Saturday, Sunday, Sunday],\n",
       "                          'tickvals': [0, 24, 48, 72, 96, 120, 144, 168, 192],\n",
       "                          'title': {'text': 'Day of week'}},\n",
       "               'xaxis4': {'anchor': 'y4',\n",
       "                          'domain': [0.0, 1.0],\n",
       "                          'linewidth': 1.5,\n",
       "                          'mirror': True,\n",
       "                          'range': [-14, 301],\n",
       "                          'showline': True,\n",
       "                          'tickmode': 'array',\n",
       "                          'ticktext': [0, 1, 2, 3, 4, 5, 6, 7, 8, 9, 10, 11, 12,\n",
       "                                       13, 14, 15, 16, 17, 18, 19, 20, 21, 22, 23,\n",
       "                                       24],\n",
       "                          'tickvals': [0, 12, 24, 36, 48, 60, 72, 84, 96, 108,\n",
       "                                       120, 132, 144, 156, 168, 180, 192, 204, 216,\n",
       "                                       228, 240, 252, 264, 276, 288],\n",
       "                          'title': {'text': 'Hour of day'}},\n",
       "               'xaxis5': {'anchor': 'y5',\n",
       "                          'domain': [0.0, 1.0],\n",
       "                          'linewidth': 1.5,\n",
       "                          'mirror': True,\n",
       "                          'range': [-14, 301],\n",
       "                          'showline': True,\n",
       "                          'tickmode': 'array',\n",
       "                          'ticktext': [0, 1, 2, 3, 4, 5, 6, 7, 8, 9, 10, 11, 12,\n",
       "                                       13, 14, 15, 16, 17, 18, 19, 20, 21, 22, 23,\n",
       "                                       24],\n",
       "                          'tickvals': [0, 12, 24, 36, 48, 60, 72, 84, 96, 108,\n",
       "                                       120, 132, 144, 156, 168, 180, 192, 204, 216,\n",
       "                                       228, 240, 252, 264, 276, 288],\n",
       "                          'title': {'text': 'Hour of day'}},\n",
       "               'xaxis6': {'anchor': 'y6',\n",
       "                          'domain': [0.0, 1.0],\n",
       "                          'linewidth': 1.5,\n",
       "                          'mirror': True,\n",
       "                          'range': [0, 11],\n",
       "                          'showline': True,\n",
       "                          'title': {'text': 'AR lag number'}},\n",
       "               'xaxis7': {'anchor': 'y7',\n",
       "                          'domain': [0.0, 1.0],\n",
       "                          'linewidth': 1.5,\n",
       "                          'mirror': True,\n",
       "                          'range': [-2, 36],\n",
       "                          'showline': True,\n",
       "                          'title': {'text': 'Lagged Regressor \"temp\" lag number'}},\n",
       "               'xaxis8': {'anchor': 'y8',\n",
       "                          'domain': [0.0, 1.0],\n",
       "                          'linewidth': 1.5,\n",
       "                          'mirror': True,\n",
       "                          'showline': True,\n",
       "                          'title': {'text': 'Additive event name'}},\n",
       "               'yaxis': {'anchor': 'x',\n",
       "                         'domain': [0.9078124999999999, 0.9999999999999999],\n",
       "                         'linewidth': 1.5,\n",
       "                         'mirror': True,\n",
       "                         'rangemode': 'normal',\n",
       "                         'showline': True,\n",
       "                         'title': {'text': 'Trend'}},\n",
       "               'yaxis2': {'anchor': 'x2',\n",
       "                          'domain': [0.778125, 0.8703124999999999],\n",
       "                          'linewidth': 1.5,\n",
       "                          'mirror': True,\n",
       "                          'rangemode': 'normal',\n",
       "                          'showline': True,\n",
       "                          'title': {'text': 'Seasonality: yearly'}},\n",
       "               'yaxis3': {'anchor': 'x3',\n",
       "                          'domain': [0.6484375, 0.740625],\n",
       "                          'linewidth': 1.5,\n",
       "                          'mirror': True,\n",
       "                          'rangemode': 'normal',\n",
       "                          'showline': True,\n",
       "                          'title': {'text': 'Seasonality: weekly'}},\n",
       "               'yaxis4': {'anchor': 'x4',\n",
       "                          'domain': [0.51875, 0.6109375],\n",
       "                          'linewidth': 1.5,\n",
       "                          'mirror': True,\n",
       "                          'rangemode': 'normal',\n",
       "                          'showline': True,\n",
       "                          'title': {'text': 'Seasonality: winter'}},\n",
       "               'yaxis5': {'anchor': 'x5',\n",
       "                          'domain': [0.38906250000000003, 0.48125000000000007],\n",
       "                          'linewidth': 1.5,\n",
       "                          'mirror': True,\n",
       "                          'rangemode': 'normal',\n",
       "                          'showline': True,\n",
       "                          'title': {'text': 'Seasonality: summer'}},\n",
       "               'yaxis6': {'anchor': 'x6',\n",
       "                          'domain': [0.259375, 0.3515625],\n",
       "                          'linewidth': 1.5,\n",
       "                          'mirror': True,\n",
       "                          'rangemode': 'normal',\n",
       "                          'showline': True,\n",
       "                          'title': {'text': 'AR weight (5)-ahead'}},\n",
       "               'yaxis7': {'anchor': 'x7',\n",
       "                          'domain': [0.1296875, 0.22187500000000002],\n",
       "                          'linewidth': 1.5,\n",
       "                          'mirror': True,\n",
       "                          'rangemode': 'normal',\n",
       "                          'showline': True,\n",
       "                          'title': {'text': 'Lagged Regressor \"temp\" weight (5)-ahead'}},\n",
       "               'yaxis8': {'anchor': 'x8',\n",
       "                          'domain': [0.0, 0.0921875],\n",
       "                          'linewidth': 1.5,\n",
       "                          'mirror': True,\n",
       "                          'rangemode': 'normal',\n",
       "                          'showline': True,\n",
       "                          'title': {'text': 'Additive event weight'}}}\n",
       "})"
      ]
     },
     "execution_count": 16,
     "metadata": {},
     "output_type": "execute_result"
    }
   ],
   "source": [
    "m.plot_parameters()"
   ]
  },
  {
   "cell_type": "code",
   "execution_count": null,
   "metadata": {},
   "outputs": [],
   "source": []
  }
 ],
 "metadata": {
  "kernelspec": {
   "display_name": ".venv",
   "language": "python",
   "name": "python3"
  },
  "language_info": {
   "codemirror_mode": {
    "name": "ipython",
    "version": 3
   },
   "file_extension": ".py",
   "mimetype": "text/x-python",
   "name": "python",
   "nbconvert_exporter": "python",
   "pygments_lexer": "ipython3",
   "version": "3.11.0rc1"
  }
 },
 "nbformat": 4,
 "nbformat_minor": 2
}
