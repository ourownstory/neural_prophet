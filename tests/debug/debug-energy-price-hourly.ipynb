{
 "cells": [
  {
   "cell_type": "code",
   "execution_count": 1,
   "metadata": {},
   "outputs": [],
   "source": [
    "import os\n",
    "import pathlib\n",
    "import torch\n",
    "\n",
    "import numpy as np\n",
    "import pandas as pd\n",
    "import plotly.graph_objects as go\n",
    "from plotly.subplots import make_subplots\n",
    "from plotly_resampler import unregister_plotly_resampler\n",
    "\n",
    "from neuralprophet import NeuralProphet, set_random_seed"
   ]
  },
  {
   "cell_type": "code",
   "execution_count": 2,
   "metadata": {},
   "outputs": [],
   "source": [
    "def create_metrics_plot(metrics):\n",
    "    # Deactivate the resampler since it is not compatible with kaleido (image export)\n",
    "    unregister_plotly_resampler()\n",
    "\n",
    "    # Plotly params\n",
    "    prediction_color = \"#2d92ff\"\n",
    "    actual_color = \"black\"\n",
    "    line_width = 2\n",
    "    xaxis_args = {\"showline\": True, \"mirror\": True, \"linewidth\": 1.5, \"showgrid\": False}\n",
    "    yaxis_args = {\n",
    "        \"showline\": True,\n",
    "        \"mirror\": True,\n",
    "        \"linewidth\": 1.5,\n",
    "        \"showgrid\": False,\n",
    "        \"rangemode\": \"tozero\",\n",
    "        \"type\": \"log\",\n",
    "    }\n",
    "    layout_args = {\n",
    "        \"autosize\": True,\n",
    "        \"template\": \"plotly_white\",\n",
    "        \"margin\": go.layout.Margin(l=0, r=10, b=0, t=30, pad=0),\n",
    "        \"font\": dict(size=10),\n",
    "        \"title\": dict(font=dict(size=10)),\n",
    "        \"width\": 1000,\n",
    "        \"height\": 200,\n",
    "    }\n",
    "\n",
    "    metric_cols = [col for col in metrics.columns if not (\"_val\" in col or col == \"RegLoss\" or col == \"epoch\")]\n",
    "    fig = make_subplots(rows=1, cols=len(metric_cols), subplot_titles=metric_cols)\n",
    "    for i, metric in enumerate(metric_cols):\n",
    "        fig.add_trace(\n",
    "            go.Scatter(\n",
    "                y=metrics[metric],\n",
    "                name=metric,\n",
    "                mode=\"lines\",\n",
    "                line=dict(color=prediction_color, width=line_width),\n",
    "                legendgroup=metric,\n",
    "            ),\n",
    "            row=1,\n",
    "            col=i + 1,\n",
    "        )\n",
    "        if f\"{metric}_val\" in metrics.columns:\n",
    "            fig.add_trace(\n",
    "                go.Scatter(\n",
    "                    y=metrics[f\"{metric}_val\"],\n",
    "                    name=f\"{metric}_val\",\n",
    "                    mode=\"lines\",\n",
    "                    line=dict(color=actual_color, width=line_width),\n",
    "                    legendgroup=metric,\n",
    "                ),\n",
    "                row=1,\n",
    "                col=i + 1,\n",
    "            )\n",
    "        if metric == \"Loss\":\n",
    "            fig.add_trace(\n",
    "                go.Scatter(\n",
    "                    y=metrics[\"RegLoss\"],\n",
    "                    name=\"RegLoss\",\n",
    "                    mode=\"lines\",\n",
    "                    line=dict(color=actual_color, width=line_width),\n",
    "                    legendgroup=metric,\n",
    "                ),\n",
    "                row=1,\n",
    "                col=i + 1,\n",
    "            )\n",
    "    fig.update_xaxes(xaxis_args)\n",
    "    fig.update_yaxes(yaxis_args)\n",
    "    fig.update_layout(layout_args)\n",
    "    return fig"
   ]
  },
  {
   "cell_type": "code",
   "execution_count": 3,
   "metadata": {},
   "outputs": [],
   "source": [
    "DIR = \"~/github/neural_prophet\"\n",
    "DATA_DIR = os.path.join(DIR, \"tests\", \"test-data\")\n",
    "PEYTON_FILE = os.path.join(DATA_DIR, \"wp_log_peyton_manning.csv\")\n",
    "AIR_FILE = os.path.join(DATA_DIR, \"air_passengers.csv\")\n",
    "YOS_FILE = os.path.join(DATA_DIR, \"yosemite_temps.csv\")\n",
    "ENERGY_PRICE_DAILY_FILE = os.path.join(DATA_DIR, \"tutorial04_kaggle_energy_daily_temperature.csv\")"
   ]
  },
  {
   "cell_type": "code",
   "execution_count": 4,
   "metadata": {},
   "outputs": [],
   "source": [
    "df = pd.read_csv(ENERGY_PRICE_DAILY_FILE)\n",
    "df[\"temp\"] = df[\"temperature\"]\n",
    "df = df.drop(columns=\"temperature\")\n",
    "df[\"ds\"] = pd.to_datetime(df[\"ds\"])\n",
    "df[\"y\"] = pd.to_numeric(df[\"y\"], errors=\"coerce\")\n",
    "\n",
    "df = df.drop(\"ds\", axis=1)\n",
    "df[\"ds\"] = pd.date_range(start=\"2015-01-01 00:00:00\", periods=len(df), freq=\"h\")\n",
    "df[\"ID\"] = \"test\"\n",
    "\n",
    "df_id = df[[\"ds\", \"y\", \"temp\"]].copy()\n",
    "df_id[\"ID\"] = \"test2\"\n",
    "df_id[\"y\"] = df_id[\"y\"] * 0.3\n",
    "df_id[\"temp\"] = df_id[\"temp\"] * 0.4\n",
    "df = pd.concat([df, df_id], ignore_index=True)\n",
    "\n",
    "# Conditional Seasonality\n",
    "df[\"winter\"] = np.where(\n",
    "    df[\"ds\"].dt.month.isin([1]),\n",
    "    1,\n",
    "    0,\n",
    ")\n",
    "df[\"summer\"] = np.where(df[\"ds\"].dt.month.isin([2, 3, 4, 5, 6, 7, 8, 9, 10, 11, 12]), 1, 0)\n",
    "df[\"winter\"] = pd.to_numeric(df[\"winter\"], errors=\"coerce\")\n",
    "df[\"summer\"] = pd.to_numeric(df[\"summer\"], errors=\"coerce\")\n",
    "\n",
    "# Normalize Temperature\n",
    "df[\"temp\"] = (df[\"temp\"] - 65.0) / 50.0\n",
    "\n",
    "# df\n",
    "df = df[[\"ID\", \"ds\", \"y\", \"temp\", \"winter\", \"summer\"]]\n",
    "\n",
    "# Split\n",
    "df_train = df[df[\"ds\"] < \"2015-03-01\"]\n",
    "df_test = df[df[\"ds\"] >= \"2015-03-01\"]"
   ]
  },
  {
   "cell_type": "code",
   "execution_count": 5,
   "metadata": {},
   "outputs": [
    {
     "name": "stdout",
     "output_type": "stream",
     "text": [
      "quantiles: [0.01, 0.99]\n",
      "Using CPU\n"
     ]
    },
    {
     "data": {
      "text/plain": [
       "<neuralprophet.forecaster.NeuralProphet at 0x7d993d1cae30>"
      ]
     },
     "execution_count": 5,
     "metadata": {},
     "output_type": "execute_result"
    }
   ],
   "source": [
    "### Temporary Test for on-the-fly sampling - very time consuming!\n",
    "\n",
    "\n",
    "# Hyperparameter\n",
    "tuned_params = {\n",
    "    \"n_lags\": 10,\n",
    "    \"newer_samples_weight\": 2.0,\n",
    "    \"n_changepoints\": 0,\n",
    "    \"yearly_seasonality\": 10,\n",
    "    \"weekly_seasonality\": True,\n",
    "    \"daily_seasonality\": False,  # due to conditional daily seasonality\n",
    "    \"batch_size\": 128,\n",
    "    \"ar_layers\": [8, 4],\n",
    "    \"lagged_reg_layers\": [8],\n",
    "    # not tuned\n",
    "    \"n_forecasts\": 5,\n",
    "    \"learning_rate\": 0.001,\n",
    "    \"epochs\": 10,\n",
    "    \"trend_global_local\": \"global\",\n",
    "    \"season_global_local\": \"global\",\n",
    "    \"drop_missing\": True,\n",
    "    \"normalize\": \"standardize\",\n",
    "}\n",
    "\n",
    "# Uncertainty Quantification\n",
    "confidence_lv = 0.98\n",
    "quantile_list = [round(((1 - confidence_lv) / 2), 2), round((confidence_lv + (1 - confidence_lv) / 2), 2)]\n",
    "# quantile_list = None\n",
    "print(f\"quantiles: {quantile_list}\")\n",
    "\n",
    "# Check if GPU is available\n",
    "# use_gpu = torch.cuda.is_available()\n",
    "use_gpu = False\n",
    "\n",
    "# Set trainer configuration\n",
    "trainer_configs = {\n",
    "    \"accelerator\": \"gpu\" if use_gpu else \"cpu\",\n",
    "}\n",
    "print(f\"Using {'GPU' if use_gpu else 'CPU'}\")\n",
    "\n",
    "# Model\n",
    "m = NeuralProphet(**tuned_params, **trainer_configs, quantiles=quantile_list)\n",
    "\n",
    "# Lagged Regressor\n",
    "m.add_lagged_regressor(names=\"temp\", n_lags=33, normalize=\"standardize\")\n",
    "\n",
    "# Conditional Seasonality\n",
    "m.add_seasonality(name=\"winter\", period=1, fourier_order=6, condition_name=\"winter\")\n",
    "m.add_seasonality(name=\"summer\", period=1, fourier_order=6, condition_name=\"summer\")\n",
    "\n",
    "# Holidays\n",
    "m.add_country_holidays(country_name=\"US\", lower_window=-1, upper_window=1)"
   ]
  },
  {
   "cell_type": "code",
   "execution_count": 6,
   "metadata": {},
   "outputs": [
    {
     "name": "stderr",
     "output_type": "stream",
     "text": [
      "INFO - (NP.forecaster.fit) - When Global modeling with local normalization, metrics are displayed in normalized scale.\n",
      "WARNING - (py.warnings._showwarnmsg) - /home/tabletop/github/neural_prophet/neuralprophet/df_utils.py:1149: FutureWarning: Series.view is deprecated and will be removed in a future version. Use ``astype`` as an alternative to change the dtype.\n",
      "  converted_ds = pd.to_datetime(ds_col, utc=True).view(dtype=np.int64)\n",
      "\n",
      "INFO - (NP.df_utils._infer_frequency) - Major frequency h corresponds to 99.929% of the data.\n",
      "WARNING - (py.warnings._showwarnmsg) - /home/tabletop/github/neural_prophet/neuralprophet/df_utils.py:1149: FutureWarning: Series.view is deprecated and will be removed in a future version. Use ``astype`` as an alternative to change the dtype.\n",
      "  converted_ds = pd.to_datetime(ds_col, utc=True).view(dtype=np.int64)\n",
      "\n",
      "WARNING - (py.warnings._showwarnmsg) - /home/tabletop/github/neural_prophet/neuralprophet/df_utils.py:1149: FutureWarning: Series.view is deprecated and will be removed in a future version. Use ``astype`` as an alternative to change the dtype.\n",
      "  converted_ds = pd.to_datetime(ds_col, utc=True).view(dtype=np.int64)\n",
      "\n",
      "INFO - (NP.df_utils._infer_frequency) - Defined frequency is equal to major frequency - h\n",
      "WARNING - (py.warnings._showwarnmsg) - /home/tabletop/github/neural_prophet/neuralprophet/df_utils.py:1149: FutureWarning: Series.view is deprecated and will be removed in a future version. Use ``astype`` as an alternative to change the dtype.\n",
      "  converted_ds = pd.to_datetime(ds_col, utc=True).view(dtype=np.int64)\n",
      "\n",
      "INFO - (NP.df_utils._infer_frequency) - Major frequency h corresponds to 99.929% of the data.\n",
      "WARNING - (py.warnings._showwarnmsg) - /home/tabletop/github/neural_prophet/neuralprophet/df_utils.py:1149: FutureWarning: Series.view is deprecated and will be removed in a future version. Use ``astype`` as an alternative to change the dtype.\n",
      "  converted_ds = pd.to_datetime(ds_col, utc=True).view(dtype=np.int64)\n",
      "\n",
      "WARNING - (py.warnings._showwarnmsg) - /home/tabletop/github/neural_prophet/neuralprophet/df_utils.py:1149: FutureWarning: Series.view is deprecated and will be removed in a future version. Use ``astype`` as an alternative to change the dtype.\n",
      "  converted_ds = pd.to_datetime(ds_col, utc=True).view(dtype=np.int64)\n",
      "\n",
      "INFO - (NP.df_utils._infer_frequency) - Defined frequency is equal to major frequency - h\n",
      "WARNING - (py.warnings._showwarnmsg) - /home/tabletop/github/neural_prophet/neuralprophet/time_dataset.py:692: UserWarning: To copy construct from a tensor, it is recommended to use sourceTensor.clone().detach() or sourceTensor.clone().detach().requires_grad_(True), rather than torch.tensor(sourceTensor).\n",
      "  contains_nan = torch.cat([torch.tensor(contains_nan), torch.ones(n_forecasts, dtype=torch.bool)])\n",
      "\n",
      "WARNING - (py.warnings._showwarnmsg) - /home/tabletop/github/neural_prophet/neuralprophet/time_dataset.py:692: UserWarning: To copy construct from a tensor, it is recommended to use sourceTensor.clone().detach() or sourceTensor.clone().detach().requires_grad_(True), rather than torch.tensor(sourceTensor).\n",
      "  contains_nan = torch.cat([torch.tensor(contains_nan), torch.ones(n_forecasts, dtype=torch.bool)])\n",
      "\n",
      "INFO - (NP.utils.configure_trainer) - Using accelerator cpu with 1 device(s).\n"
     ]
    },
    {
     "data": {
      "application/vnd.jupyter.widget-view+json": {
       "model_id": "b5912ecccdbe4255b43d1751767fc1e8",
       "version_major": 2,
       "version_minor": 0
      },
      "text/plain": [
       "Training: |          | 0/? [00:00<?, ?it/s]"
      ]
     },
     "metadata": {},
     "output_type": "display_data"
    },
    {
     "name": "stderr",
     "output_type": "stream",
     "text": [
      "WARNING - (py.warnings._showwarnmsg) - /home/tabletop/github/neural_prophet/neuralprophet/time_dataset.py:692: UserWarning: To copy construct from a tensor, it is recommended to use sourceTensor.clone().detach() or sourceTensor.clone().detach().requires_grad_(True), rather than torch.tensor(sourceTensor).\n",
      "  contains_nan = torch.cat([torch.tensor(contains_nan), torch.ones(n_forecasts, dtype=torch.bool)])\n",
      "\n",
      "WARNING - (py.warnings._showwarnmsg) - /home/tabletop/github/neural_prophet/neuralprophet/time_dataset.py:692: UserWarning: To copy construct from a tensor, it is recommended to use sourceTensor.clone().detach() or sourceTensor.clone().detach().requires_grad_(True), rather than torch.tensor(sourceTensor).\n",
      "  contains_nan = torch.cat([torch.tensor(contains_nan), torch.ones(n_forecasts, dtype=torch.bool)])\n",
      "\n"
     ]
    },
    {
     "data": {
      "application/vnd.jupyter.widget-view+json": {
       "model_id": "4b649345cd794351a1f5b5c9ab11469f",
       "version_major": 2,
       "version_minor": 0
      },
      "text/plain": [
       "Training: |          | 0/? [00:00<?, ?it/s]"
      ]
     },
     "metadata": {},
     "output_type": "display_data"
    },
    {
     "name": "stderr",
     "output_type": "stream",
     "text": [
      "WARNING - (py.warnings._showwarnmsg) - /home/tabletop/.cache/pypoetry/virtualenvs/neuralprophet-CT7lk1Bv-py3.10/lib/python3.10/site-packages/pytorch_lightning/utilities/data.py:78: Trying to infer the `batch_size` from an ambiguous collection. The batch size we found is 128. To avoid any miscalculations, use `self.log(..., batch_size=batch_size)`.\n",
      "\n",
      "WARNING - (py.warnings._showwarnmsg) - /home/tabletop/.cache/pypoetry/virtualenvs/neuralprophet-CT7lk1Bv-py3.10/lib/python3.10/site-packages/pytorch_lightning/utilities/data.py:78: Trying to infer the `batch_size` from an ambiguous collection. The batch size we found is 70. To avoid any miscalculations, use `self.log(..., batch_size=batch_size)`.\n",
      "\n"
     ]
    },
    {
     "data": {
      "application/vnd.jupyter.widget-view+json": {
       "model_id": "9205ea516e5740db878a07ce3e1aa5c4",
       "version_major": 2,
       "version_minor": 0
      },
      "text/plain": [
       "Validation: |          | 0/? [00:00<?, ?it/s]"
      ]
     },
     "metadata": {},
     "output_type": "display_data"
    },
    {
     "data": {
      "application/vnd.jupyter.widget-view+json": {
       "model_id": "a8b0608b0050410c971bc30471f41523",
       "version_major": 2,
       "version_minor": 0
      },
      "text/plain": [
       "Validation: |          | 0/? [00:00<?, ?it/s]"
      ]
     },
     "metadata": {},
     "output_type": "display_data"
    },
    {
     "data": {
      "application/vnd.jupyter.widget-view+json": {
       "model_id": "ec441c1628d34530bbc44b45d314a6c0",
       "version_major": 2,
       "version_minor": 0
      },
      "text/plain": [
       "Validation: |          | 0/? [00:00<?, ?it/s]"
      ]
     },
     "metadata": {},
     "output_type": "display_data"
    },
    {
     "data": {
      "application/vnd.jupyter.widget-view+json": {
       "model_id": "39131731bbae4e36ae252603a1949cf7",
       "version_major": 2,
       "version_minor": 0
      },
      "text/plain": [
       "Validation: |          | 0/? [00:00<?, ?it/s]"
      ]
     },
     "metadata": {},
     "output_type": "display_data"
    },
    {
     "data": {
      "application/vnd.jupyter.widget-view+json": {
       "model_id": "56bc576571654fb5a2eedfec6f4bf832",
       "version_major": 2,
       "version_minor": 0
      },
      "text/plain": [
       "Validation: |          | 0/? [00:00<?, ?it/s]"
      ]
     },
     "metadata": {},
     "output_type": "display_data"
    },
    {
     "data": {
      "application/vnd.jupyter.widget-view+json": {
       "model_id": "b104f6f0377d43b0ab20faabe2236f54",
       "version_major": 2,
       "version_minor": 0
      },
      "text/plain": [
       "Validation: |          | 0/? [00:00<?, ?it/s]"
      ]
     },
     "metadata": {},
     "output_type": "display_data"
    },
    {
     "data": {
      "application/vnd.jupyter.widget-view+json": {
       "model_id": "6101e2abe0b64fe09a761c61c70d2201",
       "version_major": 2,
       "version_minor": 0
      },
      "text/plain": [
       "Validation: |          | 0/? [00:00<?, ?it/s]"
      ]
     },
     "metadata": {},
     "output_type": "display_data"
    },
    {
     "data": {
      "application/vnd.jupyter.widget-view+json": {
       "model_id": "1cc44f2501b6408fbc86816c08e193ee",
       "version_major": 2,
       "version_minor": 0
      },
      "text/plain": [
       "Validation: |          | 0/? [00:00<?, ?it/s]"
      ]
     },
     "metadata": {},
     "output_type": "display_data"
    },
    {
     "data": {
      "application/vnd.jupyter.widget-view+json": {
       "model_id": "24fd92616854420b83e6a3a53846f844",
       "version_major": 2,
       "version_minor": 0
      },
      "text/plain": [
       "Validation: |          | 0/? [00:00<?, ?it/s]"
      ]
     },
     "metadata": {},
     "output_type": "display_data"
    },
    {
     "data": {
      "application/vnd.jupyter.widget-view+json": {
       "model_id": "ede13bdabac846048ef4654be1b4d12a",
       "version_major": 2,
       "version_minor": 0
      },
      "text/plain": [
       "Validation: |          | 0/? [00:00<?, ?it/s]"
      ]
     },
     "metadata": {},
     "output_type": "display_data"
    }
   ],
   "source": [
    "# Training & Predict\n",
    "metrics = m.fit(df=df_train, validation_df=df_test, freq=\"h\", early_stopping=False)"
   ]
  },
  {
   "cell_type": "code",
   "execution_count": 7,
   "metadata": {},
   "outputs": [
    {
     "data": {
      "application/vnd.plotly.v1+json": {
       "config": {
        "plotlyServerURL": "https://plot.ly"
       },
       "data": [
        {
         "legendgroup": "train_loss",
         "line": {
          "color": "#2d92ff",
          "width": 2
         },
         "mode": "lines",
         "name": "train_loss",
         "type": "scatter",
         "xaxis": "x",
         "y": [
          3.6281654834747314,
          3.216404438018799,
          2.461292028427124,
          1.84268319606781,
          1.5482017993927002,
          1.4468858242034912,
          1.4149123430252075,
          1.3923537731170654,
          1.378030776977539,
          1.3715811967849731
         ],
         "yaxis": "y"
        },
        {
         "legendgroup": "reg_loss",
         "line": {
          "color": "#2d92ff",
          "width": 2
         },
         "mode": "lines",
         "name": "reg_loss",
         "type": "scatter",
         "xaxis": "x2",
         "y": [
          0,
          0,
          0,
          0,
          0,
          0,
          0,
          0,
          0,
          0
         ],
         "yaxis": "y2"
        },
        {
         "legendgroup": "MAE",
         "line": {
          "color": "#2d92ff",
          "width": 2
         },
         "mode": "lines",
         "name": "MAE",
         "type": "scatter",
         "xaxis": "x3",
         "y": [
          1.945920467376709,
          1.764636516571045,
          1.454800009727478,
          1.2135502099990845,
          1.1105183362960815,
          1.076404094696045,
          1.0656453371047974,
          1.0584872961044312,
          1.05453622341156,
          1.0535459518432617
         ],
         "yaxis": "y3"
        },
        {
         "legendgroup": "MAE",
         "line": {
          "color": "black",
          "width": 2
         },
         "mode": "lines",
         "name": "MAE_val",
         "type": "scatter",
         "xaxis": "x3",
         "y": [
          2.0952579975128174,
          1.5834287405014038,
          1.1268068552017212,
          0.9564144015312195,
          0.879956841468811,
          0.8555251359939575,
          0.8443053364753723,
          0.8364248275756836,
          0.8316343426704407,
          0.8298080563545227
         ],
         "yaxis": "y3"
        },
        {
         "legendgroup": "RMSE",
         "line": {
          "color": "#2d92ff",
          "width": 2
         },
         "mode": "lines",
         "name": "RMSE",
         "type": "scatter",
         "xaxis": "x4",
         "y": [
          2.4845407009124756,
          2.2576544284820557,
          1.8687987327575684,
          1.557382583618164,
          1.4208526611328125,
          1.3762744665145874,
          1.3620320558547974,
          1.3528945446014404,
          1.3467621803283691,
          1.3467226028442383
         ],
         "yaxis": "y4"
        },
        {
         "legendgroup": "RMSE",
         "line": {
          "color": "black",
          "width": 2
         },
         "mode": "lines",
         "name": "RMSE_val",
         "type": "scatter",
         "xaxis": "x4",
         "y": [
          2.6508853435516357,
          2.058405876159668,
          1.3784314393997192,
          1.0836613178253174,
          0.9949031472206116,
          0.9689829349517822,
          0.9556937217712402,
          0.9464864134788513,
          0.941169023513794,
          0.9391241669654846
         ],
         "yaxis": "y4"
        },
        {
         "legendgroup": "Loss",
         "line": {
          "color": "#2d92ff",
          "width": 2
         },
         "mode": "lines",
         "name": "Loss",
         "type": "scatter",
         "xaxis": "x5",
         "y": [
          3.6250030994415283,
          3.1991159915924072,
          2.4528629779815674,
          1.8357555866241455,
          1.5451138019561768,
          1.4480032920837402,
          1.4154229164123535,
          1.3918782472610474,
          1.3788602352142334,
          1.3751496076583862
         ],
         "yaxis": "y5"
        },
        {
         "legendgroup": "Loss",
         "line": {
          "color": "black",
          "width": 2
         },
         "mode": "lines",
         "name": "Loss_val",
         "type": "scatter",
         "xaxis": "x5",
         "y": [
          5.441538333892822,
          4.21077823638916,
          2.9864273071289062,
          2.4115242958068848,
          2.1774377822875977,
          2.101806163787842,
          2.061872959136963,
          2.03498911857605,
          2.0202457904815674,
          2.0146193504333496
         ],
         "yaxis": "y5"
        },
        {
         "legendgroup": "Loss",
         "line": {
          "color": "black",
          "width": 2
         },
         "mode": "lines",
         "name": "RegLoss",
         "type": "scatter",
         "xaxis": "x5",
         "y": [
          0,
          0,
          0,
          0,
          0,
          0,
          0,
          0,
          0,
          0
         ],
         "yaxis": "y5"
        }
       ],
       "layout": {
        "annotations": [
         {
          "font": {
           "size": 16
          },
          "showarrow": false,
          "text": "train_loss",
          "x": 0.08399999999999999,
          "xanchor": "center",
          "xref": "paper",
          "y": 1,
          "yanchor": "bottom",
          "yref": "paper"
         },
         {
          "font": {
           "size": 16
          },
          "showarrow": false,
          "text": "reg_loss",
          "x": 0.292,
          "xanchor": "center",
          "xref": "paper",
          "y": 1,
          "yanchor": "bottom",
          "yref": "paper"
         },
         {
          "font": {
           "size": 16
          },
          "showarrow": false,
          "text": "MAE",
          "x": 0.5,
          "xanchor": "center",
          "xref": "paper",
          "y": 1,
          "yanchor": "bottom",
          "yref": "paper"
         },
         {
          "font": {
           "size": 16
          },
          "showarrow": false,
          "text": "RMSE",
          "x": 0.708,
          "xanchor": "center",
          "xref": "paper",
          "y": 1,
          "yanchor": "bottom",
          "yref": "paper"
         },
         {
          "font": {
           "size": 16
          },
          "showarrow": false,
          "text": "Loss",
          "x": 0.9159999999999999,
          "xanchor": "center",
          "xref": "paper",
          "y": 1,
          "yanchor": "bottom",
          "yref": "paper"
         }
        ],
        "autosize": true,
        "font": {
         "size": 10
        },
        "height": 200,
        "margin": {
         "b": 0,
         "l": 0,
         "pad": 0,
         "r": 10,
         "t": 30
        },
        "template": {
         "data": {
          "bar": [
           {
            "error_x": {
             "color": "#2a3f5f"
            },
            "error_y": {
             "color": "#2a3f5f"
            },
            "marker": {
             "line": {
              "color": "white",
              "width": 0.5
             },
             "pattern": {
              "fillmode": "overlay",
              "size": 10,
              "solidity": 0.2
             }
            },
            "type": "bar"
           }
          ],
          "barpolar": [
           {
            "marker": {
             "line": {
              "color": "white",
              "width": 0.5
             },
             "pattern": {
              "fillmode": "overlay",
              "size": 10,
              "solidity": 0.2
             }
            },
            "type": "barpolar"
           }
          ],
          "carpet": [
           {
            "aaxis": {
             "endlinecolor": "#2a3f5f",
             "gridcolor": "#C8D4E3",
             "linecolor": "#C8D4E3",
             "minorgridcolor": "#C8D4E3",
             "startlinecolor": "#2a3f5f"
            },
            "baxis": {
             "endlinecolor": "#2a3f5f",
             "gridcolor": "#C8D4E3",
             "linecolor": "#C8D4E3",
             "minorgridcolor": "#C8D4E3",
             "startlinecolor": "#2a3f5f"
            },
            "type": "carpet"
           }
          ],
          "choropleth": [
           {
            "colorbar": {
             "outlinewidth": 0,
             "ticks": ""
            },
            "type": "choropleth"
           }
          ],
          "contour": [
           {
            "colorbar": {
             "outlinewidth": 0,
             "ticks": ""
            },
            "colorscale": [
             [
              0,
              "#0d0887"
             ],
             [
              0.1111111111111111,
              "#46039f"
             ],
             [
              0.2222222222222222,
              "#7201a8"
             ],
             [
              0.3333333333333333,
              "#9c179e"
             ],
             [
              0.4444444444444444,
              "#bd3786"
             ],
             [
              0.5555555555555556,
              "#d8576b"
             ],
             [
              0.6666666666666666,
              "#ed7953"
             ],
             [
              0.7777777777777778,
              "#fb9f3a"
             ],
             [
              0.8888888888888888,
              "#fdca26"
             ],
             [
              1,
              "#f0f921"
             ]
            ],
            "type": "contour"
           }
          ],
          "contourcarpet": [
           {
            "colorbar": {
             "outlinewidth": 0,
             "ticks": ""
            },
            "type": "contourcarpet"
           }
          ],
          "heatmap": [
           {
            "colorbar": {
             "outlinewidth": 0,
             "ticks": ""
            },
            "colorscale": [
             [
              0,
              "#0d0887"
             ],
             [
              0.1111111111111111,
              "#46039f"
             ],
             [
              0.2222222222222222,
              "#7201a8"
             ],
             [
              0.3333333333333333,
              "#9c179e"
             ],
             [
              0.4444444444444444,
              "#bd3786"
             ],
             [
              0.5555555555555556,
              "#d8576b"
             ],
             [
              0.6666666666666666,
              "#ed7953"
             ],
             [
              0.7777777777777778,
              "#fb9f3a"
             ],
             [
              0.8888888888888888,
              "#fdca26"
             ],
             [
              1,
              "#f0f921"
             ]
            ],
            "type": "heatmap"
           }
          ],
          "heatmapgl": [
           {
            "colorbar": {
             "outlinewidth": 0,
             "ticks": ""
            },
            "colorscale": [
             [
              0,
              "#0d0887"
             ],
             [
              0.1111111111111111,
              "#46039f"
             ],
             [
              0.2222222222222222,
              "#7201a8"
             ],
             [
              0.3333333333333333,
              "#9c179e"
             ],
             [
              0.4444444444444444,
              "#bd3786"
             ],
             [
              0.5555555555555556,
              "#d8576b"
             ],
             [
              0.6666666666666666,
              "#ed7953"
             ],
             [
              0.7777777777777778,
              "#fb9f3a"
             ],
             [
              0.8888888888888888,
              "#fdca26"
             ],
             [
              1,
              "#f0f921"
             ]
            ],
            "type": "heatmapgl"
           }
          ],
          "histogram": [
           {
            "marker": {
             "pattern": {
              "fillmode": "overlay",
              "size": 10,
              "solidity": 0.2
             }
            },
            "type": "histogram"
           }
          ],
          "histogram2d": [
           {
            "colorbar": {
             "outlinewidth": 0,
             "ticks": ""
            },
            "colorscale": [
             [
              0,
              "#0d0887"
             ],
             [
              0.1111111111111111,
              "#46039f"
             ],
             [
              0.2222222222222222,
              "#7201a8"
             ],
             [
              0.3333333333333333,
              "#9c179e"
             ],
             [
              0.4444444444444444,
              "#bd3786"
             ],
             [
              0.5555555555555556,
              "#d8576b"
             ],
             [
              0.6666666666666666,
              "#ed7953"
             ],
             [
              0.7777777777777778,
              "#fb9f3a"
             ],
             [
              0.8888888888888888,
              "#fdca26"
             ],
             [
              1,
              "#f0f921"
             ]
            ],
            "type": "histogram2d"
           }
          ],
          "histogram2dcontour": [
           {
            "colorbar": {
             "outlinewidth": 0,
             "ticks": ""
            },
            "colorscale": [
             [
              0,
              "#0d0887"
             ],
             [
              0.1111111111111111,
              "#46039f"
             ],
             [
              0.2222222222222222,
              "#7201a8"
             ],
             [
              0.3333333333333333,
              "#9c179e"
             ],
             [
              0.4444444444444444,
              "#bd3786"
             ],
             [
              0.5555555555555556,
              "#d8576b"
             ],
             [
              0.6666666666666666,
              "#ed7953"
             ],
             [
              0.7777777777777778,
              "#fb9f3a"
             ],
             [
              0.8888888888888888,
              "#fdca26"
             ],
             [
              1,
              "#f0f921"
             ]
            ],
            "type": "histogram2dcontour"
           }
          ],
          "mesh3d": [
           {
            "colorbar": {
             "outlinewidth": 0,
             "ticks": ""
            },
            "type": "mesh3d"
           }
          ],
          "parcoords": [
           {
            "line": {
             "colorbar": {
              "outlinewidth": 0,
              "ticks": ""
             }
            },
            "type": "parcoords"
           }
          ],
          "pie": [
           {
            "automargin": true,
            "type": "pie"
           }
          ],
          "scatter": [
           {
            "fillpattern": {
             "fillmode": "overlay",
             "size": 10,
             "solidity": 0.2
            },
            "type": "scatter"
           }
          ],
          "scatter3d": [
           {
            "line": {
             "colorbar": {
              "outlinewidth": 0,
              "ticks": ""
             }
            },
            "marker": {
             "colorbar": {
              "outlinewidth": 0,
              "ticks": ""
             }
            },
            "type": "scatter3d"
           }
          ],
          "scattercarpet": [
           {
            "marker": {
             "colorbar": {
              "outlinewidth": 0,
              "ticks": ""
             }
            },
            "type": "scattercarpet"
           }
          ],
          "scattergeo": [
           {
            "marker": {
             "colorbar": {
              "outlinewidth": 0,
              "ticks": ""
             }
            },
            "type": "scattergeo"
           }
          ],
          "scattergl": [
           {
            "marker": {
             "colorbar": {
              "outlinewidth": 0,
              "ticks": ""
             }
            },
            "type": "scattergl"
           }
          ],
          "scattermapbox": [
           {
            "marker": {
             "colorbar": {
              "outlinewidth": 0,
              "ticks": ""
             }
            },
            "type": "scattermapbox"
           }
          ],
          "scatterpolar": [
           {
            "marker": {
             "colorbar": {
              "outlinewidth": 0,
              "ticks": ""
             }
            },
            "type": "scatterpolar"
           }
          ],
          "scatterpolargl": [
           {
            "marker": {
             "colorbar": {
              "outlinewidth": 0,
              "ticks": ""
             }
            },
            "type": "scatterpolargl"
           }
          ],
          "scatterternary": [
           {
            "marker": {
             "colorbar": {
              "outlinewidth": 0,
              "ticks": ""
             }
            },
            "type": "scatterternary"
           }
          ],
          "surface": [
           {
            "colorbar": {
             "outlinewidth": 0,
             "ticks": ""
            },
            "colorscale": [
             [
              0,
              "#0d0887"
             ],
             [
              0.1111111111111111,
              "#46039f"
             ],
             [
              0.2222222222222222,
              "#7201a8"
             ],
             [
              0.3333333333333333,
              "#9c179e"
             ],
             [
              0.4444444444444444,
              "#bd3786"
             ],
             [
              0.5555555555555556,
              "#d8576b"
             ],
             [
              0.6666666666666666,
              "#ed7953"
             ],
             [
              0.7777777777777778,
              "#fb9f3a"
             ],
             [
              0.8888888888888888,
              "#fdca26"
             ],
             [
              1,
              "#f0f921"
             ]
            ],
            "type": "surface"
           }
          ],
          "table": [
           {
            "cells": {
             "fill": {
              "color": "#EBF0F8"
             },
             "line": {
              "color": "white"
             }
            },
            "header": {
             "fill": {
              "color": "#C8D4E3"
             },
             "line": {
              "color": "white"
             }
            },
            "type": "table"
           }
          ]
         },
         "layout": {
          "annotationdefaults": {
           "arrowcolor": "#2a3f5f",
           "arrowhead": 0,
           "arrowwidth": 1
          },
          "autotypenumbers": "strict",
          "coloraxis": {
           "colorbar": {
            "outlinewidth": 0,
            "ticks": ""
           }
          },
          "colorscale": {
           "diverging": [
            [
             0,
             "#8e0152"
            ],
            [
             0.1,
             "#c51b7d"
            ],
            [
             0.2,
             "#de77ae"
            ],
            [
             0.3,
             "#f1b6da"
            ],
            [
             0.4,
             "#fde0ef"
            ],
            [
             0.5,
             "#f7f7f7"
            ],
            [
             0.6,
             "#e6f5d0"
            ],
            [
             0.7,
             "#b8e186"
            ],
            [
             0.8,
             "#7fbc41"
            ],
            [
             0.9,
             "#4d9221"
            ],
            [
             1,
             "#276419"
            ]
           ],
           "sequential": [
            [
             0,
             "#0d0887"
            ],
            [
             0.1111111111111111,
             "#46039f"
            ],
            [
             0.2222222222222222,
             "#7201a8"
            ],
            [
             0.3333333333333333,
             "#9c179e"
            ],
            [
             0.4444444444444444,
             "#bd3786"
            ],
            [
             0.5555555555555556,
             "#d8576b"
            ],
            [
             0.6666666666666666,
             "#ed7953"
            ],
            [
             0.7777777777777778,
             "#fb9f3a"
            ],
            [
             0.8888888888888888,
             "#fdca26"
            ],
            [
             1,
             "#f0f921"
            ]
           ],
           "sequentialminus": [
            [
             0,
             "#0d0887"
            ],
            [
             0.1111111111111111,
             "#46039f"
            ],
            [
             0.2222222222222222,
             "#7201a8"
            ],
            [
             0.3333333333333333,
             "#9c179e"
            ],
            [
             0.4444444444444444,
             "#bd3786"
            ],
            [
             0.5555555555555556,
             "#d8576b"
            ],
            [
             0.6666666666666666,
             "#ed7953"
            ],
            [
             0.7777777777777778,
             "#fb9f3a"
            ],
            [
             0.8888888888888888,
             "#fdca26"
            ],
            [
             1,
             "#f0f921"
            ]
           ]
          },
          "colorway": [
           "#636efa",
           "#EF553B",
           "#00cc96",
           "#ab63fa",
           "#FFA15A",
           "#19d3f3",
           "#FF6692",
           "#B6E880",
           "#FF97FF",
           "#FECB52"
          ],
          "font": {
           "color": "#2a3f5f"
          },
          "geo": {
           "bgcolor": "white",
           "lakecolor": "white",
           "landcolor": "white",
           "showlakes": true,
           "showland": true,
           "subunitcolor": "#C8D4E3"
          },
          "hoverlabel": {
           "align": "left"
          },
          "hovermode": "closest",
          "mapbox": {
           "style": "light"
          },
          "paper_bgcolor": "white",
          "plot_bgcolor": "white",
          "polar": {
           "angularaxis": {
            "gridcolor": "#EBF0F8",
            "linecolor": "#EBF0F8",
            "ticks": ""
           },
           "bgcolor": "white",
           "radialaxis": {
            "gridcolor": "#EBF0F8",
            "linecolor": "#EBF0F8",
            "ticks": ""
           }
          },
          "scene": {
           "xaxis": {
            "backgroundcolor": "white",
            "gridcolor": "#DFE8F3",
            "gridwidth": 2,
            "linecolor": "#EBF0F8",
            "showbackground": true,
            "ticks": "",
            "zerolinecolor": "#EBF0F8"
           },
           "yaxis": {
            "backgroundcolor": "white",
            "gridcolor": "#DFE8F3",
            "gridwidth": 2,
            "linecolor": "#EBF0F8",
            "showbackground": true,
            "ticks": "",
            "zerolinecolor": "#EBF0F8"
           },
           "zaxis": {
            "backgroundcolor": "white",
            "gridcolor": "#DFE8F3",
            "gridwidth": 2,
            "linecolor": "#EBF0F8",
            "showbackground": true,
            "ticks": "",
            "zerolinecolor": "#EBF0F8"
           }
          },
          "shapedefaults": {
           "line": {
            "color": "#2a3f5f"
           }
          },
          "ternary": {
           "aaxis": {
            "gridcolor": "#DFE8F3",
            "linecolor": "#A2B1C6",
            "ticks": ""
           },
           "baxis": {
            "gridcolor": "#DFE8F3",
            "linecolor": "#A2B1C6",
            "ticks": ""
           },
           "bgcolor": "white",
           "caxis": {
            "gridcolor": "#DFE8F3",
            "linecolor": "#A2B1C6",
            "ticks": ""
           }
          },
          "title": {
           "x": 0.05
          },
          "xaxis": {
           "automargin": true,
           "gridcolor": "#EBF0F8",
           "linecolor": "#EBF0F8",
           "ticks": "",
           "title": {
            "standoff": 15
           },
           "zerolinecolor": "#EBF0F8",
           "zerolinewidth": 2
          },
          "yaxis": {
           "automargin": true,
           "gridcolor": "#EBF0F8",
           "linecolor": "#EBF0F8",
           "ticks": "",
           "title": {
            "standoff": 15
           },
           "zerolinecolor": "#EBF0F8",
           "zerolinewidth": 2
          }
         }
        },
        "title": {
         "font": {
          "size": 10
         }
        },
        "width": 1000,
        "xaxis": {
         "anchor": "y",
         "domain": [
          0,
          0.16799999999999998
         ],
         "linewidth": 1.5,
         "mirror": true,
         "showgrid": false,
         "showline": true
        },
        "xaxis2": {
         "anchor": "y2",
         "domain": [
          0.208,
          0.376
         ],
         "linewidth": 1.5,
         "mirror": true,
         "showgrid": false,
         "showline": true
        },
        "xaxis3": {
         "anchor": "y3",
         "domain": [
          0.416,
          0.584
         ],
         "linewidth": 1.5,
         "mirror": true,
         "showgrid": false,
         "showline": true
        },
        "xaxis4": {
         "anchor": "y4",
         "domain": [
          0.624,
          0.792
         ],
         "linewidth": 1.5,
         "mirror": true,
         "showgrid": false,
         "showline": true
        },
        "xaxis5": {
         "anchor": "y5",
         "domain": [
          0.832,
          1
         ],
         "linewidth": 1.5,
         "mirror": true,
         "showgrid": false,
         "showline": true
        },
        "yaxis": {
         "anchor": "x",
         "domain": [
          0,
          1
         ],
         "linewidth": 1.5,
         "mirror": true,
         "rangemode": "tozero",
         "showgrid": false,
         "showline": true,
         "type": "log"
        },
        "yaxis2": {
         "anchor": "x2",
         "domain": [
          0,
          1
         ],
         "linewidth": 1.5,
         "mirror": true,
         "rangemode": "tozero",
         "showgrid": false,
         "showline": true,
         "type": "log"
        },
        "yaxis3": {
         "anchor": "x3",
         "domain": [
          0,
          1
         ],
         "linewidth": 1.5,
         "mirror": true,
         "rangemode": "tozero",
         "showgrid": false,
         "showline": true,
         "type": "log"
        },
        "yaxis4": {
         "anchor": "x4",
         "domain": [
          0,
          1
         ],
         "linewidth": 1.5,
         "mirror": true,
         "rangemode": "tozero",
         "showgrid": false,
         "showline": true,
         "type": "log"
        },
        "yaxis5": {
         "anchor": "x5",
         "domain": [
          0,
          1
         ],
         "linewidth": 1.5,
         "mirror": true,
         "rangemode": "tozero",
         "showgrid": false,
         "showline": true,
         "type": "log"
        }
       }
      }
     },
     "metadata": {},
     "output_type": "display_data"
    }
   ],
   "source": [
    "create_metrics_plot(metrics)"
   ]
  },
  {
   "cell_type": "code",
   "execution_count": 8,
   "metadata": {},
   "outputs": [
    {
     "data": {
      "text/plain": [
       "{'MAE_val': 0.8298080563545227,\n",
       " 'RMSE_val': 0.9391241669654846,\n",
       " 'Loss_val': 2.0146193504333496,\n",
       " 'RegLoss_val': 0.0,\n",
       " 'epoch': 9,\n",
       " 'train_loss': 1.3715811967849731,\n",
       " 'reg_loss': 0.0,\n",
       " 'MAE': 1.0535459518432617,\n",
       " 'RMSE': 1.3467226028442383,\n",
       " 'Loss': 1.3751496076583862,\n",
       " 'RegLoss': 0.0}"
      ]
     },
     "execution_count": 8,
     "metadata": {},
     "output_type": "execute_result"
    }
   ],
   "source": [
    "metrics.to_dict(\"records\")[-1]"
   ]
  },
  {
   "cell_type": "code",
   "execution_count": 9,
   "metadata": {},
   "outputs": [
    {
     "data": {
      "text/html": [
       "<div>\n",
       "<style scoped>\n",
       "    .dataframe tbody tr th:only-of-type {\n",
       "        vertical-align: middle;\n",
       "    }\n",
       "\n",
       "    .dataframe tbody tr th {\n",
       "        vertical-align: top;\n",
       "    }\n",
       "\n",
       "    .dataframe thead th {\n",
       "        text-align: right;\n",
       "    }\n",
       "</style>\n",
       "<table border=\"1\" class=\"dataframe\">\n",
       "  <thead>\n",
       "    <tr style=\"text-align: right;\">\n",
       "      <th></th>\n",
       "      <th>MAE_val</th>\n",
       "      <th>RMSE_val</th>\n",
       "      <th>Loss_val</th>\n",
       "      <th>RegLoss_val</th>\n",
       "      <th>epoch</th>\n",
       "      <th>train_loss</th>\n",
       "      <th>reg_loss</th>\n",
       "      <th>MAE</th>\n",
       "      <th>RMSE</th>\n",
       "      <th>Loss</th>\n",
       "      <th>RegLoss</th>\n",
       "    </tr>\n",
       "  </thead>\n",
       "  <tbody>\n",
       "    <tr>\n",
       "      <th>9</th>\n",
       "      <td>0.829808</td>\n",
       "      <td>0.939124</td>\n",
       "      <td>2.014619</td>\n",
       "      <td>0.0</td>\n",
       "      <td>9</td>\n",
       "      <td>1.371581</td>\n",
       "      <td>0.0</td>\n",
       "      <td>1.053546</td>\n",
       "      <td>1.346723</td>\n",
       "      <td>1.37515</td>\n",
       "      <td>0.0</td>\n",
       "    </tr>\n",
       "  </tbody>\n",
       "</table>\n",
       "</div>"
      ],
      "text/plain": [
       "    MAE_val  RMSE_val  Loss_val  RegLoss_val  epoch  train_loss  reg_loss  \\\n",
       "9  0.829808  0.939124  2.014619          0.0      9    1.371581       0.0   \n",
       "\n",
       "        MAE      RMSE     Loss  RegLoss  \n",
       "9  1.053546  1.346723  1.37515      0.0  "
      ]
     },
     "execution_count": 9,
     "metadata": {},
     "output_type": "execute_result"
    }
   ],
   "source": [
    "metrics.tail(1)"
   ]
  },
  {
   "cell_type": "code",
   "execution_count": 10,
   "metadata": {},
   "outputs": [
    {
     "name": "stderr",
     "output_type": "stream",
     "text": [
      "WARNING - (py.warnings._showwarnmsg) - /home/tabletop/github/neural_prophet/neuralprophet/df_utils.py:1149: FutureWarning:\n",
      "\n",
      "Series.view is deprecated and will be removed in a future version. Use ``astype`` as an alternative to change the dtype.\n",
      "\n",
      "\n",
      "INFO - (NP.df_utils._infer_frequency) - Major frequency h corresponds to 99.932% of the data.\n",
      "WARNING - (py.warnings._showwarnmsg) - /home/tabletop/github/neural_prophet/neuralprophet/df_utils.py:1149: FutureWarning:\n",
      "\n",
      "Series.view is deprecated and will be removed in a future version. Use ``astype`` as an alternative to change the dtype.\n",
      "\n",
      "\n",
      "WARNING - (py.warnings._showwarnmsg) - /home/tabletop/github/neural_prophet/neuralprophet/df_utils.py:1149: FutureWarning:\n",
      "\n",
      "Series.view is deprecated and will be removed in a future version. Use ``astype`` as an alternative to change the dtype.\n",
      "\n",
      "\n",
      "INFO - (NP.df_utils._infer_frequency) - Defined frequency is equal to major frequency - h\n",
      "WARNING - (py.warnings._showwarnmsg) - /home/tabletop/github/neural_prophet/neuralprophet/df_utils.py:1149: FutureWarning:\n",
      "\n",
      "Series.view is deprecated and will be removed in a future version. Use ``astype`` as an alternative to change the dtype.\n",
      "\n",
      "\n",
      "INFO - (NP.df_utils._infer_frequency) - Major frequency h corresponds to 99.932% of the data.\n",
      "WARNING - (py.warnings._showwarnmsg) - /home/tabletop/github/neural_prophet/neuralprophet/df_utils.py:1149: FutureWarning:\n",
      "\n",
      "Series.view is deprecated and will be removed in a future version. Use ``astype`` as an alternative to change the dtype.\n",
      "\n",
      "\n",
      "WARNING - (py.warnings._showwarnmsg) - /home/tabletop/github/neural_prophet/neuralprophet/df_utils.py:1149: FutureWarning:\n",
      "\n",
      "Series.view is deprecated and will be removed in a future version. Use ``astype`` as an alternative to change the dtype.\n",
      "\n",
      "\n",
      "INFO - (NP.df_utils._infer_frequency) - Defined frequency is equal to major frequency - h\n",
      "WARNING - (py.warnings._showwarnmsg) - /home/tabletop/github/neural_prophet/neuralprophet/df_utils.py:1149: FutureWarning:\n",
      "\n",
      "Series.view is deprecated and will be removed in a future version. Use ``astype`` as an alternative to change the dtype.\n",
      "\n",
      "\n",
      "INFO - (NP.df_utils._infer_frequency) - Major frequency h corresponds to 99.932% of the data.\n",
      "WARNING - (py.warnings._showwarnmsg) - /home/tabletop/github/neural_prophet/neuralprophet/df_utils.py:1149: FutureWarning:\n",
      "\n",
      "Series.view is deprecated and will be removed in a future version. Use ``astype`` as an alternative to change the dtype.\n",
      "\n",
      "\n",
      "WARNING - (py.warnings._showwarnmsg) - /home/tabletop/github/neural_prophet/neuralprophet/df_utils.py:1149: FutureWarning:\n",
      "\n",
      "Series.view is deprecated and will be removed in a future version. Use ``astype`` as an alternative to change the dtype.\n",
      "\n",
      "\n",
      "INFO - (NP.df_utils._infer_frequency) - Defined frequency is equal to major frequency - h\n",
      "WARNING - (py.warnings._showwarnmsg) - /home/tabletop/github/neural_prophet/neuralprophet/df_utils.py:1149: FutureWarning:\n",
      "\n",
      "Series.view is deprecated and will be removed in a future version. Use ``astype`` as an alternative to change the dtype.\n",
      "\n",
      "\n",
      "INFO - (NP.df_utils._infer_frequency) - Major frequency h corresponds to 99.932% of the data.\n",
      "WARNING - (py.warnings._showwarnmsg) - /home/tabletop/github/neural_prophet/neuralprophet/df_utils.py:1149: FutureWarning:\n",
      "\n",
      "Series.view is deprecated and will be removed in a future version. Use ``astype`` as an alternative to change the dtype.\n",
      "\n",
      "\n",
      "WARNING - (py.warnings._showwarnmsg) - /home/tabletop/github/neural_prophet/neuralprophet/df_utils.py:1149: FutureWarning:\n",
      "\n",
      "Series.view is deprecated and will be removed in a future version. Use ``astype`` as an alternative to change the dtype.\n",
      "\n",
      "\n",
      "INFO - (NP.df_utils._infer_frequency) - Defined frequency is equal to major frequency - h\n",
      "WARNING - (py.warnings._showwarnmsg) - /home/tabletop/github/neural_prophet/neuralprophet/time_dataset.py:692: UserWarning:\n",
      "\n",
      "To copy construct from a tensor, it is recommended to use sourceTensor.clone().detach() or sourceTensor.clone().detach().requires_grad_(True), rather than torch.tensor(sourceTensor).\n",
      "\n",
      "\n"
     ]
    },
    {
     "data": {
      "application/vnd.jupyter.widget-view+json": {
       "model_id": "abd147333b4244fba6e0e860ab561ce6",
       "version_major": 2,
       "version_minor": 0
      },
      "text/plain": [
       "Predicting: |          | 0/? [00:00<?, ?it/s]"
      ]
     },
     "metadata": {},
     "output_type": "display_data"
    },
    {
     "name": "stderr",
     "output_type": "stream",
     "text": [
      "WARNING - (py.warnings._showwarnmsg) - /home/tabletop/github/neural_prophet/neuralprophet/time_dataset.py:692: UserWarning:\n",
      "\n",
      "To copy construct from a tensor, it is recommended to use sourceTensor.clone().detach() or sourceTensor.clone().detach().requires_grad_(True), rather than torch.tensor(sourceTensor).\n",
      "\n",
      "\n"
     ]
    },
    {
     "data": {
      "application/vnd.jupyter.widget-view+json": {
       "model_id": "3a62bfa1b5104992b79f98302c2a67c0",
       "version_major": 2,
       "version_minor": 0
      },
      "text/plain": [
       "Predicting: |          | 0/? [00:00<?, ?it/s]"
      ]
     },
     "metadata": {},
     "output_type": "display_data"
    }
   ],
   "source": [
    "forecast = m.predict(df)"
   ]
  },
  {
   "cell_type": "code",
   "execution_count": 11,
   "metadata": {},
   "outputs": [
    {
     "name": "stderr",
     "output_type": "stream",
     "text": [
      "INFO - (NP.forecaster.plot) - Plotting data from ID test\n",
      "WARNING - (py.warnings._showwarnmsg) - /home/tabletop/github/neural_prophet/neuralprophet/plot_forecast_plotly.py:100: FutureWarning:\n",
      "\n",
      "The behavior of DatetimeProperties.to_pydatetime is deprecated, in a future version this will return a Series containing python datetime objects instead of an ndarray. To retain the old behavior, call `np.array` on the result\n",
      "\n",
      "\n",
      "WARNING - (py.warnings._showwarnmsg) - /home/tabletop/.cache/pypoetry/virtualenvs/neuralprophet-CT7lk1Bv-py3.10/lib/python3.10/site-packages/plotly_resampler/figure_resampler/utils.py:177: FutureWarning:\n",
      "\n",
      "'H' is deprecated and will be removed in a future version. Please use 'h' instead of 'H'.\n",
      "\n",
      "\n",
      "WARNING - (py.warnings._showwarnmsg) - /home/tabletop/.cache/pypoetry/virtualenvs/neuralprophet-CT7lk1Bv-py3.10/lib/python3.10/site-packages/plotly_resampler/figure_resampler/utils.py:178: FutureWarning:\n",
      "\n",
      "'H' is deprecated and will be removed in a future version, please use 'h' instead.\n",
      "\n",
      "\n",
      "WARNING - (py.warnings._showwarnmsg) - /home/tabletop/.cache/pypoetry/virtualenvs/neuralprophet-CT7lk1Bv-py3.10/lib/python3.10/site-packages/plotly_resampler/figure_resampler/utils.py:177: FutureWarning:\n",
      "\n",
      "'H' is deprecated and will be removed in a future version. Please use 'h' instead of 'H'.\n",
      "\n",
      "\n",
      "WARNING - (py.warnings._showwarnmsg) - /home/tabletop/.cache/pypoetry/virtualenvs/neuralprophet-CT7lk1Bv-py3.10/lib/python3.10/site-packages/plotly_resampler/figure_resampler/utils.py:178: FutureWarning:\n",
      "\n",
      "'H' is deprecated and will be removed in a future version, please use 'h' instead.\n",
      "\n",
      "\n",
      "WARNING - (py.warnings._showwarnmsg) - /home/tabletop/.cache/pypoetry/virtualenvs/neuralprophet-CT7lk1Bv-py3.10/lib/python3.10/site-packages/plotly_resampler/figure_resampler/utils.py:177: FutureWarning:\n",
      "\n",
      "'H' is deprecated and will be removed in a future version. Please use 'h' instead of 'H'.\n",
      "\n",
      "\n",
      "WARNING - (py.warnings._showwarnmsg) - /home/tabletop/.cache/pypoetry/virtualenvs/neuralprophet-CT7lk1Bv-py3.10/lib/python3.10/site-packages/plotly_resampler/figure_resampler/utils.py:178: FutureWarning:\n",
      "\n",
      "'H' is deprecated and will be removed in a future version, please use 'h' instead.\n",
      "\n",
      "\n",
      "WARNING - (py.warnings._showwarnmsg) - /home/tabletop/.cache/pypoetry/virtualenvs/neuralprophet-CT7lk1Bv-py3.10/lib/python3.10/site-packages/plotly_resampler/figure_resampler/utils.py:177: FutureWarning:\n",
      "\n",
      "'H' is deprecated and will be removed in a future version. Please use 'h' instead of 'H'.\n",
      "\n",
      "\n",
      "WARNING - (py.warnings._showwarnmsg) - /home/tabletop/.cache/pypoetry/virtualenvs/neuralprophet-CT7lk1Bv-py3.10/lib/python3.10/site-packages/plotly_resampler/figure_resampler/utils.py:178: FutureWarning:\n",
      "\n",
      "'H' is deprecated and will be removed in a future version, please use 'h' instead.\n",
      "\n",
      "\n",
      "WARNING - (py.warnings._showwarnmsg) - /home/tabletop/.cache/pypoetry/virtualenvs/neuralprophet-CT7lk1Bv-py3.10/lib/python3.10/site-packages/plotly_resampler/figure_resampler/utils.py:177: FutureWarning:\n",
      "\n",
      "'H' is deprecated and will be removed in a future version. Please use 'h' instead of 'H'.\n",
      "\n",
      "\n",
      "WARNING - (py.warnings._showwarnmsg) - /home/tabletop/.cache/pypoetry/virtualenvs/neuralprophet-CT7lk1Bv-py3.10/lib/python3.10/site-packages/plotly_resampler/figure_resampler/utils.py:178: FutureWarning:\n",
      "\n",
      "'H' is deprecated and will be removed in a future version, please use 'h' instead.\n",
      "\n",
      "\n"
     ]
    },
    {
     "data": {
      "application/vnd.jupyter.widget-view+json": {
       "model_id": "f01de7b4f30b431b97b3353b3d8c2686",
       "version_major": 2,
       "version_minor": 0
      },
      "text/plain": [
       "FigureWidgetResampler({\n",
       "    'data': [{'fillcolor': 'rgba(45, 146, 255, 0.2)',\n",
       "              'line': {'color': 'rgba(45, 146, 255, 0.2)', 'width': 1},\n",
       "              'mode': 'lines',\n",
       "              'name': '<b style=\"color:sandybrown\">[R]</b> yhat5 1.0% <i style=\"color:#fc9944\">~1h</i>',\n",
       "              'type': 'scatter',\n",
       "              'uid': '0f472e8d-3931-40ec-842b-d3902dd90c7f',\n",
       "              'x': array([datetime.datetime(2015, 1, 2, 13, 0),\n",
       "                          datetime.datetime(2015, 1, 2, 14, 0),\n",
       "                          datetime.datetime(2015, 1, 2, 15, 0), ...,\n",
       "                          datetime.datetime(2015, 3, 2, 17, 0),\n",
       "                          datetime.datetime(2015, 3, 2, 18, 0),\n",
       "                          datetime.datetime(2015, 3, 2, 20, 0)], dtype=object),\n",
       "              'y': array([-15.375717 , -35.083336 , -22.973457 , ...,  -5.606529 ,   7.961891 ,\n",
       "                            3.7938385], dtype=float32)},\n",
       "             {'fill': 'tonexty',\n",
       "              'fillcolor': 'rgba(45, 146, 255, 0.2)',\n",
       "              'line': {'color': 'rgba(45, 146, 255, 0.2)', 'width': 1},\n",
       "              'mode': 'lines',\n",
       "              'name': '<b style=\"color:sandybrown\">[R]</b> yhat5 99.0% <i style=\"color:#fc9944\">~1h</i>',\n",
       "              'type': 'scatter',\n",
       "              'uid': 'bd2eba39-2e42-4d93-a783-a1a3a3642743',\n",
       "              'x': array([datetime.datetime(2015, 1, 2, 13, 0),\n",
       "                          datetime.datetime(2015, 1, 2, 14, 0),\n",
       "                          datetime.datetime(2015, 1, 2, 15, 0), ...,\n",
       "                          datetime.datetime(2015, 3, 2, 17, 0),\n",
       "                          datetime.datetime(2015, 3, 2, 18, 0),\n",
       "                          datetime.datetime(2015, 3, 2, 20, 0)], dtype=object),\n",
       "              'y': array([31.923584, 29.487762, 39.78112 , ..., 55.727097, 52.426003, 39.000443],\n",
       "                         dtype=float32)},\n",
       "             {'line': {'color': '#2d92ff', 'width': 2},\n",
       "              'mode': 'lines',\n",
       "              'name': '<b style=\"color:sandybrown\">[R]</b> Predicted <i style=\"color:#fc9944\">~1h</i>',\n",
       "              'type': 'scatter',\n",
       "              'uid': '478c4639-805c-421f-8836-0f1aa7be7e40',\n",
       "              'x': array([datetime.datetime(2015, 1, 2, 13, 0),\n",
       "                          datetime.datetime(2015, 1, 2, 14, 0),\n",
       "                          datetime.datetime(2015, 1, 2, 15, 0), ...,\n",
       "                          datetime.datetime(2015, 3, 2, 17, 0),\n",
       "                          datetime.datetime(2015, 3, 2, 18, 0),\n",
       "                          datetime.datetime(2015, 3, 2, 20, 0)], dtype=object),\n",
       "              'y': array([31.923584, 29.487762, 39.78112 , ..., 55.727097, 52.426003, 39.000443],\n",
       "                         dtype=float32)},\n",
       "             {'marker': {'color': 'blue', 'size': 4, 'symbol': 'x'},\n",
       "              'mode': 'markers',\n",
       "              'name': '<b style=\"color:sandybrown\">[R]</b> Predicted <i style=\"color:#fc9944\">~1h</i>',\n",
       "              'type': 'scatter',\n",
       "              'uid': '8e5d4660-de04-418d-a685-aa43e180cdcb',\n",
       "              'x': array([datetime.datetime(2015, 1, 2, 13, 0),\n",
       "                          datetime.datetime(2015, 1, 2, 14, 0),\n",
       "                          datetime.datetime(2015, 1, 2, 15, 0), ...,\n",
       "                          datetime.datetime(2015, 3, 2, 17, 0),\n",
       "                          datetime.datetime(2015, 3, 2, 18, 0),\n",
       "                          datetime.datetime(2015, 3, 2, 20, 0)], dtype=object),\n",
       "              'y': array([31.923584, 29.487762, 39.78112 , ..., 55.727097, 52.426003, 39.000443],\n",
       "                         dtype=float32)},\n",
       "             {'marker': {'color': 'black', 'size': 4},\n",
       "              'mode': 'markers',\n",
       "              'name': '<b style=\"color:sandybrown\">[R]</b> Actual <i style=\"color:#fc9944\">~1h</i>',\n",
       "              'type': 'scatter',\n",
       "              'uid': '39b3c783-2ac7-4e92-bb1a-d11d10d52e56',\n",
       "              'x': array([datetime.datetime(2015, 1, 1, 0, 0),\n",
       "                          datetime.datetime(2015, 1, 1, 1, 0),\n",
       "                          datetime.datetime(2015, 1, 1, 2, 0), ...,\n",
       "                          datetime.datetime(2015, 3, 2, 17, 0),\n",
       "                          datetime.datetime(2015, 3, 2, 18, 0),\n",
       "                          datetime.datetime(2015, 3, 2, 20, 0)], dtype=object),\n",
       "              'y': array([64.92, 58.46, 63.35, ..., 68.61, 60.22, 60.32])}],\n",
       "    'layout': {'autosize': True,\n",
       "               'font': {'size': 10},\n",
       "               'height': 420,\n",
       "               'hovermode': 'x unified',\n",
       "               'margin': {'b': 0, 'l': 0, 'pad': 0, 'r': 10, 't': 10},\n",
       "               'showlegend': True,\n",
       "               'template': '...',\n",
       "               'title': {'font': {'size': 12}},\n",
       "               'width': 700,\n",
       "               'xaxis': {'linewidth': 1.5,\n",
       "                         'mirror': True,\n",
       "                         'rangeselector': {'buttons': [{'count': 7, 'label': '1w', 'step': 'day', 'stepmode': 'backward'},\n",
       "                                                       {'count': 1,\n",
       "                                                        'label': '1m',\n",
       "                                                        'step': 'month',\n",
       "                                                        'stepmode': 'backward'},\n",
       "                                                       {'count': 6,\n",
       "                                                        'label': '6m',\n",
       "                                                        'step': 'month',\n",
       "                                                        'stepmode': 'backward'},\n",
       "                                                       {'count': 1, 'label': '1y', 'step': 'year', 'stepmode': 'backward'},\n",
       "                                                       {'step': 'all'}]},\n",
       "                         'rangeslider': {'visible': True},\n",
       "                         'showline': True,\n",
       "                         'title': {'text': 'ds'},\n",
       "                         'type': 'date'},\n",
       "               'yaxis': {'linewidth': 1.5, 'mirror': True, 'showline': True, 'title': {'text': 'y'}}}\n",
       "})"
      ]
     },
     "execution_count": 11,
     "metadata": {},
     "output_type": "execute_result"
    }
   ],
   "source": [
    "m.highlight_nth_step_ahead_of_each_forecast(m.n_forecasts)\n",
    "m.plot(forecast, df_name=\"test\")"
   ]
  },
  {
   "cell_type": "code",
   "execution_count": 12,
   "metadata": {},
   "outputs": [
    {
     "name": "stderr",
     "output_type": "stream",
     "text": [
      "INFO - (NP.forecaster.plot_components) - Plotting data from ID test\n",
      "WARNING - (py.warnings._showwarnmsg) - /home/tabletop/github/neural_prophet/neuralprophet/plot_forecast_plotly.py:410: FutureWarning:\n",
      "\n",
      "The behavior of DatetimeProperties.to_pydatetime is deprecated, in a future version this will return a Series containing python datetime objects instead of an ndarray. To retain the old behavior, call `np.array` on the result\n",
      "\n",
      "\n",
      "WARNING - (py.warnings._showwarnmsg) - /home/tabletop/.cache/pypoetry/virtualenvs/neuralprophet-CT7lk1Bv-py3.10/lib/python3.10/site-packages/plotly_resampler/figure_resampler/utils.py:177: FutureWarning:\n",
      "\n",
      "'H' is deprecated and will be removed in a future version. Please use 'h' instead of 'H'.\n",
      "\n",
      "\n",
      "WARNING - (py.warnings._showwarnmsg) - /home/tabletop/.cache/pypoetry/virtualenvs/neuralprophet-CT7lk1Bv-py3.10/lib/python3.10/site-packages/plotly_resampler/figure_resampler/utils.py:178: FutureWarning:\n",
      "\n",
      "'H' is deprecated and will be removed in a future version, please use 'h' instead.\n",
      "\n",
      "\n",
      "WARNING - (py.warnings._showwarnmsg) - /home/tabletop/github/neural_prophet/neuralprophet/plot_forecast_plotly.py:410: FutureWarning:\n",
      "\n",
      "The behavior of DatetimeProperties.to_pydatetime is deprecated, in a future version this will return a Series containing python datetime objects instead of an ndarray. To retain the old behavior, call `np.array` on the result\n",
      "\n",
      "\n",
      "WARNING - (py.warnings._showwarnmsg) - /home/tabletop/.cache/pypoetry/virtualenvs/neuralprophet-CT7lk1Bv-py3.10/lib/python3.10/site-packages/plotly_resampler/figure_resampler/utils.py:177: FutureWarning:\n",
      "\n",
      "'H' is deprecated and will be removed in a future version. Please use 'h' instead of 'H'.\n",
      "\n",
      "\n",
      "WARNING - (py.warnings._showwarnmsg) - /home/tabletop/.cache/pypoetry/virtualenvs/neuralprophet-CT7lk1Bv-py3.10/lib/python3.10/site-packages/plotly_resampler/figure_resampler/utils.py:178: FutureWarning:\n",
      "\n",
      "'H' is deprecated and will be removed in a future version, please use 'h' instead.\n",
      "\n",
      "\n",
      "WARNING - (py.warnings._showwarnmsg) - /home/tabletop/github/neural_prophet/neuralprophet/plot_forecast_plotly.py:410: FutureWarning:\n",
      "\n",
      "The behavior of DatetimeProperties.to_pydatetime is deprecated, in a future version this will return a Series containing python datetime objects instead of an ndarray. To retain the old behavior, call `np.array` on the result\n",
      "\n",
      "\n",
      "WARNING - (py.warnings._showwarnmsg) - /home/tabletop/.cache/pypoetry/virtualenvs/neuralprophet-CT7lk1Bv-py3.10/lib/python3.10/site-packages/plotly_resampler/figure_resampler/utils.py:177: FutureWarning:\n",
      "\n",
      "'H' is deprecated and will be removed in a future version. Please use 'h' instead of 'H'.\n",
      "\n",
      "\n",
      "WARNING - (py.warnings._showwarnmsg) - /home/tabletop/.cache/pypoetry/virtualenvs/neuralprophet-CT7lk1Bv-py3.10/lib/python3.10/site-packages/plotly_resampler/figure_resampler/utils.py:178: FutureWarning:\n",
      "\n",
      "'H' is deprecated and will be removed in a future version, please use 'h' instead.\n",
      "\n",
      "\n",
      "WARNING - (py.warnings._showwarnmsg) - /home/tabletop/github/neural_prophet/neuralprophet/plot_forecast_plotly.py:410: FutureWarning:\n",
      "\n",
      "The behavior of DatetimeProperties.to_pydatetime is deprecated, in a future version this will return a Series containing python datetime objects instead of an ndarray. To retain the old behavior, call `np.array` on the result\n",
      "\n",
      "\n",
      "WARNING - (py.warnings._showwarnmsg) - /home/tabletop/.cache/pypoetry/virtualenvs/neuralprophet-CT7lk1Bv-py3.10/lib/python3.10/site-packages/plotly_resampler/figure_resampler/utils.py:177: FutureWarning:\n",
      "\n",
      "'H' is deprecated and will be removed in a future version. Please use 'h' instead of 'H'.\n",
      "\n",
      "\n",
      "WARNING - (py.warnings._showwarnmsg) - /home/tabletop/.cache/pypoetry/virtualenvs/neuralprophet-CT7lk1Bv-py3.10/lib/python3.10/site-packages/plotly_resampler/figure_resampler/utils.py:178: FutureWarning:\n",
      "\n",
      "'H' is deprecated and will be removed in a future version, please use 'h' instead.\n",
      "\n",
      "\n",
      "WARNING - (py.warnings._showwarnmsg) - /home/tabletop/github/neural_prophet/neuralprophet/plot_forecast_plotly.py:410: FutureWarning:\n",
      "\n",
      "The behavior of DatetimeProperties.to_pydatetime is deprecated, in a future version this will return a Series containing python datetime objects instead of an ndarray. To retain the old behavior, call `np.array` on the result\n",
      "\n",
      "\n",
      "WARNING - (py.warnings._showwarnmsg) - /home/tabletop/.cache/pypoetry/virtualenvs/neuralprophet-CT7lk1Bv-py3.10/lib/python3.10/site-packages/plotly_resampler/figure_resampler/utils.py:177: FutureWarning:\n",
      "\n",
      "'H' is deprecated and will be removed in a future version. Please use 'h' instead of 'H'.\n",
      "\n",
      "\n",
      "WARNING - (py.warnings._showwarnmsg) - /home/tabletop/.cache/pypoetry/virtualenvs/neuralprophet-CT7lk1Bv-py3.10/lib/python3.10/site-packages/plotly_resampler/figure_resampler/utils.py:178: FutureWarning:\n",
      "\n",
      "'H' is deprecated and will be removed in a future version, please use 'h' instead.\n",
      "\n",
      "\n",
      "WARNING - (py.warnings._showwarnmsg) - /home/tabletop/github/neural_prophet/neuralprophet/plot_forecast_plotly.py:410: FutureWarning:\n",
      "\n",
      "The behavior of DatetimeProperties.to_pydatetime is deprecated, in a future version this will return a Series containing python datetime objects instead of an ndarray. To retain the old behavior, call `np.array` on the result\n",
      "\n",
      "\n",
      "WARNING - (py.warnings._showwarnmsg) - /home/tabletop/.cache/pypoetry/virtualenvs/neuralprophet-CT7lk1Bv-py3.10/lib/python3.10/site-packages/plotly_resampler/figure_resampler/utils.py:177: FutureWarning:\n",
      "\n",
      "'H' is deprecated and will be removed in a future version. Please use 'h' instead of 'H'.\n",
      "\n",
      "\n",
      "WARNING - (py.warnings._showwarnmsg) - /home/tabletop/.cache/pypoetry/virtualenvs/neuralprophet-CT7lk1Bv-py3.10/lib/python3.10/site-packages/plotly_resampler/figure_resampler/utils.py:178: FutureWarning:\n",
      "\n",
      "'H' is deprecated and will be removed in a future version, please use 'h' instead.\n",
      "\n",
      "\n",
      "WARNING - (py.warnings._showwarnmsg) - /home/tabletop/github/neural_prophet/neuralprophet/plot_forecast_plotly.py:559: FutureWarning:\n",
      "\n",
      "The behavior of DatetimeProperties.to_pydatetime is deprecated, in a future version this will return a Series containing python datetime objects instead of an ndarray. To retain the old behavior, call `np.array` on the result\n",
      "\n",
      "\n",
      "WARNING - (py.warnings._showwarnmsg) - /home/tabletop/.cache/pypoetry/virtualenvs/neuralprophet-CT7lk1Bv-py3.10/lib/python3.10/site-packages/plotly_resampler/figure_resampler/utils.py:177: FutureWarning:\n",
      "\n",
      "'H' is deprecated and will be removed in a future version. Please use 'h' instead of 'H'.\n",
      "\n",
      "\n",
      "WARNING - (py.warnings._showwarnmsg) - /home/tabletop/.cache/pypoetry/virtualenvs/neuralprophet-CT7lk1Bv-py3.10/lib/python3.10/site-packages/plotly_resampler/figure_resampler/utils.py:178: FutureWarning:\n",
      "\n",
      "'H' is deprecated and will be removed in a future version, please use 'h' instead.\n",
      "\n",
      "\n",
      "WARNING - (py.warnings._showwarnmsg) - /home/tabletop/github/neural_prophet/neuralprophet/plot_forecast_plotly.py:410: FutureWarning:\n",
      "\n",
      "The behavior of DatetimeProperties.to_pydatetime is deprecated, in a future version this will return a Series containing python datetime objects instead of an ndarray. To retain the old behavior, call `np.array` on the result\n",
      "\n",
      "\n",
      "WARNING - (py.warnings._showwarnmsg) - /home/tabletop/.cache/pypoetry/virtualenvs/neuralprophet-CT7lk1Bv-py3.10/lib/python3.10/site-packages/plotly_resampler/figure_resampler/utils.py:177: FutureWarning:\n",
      "\n",
      "'H' is deprecated and will be removed in a future version. Please use 'h' instead of 'H'.\n",
      "\n",
      "\n",
      "WARNING - (py.warnings._showwarnmsg) - /home/tabletop/.cache/pypoetry/virtualenvs/neuralprophet-CT7lk1Bv-py3.10/lib/python3.10/site-packages/plotly_resampler/figure_resampler/utils.py:178: FutureWarning:\n",
      "\n",
      "'H' is deprecated and will be removed in a future version, please use 'h' instead.\n",
      "\n",
      "\n",
      "WARNING - (py.warnings._showwarnmsg) - /home/tabletop/github/neural_prophet/neuralprophet/plot_forecast_plotly.py:410: FutureWarning:\n",
      "\n",
      "The behavior of DatetimeProperties.to_pydatetime is deprecated, in a future version this will return a Series containing python datetime objects instead of an ndarray. To retain the old behavior, call `np.array` on the result\n",
      "\n",
      "\n",
      "WARNING - (py.warnings._showwarnmsg) - /home/tabletop/.cache/pypoetry/virtualenvs/neuralprophet-CT7lk1Bv-py3.10/lib/python3.10/site-packages/plotly_resampler/figure_resampler/utils.py:177: FutureWarning:\n",
      "\n",
      "'H' is deprecated and will be removed in a future version. Please use 'h' instead of 'H'.\n",
      "\n",
      "\n",
      "WARNING - (py.warnings._showwarnmsg) - /home/tabletop/.cache/pypoetry/virtualenvs/neuralprophet-CT7lk1Bv-py3.10/lib/python3.10/site-packages/plotly_resampler/figure_resampler/utils.py:178: FutureWarning:\n",
      "\n",
      "'H' is deprecated and will be removed in a future version, please use 'h' instead.\n",
      "\n",
      "\n",
      "WARNING - (py.warnings._showwarnmsg) - /home/tabletop/github/neural_prophet/neuralprophet/plot_forecast_plotly.py:410: FutureWarning:\n",
      "\n",
      "The behavior of DatetimeProperties.to_pydatetime is deprecated, in a future version this will return a Series containing python datetime objects instead of an ndarray. To retain the old behavior, call `np.array` on the result\n",
      "\n",
      "\n",
      "WARNING - (py.warnings._showwarnmsg) - /home/tabletop/.cache/pypoetry/virtualenvs/neuralprophet-CT7lk1Bv-py3.10/lib/python3.10/site-packages/plotly_resampler/figure_resampler/utils.py:177: FutureWarning:\n",
      "\n",
      "'H' is deprecated and will be removed in a future version. Please use 'h' instead of 'H'.\n",
      "\n",
      "\n",
      "WARNING - (py.warnings._showwarnmsg) - /home/tabletop/.cache/pypoetry/virtualenvs/neuralprophet-CT7lk1Bv-py3.10/lib/python3.10/site-packages/plotly_resampler/figure_resampler/utils.py:178: FutureWarning:\n",
      "\n",
      "'H' is deprecated and will be removed in a future version, please use 'h' instead.\n",
      "\n",
      "\n"
     ]
    },
    {
     "data": {
      "application/vnd.jupyter.widget-view+json": {
       "model_id": "c3aa3b2182364855a6dd57d92d26b188",
       "version_major": 2,
       "version_minor": 0
      },
      "text/plain": [
       "FigureWidgetResampler({\n",
       "    'data': [{'line': {'color': '#2d92ff', 'width': 2},\n",
       "              'mode': 'lines',\n",
       "              'name': '<b style=\"color:sandybrown\">[R]</b> Trend <i style=\"color:#fc9944\">~1h</i>',\n",
       "              'showlegend': False,\n",
       "              'type': 'scatter',\n",
       "              'uid': '8afd9c2b-62cb-46cf-b9da-bd117f6aadc6',\n",
       "              'x': array([datetime.datetime(2015, 1, 2, 9, 0),\n",
       "                          datetime.datetime(2015, 1, 2, 10, 0),\n",
       "                          datetime.datetime(2015, 1, 2, 11, 0), ...,\n",
       "                          datetime.datetime(2015, 3, 2, 17, 0),\n",
       "                          datetime.datetime(2015, 3, 2, 18, 0),\n",
       "                          datetime.datetime(2015, 3, 2, 20, 0)], dtype=object),\n",
       "              'xaxis': 'x',\n",
       "              'y': array([45.118847, 45.12286 , 45.126873, ..., 50.832302, 50.836315, 50.84434 ],\n",
       "                         dtype=float32),\n",
       "              'yaxis': 'y'},\n",
       "             {'line': {'color': '#2d92ff', 'width': 2},\n",
       "              'mode': 'lines',\n",
       "              'name': ('<b style=\"color:sandybrown\">[R' ... ' style=\"color:#fc9944\">~1h</i>'),\n",
       "              'showlegend': False,\n",
       "              'type': 'scatter',\n",
       "              'uid': 'd491b3bb-5ab7-4d51-8782-51fbe760fe55',\n",
       "              'x': array([datetime.datetime(2015, 1, 2, 9, 0),\n",
       "                          datetime.datetime(2015, 1, 2, 10, 0),\n",
       "                          datetime.datetime(2015, 1, 2, 11, 0), ...,\n",
       "                          datetime.datetime(2015, 3, 2, 17, 0),\n",
       "                          datetime.datetime(2015, 3, 2, 18, 0),\n",
       "                          datetime.datetime(2015, 3, 2, 20, 0)], dtype=object),\n",
       "              'xaxis': 'x2',\n",
       "              'y': array([4.2724757, 4.277932 , 4.2831407, ..., 3.0124106, 2.9952903, 2.9674723],\n",
       "                         dtype=float32),\n",
       "              'yaxis': 'y2'},\n",
       "             {'line': {'color': '#2d92ff', 'width': 2},\n",
       "              'mode': 'lines',\n",
       "              'name': ('<b style=\"color:sandybrown\">[R' ... ' style=\"color:#fc9944\">~1h</i>'),\n",
       "              'showlegend': False,\n",
       "              'type': 'scatter',\n",
       "              'uid': '2228f11e-ec27-44da-afe3-a7a367df4fb8',\n",
       "              'x': array([datetime.datetime(2015, 1, 2, 9, 0),\n",
       "                          datetime.datetime(2015, 1, 2, 10, 0),\n",
       "                          datetime.datetime(2015, 1, 2, 11, 0), ...,\n",
       "                          datetime.datetime(2015, 3, 2, 17, 0),\n",
       "                          datetime.datetime(2015, 3, 2, 19, 0),\n",
       "                          datetime.datetime(2015, 3, 2, 20, 0)], dtype=object),\n",
       "              'xaxis': 'x3',\n",
       "              'y': array([-6.360024  , -6.2361574 , -6.04062   , ..., -0.17524393, -0.68096423,\n",
       "                          -0.951675  ], dtype=float32),\n",
       "              'yaxis': 'y3'},\n",
       "             {'line': {'color': '#2d92ff', 'width': 2},\n",
       "              'mode': 'lines',\n",
       "              'name': ('<b style=\"color:sandybrown\">[R' ... ' style=\"color:#fc9944\">~1h</i>'),\n",
       "              'showlegend': False,\n",
       "              'type': 'scatter',\n",
       "              'uid': '6502f74d-bf1c-4c6e-89ce-33caec7a779d',\n",
       "              'x': array([datetime.datetime(2015, 1, 2, 9, 0),\n",
       "                          datetime.datetime(2015, 1, 2, 10, 0),\n",
       "                          datetime.datetime(2015, 1, 2, 11, 0), ...,\n",
       "                          datetime.datetime(2015, 3, 2, 17, 0),\n",
       "                          datetime.datetime(2015, 3, 2, 18, 0),\n",
       "                          datetime.datetime(2015, 3, 2, 20, 0)], dtype=object),\n",
       "              'xaxis': 'x4',\n",
       "              'y': array([-0.6189856 ,  1.0478094 , -0.94150484, ...,  0.        ,  0.        ,\n",
       "                           0.        ], dtype=float32),\n",
       "              'yaxis': 'y4'},\n",
       "             {'line': {'color': '#2d92ff', 'width': 2},\n",
       "              'mode': 'lines',\n",
       "              'name': ('<b style=\"color:sandybrown\">[R' ... ' style=\"color:#fc9944\">~1h</i>'),\n",
       "              'showlegend': False,\n",
       "              'type': 'scatter',\n",
       "              'uid': '41f9a971-74fd-4abe-879a-38b10a8e6354',\n",
       "              'x': array([datetime.datetime(2015, 1, 2, 9, 0),\n",
       "                          datetime.datetime(2015, 1, 2, 10, 0),\n",
       "                          datetime.datetime(2015, 1, 2, 11, 0), ...,\n",
       "                          datetime.datetime(2015, 3, 2, 17, 0),\n",
       "                          datetime.datetime(2015, 3, 2, 19, 0),\n",
       "                          datetime.datetime(2015, 3, 2, 20, 0)], dtype=object),\n",
       "              'xaxis': 'x5',\n",
       "              'y': array([  0.      ,   0.      ,   0.      , ...,   2.742541, -12.349686,\n",
       "                          -12.63406 ], dtype=float32),\n",
       "              'yaxis': 'y5'},\n",
       "             {'line': {'color': '#2d92ff', 'width': 2},\n",
       "              'mode': 'lines',\n",
       "              'name': ('<b style=\"color:sandybrown\">[R' ... ' style=\"color:#fc9944\">~1h</i>'),\n",
       "              'showlegend': False,\n",
       "              'type': 'scatter',\n",
       "              'uid': '683da2d1-526e-4dbd-81ca-db6d8026e942',\n",
       "              'x': array([datetime.datetime(2015, 1, 2, 13, 0),\n",
       "                          datetime.datetime(2015, 1, 2, 14, 0),\n",
       "                          datetime.datetime(2015, 1, 2, 15, 0), ...,\n",
       "                          datetime.datetime(2015, 3, 2, 17, 0),\n",
       "                          datetime.datetime(2015, 3, 2, 18, 0),\n",
       "                          datetime.datetime(2015, 3, 2, 20, 0)], dtype=object),\n",
       "              'xaxis': 'x6',\n",
       "              'y': array([ -2.0847676, -11.245036 , -10.022209 , ...,  -5.338226 ,  -4.647217 ,\n",
       "                           -4.156648 ], dtype=float32),\n",
       "              'yaxis': 'y6'},\n",
       "             {'line': {'color': '#2d92ff', 'width': 2},\n",
       "              'mode': 'lines',\n",
       "              'name': ('<b style=\"color:sandybrown\">[R' ... ' style=\"color:#fc9944\">~1h</i>'),\n",
       "              'showlegend': False,\n",
       "              'type': 'scatter',\n",
       "              'uid': '21765c1c-4b8b-4e56-8cc9-e129bec394d5',\n",
       "              'x': array([datetime.datetime(2015, 1, 2, 13, 0),\n",
       "                          datetime.datetime(2015, 1, 2, 14, 0),\n",
       "                          datetime.datetime(2015, 1, 2, 15, 0), ...,\n",
       "                          datetime.datetime(2015, 3, 2, 17, 0),\n",
       "                          datetime.datetime(2015, 3, 2, 19, 0),\n",
       "                          datetime.datetime(2015, 3, 2, 20, 0)], dtype=object),\n",
       "              'xaxis': 'x7',\n",
       "              'y': array([1.0558217, 2.7553616, 6.266397 , ..., 4.6533093, 9.819243 , 0.       ],\n",
       "                         dtype=float32),\n",
       "              'yaxis': 'y7'},\n",
       "             {'line': {'color': '#2d92ff', 'width': 2},\n",
       "              'mode': 'lines',\n",
       "              'name': ('<b style=\"color:sandybrown\">[R' ... ' style=\"color:#fc9944\">~1h</i>'),\n",
       "              'showlegend': False,\n",
       "              'type': 'scatter',\n",
       "              'uid': '089c5b7d-4f26-4ebe-91e1-0f4943efc2e3',\n",
       "              'x': array([datetime.datetime(2015, 1, 2, 9, 0),\n",
       "                          datetime.datetime(2015, 1, 2, 10, 0),\n",
       "                          datetime.datetime(2015, 1, 2, 11, 0), ...,\n",
       "                          datetime.datetime(2015, 3, 2, 17, 0),\n",
       "                          datetime.datetime(2015, 3, 2, 18, 0),\n",
       "                          datetime.datetime(2015, 3, 2, 20, 0)], dtype=object),\n",
       "              'xaxis': 'x8',\n",
       "              'y': array([0., 0., 0., ..., 0., 0., 0.], dtype=float32),\n",
       "              'yaxis': 'y8'},\n",
       "             {'fill': 'tozeroy',\n",
       "              'fillcolor': 'rgba(45, 146, 255, 0.2)',\n",
       "              'line': {'color': 'rgba(45, 146, 255, 0.2)', 'width': 1},\n",
       "              'mode': 'lines',\n",
       "              'name': '<b style=\"color:sandybrown\">[R]</b> yhat5 1.0% <i style=\"color:#fc9944\">~1h</i>',\n",
       "              'showlegend': True,\n",
       "              'type': 'scatter',\n",
       "              'uid': '57a063db-b1cc-4868-8208-9a193411c395',\n",
       "              'x': array([datetime.datetime(2015, 1, 2, 13, 0),\n",
       "                          datetime.datetime(2015, 1, 2, 14, 0),\n",
       "                          datetime.datetime(2015, 1, 2, 15, 0), ...,\n",
       "                          datetime.datetime(2015, 3, 2, 13, 0),\n",
       "                          datetime.datetime(2015, 3, 2, 14, 0),\n",
       "                          datetime.datetime(2015, 3, 2, 16, 0)], dtype=object),\n",
       "              'xaxis': 'x9',\n",
       "              'y': array([-45.265923, -77.71274 , -55.634865, ..., -31.16211 , -29.599195,\n",
       "                          -61.93689 ], dtype=float32),\n",
       "              'yaxis': 'y9'},\n",
       "             {'fill': 'tozeroy',\n",
       "              'fillcolor': 'rgba(45, 146, 255, 0.2)',\n",
       "              'line': {'color': 'rgba(45, 146, 255, 0.2)', 'width': 1},\n",
       "              'mode': 'lines',\n",
       "              'name': '<b style=\"color:sandybrown\">[R]</b> yhat5 99.0% <i style=\"color:#fc9944\">~1h</i>',\n",
       "              'showlegend': True,\n",
       "              'type': 'scatter',\n",
       "              'uid': 'bd0275b8-e4ef-4b65-a4dd-dcedabd36797',\n",
       "              'x': array([datetime.datetime(2015, 1, 2, 13, 0),\n",
       "                          datetime.datetime(2015, 1, 2, 14, 0),\n",
       "                          datetime.datetime(2015, 1, 2, 15, 0), ...,\n",
       "                          datetime.datetime(2015, 3, 2, 13, 0),\n",
       "                          datetime.datetime(2015, 3, 2, 15, 0),\n",
       "                          datetime.datetime(2015, 3, 2, 16, 0)], dtype=object),\n",
       "              'xaxis': 'x9',\n",
       "              'y': array([  2.0333786, -13.141644 ,   7.119713 , ...,   5.760723 ,  -2.4633446,\n",
       "                            2.6906433], dtype=float32),\n",
       "              'yaxis': 'y9'}],\n",
       "    'layout': {'autosize': True,\n",
       "               'barmode': 'overlay',\n",
       "               'font': {'size': 10},\n",
       "               'height': 1890,\n",
       "               'hovermode': 'x unified',\n",
       "               'legend': {'traceorder': 'reversed', 'y': 0.1},\n",
       "               'margin': {'b': 0, 'l': 0, 'pad': 0, 'r': 10, 't': 10},\n",
       "               'template': '...',\n",
       "               'title': {'font': {'size': 12}},\n",
       "               'width': 700,\n",
       "               'xaxis': {'anchor': 'y',\n",
       "                         'domain': [0.0, 1.0],\n",
       "                         'linewidth': 1.5,\n",
       "                         'mirror': True,\n",
       "                         'range': [2014-12-30 10:00:00, 2015-03-05 19:00:00],\n",
       "                         'showline': True,\n",
       "                         'title': {'text': 'ds'},\n",
       "                         'type': 'date'},\n",
       "               'xaxis2': {'anchor': 'y2',\n",
       "                          'domain': [0.0, 1.0],\n",
       "                          'linewidth': 1.5,\n",
       "                          'mirror': True,\n",
       "                          'range': [2014-12-30 10:00:00, 2015-03-05 19:00:00],\n",
       "                          'showline': True,\n",
       "                          'title': {'text': 'ds'},\n",
       "                          'type': 'date'},\n",
       "               'xaxis3': {'anchor': 'y3',\n",
       "                          'domain': [0.0, 1.0],\n",
       "                          'linewidth': 1.5,\n",
       "                          'mirror': True,\n",
       "                          'range': [2014-12-30 10:00:00, 2015-03-05 19:00:00],\n",
       "                          'showline': True,\n",
       "                          'title': {'text': 'ds'},\n",
       "                          'type': 'date'},\n",
       "               'xaxis4': {'anchor': 'y4',\n",
       "                          'domain': [0.0, 1.0],\n",
       "                          'linewidth': 1.5,\n",
       "                          'mirror': True,\n",
       "                          'range': [2014-12-30 10:00:00, 2015-03-05 19:00:00],\n",
       "                          'showline': True,\n",
       "                          'title': {'text': 'ds'},\n",
       "                          'type': 'date'},\n",
       "               'xaxis5': {'anchor': 'y5',\n",
       "                          'domain': [0.0, 1.0],\n",
       "                          'linewidth': 1.5,\n",
       "                          'mirror': True,\n",
       "                          'range': [2014-12-30 10:00:00, 2015-03-05 19:00:00],\n",
       "                          'showline': True,\n",
       "                          'title': {'text': 'ds'},\n",
       "                          'type': 'date'},\n",
       "               'xaxis6': {'anchor': 'y6',\n",
       "                          'domain': [0.0, 1.0],\n",
       "                          'linewidth': 1.5,\n",
       "                          'mirror': True,\n",
       "                          'range': [2014-12-30 14:00:00, 2015-03-05 19:00:00],\n",
       "                          'showline': True,\n",
       "                          'title': {'text': 'ds'},\n",
       "                          'type': 'date'},\n",
       "               'xaxis7': {'anchor': 'y7',\n",
       "                          'domain': [0.0, 1.0],\n",
       "                          'linewidth': 1.5,\n",
       "                          'mirror': True,\n",
       "                          'range': [2014-12-30 14:00:00, 2015-03-05 19:00:00],\n",
       "                          'showline': True,\n",
       "                          'title': {'text': 'ds'},\n",
       "                          'type': 'date'},\n",
       "               'xaxis8': {'anchor': 'y8',\n",
       "                          'domain': [0.0, 1.0],\n",
       "                          'linewidth': 1.5,\n",
       "                          'mirror': True,\n",
       "                          'range': [2014-12-30 10:00:00, 2015-03-05 19:00:00],\n",
       "                          'showline': True,\n",
       "                          'title': {'text': 'ds'},\n",
       "                          'type': 'date'},\n",
       "               'xaxis9': {'anchor': 'y9',\n",
       "                          'domain': [0.0, 1.0],\n",
       "                          'linewidth': 1.5,\n",
       "                          'mirror': True,\n",
       "                          'range': [2014-12-30 14:00:00, 2015-03-05 19:00:00],\n",
       "                          'showline': True,\n",
       "                          'title': {'text': 'ds'},\n",
       "                          'type': 'date'},\n",
       "               'yaxis': {'anchor': 'x',\n",
       "                         'domain': [0.9185185185185185, 1.0],\n",
       "                         'linewidth': 1.5,\n",
       "                         'mirror': True,\n",
       "                         'rangemode': 'normal',\n",
       "                         'showline': True,\n",
       "                         'title': {'text': 'Trend'}},\n",
       "               'yaxis2': {'anchor': 'x2',\n",
       "                          'domain': [0.8037037037037038, 0.8851851851851853],\n",
       "                          'linewidth': 1.5,\n",
       "                          'mirror': True,\n",
       "                          'rangemode': 'tozero',\n",
       "                          'showline': True,\n",
       "                          'title': {'text': 'yearly seasonality'}},\n",
       "               'yaxis3': {'anchor': 'x3',\n",
       "                          'domain': [0.6888888888888889, 0.7703703703703704],\n",
       "                          'linewidth': 1.5,\n",
       "                          'mirror': True,\n",
       "                          'rangemode': 'tozero',\n",
       "                          'showline': True,\n",
       "                          'title': {'text': 'weekly seasonality'}},\n",
       "               'yaxis4': {'anchor': 'x4',\n",
       "                          'domain': [0.5740740740740741, 0.6555555555555556],\n",
       "                          'linewidth': 1.5,\n",
       "                          'mirror': True,\n",
       "                          'rangemode': 'tozero',\n",
       "                          'showline': True,\n",
       "                          'title': {'text': 'winter seasonality'}},\n",
       "               'yaxis5': {'anchor': 'x5',\n",
       "                          'domain': [0.45925925925925926, 0.5407407407407407],\n",
       "                          'linewidth': 1.5,\n",
       "                          'mirror': True,\n",
       "                          'rangemode': 'tozero',\n",
       "                          'showline': True,\n",
       "                          'title': {'text': 'summer seasonality'}},\n",
       "               'yaxis6': {'anchor': 'x6',\n",
       "                          'domain': [0.34444444444444444, 0.42592592592592593],\n",
       "                          'linewidth': 1.5,\n",
       "                          'mirror': True,\n",
       "                          'rangemode': 'tozero',\n",
       "                          'showline': True,\n",
       "                          'title': {'text': 'AR (5)-ahead'}},\n",
       "               'yaxis7': {'anchor': 'x7',\n",
       "                          'domain': [0.22962962962962963, 0.3111111111111111],\n",
       "                          'linewidth': 1.5,\n",
       "                          'mirror': True,\n",
       "                          'rangemode': 'tozero',\n",
       "                          'showline': True,\n",
       "                          'title': {'text': 'Lagged Regressor \"temp\" (5)-ahead'}},\n",
       "               'yaxis8': {'anchor': 'x8',\n",
       "                          'domain': [0.11481481481481481, 0.1962962962962963],\n",
       "                          'linewidth': 1.5,\n",
       "                          'mirror': True,\n",
       "                          'rangemode': 'tozero',\n",
       "                          'showline': True,\n",
       "                          'title': {'text': 'Additive Events'}},\n",
       "               'yaxis9': {'anchor': 'x9',\n",
       "                          'domain': [0.0, 0.08148148148148149],\n",
       "                          'linewidth': 1.5,\n",
       "                          'mirror': True,\n",
       "                          'rangemode': 'tozero',\n",
       "                          'showline': True,\n",
       "                          'title': {'text': 'Uncertainty'}}}\n",
       "})"
      ]
     },
     "execution_count": 12,
     "metadata": {},
     "output_type": "execute_result"
    }
   ],
   "source": [
    "m.plot_components(forecast, df_name=\"test\")"
   ]
  },
  {
   "cell_type": "code",
   "execution_count": 13,
   "metadata": {},
   "outputs": [
    {
     "name": "stderr",
     "output_type": "stream",
     "text": [
      "WARNING - (py.warnings._showwarnmsg) - /home/tabletop/github/neural_prophet/neuralprophet/plot_model_parameters_plotly.py:178: FutureWarning:\n",
      "\n",
      "The behavior of DatetimeProperties.to_pydatetime is deprecated, in a future version this will return a Series containing python datetime objects instead of an ndarray. To retain the old behavior, call `np.array` on the result\n",
      "\n",
      "\n",
      "WARNING - (py.warnings._showwarnmsg) - /home/tabletop/github/neural_prophet/neuralprophet/plot_model_parameters_plotly.py:475: FutureWarning:\n",
      "\n",
      "The behavior of DatetimeProperties.to_pydatetime is deprecated, in a future version this will return a Series containing python datetime objects instead of an ndarray. To retain the old behavior, call `np.array` on the result\n",
      "\n",
      "\n",
      "WARNING - (py.warnings._showwarnmsg) - /home/tabletop/github/neural_prophet/neuralprophet/plot_model_parameters_plotly.py:508: FutureWarning:\n",
      "\n",
      "The behavior of DatetimeProperties.to_pydatetime is deprecated, in a future version this will return a Series containing python datetime objects instead of an ndarray. To retain the old behavior, call `np.array` on the result\n",
      "\n",
      "\n",
      "WARNING - (py.warnings._showwarnmsg) - /home/tabletop/github/neural_prophet/neuralprophet/plot_model_parameters_plotly.py:564: FutureWarning:\n",
      "\n",
      "'H' is deprecated and will be removed in a future version, please use 'h' instead.\n",
      "\n",
      "\n"
     ]
    },
    {
     "data": {
      "application/vnd.jupyter.widget-view+json": {
       "model_id": "d00edbb989d64c0e8f4ad128abd5121d",
       "version_major": 2,
       "version_minor": 0
      },
      "text/plain": [
       "FigureWidgetResampler({\n",
       "    'data': [{'fill': 'none',\n",
       "              'line': {'color': '#2d92ff', 'width': 2},\n",
       "              'mode': 'lines',\n",
       "              'name': 'Trend',\n",
       "              'type': 'scatter',\n",
       "              'uid': 'c4a57947-5fce-4aa9-ac50-1dafd620b2e9',\n",
       "              'x': array([datetime.datetime(2015, 1, 1, 0, 0),\n",
       "                          datetime.datetime(2015, 2, 28, 23, 0)], dtype=object),\n",
       "              'xaxis': 'x',\n",
       "              'y': array([44.986443, 50.663788], dtype=float32),\n",
       "              'yaxis': 'y'},\n",
       "             {'fill': 'none',\n",
       "              'line': {'color': '#2d92ff', 'width': 2},\n",
       "              'mode': 'lines',\n",
       "              'name': 'yearly',\n",
       "              'type': 'scatter',\n",
       "              'uid': '2f8db94a-fecf-45cc-a9f3-264ac82ad7b7',\n",
       "              'x': array([datetime.datetime(2017, 1, 1, 0, 0),\n",
       "                          datetime.datetime(2017, 1, 2, 0, 0),\n",
       "                          datetime.datetime(2017, 1, 3, 0, 0), ...,\n",
       "                          datetime.datetime(2017, 12, 29, 0, 0),\n",
       "                          datetime.datetime(2017, 12, 30, 0, 0),\n",
       "                          datetime.datetime(2017, 12, 31, 0, 0)], dtype=object),\n",
       "              'xaxis': 'x2',\n",
       "              'y': array([4.156685 , 4.008716 , 3.7399096, ..., 3.741331 , 4.0178666, 4.1622863],\n",
       "                         dtype=float32),\n",
       "              'yaxis': 'y2'},\n",
       "             {'fill': 'none',\n",
       "              'line': {'color': '#2d92ff', 'width': 2},\n",
       "              'mode': 'lines',\n",
       "              'name': 'weekly',\n",
       "              'type': 'scatter',\n",
       "              'uid': 'f75097e7-bc0a-4be8-9663-d49b2a9be7e9',\n",
       "              'x': array([  0,   1,   2,   3,   4,   5,   6,   7,   8,   9,  10,  11,  12,  13,\n",
       "                           14,  15,  16,  17,  18,  19,  20,  21,  22,  23,  24,  25,  26,  27,\n",
       "                           28,  29,  30,  31,  32,  33,  34,  35,  36,  37,  38,  39,  40,  41,\n",
       "                           42,  43,  44,  45,  46,  47,  48,  49,  50,  51,  52,  53,  54,  55,\n",
       "                           56,  57,  58,  59,  60,  61,  62,  63,  64,  65,  66,  67,  68,  69,\n",
       "                           70,  71,  72,  73,  74,  75,  76,  77,  78,  79,  80,  81,  82,  83,\n",
       "                           84,  85,  86,  87,  88,  89,  90,  91,  92,  93,  94,  95,  96,  97,\n",
       "                           98,  99, 100, 101, 102, 103, 104, 105, 106, 107, 108, 109, 110, 111,\n",
       "                          112, 113, 114, 115, 116, 117, 118, 119, 120, 121, 122, 123, 124, 125,\n",
       "                          126, 127, 128, 129, 130, 131, 132, 133, 134, 135, 136, 137, 138, 139,\n",
       "                          140, 141, 142, 143, 144, 145, 146, 147, 148, 149, 150, 151, 152, 153,\n",
       "                          154, 155, 156, 157, 158, 159, 160, 161, 162, 163, 164, 165, 166, 167]),\n",
       "              'xaxis': 'x3',\n",
       "              'y': array([ 1.391791  ,  1.5258877 ,  1.6792349 ,  1.8562642 ,  2.0394247 ,\n",
       "                           2.2404115 ,  2.4551697 ,  2.6826897 ,  2.9358835 ,  3.1815054 ,\n",
       "                           3.4400578 ,  3.7049842 ,  3.9879084 ,  4.277275  ,  4.5464516 ,\n",
       "                           4.8153987 ,  5.07863   ,  5.349201  ,  5.5994563 ,  5.8297772 ,\n",
       "                           6.0581393 ,  6.244349  ,  6.4293222 ,  6.584266  ,  6.7048225 ,\n",
       "                           6.796993  ,  6.861701  ,  6.8956547 ,  6.895379  ,  6.8557863 ,\n",
       "                           6.78101   ,  6.675751  ,  6.522954  ,  6.3411875 ,  6.124332  ,\n",
       "                           5.8741636 ,  5.589541  ,  5.257053  ,  4.9091725 ,  4.538206  ,\n",
       "                           4.1433353 ,  3.7214267 ,  3.2801328 ,  2.829382  ,  2.3595853 ,\n",
       "                           1.8662068 ,  1.3673176 ,  0.89529383,  0.41826385, -0.06061759,\n",
       "                          -0.5093681 , -0.98713917, -1.4474032 , -1.8622016 , -2.2607856 ,\n",
       "                          -2.6188028 , -2.9754944 , -3.2915318 , -3.5731025 , -3.8194983 ,\n",
       "                          -4.0445375 , -4.230131  , -4.3740654 , -4.4832726 , -4.552248  ,\n",
       "                          -4.598398  , -4.600944  , -4.570165  , -4.5096326 , -4.415453  ,\n",
       "                          -4.2919707 , -4.1594696 , -3.9919715 , -3.8121579 , -3.6086745 ,\n",
       "                          -3.3993592 , -3.1723168 , -2.9296591 , -2.6987505 , -2.4613705 ,\n",
       "                          -2.2308369 , -2.0005875 , -1.7844186 , -1.5757424 , -1.3716754 ,\n",
       "                          -1.1903827 , -1.0321187 , -0.8927177 , -0.77494335, -0.6736823 ,\n",
       "                          -0.600088  , -0.5510596 , -0.5266437 , -0.52750367, -0.55236495,\n",
       "                          -0.59258753, -0.6633728 , -0.75148875, -0.8628553 , -0.9960426 ,\n",
       "                          -1.140825  , -1.2935942 , -1.4584701 , -1.6384959 , -1.8310778 ,\n",
       "                          -2.0071678 , -2.199288  , -2.383454  , -2.5767555 , -2.763159  ,\n",
       "                          -2.9236434 , -3.0845432 , -3.2274694 , -3.3643992 , -3.4772263 ,\n",
       "                          -3.573151  , -3.6550226 , -3.71116   , -3.7483535 , -3.7640781 ,\n",
       "                          -3.759362  , -3.732831  , -3.6836677 , -3.6116889 , -3.5259597 ,\n",
       "                          -3.4178932 , -3.295802  , -3.152984  , -2.9906476 , -2.8273013 ,\n",
       "                          -2.6527996 , -2.4705598 , -2.267154  , -2.0591342 , -1.8623275 ,\n",
       "                          -1.6648436 , -1.4681892 , -1.2616874 , -1.0673261 , -0.88591146,\n",
       "                          -0.7106802 , -0.5368361 , -0.37239236, -0.22490174, -0.0935105 ,\n",
       "                           0.02904331,  0.1401226 ,  0.24383257,  0.33426642,  0.41001436,\n",
       "                           0.47123942,  0.52750564,  0.57017094,  0.6104162 ,  0.6333694 ,\n",
       "                           0.66995436,  0.69541276,  0.7135638 ,  0.74077713,  0.7568518 ,\n",
       "                           0.79820424,  0.83649653,  0.87729394,  0.9278828 ,  0.98950917,\n",
       "                           1.0756317 ,  1.1707866 ,  1.2736064 ], dtype=float32),\n",
       "              'yaxis': 'y3'},\n",
       "             {'fill': 'none',\n",
       "              'line': {'color': '#2d92ff', 'width': 2},\n",
       "              'mode': 'lines',\n",
       "              'name': 'winter',\n",
       "              'type': 'scatter',\n",
       "              'uid': '30ca1705-d912-4c2c-9e4d-6bc89a92c81a',\n",
       "              'x': array([  0,   1,   2, ..., 285, 286, 287]),\n",
       "              'xaxis': 'x4',\n",
       "              'y': array([ -9.994224 ,  -9.253917 ,  -8.485407 , ..., -11.398036 , -11.11813  ,\n",
       "                          -10.5702505], dtype=float32),\n",
       "              'yaxis': 'y4'},\n",
       "             {'fill': 'none',\n",
       "              'line': {'color': '#2d92ff', 'width': 2},\n",
       "              'mode': 'lines',\n",
       "              'name': 'summer',\n",
       "              'type': 'scatter',\n",
       "              'uid': '217a32cc-0d50-4274-9fda-4c86f2e9946c',\n",
       "              'x': array([  0,   1,   2, ..., 285, 286, 287]),\n",
       "              'xaxis': 'x5',\n",
       "              'y': array([-4.8032146, -4.148358 , -3.5782793, ..., -5.6449375, -5.535998 ,\n",
       "                          -5.2187395], dtype=float32),\n",
       "              'yaxis': 'y5'},\n",
       "             {'marker': {'color': '#2d92ff'},\n",
       "              'name': 'AR',\n",
       "              'type': 'bar',\n",
       "              'uid': '98c7beb5-f685-4279-a089-5f435861c65c',\n",
       "              'width': 0.8,\n",
       "              'x': array([10,  9,  8,  7,  6,  5,  4,  3,  2,  1]),\n",
       "              'xaxis': 'x6',\n",
       "              'y': array([ 0.43352383,  0.91227597, -0.95198816, -0.40500033, -0.20690662,\n",
       "                          -0.5716205 , -0.04570548, -0.60042465,  0.64957386, -0.23974809],\n",
       "                         dtype=float32),\n",
       "              'yaxis': 'y6'},\n",
       "             {'marker': {'color': '#2d92ff'},\n",
       "              'name': 'Lagged Regressor \"temp\"',\n",
       "              'type': 'bar',\n",
       "              'uid': 'a6f7f1dc-e6d7-4e80-88a7-d9bd4eb5a407',\n",
       "              'width': 0.8,\n",
       "              'x': array([33, 32, 31, 30, 29, 28, 27, 26, 25, 24, 23, 22, 21, 20, 19, 18, 17, 16,\n",
       "                          15, 14, 13, 12, 11, 10,  9,  8,  7,  6,  5,  4,  3,  2,  1]),\n",
       "              'xaxis': 'x7',\n",
       "              'y': array([ 0.1342093 ,  0.03340701, -0.3030344 , -0.17586076, -0.09225646,\n",
       "                           0.13190955, -0.09886458, -0.17618474, -0.17881632,  0.07780991,\n",
       "                           0.05573834, -0.04498276,  0.02436313, -0.10179332,  0.10800336,\n",
       "                          -0.04481242, -0.06880342,  0.24861242, -0.12319569,  0.40785006,\n",
       "                          -0.17237887, -0.2162305 ,  0.1412588 ,  0.00572657,  0.04435053,\n",
       "                          -0.25764507,  0.22107005, -0.01027014, -0.14096323,  0.0986762 ,\n",
       "                          -0.09228688,  0.45199636,  0.23324972], dtype=float32),\n",
       "              'yaxis': 'y7'},\n",
       "             {'marker': {'color': '#2d92ff'},\n",
       "              'name': 'Additive event',\n",
       "              'type': 'bar',\n",
       "              'uid': '8b6d6ad4-0b5c-406c-b3ca-d4ac4c5bb6fe',\n",
       "              'width': 0.8,\n",
       "              'x': array(['Veterans Day_+0', 'Veterans Day_+1', 'Veterans Day_-1',\n",
       "                          \"New Year's Day_+0\", \"New Year's Day_+1\", \"New Year's Day_-1\",\n",
       "                          'Labor Day_+0', 'Labor Day_+1', 'Labor Day_-1',\n",
       "                          \"Washington's Birthday_+0\", \"Washington's Birthday_+1\",\n",
       "                          \"Washington's Birthday_-1\", 'Independence Day_+0',\n",
       "                          'Independence Day_+1', 'Independence Day_-1',\n",
       "                          'Martin Luther King Jr. Day_+0', 'Martin Luther King Jr. Day_+1',\n",
       "                          'Martin Luther King Jr. Day_-1', 'Thanksgiving_+0', 'Thanksgiving_+1',\n",
       "                          'Thanksgiving_-1', 'Christmas Day_+0', 'Christmas Day_+1',\n",
       "                          'Christmas Day_-1', 'Columbus Day_+0', 'Columbus Day_+1',\n",
       "                          'Columbus Day_-1', 'Memorial Day_+0', 'Memorial Day_+1',\n",
       "                          'Memorial Day_-1'], dtype=object),\n",
       "              'xaxis': 'x8',\n",
       "              'y': [-0.5818150043487549, 1.41917085647583, -0.444327712059021,\n",
       "                    -0.49767136573791504, 0.6451370716094971, -2.0712969303131104,\n",
       "                    0.7729998826980591, -0.3807811141014099, 2.18367862701416,\n",
       "                    -2.0048325061798096, -0.09419155865907669, -0.629780113697052,\n",
       "                    1.8640313148498535, -4.3432936668396, -2.4195406436920166,\n",
       "                    -0.7208139300346375, -1.694814920425415, 2.2192749977111816,\n",
       "                    1.3009229898452759, -3.072805881500244, -0.42180103063583374,\n",
       "                    -2.2558043003082275, 1.0419955253601074, 6.730881690979004,\n",
       "                    1.1950528621673584, 1.6051987409591675, 0.9189518690109253,\n",
       "                    -1.9215060472488403, 0.3892437815666199, -2.9500598907470703],\n",
       "              'yaxis': 'y8'}],\n",
       "    'layout': {'autosize': True,\n",
       "               'font': {'size': 10},\n",
       "               'height': 1680,\n",
       "               'hovermode': 'x unified',\n",
       "               'margin': {'b': 0, 'l': 0, 'pad': 0, 'r': 10, 't': 10},\n",
       "               'showlegend': False,\n",
       "               'template': '...',\n",
       "               'title': {'font': {'size': 12}},\n",
       "               'width': 700,\n",
       "               'xaxis': {'anchor': 'y',\n",
       "                         'domain': [0.0, 1.0],\n",
       "                         'linewidth': 1.5,\n",
       "                         'mirror': True,\n",
       "                         'range': [2014-12-29 00:00:00, 2015-03-03 00:00:00],\n",
       "                         'showline': True,\n",
       "                         'title': {'text': 'ds'},\n",
       "                         'type': 'date'},\n",
       "               'xaxis2': {'anchor': 'y2',\n",
       "                          'domain': [0.0, 1.0],\n",
       "                          'linewidth': 1.5,\n",
       "                          'mirror': True,\n",
       "                          'range': [2016-12-14 00:00:00, 2018-01-18 00:00:00],\n",
       "                          'showline': True,\n",
       "                          'tickformat': '%B %e',\n",
       "                          'title': {'text': 'Day of year'}},\n",
       "               'xaxis3': {'anchor': 'y3',\n",
       "                          'domain': [0.0, 1.0],\n",
       "                          'linewidth': 1.5,\n",
       "                          'mirror': True,\n",
       "                          'range': [-8, 175],\n",
       "                          'showline': True,\n",
       "                          'tickmode': 'array',\n",
       "                          'ticktext': [Sunday, Monday, Tuesday, Wednesday,\n",
       "                                       Thursday, Friday, Saturday, Sunday, Sunday],\n",
       "                          'tickvals': [0, 24, 48, 72, 96, 120, 144, 168, 192],\n",
       "                          'title': {'text': 'Day of week'}},\n",
       "               'xaxis4': {'anchor': 'y4',\n",
       "                          'domain': [0.0, 1.0],\n",
       "                          'linewidth': 1.5,\n",
       "                          'mirror': True,\n",
       "                          'range': [-14, 301],\n",
       "                          'showline': True,\n",
       "                          'tickmode': 'array',\n",
       "                          'ticktext': [0, 1, 2, 3, 4, 5, 6, 7, 8, 9, 10, 11, 12,\n",
       "                                       13, 14, 15, 16, 17, 18, 19, 20, 21, 22, 23,\n",
       "                                       24],\n",
       "                          'tickvals': [0, 12, 24, 36, 48, 60, 72, 84, 96, 108,\n",
       "                                       120, 132, 144, 156, 168, 180, 192, 204, 216,\n",
       "                                       228, 240, 252, 264, 276, 288],\n",
       "                          'title': {'text': 'Hour of day'}},\n",
       "               'xaxis5': {'anchor': 'y5',\n",
       "                          'domain': [0.0, 1.0],\n",
       "                          'linewidth': 1.5,\n",
       "                          'mirror': True,\n",
       "                          'range': [-14, 301],\n",
       "                          'showline': True,\n",
       "                          'tickmode': 'array',\n",
       "                          'ticktext': [0, 1, 2, 3, 4, 5, 6, 7, 8, 9, 10, 11, 12,\n",
       "                                       13, 14, 15, 16, 17, 18, 19, 20, 21, 22, 23,\n",
       "                                       24],\n",
       "                          'tickvals': [0, 12, 24, 36, 48, 60, 72, 84, 96, 108,\n",
       "                                       120, 132, 144, 156, 168, 180, 192, 204, 216,\n",
       "                                       228, 240, 252, 264, 276, 288],\n",
       "                          'title': {'text': 'Hour of day'}},\n",
       "               'xaxis6': {'anchor': 'y6',\n",
       "                          'domain': [0.0, 1.0],\n",
       "                          'linewidth': 1.5,\n",
       "                          'mirror': True,\n",
       "                          'range': [0, 11],\n",
       "                          'showline': True,\n",
       "                          'title': {'text': 'AR lag number'}},\n",
       "               'xaxis7': {'anchor': 'y7',\n",
       "                          'domain': [0.0, 1.0],\n",
       "                          'linewidth': 1.5,\n",
       "                          'mirror': True,\n",
       "                          'range': [-2, 36],\n",
       "                          'showline': True,\n",
       "                          'title': {'text': 'Lagged Regressor \"temp\" lag number'}},\n",
       "               'xaxis8': {'anchor': 'y8',\n",
       "                          'domain': [0.0, 1.0],\n",
       "                          'linewidth': 1.5,\n",
       "                          'mirror': True,\n",
       "                          'showline': True,\n",
       "                          'title': {'text': 'Additive event name'}},\n",
       "               'yaxis': {'anchor': 'x',\n",
       "                         'domain': [0.9078124999999999, 0.9999999999999999],\n",
       "                         'linewidth': 1.5,\n",
       "                         'mirror': True,\n",
       "                         'rangemode': 'normal',\n",
       "                         'showline': True,\n",
       "                         'title': {'text': 'Trend'}},\n",
       "               'yaxis2': {'anchor': 'x2',\n",
       "                          'domain': [0.778125, 0.8703124999999999],\n",
       "                          'linewidth': 1.5,\n",
       "                          'mirror': True,\n",
       "                          'rangemode': 'normal',\n",
       "                          'showline': True,\n",
       "                          'title': {'text': 'Seasonality: yearly'}},\n",
       "               'yaxis3': {'anchor': 'x3',\n",
       "                          'domain': [0.6484375, 0.740625],\n",
       "                          'linewidth': 1.5,\n",
       "                          'mirror': True,\n",
       "                          'rangemode': 'normal',\n",
       "                          'showline': True,\n",
       "                          'title': {'text': 'Seasonality: weekly'}},\n",
       "               'yaxis4': {'anchor': 'x4',\n",
       "                          'domain': [0.51875, 0.6109375],\n",
       "                          'linewidth': 1.5,\n",
       "                          'mirror': True,\n",
       "                          'rangemode': 'normal',\n",
       "                          'showline': True,\n",
       "                          'title': {'text': 'Seasonality: winter'}},\n",
       "               'yaxis5': {'anchor': 'x5',\n",
       "                          'domain': [0.38906250000000003, 0.48125000000000007],\n",
       "                          'linewidth': 1.5,\n",
       "                          'mirror': True,\n",
       "                          'rangemode': 'normal',\n",
       "                          'showline': True,\n",
       "                          'title': {'text': 'Seasonality: summer'}},\n",
       "               'yaxis6': {'anchor': 'x6',\n",
       "                          'domain': [0.259375, 0.3515625],\n",
       "                          'linewidth': 1.5,\n",
       "                          'mirror': True,\n",
       "                          'rangemode': 'normal',\n",
       "                          'showline': True,\n",
       "                          'title': {'text': 'AR weight (5)-ahead'}},\n",
       "               'yaxis7': {'anchor': 'x7',\n",
       "                          'domain': [0.1296875, 0.22187500000000002],\n",
       "                          'linewidth': 1.5,\n",
       "                          'mirror': True,\n",
       "                          'rangemode': 'normal',\n",
       "                          'showline': True,\n",
       "                          'title': {'text': 'Lagged Regressor \"temp\" weight (5)-ahead'}},\n",
       "               'yaxis8': {'anchor': 'x8',\n",
       "                          'domain': [0.0, 0.0921875],\n",
       "                          'linewidth': 1.5,\n",
       "                          'mirror': True,\n",
       "                          'rangemode': 'normal',\n",
       "                          'showline': True,\n",
       "                          'title': {'text': 'Additive event weight'}}}\n",
       "})"
      ]
     },
     "execution_count": 13,
     "metadata": {},
     "output_type": "execute_result"
    }
   ],
   "source": [
    "m.plot_parameters()"
   ]
  },
  {
   "cell_type": "code",
   "execution_count": null,
   "metadata": {},
   "outputs": [],
   "source": []
  }
 ],
 "metadata": {
  "kernelspec": {
   "display_name": ".venv",
   "language": "python",
   "name": "python3"
  },
  "language_info": {
   "codemirror_mode": {
    "name": "ipython",
    "version": 3
   },
   "file_extension": ".py",
   "mimetype": "text/x-python",
   "name": "python",
   "nbconvert_exporter": "python",
   "pygments_lexer": "ipython3",
   "version": "3.10.12"
  }
 },
 "nbformat": 4,
 "nbformat_minor": 2
}
