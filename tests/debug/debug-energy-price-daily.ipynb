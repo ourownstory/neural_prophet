{
 "cells": [
  {
   "cell_type": "code",
   "execution_count": 27,
   "metadata": {},
   "outputs": [],
   "source": [
    "import os\n",
    "import pathlib\n",
    "\n",
    "import numpy as np\n",
    "import pandas as pd\n",
    "import plotly.graph_objects as go\n",
    "from plotly.subplots import make_subplots\n",
    "from plotly_resampler import unregister_plotly_resampler\n",
    "\n",
    "from neuralprophet import NeuralProphet, set_random_seed"
   ]
  },
  {
   "cell_type": "code",
   "execution_count": 28,
   "metadata": {},
   "outputs": [],
   "source": [
    "def create_metrics_plot(metrics):\n",
    "    # Deactivate the resampler since it is not compatible with kaleido (image export)\n",
    "    unregister_plotly_resampler()\n",
    "\n",
    "    # Plotly params\n",
    "    prediction_color = \"#2d92ff\"\n",
    "    actual_color = \"black\"\n",
    "    line_width = 2\n",
    "    xaxis_args = {\"showline\": True, \"mirror\": True, \"linewidth\": 1.5, \"showgrid\": False}\n",
    "    yaxis_args = {\n",
    "        \"showline\": True,\n",
    "        \"mirror\": True,\n",
    "        \"linewidth\": 1.5,\n",
    "        \"showgrid\": False,\n",
    "        \"rangemode\": \"tozero\",\n",
    "        \"type\": \"log\",\n",
    "    }\n",
    "    layout_args = {\n",
    "        \"autosize\": True,\n",
    "        \"template\": \"plotly_white\",\n",
    "        \"margin\": go.layout.Margin(l=0, r=10, b=0, t=30, pad=0),\n",
    "        \"font\": dict(size=10),\n",
    "        \"title\": dict(font=dict(size=10)),\n",
    "        \"width\": 1000,\n",
    "        \"height\": 200,\n",
    "    }\n",
    "\n",
    "    metric_cols = [col for col in metrics.columns if not (\"_val\" in col or col == \"RegLoss\" or col == \"epoch\")]\n",
    "    fig = make_subplots(rows=1, cols=len(metric_cols), subplot_titles=metric_cols)\n",
    "    for i, metric in enumerate(metric_cols):\n",
    "        fig.add_trace(\n",
    "            go.Scatter(\n",
    "                y=metrics[metric],\n",
    "                name=metric,\n",
    "                mode=\"lines\",\n",
    "                line=dict(color=prediction_color, width=line_width),\n",
    "                legendgroup=metric,\n",
    "            ),\n",
    "            row=1,\n",
    "            col=i + 1,\n",
    "        )\n",
    "        if f\"{metric}_val\" in metrics.columns:\n",
    "            fig.add_trace(\n",
    "                go.Scatter(\n",
    "                    y=metrics[f\"{metric}_val\"],\n",
    "                    name=f\"{metric}_val\",\n",
    "                    mode=\"lines\",\n",
    "                    line=dict(color=actual_color, width=line_width),\n",
    "                    legendgroup=metric,\n",
    "                ),\n",
    "                row=1,\n",
    "                col=i + 1,\n",
    "            )\n",
    "        if metric == \"Loss\":\n",
    "            fig.add_trace(\n",
    "                go.Scatter(\n",
    "                    y=metrics[\"RegLoss\"],\n",
    "                    name=\"RegLoss\",\n",
    "                    mode=\"lines\",\n",
    "                    line=dict(color=actual_color, width=line_width),\n",
    "                    legendgroup=metric,\n",
    "                ),\n",
    "                row=1,\n",
    "                col=i + 1,\n",
    "            )\n",
    "    fig.update_xaxes(xaxis_args)\n",
    "    fig.update_yaxes(yaxis_args)\n",
    "    fig.update_layout(layout_args)\n",
    "    return fig"
   ]
  },
  {
   "cell_type": "code",
   "execution_count": 29,
   "metadata": {},
   "outputs": [],
   "source": [
    "DIR = \"~/github/neural_prophet\"\n",
    "DATA_DIR = os.path.join(DIR, \"tests\", \"test-data\")\n",
    "PEYTON_FILE = os.path.join(DATA_DIR, \"wp_log_peyton_manning.csv\")\n",
    "AIR_FILE = os.path.join(DATA_DIR, \"air_passengers.csv\")\n",
    "YOS_FILE = os.path.join(DATA_DIR, \"yosemite_temps.csv\")\n",
    "ENERGY_PRICE_DAILY_FILE = os.path.join(DATA_DIR, \"tutorial04_kaggle_energy_daily_temperature.csv\")"
   ]
  },
  {
   "cell_type": "code",
   "execution_count": 30,
   "metadata": {},
   "outputs": [],
   "source": [
    "df = pd.read_csv(ENERGY_PRICE_DAILY_FILE)\n",
    "df[\"temp\"] = df[\"temperature\"]"
   ]
  },
  {
   "cell_type": "code",
   "execution_count": 31,
   "metadata": {},
   "outputs": [
    {
     "data": {
      "text/plain": [
       "<neuralprophet.forecaster.NeuralProphet at 0x7f7fdfeb9690>"
      ]
     },
     "execution_count": 31,
     "metadata": {},
     "output_type": "execute_result"
    }
   ],
   "source": [
    "m = NeuralProphet(\n",
    "    n_forecasts=7,\n",
    "    n_changepoints=0,\n",
    "    yearly_seasonality=True,\n",
    "    weekly_seasonality=True,\n",
    "    daily_seasonality=False,\n",
    "    n_lags=14,\n",
    ")\n",
    "m.add_lagged_regressor(\"temp\", n_lags=3)\n",
    "m.add_future_regressor(\"temperature\")"
   ]
  },
  {
   "cell_type": "code",
   "execution_count": 32,
   "metadata": {},
   "outputs": [
    {
     "name": "stderr",
     "output_type": "stream",
     "text": [
      "INFO - (NP.df_utils._infer_frequency) - Major frequency D corresponds to 99.932% of the data.\n",
      "INFO - (NP.df_utils._infer_frequency) - Defined frequency is equal to major frequency - D\n"
     ]
    },
    {
     "name": "stderr",
     "output_type": "stream",
     "text": [
      "INFO - (NP.df_utils.return_df_in_original_format) - Returning df with no ID column\n",
      "INFO - (NP.df_utils.return_df_in_original_format) - Returning df with no ID column\n",
      "WARNING - (NP.forecaster.fit) - When Global modeling with local normalization, metrics are displayed in normalized scale.\n",
      "INFO - (NP.df_utils._infer_frequency) - Major frequency D corresponds to 99.924% of the data.\n",
      "INFO - (NP.df_utils._infer_frequency) - Defined frequency is equal to major frequency - D\n",
      "INFO - (NP.config.init_data_params) - Setting normalization to global as only one dataframe provided for training.\n",
      "INFO - (NP.config.set_auto_batch_epoch) - Auto-set batch_size to 32\n",
      "INFO - (NP.config.set_auto_batch_epoch) - Auto-set epochs to 179\n",
      "WARNING - (NP.config.set_lr_finder_args) - Learning rate finder: The number of batches (41) is too small than the required number                     for the learning rate finder (228). The results might not be optimal.\n"
     ]
    },
    {
     "data": {
      "application/vnd.jupyter.widget-view+json": {
       "model_id": "e4fec661564844fa9e06d8185793742c",
       "version_major": 2,
       "version_minor": 0
      },
      "text/plain": [
       "Finding best initial lr:   0%|          | 0/228 [00:00<?, ?it/s]"
      ]
     },
     "metadata": {},
     "output_type": "display_data"
    },
    {
     "data": {
      "application/vnd.jupyter.widget-view+json": {
       "model_id": "8cec366842004104a4eada9a9bd0007c",
       "version_major": 2,
       "version_minor": 0
      },
      "text/plain": [
       "Training: 0it [00:00, ?it/s]"
      ]
     },
     "metadata": {},
     "output_type": "display_data"
    },
    {
     "data": {
      "application/vnd.jupyter.widget-view+json": {
       "model_id": "cf29dd3b2d4a4765920dcb07ea84d724",
       "version_major": 2,
       "version_minor": 0
      },
      "text/plain": [
       "Validation: 0it [00:00, ?it/s]"
      ]
     },
     "metadata": {},
     "output_type": "display_data"
    },
    {
     "data": {
      "application/vnd.jupyter.widget-view+json": {
       "model_id": "c95ce7da26d04f9192f4165fc8883fa1",
       "version_major": 2,
       "version_minor": 0
      },
      "text/plain": [
       "Validation: 0it [00:00, ?it/s]"
      ]
     },
     "metadata": {},
     "output_type": "display_data"
    },
    {
     "data": {
      "application/vnd.jupyter.widget-view+json": {
       "model_id": "1292ce1fa2df4c6b8a2dd318ef1d938a",
       "version_major": 2,
       "version_minor": 0
      },
      "text/plain": [
       "Validation: 0it [00:00, ?it/s]"
      ]
     },
     "metadata": {},
     "output_type": "display_data"
    },
    {
     "data": {
      "application/vnd.jupyter.widget-view+json": {
       "model_id": "064a871e596d4c029376863db63879f9",
       "version_major": 2,
       "version_minor": 0
      },
      "text/plain": [
       "Validation: 0it [00:00, ?it/s]"
      ]
     },
     "metadata": {},
     "output_type": "display_data"
    },
    {
     "data": {
      "application/vnd.jupyter.widget-view+json": {
       "model_id": "928de34019b049ca9060b13e43c7c513",
       "version_major": 2,
       "version_minor": 0
      },
      "text/plain": [
       "Validation: 0it [00:00, ?it/s]"
      ]
     },
     "metadata": {},
     "output_type": "display_data"
    },
    {
     "data": {
      "application/vnd.jupyter.widget-view+json": {
       "model_id": "4efcfe46d41d4ee597f9cdbea24f1ecd",
       "version_major": 2,
       "version_minor": 0
      },
      "text/plain": [
       "Validation: 0it [00:00, ?it/s]"
      ]
     },
     "metadata": {},
     "output_type": "display_data"
    },
    {
     "data": {
      "application/vnd.jupyter.widget-view+json": {
       "model_id": "7cb2686bd59144efba0fbc752db65f91",
       "version_major": 2,
       "version_minor": 0
      },
      "text/plain": [
       "Validation: 0it [00:00, ?it/s]"
      ]
     },
     "metadata": {},
     "output_type": "display_data"
    },
    {
     "data": {
      "application/vnd.jupyter.widget-view+json": {
       "model_id": "56c4474f6ca74432803150a8b8b84eee",
       "version_major": 2,
       "version_minor": 0
      },
      "text/plain": [
       "Validation: 0it [00:00, ?it/s]"
      ]
     },
     "metadata": {},
     "output_type": "display_data"
    },
    {
     "data": {
      "application/vnd.jupyter.widget-view+json": {
       "model_id": "fede557e6bc74987a91f24216cd30625",
       "version_major": 2,
       "version_minor": 0
      },
      "text/plain": [
       "Validation: 0it [00:00, ?it/s]"
      ]
     },
     "metadata": {},
     "output_type": "display_data"
    },
    {
     "data": {
      "application/vnd.jupyter.widget-view+json": {
       "model_id": "c4ad5f3da44544e28a14a2a6ae326dc8",
       "version_major": 2,
       "version_minor": 0
      },
      "text/plain": [
       "Validation: 0it [00:00, ?it/s]"
      ]
     },
     "metadata": {},
     "output_type": "display_data"
    },
    {
     "data": {
      "application/vnd.jupyter.widget-view+json": {
       "model_id": "ee43b4711cd64104906131b4ccbfcd47",
       "version_major": 2,
       "version_minor": 0
      },
      "text/plain": [
       "Validation: 0it [00:00, ?it/s]"
      ]
     },
     "metadata": {},
     "output_type": "display_data"
    },
    {
     "data": {
      "application/vnd.jupyter.widget-view+json": {
       "model_id": "511620b9db2b454eab6e5feb8892e56c",
       "version_major": 2,
       "version_minor": 0
      },
      "text/plain": [
       "Validation: 0it [00:00, ?it/s]"
      ]
     },
     "metadata": {},
     "output_type": "display_data"
    },
    {
     "data": {
      "application/vnd.jupyter.widget-view+json": {
       "model_id": "c0fc1252519544c291d8e0f2a4c8185a",
       "version_major": 2,
       "version_minor": 0
      },
      "text/plain": [
       "Validation: 0it [00:00, ?it/s]"
      ]
     },
     "metadata": {},
     "output_type": "display_data"
    },
    {
     "data": {
      "application/vnd.jupyter.widget-view+json": {
       "model_id": "50a151a8f659439dbda9b10cf0dba676",
       "version_major": 2,
       "version_minor": 0
      },
      "text/plain": [
       "Validation: 0it [00:00, ?it/s]"
      ]
     },
     "metadata": {},
     "output_type": "display_data"
    },
    {
     "data": {
      "application/vnd.jupyter.widget-view+json": {
       "model_id": "18e1abf93e254725b0a27f34fe434d88",
       "version_major": 2,
       "version_minor": 0
      },
      "text/plain": [
       "Validation: 0it [00:00, ?it/s]"
      ]
     },
     "metadata": {},
     "output_type": "display_data"
    },
    {
     "data": {
      "application/vnd.jupyter.widget-view+json": {
       "model_id": "d63f4ebcd2804847863ae435826867b8",
       "version_major": 2,
       "version_minor": 0
      },
      "text/plain": [
       "Validation: 0it [00:00, ?it/s]"
      ]
     },
     "metadata": {},
     "output_type": "display_data"
    },
    {
     "data": {
      "application/vnd.jupyter.widget-view+json": {
       "model_id": "dc7f4510ff064e00a81a32007d454331",
       "version_major": 2,
       "version_minor": 0
      },
      "text/plain": [
       "Validation: 0it [00:00, ?it/s]"
      ]
     },
     "metadata": {},
     "output_type": "display_data"
    },
    {
     "data": {
      "application/vnd.jupyter.widget-view+json": {
       "model_id": "2a4066ba42874ef79d49c4f834dfd4cd",
       "version_major": 2,
       "version_minor": 0
      },
      "text/plain": [
       "Validation: 0it [00:00, ?it/s]"
      ]
     },
     "metadata": {},
     "output_type": "display_data"
    },
    {
     "data": {
      "application/vnd.jupyter.widget-view+json": {
       "model_id": "102282b74ebd4a40a3559fa8ba950e8d",
       "version_major": 2,
       "version_minor": 0
      },
      "text/plain": [
       "Validation: 0it [00:00, ?it/s]"
      ]
     },
     "metadata": {},
     "output_type": "display_data"
    },
    {
     "data": {
      "application/vnd.jupyter.widget-view+json": {
       "model_id": "a80ab625dc424c9d939a87caa3c8e703",
       "version_major": 2,
       "version_minor": 0
      },
      "text/plain": [
       "Validation: 0it [00:00, ?it/s]"
      ]
     },
     "metadata": {},
     "output_type": "display_data"
    },
    {
     "data": {
      "application/vnd.jupyter.widget-view+json": {
       "model_id": "34d94f7776644c2eb67f9fb44c7bd789",
       "version_major": 2,
       "version_minor": 0
      },
      "text/plain": [
       "Validation: 0it [00:00, ?it/s]"
      ]
     },
     "metadata": {},
     "output_type": "display_data"
    },
    {
     "data": {
      "application/vnd.jupyter.widget-view+json": {
       "model_id": "e714dd4f4d014018a38ebe1b38ffe436",
       "version_major": 2,
       "version_minor": 0
      },
      "text/plain": [
       "Validation: 0it [00:00, ?it/s]"
      ]
     },
     "metadata": {},
     "output_type": "display_data"
    },
    {
     "data": {
      "application/vnd.jupyter.widget-view+json": {
       "model_id": "9388d6ccf3bc454e9d903223dccf418e",
       "version_major": 2,
       "version_minor": 0
      },
      "text/plain": [
       "Validation: 0it [00:00, ?it/s]"
      ]
     },
     "metadata": {},
     "output_type": "display_data"
    },
    {
     "data": {
      "application/vnd.jupyter.widget-view+json": {
       "model_id": "908bbeb6db204d24a6232e124a935ffc",
       "version_major": 2,
       "version_minor": 0
      },
      "text/plain": [
       "Validation: 0it [00:00, ?it/s]"
      ]
     },
     "metadata": {},
     "output_type": "display_data"
    },
    {
     "data": {
      "application/vnd.jupyter.widget-view+json": {
       "model_id": "a56d8071810841fd835ab3b10de76cff",
       "version_major": 2,
       "version_minor": 0
      },
      "text/plain": [
       "Validation: 0it [00:00, ?it/s]"
      ]
     },
     "metadata": {},
     "output_type": "display_data"
    },
    {
     "data": {
      "application/vnd.jupyter.widget-view+json": {
       "model_id": "1f33283e276242a2bb471d81ac04815e",
       "version_major": 2,
       "version_minor": 0
      },
      "text/plain": [
       "Validation: 0it [00:00, ?it/s]"
      ]
     },
     "metadata": {},
     "output_type": "display_data"
    },
    {
     "data": {
      "application/vnd.jupyter.widget-view+json": {
       "model_id": "a0b561c460814380aae55ae3e94f1854",
       "version_major": 2,
       "version_minor": 0
      },
      "text/plain": [
       "Validation: 0it [00:00, ?it/s]"
      ]
     },
     "metadata": {},
     "output_type": "display_data"
    },
    {
     "data": {
      "application/vnd.jupyter.widget-view+json": {
       "model_id": "170801328e64471fb9b36446855f5521",
       "version_major": 2,
       "version_minor": 0
      },
      "text/plain": [
       "Validation: 0it [00:00, ?it/s]"
      ]
     },
     "metadata": {},
     "output_type": "display_data"
    },
    {
     "data": {
      "application/vnd.jupyter.widget-view+json": {
       "model_id": "8449cf9ac48f4e469657ea6012ccb1a1",
       "version_major": 2,
       "version_minor": 0
      },
      "text/plain": [
       "Validation: 0it [00:00, ?it/s]"
      ]
     },
     "metadata": {},
     "output_type": "display_data"
    },
    {
     "data": {
      "application/vnd.jupyter.widget-view+json": {
       "model_id": "47d82dee2af24e17a339753c06ed628a",
       "version_major": 2,
       "version_minor": 0
      },
      "text/plain": [
       "Validation: 0it [00:00, ?it/s]"
      ]
     },
     "metadata": {},
     "output_type": "display_data"
    },
    {
     "data": {
      "application/vnd.jupyter.widget-view+json": {
       "model_id": "d6fe06e1762448ecae0834d506a50c1a",
       "version_major": 2,
       "version_minor": 0
      },
      "text/plain": [
       "Validation: 0it [00:00, ?it/s]"
      ]
     },
     "metadata": {},
     "output_type": "display_data"
    },
    {
     "data": {
      "application/vnd.jupyter.widget-view+json": {
       "model_id": "27177157c9874ef18a00fda21e01c68c",
       "version_major": 2,
       "version_minor": 0
      },
      "text/plain": [
       "Validation: 0it [00:00, ?it/s]"
      ]
     },
     "metadata": {},
     "output_type": "display_data"
    },
    {
     "data": {
      "application/vnd.jupyter.widget-view+json": {
       "model_id": "cb0e6f505f0f4bce83dcfa0e0556f554",
       "version_major": 2,
       "version_minor": 0
      },
      "text/plain": [
       "Validation: 0it [00:00, ?it/s]"
      ]
     },
     "metadata": {},
     "output_type": "display_data"
    },
    {
     "data": {
      "application/vnd.jupyter.widget-view+json": {
       "model_id": "8311f51b8f584ed69bbbeaa6232f5eee",
       "version_major": 2,
       "version_minor": 0
      },
      "text/plain": [
       "Validation: 0it [00:00, ?it/s]"
      ]
     },
     "metadata": {},
     "output_type": "display_data"
    },
    {
     "data": {
      "application/vnd.jupyter.widget-view+json": {
       "model_id": "d732702772434220b717f781325ac828",
       "version_major": 2,
       "version_minor": 0
      },
      "text/plain": [
       "Validation: 0it [00:00, ?it/s]"
      ]
     },
     "metadata": {},
     "output_type": "display_data"
    },
    {
     "data": {
      "application/vnd.jupyter.widget-view+json": {
       "model_id": "68217c2104e4458a95678780e0dcbb91",
       "version_major": 2,
       "version_minor": 0
      },
      "text/plain": [
       "Validation: 0it [00:00, ?it/s]"
      ]
     },
     "metadata": {},
     "output_type": "display_data"
    },
    {
     "data": {
      "application/vnd.jupyter.widget-view+json": {
       "model_id": "57b4cbccee134a209126bee171221d2e",
       "version_major": 2,
       "version_minor": 0
      },
      "text/plain": [
       "Validation: 0it [00:00, ?it/s]"
      ]
     },
     "metadata": {},
     "output_type": "display_data"
    },
    {
     "data": {
      "application/vnd.jupyter.widget-view+json": {
       "model_id": "6ca2f35878e54993af06cb2a78c7c623",
       "version_major": 2,
       "version_minor": 0
      },
      "text/plain": [
       "Validation: 0it [00:00, ?it/s]"
      ]
     },
     "metadata": {},
     "output_type": "display_data"
    },
    {
     "data": {
      "application/vnd.jupyter.widget-view+json": {
       "model_id": "756abf0aa98b47e6bd7d4653ccec2ecf",
       "version_major": 2,
       "version_minor": 0
      },
      "text/plain": [
       "Validation: 0it [00:00, ?it/s]"
      ]
     },
     "metadata": {},
     "output_type": "display_data"
    },
    {
     "data": {
      "application/vnd.jupyter.widget-view+json": {
       "model_id": "30fe9c1559f94fce8a7144e56ffc2b0b",
       "version_major": 2,
       "version_minor": 0
      },
      "text/plain": [
       "Validation: 0it [00:00, ?it/s]"
      ]
     },
     "metadata": {},
     "output_type": "display_data"
    },
    {
     "data": {
      "application/vnd.jupyter.widget-view+json": {
       "model_id": "39a06fa51e5e4f3e8d28e30b6bd8e8bf",
       "version_major": 2,
       "version_minor": 0
      },
      "text/plain": [
       "Validation: 0it [00:00, ?it/s]"
      ]
     },
     "metadata": {},
     "output_type": "display_data"
    },
    {
     "data": {
      "application/vnd.jupyter.widget-view+json": {
       "model_id": "d238a58bfa51479d84d670255856dccf",
       "version_major": 2,
       "version_minor": 0
      },
      "text/plain": [
       "Validation: 0it [00:00, ?it/s]"
      ]
     },
     "metadata": {},
     "output_type": "display_data"
    },
    {
     "data": {
      "application/vnd.jupyter.widget-view+json": {
       "model_id": "ffa2d497d4c24bbd830590ba44618581",
       "version_major": 2,
       "version_minor": 0
      },
      "text/plain": [
       "Validation: 0it [00:00, ?it/s]"
      ]
     },
     "metadata": {},
     "output_type": "display_data"
    },
    {
     "data": {
      "application/vnd.jupyter.widget-view+json": {
       "model_id": "4ec297aaf9144b2287ec7c69a48ffe44",
       "version_major": 2,
       "version_minor": 0
      },
      "text/plain": [
       "Validation: 0it [00:00, ?it/s]"
      ]
     },
     "metadata": {},
     "output_type": "display_data"
    },
    {
     "data": {
      "application/vnd.jupyter.widget-view+json": {
       "model_id": "df9968da1e394adf96067f3520053637",
       "version_major": 2,
       "version_minor": 0
      },
      "text/plain": [
       "Validation: 0it [00:00, ?it/s]"
      ]
     },
     "metadata": {},
     "output_type": "display_data"
    },
    {
     "data": {
      "application/vnd.jupyter.widget-view+json": {
       "model_id": "c045b21374b94a57bd966dbd0cfca769",
       "version_major": 2,
       "version_minor": 0
      },
      "text/plain": [
       "Validation: 0it [00:00, ?it/s]"
      ]
     },
     "metadata": {},
     "output_type": "display_data"
    },
    {
     "data": {
      "application/vnd.jupyter.widget-view+json": {
       "model_id": "71d036d037204de99362382a1dc154f5",
       "version_major": 2,
       "version_minor": 0
      },
      "text/plain": [
       "Validation: 0it [00:00, ?it/s]"
      ]
     },
     "metadata": {},
     "output_type": "display_data"
    },
    {
     "data": {
      "application/vnd.jupyter.widget-view+json": {
       "model_id": "2185f585d23e41c0ae78de1b27e10962",
       "version_major": 2,
       "version_minor": 0
      },
      "text/plain": [
       "Validation: 0it [00:00, ?it/s]"
      ]
     },
     "metadata": {},
     "output_type": "display_data"
    },
    {
     "data": {
      "application/vnd.jupyter.widget-view+json": {
       "model_id": "4afe6891e1844bfaa021cfeda7b5c9e5",
       "version_major": 2,
       "version_minor": 0
      },
      "text/plain": [
       "Validation: 0it [00:00, ?it/s]"
      ]
     },
     "metadata": {},
     "output_type": "display_data"
    },
    {
     "data": {
      "application/vnd.jupyter.widget-view+json": {
       "model_id": "f87547a102e44282b0c919157be2925c",
       "version_major": 2,
       "version_minor": 0
      },
      "text/plain": [
       "Validation: 0it [00:00, ?it/s]"
      ]
     },
     "metadata": {},
     "output_type": "display_data"
    },
    {
     "data": {
      "application/vnd.jupyter.widget-view+json": {
       "model_id": "da87378fae434d518905c09fa31f656e",
       "version_major": 2,
       "version_minor": 0
      },
      "text/plain": [
       "Validation: 0it [00:00, ?it/s]"
      ]
     },
     "metadata": {},
     "output_type": "display_data"
    },
    {
     "data": {
      "application/vnd.jupyter.widget-view+json": {
       "model_id": "caf962de34394f508a7182fbfc0aae0a",
       "version_major": 2,
       "version_minor": 0
      },
      "text/plain": [
       "Validation: 0it [00:00, ?it/s]"
      ]
     },
     "metadata": {},
     "output_type": "display_data"
    },
    {
     "data": {
      "application/vnd.jupyter.widget-view+json": {
       "model_id": "a65fb38196184135a186fe7e8629b66b",
       "version_major": 2,
       "version_minor": 0
      },
      "text/plain": [
       "Validation: 0it [00:00, ?it/s]"
      ]
     },
     "metadata": {},
     "output_type": "display_data"
    },
    {
     "data": {
      "application/vnd.jupyter.widget-view+json": {
       "model_id": "67c21c47a30e4fdb9ac3f958ab304d12",
       "version_major": 2,
       "version_minor": 0
      },
      "text/plain": [
       "Validation: 0it [00:00, ?it/s]"
      ]
     },
     "metadata": {},
     "output_type": "display_data"
    },
    {
     "data": {
      "application/vnd.jupyter.widget-view+json": {
       "model_id": "9e76c0f8a5394bb188f43daf643f6936",
       "version_major": 2,
       "version_minor": 0
      },
      "text/plain": [
       "Validation: 0it [00:00, ?it/s]"
      ]
     },
     "metadata": {},
     "output_type": "display_data"
    },
    {
     "data": {
      "application/vnd.jupyter.widget-view+json": {
       "model_id": "908dc05340b84cf4a687d22209ab82d7",
       "version_major": 2,
       "version_minor": 0
      },
      "text/plain": [
       "Validation: 0it [00:00, ?it/s]"
      ]
     },
     "metadata": {},
     "output_type": "display_data"
    },
    {
     "data": {
      "application/vnd.jupyter.widget-view+json": {
       "model_id": "0cb2132c950140c4ace62002571a255e",
       "version_major": 2,
       "version_minor": 0
      },
      "text/plain": [
       "Validation: 0it [00:00, ?it/s]"
      ]
     },
     "metadata": {},
     "output_type": "display_data"
    },
    {
     "data": {
      "application/vnd.jupyter.widget-view+json": {
       "model_id": "89f11fde2e5b4497993f8f3415eede7d",
       "version_major": 2,
       "version_minor": 0
      },
      "text/plain": [
       "Validation: 0it [00:00, ?it/s]"
      ]
     },
     "metadata": {},
     "output_type": "display_data"
    },
    {
     "data": {
      "application/vnd.jupyter.widget-view+json": {
       "model_id": "f964522c88ba44ada0e53a801a4ca142",
       "version_major": 2,
       "version_minor": 0
      },
      "text/plain": [
       "Validation: 0it [00:00, ?it/s]"
      ]
     },
     "metadata": {},
     "output_type": "display_data"
    },
    {
     "data": {
      "application/vnd.jupyter.widget-view+json": {
       "model_id": "70c771fef4774d7fb1dee9085391c113",
       "version_major": 2,
       "version_minor": 0
      },
      "text/plain": [
       "Validation: 0it [00:00, ?it/s]"
      ]
     },
     "metadata": {},
     "output_type": "display_data"
    },
    {
     "data": {
      "application/vnd.jupyter.widget-view+json": {
       "model_id": "9e2d9ca263e14373b17a031afd2f8f36",
       "version_major": 2,
       "version_minor": 0
      },
      "text/plain": [
       "Validation: 0it [00:00, ?it/s]"
      ]
     },
     "metadata": {},
     "output_type": "display_data"
    },
    {
     "data": {
      "application/vnd.jupyter.widget-view+json": {
       "model_id": "07d6cefefffc427398a45413dc67dbb1",
       "version_major": 2,
       "version_minor": 0
      },
      "text/plain": [
       "Validation: 0it [00:00, ?it/s]"
      ]
     },
     "metadata": {},
     "output_type": "display_data"
    },
    {
     "data": {
      "application/vnd.jupyter.widget-view+json": {
       "model_id": "ce45989826014119afb28590aee94e67",
       "version_major": 2,
       "version_minor": 0
      },
      "text/plain": [
       "Validation: 0it [00:00, ?it/s]"
      ]
     },
     "metadata": {},
     "output_type": "display_data"
    },
    {
     "data": {
      "application/vnd.jupyter.widget-view+json": {
       "model_id": "3ee6114132044e45822a2cd7a69ef230",
       "version_major": 2,
       "version_minor": 0
      },
      "text/plain": [
       "Validation: 0it [00:00, ?it/s]"
      ]
     },
     "metadata": {},
     "output_type": "display_data"
    },
    {
     "data": {
      "application/vnd.jupyter.widget-view+json": {
       "model_id": "c367edf7312d4fb7b3a97e8c0133dd8f",
       "version_major": 2,
       "version_minor": 0
      },
      "text/plain": [
       "Validation: 0it [00:00, ?it/s]"
      ]
     },
     "metadata": {},
     "output_type": "display_data"
    },
    {
     "data": {
      "application/vnd.jupyter.widget-view+json": {
       "model_id": "038ba2723b6d4b728ca8fb07144a4d18",
       "version_major": 2,
       "version_minor": 0
      },
      "text/plain": [
       "Validation: 0it [00:00, ?it/s]"
      ]
     },
     "metadata": {},
     "output_type": "display_data"
    },
    {
     "data": {
      "application/vnd.jupyter.widget-view+json": {
       "model_id": "8fe36a572d514ad3a4edacb54836b196",
       "version_major": 2,
       "version_minor": 0
      },
      "text/plain": [
       "Validation: 0it [00:00, ?it/s]"
      ]
     },
     "metadata": {},
     "output_type": "display_data"
    },
    {
     "data": {
      "application/vnd.jupyter.widget-view+json": {
       "model_id": "c09d1de45a934ea4919e4045ee048fd2",
       "version_major": 2,
       "version_minor": 0
      },
      "text/plain": [
       "Validation: 0it [00:00, ?it/s]"
      ]
     },
     "metadata": {},
     "output_type": "display_data"
    },
    {
     "data": {
      "application/vnd.jupyter.widget-view+json": {
       "model_id": "92ec674ce2f245e7bfdd7991024736d4",
       "version_major": 2,
       "version_minor": 0
      },
      "text/plain": [
       "Validation: 0it [00:00, ?it/s]"
      ]
     },
     "metadata": {},
     "output_type": "display_data"
    },
    {
     "data": {
      "application/vnd.jupyter.widget-view+json": {
       "model_id": "75423e943e11424a9bc7170e7efb867e",
       "version_major": 2,
       "version_minor": 0
      },
      "text/plain": [
       "Validation: 0it [00:00, ?it/s]"
      ]
     },
     "metadata": {},
     "output_type": "display_data"
    },
    {
     "data": {
      "application/vnd.jupyter.widget-view+json": {
       "model_id": "9a374bfad0d241ceb5497943cd18d7a4",
       "version_major": 2,
       "version_minor": 0
      },
      "text/plain": [
       "Validation: 0it [00:00, ?it/s]"
      ]
     },
     "metadata": {},
     "output_type": "display_data"
    },
    {
     "data": {
      "application/vnd.jupyter.widget-view+json": {
       "model_id": "7dc6aa6669404ad28ac039a6347231e0",
       "version_major": 2,
       "version_minor": 0
      },
      "text/plain": [
       "Validation: 0it [00:00, ?it/s]"
      ]
     },
     "metadata": {},
     "output_type": "display_data"
    },
    {
     "data": {
      "application/vnd.jupyter.widget-view+json": {
       "model_id": "bd2799b9744f46aa887d737d93c4ca60",
       "version_major": 2,
       "version_minor": 0
      },
      "text/plain": [
       "Validation: 0it [00:00, ?it/s]"
      ]
     },
     "metadata": {},
     "output_type": "display_data"
    },
    {
     "data": {
      "application/vnd.jupyter.widget-view+json": {
       "model_id": "7185475ab96a414187b468ac20e769f3",
       "version_major": 2,
       "version_minor": 0
      },
      "text/plain": [
       "Validation: 0it [00:00, ?it/s]"
      ]
     },
     "metadata": {},
     "output_type": "display_data"
    },
    {
     "data": {
      "application/vnd.jupyter.widget-view+json": {
       "model_id": "51aa85174cf84b23b27515b27f4c85b7",
       "version_major": 2,
       "version_minor": 0
      },
      "text/plain": [
       "Validation: 0it [00:00, ?it/s]"
      ]
     },
     "metadata": {},
     "output_type": "display_data"
    },
    {
     "data": {
      "application/vnd.jupyter.widget-view+json": {
       "model_id": "96aebc02f9754abbbf22929a259767d2",
       "version_major": 2,
       "version_minor": 0
      },
      "text/plain": [
       "Validation: 0it [00:00, ?it/s]"
      ]
     },
     "metadata": {},
     "output_type": "display_data"
    },
    {
     "data": {
      "application/vnd.jupyter.widget-view+json": {
       "model_id": "674f2cde75e748d1b6ac8ad80b654e08",
       "version_major": 2,
       "version_minor": 0
      },
      "text/plain": [
       "Validation: 0it [00:00, ?it/s]"
      ]
     },
     "metadata": {},
     "output_type": "display_data"
    },
    {
     "data": {
      "application/vnd.jupyter.widget-view+json": {
       "model_id": "06940a492eac4260af6c2c3debf3617a",
       "version_major": 2,
       "version_minor": 0
      },
      "text/plain": [
       "Validation: 0it [00:00, ?it/s]"
      ]
     },
     "metadata": {},
     "output_type": "display_data"
    },
    {
     "data": {
      "application/vnd.jupyter.widget-view+json": {
       "model_id": "efe2c57a2dcb4ff4818a2ae6a26db72f",
       "version_major": 2,
       "version_minor": 0
      },
      "text/plain": [
       "Validation: 0it [00:00, ?it/s]"
      ]
     },
     "metadata": {},
     "output_type": "display_data"
    },
    {
     "data": {
      "application/vnd.jupyter.widget-view+json": {
       "model_id": "02eefc119e6c43e599ab9ccf2aa41c5f",
       "version_major": 2,
       "version_minor": 0
      },
      "text/plain": [
       "Validation: 0it [00:00, ?it/s]"
      ]
     },
     "metadata": {},
     "output_type": "display_data"
    },
    {
     "data": {
      "application/vnd.jupyter.widget-view+json": {
       "model_id": "e7a55ed747c24c1f8d1885927f899ded",
       "version_major": 2,
       "version_minor": 0
      },
      "text/plain": [
       "Validation: 0it [00:00, ?it/s]"
      ]
     },
     "metadata": {},
     "output_type": "display_data"
    },
    {
     "data": {
      "application/vnd.jupyter.widget-view+json": {
       "model_id": "2b52d3648082467ab0dc2e92610b654b",
       "version_major": 2,
       "version_minor": 0
      },
      "text/plain": [
       "Validation: 0it [00:00, ?it/s]"
      ]
     },
     "metadata": {},
     "output_type": "display_data"
    },
    {
     "data": {
      "application/vnd.jupyter.widget-view+json": {
       "model_id": "363e9a82dbee4666ba5044e6ecb3afde",
       "version_major": 2,
       "version_minor": 0
      },
      "text/plain": [
       "Validation: 0it [00:00, ?it/s]"
      ]
     },
     "metadata": {},
     "output_type": "display_data"
    },
    {
     "data": {
      "application/vnd.jupyter.widget-view+json": {
       "model_id": "2d5722ab794849339229347d239c9ef4",
       "version_major": 2,
       "version_minor": 0
      },
      "text/plain": [
       "Validation: 0it [00:00, ?it/s]"
      ]
     },
     "metadata": {},
     "output_type": "display_data"
    },
    {
     "data": {
      "application/vnd.jupyter.widget-view+json": {
       "model_id": "2f7a6b379139414c8a76a5bbd025d257",
       "version_major": 2,
       "version_minor": 0
      },
      "text/plain": [
       "Validation: 0it [00:00, ?it/s]"
      ]
     },
     "metadata": {},
     "output_type": "display_data"
    },
    {
     "data": {
      "application/vnd.jupyter.widget-view+json": {
       "model_id": "ab33aaef08664a06a7927a3a4470490c",
       "version_major": 2,
       "version_minor": 0
      },
      "text/plain": [
       "Validation: 0it [00:00, ?it/s]"
      ]
     },
     "metadata": {},
     "output_type": "display_data"
    },
    {
     "data": {
      "application/vnd.jupyter.widget-view+json": {
       "model_id": "ec513f07a52f443999439022d2a58e7e",
       "version_major": 2,
       "version_minor": 0
      },
      "text/plain": [
       "Validation: 0it [00:00, ?it/s]"
      ]
     },
     "metadata": {},
     "output_type": "display_data"
    },
    {
     "data": {
      "application/vnd.jupyter.widget-view+json": {
       "model_id": "56b7589aa5614f7ba94a23de28b162b2",
       "version_major": 2,
       "version_minor": 0
      },
      "text/plain": [
       "Validation: 0it [00:00, ?it/s]"
      ]
     },
     "metadata": {},
     "output_type": "display_data"
    },
    {
     "data": {
      "application/vnd.jupyter.widget-view+json": {
       "model_id": "9e7ac821eebc4745a4ee0310fceb3b7b",
       "version_major": 2,
       "version_minor": 0
      },
      "text/plain": [
       "Validation: 0it [00:00, ?it/s]"
      ]
     },
     "metadata": {},
     "output_type": "display_data"
    },
    {
     "data": {
      "application/vnd.jupyter.widget-view+json": {
       "model_id": "ffeeb424b6e14e69b551932819505a59",
       "version_major": 2,
       "version_minor": 0
      },
      "text/plain": [
       "Validation: 0it [00:00, ?it/s]"
      ]
     },
     "metadata": {},
     "output_type": "display_data"
    },
    {
     "data": {
      "application/vnd.jupyter.widget-view+json": {
       "model_id": "028e1295b8c24fc5a7968ef0926966f0",
       "version_major": 2,
       "version_minor": 0
      },
      "text/plain": [
       "Validation: 0it [00:00, ?it/s]"
      ]
     },
     "metadata": {},
     "output_type": "display_data"
    },
    {
     "data": {
      "application/vnd.jupyter.widget-view+json": {
       "model_id": "eb3c93181a6d433dbc3a2b11f0bfc5d2",
       "version_major": 2,
       "version_minor": 0
      },
      "text/plain": [
       "Validation: 0it [00:00, ?it/s]"
      ]
     },
     "metadata": {},
     "output_type": "display_data"
    },
    {
     "data": {
      "application/vnd.jupyter.widget-view+json": {
       "model_id": "23183aba57664e83a2011548820cb8df",
       "version_major": 2,
       "version_minor": 0
      },
      "text/plain": [
       "Validation: 0it [00:00, ?it/s]"
      ]
     },
     "metadata": {},
     "output_type": "display_data"
    },
    {
     "data": {
      "application/vnd.jupyter.widget-view+json": {
       "model_id": "07900d78356941c5b5640e958b58d6dd",
       "version_major": 2,
       "version_minor": 0
      },
      "text/plain": [
       "Validation: 0it [00:00, ?it/s]"
      ]
     },
     "metadata": {},
     "output_type": "display_data"
    },
    {
     "data": {
      "application/vnd.jupyter.widget-view+json": {
       "model_id": "882983ea4dca4f1fbc7d708ce64b7a86",
       "version_major": 2,
       "version_minor": 0
      },
      "text/plain": [
       "Validation: 0it [00:00, ?it/s]"
      ]
     },
     "metadata": {},
     "output_type": "display_data"
    },
    {
     "data": {
      "application/vnd.jupyter.widget-view+json": {
       "model_id": "ce3088963f84447ea1cc8aa9c05f2cd1",
       "version_major": 2,
       "version_minor": 0
      },
      "text/plain": [
       "Validation: 0it [00:00, ?it/s]"
      ]
     },
     "metadata": {},
     "output_type": "display_data"
    },
    {
     "data": {
      "application/vnd.jupyter.widget-view+json": {
       "model_id": "9e38b0da2900477e8c2074aae6b38cea",
       "version_major": 2,
       "version_minor": 0
      },
      "text/plain": [
       "Validation: 0it [00:00, ?it/s]"
      ]
     },
     "metadata": {},
     "output_type": "display_data"
    },
    {
     "data": {
      "application/vnd.jupyter.widget-view+json": {
       "model_id": "319fb8d4cb36404dae21dba2aaffe8bf",
       "version_major": 2,
       "version_minor": 0
      },
      "text/plain": [
       "Validation: 0it [00:00, ?it/s]"
      ]
     },
     "metadata": {},
     "output_type": "display_data"
    },
    {
     "data": {
      "application/vnd.jupyter.widget-view+json": {
       "model_id": "e269bf1a9ddc450fab7918822b39ad8c",
       "version_major": 2,
       "version_minor": 0
      },
      "text/plain": [
       "Validation: 0it [00:00, ?it/s]"
      ]
     },
     "metadata": {},
     "output_type": "display_data"
    },
    {
     "data": {
      "application/vnd.jupyter.widget-view+json": {
       "model_id": "89f9442155fa4477bec2803577a3a446",
       "version_major": 2,
       "version_minor": 0
      },
      "text/plain": [
       "Validation: 0it [00:00, ?it/s]"
      ]
     },
     "metadata": {},
     "output_type": "display_data"
    },
    {
     "data": {
      "application/vnd.jupyter.widget-view+json": {
       "model_id": "4c741b8f516649f393b5b356f5550ba1",
       "version_major": 2,
       "version_minor": 0
      },
      "text/plain": [
       "Validation: 0it [00:00, ?it/s]"
      ]
     },
     "metadata": {},
     "output_type": "display_data"
    },
    {
     "data": {
      "application/vnd.jupyter.widget-view+json": {
       "model_id": "196822e78e2a45f8b20c6f620b96717a",
       "version_major": 2,
       "version_minor": 0
      },
      "text/plain": [
       "Validation: 0it [00:00, ?it/s]"
      ]
     },
     "metadata": {},
     "output_type": "display_data"
    },
    {
     "data": {
      "application/vnd.jupyter.widget-view+json": {
       "model_id": "ed93be4d779c4acfb0cc495e0a044bf9",
       "version_major": 2,
       "version_minor": 0
      },
      "text/plain": [
       "Validation: 0it [00:00, ?it/s]"
      ]
     },
     "metadata": {},
     "output_type": "display_data"
    },
    {
     "data": {
      "application/vnd.jupyter.widget-view+json": {
       "model_id": "91a1acd3c31f455e92be31356da98928",
       "version_major": 2,
       "version_minor": 0
      },
      "text/plain": [
       "Validation: 0it [00:00, ?it/s]"
      ]
     },
     "metadata": {},
     "output_type": "display_data"
    },
    {
     "data": {
      "application/vnd.jupyter.widget-view+json": {
       "model_id": "73fd85a6b36842ae8d5b72ff4b88b0cf",
       "version_major": 2,
       "version_minor": 0
      },
      "text/plain": [
       "Validation: 0it [00:00, ?it/s]"
      ]
     },
     "metadata": {},
     "output_type": "display_data"
    },
    {
     "data": {
      "application/vnd.jupyter.widget-view+json": {
       "model_id": "c65e719fec0d4bc5bb461924be621356",
       "version_major": 2,
       "version_minor": 0
      },
      "text/plain": [
       "Validation: 0it [00:00, ?it/s]"
      ]
     },
     "metadata": {},
     "output_type": "display_data"
    },
    {
     "data": {
      "application/vnd.jupyter.widget-view+json": {
       "model_id": "d863a78855da45c6a304cc4fe1d0059d",
       "version_major": 2,
       "version_minor": 0
      },
      "text/plain": [
       "Validation: 0it [00:00, ?it/s]"
      ]
     },
     "metadata": {},
     "output_type": "display_data"
    },
    {
     "data": {
      "application/vnd.jupyter.widget-view+json": {
       "model_id": "848c4bec2cd9434b9d80f13f1976904a",
       "version_major": 2,
       "version_minor": 0
      },
      "text/plain": [
       "Validation: 0it [00:00, ?it/s]"
      ]
     },
     "metadata": {},
     "output_type": "display_data"
    },
    {
     "data": {
      "application/vnd.jupyter.widget-view+json": {
       "model_id": "ecd8b4c319ac416e80e4e305a5e1a1ec",
       "version_major": 2,
       "version_minor": 0
      },
      "text/plain": [
       "Validation: 0it [00:00, ?it/s]"
      ]
     },
     "metadata": {},
     "output_type": "display_data"
    },
    {
     "data": {
      "application/vnd.jupyter.widget-view+json": {
       "model_id": "aa6cc46f94f443959df96907cad7cb99",
       "version_major": 2,
       "version_minor": 0
      },
      "text/plain": [
       "Validation: 0it [00:00, ?it/s]"
      ]
     },
     "metadata": {},
     "output_type": "display_data"
    },
    {
     "data": {
      "application/vnd.jupyter.widget-view+json": {
       "model_id": "454edaaf09f64fb29e1c8517a81e0378",
       "version_major": 2,
       "version_minor": 0
      },
      "text/plain": [
       "Validation: 0it [00:00, ?it/s]"
      ]
     },
     "metadata": {},
     "output_type": "display_data"
    },
    {
     "data": {
      "application/vnd.jupyter.widget-view+json": {
       "model_id": "9de8a79b13c44f9c97f957b0ecd54f24",
       "version_major": 2,
       "version_minor": 0
      },
      "text/plain": [
       "Validation: 0it [00:00, ?it/s]"
      ]
     },
     "metadata": {},
     "output_type": "display_data"
    },
    {
     "data": {
      "application/vnd.jupyter.widget-view+json": {
       "model_id": "e6077ede31b84534967a30f193846df1",
       "version_major": 2,
       "version_minor": 0
      },
      "text/plain": [
       "Validation: 0it [00:00, ?it/s]"
      ]
     },
     "metadata": {},
     "output_type": "display_data"
    },
    {
     "data": {
      "application/vnd.jupyter.widget-view+json": {
       "model_id": "23014aa514424ef2a02b8bc42a401e19",
       "version_major": 2,
       "version_minor": 0
      },
      "text/plain": [
       "Validation: 0it [00:00, ?it/s]"
      ]
     },
     "metadata": {},
     "output_type": "display_data"
    },
    {
     "data": {
      "application/vnd.jupyter.widget-view+json": {
       "model_id": "0ec19eb18f424fd0ae3bc0563e8994f1",
       "version_major": 2,
       "version_minor": 0
      },
      "text/plain": [
       "Validation: 0it [00:00, ?it/s]"
      ]
     },
     "metadata": {},
     "output_type": "display_data"
    },
    {
     "data": {
      "application/vnd.jupyter.widget-view+json": {
       "model_id": "4df3ae6683a34e1aa5ad03d8b2abdfd3",
       "version_major": 2,
       "version_minor": 0
      },
      "text/plain": [
       "Validation: 0it [00:00, ?it/s]"
      ]
     },
     "metadata": {},
     "output_type": "display_data"
    },
    {
     "data": {
      "application/vnd.jupyter.widget-view+json": {
       "model_id": "6c98f1beb21f42ee9fc9bf29252365db",
       "version_major": 2,
       "version_minor": 0
      },
      "text/plain": [
       "Validation: 0it [00:00, ?it/s]"
      ]
     },
     "metadata": {},
     "output_type": "display_data"
    },
    {
     "data": {
      "application/vnd.jupyter.widget-view+json": {
       "model_id": "3e50f2a5a94443599411825e6b2abf75",
       "version_major": 2,
       "version_minor": 0
      },
      "text/plain": [
       "Validation: 0it [00:00, ?it/s]"
      ]
     },
     "metadata": {},
     "output_type": "display_data"
    },
    {
     "data": {
      "application/vnd.jupyter.widget-view+json": {
       "model_id": "fd3e7217ef9d4d478a536c5408c586db",
       "version_major": 2,
       "version_minor": 0
      },
      "text/plain": [
       "Validation: 0it [00:00, ?it/s]"
      ]
     },
     "metadata": {},
     "output_type": "display_data"
    },
    {
     "data": {
      "application/vnd.jupyter.widget-view+json": {
       "model_id": "46b1dcb305d4407cbe3dac7593253334",
       "version_major": 2,
       "version_minor": 0
      },
      "text/plain": [
       "Validation: 0it [00:00, ?it/s]"
      ]
     },
     "metadata": {},
     "output_type": "display_data"
    },
    {
     "data": {
      "application/vnd.jupyter.widget-view+json": {
       "model_id": "bf7d85adb0254a759ddf3c62ab36db4d",
       "version_major": 2,
       "version_minor": 0
      },
      "text/plain": [
       "Validation: 0it [00:00, ?it/s]"
      ]
     },
     "metadata": {},
     "output_type": "display_data"
    },
    {
     "data": {
      "application/vnd.jupyter.widget-view+json": {
       "model_id": "92618c70487843b39fe6db9533199cdd",
       "version_major": 2,
       "version_minor": 0
      },
      "text/plain": [
       "Validation: 0it [00:00, ?it/s]"
      ]
     },
     "metadata": {},
     "output_type": "display_data"
    },
    {
     "data": {
      "application/vnd.jupyter.widget-view+json": {
       "model_id": "4783120df19b4ff280eb3b45bb8ae62b",
       "version_major": 2,
       "version_minor": 0
      },
      "text/plain": [
       "Validation: 0it [00:00, ?it/s]"
      ]
     },
     "metadata": {},
     "output_type": "display_data"
    },
    {
     "data": {
      "application/vnd.jupyter.widget-view+json": {
       "model_id": "53eb44f437504c9ab46d44ccc0cad639",
       "version_major": 2,
       "version_minor": 0
      },
      "text/plain": [
       "Validation: 0it [00:00, ?it/s]"
      ]
     },
     "metadata": {},
     "output_type": "display_data"
    },
    {
     "data": {
      "application/vnd.jupyter.widget-view+json": {
       "model_id": "6c5ac20076c54c23b0bdf5852f25cb47",
       "version_major": 2,
       "version_minor": 0
      },
      "text/plain": [
       "Validation: 0it [00:00, ?it/s]"
      ]
     },
     "metadata": {},
     "output_type": "display_data"
    },
    {
     "data": {
      "application/vnd.jupyter.widget-view+json": {
       "model_id": "01dfd54472a24923aff10a84a23289e7",
       "version_major": 2,
       "version_minor": 0
      },
      "text/plain": [
       "Validation: 0it [00:00, ?it/s]"
      ]
     },
     "metadata": {},
     "output_type": "display_data"
    },
    {
     "data": {
      "application/vnd.jupyter.widget-view+json": {
       "model_id": "41c8e19d5c3f4c1a80fa4c5688b3704c",
       "version_major": 2,
       "version_minor": 0
      },
      "text/plain": [
       "Validation: 0it [00:00, ?it/s]"
      ]
     },
     "metadata": {},
     "output_type": "display_data"
    },
    {
     "data": {
      "application/vnd.jupyter.widget-view+json": {
       "model_id": "ae9016af8d3c47ee95b236a3b873af9e",
       "version_major": 2,
       "version_minor": 0
      },
      "text/plain": [
       "Validation: 0it [00:00, ?it/s]"
      ]
     },
     "metadata": {},
     "output_type": "display_data"
    },
    {
     "data": {
      "application/vnd.jupyter.widget-view+json": {
       "model_id": "1160e47aff4e4aea8c5601803cec3c94",
       "version_major": 2,
       "version_minor": 0
      },
      "text/plain": [
       "Validation: 0it [00:00, ?it/s]"
      ]
     },
     "metadata": {},
     "output_type": "display_data"
    },
    {
     "data": {
      "application/vnd.jupyter.widget-view+json": {
       "model_id": "8f4a8639285f427dbf0ecc94e8a3eac2",
       "version_major": 2,
       "version_minor": 0
      },
      "text/plain": [
       "Validation: 0it [00:00, ?it/s]"
      ]
     },
     "metadata": {},
     "output_type": "display_data"
    },
    {
     "data": {
      "application/vnd.jupyter.widget-view+json": {
       "model_id": "b4c176772f0449ed9b6f1d3a73ac4f1d",
       "version_major": 2,
       "version_minor": 0
      },
      "text/plain": [
       "Validation: 0it [00:00, ?it/s]"
      ]
     },
     "metadata": {},
     "output_type": "display_data"
    },
    {
     "data": {
      "application/vnd.jupyter.widget-view+json": {
       "model_id": "b5fd10e6891f4fb997f6f8f9bcbd1b64",
       "version_major": 2,
       "version_minor": 0
      },
      "text/plain": [
       "Validation: 0it [00:00, ?it/s]"
      ]
     },
     "metadata": {},
     "output_type": "display_data"
    },
    {
     "data": {
      "application/vnd.jupyter.widget-view+json": {
       "model_id": "02efda021be1488bba12b3e85923b5d4",
       "version_major": 2,
       "version_minor": 0
      },
      "text/plain": [
       "Validation: 0it [00:00, ?it/s]"
      ]
     },
     "metadata": {},
     "output_type": "display_data"
    },
    {
     "data": {
      "application/vnd.jupyter.widget-view+json": {
       "model_id": "722e5604c29f4a7fb33752efe8649d9e",
       "version_major": 2,
       "version_minor": 0
      },
      "text/plain": [
       "Validation: 0it [00:00, ?it/s]"
      ]
     },
     "metadata": {},
     "output_type": "display_data"
    },
    {
     "data": {
      "application/vnd.jupyter.widget-view+json": {
       "model_id": "2cbeb4cee4194aa98fa152e5d8674e23",
       "version_major": 2,
       "version_minor": 0
      },
      "text/plain": [
       "Validation: 0it [00:00, ?it/s]"
      ]
     },
     "metadata": {},
     "output_type": "display_data"
    },
    {
     "data": {
      "application/vnd.jupyter.widget-view+json": {
       "model_id": "90d9763108ef4e908254807b1ece7de6",
       "version_major": 2,
       "version_minor": 0
      },
      "text/plain": [
       "Validation: 0it [00:00, ?it/s]"
      ]
     },
     "metadata": {},
     "output_type": "display_data"
    },
    {
     "data": {
      "application/vnd.jupyter.widget-view+json": {
       "model_id": "373ecbb6e2b24cfaa1373e15d273ac42",
       "version_major": 2,
       "version_minor": 0
      },
      "text/plain": [
       "Validation: 0it [00:00, ?it/s]"
      ]
     },
     "metadata": {},
     "output_type": "display_data"
    },
    {
     "data": {
      "application/vnd.jupyter.widget-view+json": {
       "model_id": "41fd9bd7d6c54d58993242e054ec3dc7",
       "version_major": 2,
       "version_minor": 0
      },
      "text/plain": [
       "Validation: 0it [00:00, ?it/s]"
      ]
     },
     "metadata": {},
     "output_type": "display_data"
    },
    {
     "data": {
      "application/vnd.jupyter.widget-view+json": {
       "model_id": "117b5f5d1a35473aac1059c122a88053",
       "version_major": 2,
       "version_minor": 0
      },
      "text/plain": [
       "Validation: 0it [00:00, ?it/s]"
      ]
     },
     "metadata": {},
     "output_type": "display_data"
    },
    {
     "data": {
      "application/vnd.jupyter.widget-view+json": {
       "model_id": "faad562891a94475a1bd676e044f1820",
       "version_major": 2,
       "version_minor": 0
      },
      "text/plain": [
       "Validation: 0it [00:00, ?it/s]"
      ]
     },
     "metadata": {},
     "output_type": "display_data"
    },
    {
     "data": {
      "application/vnd.jupyter.widget-view+json": {
       "model_id": "e2e939fa4910472b9f506c90a6c6d9a2",
       "version_major": 2,
       "version_minor": 0
      },
      "text/plain": [
       "Validation: 0it [00:00, ?it/s]"
      ]
     },
     "metadata": {},
     "output_type": "display_data"
    },
    {
     "data": {
      "application/vnd.jupyter.widget-view+json": {
       "model_id": "91dec5034edd4adc9ab50b5360fb8b98",
       "version_major": 2,
       "version_minor": 0
      },
      "text/plain": [
       "Validation: 0it [00:00, ?it/s]"
      ]
     },
     "metadata": {},
     "output_type": "display_data"
    },
    {
     "data": {
      "application/vnd.jupyter.widget-view+json": {
       "model_id": "1e737dd62314480ba458e7b5be0863e5",
       "version_major": 2,
       "version_minor": 0
      },
      "text/plain": [
       "Validation: 0it [00:00, ?it/s]"
      ]
     },
     "metadata": {},
     "output_type": "display_data"
    },
    {
     "data": {
      "application/vnd.jupyter.widget-view+json": {
       "model_id": "84563b08e69847a6876ce3afd721a77d",
       "version_major": 2,
       "version_minor": 0
      },
      "text/plain": [
       "Validation: 0it [00:00, ?it/s]"
      ]
     },
     "metadata": {},
     "output_type": "display_data"
    },
    {
     "data": {
      "application/vnd.jupyter.widget-view+json": {
       "model_id": "c44ba620e2bb4bfba98a8b6cb308d568",
       "version_major": 2,
       "version_minor": 0
      },
      "text/plain": [
       "Validation: 0it [00:00, ?it/s]"
      ]
     },
     "metadata": {},
     "output_type": "display_data"
    },
    {
     "data": {
      "application/vnd.jupyter.widget-view+json": {
       "model_id": "e243ff170ab847bab27fd0b5e7afea20",
       "version_major": 2,
       "version_minor": 0
      },
      "text/plain": [
       "Validation: 0it [00:00, ?it/s]"
      ]
     },
     "metadata": {},
     "output_type": "display_data"
    },
    {
     "data": {
      "application/vnd.jupyter.widget-view+json": {
       "model_id": "aca46557fac34e209489254e12b62887",
       "version_major": 2,
       "version_minor": 0
      },
      "text/plain": [
       "Validation: 0it [00:00, ?it/s]"
      ]
     },
     "metadata": {},
     "output_type": "display_data"
    },
    {
     "data": {
      "application/vnd.jupyter.widget-view+json": {
       "model_id": "2de3f0c4fac14abc9277bafe7381167f",
       "version_major": 2,
       "version_minor": 0
      },
      "text/plain": [
       "Validation: 0it [00:00, ?it/s]"
      ]
     },
     "metadata": {},
     "output_type": "display_data"
    },
    {
     "data": {
      "application/vnd.jupyter.widget-view+json": {
       "model_id": "01304d09c4f342edbb321ca74ccfaae2",
       "version_major": 2,
       "version_minor": 0
      },
      "text/plain": [
       "Validation: 0it [00:00, ?it/s]"
      ]
     },
     "metadata": {},
     "output_type": "display_data"
    },
    {
     "data": {
      "application/vnd.jupyter.widget-view+json": {
       "model_id": "0cc1003f3f554001bdd86ae11ec08076",
       "version_major": 2,
       "version_minor": 0
      },
      "text/plain": [
       "Validation: 0it [00:00, ?it/s]"
      ]
     },
     "metadata": {},
     "output_type": "display_data"
    },
    {
     "data": {
      "application/vnd.jupyter.widget-view+json": {
       "model_id": "8fa82105b3cb4fd7a1d94af6d6bc0f2e",
       "version_major": 2,
       "version_minor": 0
      },
      "text/plain": [
       "Validation: 0it [00:00, ?it/s]"
      ]
     },
     "metadata": {},
     "output_type": "display_data"
    },
    {
     "data": {
      "application/vnd.jupyter.widget-view+json": {
       "model_id": "b69e163f1da54cdab78620935c4721d5",
       "version_major": 2,
       "version_minor": 0
      },
      "text/plain": [
       "Validation: 0it [00:00, ?it/s]"
      ]
     },
     "metadata": {},
     "output_type": "display_data"
    },
    {
     "data": {
      "application/vnd.jupyter.widget-view+json": {
       "model_id": "059b6ce5ea084ba49e20f39eecb62f73",
       "version_major": 2,
       "version_minor": 0
      },
      "text/plain": [
       "Validation: 0it [00:00, ?it/s]"
      ]
     },
     "metadata": {},
     "output_type": "display_data"
    },
    {
     "data": {
      "application/vnd.jupyter.widget-view+json": {
       "model_id": "35c224e865f4456986de5b5ac1f65dc7",
       "version_major": 2,
       "version_minor": 0
      },
      "text/plain": [
       "Validation: 0it [00:00, ?it/s]"
      ]
     },
     "metadata": {},
     "output_type": "display_data"
    },
    {
     "data": {
      "application/vnd.jupyter.widget-view+json": {
       "model_id": "de7aa07461484030bbb8d7e4117cab22",
       "version_major": 2,
       "version_minor": 0
      },
      "text/plain": [
       "Validation: 0it [00:00, ?it/s]"
      ]
     },
     "metadata": {},
     "output_type": "display_data"
    },
    {
     "data": {
      "application/vnd.jupyter.widget-view+json": {
       "model_id": "05676282403449b5a71832a32c0cd051",
       "version_major": 2,
       "version_minor": 0
      },
      "text/plain": [
       "Validation: 0it [00:00, ?it/s]"
      ]
     },
     "metadata": {},
     "output_type": "display_data"
    },
    {
     "data": {
      "application/vnd.jupyter.widget-view+json": {
       "model_id": "7d38a0a9821f471fbbed35c9a80d9920",
       "version_major": 2,
       "version_minor": 0
      },
      "text/plain": [
       "Validation: 0it [00:00, ?it/s]"
      ]
     },
     "metadata": {},
     "output_type": "display_data"
    },
    {
     "data": {
      "application/vnd.jupyter.widget-view+json": {
       "model_id": "c60f3a91bd3b4574948b335785b7db4d",
       "version_major": 2,
       "version_minor": 0
      },
      "text/plain": [
       "Validation: 0it [00:00, ?it/s]"
      ]
     },
     "metadata": {},
     "output_type": "display_data"
    },
    {
     "data": {
      "application/vnd.jupyter.widget-view+json": {
       "model_id": "352e86a35c644436acdcba034486188d",
       "version_major": 2,
       "version_minor": 0
      },
      "text/plain": [
       "Validation: 0it [00:00, ?it/s]"
      ]
     },
     "metadata": {},
     "output_type": "display_data"
    },
    {
     "data": {
      "application/vnd.jupyter.widget-view+json": {
       "model_id": "ef7be1bbc6c544f2b0dfb156bdddff13",
       "version_major": 2,
       "version_minor": 0
      },
      "text/plain": [
       "Validation: 0it [00:00, ?it/s]"
      ]
     },
     "metadata": {},
     "output_type": "display_data"
    },
    {
     "data": {
      "application/vnd.jupyter.widget-view+json": {
       "model_id": "2acfe2f368c744e391e070a26be12d0b",
       "version_major": 2,
       "version_minor": 0
      },
      "text/plain": [
       "Validation: 0it [00:00, ?it/s]"
      ]
     },
     "metadata": {},
     "output_type": "display_data"
    },
    {
     "data": {
      "application/vnd.jupyter.widget-view+json": {
       "model_id": "22614dfc36954d11b95fd02fa7a49e05",
       "version_major": 2,
       "version_minor": 0
      },
      "text/plain": [
       "Validation: 0it [00:00, ?it/s]"
      ]
     },
     "metadata": {},
     "output_type": "display_data"
    },
    {
     "data": {
      "application/vnd.jupyter.widget-view+json": {
       "model_id": "a67a9c68aac347b2bbd90f47028432d6",
       "version_major": 2,
       "version_minor": 0
      },
      "text/plain": [
       "Validation: 0it [00:00, ?it/s]"
      ]
     },
     "metadata": {},
     "output_type": "display_data"
    },
    {
     "data": {
      "application/vnd.jupyter.widget-view+json": {
       "model_id": "0d022da493904882946cee40c5235c96",
       "version_major": 2,
       "version_minor": 0
      },
      "text/plain": [
       "Validation: 0it [00:00, ?it/s]"
      ]
     },
     "metadata": {},
     "output_type": "display_data"
    },
    {
     "data": {
      "application/vnd.jupyter.widget-view+json": {
       "model_id": "32e3f726374a4a8aa402ec2badd76cba",
       "version_major": 2,
       "version_minor": 0
      },
      "text/plain": [
       "Validation: 0it [00:00, ?it/s]"
      ]
     },
     "metadata": {},
     "output_type": "display_data"
    },
    {
     "data": {
      "application/vnd.jupyter.widget-view+json": {
       "model_id": "4f8be59d4fe84990bb7d54139590fc0a",
       "version_major": 2,
       "version_minor": 0
      },
      "text/plain": [
       "Validation: 0it [00:00, ?it/s]"
      ]
     },
     "metadata": {},
     "output_type": "display_data"
    },
    {
     "data": {
      "application/vnd.jupyter.widget-view+json": {
       "model_id": "ff4422a77c0b41d99c9347ce6408c171",
       "version_major": 2,
       "version_minor": 0
      },
      "text/plain": [
       "Validation: 0it [00:00, ?it/s]"
      ]
     },
     "metadata": {},
     "output_type": "display_data"
    },
    {
     "data": {
      "application/vnd.jupyter.widget-view+json": {
       "model_id": "9806e5b1bbe74302a517c9e4d6878cbe",
       "version_major": 2,
       "version_minor": 0
      },
      "text/plain": [
       "Validation: 0it [00:00, ?it/s]"
      ]
     },
     "metadata": {},
     "output_type": "display_data"
    },
    {
     "data": {
      "application/vnd.jupyter.widget-view+json": {
       "model_id": "64d8810e072945d8b226da7d69467bf5",
       "version_major": 2,
       "version_minor": 0
      },
      "text/plain": [
       "Validation: 0it [00:00, ?it/s]"
      ]
     },
     "metadata": {},
     "output_type": "display_data"
    },
    {
     "data": {
      "application/vnd.jupyter.widget-view+json": {
       "model_id": "b21d358bd2e54d63b85ab966f599252a",
       "version_major": 2,
       "version_minor": 0
      },
      "text/plain": [
       "Validation: 0it [00:00, ?it/s]"
      ]
     },
     "metadata": {},
     "output_type": "display_data"
    },
    {
     "data": {
      "application/vnd.jupyter.widget-view+json": {
       "model_id": "7c91446e9e1e4324bd0e041dc614f3cb",
       "version_major": 2,
       "version_minor": 0
      },
      "text/plain": [
       "Validation: 0it [00:00, ?it/s]"
      ]
     },
     "metadata": {},
     "output_type": "display_data"
    },
    {
     "data": {
      "application/vnd.jupyter.widget-view+json": {
       "model_id": "cab2fbcb9c014234807e03288757b3f2",
       "version_major": 2,
       "version_minor": 0
      },
      "text/plain": [
       "Validation: 0it [00:00, ?it/s]"
      ]
     },
     "metadata": {},
     "output_type": "display_data"
    },
    {
     "data": {
      "application/vnd.jupyter.widget-view+json": {
       "model_id": "dee8c06c5b284ce4a75a992eaff3e3e0",
       "version_major": 2,
       "version_minor": 0
      },
      "text/plain": [
       "Validation: 0it [00:00, ?it/s]"
      ]
     },
     "metadata": {},
     "output_type": "display_data"
    },
    {
     "data": {
      "application/vnd.jupyter.widget-view+json": {
       "model_id": "b2f54a54bf9646d291ab1c9e21ac0265",
       "version_major": 2,
       "version_minor": 0
      },
      "text/plain": [
       "Validation: 0it [00:00, ?it/s]"
      ]
     },
     "metadata": {},
     "output_type": "display_data"
    },
    {
     "data": {
      "application/vnd.jupyter.widget-view+json": {
       "model_id": "0f2b8700444e465fa5e9a7281a1b02aa",
       "version_major": 2,
       "version_minor": 0
      },
      "text/plain": [
       "Validation: 0it [00:00, ?it/s]"
      ]
     },
     "metadata": {},
     "output_type": "display_data"
    },
    {
     "data": {
      "application/vnd.jupyter.widget-view+json": {
       "model_id": "ab3e3b3e7b1241ed8e3383ca2c728646",
       "version_major": 2,
       "version_minor": 0
      },
      "text/plain": [
       "Validation: 0it [00:00, ?it/s]"
      ]
     },
     "metadata": {},
     "output_type": "display_data"
    },
    {
     "data": {
      "application/vnd.jupyter.widget-view+json": {
       "model_id": "34720540305846d0ba5c6f2e4e51821b",
       "version_major": 2,
       "version_minor": 0
      },
      "text/plain": [
       "Validation: 0it [00:00, ?it/s]"
      ]
     },
     "metadata": {},
     "output_type": "display_data"
    },
    {
     "data": {
      "application/vnd.jupyter.widget-view+json": {
       "model_id": "cf5ae0df0baf41fdb2d16e3ea25d374c",
       "version_major": 2,
       "version_minor": 0
      },
      "text/plain": [
       "Validation: 0it [00:00, ?it/s]"
      ]
     },
     "metadata": {},
     "output_type": "display_data"
    },
    {
     "data": {
      "application/vnd.jupyter.widget-view+json": {
       "model_id": "225e6dfedd3b4a6fb85880ee7a570996",
       "version_major": 2,
       "version_minor": 0
      },
      "text/plain": [
       "Validation: 0it [00:00, ?it/s]"
      ]
     },
     "metadata": {},
     "output_type": "display_data"
    }
   ],
   "source": [
    "df_train, df_test = m.split_df(df=df, freq=\"D\", valid_p=0.1)\n",
    "\n",
    "metrics = m.fit(df_train, validation_df=df_test, freq=\"D\")  # , early_stopping=True)"
   ]
  },
  {
   "cell_type": "code",
   "execution_count": 33,
   "metadata": {},
   "outputs": [
    {
     "data": {
      "application/vnd.plotly.v1+json": {
       "config": {
        "plotlyServerURL": "https://plot.ly"
       },
       "data": [
        {
         "legendgroup": "MAE",
         "line": {
          "color": "#2d92ff",
          "width": 2
         },
         "mode": "lines",
         "name": "MAE",
         "type": "scatter",
         "xaxis": "x",
         "y": [
          143.43609619140625,
          135.48594665527344,
          127.09947967529297,
          117.2962646484375,
          105.09925079345703,
          92.14432525634766,
          77.86985778808594,
          64.54895782470703,
          51.51031494140625,
          39.79648971557617,
          30.802623748779297,
          24.41313934326172,
          19.784847259521484,
          16.674144744873047,
          14.546131134033203,
          13.09433650970459,
          12.184561729431152,
          11.487638473510742,
          11.080772399902344,
          10.619733810424805,
          10.320838928222656,
          9.963489532470703,
          9.718278884887695,
          9.537413597106934,
          9.226601600646973,
          9.04763126373291,
          8.803267478942871,
          8.622386932373047,
          8.46079158782959,
          8.321102142333984,
          8.179161071777344,
          8.04969596862793,
          7.94458532333374,
          7.855947971343994,
          7.71835994720459,
          7.651274681091309,
          7.5684814453125,
          7.519723892211914,
          7.444021701812744,
          7.41099739074707,
          7.343029499053955,
          7.258511543273926,
          7.239265441894531,
          7.193249225616455,
          7.13065242767334,
          7.089627742767334,
          7.047750949859619,
          7.0024847984313965,
          6.991706848144531,
          6.940616607666016,
          6.911318302154541,
          6.857395648956299,
          6.817098617553711,
          6.804479122161865,
          6.821313858032227,
          6.741818428039551,
          6.740503787994385,
          6.743736267089844,
          6.679610729217529,
          6.6696858406066895,
          6.626179218292236,
          6.691293239593506,
          6.706293106079102,
          6.599582672119141,
          6.6048903465271,
          6.538030624389648,
          6.556851863861084,
          6.573304176330566,
          6.562070369720459,
          6.559175968170166,
          6.558244705200195,
          6.550948619842529,
          6.49759578704834,
          6.541330337524414,
          6.509995460510254,
          6.516722202301025,
          6.473789215087891,
          6.489381313323975,
          6.455838680267334,
          6.426860332489014,
          6.424198627471924,
          6.4552693367004395,
          6.4401044845581055,
          6.437358379364014,
          6.407705307006836,
          6.382376194000244,
          6.492294788360596,
          6.407237529754639,
          6.423242568969727,
          6.40703010559082,
          6.365693092346191,
          6.381838798522949,
          6.361374378204346,
          6.3522748947143555,
          6.327280044555664,
          6.325809955596924,
          6.3037214279174805,
          6.2412109375,
          6.275148868560791,
          6.2427077293396,
          6.177369117736816,
          6.191230773925781,
          6.073646545410156,
          6.092540740966797,
          6.069408893585205,
          6.051621437072754,
          6.0348687171936035,
          5.994726181030273,
          6.0534563064575195,
          6.090460300445557,
          5.9935302734375,
          5.984463214874268,
          6.029752731323242,
          6.0011820793151855,
          6.022834777832031,
          6.024506092071533,
          5.9723711013793945,
          6.040730953216553,
          5.978532791137695,
          6.015913963317871,
          5.992781162261963,
          6.000217914581299,
          6.01199197769165,
          5.986210346221924,
          5.96012020111084,
          5.964766979217529,
          5.972698211669922,
          5.9633941650390625,
          5.970993518829346,
          5.9622673988342285,
          5.9525275230407715,
          5.975897789001465,
          5.9247541427612305,
          5.976292133331299,
          5.963445663452148,
          5.943795204162598,
          5.954857349395752,
          5.973051071166992,
          5.935210227966309,
          5.9665656089782715,
          5.9368109703063965,
          5.957850456237793,
          5.962518215179443,
          5.951859474182129,
          5.937932968139648,
          5.96000862121582,
          5.929919719696045,
          5.956445693969727,
          5.948678970336914,
          5.954894065856934,
          5.943154811859131,
          5.935664653778076,
          5.935251235961914,
          5.927209854125977,
          5.932589054107666,
          5.942054748535156,
          5.927779197692871,
          5.9385247230529785,
          5.915920257568359,
          5.92976188659668,
          5.917252063751221,
          5.929609775543213,
          5.914192199707031,
          5.934213638305664,
          5.9212517738342285,
          5.889289855957031,
          5.934970378875732,
          5.928449630737305,
          5.920947074890137,
          5.897491455078125,
          5.9160919189453125,
          5.913466453552246,
          5.902765274047852,
          5.908242225646973,
          5.901106834411621,
          5.918885231018066,
          5.914438247680664,
          5.904592990875244,
          5.914531707763672
         ],
         "yaxis": "y"
        },
        {
         "legendgroup": "MAE",
         "line": {
          "color": "black",
          "width": 2
         },
         "mode": "lines",
         "name": "MAE_val",
         "type": "scatter",
         "xaxis": "x",
         "y": [
          167.77468872070312,
          156.61424255371094,
          143.46324157714844,
          128.01162719726562,
          110.33897399902344,
          92.50730895996094,
          76.05996704101562,
          60.486568450927734,
          45.69220733642578,
          34.21027755737305,
          27.381195068359375,
          22.149394989013672,
          18.146156311035156,
          15.874248504638672,
          13.956371307373047,
          12.686870574951172,
          12.111004829406738,
          11.128003120422363,
          10.670586585998535,
          10.142912864685059,
          9.753583908081055,
          9.37549114227295,
          8.891655921936035,
          8.679320335388184,
          8.2889404296875,
          8.162322998046875,
          8.018608093261719,
          7.585216045379639,
          7.563604354858398,
          7.450706481933594,
          7.199885845184326,
          7.1643290519714355,
          7.200369834899902,
          7.012183666229248,
          7.024127960205078,
          6.864090919494629,
          6.861095428466797,
          6.696925640106201,
          6.691472053527832,
          6.809508800506592,
          6.473081588745117,
          6.488699436187744,
          6.736767768859863,
          6.338527202606201,
          6.6424689292907715,
          7.047504425048828,
          6.1990556716918945,
          6.452138423919678,
          6.773226737976074,
          6.274628639221191,
          6.055393695831299,
          6.353207111358643,
          6.100991249084473,
          6.185609340667725,
          6.1436591148376465,
          6.029467582702637,
          6.014514446258545,
          6.14938497543335,
          6.055190563201904,
          5.836807727813721,
          5.930730819702148,
          5.917369842529297,
          5.931941509246826,
          5.935845851898193,
          5.83286190032959,
          6.051042556762695,
          5.798823356628418,
          5.921773433685303,
          5.830626487731934,
          5.860334396362305,
          6.280484676361084,
          5.8815765380859375,
          5.947955131530762,
          5.950131893157959,
          5.777156829833984,
          5.952516078948975,
          5.630270481109619,
          5.608114719390869,
          5.956860542297363,
          5.821695327758789,
          6.242455959320068,
          6.209846496582031,
          5.852707862854004,
          5.823510646820068,
          5.808971881866455,
          5.888733386993408,
          6.089093208312988,
          5.920762538909912,
          5.779595375061035,
          5.902153491973877,
          6.121014595031738,
          5.6449995040893555,
          5.90836763381958,
          5.888346195220947,
          5.523451328277588,
          5.678225994110107,
          5.726650238037109,
          5.782704830169678,
          5.87571382522583,
          5.623842716217041,
          5.834437370300293,
          5.4247589111328125,
          5.662696361541748,
          5.559811115264893,
          5.422942638397217,
          5.489966869354248,
          5.385953903198242,
          5.671084880828857,
          5.596487522125244,
          5.491457939147949,
          5.650630950927734,
          5.481348037719727,
          5.438346862792969,
          5.593759059906006,
          5.56572151184082,
          5.433844566345215,
          5.613529205322266,
          5.562935829162598,
          5.506738662719727,
          5.32407808303833,
          5.389095306396484,
          5.432659149169922,
          5.580123424530029,
          5.419774532318115,
          5.521684646606445,
          5.441864013671875,
          5.35084342956543,
          5.438535213470459,
          5.4136128425598145,
          5.437997341156006,
          5.407268047332764,
          5.571804523468018,
          5.395724773406982,
          5.402650356292725,
          5.4520111083984375,
          5.446136474609375,
          5.469638824462891,
          5.483058929443359,
          5.473299980163574,
          5.432088851928711,
          5.4206767082214355,
          5.419017314910889,
          5.472200870513916,
          5.461503028869629,
          5.3989386558532715,
          5.413051128387451,
          5.404913425445557,
          5.457313060760498,
          5.419578552246094,
          5.524861812591553,
          5.374566078186035,
          5.433141708374023,
          5.378562927246094,
          5.461000919342041,
          5.407042503356934,
          5.4367241859436035,
          5.410247802734375,
          5.421681880950928,
          5.438353538513184,
          5.418376445770264,
          5.4370503425598145,
          5.415383338928223,
          5.419553279876709,
          5.4342193603515625,
          5.40684175491333,
          5.420513153076172,
          5.418219566345215,
          5.417440891265869,
          5.43040132522583,
          5.4305500984191895,
          5.427164077758789,
          5.426960468292236,
          5.424638748168945,
          5.428399085998535,
          5.4280877113342285,
          5.42755651473999,
          5.427979469299316,
          5.427652359008789,
          5.427692413330078
         ],
         "yaxis": "y"
        },
        {
         "legendgroup": "RMSE",
         "line": {
          "color": "#2d92ff",
          "width": 2
         },
         "mode": "lines",
         "name": "RMSE",
         "type": "scatter",
         "xaxis": "x2",
         "y": [
          185.91172790527344,
          176.0624542236328,
          166.0021514892578,
          154.13392639160156,
          138.792236328125,
          122.26882934570312,
          103.49633026123047,
          85.18400573730469,
          67.08615112304688,
          51.43393325805664,
          39.75190353393555,
          31.732791900634766,
          25.757240295410156,
          21.671504974365234,
          18.89421844482422,
          17.007471084594727,
          15.788640975952148,
          14.904444694519043,
          14.345660209655762,
          13.77869701385498,
          13.35624885559082,
          12.947565078735352,
          12.621322631835938,
          12.42406177520752,
          12.048542976379395,
          11.812912940979004,
          11.521103858947754,
          11.309612274169922,
          11.095582962036133,
          10.940746307373047,
          10.774717330932617,
          10.604714393615723,
          10.458870887756348,
          10.335941314697266,
          10.20355224609375,
          10.114693641662598,
          9.995920181274414,
          9.950468063354492,
          9.837393760681152,
          9.782085418701172,
          9.71113395690918,
          9.603452682495117,
          9.572030067443848,
          9.490266799926758,
          9.437577247619629,
          9.374385833740234,
          9.324484825134277,
          9.275161743164062,
          9.204185485839844,
          9.167811393737793,
          9.167725563049316,
          9.087477684020996,
          9.035632133483887,
          9.038439750671387,
          9.033820152282715,
          8.916996955871582,
          8.941885948181152,
          8.923497200012207,
          8.889460563659668,
          8.836880683898926,
          8.818303108215332,
          8.897018432617188,
          8.868492126464844,
          8.791125297546387,
          8.764772415161133,
          8.701945304870605,
          8.707268714904785,
          8.704573631286621,
          8.740253448486328,
          8.721248626708984,
          8.70971393585205,
          8.679347038269043,
          8.64086627960205,
          8.698726654052734,
          8.647143363952637,
          8.648794174194336,
          8.60367488861084,
          8.64182186126709,
          8.581066131591797,
          8.578572273254395,
          8.581456184387207,
          8.578731536865234,
          8.589906692504883,
          8.584137916564941,
          8.554621696472168,
          8.488828659057617,
          8.647598266601562,
          8.538311004638672,
          8.503904342651367,
          8.520167350769043,
          8.47541332244873,
          8.466407775878906,
          8.482521057128906,
          8.42614459991455,
          8.417061805725098,
          8.414541244506836,
          8.397417068481445,
          8.282279014587402,
          8.361400604248047,
          8.322737693786621,
          8.234297752380371,
          8.26572036743164,
          8.140460968017578,
          8.176534652709961,
          8.139789581298828,
          8.112507820129395,
          8.101370811462402,
          8.057415008544922,
          8.107025146484375,
          8.137659072875977,
          8.032889366149902,
          8.039434432983398,
          8.066600799560547,
          8.050790786743164,
          8.01987361907959,
          8.079666137695312,
          7.989686489105225,
          8.065092086791992,
          8.009628295898438,
          8.052404403686523,
          8.007671356201172,
          8.048177719116211,
          8.031484603881836,
          7.999405860900879,
          7.981836795806885,
          7.997666358947754,
          7.980894565582275,
          7.9662675857543945,
          7.989049434661865,
          7.990255832672119,
          7.987051010131836,
          7.995272159576416,
          7.95241641998291,
          8.023598670959473,
          7.965436935424805,
          7.960782527923584,
          7.986191749572754,
          7.9808831214904785,
          7.9446611404418945,
          7.9886651039123535,
          7.953586578369141,
          7.985530853271484,
          7.9714179039001465,
          7.937840938568115,
          7.946067810058594,
          7.9657487869262695,
          7.939499855041504,
          7.955323219299316,
          7.962331771850586,
          7.9716315269470215,
          7.9671454429626465,
          7.910948753356934,
          7.939437389373779,
          7.913883686065674,
          7.947675704956055,
          7.957263469696045,
          7.944634437561035,
          7.95504093170166,
          7.89099645614624,
          7.944302558898926,
          7.937926292419434,
          7.929933071136475,
          7.91596794128418,
          7.9540791511535645,
          7.920341491699219,
          7.880112171173096,
          7.937168598175049,
          7.940151214599609,
          7.913392066955566,
          7.8885393142700195,
          7.917708873748779,
          7.924073219299316,
          7.893407821655273,
          7.9171013832092285,
          7.87799596786499,
          7.916108131408691,
          7.92374849319458,
          7.889859676361084,
          7.906580448150635
         ],
         "yaxis": "y2"
        },
        {
         "legendgroup": "RMSE",
         "line": {
          "color": "black",
          "width": 2
         },
         "mode": "lines",
         "name": "RMSE_val",
         "type": "scatter",
         "xaxis": "x2",
         "y": [
          221.9580078125,
          208.97381591796875,
          193.5114288330078,
          175.24734497070312,
          153.42628479003906,
          129.42510986328125,
          104.98252868652344,
          80.98452758789062,
          59.0497932434082,
          43.46054458618164,
          35.19166946411133,
          28.896276473999023,
          23.67167091369629,
          20.757844924926758,
          18.159439086914062,
          16.34124755859375,
          15.578967094421387,
          14.339864730834961,
          13.743439674377441,
          13.038182258605957,
          12.527745246887207,
          12.108820915222168,
          11.39852237701416,
          11.142216682434082,
          10.580267906188965,
          10.415159225463867,
          10.236059188842773,
          9.639653205871582,
          9.63109302520752,
          9.284634590148926,
          9.191060066223145,
          8.959543228149414,
          8.959917068481445,
          8.8211088180542,
          8.653085708618164,
          8.554525375366211,
          8.480853080749512,
          8.29478931427002,
          8.371792793273926,
          8.404342651367188,
          8.014291763305664,
          8.034538269042969,
          8.233530044555664,
          7.920517921447754,
          8.14057731628418,
          8.580138206481934,
          7.763561248779297,
          7.942829608917236,
          8.481352806091309,
          7.69810152053833,
          7.490452289581299,
          7.802868366241455,
          7.517668724060059,
          7.611937522888184,
          7.5360260009765625,
          7.54149866104126,
          7.460668087005615,
          7.556337833404541,
          7.408247947692871,
          7.244262218475342,
          7.377976894378662,
          7.351277828216553,
          7.3482747077941895,
          7.474165916442871,
          7.184271335601807,
          7.459147930145264,
          7.245712757110596,
          7.363207817077637,
          7.2751054763793945,
          7.194803237915039,
          7.742818832397461,
          7.229586601257324,
          7.314095973968506,
          7.341795444488525,
          7.105201721191406,
          7.331908702850342,
          6.938584327697754,
          6.963737487792969,
          7.271886825561523,
          7.211960315704346,
          7.672267913818359,
          7.608115196228027,
          7.222220420837402,
          7.149521827697754,
          7.176325798034668,
          7.213444232940674,
          7.496079921722412,
          7.312655925750732,
          7.1952409744262695,
          7.214243412017822,
          7.451358795166016,
          6.853176116943359,
          7.169463157653809,
          7.2199249267578125,
          6.835594654083252,
          6.915666103363037,
          7.035473346710205,
          6.983940601348877,
          7.127007007598877,
          6.877115249633789,
          7.228094100952148,
          6.6733012199401855,
          6.942000389099121,
          6.778700351715088,
          6.624612331390381,
          6.69081449508667,
          6.66279935836792,
          6.896641254425049,
          6.863954544067383,
          6.714646339416504,
          6.982274055480957,
          6.766744613647461,
          6.741231918334961,
          6.8690505027771,
          6.840643882751465,
          6.741625785827637,
          6.920802593231201,
          6.907157897949219,
          6.803282260894775,
          6.618146896362305,
          6.68310546875,
          6.7795515060424805,
          6.865299701690674,
          6.76710844039917,
          6.803642272949219,
          6.742800712585449,
          6.65737247467041,
          6.720567226409912,
          6.728573322296143,
          6.716970443725586,
          6.699825286865234,
          6.870875358581543,
          6.638324737548828,
          6.679974555969238,
          6.709571361541748,
          6.716381549835205,
          6.746358871459961,
          6.779841423034668,
          6.727138996124268,
          6.756107807159424,
          6.708673000335693,
          6.727144718170166,
          6.776997089385986,
          6.754388809204102,
          6.672435760498047,
          6.716231822967529,
          6.698381423950195,
          6.757980823516846,
          6.691853046417236,
          6.818657875061035,
          6.683701992034912,
          6.71936559677124,
          6.660139560699463,
          6.750195503234863,
          6.6954026222229,
          6.717687129974365,
          6.686034202575684,
          6.711062908172607,
          6.7245564460754395,
          6.702709674835205,
          6.724656105041504,
          6.698535919189453,
          6.707167625427246,
          6.711811542510986,
          6.7031755447387695,
          6.700944900512695,
          6.708301544189453,
          6.706062316894531,
          6.70966911315918,
          6.716497898101807,
          6.713449478149414,
          6.711440086364746,
          6.70972204208374,
          6.713572025299072,
          6.713588237762451,
          6.712523460388184,
          6.7129669189453125,
          6.712682247161865,
          6.7127461433410645
         ],
         "yaxis": "y2"
        },
        {
         "legendgroup": "Loss",
         "line": {
          "color": "#2d92ff",
          "width": 2
         },
         "mode": "lines",
         "name": "Loss",
         "type": "scatter",
         "xaxis": "x3",
         "y": [
          1.671425223350525,
          1.5587821006774902,
          1.438274621963501,
          1.3031741380691528,
          1.1342400312423706,
          0.9568426609039307,
          0.7651501297950745,
          0.5906912088394165,
          0.42457595467567444,
          0.28494879603385925,
          0.18541963398456573,
          0.12280916422605515,
          0.08253045380115509,
          0.05908374488353729,
          0.045015525072813034,
          0.036687519401311874,
          0.03161972761154175,
          0.028263326734304428,
          0.02617480605840683,
          0.02411886304616928,
          0.02282106503844261,
          0.021425995975732803,
          0.020378831773996353,
          0.019626468420028687,
          0.018522843718528748,
          0.017783796414732933,
          0.01700046844780445,
          0.016355209052562714,
          0.015761828050017357,
          0.01532704383134842,
          0.01478818990290165,
          0.014350313693284988,
          0.013931852765381336,
          0.013667521998286247,
          0.013306277804076672,
          0.013051344081759453,
          0.012783195823431015,
          0.012631537392735481,
          0.012361946515738964,
          0.01221726555377245,
          0.012002869509160519,
          0.011728103272616863,
          0.011642303317785263,
          0.01153512205928564,
          0.011359604075551033,
          0.011243424378335476,
          0.011124957352876663,
          0.010983385145664215,
          0.010861300863325596,
          0.010757978074252605,
          0.01072550006210804,
          0.010603840462863445,
          0.01043437048792839,
          0.010389779694378376,
          0.01042866799980402,
          0.010185223072767258,
          0.01018054224550724,
          0.010157272219657898,
          0.010052771307528019,
          0.009961496107280254,
          0.009926695376634598,
          0.010107691399753094,
          0.010052219033241272,
          0.009860780090093613,
          0.009796920232474804,
          0.009659620001912117,
          0.009669416584074497,
          0.009740463458001614,
          0.009685352444648743,
          0.009758882224559784,
          0.00968647189438343,
          0.009594249539077282,
          0.009503152221441269,
          0.009613421745598316,
          0.009506559930741787,
          0.009536877274513245,
          0.009466818533837795,
          0.009537328965961933,
          0.00939310435205698,
          0.009370439685881138,
          0.009348894469439983,
          0.009372526779770851,
          0.009352637454867363,
          0.009372252970933914,
          0.009319090284407139,
          0.00925940927118063,
          0.00949232280254364,
          0.009264430962502956,
          0.009254111908376217,
          0.009267047047615051,
          0.009141500107944012,
          0.009114906191825867,
          0.009125090204179287,
          0.009047559462487698,
          0.00899357721209526,
          0.009009665809571743,
          0.009014859795570374,
          0.008734664879739285,
          0.008871261961758137,
          0.00884029921144247,
          0.008573736064136028,
          0.008668415248394012,
          0.008403128013014793,
          0.008445373736321926,
          0.008450990542769432,
          0.008365347981452942,
          0.008259463123977184,
          0.008229618892073631,
          0.00836248230189085,
          0.008401619270443916,
          0.0081621203571558,
          0.008177199400961399,
          0.008209885098040104,
          0.008190471678972244,
          0.00816534087061882,
          0.00820333231240511,
          0.008114890195429325,
          0.008185009472072124,
          0.008131899870932102,
          0.008181457407772541,
          0.008102667517960072,
          0.008191755041480064,
          0.00813749898225069,
          0.008130999282002449,
          0.008018147200345993,
          0.008080457337200642,
          0.008074731566011906,
          0.00805764552205801,
          0.008060150779783726,
          0.008067908696830273,
          0.008036533370614052,
          0.008060190826654434,
          0.007989875040948391,
          0.008142681792378426,
          0.008038042113184929,
          0.007998643442988396,
          0.008033551275730133,
          0.008040443062782288,
          0.007991519756615162,
          0.008066502399742603,
          0.00798678770661354,
          0.008087619207799435,
          0.008033674210309982,
          0.007974382489919662,
          0.007979472167789936,
          0.008027574047446251,
          0.007955818437039852,
          0.00797842163592577,
          0.008041162975132465,
          0.008013058453798294,
          0.007971230894327164,
          0.007947999984025955,
          0.008001471869647503,
          0.0079319067299366,
          0.007938581518828869,
          0.008001484908163548,
          0.007946047931909561,
          0.007971348240971565,
          0.007902123965322971,
          0.007939298637211323,
          0.007945854216814041,
          0.007907901890575886,
          0.00790892168879509,
          0.007966550998389721,
          0.007938793860375881,
          0.007862416096031666,
          0.007991332560777664,
          0.007928352802991867,
          0.007900893688201904,
          0.007861449383199215,
          0.007893756031990051,
          0.007922438904643059,
          0.007874293252825737,
          0.007915494032204151,
          0.007856125943362713,
          0.007929082959890366,
          0.007883189246058464,
          0.007881556637585163,
          0.007893726229667664
         ],
         "yaxis": "y3"
        },
        {
         "legendgroup": "Loss",
         "line": {
          "color": "black",
          "width": 2
         },
         "mode": "lines",
         "name": "Loss_val",
         "type": "scatter",
         "xaxis": "x3",
         "y": [
          2.6068949699401855,
          2.4048821926116943,
          2.1693456172943115,
          1.8968112468719482,
          1.5851978063583374,
          1.268556833267212,
          0.9752049446105957,
          0.7073301076889038,
          0.4647478759288788,
          0.2885022759437561,
          0.1978074461221695,
          0.1364058405160904,
          0.09338273108005524,
          0.07223121076822281,
          0.055430226027965546,
          0.044925983995199203,
          0.0408354252576828,
          0.03459807485342026,
          0.03177991509437561,
          0.02860197052359581,
          0.026406308636069298,
          0.024669798091053963,
          0.02186044678092003,
          0.020888393744826317,
          0.018834548071026802,
          0.018251296132802963,
          0.0176289901137352,
          0.015634525567293167,
          0.015606770291924477,
          0.014504123479127884,
          0.014213242568075657,
          0.013506213203072548,
          0.013507341034710407,
          0.013092069886624813,
          0.01259806752204895,
          0.012312711216509342,
          0.012101548723876476,
          0.011576375924050808,
          0.011792309582233429,
          0.011884184554219246,
          0.0108066750690341,
          0.01086135022342205,
          0.01140601746737957,
          0.010555263608694077,
          0.011149934493005276,
          0.012386553920805454,
          0.010141070000827312,
          0.010614815168082714,
          0.012102975510060787,
          0.009970780462026596,
          0.009440130554139614,
          0.010244021192193031,
          0.009508855640888214,
          0.00974882673472166,
          0.009555350989103317,
          0.00956923607736826,
          0.009365205653011799,
          0.009606932289898396,
          0.009234065189957619,
          0.008829787373542786,
          0.009158754721283913,
          0.00909258984029293,
          0.009085160680115223,
          0.009399124421179295,
          0.008684150874614716,
          0.0093613900244236,
          0.008833322674036026,
          0.009122125804424286,
          0.008905135095119476,
          0.008709629997611046,
          0.010086954571306705,
          0.008794048801064491,
          0.009000844322144985,
          0.009069147519767284,
          0.008494049310684204,
          0.009044736623764038,
          0.00810034666210413,
          0.008159182965755463,
          0.008897257968783379,
          0.008751217275857925,
          0.009903972037136555,
          0.009739037603139877,
          0.008776136673986912,
          0.008600345812737942,
          0.008664951659739017,
          0.008754820562899113,
          0.009454320184886456,
          0.008997299708425999,
          0.008710688911378384,
          0.008756761439144611,
          0.009341850876808167,
          0.007902157492935658,
          0.008648388087749481,
          0.008770559914410114,
          0.007861664518713951,
          0.008046924136579037,
          0.008328150026500225,
          0.008206593804061413,
          0.008546263910830021,
          0.0079574603587389,
          0.00879041850566864,
          0.007492787670344114,
          0.008108326233923435,
          0.007731340825557709,
          0.0073838504031300545,
          0.007532166317105293,
          0.007469221483916044,
          0.00800271239131689,
          0.007927033118903637,
          0.007585919462144375,
          0.008202677592635155,
          0.007704092655330896,
          0.007646108511835337,
          0.007938808761537075,
          0.00787328276783228,
          0.007647001650184393,
          0.008058883249759674,
          0.008027136325836182,
          0.0077875154092907906,
          0.007369442377239466,
          0.007514819502830505,
          0.00773328123614192,
          0.007930141873657703,
          0.007704919669777155,
          0.007788338698446751,
          0.007649667095392942,
          0.007457058411091566,
          0.007599303033202887,
          0.007617419119924307,
          0.007591170724481344,
          0.007552466820925474,
          0.007943027652800083,
          0.007414448074996471,
          0.007507779635488987,
          0.0075744567438960075,
          0.007589838933199644,
          0.0076577430590987206,
          0.007733943872153759,
          0.00761417206376791,
          0.007679890375584364,
          0.00757242739200592,
          0.007614186033606529,
          0.007727455347776413,
          0.007675983943045139,
          0.007490844000130892,
          0.007589502260088921,
          0.007549211848527193,
          0.007684150245040655,
          0.00753450533375144,
          0.007822755724191666,
          0.007516162004321814,
          0.007596585433930159,
          0.007463259156793356,
          0.007666455116122961,
          0.007542499341070652,
          0.007592790760099888,
          0.007521406747400761,
          0.007577824871987104,
          0.007608328480273485,
          0.007558972109109163,
          0.007608553394675255,
          0.007549559697508812,
          0.007569029927253723,
          0.007579514291137457,
          0.0075600226409733295,
          0.007554991636425257,
          0.007571590133011341,
          0.007566535379737616,
          0.0075746760703623295,
          0.00759010249748826,
          0.007583214435726404,
          0.007578676100820303,
          0.0075747971422970295,
          0.007583491504192352,
          0.007583528757095337,
          0.0075811236165463924,
          0.007582125719636679,
          0.0075814807787537575,
          0.00758162559941411
         ],
         "yaxis": "y3"
        },
        {
         "legendgroup": "Loss",
         "line": {
          "color": "black",
          "width": 2
         },
         "mode": "lines",
         "name": "RegLoss",
         "type": "scatter",
         "xaxis": "x3",
         "y": [
          0,
          0,
          0,
          0,
          0,
          0,
          0,
          0,
          0,
          0,
          0,
          0,
          0,
          0,
          0,
          0,
          0,
          0,
          0,
          0,
          0,
          0,
          0,
          0,
          0,
          0,
          0,
          0,
          0,
          0,
          0,
          0,
          0,
          0,
          0,
          0,
          0,
          0,
          0,
          0,
          0,
          0,
          0,
          0,
          0,
          0,
          0,
          0,
          0,
          0,
          0,
          0,
          0,
          0,
          0,
          0,
          0,
          0,
          0,
          0,
          0,
          0,
          0,
          0,
          0,
          0,
          0,
          0,
          0,
          0,
          0,
          0,
          0,
          0,
          0,
          0,
          0,
          0,
          0,
          0,
          0,
          0,
          0,
          0,
          0,
          0,
          0,
          0,
          0,
          0,
          0,
          0,
          0,
          0,
          0,
          0,
          0,
          0,
          0,
          0,
          0,
          0,
          0,
          0,
          0,
          0,
          0,
          0,
          0,
          0,
          0,
          0,
          0,
          0,
          0,
          0,
          0,
          0,
          0,
          0,
          0,
          0,
          0,
          0,
          0,
          0,
          0,
          0,
          0,
          0,
          0,
          0,
          0,
          0,
          0,
          0,
          0,
          0,
          0,
          0,
          0,
          0,
          0,
          0,
          0,
          0,
          0,
          0,
          0,
          0,
          0,
          0,
          0,
          0,
          0,
          0,
          0,
          0,
          0,
          0,
          0,
          0,
          0,
          0,
          0,
          0,
          0,
          0,
          0,
          0,
          0,
          0,
          0,
          0,
          0,
          0,
          0,
          0,
          0
         ],
         "yaxis": "y3"
        }
       ],
       "layout": {
        "annotations": [
         {
          "font": {
           "size": 16
          },
          "showarrow": false,
          "text": "MAE",
          "x": 0.14444444444444446,
          "xanchor": "center",
          "xref": "paper",
          "y": 1,
          "yanchor": "bottom",
          "yref": "paper"
         },
         {
          "font": {
           "size": 16
          },
          "showarrow": false,
          "text": "RMSE",
          "x": 0.5,
          "xanchor": "center",
          "xref": "paper",
          "y": 1,
          "yanchor": "bottom",
          "yref": "paper"
         },
         {
          "font": {
           "size": 16
          },
          "showarrow": false,
          "text": "Loss",
          "x": 0.8555555555555556,
          "xanchor": "center",
          "xref": "paper",
          "y": 1,
          "yanchor": "bottom",
          "yref": "paper"
         }
        ],
        "autosize": true,
        "font": {
         "size": 10
        },
        "height": 200,
        "margin": {
         "b": 0,
         "l": 0,
         "pad": 0,
         "r": 10,
         "t": 30
        },
        "template": {
         "data": {
          "bar": [
           {
            "error_x": {
             "color": "#2a3f5f"
            },
            "error_y": {
             "color": "#2a3f5f"
            },
            "marker": {
             "line": {
              "color": "white",
              "width": 0.5
             },
             "pattern": {
              "fillmode": "overlay",
              "size": 10,
              "solidity": 0.2
             }
            },
            "type": "bar"
           }
          ],
          "barpolar": [
           {
            "marker": {
             "line": {
              "color": "white",
              "width": 0.5
             },
             "pattern": {
              "fillmode": "overlay",
              "size": 10,
              "solidity": 0.2
             }
            },
            "type": "barpolar"
           }
          ],
          "carpet": [
           {
            "aaxis": {
             "endlinecolor": "#2a3f5f",
             "gridcolor": "#C8D4E3",
             "linecolor": "#C8D4E3",
             "minorgridcolor": "#C8D4E3",
             "startlinecolor": "#2a3f5f"
            },
            "baxis": {
             "endlinecolor": "#2a3f5f",
             "gridcolor": "#C8D4E3",
             "linecolor": "#C8D4E3",
             "minorgridcolor": "#C8D4E3",
             "startlinecolor": "#2a3f5f"
            },
            "type": "carpet"
           }
          ],
          "choropleth": [
           {
            "colorbar": {
             "outlinewidth": 0,
             "ticks": ""
            },
            "type": "choropleth"
           }
          ],
          "contour": [
           {
            "colorbar": {
             "outlinewidth": 0,
             "ticks": ""
            },
            "colorscale": [
             [
              0,
              "#0d0887"
             ],
             [
              0.1111111111111111,
              "#46039f"
             ],
             [
              0.2222222222222222,
              "#7201a8"
             ],
             [
              0.3333333333333333,
              "#9c179e"
             ],
             [
              0.4444444444444444,
              "#bd3786"
             ],
             [
              0.5555555555555556,
              "#d8576b"
             ],
             [
              0.6666666666666666,
              "#ed7953"
             ],
             [
              0.7777777777777778,
              "#fb9f3a"
             ],
             [
              0.8888888888888888,
              "#fdca26"
             ],
             [
              1,
              "#f0f921"
             ]
            ],
            "type": "contour"
           }
          ],
          "contourcarpet": [
           {
            "colorbar": {
             "outlinewidth": 0,
             "ticks": ""
            },
            "type": "contourcarpet"
           }
          ],
          "heatmap": [
           {
            "colorbar": {
             "outlinewidth": 0,
             "ticks": ""
            },
            "colorscale": [
             [
              0,
              "#0d0887"
             ],
             [
              0.1111111111111111,
              "#46039f"
             ],
             [
              0.2222222222222222,
              "#7201a8"
             ],
             [
              0.3333333333333333,
              "#9c179e"
             ],
             [
              0.4444444444444444,
              "#bd3786"
             ],
             [
              0.5555555555555556,
              "#d8576b"
             ],
             [
              0.6666666666666666,
              "#ed7953"
             ],
             [
              0.7777777777777778,
              "#fb9f3a"
             ],
             [
              0.8888888888888888,
              "#fdca26"
             ],
             [
              1,
              "#f0f921"
             ]
            ],
            "type": "heatmap"
           }
          ],
          "heatmapgl": [
           {
            "colorbar": {
             "outlinewidth": 0,
             "ticks": ""
            },
            "colorscale": [
             [
              0,
              "#0d0887"
             ],
             [
              0.1111111111111111,
              "#46039f"
             ],
             [
              0.2222222222222222,
              "#7201a8"
             ],
             [
              0.3333333333333333,
              "#9c179e"
             ],
             [
              0.4444444444444444,
              "#bd3786"
             ],
             [
              0.5555555555555556,
              "#d8576b"
             ],
             [
              0.6666666666666666,
              "#ed7953"
             ],
             [
              0.7777777777777778,
              "#fb9f3a"
             ],
             [
              0.8888888888888888,
              "#fdca26"
             ],
             [
              1,
              "#f0f921"
             ]
            ],
            "type": "heatmapgl"
           }
          ],
          "histogram": [
           {
            "marker": {
             "pattern": {
              "fillmode": "overlay",
              "size": 10,
              "solidity": 0.2
             }
            },
            "type": "histogram"
           }
          ],
          "histogram2d": [
           {
            "colorbar": {
             "outlinewidth": 0,
             "ticks": ""
            },
            "colorscale": [
             [
              0,
              "#0d0887"
             ],
             [
              0.1111111111111111,
              "#46039f"
             ],
             [
              0.2222222222222222,
              "#7201a8"
             ],
             [
              0.3333333333333333,
              "#9c179e"
             ],
             [
              0.4444444444444444,
              "#bd3786"
             ],
             [
              0.5555555555555556,
              "#d8576b"
             ],
             [
              0.6666666666666666,
              "#ed7953"
             ],
             [
              0.7777777777777778,
              "#fb9f3a"
             ],
             [
              0.8888888888888888,
              "#fdca26"
             ],
             [
              1,
              "#f0f921"
             ]
            ],
            "type": "histogram2d"
           }
          ],
          "histogram2dcontour": [
           {
            "colorbar": {
             "outlinewidth": 0,
             "ticks": ""
            },
            "colorscale": [
             [
              0,
              "#0d0887"
             ],
             [
              0.1111111111111111,
              "#46039f"
             ],
             [
              0.2222222222222222,
              "#7201a8"
             ],
             [
              0.3333333333333333,
              "#9c179e"
             ],
             [
              0.4444444444444444,
              "#bd3786"
             ],
             [
              0.5555555555555556,
              "#d8576b"
             ],
             [
              0.6666666666666666,
              "#ed7953"
             ],
             [
              0.7777777777777778,
              "#fb9f3a"
             ],
             [
              0.8888888888888888,
              "#fdca26"
             ],
             [
              1,
              "#f0f921"
             ]
            ],
            "type": "histogram2dcontour"
           }
          ],
          "mesh3d": [
           {
            "colorbar": {
             "outlinewidth": 0,
             "ticks": ""
            },
            "type": "mesh3d"
           }
          ],
          "parcoords": [
           {
            "line": {
             "colorbar": {
              "outlinewidth": 0,
              "ticks": ""
             }
            },
            "type": "parcoords"
           }
          ],
          "pie": [
           {
            "automargin": true,
            "type": "pie"
           }
          ],
          "scatter": [
           {
            "fillpattern": {
             "fillmode": "overlay",
             "size": 10,
             "solidity": 0.2
            },
            "type": "scatter"
           }
          ],
          "scatter3d": [
           {
            "line": {
             "colorbar": {
              "outlinewidth": 0,
              "ticks": ""
             }
            },
            "marker": {
             "colorbar": {
              "outlinewidth": 0,
              "ticks": ""
             }
            },
            "type": "scatter3d"
           }
          ],
          "scattercarpet": [
           {
            "marker": {
             "colorbar": {
              "outlinewidth": 0,
              "ticks": ""
             }
            },
            "type": "scattercarpet"
           }
          ],
          "scattergeo": [
           {
            "marker": {
             "colorbar": {
              "outlinewidth": 0,
              "ticks": ""
             }
            },
            "type": "scattergeo"
           }
          ],
          "scattergl": [
           {
            "marker": {
             "colorbar": {
              "outlinewidth": 0,
              "ticks": ""
             }
            },
            "type": "scattergl"
           }
          ],
          "scattermapbox": [
           {
            "marker": {
             "colorbar": {
              "outlinewidth": 0,
              "ticks": ""
             }
            },
            "type": "scattermapbox"
           }
          ],
          "scatterpolar": [
           {
            "marker": {
             "colorbar": {
              "outlinewidth": 0,
              "ticks": ""
             }
            },
            "type": "scatterpolar"
           }
          ],
          "scatterpolargl": [
           {
            "marker": {
             "colorbar": {
              "outlinewidth": 0,
              "ticks": ""
             }
            },
            "type": "scatterpolargl"
           }
          ],
          "scatterternary": [
           {
            "marker": {
             "colorbar": {
              "outlinewidth": 0,
              "ticks": ""
             }
            },
            "type": "scatterternary"
           }
          ],
          "surface": [
           {
            "colorbar": {
             "outlinewidth": 0,
             "ticks": ""
            },
            "colorscale": [
             [
              0,
              "#0d0887"
             ],
             [
              0.1111111111111111,
              "#46039f"
             ],
             [
              0.2222222222222222,
              "#7201a8"
             ],
             [
              0.3333333333333333,
              "#9c179e"
             ],
             [
              0.4444444444444444,
              "#bd3786"
             ],
             [
              0.5555555555555556,
              "#d8576b"
             ],
             [
              0.6666666666666666,
              "#ed7953"
             ],
             [
              0.7777777777777778,
              "#fb9f3a"
             ],
             [
              0.8888888888888888,
              "#fdca26"
             ],
             [
              1,
              "#f0f921"
             ]
            ],
            "type": "surface"
           }
          ],
          "table": [
           {
            "cells": {
             "fill": {
              "color": "#EBF0F8"
             },
             "line": {
              "color": "white"
             }
            },
            "header": {
             "fill": {
              "color": "#C8D4E3"
             },
             "line": {
              "color": "white"
             }
            },
            "type": "table"
           }
          ]
         },
         "layout": {
          "annotationdefaults": {
           "arrowcolor": "#2a3f5f",
           "arrowhead": 0,
           "arrowwidth": 1
          },
          "autotypenumbers": "strict",
          "coloraxis": {
           "colorbar": {
            "outlinewidth": 0,
            "ticks": ""
           }
          },
          "colorscale": {
           "diverging": [
            [
             0,
             "#8e0152"
            ],
            [
             0.1,
             "#c51b7d"
            ],
            [
             0.2,
             "#de77ae"
            ],
            [
             0.3,
             "#f1b6da"
            ],
            [
             0.4,
             "#fde0ef"
            ],
            [
             0.5,
             "#f7f7f7"
            ],
            [
             0.6,
             "#e6f5d0"
            ],
            [
             0.7,
             "#b8e186"
            ],
            [
             0.8,
             "#7fbc41"
            ],
            [
             0.9,
             "#4d9221"
            ],
            [
             1,
             "#276419"
            ]
           ],
           "sequential": [
            [
             0,
             "#0d0887"
            ],
            [
             0.1111111111111111,
             "#46039f"
            ],
            [
             0.2222222222222222,
             "#7201a8"
            ],
            [
             0.3333333333333333,
             "#9c179e"
            ],
            [
             0.4444444444444444,
             "#bd3786"
            ],
            [
             0.5555555555555556,
             "#d8576b"
            ],
            [
             0.6666666666666666,
             "#ed7953"
            ],
            [
             0.7777777777777778,
             "#fb9f3a"
            ],
            [
             0.8888888888888888,
             "#fdca26"
            ],
            [
             1,
             "#f0f921"
            ]
           ],
           "sequentialminus": [
            [
             0,
             "#0d0887"
            ],
            [
             0.1111111111111111,
             "#46039f"
            ],
            [
             0.2222222222222222,
             "#7201a8"
            ],
            [
             0.3333333333333333,
             "#9c179e"
            ],
            [
             0.4444444444444444,
             "#bd3786"
            ],
            [
             0.5555555555555556,
             "#d8576b"
            ],
            [
             0.6666666666666666,
             "#ed7953"
            ],
            [
             0.7777777777777778,
             "#fb9f3a"
            ],
            [
             0.8888888888888888,
             "#fdca26"
            ],
            [
             1,
             "#f0f921"
            ]
           ]
          },
          "colorway": [
           "#636efa",
           "#EF553B",
           "#00cc96",
           "#ab63fa",
           "#FFA15A",
           "#19d3f3",
           "#FF6692",
           "#B6E880",
           "#FF97FF",
           "#FECB52"
          ],
          "font": {
           "color": "#2a3f5f"
          },
          "geo": {
           "bgcolor": "white",
           "lakecolor": "white",
           "landcolor": "white",
           "showlakes": true,
           "showland": true,
           "subunitcolor": "#C8D4E3"
          },
          "hoverlabel": {
           "align": "left"
          },
          "hovermode": "closest",
          "mapbox": {
           "style": "light"
          },
          "paper_bgcolor": "white",
          "plot_bgcolor": "white",
          "polar": {
           "angularaxis": {
            "gridcolor": "#EBF0F8",
            "linecolor": "#EBF0F8",
            "ticks": ""
           },
           "bgcolor": "white",
           "radialaxis": {
            "gridcolor": "#EBF0F8",
            "linecolor": "#EBF0F8",
            "ticks": ""
           }
          },
          "scene": {
           "xaxis": {
            "backgroundcolor": "white",
            "gridcolor": "#DFE8F3",
            "gridwidth": 2,
            "linecolor": "#EBF0F8",
            "showbackground": true,
            "ticks": "",
            "zerolinecolor": "#EBF0F8"
           },
           "yaxis": {
            "backgroundcolor": "white",
            "gridcolor": "#DFE8F3",
            "gridwidth": 2,
            "linecolor": "#EBF0F8",
            "showbackground": true,
            "ticks": "",
            "zerolinecolor": "#EBF0F8"
           },
           "zaxis": {
            "backgroundcolor": "white",
            "gridcolor": "#DFE8F3",
            "gridwidth": 2,
            "linecolor": "#EBF0F8",
            "showbackground": true,
            "ticks": "",
            "zerolinecolor": "#EBF0F8"
           }
          },
          "shapedefaults": {
           "line": {
            "color": "#2a3f5f"
           }
          },
          "ternary": {
           "aaxis": {
            "gridcolor": "#DFE8F3",
            "linecolor": "#A2B1C6",
            "ticks": ""
           },
           "baxis": {
            "gridcolor": "#DFE8F3",
            "linecolor": "#A2B1C6",
            "ticks": ""
           },
           "bgcolor": "white",
           "caxis": {
            "gridcolor": "#DFE8F3",
            "linecolor": "#A2B1C6",
            "ticks": ""
           }
          },
          "title": {
           "x": 0.05
          },
          "xaxis": {
           "automargin": true,
           "gridcolor": "#EBF0F8",
           "linecolor": "#EBF0F8",
           "ticks": "",
           "title": {
            "standoff": 15
           },
           "zerolinecolor": "#EBF0F8",
           "zerolinewidth": 2
          },
          "yaxis": {
           "automargin": true,
           "gridcolor": "#EBF0F8",
           "linecolor": "#EBF0F8",
           "ticks": "",
           "title": {
            "standoff": 15
           },
           "zerolinecolor": "#EBF0F8",
           "zerolinewidth": 2
          }
         }
        },
        "title": {
         "font": {
          "size": 10
         }
        },
        "width": 1000,
        "xaxis": {
         "anchor": "y",
         "domain": [
          0,
          0.2888888888888889
         ],
         "linewidth": 1.5,
         "mirror": true,
         "showgrid": false,
         "showline": true
        },
        "xaxis2": {
         "anchor": "y2",
         "domain": [
          0.35555555555555557,
          0.6444444444444445
         ],
         "linewidth": 1.5,
         "mirror": true,
         "showgrid": false,
         "showline": true
        },
        "xaxis3": {
         "anchor": "y3",
         "domain": [
          0.7111111111111111,
          1
         ],
         "linewidth": 1.5,
         "mirror": true,
         "showgrid": false,
         "showline": true
        },
        "yaxis": {
         "anchor": "x",
         "domain": [
          0,
          1
         ],
         "linewidth": 1.5,
         "mirror": true,
         "rangemode": "tozero",
         "showgrid": false,
         "showline": true,
         "type": "log"
        },
        "yaxis2": {
         "anchor": "x2",
         "domain": [
          0,
          1
         ],
         "linewidth": 1.5,
         "mirror": true,
         "rangemode": "tozero",
         "showgrid": false,
         "showline": true,
         "type": "log"
        },
        "yaxis3": {
         "anchor": "x3",
         "domain": [
          0,
          1
         ],
         "linewidth": 1.5,
         "mirror": true,
         "rangemode": "tozero",
         "showgrid": false,
         "showline": true,
         "type": "log"
        }
       }
      }
     },
     "metadata": {},
     "output_type": "display_data"
    }
   ],
   "source": [
    "create_metrics_plot(metrics)"
   ]
  },
  {
   "cell_type": "code",
   "execution_count": 34,
   "metadata": {},
   "outputs": [
    {
     "data": {
      "text/plain": [
       "{'MAE_val': 5.427692413330078,\n",
       " 'RMSE_val': 6.7127461433410645,\n",
       " 'Loss_val': 0.00758162559941411,\n",
       " 'RegLoss_val': 0.0,\n",
       " 'epoch': 178,\n",
       " 'MAE': 5.914531707763672,\n",
       " 'RMSE': 7.906580448150635,\n",
       " 'Loss': 0.007893726229667664,\n",
       " 'RegLoss': 0.0}"
      ]
     },
     "execution_count": 34,
     "metadata": {},
     "output_type": "execute_result"
    }
   ],
   "source": [
    "metrics.to_dict(\"records\")[-1]"
   ]
  },
  {
   "cell_type": "code",
   "execution_count": 35,
   "metadata": {},
   "outputs": [
    {
     "data": {
      "text/html": [
       "<div>\n",
       "<style scoped>\n",
       "    .dataframe tbody tr th:only-of-type {\n",
       "        vertical-align: middle;\n",
       "    }\n",
       "\n",
       "    .dataframe tbody tr th {\n",
       "        vertical-align: top;\n",
       "    }\n",
       "\n",
       "    .dataframe thead th {\n",
       "        text-align: right;\n",
       "    }\n",
       "</style>\n",
       "<table border=\"1\" class=\"dataframe\">\n",
       "  <thead>\n",
       "    <tr style=\"text-align: right;\">\n",
       "      <th></th>\n",
       "      <th>MAE_val</th>\n",
       "      <th>RMSE_val</th>\n",
       "      <th>Loss_val</th>\n",
       "      <th>RegLoss_val</th>\n",
       "      <th>epoch</th>\n",
       "      <th>MAE</th>\n",
       "      <th>RMSE</th>\n",
       "      <th>Loss</th>\n",
       "      <th>RegLoss</th>\n",
       "    </tr>\n",
       "  </thead>\n",
       "  <tbody>\n",
       "    <tr>\n",
       "      <th>178</th>\n",
       "      <td>5.427692</td>\n",
       "      <td>6.712746</td>\n",
       "      <td>0.007582</td>\n",
       "      <td>0.0</td>\n",
       "      <td>178</td>\n",
       "      <td>5.914532</td>\n",
       "      <td>7.90658</td>\n",
       "      <td>0.007894</td>\n",
       "      <td>0.0</td>\n",
       "    </tr>\n",
       "  </tbody>\n",
       "</table>\n",
       "</div>"
      ],
      "text/plain": [
       "      MAE_val  RMSE_val  Loss_val  RegLoss_val  epoch       MAE     RMSE  \\\n",
       "178  5.427692  6.712746  0.007582          0.0    178  5.914532  7.90658   \n",
       "\n",
       "         Loss  RegLoss  \n",
       "178  0.007894      0.0  "
      ]
     },
     "execution_count": 35,
     "metadata": {},
     "output_type": "execute_result"
    }
   ],
   "source": [
    "metrics.tail(1)"
   ]
  },
  {
   "cell_type": "code",
   "execution_count": 36,
   "metadata": {},
   "outputs": [
    {
     "name": "stderr",
     "output_type": "stream",
     "text": [
      "INFO - (NP.df_utils._infer_frequency) - Major frequency D corresponds to 99.932% of the data.\n",
      "INFO - (NP.df_utils._infer_frequency) - Defined frequency is equal to major frequency - D\n",
      "INFO - (NP.df_utils._infer_frequency) - Major frequency D corresponds to 99.932% of the data.\n",
      "INFO - (NP.df_utils._infer_frequency) - Defined frequency is equal to major frequency - D\n"
     ]
    },
    {
     "data": {
      "application/vnd.jupyter.widget-view+json": {
       "model_id": "1629e66c030f4d32b8b1e1a9180c3c62",
       "version_major": 2,
       "version_minor": 0
      },
      "text/plain": [
       "Predicting: 41it [00:00, ?it/s]"
      ]
     },
     "metadata": {},
     "output_type": "display_data"
    },
    {
     "name": "stderr",
     "output_type": "stream",
     "text": [
      "INFO - (NP.df_utils.return_df_in_original_format) - Returning df with no ID column\n"
     ]
    }
   ],
   "source": [
    "forecast = m.predict(df)"
   ]
  },
  {
   "cell_type": "code",
   "execution_count": 37,
   "metadata": {},
   "outputs": [
    {
     "data": {
      "application/vnd.jupyter.widget-view+json": {
       "model_id": "fb93a042f07e4a71b627b5dec9217daf",
       "version_major": 2,
       "version_minor": 0
      },
      "text/plain": [
       "FigureWidgetResampler({\n",
       "    'data': [{'line': {'color': '#2d92ff', 'width': 2},\n",
       "              'mode': 'lines',\n",
       "              'name': '<b style=\"color:sandybrown\">[R]</b> Predicted <i style=\"color:#fc9944\">~1D</i>',\n",
       "              'type': 'scatter',\n",
       "              'uid': '396ea1b0-5f35-4332-8e56-e4779a7b8143',\n",
       "              'x': array([datetime.datetime(2015, 1, 21, 0, 0),\n",
       "                          datetime.datetime(2015, 1, 22, 0, 0),\n",
       "                          datetime.datetime(2015, 1, 23, 0, 0), ...,\n",
       "                          datetime.datetime(2018, 12, 28, 0, 0),\n",
       "                          datetime.datetime(2018, 12, 29, 0, 0),\n",
       "                          datetime.datetime(2018, 12, 31, 0, 0)], dtype=object),\n",
       "              'y': array([54.09432 , 53.393017, 50.852264, ..., 56.8785  , 58.787167, 58.58358 ],\n",
       "                         dtype=float32)},\n",
       "             {'marker': {'color': 'blue', 'size': 4, 'symbol': 'x'},\n",
       "              'mode': 'markers',\n",
       "              'name': '<b style=\"color:sandybrown\">[R]</b> Predicted <i style=\"color:#fc9944\">~1D</i>',\n",
       "              'type': 'scatter',\n",
       "              'uid': '459a4e9f-cc5b-4141-a5ca-3e649b0337e8',\n",
       "              'x': array([datetime.datetime(2015, 1, 21, 0, 0),\n",
       "                          datetime.datetime(2015, 1, 22, 0, 0),\n",
       "                          datetime.datetime(2015, 1, 23, 0, 0), ...,\n",
       "                          datetime.datetime(2018, 12, 28, 0, 0),\n",
       "                          datetime.datetime(2018, 12, 29, 0, 0),\n",
       "                          datetime.datetime(2018, 12, 31, 0, 0)], dtype=object),\n",
       "              'y': array([54.09432 , 53.393017, 50.852264, ..., 56.8785  , 58.787167, 58.58358 ],\n",
       "                         dtype=float32)},\n",
       "             {'marker': {'color': 'black', 'size': 4},\n",
       "              'mode': 'markers',\n",
       "              'name': '<b style=\"color:sandybrown\">[R]</b> Actual <i style=\"color:#fc9944\">~1D</i>',\n",
       "              'type': 'scatter',\n",
       "              'uid': '3a7dd528-0c4a-46b2-837a-f715eac24027',\n",
       "              'x': array([datetime.datetime(2015, 1, 1, 0, 0),\n",
       "                          datetime.datetime(2015, 1, 2, 0, 0),\n",
       "                          datetime.datetime(2015, 1, 3, 0, 0), ...,\n",
       "                          datetime.datetime(2018, 12, 28, 0, 0),\n",
       "                          datetime.datetime(2018, 12, 29, 0, 0),\n",
       "                          datetime.datetime(2018, 12, 31, 0, 0)], dtype=object),\n",
       "              'y': array([64.92, 58.46, 63.35, ..., 68.61, 60.22, 60.32])}],\n",
       "    'layout': {'autosize': True,\n",
       "               'font': {'size': 10},\n",
       "               'height': 420,\n",
       "               'hovermode': 'x unified',\n",
       "               'margin': {'b': 0, 'l': 0, 'pad': 0, 'r': 10, 't': 10},\n",
       "               'showlegend': True,\n",
       "               'template': '...',\n",
       "               'title': {'font': {'size': 12}},\n",
       "               'width': 700,\n",
       "               'xaxis': {'linewidth': 1.5,\n",
       "                         'mirror': True,\n",
       "                         'rangeselector': {'buttons': [{'count': 7, 'label': '1w', 'step': 'day', 'stepmode': 'backward'},\n",
       "                                                       {'count': 1,\n",
       "                                                        'label': '1m',\n",
       "                                                        'step': 'month',\n",
       "                                                        'stepmode': 'backward'},\n",
       "                                                       {'count': 6,\n",
       "                                                        'label': '6m',\n",
       "                                                        'step': 'month',\n",
       "                                                        'stepmode': 'backward'},\n",
       "                                                       {'count': 1, 'label': '1y', 'step': 'year', 'stepmode': 'backward'},\n",
       "                                                       {'step': 'all'}]},\n",
       "                         'rangeslider': {'visible': True},\n",
       "                         'showline': True,\n",
       "                         'title': {'text': 'ds'},\n",
       "                         'type': 'date'},\n",
       "               'yaxis': {'linewidth': 1.5, 'mirror': True, 'showline': True, 'title': {'text': 'y'}}}\n",
       "})"
      ]
     },
     "execution_count": 37,
     "metadata": {},
     "output_type": "execute_result"
    }
   ],
   "source": [
    "m.highlight_nth_step_ahead_of_each_forecast(7)\n",
    "m.plot(forecast)"
   ]
  },
  {
   "cell_type": "code",
   "execution_count": 38,
   "metadata": {},
   "outputs": [
    {
     "data": {
      "application/vnd.jupyter.widget-view+json": {
       "model_id": "f91f136109cc42c88223af3dca5bf62e",
       "version_major": 2,
       "version_minor": 0
      },
      "text/plain": [
       "FigureWidgetResampler({\n",
       "    'data': [{'line': {'color': '#2d92ff', 'width': 2},\n",
       "              'mode': 'lines',\n",
       "              'name': '<b style=\"color:sandybrown\">[R]</b> Trend <i style=\"color:#fc9944\">~1D</i>',\n",
       "              'showlegend': False,\n",
       "              'type': 'scatter',\n",
       "              'uid': 'b9e952d8-a39c-48e7-82d5-1e76eeec2f04',\n",
       "              'x': array([datetime.datetime(2015, 1, 15, 0, 0),\n",
       "                          datetime.datetime(2015, 1, 16, 0, 0),\n",
       "                          datetime.datetime(2015, 1, 17, 0, 0), ...,\n",
       "                          datetime.datetime(2018, 12, 28, 0, 0),\n",
       "                          datetime.datetime(2018, 12, 29, 0, 0),\n",
       "                          datetime.datetime(2018, 12, 31, 0, 0)], dtype=object),\n",
       "              'xaxis': 'x',\n",
       "              'y': array([44.47614 , 44.48715 , 44.498158, ..., 60.361263, 60.372272, 60.39429 ],\n",
       "                         dtype=float32),\n",
       "              'yaxis': 'y'},\n",
       "             {'line': {'color': '#2d92ff', 'width': 2},\n",
       "              'mode': 'lines',\n",
       "              'name': ('<b style=\"color:sandybrown\">[R' ... ' style=\"color:#fc9944\">~1D</i>'),\n",
       "              'showlegend': False,\n",
       "              'type': 'scatter',\n",
       "              'uid': '74b3abbb-a3d1-452f-b75a-370a4ab7cabe',\n",
       "              'x': array([datetime.datetime(2015, 1, 15, 0, 0),\n",
       "                          datetime.datetime(2015, 1, 16, 0, 0),\n",
       "                          datetime.datetime(2015, 1, 17, 0, 0), ...,\n",
       "                          datetime.datetime(2018, 12, 28, 0, 0),\n",
       "                          datetime.datetime(2018, 12, 30, 0, 0),\n",
       "                          datetime.datetime(2018, 12, 31, 0, 0)], dtype=object),\n",
       "              'xaxis': 'x2',\n",
       "              'y': array([-2.1633937, -2.002442 , -1.8352458, ..., -1.8305055, -2.2733219,\n",
       "                          -2.455084 ], dtype=float32),\n",
       "              'yaxis': 'y2'},\n",
       "             {'line': {'color': '#2d92ff', 'width': 2},\n",
       "              'mode': 'lines',\n",
       "              'name': ('<b style=\"color:sandybrown\">[R' ... ' style=\"color:#fc9944\">~1D</i>'),\n",
       "              'showlegend': False,\n",
       "              'type': 'scatter',\n",
       "              'uid': '3cd24318-ef48-42c2-8485-de13eb0a80bb',\n",
       "              'x': array([datetime.datetime(2015, 1, 15, 0, 0),\n",
       "                          datetime.datetime(2015, 1, 16, 0, 0),\n",
       "                          datetime.datetime(2015, 1, 17, 0, 0), ...,\n",
       "                          datetime.datetime(2018, 12, 28, 0, 0),\n",
       "                          datetime.datetime(2018, 12, 29, 0, 0),\n",
       "                          datetime.datetime(2018, 12, 31, 0, 0)], dtype=object),\n",
       "              'xaxis': 'x3',\n",
       "              'y': array([ 0.5700638 ,  0.93010706,  1.5007339 , ...,  0.9299389 ,  1.5009016 ,\n",
       "                          -2.3653524 ], dtype=float32),\n",
       "              'yaxis': 'y3'},\n",
       "             {'line': {'color': '#2d92ff', 'width': 2},\n",
       "              'mode': 'lines',\n",
       "              'name': ('<b style=\"color:sandybrown\">[R' ... ' style=\"color:#fc9944\">~1D</i>'),\n",
       "              'showlegend': False,\n",
       "              'type': 'scatter',\n",
       "              'uid': 'b178a3c0-1e89-49d2-9811-42081200eb5f',\n",
       "              'x': array([datetime.datetime(2015, 1, 21, 0, 0),\n",
       "                          datetime.datetime(2015, 1, 22, 0, 0),\n",
       "                          datetime.datetime(2015, 1, 23, 0, 0), ...,\n",
       "                          datetime.datetime(2018, 12, 28, 0, 0),\n",
       "                          datetime.datetime(2018, 12, 29, 0, 0),\n",
       "                          datetime.datetime(2018, 12, 31, 0, 0)], dtype=object),\n",
       "              'xaxis': 'x4',\n",
       "              'y': array([12.101761  , 10.028453  ,  7.5660887 , ..., -1.9169139 ,  0.49307716,\n",
       "                           3.273753  ], dtype=float32),\n",
       "              'yaxis': 'y4'},\n",
       "             {'line': {'color': '#2d92ff', 'width': 2},\n",
       "              'mode': 'lines',\n",
       "              'name': ('<b style=\"color:sandybrown\">[R' ... ' style=\"color:#fc9944\">~1D</i>'),\n",
       "              'showlegend': False,\n",
       "              'type': 'scatter',\n",
       "              'uid': 'e4b67f5d-6404-425f-a1b3-7acd6c55c1b2',\n",
       "              'x': array([datetime.datetime(2015, 1, 21, 0, 0),\n",
       "                          datetime.datetime(2015, 1, 22, 0, 0),\n",
       "                          datetime.datetime(2015, 1, 23, 0, 0), ...,\n",
       "                          datetime.datetime(2018, 12, 28, 0, 0),\n",
       "                          datetime.datetime(2018, 12, 29, 0, 0),\n",
       "                          datetime.datetime(2018, 12, 31, 0, 0)], dtype=object),\n",
       "              'xaxis': 'x5',\n",
       "              'y': array([-1.0759857 ,  0.25015974, -0.4303612 , ...,  0.8078459 , -0.05273022,\n",
       "                           0.        ], dtype=float32),\n",
       "              'yaxis': 'y5'},\n",
       "             {'line': {'color': '#2d92ff', 'width': 2},\n",
       "              'mode': 'lines',\n",
       "              'name': ('<b style=\"color:sandybrown\">[R' ... ' style=\"color:#fc9944\">~1D</i>'),\n",
       "              'showlegend': False,\n",
       "              'type': 'scatter',\n",
       "              'uid': '1cf4a673-24f3-42d9-bde4-d85c45081ed9',\n",
       "              'x': array([datetime.datetime(2015, 1, 15, 0, 0),\n",
       "                          datetime.datetime(2015, 1, 16, 0, 0),\n",
       "                          datetime.datetime(2015, 1, 17, 0, 0), ...,\n",
       "                          datetime.datetime(2018, 12, 28, 0, 0),\n",
       "                          datetime.datetime(2018, 12, 30, 0, 0),\n",
       "                          datetime.datetime(2018, 12, 31, 0, 0)], dtype=object),\n",
       "              'xaxis': 'x6',\n",
       "              'y': array([-2.2437775, -1.7161788, -0.7617581, ..., -1.4731275, -1.1737596,\n",
       "                          -1.2982491], dtype=float32),\n",
       "              'yaxis': 'y6'}],\n",
       "    'layout': {'autosize': True,\n",
       "               'barmode': 'overlay',\n",
       "               'font': {'size': 10},\n",
       "               'height': 1260,\n",
       "               'hovermode': 'x unified',\n",
       "               'legend': {'traceorder': 'reversed', 'y': 0.1},\n",
       "               'margin': {'b': 0, 'l': 0, 'pad': 0, 'r': 10, 't': 10},\n",
       "               'template': '...',\n",
       "               'title': {'font': {'size': 12}},\n",
       "               'width': 700,\n",
       "               'xaxis': {'anchor': 'y',\n",
       "                         'domain': [0.0, 1.0],\n",
       "                         'linewidth': 1.5,\n",
       "                         'mirror': True,\n",
       "                         'range': [2014-11-04 00:00:00, 2019-03-13 00:00:00],\n",
       "                         'showline': True,\n",
       "                         'title': {'text': 'ds'},\n",
       "                         'type': 'date'},\n",
       "               'xaxis2': {'anchor': 'y2',\n",
       "                          'domain': [0.0, 1.0],\n",
       "                          'linewidth': 1.5,\n",
       "                          'mirror': True,\n",
       "                          'range': [2014-11-04 00:00:00, 2019-03-13 00:00:00],\n",
       "                          'showline': True,\n",
       "                          'title': {'text': 'ds'},\n",
       "                          'type': 'date'},\n",
       "               'xaxis3': {'anchor': 'y3',\n",
       "                          'domain': [0.0, 1.0],\n",
       "                          'linewidth': 1.5,\n",
       "                          'mirror': True,\n",
       "                          'range': [2014-11-04 00:00:00, 2019-03-13 00:00:00],\n",
       "                          'showline': True,\n",
       "                          'title': {'text': 'ds'},\n",
       "                          'type': 'date'},\n",
       "               'xaxis4': {'anchor': 'y4',\n",
       "                          'domain': [0.0, 1.0],\n",
       "                          'linewidth': 1.5,\n",
       "                          'mirror': True,\n",
       "                          'range': [2014-11-10 00:00:00, 2019-03-13 00:00:00],\n",
       "                          'showline': True,\n",
       "                          'title': {'text': 'ds'},\n",
       "                          'type': 'date'},\n",
       "               'xaxis5': {'anchor': 'y5',\n",
       "                          'domain': [0.0, 1.0],\n",
       "                          'linewidth': 1.5,\n",
       "                          'mirror': True,\n",
       "                          'range': [2014-11-10 00:00:00, 2019-03-13 00:00:00],\n",
       "                          'showline': True,\n",
       "                          'title': {'text': 'ds'},\n",
       "                          'type': 'date'},\n",
       "               'xaxis6': {'anchor': 'y6',\n",
       "                          'domain': [0.0, 1.0],\n",
       "                          'linewidth': 1.5,\n",
       "                          'mirror': True,\n",
       "                          'range': [2014-11-04 00:00:00, 2019-03-13 00:00:00],\n",
       "                          'showline': True,\n",
       "                          'title': {'text': 'ds'},\n",
       "                          'type': 'date'},\n",
       "               'yaxis': {'anchor': 'x',\n",
       "                         'domain': [0.875, 1.0],\n",
       "                         'linewidth': 1.5,\n",
       "                         'mirror': True,\n",
       "                         'rangemode': 'normal',\n",
       "                         'showline': True,\n",
       "                         'title': {'text': 'Trend'}},\n",
       "               'yaxis2': {'anchor': 'x2',\n",
       "                          'domain': [0.7, 0.825],\n",
       "                          'linewidth': 1.5,\n",
       "                          'mirror': True,\n",
       "                          'rangemode': 'tozero',\n",
       "                          'showline': True,\n",
       "                          'title': {'text': 'yearly seasonality'}},\n",
       "               'yaxis3': {'anchor': 'x3',\n",
       "                          'domain': [0.525, 0.65],\n",
       "                          'linewidth': 1.5,\n",
       "                          'mirror': True,\n",
       "                          'rangemode': 'tozero',\n",
       "                          'showline': True,\n",
       "                          'title': {'text': 'weekly seasonality'}},\n",
       "               'yaxis4': {'anchor': 'x4',\n",
       "                          'domain': [0.35, 0.475],\n",
       "                          'linewidth': 1.5,\n",
       "                          'mirror': True,\n",
       "                          'rangemode': 'tozero',\n",
       "                          'showline': True,\n",
       "                          'title': {'text': 'AR (7)-ahead'}},\n",
       "               'yaxis5': {'anchor': 'x5',\n",
       "                          'domain': [0.175, 0.3],\n",
       "                          'linewidth': 1.5,\n",
       "                          'mirror': True,\n",
       "                          'rangemode': 'tozero',\n",
       "                          'showline': True,\n",
       "                          'title': {'text': 'Lagged Regressor \"temp\" (7)-ahead'}},\n",
       "               'yaxis6': {'anchor': 'x6',\n",
       "                          'domain': [0.0, 0.125],\n",
       "                          'linewidth': 1.5,\n",
       "                          'mirror': True,\n",
       "                          'rangemode': 'tozero',\n",
       "                          'showline': True,\n",
       "                          'title': {'text': 'Additive Future Regressors'}}}\n",
       "})"
      ]
     },
     "execution_count": 38,
     "metadata": {},
     "output_type": "execute_result"
    }
   ],
   "source": [
    "m.plot_components(forecast)"
   ]
  },
  {
   "cell_type": "code",
   "execution_count": 39,
   "metadata": {},
   "outputs": [
    {
     "data": {
      "application/vnd.jupyter.widget-view+json": {
       "model_id": "da70241b31a74cfd9027713d4ae1af27",
       "version_major": 2,
       "version_minor": 0
      },
      "text/plain": [
       "FigureWidgetResampler({\n",
       "    'data': [{'fill': 'none',\n",
       "              'line': {'color': '#2d92ff', 'width': 2},\n",
       "              'mode': 'lines',\n",
       "              'name': 'Trend',\n",
       "              'type': 'scatter',\n",
       "              'uid': 'd49f5531-c3bf-49c0-95a6-b60a13d140fd',\n",
       "              'x': array([datetime.datetime(2015, 1, 1, 0, 0),\n",
       "                          datetime.datetime(2018, 8, 4, 0, 0)], dtype=object),\n",
       "              'xaxis': 'x',\n",
       "              'y': array([44.32202, 58.75404], dtype=float32),\n",
       "              'yaxis': 'y'},\n",
       "             {'fill': 'none',\n",
       "              'line': {'color': '#2d92ff', 'width': 2},\n",
       "              'mode': 'lines',\n",
       "              'name': 'yearly',\n",
       "              'type': 'scatter',\n",
       "              'uid': '24f126e0-4d66-456e-a592-467bf8e7772a',\n",
       "              'x': array([datetime.datetime(2017, 1, 1, 0, 0),\n",
       "                          datetime.datetime(2017, 1, 2, 0, 0),\n",
       "                          datetime.datetime(2017, 1, 3, 0, 0), ...,\n",
       "                          datetime.datetime(2017, 12, 29, 0, 0),\n",
       "                          datetime.datetime(2017, 12, 30, 0, 0),\n",
       "                          datetime.datetime(2017, 12, 31, 0, 0)], dtype=object),\n",
       "              'xaxis': 'x2',\n",
       "              'y': array([-2.67622  , -2.7886755, -2.8736753, ..., -2.1195066, -2.3214276,\n",
       "                          -2.4960926], dtype=float32),\n",
       "              'yaxis': 'y2'},\n",
       "             {'fill': 'none',\n",
       "              'line': {'color': '#2d92ff', 'width': 2},\n",
       "              'mode': 'lines',\n",
       "              'name': 'weekly',\n",
       "              'type': 'scatter',\n",
       "              'uid': 'c975d804-d4a8-46a9-a2ad-697a801014ab',\n",
       "              'x': array([  0,   1,   2,   3,   4,   5,   6,   7,   8,   9,  10,  11,  12,  13,\n",
       "                           14,  15,  16,  17,  18,  19,  20,  21,  22,  23,  24,  25,  26,  27,\n",
       "                           28,  29,  30,  31,  32,  33,  34,  35,  36,  37,  38,  39,  40,  41,\n",
       "                           42,  43,  44,  45,  46,  47,  48,  49,  50,  51,  52,  53,  54,  55,\n",
       "                           56,  57,  58,  59,  60,  61,  62,  63,  64,  65,  66,  67,  68,  69,\n",
       "                           70,  71,  72,  73,  74,  75,  76,  77,  78,  79,  80,  81,  82,  83,\n",
       "                           84,  85,  86,  87,  88,  89,  90,  91,  92,  93,  94,  95,  96,  97,\n",
       "                           98,  99, 100, 101, 102, 103, 104, 105, 106, 107, 108, 109, 110, 111,\n",
       "                          112, 113, 114, 115, 116, 117, 118, 119, 120, 121, 122, 123, 124, 125,\n",
       "                          126, 127, 128, 129, 130, 131, 132, 133, 134, 135, 136, 137, 138, 139,\n",
       "                          140, 141, 142, 143, 144, 145, 146, 147, 148, 149, 150, 151, 152, 153,\n",
       "                          154, 155, 156, 157, 158, 159, 160, 161, 162, 163, 164, 165, 166, 167]),\n",
       "              'xaxis': 'x3',\n",
       "              'y': array([-1.3654107 , -1.5224646 , -1.6729195 , -1.8257953 , -1.9662819 ,\n",
       "                          -2.0956717 , -2.2163844 , -2.327625  , -2.4342763 , -2.522298  ,\n",
       "                          -2.6005387 , -2.666829  , -2.7225919 , -2.765231  , -2.791797  ,\n",
       "                          -2.8060744 , -2.80736   , -2.7946367 , -2.7693934 , -2.7321372 ,\n",
       "                          -2.6794078 , -2.6190755 , -2.5430727 , -2.459866  , -2.3672879 ,\n",
       "                          -2.2659054 , -2.158306  , -2.0348113 , -1.9103053 , -1.7784677 ,\n",
       "                          -1.6462446 , -1.513254  , -1.3677065 , -1.2276001 , -1.08893   ,\n",
       "                          -0.9510733 , -0.81381935, -0.67300504, -0.5425636 , -0.41735956,\n",
       "                          -0.29713926, -0.18228209, -0.07400525,  0.02731194,  0.12119884,\n",
       "                           0.21233244,  0.29507852,  0.3597422 ,  0.42202985,  0.47516406,\n",
       "                           0.5206207 ,  0.5603898 ,  0.5916627 ,  0.6146197 ,  0.6289971 ,\n",
       "                           0.6387314 ,  0.6401251 ,  0.636206  ,  0.62896127,  0.61473405,\n",
       "                           0.6006781 ,  0.5791776 ,  0.55603343,  0.53226227,  0.5056827 ,\n",
       "                           0.47971544,  0.45222542,  0.42517692,  0.39874598,  0.37439045,\n",
       "                           0.35041448,  0.32950622,  0.31099245,  0.29475194,  0.2826254 ,\n",
       "                           0.27113247,  0.26435733,  0.2601242 ,  0.2586305 ,  0.26244193,\n",
       "                           0.2658674 ,  0.2745805 ,  0.28434727,  0.29909566,  0.31513068,\n",
       "                           0.33238584,  0.3504391 ,  0.3698935 ,  0.39266914,  0.41589656,\n",
       "                           0.43638316,  0.45995203,  0.48246574,  0.50629205,  0.5292912 ,\n",
       "                           0.5494623 ,  0.57018816,  0.589167  ,  0.6074996 ,  0.6254129 ,\n",
       "                           0.6417078 ,  0.65663487,  0.6697812 ,  0.6819823 ,  0.6942211 ,\n",
       "                           0.7068364 ,  0.71670014,  0.7261573 ,  0.7351759 ,  0.74561936,\n",
       "                           0.7583808 ,  0.7684696 ,  0.77946   ,  0.7913032 ,  0.8062622 ,\n",
       "                           0.82269627,  0.84093326,  0.8592555 ,  0.8799832 ,  0.90400493,\n",
       "                           0.9300231 ,  0.95653814,  0.98570865,  1.0190828 ,  1.0529107 ,\n",
       "                           1.0890836 ,  1.1246388 ,  1.1623701 ,  1.2029371 ,  1.2415829 ,\n",
       "                           1.2794485 ,  1.3172235 ,  1.3559757 ,  1.3932626 ,  1.425735  ,\n",
       "                           1.4555523 ,  1.4816927 ,  1.5062366 ,  1.5251374 ,  1.5381051 ,\n",
       "                           1.5443418 ,  1.5431355 ,  1.5374645 ,  1.5239265 ,  1.5026888 ,\n",
       "                           1.4714884 ,  1.4317243 ,  1.3810115 ,  1.3201851 ,  1.2524217 ,\n",
       "                           1.1782612 ,  1.0924035 ,  0.9955506 ,  0.8915582 ,  0.78233075,\n",
       "                           0.66186893,  0.5267895 ,  0.3870209 ,  0.24476454,  0.09931195,\n",
       "                          -0.05268498, -0.21862067, -0.3803411 , -0.53988606, -0.7102855 ,\n",
       "                          -0.8732663 , -1.0464915 , -1.2101142 ], dtype=float32),\n",
       "              'yaxis': 'y3'},\n",
       "             {'marker': {'color': '#2d92ff'},\n",
       "              'name': 'AR',\n",
       "              'type': 'bar',\n",
       "              'uid': '38f4007d-b17b-432a-b7e5-2e84f62d5275',\n",
       "              'width': 0.8,\n",
       "              'x': array([14, 13, 12, 11, 10,  9,  8,  7,  6,  5,  4,  3,  2,  1]),\n",
       "              'xaxis': 'x4',\n",
       "              'y': array([ 0.07223623,  0.1188168 ,  0.03198594,  0.01114841,  0.02537789,\n",
       "                          -0.01412187,  0.04163606, -0.0328477 ,  0.04490842, -0.0260895 ,\n",
       "                           0.03329314,  0.1204192 ,  0.09539869,  0.19960622], dtype=float32),\n",
       "              'yaxis': 'y4'},\n",
       "             {'marker': {'color': '#2d92ff'},\n",
       "              'name': 'Lagged Regressor \"temp\"',\n",
       "              'type': 'bar',\n",
       "              'uid': 'c9573f68-1077-4f85-8050-1b18655784a8',\n",
       "              'width': 0.8,\n",
       "              'x': array([3, 2, 1]),\n",
       "              'xaxis': 'x5',\n",
       "              'y': array([ 0.28340146, -0.23642021, -0.03519124], dtype=float32),\n",
       "              'yaxis': 'y5'},\n",
       "             {'marker': {'color': '#2d92ff'},\n",
       "              'name': 'Additive future regressor',\n",
       "              'type': 'bar',\n",
       "              'uid': '32b9beaa-62c2-423f-80da-8883bfdf0014',\n",
       "              'width': 0.8,\n",
       "              'x': array(['temperature'], dtype=object),\n",
       "              'xaxis': 'x6',\n",
       "              'y': [-0.12961333990097046],\n",
       "              'yaxis': 'y6'}],\n",
       "    'layout': {'autosize': True,\n",
       "               'font': {'size': 10},\n",
       "               'height': 1260,\n",
       "               'hovermode': 'x unified',\n",
       "               'margin': {'b': 0, 'l': 0, 'pad': 0, 'r': 10, 't': 10},\n",
       "               'showlegend': False,\n",
       "               'template': '...',\n",
       "               'title': {'font': {'size': 12}},\n",
       "               'width': 700,\n",
       "               'xaxis': {'anchor': 'y',\n",
       "                         'domain': [0.0, 1.0],\n",
       "                         'linewidth': 1.5,\n",
       "                         'mirror': True,\n",
       "                         'range': [2014-10-27 00:00:00, 2018-10-09 00:00:00],\n",
       "                         'showline': True,\n",
       "                         'title': {'text': 'ds'},\n",
       "                         'type': 'date'},\n",
       "               'xaxis2': {'anchor': 'y2',\n",
       "                          'domain': [0.0, 1.0],\n",
       "                          'linewidth': 1.5,\n",
       "                          'mirror': True,\n",
       "                          'range': [2016-12-14 00:00:00, 2018-01-18 00:00:00],\n",
       "                          'showline': True,\n",
       "                          'title': {'text': 'Day of year'}},\n",
       "               'xaxis3': {'anchor': 'y3',\n",
       "                          'domain': [0.0, 1.0],\n",
       "                          'linewidth': 1.5,\n",
       "                          'mirror': True,\n",
       "                          'range': [-8, 175],\n",
       "                          'showline': True,\n",
       "                          'tickmode': 'array',\n",
       "                          'ticktext': [Sunday, Monday, Tuesday, Wednesday,\n",
       "                                       Thursday, Friday, Saturday, Sunday, Sunday],\n",
       "                          'tickvals': [0, 24, 48, 72, 96, 120, 144, 168, 192],\n",
       "                          'title': {'text': 'Day of week'}},\n",
       "               'xaxis4': {'anchor': 'y4',\n",
       "                          'domain': [0.0, 1.0],\n",
       "                          'linewidth': 1.5,\n",
       "                          'mirror': True,\n",
       "                          'range': [-1, 16],\n",
       "                          'showline': True,\n",
       "                          'title': {'text': 'AR lag number'}},\n",
       "               'xaxis5': {'anchor': 'y5',\n",
       "                          'domain': [0.0, 1.0],\n",
       "                          'linewidth': 1.5,\n",
       "                          'mirror': True,\n",
       "                          'range': [0, 4],\n",
       "                          'showline': True,\n",
       "                          'title': {'text': 'Lagged Regressor \"temp\" lag number'}},\n",
       "               'xaxis6': {'anchor': 'y6',\n",
       "                          'domain': [0.0, 1.0],\n",
       "                          'linewidth': 1.5,\n",
       "                          'mirror': True,\n",
       "                          'showline': True,\n",
       "                          'title': {'text': 'Additive future regressor name'}},\n",
       "               'yaxis': {'anchor': 'x',\n",
       "                         'domain': [0.875, 1.0],\n",
       "                         'linewidth': 1.5,\n",
       "                         'mirror': True,\n",
       "                         'rangemode': 'normal',\n",
       "                         'showline': True,\n",
       "                         'title': {'text': 'Trend'}},\n",
       "               'yaxis2': {'anchor': 'x2',\n",
       "                          'domain': [0.7, 0.825],\n",
       "                          'linewidth': 1.5,\n",
       "                          'mirror': True,\n",
       "                          'rangemode': 'normal',\n",
       "                          'showline': True,\n",
       "                          'title': {'text': 'Seasonality: yearly'}},\n",
       "               'yaxis3': {'anchor': 'x3',\n",
       "                          'domain': [0.525, 0.65],\n",
       "                          'linewidth': 1.5,\n",
       "                          'mirror': True,\n",
       "                          'rangemode': 'normal',\n",
       "                          'showline': True,\n",
       "                          'title': {'text': 'Seasonality: weekly'}},\n",
       "               'yaxis4': {'anchor': 'x4',\n",
       "                          'domain': [0.35, 0.475],\n",
       "                          'linewidth': 1.5,\n",
       "                          'mirror': True,\n",
       "                          'rangemode': 'normal',\n",
       "                          'showline': True,\n",
       "                          'title': {'text': 'AR weight (7)-ahead'}},\n",
       "               'yaxis5': {'anchor': 'x5',\n",
       "                          'domain': [0.175, 0.3],\n",
       "                          'linewidth': 1.5,\n",
       "                          'mirror': True,\n",
       "                          'rangemode': 'normal',\n",
       "                          'showline': True,\n",
       "                          'title': {'text': 'Lagged Regressor \"temp\" weight (7)-ahead'}},\n",
       "               'yaxis6': {'anchor': 'x6',\n",
       "                          'domain': [0.0, 0.125],\n",
       "                          'linewidth': 1.5,\n",
       "                          'mirror': True,\n",
       "                          'rangemode': 'normal',\n",
       "                          'showline': True,\n",
       "                          'title': {'text': 'Additive future regressor weight'}}}\n",
       "})"
      ]
     },
     "execution_count": 39,
     "metadata": {},
     "output_type": "execute_result"
    }
   ],
   "source": [
    "m.plot_parameters()"
   ]
  },
  {
   "cell_type": "code",
   "execution_count": null,
   "metadata": {},
   "outputs": [],
   "source": []
  }
 ],
 "metadata": {
  "kernelspec": {
   "display_name": ".venv",
   "language": "python",
   "name": "python3"
  },
  "language_info": {
   "codemirror_mode": {
    "name": "ipython",
    "version": 3
   },
   "file_extension": ".py",
   "mimetype": "text/x-python",
   "name": "python",
   "nbconvert_exporter": "python",
   "pygments_lexer": "ipython3",
   "version": "3.10.12"
  }
 },
 "nbformat": 4,
 "nbformat_minor": 2
}
