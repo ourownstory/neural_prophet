{
 "cells": [
  {
   "attachments": {},
   "cell_type": "markdown",
   "metadata": {},
   "source": [
    "# Tutorial 11: Profiling and Logging"
   ]
  },
  {
   "cell_type": "markdown",
   "metadata": {},
   "source": [
    "This tutorial will guide you through setting up profiling and logging in your NeuralProphet models using PyTorch's Profiler and TensorBoard Logger. Profiling helps you understand where your model spends time and memory, and logging keeps track of these metrics for later analysis."
   ]
  },
  {
   "attachments": {},
   "cell_type": "markdown",
   "metadata": {},
   "source": [
    "## Profiling"
   ]
  },
  {
   "cell_type": "markdown",
   "metadata": {},
   "source": [
    "### Using the Simple Profiler"
   ]
  },
  {
   "cell_type": "markdown",
   "metadata": {},
   "source": [
    "The Simple Profiler is a lightweight and straightforward tool that tracks the execution time of different sections of your model."
   ]
  },
  {
   "cell_type": "code",
   "execution_count": 4,
   "metadata": {},
   "outputs": [],
   "source": [
    "from pytorch_lightning.profilers import SimpleProfiler\n",
    "\n",
    "# Configure Simple Profiler\n",
    "trainer_config = {\"profiler\": SimpleProfiler(dirpath=\"./pl_profiling\", filename=\"simple\")}"
   ]
  },
  {
   "cell_type": "markdown",
   "metadata": {},
   "source": [
    "### Using the Advanced Profiler"
   ]
  },
  {
   "cell_type": "markdown",
   "metadata": {},
   "source": [
    "The Advanced Profiler offers more detailed insights into your model's performance, including function-level statistics and memory usage."
   ]
  },
  {
   "cell_type": "code",
   "execution_count": 3,
   "metadata": {},
   "outputs": [],
   "source": [
    "from pytorch_lightning.profilers import AdvancedProfiler\n",
    "from pytorch_lightning.profilers import AdvancedProfiler\n",
    "\n",
    "# Configure Advanced Profiler\n",
    "trainer_config = {\"profiler\": AdvancedProfiler(dirpath=\"./pl_profiling\", filename=\"advanced\")}"
   ]
  },
  {
   "cell_type": "markdown",
   "metadata": {},
   "source": [
    "### Integrating Profiling into the Model"
   ]
  },
  {
   "cell_type": "code",
   "execution_count": 5,
   "metadata": {},
   "outputs": [
    {
     "name": "stderr",
     "output_type": "stream",
     "text": [
      "/Users/maisabensalah/Library/Caches/pypoetry/virtualenvs/neuralprophet-L5lXmb1P-py3.11/lib/python3.11/site-packages/tqdm/auto.py:21: TqdmWarning: IProgress not found. Please update jupyter and ipywidgets. See https://ipywidgets.readthedocs.io/en/stable/user_install.html\n",
      "  from .autonotebook import tqdm as notebook_tqdm\n",
      "Importing plotly failed. Interactive plots will not work.\n",
      "Importing plotly failed. Interactive plots will not work.\n",
      "WARNING - (py.warnings._showwarnmsg) - /Users/maisabensalah/Documents/dev/neural_prophet/neuralprophet/df_utils.py:1149: FutureWarning: Series.view is deprecated and will be removed in a future version. Use ``astype`` as an alternative to change the dtype.\n",
      "  converted_ds = pd.to_datetime(ds_col, utc=True).view(dtype=np.int64)\n",
      "\n",
      "WARNING - (py.warnings._showwarnmsg) - /Users/maisabensalah/Documents/dev/neural_prophet/neuralprophet/df_utils.py:1149: FutureWarning: Series.view is deprecated and will be removed in a future version. Use ``astype`` as an alternative to change the dtype.\n",
      "  converted_ds = pd.to_datetime(ds_col, utc=True).view(dtype=np.int64)\n",
      "\n",
      "Missing logger folder: /Users/maisabensalah/Documents/dev/neural_prophet/docs/source/tutorials/lightning_logs\n",
      "Finding best initial lr:   0%|          | 0/227 [00:00<?, ?it/s]WARNING - (py.warnings._showwarnmsg) - /Users/maisabensalah/Library/Caches/pypoetry/virtualenvs/neuralprophet-L5lXmb1P-py3.11/lib/python3.11/site-packages/pytorch_lightning/utilities/data.py:78: Trying to infer the `batch_size` from an ambiguous collection. The batch size we found is 32. To avoid any miscalculations, use `self.log(..., batch_size=batch_size)`.\n",
      "\n",
      "Finding best initial lr:  11%|█▏        | 26/227 [00:00<00:02, 74.57it/s]WARNING - (py.warnings._showwarnmsg) - /Users/maisabensalah/Library/Caches/pypoetry/virtualenvs/neuralprophet-L5lXmb1P-py3.11/lib/python3.11/site-packages/pytorch_lightning/utilities/data.py:78: Trying to infer the `batch_size` from an ambiguous collection. The batch size we found is 18. To avoid any miscalculations, use `self.log(..., batch_size=batch_size)`.\n",
      "\n",
      "Finding best initial lr: 100%|██████████| 227/227 [00:02<00:00, 101.11it/s]\n"
     ]
    }
   ],
   "source": [
    "import pandas as pd\n",
    "from neuralprophet import NeuralProphet, set_log_level\n",
    "\n",
    "# Load the dataset from the CSV file using pandas\n",
    "df = pd.read_csv(\"https://github.com/ourownstory/neuralprophet-data/raw/main/kaggle-energy/datasets/tutorial01.csv\")\n",
    "\n",
    "# Disable logging messages unless there is an error\n",
    "set_log_level(\"ERROR\")\n",
    "\n",
    "# Model and prediction\n",
    "m = NeuralProphet(trainer_config=trainer_config)\n",
    "m.fit(df, learning_rate=0.1, epochs=10, batch_size=128, progress=False, minimal=True)"
   ]
  },
  {
   "cell_type": "markdown",
   "metadata": {
    "collapsed": false
   },
   "source": [
    "You can check the profiling reports in the generated text files under ``` ./pl_profiling ```"
   ]
  },
  {
   "cell_type": "markdown",
   "metadata": {},
   "source": [
    "## Logging"
   ]
  },
  {
   "cell_type": "markdown",
   "metadata": {},
   "source": [
    "### Setting Up TensorBoard Logger"
   ]
  },
  {
   "cell_type": "code",
   "execution_count": null,
   "metadata": {},
   "outputs": [],
   "source": [
    "from pytorch_lightning.loggers import TensorBoardLogger\n",
    "\n",
    "# Configure TensorBoard logger\n",
    "trainer_config = {\"logger\": TensorBoardLogger(\"tb_logs\", name=\"NeuralProphet\")}"
   ]
  },
  {
   "cell_type": "markdown",
   "metadata": {},
   "source": [
    "### Integrating Logging into the Model"
   ]
  },
  {
   "cell_type": "code",
   "execution_count": null,
   "metadata": {},
   "outputs": [],
   "source": [
    "import pandas as pd\n",
    "from neuralprophet import NeuralProphet, set_log_level\n",
    "\n",
    "# Load the dataset from the CSV file using pandas\n",
    "df = pd.read_csv(\"https://github.com/ourownstory/neuralprophet-data/raw/main/kaggle-energy/datasets/tutorial01.csv\")\n",
    "\n",
    "# Disable logging messages unless there is an error\n",
    "set_log_level(\"ERROR\")\n",
    "\n",
    "# Model and prediction\n",
    "m = NeuralProphet(trainer_config=trainer_config)\n",
    "df_train, df_val = m.split_df(df, valid_p=0.2)\n",
    "metrics = m.fit(df_train, validation_df=df_val, progress=None)"
   ]
  },
  {
   "cell_type": "markdown",
   "metadata": {},
   "source": [
    "### Visualizing Logs in TensorBoard"
   ]
  },
  {
   "cell_type": "code",
   "execution_count": null,
   "metadata": {
    "vscode": {
     "languageId": "bat"
    }
   },
   "outputs": [],
   "source": [
    "tensorboard --logdir tb_logs"
   ]
  },
  {
   "cell_type": "markdown",
   "metadata": {},
   "source": [
    "Open the provided URL in your browser, and you'll be able to explore various metrics like training loss, validation loss, and more, all tracked during the training process."
   ]
  },
  {
   "attachments": {},
   "cell_type": "markdown",
   "metadata": {},
   "source": [
    "##  Integrating Profiling with TensorBoard Logging\n"
   ]
  },
  {
   "cell_type": "markdown",
   "metadata": {},
   "source": [
    "First, make sure to install ```torch-tb-profiler```. "
   ]
  },
  {
   "cell_type": "code",
   "execution_count": 5,
   "metadata": {},
   "outputs": [],
   "source": [
    "import torch\n",
    "from pytorch_lightning.loggers import TensorBoardLogger\n",
    "\n",
    "trainer_config = {}\n",
    "\n",
    "# Configure TensorBoard logger\n",
    "trainer_config[\"logger\"] = TensorBoardLogger(\"tb_logs\", name=\"NeuralProphet\")\n",
    "\n",
    "# Integrate profiler with logging\n",
    "trainer_config[\"profiler\"] = torch.profiler.profile(\n",
    "    on_trace_ready=torch.profiler.tensorboard_trace_handler(\"tb_logs/profiler0\"),\n",
    "    record_shapes=True,\n",
    "    profile_memory=True,\n",
    ")\n"
   ]
  },
  {
   "cell_type": "code",
   "execution_count": null,
   "metadata": {},
   "outputs": [],
   "source": [
    "import pandas as pd\n",
    "from neuralprophet import NeuralProphet\n",
    "from neuralprophet import set_random_seed\n",
    "\n",
    "set_random_seed(42)\n",
    "\n",
    "# Load the dataset from the CSV file using pandas\n",
    "df = pd.read_csv(\"https://github.com/ourownstory/neuralprophet-data/raw/main/kaggle-energy/datasets/tutorial01.csv\")\n",
    "\n",
    "# Model and prediction\n",
    "m = NeuralProphet()\n",
    "\n",
    "df_train, df_val = m.split_df(df, valid_p=0.2)\n",
    "\n",
    "# Set the deterministic flag to True\n",
    "metrics = m.fit(df_train, validation_df=df_val, progress=None, deterministic=True)"
   ]
  }
 ],
 "metadata": {
  "kernelspec": {
   "display_name": "Python 3.10.7 ('.venv': venv)",
   "language": "python",
   "name": "python3"
  },
  "language_info": {
   "codemirror_mode": {
    "name": "ipython",
    "version": 3
   },
   "file_extension": ".py",
   "mimetype": "text/x-python",
   "name": "python",
   "nbconvert_exporter": "python",
   "pygments_lexer": "ipython3",
   "version": "3.11.4"
  },
  "orig_nbformat": 4,
  "vscode": {
   "interpreter": {
    "hash": "92c9cff0281419e73896333b85e681aea9374fd743c51074843eeada7c3f6baf"
   }
  }
 },
 "nbformat": 4,
 "nbformat_minor": 2
}
