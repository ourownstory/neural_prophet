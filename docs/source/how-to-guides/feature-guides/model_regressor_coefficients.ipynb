{
 "cells": [
  {
   "cell_type": "markdown",
   "id": "2ee6d94d",
   "metadata": {},
   "source": [
    "# Retrieving regressor coefficients"
   ]
  },
  {
   "cell_type": "markdown",
   "id": "61d31237-c428-483a-bac1-419dddad3000",
   "metadata": {},
   "source": [
    "Understanding the coefficients of various components in a forecasting model is crucial as it provides insights into how different factors influence the predicted values. We will demonstrate how to retrieve these coefficients using specific functions provided in NeuralProphet.\n",
    "\n",
    "The following functions are available:\n",
    "- get_future_regressor_coefficients: Retrieves the coefficients for future regressors.\n",
    "- get_event_coefficients: Retrieves the coefficients for events and holidays.\n",
    "- get_lagged_regressor_coefficients: Retrieves the coefficients for lagged regressors.\n",
    "- get_ar_coefficients: Retrieves the coefficients for autoregressive lags.\n"
   ]
  },
  {
   "cell_type": "code",
   "execution_count": 8,
   "id": "6575cb59",
   "metadata": {},
   "outputs": [],
   "source": [
    "import pandas as pd\n",
    "from neuralprophet import NeuralProphet\n",
    "\n",
    "# Load tutorial datasets \n",
    "df = pd.read_csv(\"https://github.com/ourownstory/neuralprophet-data/raw/main/kaggle-energy/datasets/tutorial04.csv\")\n",
    "\n",
    "df1 = pd.read_csv(\"https://github.com/ourownstory/neuralprophet-data/raw/main/kaggle-energy/datasets/tutorial01.csv\")\n"
   ]
  },
  {
   "cell_type": "markdown",
   "id": "0d2ae750",
   "metadata": {},
   "source": [
    "## Future regressors\n",
    "\n",
    "Useful for understanding the impact of external variables that are known in advance, such as temperature in this example. "
   ]
  },
  {
   "cell_type": "code",
   "execution_count": null,
   "id": "95511f2b",
   "metadata": {},
   "outputs": [],
   "source": [
    "m = NeuralProphet(epochs=10)\n",
    "\n",
    "# Add the new future regressor\n",
    "m.add_future_regressor(\"temperature\")\n",
    "\n",
    "\n",
    "# Continue training the model and making a prediction\n",
    "metrics = m.fit(df)\n",
    "\n",
    "print(\"Future regressor coefficients:\", m.model.get_future_regressor_coefficients())"
   ]
  },
  {
   "cell_type": "markdown",
   "id": "455b60e1",
   "metadata": {},
   "source": [
    "## Events\n",
    "\n",
    "Helps in assessing the effect of specific events or holidays on the forecasted values."
   ]
  },
  {
   "cell_type": "code",
   "execution_count": null,
   "id": "ffd52d2b",
   "metadata": {},
   "outputs": [],
   "source": [
    "m = NeuralProphet(epochs=10)\n",
    "\n",
    "# Add holidays for the US as events \n",
    "m.add_country_holidays(\"US\")\n",
    "\n",
    "metrics = m.fit(df1)\n",
    "\n",
    "print(\"Event coefficients:\", m.model.get_event_coefficients())"
   ]
  },
  {
   "cell_type": "markdown",
   "id": "757056b4",
   "metadata": {},
   "source": [
    "## Lagged regressors\n",
    "\n",
    "Lagged regressor coefficients are useful for understanding the influence of past values of external variables on the forecast."
   ]
  },
  {
   "cell_type": "code",
   "execution_count": null,
   "id": "c61347cb-bea9-4732-a7f6-4c05aa496354",
   "metadata": {},
   "outputs": [],
   "source": [
    "m = NeuralProphet(epochs=10)\n",
    "\n",
    "# Add temperature of last three days as lagged regressor\n",
    "m.add_lagged_regressor(\"temperature\", n_lags=3)\n",
    "\n",
    "metrics = m.fit(df)\n",
    "print(m.model.get_lagged_regressor_coefficients())"
   ]
  },
  {
   "cell_type": "markdown",
   "id": "a9440659",
   "metadata": {},
   "source": [
    "## Autoregressive\n",
    "\n",
    "Useful for understanding how past values of the time series itself influence future predictions."
   ]
  },
  {
   "cell_type": "code",
   "execution_count": null,
   "id": "feff9910",
   "metadata": {},
   "outputs": [],
   "source": [
    "m = NeuralProphet(n_lags=5, epochs=10)\n",
    "\n",
    "metrics = m.fit(df1)\n",
    "\n",
    "print(\"AR coefficients:\", m.model.get_ar_coefficients())"
   ]
  },
  {
   "cell_type": "markdown",
   "id": "bc77b042",
   "metadata": {},
   "source": [
    "## Visualizing coefficients\n",
    "\n",
    "With the Neuralprophet plotting features it is easy to automatically create plots for model parameters that visulize the previously discussed coefficients."
   ]
  },
  {
   "cell_type": "code",
   "execution_count": null,
   "id": "8f90dd1b",
   "metadata": {},
   "outputs": [],
   "source": [
    "m = NeuralProphet(\n",
    "    n_lags=10,  # Autogression\n",
    "    epochs=10\n",
    ")\n",
    "\n",
    "# Add the new future regressor\n",
    "m.add_future_regressor(\"temperature\")\n",
    "\n",
    "# Add holidays for the US as events\n",
    "m.add_country_holidays(\"US\")\n",
    "\n",
    "metrics = m.fit(df)\n",
    "\n",
    "print(m.model.get_future_regressor_coefficients())\n",
    "print(m.model.get_event_coefficients())\n",
    "print(m.model.get_ar_coefficients())\n",
    "\n",
    "m.plot_parameters()"
   ]
  }
 ],
 "metadata": {
  "kernelspec": {
   "display_name": "Python 3 (ipykernel)",
   "language": "python",
   "name": "python3"
  },
  "language_info": {
   "codemirror_mode": {
    "name": "ipython",
    "version": 3
   },
   "file_extension": ".py",
   "mimetype": "text/x-python",
   "name": "python",
   "nbconvert_exporter": "python",
   "pygments_lexer": "ipython3",
   "version": "3.9.4"
  }
 },
 "nbformat": 4,
 "nbformat_minor": 5
}
