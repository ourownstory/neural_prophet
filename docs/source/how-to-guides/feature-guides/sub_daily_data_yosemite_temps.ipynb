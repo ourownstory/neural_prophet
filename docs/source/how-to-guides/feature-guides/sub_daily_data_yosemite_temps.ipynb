{
 "cells": [
  {
   "cell_type": "markdown",
   "metadata": {},
   "source": [
    "[![Open In Colab](https://colab.research.google.com/assets/colab-badge.svg)](https://colab.research.google.com/github/ourownstory/neural_prophet/blob/main/tutorials/feature-use/sub_daily_data_yosemite_temps.ipynb)"
   ]
  },
  {
   "cell_type": "markdown",
   "metadata": {},
   "source": [
    "# Sub-daily data\n",
    "NeuralProphet can make forecasts for time series with sub-daily observations by passing in a dataframe with timestamps in the ds column. The format of the timestamps should be `YYYY-MM-DD HH:MM:SS` - see the example csv [here](https://github.com/ourownstory/neuralprophet-data/blob/main/datasets/yosemite_temps.csv). When sub-daily data are used, daily seasonality will automatically be fit.\n",
    "\n",
    "Here we fit NeuralProphet to data with 5-minute resolution (daily temperatures at Yosemite)."
   ]
  },
  {
   "cell_type": "code",
   "execution_count": 1,
   "metadata": {},
   "outputs": [],
   "source": [
    "if \"google.colab\" in str(get_ipython()):\n",
    "    !pip install git+https://github.com/ourownstory/neural_prophet.git # may take a while\n",
    "    #!pip install neuralprophet # much faster, but may not have the latest upgrades/bugfixes\n",
    "\n",
    "import pandas as pd\n",
    "from neuralprophet import NeuralProphet, set_log_level\n",
    "\n",
    "set_log_level(\"ERROR\")"
   ]
  },
  {
   "cell_type": "code",
   "execution_count": 2,
   "metadata": {},
   "outputs": [],
   "source": [
    "data_location = \"https://raw.githubusercontent.com/ourownstory/neuralprophet-data/main/datasets/\"\n",
    "\n",
    "df = pd.read_csv(data_location + \"yosemite_temps.csv\")"
   ]
  },
  {
   "cell_type": "markdown",
   "metadata": {},
   "source": [
    "Now we will attempt to forecast the next 7 days. The `5min` data resulution means that we have `60/5*24=288` daily values. Thus, we want to forecast `7*288` periods ahead.\n",
    "\n",
    "Using some common sense, we set:\n",
    "* First, we disable weekly seasonality, as nature does not follow the human week's calendar.\n",
    "* Second, we disable changepoints, as the dataset only contains two months of data"
   ]
  },
  {
   "cell_type": "code",
   "execution_count": 3,
   "metadata": {},
   "outputs": [
    {
     "data": {
      "application/vnd.jupyter.widget-view+json": {
       "model_id": "0e0ca380f23641b1ae1a0b0af009e875",
       "version_major": 2,
       "version_minor": 0
      },
      "text/plain": [
       "Finding best initial lr:   0%|          | 0/256 [00:00<?, ?it/s]"
      ]
     },
     "metadata": {},
     "output_type": "display_data"
    },
    {
     "data": {
      "application/vnd.jupyter.widget-view+json": {
       "model_id": "1ea3cd76470d474f99c7a9071fce8b6e",
       "version_major": 2,
       "version_minor": 0
      },
      "text/plain": [
       "Training: 0it [00:00, ?it/s]"
      ]
     },
     "metadata": {},
     "output_type": "display_data"
    },
    {
     "data": {
      "application/vnd.jupyter.widget-view+json": {
       "model_id": "70c552ac078d4baeac543785134c85bd",
       "version_major": 2,
       "version_minor": 0
      },
      "text/plain": [
       "Predicting: 293it [00:00, ?it/s]"
      ]
     },
     "metadata": {},
     "output_type": "display_data"
    },
    {
     "data": {
      "application/vnd.jupyter.widget-view+json": {
       "model_id": "e6ccb4201993408499c7544850378c41",
       "version_major": 2,
       "version_minor": 0
      },
      "text/plain": [
       "FigureWidgetResampler({\n",
       "    'data': [{'fill': 'none',\n",
       "              'line': {'color': 'rgba(45, 146, 255, 1.0)', 'width': 2},\n",
       "              'mode': 'lines',\n",
       "              'name': '<b style=\"color:sandybrown\">[R]</b> yhat1 <i style=\"color:#fc9944\">~2h</i>',\n",
       "              'type': 'scatter',\n",
       "              'uid': 'dce7fb06-83c0-430d-b25f-33bf110c2140',\n",
       "              'x': array([datetime.datetime(2017, 5, 1, 0, 0),\n",
       "                          datetime.datetime(2017, 5, 1, 1, 40),\n",
       "                          datetime.datetime(2017, 5, 1, 3, 0), ...,\n",
       "                          datetime.datetime(2017, 7, 11, 21, 20),\n",
       "                          datetime.datetime(2017, 7, 11, 22, 45),\n",
       "                          datetime.datetime(2017, 7, 12, 0, 0)], dtype=object),\n",
       "              'y': array([23.37998009, 13.04577637,  6.24330425, ..., 46.98901367, 44.46917725,\n",
       "                          39.54145813])},\n",
       "             {'marker': {'color': 'black', 'size': 4},\n",
       "              'mode': 'markers',\n",
       "              'name': '<b style=\"color:sandybrown\">[R]</b> Actual <i style=\"color:#fc9944\">~2h</i>',\n",
       "              'type': 'scatter',\n",
       "              'uid': '8558240d-5e95-496a-ba0d-e92c93c31475',\n",
       "              'x': array([datetime.datetime(2017, 5, 1, 0, 0),\n",
       "                          datetime.datetime(2017, 5, 1, 1, 25),\n",
       "                          datetime.datetime(2017, 5, 1, 2, 35), ...,\n",
       "                          datetime.datetime(2017, 7, 4, 22, 20),\n",
       "                          datetime.datetime(2017, 7, 4, 22, 50),\n",
       "                          datetime.datetime(2017, 7, 5, 0, 0)], dtype=object),\n",
       "              'y': array([27.8, 16.6, 11.2, ..., 48.1, 46.8, 41.4])}],\n",
       "    'layout': {'autosize': True,\n",
       "               'font': {'size': 10},\n",
       "               'height': 420,\n",
       "               'hovermode': 'x unified',\n",
       "               'margin': {'b': 0, 'l': 0, 'pad': 0, 'r': 10, 't': 10},\n",
       "               'showlegend': True,\n",
       "               'template': '...',\n",
       "               'title': {'font': {'size': 12}},\n",
       "               'width': 700,\n",
       "               'xaxis': {'linewidth': 1.5,\n",
       "                         'mirror': True,\n",
       "                         'rangeselector': {'buttons': [{'count': 7, 'label': '1w', 'step': 'day', 'stepmode': 'backward'},\n",
       "                                                       {'count': 1,\n",
       "                                                        'label': '1m',\n",
       "                                                        'step': 'month',\n",
       "                                                        'stepmode': 'backward'},\n",
       "                                                       {'count': 6,\n",
       "                                                        'label': '6m',\n",
       "                                                        'step': 'month',\n",
       "                                                        'stepmode': 'backward'},\n",
       "                                                       {'count': 1, 'label': '1y', 'step': 'year', 'stepmode': 'backward'},\n",
       "                                                       {'step': 'all'}]},\n",
       "                         'rangeslider': {'visible': True},\n",
       "                         'showline': True,\n",
       "                         'title': {'text': 'ds'},\n",
       "                         'type': 'date'},\n",
       "               'yaxis': {'linewidth': 1.5, 'mirror': True, 'showline': True, 'title': {'text': 'y'}}}\n",
       "})"
      ]
     },
     "execution_count": 3,
     "metadata": {},
     "output_type": "execute_result"
    }
   ],
   "source": [
    "m = NeuralProphet(\n",
    "    n_changepoints=0,\n",
    "    weekly_seasonality=False,\n",
    ")\n",
    "metrics = m.fit(df, freq=\"5min\")\n",
    "future = m.make_future_dataframe(df, periods=7 * 288, n_historic_predictions=True)\n",
    "forecast = m.predict(future)\n",
    "m.plot(forecast)"
   ]
  },
  {
   "cell_type": "code",
   "execution_count": 4,
   "metadata": {},
   "outputs": [
    {
     "data": {
      "application/vnd.jupyter.widget-view+json": {
       "model_id": "230ad713a7974481aa64b506bd924793",
       "version_major": 2,
       "version_minor": 0
      },
      "text/plain": [
       "FigureWidgetResampler({\n",
       "    'data': [{'fill': 'none',\n",
       "              'line': {'color': '#2d92ff', 'width': 2},\n",
       "              'mode': 'lines',\n",
       "              'name': 'Trend',\n",
       "              'type': 'scatter',\n",
       "              'uid': 'edca4c19-6fa6-4b1d-b260-75263d580dd3',\n",
       "              'x': array([datetime.datetime(2017, 5, 1, 0, 0),\n",
       "                          datetime.datetime(2017, 7, 5, 0, 0)], dtype=object),\n",
       "              'xaxis': 'x',\n",
       "              'y': array([11.13221, 25.72243], dtype=float32),\n",
       "              'yaxis': 'y'},\n",
       "             {'fill': 'none',\n",
       "              'line': {'color': '#2d92ff', 'width': 2},\n",
       "              'mode': 'lines',\n",
       "              'name': 'daily',\n",
       "              'type': 'scatter',\n",
       "              'uid': 'aeaf8479-3dcd-4590-a6d9-f69fd55075ea',\n",
       "              'x': array([  0,   1,   2, ..., 285, 286, 287]),\n",
       "              'xaxis': 'x2',\n",
       "              'y': array([12.24777119, 11.81259984, 11.36428174, ..., 13.47226656, 13.07773348,\n",
       "                          12.66953895]),\n",
       "              'yaxis': 'y2'}],\n",
       "    'layout': {'autosize': True,\n",
       "               'font': {'size': 10},\n",
       "               'height': 420,\n",
       "               'hovermode': 'x unified',\n",
       "               'margin': {'b': 0, 'l': 0, 'pad': 0, 'r': 10, 't': 10},\n",
       "               'showlegend': False,\n",
       "               'template': '...',\n",
       "               'title': {'font': {'size': 12}},\n",
       "               'width': 700,\n",
       "               'xaxis': {'anchor': 'y',\n",
       "                         'domain': [0.0, 1.0],\n",
       "                         'linewidth': 1.5,\n",
       "                         'mirror': True,\n",
       "                         'range': [2017-04-28 00:00:00, 2017-07-08 00:00:00],\n",
       "                         'showline': True,\n",
       "                         'title': {'text': 'ds'},\n",
       "                         'type': 'date'},\n",
       "               'xaxis2': {'anchor': 'y2',\n",
       "                          'domain': [0.0, 1.0],\n",
       "                          'linewidth': 1.5,\n",
       "                          'mirror': True,\n",
       "                          'range': [-14, 301],\n",
       "                          'showline': True,\n",
       "                          'tickmode': 'array',\n",
       "                          'ticktext': [0, 1, 2, 3, 4, 5, 6, 7, 8, 9, 10, 11, 12,\n",
       "                                       13, 14, 15, 16, 17, 18, 19, 20, 21, 22, 23,\n",
       "                                       24],\n",
       "                          'tickvals': [0, 12, 24, 36, 48, 60, 72, 84, 96, 108,\n",
       "                                       120, 132, 144, 156, 168, 180, 192, 204, 216,\n",
       "                                       228, 240, 252, 264, 276, 288],\n",
       "                          'title': {'text': 'Hour of day'}},\n",
       "               'yaxis': {'anchor': 'x',\n",
       "                         'domain': [0.575, 1.0],\n",
       "                         'linewidth': 1.5,\n",
       "                         'mirror': True,\n",
       "                         'rangemode': 'normal',\n",
       "                         'showline': True,\n",
       "                         'title': {'text': 'Trend'}},\n",
       "               'yaxis2': {'anchor': 'x2',\n",
       "                          'domain': [0.0, 0.425],\n",
       "                          'linewidth': 1.5,\n",
       "                          'mirror': True,\n",
       "                          'rangemode': 'normal',\n",
       "                          'showline': True,\n",
       "                          'title': {'text': 'Seasonality: daily'}}}\n",
       "})"
      ]
     },
     "execution_count": 4,
     "metadata": {},
     "output_type": "execute_result"
    }
   ],
   "source": [
    "m.plot_parameters()"
   ]
  },
  {
   "cell_type": "markdown",
   "metadata": {},
   "source": [
    "The daily seasonality seems to make sense, when we account for the time being recorded in GMT, while Yosemite local time is GMT-8.\n",
    "\n",
    "## Improving trend and seasonality\n",
    "As we have `288` daily values recorded, we can increase the flexibility of `daily_seasonality`, without danger of overfitting.\n",
    "\n",
    "Further, we may want to re-visit our decision to disable changepoints, as the data clearly shows changes in trend, as is typical with the weather. We make the following changes:\n",
    "* increase the `changepoints_range`, as the we are doing a short-term prediction\n",
    "* inrease the `n_changepoints` to allow to fit to the sudden changes in trend\n",
    "* carefully regularize the trend changepoints by setting `trend_reg` in order to avoid overfitting"
   ]
  },
  {
   "cell_type": "code",
   "execution_count": 5,
   "metadata": {},
   "outputs": [
    {
     "data": {
      "application/vnd.jupyter.widget-view+json": {
       "model_id": "da77cf7df26b4ef595d870a346020327",
       "version_major": 2,
       "version_minor": 0
      },
      "text/plain": [
       "Finding best initial lr:   0%|          | 0/256 [00:00<?, ?it/s]"
      ]
     },
     "metadata": {},
     "output_type": "display_data"
    },
    {
     "data": {
      "application/vnd.jupyter.widget-view+json": {
       "model_id": "a2d3b04217424faa92350027e1e36091",
       "version_major": 2,
       "version_minor": 0
      },
      "text/plain": [
       "Training: 0it [00:00, ?it/s]"
      ]
     },
     "metadata": {},
     "output_type": "display_data"
    },
    {
     "data": {
      "application/vnd.jupyter.widget-view+json": {
       "model_id": "d99160cde78e41f09b261d2fbe6015af",
       "version_major": 2,
       "version_minor": 0
      },
      "text/plain": [
       "Predicting: 293it [00:00, ?it/s]"
      ]
     },
     "metadata": {},
     "output_type": "display_data"
    },
    {
     "data": {
      "application/vnd.jupyter.widget-view+json": {
       "model_id": "6309e3a14ef747ddb5dc7ec22781a691",
       "version_major": 2,
       "version_minor": 0
      },
      "text/plain": [
       "FigureWidgetResampler({\n",
       "    'data': [{'fill': 'none',\n",
       "              'line': {'color': 'rgba(45, 146, 255, 1.0)', 'width': 2},\n",
       "              'mode': 'lines',\n",
       "              'name': '<b style=\"color:sandybrown\">[R]</b> yhat1 <i style=\"color:#fc9944\">~2h</i>',\n",
       "              'type': 'scatter',\n",
       "              'uid': '75b1e757-21a9-40fd-b59f-ad8826d9678a',\n",
       "              'x': array([datetime.datetime(2017, 5, 1, 0, 0),\n",
       "                          datetime.datetime(2017, 5, 1, 1, 40),\n",
       "                          datetime.datetime(2017, 5, 1, 2, 50), ...,\n",
       "                          datetime.datetime(2017, 7, 11, 21, 30),\n",
       "                          datetime.datetime(2017, 7, 11, 22, 25),\n",
       "                          datetime.datetime(2017, 7, 12, 0, 0)], dtype=object),\n",
       "              'y': array([29.07491493, 18.56568909, 12.57799149, ..., 64.31974792, 62.64848328,\n",
       "                          57.01608276])},\n",
       "             {'marker': {'color': 'black', 'size': 4},\n",
       "              'mode': 'markers',\n",
       "              'name': '<b style=\"color:sandybrown\">[R]</b> Actual <i style=\"color:#fc9944\">~2h</i>',\n",
       "              'type': 'scatter',\n",
       "              'uid': 'c610d439-09c4-45bc-91e4-2d481bc95515',\n",
       "              'x': array([datetime.datetime(2017, 5, 1, 0, 0),\n",
       "                          datetime.datetime(2017, 5, 1, 1, 25),\n",
       "                          datetime.datetime(2017, 5, 1, 2, 35), ...,\n",
       "                          datetime.datetime(2017, 7, 4, 22, 20),\n",
       "                          datetime.datetime(2017, 7, 4, 22, 50),\n",
       "                          datetime.datetime(2017, 7, 5, 0, 0)], dtype=object),\n",
       "              'y': array([27.8, 16.6, 11.2, ..., 48.1, 46.8, 41.4])}],\n",
       "    'layout': {'autosize': True,\n",
       "               'font': {'size': 10},\n",
       "               'height': 420,\n",
       "               'hovermode': 'x unified',\n",
       "               'margin': {'b': 0, 'l': 0, 'pad': 0, 'r': 10, 't': 10},\n",
       "               'showlegend': True,\n",
       "               'template': '...',\n",
       "               'title': {'font': {'size': 12}},\n",
       "               'width': 700,\n",
       "               'xaxis': {'linewidth': 1.5,\n",
       "                         'mirror': True,\n",
       "                         'rangeselector': {'buttons': [{'count': 7, 'label': '1w', 'step': 'day', 'stepmode': 'backward'},\n",
       "                                                       {'count': 1,\n",
       "                                                        'label': '1m',\n",
       "                                                        'step': 'month',\n",
       "                                                        'stepmode': 'backward'},\n",
       "                                                       {'count': 6,\n",
       "                                                        'label': '6m',\n",
       "                                                        'step': 'month',\n",
       "                                                        'stepmode': 'backward'},\n",
       "                                                       {'count': 1, 'label': '1y', 'step': 'year', 'stepmode': 'backward'},\n",
       "                                                       {'step': 'all'}]},\n",
       "                         'rangeslider': {'visible': True},\n",
       "                         'showline': True,\n",
       "                         'title': {'text': 'ds'},\n",
       "                         'type': 'date'},\n",
       "               'yaxis': {'linewidth': 1.5, 'mirror': True, 'showline': True, 'title': {'text': 'y'}}}\n",
       "})"
      ]
     },
     "execution_count": 5,
     "metadata": {},
     "output_type": "execute_result"
    }
   ],
   "source": [
    "m = NeuralProphet(\n",
    "    changepoints_range=0.95,\n",
    "    n_changepoints=50,\n",
    "    trend_reg=1,\n",
    "    weekly_seasonality=False,\n",
    "    daily_seasonality=10,\n",
    ")\n",
    "metrics = m.fit(df, freq=\"5min\")\n",
    "future = m.make_future_dataframe(df, periods=60 // 5 * 24 * 7, n_historic_predictions=True)\n",
    "forecast = m.predict(future)\n",
    "m.plot(forecast)"
   ]
  },
  {
   "cell_type": "code",
   "execution_count": 6,
   "metadata": {},
   "outputs": [
    {
     "data": {
      "application/vnd.jupyter.widget-view+json": {
       "model_id": "0861a95f2c884d7d8df0c9ef42eb17c1",
       "version_major": 2,
       "version_minor": 0
      },
      "text/plain": [
       "FigureWidgetResampler({\n",
       "    'data': [{'fill': 'none',\n",
       "              'line': {'color': '#2d92ff', 'width': 2},\n",
       "              'mode': 'lines',\n",
       "              'name': '<b style=\"color:sandybrown\">[R]</b> Trend <i style=\"color:#fc9944\">~2h</i>',\n",
       "              'type': 'scatter',\n",
       "              'uid': '27bdcfe9-8447-4b6f-9d90-1c10b6e47dec',\n",
       "              'x': array([datetime.datetime(2017, 5, 1, 0, 0),\n",
       "                          datetime.datetime(2017, 5, 1, 1, 30),\n",
       "                          datetime.datetime(2017, 5, 1, 2, 50), ...,\n",
       "                          datetime.datetime(2017, 7, 4, 22, 20),\n",
       "                          datetime.datetime(2017, 7, 4, 22, 25),\n",
       "                          datetime.datetime(2017, 7, 5, 0, 0)], dtype=object),\n",
       "              'xaxis': 'x',\n",
       "              'y': array([16.83814185, 16.85154296, 16.86345506, ..., 29.99771135, 30.00497146,\n",
       "                          30.14291366]),\n",
       "              'yaxis': 'y'},\n",
       "             {'marker': {'color': '#2d92ff'},\n",
       "              'name': 'Trend Rate Change',\n",
       "              'type': 'bar',\n",
       "              'uid': 'c2061b84-a56b-403d-b661-1c5648331e9b',\n",
       "              'x': array([Timestamp('2017-05-01 00:00:00'),\n",
       "                          Timestamp('2017-05-02 05:03:31.764706'),\n",
       "                          Timestamp('2017-05-03 10:07:03.529412'),\n",
       "                          Timestamp('2017-05-04 15:10:35.294118'),\n",
       "                          Timestamp('2017-05-05 20:14:07.058824'),\n",
       "                          Timestamp('2017-05-07 01:17:38.823529'),\n",
       "                          Timestamp('2017-05-08 06:21:10.588235'),\n",
       "                          Timestamp('2017-05-09 11:24:42.352941'),\n",
       "                          Timestamp('2017-05-10 16:28:14.117647'),\n",
       "                          Timestamp('2017-05-11 21:31:45.882353'),\n",
       "                          Timestamp('2017-05-13 02:35:17.647059'),\n",
       "                          Timestamp('2017-05-14 07:38:49.411765'),\n",
       "                          Timestamp('2017-05-15 12:42:21.176471'),\n",
       "                          Timestamp('2017-05-16 17:45:52.941176'),\n",
       "                          Timestamp('2017-05-17 22:49:24.705882'),\n",
       "                          Timestamp('2017-05-19 03:52:56.470588'),\n",
       "                          Timestamp('2017-05-20 08:56:28.235294'),\n",
       "                          Timestamp('2017-05-21 14:00:00'),\n",
       "                          Timestamp('2017-05-22 19:03:31.764706'),\n",
       "                          Timestamp('2017-05-24 00:07:03.529412'),\n",
       "                          Timestamp('2017-05-25 05:10:35.294118'),\n",
       "                          Timestamp('2017-05-26 10:14:07.058824'),\n",
       "                          Timestamp('2017-05-27 15:17:38.823529'),\n",
       "                          Timestamp('2017-05-28 20:21:10.588235'),\n",
       "                          Timestamp('2017-05-30 01:24:42.352941'),\n",
       "                          Timestamp('2017-05-31 06:28:14.117647'),\n",
       "                          Timestamp('2017-06-01 11:31:45.882353'),\n",
       "                          Timestamp('2017-06-02 16:35:17.647059'),\n",
       "                          Timestamp('2017-06-03 21:38:49.411765'),\n",
       "                          Timestamp('2017-06-05 02:42:21.176471'),\n",
       "                          Timestamp('2017-06-06 07:45:52.941176'),\n",
       "                          Timestamp('2017-06-07 12:49:24.705882'),\n",
       "                          Timestamp('2017-06-08 17:52:56.470588'),\n",
       "                          Timestamp('2017-06-09 22:56:28.235294'),\n",
       "                          Timestamp('2017-06-11 04:00:00'),\n",
       "                          Timestamp('2017-06-12 09:03:31.764706'),\n",
       "                          Timestamp('2017-06-13 14:07:03.529412'),\n",
       "                          Timestamp('2017-06-14 19:10:35.294118'),\n",
       "                          Timestamp('2017-06-16 00:14:07.058824'),\n",
       "                          Timestamp('2017-06-17 05:17:38.823529'),\n",
       "                          Timestamp('2017-06-18 10:21:10.588235'),\n",
       "                          Timestamp('2017-06-19 15:24:42.352941'),\n",
       "                          Timestamp('2017-06-20 20:28:14.117647'),\n",
       "                          Timestamp('2017-06-22 01:31:45.882353'),\n",
       "                          Timestamp('2017-06-23 06:35:17.647059'),\n",
       "                          Timestamp('2017-06-24 11:38:49.411765'),\n",
       "                          Timestamp('2017-06-25 16:42:21.176471'),\n",
       "                          Timestamp('2017-06-26 21:45:52.941176'),\n",
       "                          Timestamp('2017-06-28 02:49:24.705882'),\n",
       "                          Timestamp('2017-06-29 07:52:56.470588'),\n",
       "                          Timestamp('2017-06-30 12:56:28.235294'),\n",
       "                          Timestamp('2017-07-05 00:00:00')], dtype=object),\n",
       "              'xaxis': 'x2',\n",
       "              'y': array([-0.25343207, -0.05046133, -0.46960649, -0.83704424, -1.29129612,\n",
       "                           0.21758449,  1.47691286,  1.36595583,  0.11551709, -1.39652014,\n",
       "                          -0.77681273,  0.07800385, -0.17480396,  1.41970396,  3.51811624,\n",
       "                           1.98245966, -0.62916404, -2.16955686, -2.35319042, -3.22194386,\n",
       "                          -0.90742725,  1.97604871,  5.14060163,  0.81937987, -4.21977377,\n",
       "                          -5.72826052,  4.47209978,  6.07645988, -1.43793929, -3.82014418,\n",
       "                          -1.1823802 , -1.64987981, -4.26909256,  5.23423958,  0.09619298,\n",
       "                           4.98659039,  7.87084246, -3.75839829, -5.52079678, -1.3774358 ,\n",
       "                           2.6645546 , -1.52090979, -2.11937904, -0.60933924,  0.35685572,\n",
       "                           0.45240551,  4.40247488, -6.95431137, -1.23360622,  5.78580332,\n",
       "                           1.40459347,  0.        ]),\n",
       "              'yaxis': 'y2'},\n",
       "             {'fill': 'none',\n",
       "              'line': {'color': '#2d92ff', 'width': 2},\n",
       "              'mode': 'lines',\n",
       "              'name': 'daily',\n",
       "              'type': 'scatter',\n",
       "              'uid': '4bc68392-7020-4cba-8591-623b9972b23b',\n",
       "              'x': array([  0,   1,   2, ..., 285, 286, 287]),\n",
       "              'xaxis': 'x3',\n",
       "              'y': array([12.23677124, 11.85611535, 11.4577333 , ..., 13.28862058, 12.95121078,\n",
       "                          12.6012228 ]),\n",
       "              'yaxis': 'y3'}],\n",
       "    'layout': {'autosize': True,\n",
       "               'font': {'size': 10},\n",
       "               'height': 630,\n",
       "               'hovermode': 'x unified',\n",
       "               'margin': {'b': 0, 'l': 0, 'pad': 0, 'r': 10, 't': 10},\n",
       "               'showlegend': False,\n",
       "               'template': '...',\n",
       "               'title': {'font': {'size': 12}},\n",
       "               'width': 700,\n",
       "               'xaxis': {'anchor': 'y',\n",
       "                         'domain': [0.0, 1.0],\n",
       "                         'linewidth': 1.5,\n",
       "                         'mirror': True,\n",
       "                         'range': [2017-04-27 18:00:00, 2017-07-08 06:00:00],\n",
       "                         'showline': True,\n",
       "                         'title': {'text': 'ds'},\n",
       "                         'type': 'date'},\n",
       "               'xaxis2': {'anchor': 'y2',\n",
       "                          'domain': [0.0, 1.0],\n",
       "                          'linewidth': 1.5,\n",
       "                          'mirror': True,\n",
       "                          'range': [2017-04-27 08:49:24.705882, 2017-07-08\n",
       "                                    15:10:35.294118],\n",
       "                          'showline': True,\n",
       "                          'title': {'text': 'Trend segment'},\n",
       "                          'type': 'date'},\n",
       "               'xaxis3': {'anchor': 'y3',\n",
       "                          'domain': [0.0, 1.0],\n",
       "                          'linewidth': 1.5,\n",
       "                          'mirror': True,\n",
       "                          'range': [-14, 301],\n",
       "                          'showline': True,\n",
       "                          'tickmode': 'array',\n",
       "                          'ticktext': [0, 1, 2, 3, 4, 5, 6, 7, 8, 9, 10, 11, 12,\n",
       "                                       13, 14, 15, 16, 17, 18, 19, 20, 21, 22, 23,\n",
       "                                       24],\n",
       "                          'tickvals': [0, 12, 24, 36, 48, 60, 72, 84, 96, 108,\n",
       "                                       120, 132, 144, 156, 168, 180, 192, 204, 216,\n",
       "                                       228, 240, 252, 264, 276, 288],\n",
       "                          'title': {'text': 'Hour of day'}},\n",
       "               'yaxis': {'anchor': 'x',\n",
       "                         'domain': [0.7333333333333333, 1.0],\n",
       "                         'linewidth': 1.5,\n",
       "                         'mirror': True,\n",
       "                         'rangemode': 'normal',\n",
       "                         'showline': True,\n",
       "                         'title': {'text': 'Trend'}},\n",
       "               'yaxis2': {'anchor': 'x2',\n",
       "                          'domain': [0.36666666666666664, 0.6333333333333333],\n",
       "                          'linewidth': 1.5,\n",
       "                          'mirror': True,\n",
       "                          'rangemode': 'normal',\n",
       "                          'showline': True,\n",
       "                          'title': {'text': 'Trend Rate Change'}},\n",
       "               'yaxis3': {'anchor': 'x3',\n",
       "                          'domain': [0.0, 0.26666666666666666],\n",
       "                          'linewidth': 1.5,\n",
       "                          'mirror': True,\n",
       "                          'rangemode': 'normal',\n",
       "                          'showline': True,\n",
       "                          'title': {'text': 'Seasonality: daily'}}}\n",
       "})"
      ]
     },
     "execution_count": 6,
     "metadata": {},
     "output_type": "execute_result"
    }
   ],
   "source": [
    "m.plot_parameters()"
   ]
  }
 ],
 "metadata": {
  "kernelspec": {
   "display_name": ".venv",
   "language": "python",
   "name": "python3"
  },
  "language_info": {
   "codemirror_mode": {
    "name": "ipython",
    "version": 3
   },
   "file_extension": ".py",
   "mimetype": "text/x-python",
   "name": "python",
   "nbconvert_exporter": "python",
   "pygments_lexer": "ipython3",
   "version": "3.9.16"
  }
 },
 "nbformat": 4,
 "nbformat_minor": 4
}
