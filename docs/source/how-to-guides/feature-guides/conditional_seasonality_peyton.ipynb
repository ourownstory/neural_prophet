{
 "cells": [
  {
   "cell_type": "markdown",
   "metadata": {
    "collapsed": false
   },
   "source": [
    "[![Open In Colab](https://colab.research.google.com/assets/colab-badge.svg)](https://colab.research.google.com/github/ourownstory/neural_prophet/blob/main/tutorials/feature-use/conditional_seasonality_peyton.ipynb)"
   ]
  },
  {
   "cell_type": "markdown",
   "metadata": {
    "collapsed": false
   },
   "source": [
    "# Conditional Seasonality\n",
    "Per default, NeuralProphet models yearly, weekly, and daily seasonalities that remain static throughout all timestamps.\n",
    "With conditional seasonality, we enable the model to fit seasonalities to certain portions of the dataset."
   ]
  },
  {
   "cell_type": "code",
   "execution_count": 1,
   "metadata": {
    "collapsed": false,
    "pycharm": {
     "name": "#%%\n"
    }
   },
   "outputs": [],
   "source": [
    "if \"google.colab\" in str(get_ipython()):\n",
    "    !pip install git+https://github.com/ourownstory/neural_prophet.git@examples_cond_seas # may take a while\n",
    "    #!pip install neuralprophet # much faster, but may not have the latest upgrades/bugfixes\n",
    "\n",
    "import pandas as pd\n",
    "from neuralprophet import NeuralProphet, set_log_level, df_utils\n",
    "\n",
    "set_log_level(\"ERROR\")"
   ]
  },
  {
   "cell_type": "code",
   "execution_count": 2,
   "metadata": {
    "collapsed": false,
    "pycharm": {
     "name": "#%%\n"
    }
   },
   "outputs": [],
   "source": [
    "data_location = \"https://raw.githubusercontent.com/ourownstory/neuralprophet-data/main/datasets/\"\n",
    "df = pd.read_csv(data_location + \"wp_log_peyton_manning.csv\")"
   ]
  },
  {
   "attachments": {},
   "cell_type": "markdown",
   "metadata": {
    "collapsed": false
   },
   "source": [
    "## Custom conditional seasonality\n",
    "For example, we can define two weekly seasonalities: one for on-season football, and one for off-season football.\n",
    "The football season starts in September, and ends after January. We account for this by adding two columns containing binary values (0 and 1) to the input df, depending on whether the condition is activated at a given timestamp or not. Note that also floats between 0..1 can be added to model a softer transition.\n",
    "\n",
    "As we are defining alternative weekly seasonalities, we disable the model's default one."
   ]
  },
  {
   "cell_type": "code",
   "execution_count": 3,
   "metadata": {
    "collapsed": false,
    "pycharm": {
     "name": "#%%\n"
    }
   },
   "outputs": [],
   "source": [
    "df[\"ds\"] = pd.to_datetime(df[\"ds\"])\n",
    "df[\"on_season\"] = df[\"ds\"].apply(lambda x: x.month in [9, 10, 11, 12, 1])\n",
    "df[\"off_season\"] = df[\"ds\"].apply(lambda x: x.month not in [9, 10, 11, 12, 1])"
   ]
  },
  {
   "attachments": {},
   "cell_type": "markdown",
   "metadata": {
    "collapsed": false,
    "tags": []
   },
   "source": [
    "`period=7` implies that we are adding a new weekly seasonality. With the parameter condition_name= we specify to what condition the newly added seasonality shall be fitted"
   ]
  },
  {
   "cell_type": "code",
   "execution_count": 4,
   "metadata": {
    "collapsed": false,
    "pycharm": {
     "name": "#%%\n"
    }
   },
   "outputs": [
    {
     "name": "stderr",
     "output_type": "stream",
     "text": [
      "Missing logger folder: /Users/leoniewagner/Documents/Uni/Stanford/dev_code/neural_prophet/docs/source/feature-guides/lightning_logs\n"
     ]
    },
    {
     "data": {
      "application/vnd.jupyter.widget-view+json": {
       "model_id": "9fb1b430626e4048968bfb233fa71c42",
       "version_major": 2,
       "version_minor": 0
      },
      "text/plain": [
       "Finding best initial lr:   0%|          | 0/237 [00:00<?, ?it/s]"
      ]
     },
     "metadata": {},
     "output_type": "display_data"
    },
    {
     "data": {
      "application/vnd.jupyter.widget-view+json": {
       "model_id": "0a702396e9da41119a4bae52bc359487",
       "version_major": 2,
       "version_minor": 0
      },
      "text/plain": [
       "Training: 0it [00:00, ?it/s]"
      ]
     },
     "metadata": {},
     "output_type": "display_data"
    }
   ],
   "source": [
    "m = NeuralProphet(weekly_seasonality=False)\n",
    "m.add_seasonality(name=\"on_season\", period=7, fourier_order=3, condition_name=\"on_season\")\n",
    "m.add_seasonality(name=\"off_season\", period=7, fourier_order=3, condition_name=\"off_season\")\n",
    "metrics = m.fit(df, freq=\"D\")"
   ]
  },
  {
   "cell_type": "markdown",
   "metadata": {
    "collapsed": false
   },
   "source": [
    "When predicting into the unknown future, the future df must be extended in the same way as the input df."
   ]
  },
  {
   "cell_type": "code",
   "execution_count": 5,
   "metadata": {
    "collapsed": false,
    "pycharm": {
     "name": "#%%\n"
    }
   },
   "outputs": [
    {
     "data": {
      "application/vnd.jupyter.widget-view+json": {
       "model_id": "c7351397230e41b1abe1e63758754889",
       "version_major": 2,
       "version_minor": 0
      },
      "text/plain": [
       "Predicting: 93it [00:00, ?it/s]"
      ]
     },
     "metadata": {},
     "output_type": "display_data"
    }
   ],
   "source": [
    "future = m.make_future_dataframe(df, n_historic_predictions=365, periods=365)\n",
    "future[\"on_season\"] = future[\"ds\"].apply(lambda x: x.month in [9, 10, 11, 12, 1])\n",
    "future[\"off_season\"] = future[\"ds\"].apply(lambda x: x.month not in [9, 10, 11, 12, 1])\n",
    "forecast = m.predict(df=future)"
   ]
  },
  {
   "cell_type": "markdown",
   "metadata": {
    "collapsed": false
   },
   "source": [
    "The plot shows both of the newly added weekly seasonalities. In-season we observe a high during the weekends, while during the week there is no game going on. off-season does not show an increase during the weekend."
   ]
  },
  {
   "cell_type": "code",
   "execution_count": 6,
   "metadata": {
    "collapsed": false,
    "pycharm": {
     "name": "#%%\n"
    }
   },
   "outputs": [
    {
     "data": {
      "application/vnd.jupyter.widget-view+json": {
       "model_id": "d74b40c3443e407599dff6988116f976",
       "version_major": 2,
       "version_minor": 0
      },
      "text/plain": [
       "FigureWidgetResampler({\n",
       "    'data': [{'fill': 'none',\n",
       "              'line': {'color': '#2d92ff', 'width': 2},\n",
       "              'mode': 'lines',\n",
       "              'name': 'yearly',\n",
       "              'type': 'scatter',\n",
       "              'uid': '5f9ff434-af5b-4269-a5e1-de5628e5fcfe',\n",
       "              'x': array([datetime.datetime(2017, 1, 1, 0, 0),\n",
       "                          datetime.datetime(2017, 1, 2, 0, 0),\n",
       "                          datetime.datetime(2017, 1, 3, 0, 0), ...,\n",
       "                          datetime.datetime(2017, 12, 29, 0, 0),\n",
       "                          datetime.datetime(2017, 12, 30, 0, 0),\n",
       "                          datetime.datetime(2017, 12, 31, 0, 0)], dtype=object),\n",
       "              'xaxis': 'x',\n",
       "              'y': array([0.65122664, 0.68326503, 0.71566659, ..., 0.5523325 , 0.58164981,\n",
       "                          0.61204104]),\n",
       "              'yaxis': 'y'},\n",
       "             {'fill': 'none',\n",
       "              'line': {'color': '#2d92ff', 'width': 2},\n",
       "              'mode': 'lines',\n",
       "              'name': 'on_season',\n",
       "              'type': 'scatter',\n",
       "              'uid': 'c03ee45d-3e9d-4ed7-be85-18a2593821f6',\n",
       "              'x': array([  0,   1,   2,   3,   4,   5,   6,   7,   8,   9,  10,  11,  12,  13,\n",
       "                           14,  15,  16,  17,  18,  19,  20,  21,  22,  23,  24,  25,  26,  27,\n",
       "                           28,  29,  30,  31,  32,  33,  34,  35,  36,  37,  38,  39,  40,  41,\n",
       "                           42,  43,  44,  45,  46,  47,  48,  49,  50,  51,  52,  53,  54,  55,\n",
       "                           56,  57,  58,  59,  60,  61,  62,  63,  64,  65,  66,  67,  68,  69,\n",
       "                           70,  71,  72,  73,  74,  75,  76,  77,  78,  79,  80,  81,  82,  83,\n",
       "                           84,  85,  86,  87,  88,  89,  90,  91,  92,  93,  94,  95,  96,  97,\n",
       "                           98,  99, 100, 101, 102, 103, 104, 105, 106, 107, 108, 109, 110, 111,\n",
       "                          112, 113, 114, 115, 116, 117, 118, 119, 120, 121, 122, 123, 124, 125,\n",
       "                          126, 127, 128, 129, 130, 131, 132, 133, 134, 135, 136, 137, 138, 139,\n",
       "                          140, 141, 142, 143, 144, 145, 146, 147, 148, 149, 150, 151, 152, 153,\n",
       "                          154, 155, 156, 157, 158, 159, 160, 161, 162, 163, 164, 165, 166, 167]),\n",
       "              'xaxis': 'x2',\n",
       "              'y': array([ 2.60672172e-01,  3.03937806e-01,  3.46218240e-01,  3.87280893e-01,\n",
       "                           4.26903565e-01,  4.64876209e-01,  5.01002562e-01,  5.35101621e-01,\n",
       "                           5.67008954e-01,  5.96577835e-01,  6.23680180e-01,  6.48207296e-01,\n",
       "                           6.70070423e-01,  6.89201072e-01,  7.05551158e-01,  7.19092930e-01,\n",
       "                           7.29818703e-01,  7.37740389e-01,  7.42888855e-01,  7.45313099e-01,\n",
       "                           7.45079266e-01,  7.42269517e-01,  7.36980763e-01,  7.29323291e-01,\n",
       "                           7.19419283e-01,  7.07401262e-01,  6.93410480e-01,  6.77595261e-01,\n",
       "                           6.60109336e-01,  6.41110163e-01,  6.20757282e-01,  5.99210700e-01,\n",
       "                           5.76629339e-01,  5.53169553e-01,  5.28983740e-01,  5.04219059e-01,\n",
       "                           4.79016258e-01,  4.53508641e-01,  4.27821162e-01,  4.02069675e-01,\n",
       "                           3.76360327e-01,  3.50789108e-01,  3.25441558e-01,  3.00392620e-01,\n",
       "                           2.75706660e-01,  2.51437613e-01,  2.27629289e-01,  2.04315795e-01,\n",
       "                           1.81522087e-01,  1.59264625e-01,  1.37552130e-01,  1.16386418e-01,\n",
       "                           9.57633086e-02,  7.56735742e-02,  5.61039355e-02,  3.70380687e-02,\n",
       "                           1.84576181e-02,  3.43193785e-04, -1.73246604e-02, -3.45645440e-02,\n",
       "                          -5.13933365e-02, -6.78254074e-02, -8.38719105e-02, -9.95401743e-02,\n",
       "                          -1.14833198e-01, -1.29749261e-01, -1.44281646e-01, -1.58418492e-01,\n",
       "                          -1.72142768e-01, -1.85432370e-01, -1.98260342e-01, -2.10595223e-01,\n",
       "                          -2.22401497e-01, -2.33640157e-01, -2.44269369e-01, -2.54245218e-01,\n",
       "                          -2.63522533e-01, -2.72055774e-01, -2.79799973e-01, -2.86711701e-01,\n",
       "                          -2.92750059e-01, -2.97877671e-01, -3.02061664e-01, -3.05274614e-01,\n",
       "                          -3.07495452e-01, -3.08710308e-01, -3.08913273e-01, -3.08107082e-01,\n",
       "                          -3.06303682e-01, -3.03524698e-01, -2.99801765e-01, -2.95176734e-01,\n",
       "                          -2.89701736e-01, -2.83439100e-01, -2.76461126e-01, -2.68849714e-01,\n",
       "                          -2.60695833e-01, -2.52098864e-01, -2.43165784e-01, -2.34010238e-01,\n",
       "                          -2.24751471e-01, -2.15513158e-01, -2.06422131e-01, -1.97607023e-01,\n",
       "                          -1.89196831e-01, -1.81319444e-01, -1.74100112e-01, -1.67659919e-01,\n",
       "                          -1.62114240e-01, -1.57571223e-01, -1.54130317e-01, -1.51880849e-01,\n",
       "                          -1.50900683e-01, -1.51254969e-01, -1.52995017e-01, -1.56157281e-01,\n",
       "                          -1.60762499e-01, -1.66814988e-01, -1.74302103e-01, -1.83193872e-01,\n",
       "                          -1.93442825e-01, -2.04984004e-01, -2.17735172e-01, -2.31597218e-01,\n",
       "                          -2.46454754e-01, -2.62176904e-01, -2.78618277e-01, -2.95620119e-01,\n",
       "                          -3.13011627e-01, -3.30611424e-01, -3.48229172e-01, -3.65667307e-01,\n",
       "                          -3.82722885e-01, -3.99189511e-01, -4.14859348e-01, -4.29525154e-01,\n",
       "                          -4.42982362e-01, -4.55031157e-01, -4.65478525e-01, -4.74140277e-01,\n",
       "                          -4.80842991e-01, -4.85425886e-01, -4.87742572e-01, -4.87662687e-01,\n",
       "                          -4.85073387e-01, -4.79880669e-01, -4.72010524e-01, -4.61409899e-01,\n",
       "                          -4.48047453e-01, -4.31914111e-01, -4.13023398e-01, -3.91411547e-01,\n",
       "                          -3.67137394e-01, -3.40282043e-01, -3.10948312e-01, -2.79259971e-01,\n",
       "                          -2.45360768e-01, -2.09413263e-01, -1.71597471e-01, -1.32109346e-01,\n",
       "                          -9.11591046e-02, -4.89694125e-02, -5.77345979e-03,  3.81870642e-02,\n",
       "                           8.26640690e-02,  1.27405214e-01,  1.72156091e-01,  2.16662409e-01]),\n",
       "              'yaxis': 'y2'},\n",
       "             {'fill': 'none',\n",
       "              'line': {'color': '#2d92ff', 'width': 2},\n",
       "              'mode': 'lines',\n",
       "              'name': 'off_season',\n",
       "              'type': 'scatter',\n",
       "              'uid': 'fb223430-7fbd-4f8c-85de-b1934d27a9bd',\n",
       "              'x': array([  0,   1,   2,   3,   4,   5,   6,   7,   8,   9,  10,  11,  12,  13,\n",
       "                           14,  15,  16,  17,  18,  19,  20,  21,  22,  23,  24,  25,  26,  27,\n",
       "                           28,  29,  30,  31,  32,  33,  34,  35,  36,  37,  38,  39,  40,  41,\n",
       "                           42,  43,  44,  45,  46,  47,  48,  49,  50,  51,  52,  53,  54,  55,\n",
       "                           56,  57,  58,  59,  60,  61,  62,  63,  64,  65,  66,  67,  68,  69,\n",
       "                           70,  71,  72,  73,  74,  75,  76,  77,  78,  79,  80,  81,  82,  83,\n",
       "                           84,  85,  86,  87,  88,  89,  90,  91,  92,  93,  94,  95,  96,  97,\n",
       "                           98,  99, 100, 101, 102, 103, 104, 105, 106, 107, 108, 109, 110, 111,\n",
       "                          112, 113, 114, 115, 116, 117, 118, 119, 120, 121, 122, 123, 124, 125,\n",
       "                          126, 127, 128, 129, 130, 131, 132, 133, 134, 135, 136, 137, 138, 139,\n",
       "                          140, 141, 142, 143, 144, 145, 146, 147, 148, 149, 150, 151, 152, 153,\n",
       "                          154, 155, 156, 157, 158, 159, 160, 161, 162, 163, 164, 165, 166, 167]),\n",
       "              'xaxis': 'x3',\n",
       "              'y': array([-0.11927064, -0.1084328 , -0.09742034, -0.08629637, -0.07512333,\n",
       "                          -0.06396249, -0.05287347, -0.0419138 , -0.03113851, -0.0205997 ,\n",
       "                          -0.01034624, -0.0004234 ,  0.00912741,  0.01826883,  0.02696784,\n",
       "                           0.03519578,  0.04292856,  0.05014663,  0.05683505,  0.0629834 ,\n",
       "                           0.06858574,  0.07364045,  0.07815012,  0.08212128,  0.08556426,\n",
       "                           0.08849283,  0.09092402,  0.09287773,  0.09437644,  0.09544487,\n",
       "                           0.09610961,  0.09639882,  0.09634181,  0.09596874,  0.09531024,\n",
       "                           0.09439711,  0.09325998,  0.09192903,  0.09043369,  0.08880241,\n",
       "                           0.0870624 ,  0.08523948,  0.08335786,  0.08144003,  0.07950662,\n",
       "                           0.07757639,  0.07566608,  0.0737905 ,  0.07196247,  0.07019289,\n",
       "                           0.0684908 ,  0.06686347,  0.06531652,  0.06385403,  0.06247871,\n",
       "                           0.06119204,  0.05999444,  0.05888547,  0.05786394,  0.05692818,\n",
       "                           0.05607612,  0.05530551,  0.05461406,  0.05399959,  0.05346014,\n",
       "                           0.05299409,  0.05260026,  0.05227798,  0.05202712,  0.05184811,\n",
       "                           0.051742  ,  0.05171036,  0.05175529,  0.05187934,  0.05208542,\n",
       "                           0.05237669,  0.05275643,  0.05322793,  0.05379429,  0.05445829,\n",
       "                           0.05522221,  0.05608763,  0.05705529,  0.05812487,  0.05929487,\n",
       "                           0.06056239,  0.061923  ,  0.06337062,  0.06489738,  0.06649353,\n",
       "                           0.06814734,  0.06984508,  0.071571  ,  0.07330729,  0.07503415,\n",
       "                           0.07672988,  0.07837091,  0.07993199,  0.08138632,  0.08270575,\n",
       "                           0.08386099,  0.08482187,  0.08555761,  0.0860371 ,  0.08622922,\n",
       "                           0.08610318,  0.08562883,  0.08477707,  0.08352013,  0.081832  ,\n",
       "                           0.07968874,  0.07706881,  0.07395348,  0.07032707,  0.06617727,\n",
       "                           0.06149543,  0.0562768 ,  0.05052073,  0.04423086,  0.03741525,\n",
       "                           0.03008648,  0.02226174,  0.01396279,  0.00521595, -0.00394796,\n",
       "                          -0.01349376, -0.02338209, -0.03356962, -0.04400929, -0.05465064,\n",
       "                          -0.06544013, -0.07632154, -0.08723634, -0.09812417, -0.10892329,\n",
       "                          -0.11957105, -0.13000443, -0.14016051, -0.14997703, -0.15939286,\n",
       "                          -0.1683486 , -0.17678699, -0.18465349, -0.19189668, -0.19846878,\n",
       "                          -0.20432601, -0.20942902, -0.21374322, -0.21723908, -0.21989244,\n",
       "                          -0.22168465, -0.22260282, -0.22263988, -0.22179466, -0.22007193,\n",
       "                          -0.21748229, -0.21404217, -0.20977359, -0.20470403, -0.19886616,\n",
       "                          -0.19229753, -0.18504028, -0.17714075, -0.16864906, -0.15961868,\n",
       "                          -0.15010598, -0.14016973, -0.12987059]),\n",
       "              'yaxis': 'y3'}],\n",
       "    'layout': {'autosize': True,\n",
       "               'font': {'size': 10},\n",
       "               'height': 630,\n",
       "               'hovermode': 'x unified',\n",
       "               'margin': {'b': 0, 'l': 0, 'pad': 0, 'r': 10, 't': 10},\n",
       "               'showlegend': False,\n",
       "               'template': '...',\n",
       "               'title': {'font': {'size': 12}},\n",
       "               'width': 700,\n",
       "               'xaxis': {'anchor': 'y',\n",
       "                         'domain': [0.0, 1.0],\n",
       "                         'linewidth': 1.5,\n",
       "                         'mirror': True,\n",
       "                         'range': [2016-12-14 00:00:00, 2018-01-18 00:00:00],\n",
       "                         'showline': True,\n",
       "                         'title': {'text': 'Day of year'}},\n",
       "               'xaxis2': {'anchor': 'y2',\n",
       "                          'domain': [0.0, 1.0],\n",
       "                          'linewidth': 1.5,\n",
       "                          'mirror': True,\n",
       "                          'range': [-8, 175],\n",
       "                          'showline': True,\n",
       "                          'tickmode': 'array',\n",
       "                          'ticktext': [Sunday, Monday, Tuesday, Wednesday,\n",
       "                                       Thursday, Friday, Saturday, Sunday, Sunday],\n",
       "                          'tickvals': [0, 24, 48, 72, 96, 120, 144, 168, 192],\n",
       "                          'title': {'text': 'Day of week'}},\n",
       "               'xaxis3': {'anchor': 'y3',\n",
       "                          'domain': [0.0, 1.0],\n",
       "                          'linewidth': 1.5,\n",
       "                          'mirror': True,\n",
       "                          'range': [-8, 175],\n",
       "                          'showline': True,\n",
       "                          'tickmode': 'array',\n",
       "                          'ticktext': [Sunday, Monday, Tuesday, Wednesday,\n",
       "                                       Thursday, Friday, Saturday, Sunday, Sunday],\n",
       "                          'tickvals': [0, 24, 48, 72, 96, 120, 144, 168, 192],\n",
       "                          'title': {'text': 'Day of week'}},\n",
       "               'yaxis': {'anchor': 'x',\n",
       "                         'domain': [0.7333333333333333, 1.0],\n",
       "                         'linewidth': 1.5,\n",
       "                         'mirror': True,\n",
       "                         'rangemode': 'normal',\n",
       "                         'showline': True,\n",
       "                         'title': {'text': 'Seasonality: yearly'}},\n",
       "               'yaxis2': {'anchor': 'x2',\n",
       "                          'domain': [0.36666666666666664, 0.6333333333333333],\n",
       "                          'linewidth': 1.5,\n",
       "                          'mirror': True,\n",
       "                          'rangemode': 'normal',\n",
       "                          'showline': True,\n",
       "                          'title': {'text': 'Seasonality: on_season'}},\n",
       "               'yaxis3': {'anchor': 'x3',\n",
       "                          'domain': [0.0, 0.26666666666666666],\n",
       "                          'linewidth': 1.5,\n",
       "                          'mirror': True,\n",
       "                          'rangemode': 'normal',\n",
       "                          'showline': True,\n",
       "                          'title': {'text': 'Seasonality: off_season'}}}\n",
       "})"
      ]
     },
     "execution_count": 6,
     "metadata": {},
     "output_type": "execute_result"
    }
   ],
   "source": [
    "m.plot_parameters(components=\"seasonality\")"
   ]
  },
  {
   "attachments": {},
   "cell_type": "markdown",
   "metadata": {
    "collapsed": false
   },
   "source": [
    "## Pre-defined conditional seasonality\n",
    "\n",
    "NeuralProphet also provides pre-defined conditions (quarters, weekday/weekend) that are added to the input df with a simple function call.\n",
    "In this case, we would like to incorporate a quarterly changing weekly seasonality."
   ]
  },
  {
   "cell_type": "code",
   "execution_count": 7,
   "metadata": {
    "collapsed": false,
    "pycharm": {
     "name": "#%%\n"
    }
   },
   "outputs": [
    {
     "data": {
      "text/html": [
       "<div>\n",
       "<style scoped>\n",
       "    .dataframe tbody tr th:only-of-type {\n",
       "        vertical-align: middle;\n",
       "    }\n",
       "\n",
       "    .dataframe tbody tr th {\n",
       "        vertical-align: top;\n",
       "    }\n",
       "\n",
       "    .dataframe thead th {\n",
       "        text-align: right;\n",
       "    }\n",
       "</style>\n",
       "<table border=\"1\" class=\"dataframe\">\n",
       "  <thead>\n",
       "    <tr style=\"text-align: right;\">\n",
       "      <th></th>\n",
       "      <th>ds</th>\n",
       "      <th>y</th>\n",
       "      <th>summer</th>\n",
       "      <th>winter</th>\n",
       "      <th>spring</th>\n",
       "      <th>fall</th>\n",
       "    </tr>\n",
       "  </thead>\n",
       "  <tbody>\n",
       "    <tr>\n",
       "      <th>0</th>\n",
       "      <td>2007-12-10</td>\n",
       "      <td>9.5908</td>\n",
       "      <td>0</td>\n",
       "      <td>1</td>\n",
       "      <td>0</td>\n",
       "      <td>0</td>\n",
       "    </tr>\n",
       "    <tr>\n",
       "      <th>1</th>\n",
       "      <td>2007-12-11</td>\n",
       "      <td>8.5196</td>\n",
       "      <td>0</td>\n",
       "      <td>1</td>\n",
       "      <td>0</td>\n",
       "      <td>0</td>\n",
       "    </tr>\n",
       "    <tr>\n",
       "      <th>2</th>\n",
       "      <td>2007-12-12</td>\n",
       "      <td>8.1837</td>\n",
       "      <td>0</td>\n",
       "      <td>1</td>\n",
       "      <td>0</td>\n",
       "      <td>0</td>\n",
       "    </tr>\n",
       "    <tr>\n",
       "      <th>3</th>\n",
       "      <td>2007-12-13</td>\n",
       "      <td>8.0725</td>\n",
       "      <td>0</td>\n",
       "      <td>1</td>\n",
       "      <td>0</td>\n",
       "      <td>0</td>\n",
       "    </tr>\n",
       "    <tr>\n",
       "      <th>4</th>\n",
       "      <td>2007-12-14</td>\n",
       "      <td>7.8936</td>\n",
       "      <td>0</td>\n",
       "      <td>1</td>\n",
       "      <td>0</td>\n",
       "      <td>0</td>\n",
       "    </tr>\n",
       "  </tbody>\n",
       "</table>\n",
       "</div>"
      ],
      "text/plain": [
       "          ds       y  summer  winter  spring  fall\n",
       "0 2007-12-10  9.5908       0       1       0     0\n",
       "1 2007-12-11  8.5196       0       1       0     0\n",
       "2 2007-12-12  8.1837       0       1       0     0\n",
       "3 2007-12-13  8.0725       0       1       0     0\n",
       "4 2007-12-14  7.8936       0       1       0     0"
      ]
     },
     "execution_count": 7,
     "metadata": {},
     "output_type": "execute_result"
    }
   ],
   "source": [
    "data_location = \"https://raw.githubusercontent.com/ourownstory/neuralprophet-data/main/datasets/\"\n",
    "df = pd.read_csv(data_location + \"wp_log_peyton_manning.csv\")\n",
    "df = df_utils.add_quarter_condition(df)\n",
    "df.head()"
   ]
  },
  {
   "cell_type": "code",
   "execution_count": 8,
   "metadata": {
    "collapsed": false,
    "pycharm": {
     "name": "#%%\n"
    }
   },
   "outputs": [
    {
     "data": {
      "application/vnd.jupyter.widget-view+json": {
       "model_id": "dca7d66d0ff34bc08bb6585a008f38fd",
       "version_major": 2,
       "version_minor": 0
      },
      "text/plain": [
       "Finding best initial lr:   0%|          | 0/237 [00:00<?, ?it/s]"
      ]
     },
     "metadata": {},
     "output_type": "display_data"
    },
    {
     "data": {
      "application/vnd.jupyter.widget-view+json": {
       "model_id": "dc93232a36bc4789a4acfba684c32d4a",
       "version_major": 2,
       "version_minor": 0
      },
      "text/plain": [
       "Training: 0it [00:00, ?it/s]"
      ]
     },
     "metadata": {},
     "output_type": "display_data"
    }
   ],
   "source": [
    "m = NeuralProphet(weekly_seasonality=False)\n",
    "m.set_plotting_backend(\"plotly\")\n",
    "m.add_seasonality(name=\"weekly_summer\", period=7, fourier_order=3, condition_name=\"summer\")\n",
    "m.add_seasonality(name=\"weekly_fall\", period=7, fourier_order=3, condition_name=\"fall\")\n",
    "m.add_seasonality(name=\"weekly_winter\", period=7, fourier_order=3, condition_name=\"winter\")\n",
    "m.add_seasonality(name=\"weekly_spring\", period=7, fourier_order=3, condition_name=\"spring\")\n",
    "metrics = m.fit(df, freq=\"D\")"
   ]
  },
  {
   "cell_type": "code",
   "execution_count": 9,
   "metadata": {
    "collapsed": false,
    "pycharm": {
     "name": "#%%\n"
    }
   },
   "outputs": [
    {
     "data": {
      "application/vnd.jupyter.widget-view+json": {
       "model_id": "7d5d242a5ef94ff2ac4896f92d8c4806",
       "version_major": 2,
       "version_minor": 0
      },
      "text/plain": [
       "Predicting: 93it [00:00, ?it/s]"
      ]
     },
     "metadata": {},
     "output_type": "display_data"
    }
   ],
   "source": [
    "future = m.make_future_dataframe(df, n_historic_predictions=365, periods=365)\n",
    "future = df_utils.add_quarter_condition(future)\n",
    "forecast = m.predict(df=future)"
   ]
  },
  {
   "cell_type": "code",
   "execution_count": 10,
   "metadata": {
    "collapsed": false,
    "pycharm": {
     "name": "#%%\n"
    }
   },
   "outputs": [
    {
     "data": {
      "application/vnd.plotly.v1+json": {
       "config": {
        "plotlyServerURL": "https://plot.ly"
       },
       "data": [
        {
         "fill": "none",
         "line": {
          "color": "#2d92ff",
          "width": 2
         },
         "mode": "lines",
         "name": "yearly",
         "type": "scatter",
         "x": [
          "2017-01-01T00:00:00",
          "2017-01-02T00:00:00",
          "2017-01-03T00:00:00",
          "2017-01-04T00:00:00",
          "2017-01-05T00:00:00",
          "2017-01-06T00:00:00",
          "2017-01-07T00:00:00",
          "2017-01-08T00:00:00",
          "2017-01-09T00:00:00",
          "2017-01-10T00:00:00",
          "2017-01-11T00:00:00",
          "2017-01-12T00:00:00",
          "2017-01-13T00:00:00",
          "2017-01-14T00:00:00",
          "2017-01-15T00:00:00",
          "2017-01-16T00:00:00",
          "2017-01-17T00:00:00",
          "2017-01-18T00:00:00",
          "2017-01-19T00:00:00",
          "2017-01-20T00:00:00",
          "2017-01-21T00:00:00",
          "2017-01-22T00:00:00",
          "2017-01-23T00:00:00",
          "2017-01-24T00:00:00",
          "2017-01-25T00:00:00",
          "2017-01-26T00:00:00",
          "2017-01-27T00:00:00",
          "2017-01-28T00:00:00",
          "2017-01-29T00:00:00",
          "2017-01-30T00:00:00",
          "2017-01-31T00:00:00",
          "2017-02-01T00:00:00",
          "2017-02-02T00:00:00",
          "2017-02-03T00:00:00",
          "2017-02-04T00:00:00",
          "2017-02-05T00:00:00",
          "2017-02-06T00:00:00",
          "2017-02-07T00:00:00",
          "2017-02-08T00:00:00",
          "2017-02-09T00:00:00",
          "2017-02-10T00:00:00",
          "2017-02-11T00:00:00",
          "2017-02-12T00:00:00",
          "2017-02-13T00:00:00",
          "2017-02-14T00:00:00",
          "2017-02-15T00:00:00",
          "2017-02-16T00:00:00",
          "2017-02-17T00:00:00",
          "2017-02-18T00:00:00",
          "2017-02-19T00:00:00",
          "2017-02-20T00:00:00",
          "2017-02-21T00:00:00",
          "2017-02-22T00:00:00",
          "2017-02-23T00:00:00",
          "2017-02-24T00:00:00",
          "2017-02-25T00:00:00",
          "2017-02-26T00:00:00",
          "2017-02-27T00:00:00",
          "2017-02-28T00:00:00",
          "2017-03-01T00:00:00",
          "2017-03-02T00:00:00",
          "2017-03-03T00:00:00",
          "2017-03-04T00:00:00",
          "2017-03-05T00:00:00",
          "2017-03-06T00:00:00",
          "2017-03-07T00:00:00",
          "2017-03-08T00:00:00",
          "2017-03-09T00:00:00",
          "2017-03-10T00:00:00",
          "2017-03-11T00:00:00",
          "2017-03-12T00:00:00",
          "2017-03-13T00:00:00",
          "2017-03-14T00:00:00",
          "2017-03-15T00:00:00",
          "2017-03-16T00:00:00",
          "2017-03-17T00:00:00",
          "2017-03-18T00:00:00",
          "2017-03-19T00:00:00",
          "2017-03-20T00:00:00",
          "2017-03-21T00:00:00",
          "2017-03-22T00:00:00",
          "2017-03-23T00:00:00",
          "2017-03-24T00:00:00",
          "2017-03-25T00:00:00",
          "2017-03-26T00:00:00",
          "2017-03-27T00:00:00",
          "2017-03-28T00:00:00",
          "2017-03-29T00:00:00",
          "2017-03-30T00:00:00",
          "2017-03-31T00:00:00",
          "2017-04-01T00:00:00",
          "2017-04-02T00:00:00",
          "2017-04-03T00:00:00",
          "2017-04-04T00:00:00",
          "2017-04-05T00:00:00",
          "2017-04-06T00:00:00",
          "2017-04-07T00:00:00",
          "2017-04-08T00:00:00",
          "2017-04-09T00:00:00",
          "2017-04-10T00:00:00",
          "2017-04-11T00:00:00",
          "2017-04-12T00:00:00",
          "2017-04-13T00:00:00",
          "2017-04-14T00:00:00",
          "2017-04-15T00:00:00",
          "2017-04-16T00:00:00",
          "2017-04-17T00:00:00",
          "2017-04-18T00:00:00",
          "2017-04-19T00:00:00",
          "2017-04-20T00:00:00",
          "2017-04-21T00:00:00",
          "2017-04-22T00:00:00",
          "2017-04-23T00:00:00",
          "2017-04-24T00:00:00",
          "2017-04-25T00:00:00",
          "2017-04-26T00:00:00",
          "2017-04-27T00:00:00",
          "2017-04-28T00:00:00",
          "2017-04-29T00:00:00",
          "2017-04-30T00:00:00",
          "2017-05-01T00:00:00",
          "2017-05-02T00:00:00",
          "2017-05-03T00:00:00",
          "2017-05-04T00:00:00",
          "2017-05-05T00:00:00",
          "2017-05-06T00:00:00",
          "2017-05-07T00:00:00",
          "2017-05-08T00:00:00",
          "2017-05-09T00:00:00",
          "2017-05-10T00:00:00",
          "2017-05-11T00:00:00",
          "2017-05-12T00:00:00",
          "2017-05-13T00:00:00",
          "2017-05-14T00:00:00",
          "2017-05-15T00:00:00",
          "2017-05-16T00:00:00",
          "2017-05-17T00:00:00",
          "2017-05-18T00:00:00",
          "2017-05-19T00:00:00",
          "2017-05-20T00:00:00",
          "2017-05-21T00:00:00",
          "2017-05-22T00:00:00",
          "2017-05-23T00:00:00",
          "2017-05-24T00:00:00",
          "2017-05-25T00:00:00",
          "2017-05-26T00:00:00",
          "2017-05-27T00:00:00",
          "2017-05-28T00:00:00",
          "2017-05-29T00:00:00",
          "2017-05-30T00:00:00",
          "2017-05-31T00:00:00",
          "2017-06-01T00:00:00",
          "2017-06-02T00:00:00",
          "2017-06-03T00:00:00",
          "2017-06-04T00:00:00",
          "2017-06-05T00:00:00",
          "2017-06-06T00:00:00",
          "2017-06-07T00:00:00",
          "2017-06-08T00:00:00",
          "2017-06-09T00:00:00",
          "2017-06-10T00:00:00",
          "2017-06-11T00:00:00",
          "2017-06-12T00:00:00",
          "2017-06-13T00:00:00",
          "2017-06-14T00:00:00",
          "2017-06-15T00:00:00",
          "2017-06-16T00:00:00",
          "2017-06-17T00:00:00",
          "2017-06-18T00:00:00",
          "2017-06-19T00:00:00",
          "2017-06-20T00:00:00",
          "2017-06-21T00:00:00",
          "2017-06-22T00:00:00",
          "2017-06-23T00:00:00",
          "2017-06-24T00:00:00",
          "2017-06-25T00:00:00",
          "2017-06-26T00:00:00",
          "2017-06-27T00:00:00",
          "2017-06-28T00:00:00",
          "2017-06-29T00:00:00",
          "2017-06-30T00:00:00",
          "2017-07-01T00:00:00",
          "2017-07-02T00:00:00",
          "2017-07-03T00:00:00",
          "2017-07-04T00:00:00",
          "2017-07-05T00:00:00",
          "2017-07-06T00:00:00",
          "2017-07-07T00:00:00",
          "2017-07-08T00:00:00",
          "2017-07-09T00:00:00",
          "2017-07-10T00:00:00",
          "2017-07-11T00:00:00",
          "2017-07-12T00:00:00",
          "2017-07-13T00:00:00",
          "2017-07-14T00:00:00",
          "2017-07-15T00:00:00",
          "2017-07-16T00:00:00",
          "2017-07-17T00:00:00",
          "2017-07-18T00:00:00",
          "2017-07-19T00:00:00",
          "2017-07-20T00:00:00",
          "2017-07-21T00:00:00",
          "2017-07-22T00:00:00",
          "2017-07-23T00:00:00",
          "2017-07-24T00:00:00",
          "2017-07-25T00:00:00",
          "2017-07-26T00:00:00",
          "2017-07-27T00:00:00",
          "2017-07-28T00:00:00",
          "2017-07-29T00:00:00",
          "2017-07-30T00:00:00",
          "2017-07-31T00:00:00",
          "2017-08-01T00:00:00",
          "2017-08-02T00:00:00",
          "2017-08-03T00:00:00",
          "2017-08-04T00:00:00",
          "2017-08-05T00:00:00",
          "2017-08-06T00:00:00",
          "2017-08-07T00:00:00",
          "2017-08-08T00:00:00",
          "2017-08-09T00:00:00",
          "2017-08-10T00:00:00",
          "2017-08-11T00:00:00",
          "2017-08-12T00:00:00",
          "2017-08-13T00:00:00",
          "2017-08-14T00:00:00",
          "2017-08-15T00:00:00",
          "2017-08-16T00:00:00",
          "2017-08-17T00:00:00",
          "2017-08-18T00:00:00",
          "2017-08-19T00:00:00",
          "2017-08-20T00:00:00",
          "2017-08-21T00:00:00",
          "2017-08-22T00:00:00",
          "2017-08-23T00:00:00",
          "2017-08-24T00:00:00",
          "2017-08-25T00:00:00",
          "2017-08-26T00:00:00",
          "2017-08-27T00:00:00",
          "2017-08-28T00:00:00",
          "2017-08-29T00:00:00",
          "2017-08-30T00:00:00",
          "2017-08-31T00:00:00",
          "2017-09-01T00:00:00",
          "2017-09-02T00:00:00",
          "2017-09-03T00:00:00",
          "2017-09-04T00:00:00",
          "2017-09-05T00:00:00",
          "2017-09-06T00:00:00",
          "2017-09-07T00:00:00",
          "2017-09-08T00:00:00",
          "2017-09-09T00:00:00",
          "2017-09-10T00:00:00",
          "2017-09-11T00:00:00",
          "2017-09-12T00:00:00",
          "2017-09-13T00:00:00",
          "2017-09-14T00:00:00",
          "2017-09-15T00:00:00",
          "2017-09-16T00:00:00",
          "2017-09-17T00:00:00",
          "2017-09-18T00:00:00",
          "2017-09-19T00:00:00",
          "2017-09-20T00:00:00",
          "2017-09-21T00:00:00",
          "2017-09-22T00:00:00",
          "2017-09-23T00:00:00",
          "2017-09-24T00:00:00",
          "2017-09-25T00:00:00",
          "2017-09-26T00:00:00",
          "2017-09-27T00:00:00",
          "2017-09-28T00:00:00",
          "2017-09-29T00:00:00",
          "2017-09-30T00:00:00",
          "2017-10-01T00:00:00",
          "2017-10-02T00:00:00",
          "2017-10-03T00:00:00",
          "2017-10-04T00:00:00",
          "2017-10-05T00:00:00",
          "2017-10-06T00:00:00",
          "2017-10-07T00:00:00",
          "2017-10-08T00:00:00",
          "2017-10-09T00:00:00",
          "2017-10-10T00:00:00",
          "2017-10-11T00:00:00",
          "2017-10-12T00:00:00",
          "2017-10-13T00:00:00",
          "2017-10-14T00:00:00",
          "2017-10-15T00:00:00",
          "2017-10-16T00:00:00",
          "2017-10-17T00:00:00",
          "2017-10-18T00:00:00",
          "2017-10-19T00:00:00",
          "2017-10-20T00:00:00",
          "2017-10-21T00:00:00",
          "2017-10-22T00:00:00",
          "2017-10-23T00:00:00",
          "2017-10-24T00:00:00",
          "2017-10-25T00:00:00",
          "2017-10-26T00:00:00",
          "2017-10-27T00:00:00",
          "2017-10-28T00:00:00",
          "2017-10-29T00:00:00",
          "2017-10-30T00:00:00",
          "2017-10-31T00:00:00",
          "2017-11-01T00:00:00",
          "2017-11-02T00:00:00",
          "2017-11-03T00:00:00",
          "2017-11-04T00:00:00",
          "2017-11-05T00:00:00",
          "2017-11-06T00:00:00",
          "2017-11-07T00:00:00",
          "2017-11-08T00:00:00",
          "2017-11-09T00:00:00",
          "2017-11-10T00:00:00",
          "2017-11-11T00:00:00",
          "2017-11-12T00:00:00",
          "2017-11-13T00:00:00",
          "2017-11-14T00:00:00",
          "2017-11-15T00:00:00",
          "2017-11-16T00:00:00",
          "2017-11-17T00:00:00",
          "2017-11-18T00:00:00",
          "2017-11-19T00:00:00",
          "2017-11-20T00:00:00",
          "2017-11-21T00:00:00",
          "2017-11-22T00:00:00",
          "2017-11-23T00:00:00",
          "2017-11-24T00:00:00",
          "2017-11-25T00:00:00",
          "2017-11-26T00:00:00",
          "2017-11-27T00:00:00",
          "2017-11-28T00:00:00",
          "2017-11-29T00:00:00",
          "2017-11-30T00:00:00",
          "2017-12-01T00:00:00",
          "2017-12-02T00:00:00",
          "2017-12-03T00:00:00",
          "2017-12-04T00:00:00",
          "2017-12-05T00:00:00",
          "2017-12-06T00:00:00",
          "2017-12-07T00:00:00",
          "2017-12-08T00:00:00",
          "2017-12-09T00:00:00",
          "2017-12-10T00:00:00",
          "2017-12-11T00:00:00",
          "2017-12-12T00:00:00",
          "2017-12-13T00:00:00",
          "2017-12-14T00:00:00",
          "2017-12-15T00:00:00",
          "2017-12-16T00:00:00",
          "2017-12-17T00:00:00",
          "2017-12-18T00:00:00",
          "2017-12-19T00:00:00",
          "2017-12-20T00:00:00",
          "2017-12-21T00:00:00",
          "2017-12-22T00:00:00",
          "2017-12-23T00:00:00",
          "2017-12-24T00:00:00",
          "2017-12-25T00:00:00",
          "2017-12-26T00:00:00",
          "2017-12-27T00:00:00",
          "2017-12-28T00:00:00",
          "2017-12-29T00:00:00",
          "2017-12-30T00:00:00",
          "2017-12-31T00:00:00"
         ],
         "xaxis": "x",
         "y": [
          0.6501508858371672,
          0.682069601980435,
          0.7143414941827312,
          0.7467274996376077,
          0.778981921966444,
          0.8108544949031141,
          0.8420925020401102,
          0.872442932651037,
          0.9016546532316682,
          0.929480574221361,
          0.9556797913971643,
          0.9800196816637308,
          1.0022779333930576,
          1.0222444921011307,
          1.039723403062836,
          1.0545345334719158,
          1.066515157921323,
          1.0755213923135156,
          1.0814294627857712,
          1.0841367978438887,
          1.0835629336205694,
          1.0796502239919785,
          1.0723643491846704,
          1.0616946184596368,
          1.0476540644566772,
          1.0302793287952976,
          1.0096303405420826,
          0.9857897911460017,
          0.9588624113909117,
          0.9289740578066817,
          0.896270617785158,
          0.860916744361882,
          0.8230944332164964,
          0.7830014559145639,
          0.7408496647301718,
          0.6968631855549675,
          0.651276516389514,
          0.6043325497338399,
          0.5562805378182981,
          0.5073740200599398,
          0.4578687323684357,
          0.4080205179770584,
          0.35808325932117635,
          0.3083068501467293,
          0.2589352264960629,
          0.2102044745059689,
          0.1623410320591384,
          0.11556000027756165,
          0.07006357963664225,
          0.026039644128454078,
          -0.01633953456835719,
          -0.05691840254287971,
          -0.09555907003652322,
          -0.13214208181796275,
          -0.1665670064168922,
          -0.1987528409355627,
          -0.22863823002107225,
          -0.2561814994496038,
          -0.2813605066189315,
          -0.3041723120548226,
          -0.3246326777865106,
          -0.342775400122973,
          -0.35865148594670043,
          -0.3723281831176466,
          -0.3838878769351341,
          -0.39342686582559283,
          -0.40105403049559346,
          -0.40688941170491294,
          -0.4110627125641421,
          -0.41371174183811665,
          -0.4149808151355021,
          -0.4150191310859425,
          -0.41397913964252697,
          -0.4120149195082499,
          -0.4092805813624767,
          -0.4059287130752173,
          -0.40210888243502385,
          -0.39796621210338307,
          -0.39364004054046525,
          -0.38926268154883337,
          -0.384958293853801,
          -0.38084187080397836,
          -0.37701835884578305,
          -0.37358191191452456,
          -0.3706152873130736,
          -0.36818938703351833,
          -0.3663629468312724,
          -0.36518237371006007,
          -0.3646817308301173,
          -0.3648828672358305,
          -0.3657956882239608,
          -0.36741856066037626,
          -0.3697388461178919,
          -0.3727335533611697,
          -0.37637010046776964,
          -0.38060717575245295,
          -0.38539568567351773,
          -0.3906797770491062,
          -0.3963979202102449,
          -0.4024840391721236,
          -0.40886867451930425,
          -0.41548016447825703,
          -0.4222458295947083,
          -0.4290931465403299,
          -0.43595089684468435,
          -0.4427502767760157,
          -0.4494259551780268,
          -0.45591706679648974,
          -0.4621681294930548,
          -0.46812987473640016,
          -0.47375998186388973,
          -0.4790237078150822,
          -0.48389440533255995,
          -0.48835392399409144,
          -0.49239288986290997,
          -0.4960108610104661,
          -0.4992163576538501,
          -0.5020267671492589,
          -0.5044681255691916,
          -0.5065747790524683,
          -0.5083889295376541,
          -0.5099600708475079,
          -0.5113443223826796,
          -0.5126036688795762,
          -0.5138051157883636,
          -0.5150197708081932,
          -0.516321862982516,
          -0.5177877114803673,
          -0.519494656778781,
          -0.5215199673978449,
          -0.5239397356279933,
          -0.5268277758166211,
          -0.5302545387587212,
          -0.534286055551789,
          -0.538982923940506,
          -0.5443993496906799,
          -0.5505822549032171,
          -0.5575704644106518,
          -0.565393980505662,
          -0.5740733552368216,
          -0.5836191683892163,
          -0.5940316180534366,
          -0.6053002293932741,
          -0.6174036858656443,
          -0.6303097857356784,
          -0.6439755252876767,
          -0.658347308672927,
          -0.6733612828705359,
          -0.6889437947927818,
          -0.7050119661470222,
          -0.7214743802999753,
          -0.7382318740823892,
          -0.7551784262416668,
          -0.7722021331158725,
          -0.7891862610640152,
          -0.8060103642751649,
          -0.8225514557816599,
          -0.8386852188516384,
          -0.8542872454170805,
          -0.8692342878360719,
          -0.883405510069929,
          -0.8966837243075432,
          -0.9089565991660902,
          -0.9201178258595125,
          -0.9300682291329654,
          -0.9387168103262348,
          -0.9459817106291775,
          -0.9517910834353828,
          -0.9560838656615203,
          -0.9588104389871759,
          -0.9599331731537513,
          -0.9594268447389281,
          -0.9572789261821977,
          -0.9534897412512773,
          -0.9480724846093121,
          -0.9410531046358378,
          -0.9324700501688353,
          -0.922373883342228,
          -0.9108267621851651,
          -0.8979017981038282,
          -0.8836822947696436,
          -0.8682608762751229,
          -0.851738513672109,
          -0.8342234601656987,
          -0.815830106285629,
          -0.7966777672848556,
          -0.7768894158122064,
          -0.7565903735585907,
          -0.7359069760866539,
          -0.714965225402796,
          -0.6938894450268058,
          -0.6728009523434895,
          -0.6518167628930007,
          -0.6310483409636236,
          -0.6106004103995608,
          -0.5905698389327363,
          -0.5710446085941001,
          -0.5521028838660843,
          -0.533812188213308,
          -0.5162286984842757,
          -0.4993966654218729,
          -0.4833479671735627,
          -0.46810180126295003,
          -0.4536645189889105,
          -0.44002960467699415,
          -0.427177800629817,
          -0.4150773770334103,
          -0.4036845444845728,
          -0.3929440052357202,
          -0.38278963771713465,
          -0.3731453074160815,
          -0.36392579577945994,
          -0.35503783747869117,
          -0.3463812551485391,
          -0.3378501795953262,
          -0.3293343424820164,
          -0.3207204276448554,
          -0.3118934664904512,
          -0.30273826237148205,
          -0.29314082844915834,
          -0.28298982332740896,
          -0.27217796868852545,
          -0.2606034332760863,
          -0.24817116785673038,
          -0.23479417624350526,
          -0.22039470808100858,
          -0.2049053598630229,
          -0.1882700715759736,
          -0.17044500742266805,
          -0.15139931027035994,
          -0.13111572077499553,
          -0.10959105354160702,
          -0.08683652418081356,
          -0.06287792268859772,
          -0.03775563020628016,
          -0.011524477878384705,
          0.015746551785051643,
          0.0439747789491073,
          0.07306443213002825,
          0.10290740010063006,
          0.13338412302823208,
          0.1643646143270979,
          0.19570960327258932,
          0.22727178708380874,
          0.2588971799634173,
          0.29042654548621866,
          0.3216968977783077,
          0.3525430561217913,
          0.3827992369826967,
          0.4123006669804669,
          0.44088520001994996,
          0.46839492167799957,
          0.49467772399518195,
          0.5195888340528684,
          0.5429922801291093,
          0.5647622798081083,
          0.5847845351711094,
          0.6029574211081762,
          0.6191930538515454,
          0.6334182280377509,
          0.6455752119337507,
          0.6556223919115994,
          0.6635347587992108,
          0.6693042303649118,
          0.6729398058895008,
          0.6744675505217066,
          0.6739304088911116,
          0.6713878492347006,
          0.6669153410775295,
          0.6606036712572494,
          0.6525581047944423,
          0.6428973987552336,
          0.631752678819905,
          0.6192661897396702,
          0.6055899322193758,
          0.5908841999949485,
          0.5753160319587998,
          0.5590575951239585,
          0.5422845149884986,
          0.5251741704625933,
          0.5079039709412506,
          0.49064963334500344,
          0.47358347700078723,
          0.45687275410163264,
          0.4406780331571079,
          0.42515165234390606,
          0.4104362589748345,
          0.3966634504518891,
          0.38395253104032084,
          0.3724093976305971,
          0.3621255663317511,
          0.35317735029863406,
          0.34562519763228383,
          0.33951319653721884,
          0.33486875318312875,
          0.3317024459170849,
          0.33000805763130964,
          0.32976278622255867,
          0.33092763120859997,
          0.3334479527088189,
          0.3372541971736721,
          0.34226278247736097,
          0.3483771332923693,
          0.3554888560553197,
          0.3634790413359261,
          0.3722196800419755,
          0.38157517865732776,
          0.3914039576195945,
          0.40156011602294966,
          0.41189514507852026,
          0.42225967219642374,
          0.4325052171718755,
          0.44248594176915584,
          0.4520603740028962,
          0.46109308861799164,
          0.469456325665063,
          0.4770315296540442,
          0.4837107925380658,
          0.4893981847294853,
          0.49401095946259027,
          0.49748061709236113,
          0.4997538173320646,
          0.5007931289797874,
          0.5005776083417991,
          0.49910319931728936,
          0.49638294994416127,
          0.49244704209959267,
          0.48734263298540564,
          0.4811335089842554,
          0.47389955442890164,
          0.4657360397638246,
          0.45675273547513123,
          0.44707286000224944,
          0.4368318716025619,
          0.42617611580243375,
          0.4152613416145744,
          0.40425110111746615,
          0.3933150482644399,
          0.382627153899839,
          0.37236385490268603,
          0.36270215613596,
          0.35381770445237143,
          0.34588285438165,
          0.33906474530116104,
          0.3335234098652878,
          0.32940993324061857,
          0.3268646822675492,
          0.3260156230422657,
          0.3269767446020049,
          0.32984660539735183,
          0.33470701806943337,
          0.34162188671901295,
          0.35063620937933787,
          0.36177525679542777,
          0.37504393688771237,
          0.39042635245331825,
          0.40788555775570323,
          0.4273635176851839,
          0.44878127116900823,
          0.47203929847886816,
          0.4970180900589663,
          0.5235789124862041,
          0.5515647652089914,
          0.5808015198047741,
          0.6110992316660357
         ],
         "yaxis": "y"
        },
        {
         "fill": "none",
         "line": {
          "color": "#2d92ff",
          "width": 2
         },
         "mode": "lines",
         "name": "weekly_summer",
         "type": "scatter",
         "x": [
          0,
          1,
          2,
          3,
          4,
          5,
          6,
          7,
          8,
          9,
          10,
          11,
          12,
          13,
          14,
          15,
          16,
          17,
          18,
          19,
          20,
          21,
          22,
          23,
          24,
          25,
          26,
          27,
          28,
          29,
          30,
          31,
          32,
          33,
          34,
          35,
          36,
          37,
          38,
          39,
          40,
          41,
          42,
          43,
          44,
          45,
          46,
          47,
          48,
          49,
          50,
          51,
          52,
          53,
          54,
          55,
          56,
          57,
          58,
          59,
          60,
          61,
          62,
          63,
          64,
          65,
          66,
          67,
          68,
          69,
          70,
          71,
          72,
          73,
          74,
          75,
          76,
          77,
          78,
          79,
          80,
          81,
          82,
          83,
          84,
          85,
          86,
          87,
          88,
          89,
          90,
          91,
          92,
          93,
          94,
          95,
          96,
          97,
          98,
          99,
          100,
          101,
          102,
          103,
          104,
          105,
          106,
          107,
          108,
          109,
          110,
          111,
          112,
          113,
          114,
          115,
          116,
          117,
          118,
          119,
          120,
          121,
          122,
          123,
          124,
          125,
          126,
          127,
          128,
          129,
          130,
          131,
          132,
          133,
          134,
          135,
          136,
          137,
          138,
          139,
          140,
          141,
          142,
          143,
          144,
          145,
          146,
          147,
          148,
          149,
          150,
          151,
          152,
          153,
          154,
          155,
          156,
          157,
          158,
          159,
          160,
          161,
          162,
          163,
          164,
          165,
          166,
          167
         ],
         "xaxis": "x2",
         "y": [
          -0.1036155963753976,
          -0.096739970722069,
          -0.08972327890209066,
          -0.08259440379420051,
          -0.07538145191363872,
          -0.06811164439075454,
          -0.060811225198816724,
          -0.05350538653630216,
          -0.04621821101437788,
          -0.038972630090320405,
          -0.031790397986591626,
          -0.02469208010485636,
          -0.01769705480572941,
          -0.010823527260002776,
          -0.004088553931012637,
          0.0024919238390715983,
          0.008903038747080233,
          0.015130950630579234,
          0.02116279544231044,
          0.02698663178056319,
          0.03259138665795017,
          0.037966802108751474,
          0.04310338416481483,
          0.047992355638234965,
          0.05262561400803777,
          0.05699569557183293,
          0.06109574685786344,
          0.06491950411893052,
          0.0684612815312266,
          0.07171596852747977,
          0.07467903648727554,
          0.07734655478823521,
          0.07971521602484247,
          0.08178236998085767,
          0.08354606574692619,
          0.08500510118039871,
          0.08615907872282949,
          0.08700846642269709,
          0.087554662867588,
          0.08780006459339043,
          0.08774813443639301,
          0.08740346920698717,
          0.08677186500425767,
          0.08586037846099101,
          0.08467738219674677,
          0.08323261278218883,
          0.08153720956461095,
          0.07960374277806102,
          0.07744622946336903,
          0.07508013585289595,
          0.07252236501752181,
          0.06979122875032472,
          0.06690640285533407,
          0.06388886520854177,
          0.06076081619108133,
          0.05754558132949328,
          0.05426749621398158,
          0.0509517740236348,
          0.04762435624008443,
          0.04431174737320056,
          0.04104083477942034,
          0.03783869488753547,
          0.034732387374587614,
          0.03174873904679179,
          0.028914119383740333,
          0.026254209868544924,
          0.023793769390164986,
          0.02155639812914336,
          0.019564302434069494,
          0.01783806327476588,
          0.01639641089748519,
          0.015256008314282615,
          0.014431246241052728,
          0.013934052044350012,
          0.013773715166729148,
          0.013956731388527693,
          0.014486668130773619,
          0.01536405283010363,
          0.016586286210179903,
          0.018147582041904815,
          0.02003893473723174,
          0.022248115841915984,
          0.024759700203576592,
          0.02755512229057455,
          0.03061276281893888,
          0.033908065517520715,
          0.03741368354932893,
          0.04109965477020718,
          0.04493360468680485,
          0.04888097567252771,
          0.05290528069040471,
          0.05696837948634785,
          0.061030774960090683,
          0.06505192716698585,
          0.06899058218628171,
          0.07280511290666727,
          0.07645386861482993,
          0.07989553013947424,
          0.08308946722177482,
          0.08599609471088794,
          0.08857722416826577,
          0.09079640747726979,
          0.09261926910441579,
          0.09401382374576103,
          0.09495077621774144,
          0.09540380060615455,
          0.09534979587868445,
          0.09476911538918772,
          0.09364576794772185,
          0.0919675884113934,
          0.0897263760436854,
          0.08691799921030026,
          0.08354246531620634,
          0.07960395522740364,
          0.07511082178025354,
          0.07007555234395683,
          0.06451469574971715,
          0.05844875426368373,
          0.05190204163774424,
          0.0449025085855768,
          0.037481537374670054,
          0.029673707527700995,
          0.021516534889165165,
          0.013050186587654755,
          0.0043171746556424475,
          -0.004637968756959021,
          -0.013769031447785766,
          -0.02302847325634546,
          -0.032367786843967544,
          -0.04173786375777791,
          -0.05108936233735626,
          -0.06037307405976235,
          -0.06954028495487509,
          -0.07854312880245924,
          -0.08733492896340911,
          -0.09587052582723235,
          -0.10410658705525332,
          -0.11200189801054398,
          -0.11951763000036741,
          -0.12661758420924366,
          -0.1332684095046052,
          -0.13943979257355682,
          -0.14510461915544573,
          -0.15023910548143252,
          -0.15482289932639154,
          -0.15883915041410335,
          -0.16227455025045828,
          -0.16511934176188078,
          -0.16736729942745912,
          -0.1690156808956735,
          -0.1700651513458901,
          -0.17051968211233293,
          -0.17038642533545773,
          -0.16967556660404062,
          -0.16840015774496248,
          -0.16657593206919774,
          -0.16422110450862637,
          -0.16135615917668603,
          -0.158003626941135,
          -0.15418785563291032,
          -0.14993477551528062,
          -0.14527166259596735,
          -0.14022690230767598,
          -0.13482975599239796,
          -0.12911013249377315,
          -0.12309836702275535,
          -0.1168250092957127,
          -0.11032062274085587
         ],
         "yaxis": "y2"
        },
        {
         "fill": "none",
         "line": {
          "color": "#2d92ff",
          "width": 2
         },
         "mode": "lines",
         "name": "weekly_fall",
         "type": "scatter",
         "x": [
          0,
          1,
          2,
          3,
          4,
          5,
          6,
          7,
          8,
          9,
          10,
          11,
          12,
          13,
          14,
          15,
          16,
          17,
          18,
          19,
          20,
          21,
          22,
          23,
          24,
          25,
          26,
          27,
          28,
          29,
          30,
          31,
          32,
          33,
          34,
          35,
          36,
          37,
          38,
          39,
          40,
          41,
          42,
          43,
          44,
          45,
          46,
          47,
          48,
          49,
          50,
          51,
          52,
          53,
          54,
          55,
          56,
          57,
          58,
          59,
          60,
          61,
          62,
          63,
          64,
          65,
          66,
          67,
          68,
          69,
          70,
          71,
          72,
          73,
          74,
          75,
          76,
          77,
          78,
          79,
          80,
          81,
          82,
          83,
          84,
          85,
          86,
          87,
          88,
          89,
          90,
          91,
          92,
          93,
          94,
          95,
          96,
          97,
          98,
          99,
          100,
          101,
          102,
          103,
          104,
          105,
          106,
          107,
          108,
          109,
          110,
          111,
          112,
          113,
          114,
          115,
          116,
          117,
          118,
          119,
          120,
          121,
          122,
          123,
          124,
          125,
          126,
          127,
          128,
          129,
          130,
          131,
          132,
          133,
          134,
          135,
          136,
          137,
          138,
          139,
          140,
          141,
          142,
          143,
          144,
          145,
          146,
          147,
          148,
          149,
          150,
          151,
          152,
          153,
          154,
          155,
          156,
          157,
          158,
          159,
          160,
          161,
          162,
          163,
          164,
          165,
          166,
          167
         ],
         "xaxis": "x3",
         "y": [
          0.2394452241180143,
          0.2856427841729373,
          0.3310129075866875,
          0.3752984961810301,
          0.4182519051079219,
          0.45963693231943503,
          0.49923067476352434,
          0.5368252333404202,
          0.572229250603486,
          0.6052692670916705,
          0.6357908843301974,
          0.6636597249574065,
          0.6887621826671866,
          0.7110059571439148,
          0.730320371706449,
          0.7466564737835251,
          0.7599869208205532,
          0.7703056566727223,
          0.7776273858054219,
          0.7819868548481371,
          0.783437953166943,
          0.7820526459809182,
          0.7779197553232651,
          0.7711436056634028,
          0.7618425523176027,
          0.7501474118782883,
          0.7361998146859983,
          0.7201504999843373,
          0.7021575747101226,
          0.6823847569199755,
          0.6609996246621251,
          0.6381718906745419,
          0.6140717225406355,
          0.5888681270435416,
          0.5627274162892247,
          0.5358117717873904,
          0.5082779211419393,
          0.4802759403222587,
          0.45194819254231094,
          0.4234284128764008,
          0.394840945669669,
          0.36630013960208907,
          0.3379099031567199,
          0.3097634211042918,
          0.28194303032866874,
          0.25452025134455813,
          0.22755596978776343,
          0.2011007601732551,
          0.17519534247520535,
          0.14987116043286025,
          0.1251510689194878,
          0.10105011648674343,
          0.0775764081048198,
          0.054732032151543736,
          0.03251403513873656,
          0.010915427231827974,
          -0.010073798627492296,
          -0.030465651057382675,
          -0.05027314480232273,
          -0.06950934183319751,
          -0.08818644446806743,
          -0.1063149550579038,
          -0.12390291562085297,
          -0.14095523948056826,
          -0.1574731453911342,
          -0.17345370306943567,
          -0.18888949719340575,
          -0.2037684151185151,
          -0.21807356159700156,
          -0.23178330181612847,
          -0.2448714320494844,
          -0.25730747527125925,
          -0.26905709709747405,
          -0.28008263553386015,
          -0.290343736254014,
          -0.29979808341191055,
          -0.3084022144638779,
          -0.3161124061142944,
          -0.32288561726877724,
          -0.3286804738912026,
          -0.3334582798449097,
          -0.3371840372536153,
          -0.3398274595337662,
          -0.34136396016777615,
          -0.3417756003971125,
          -0.34105197939600096,
          -0.3391910510625508,
          -0.3361998524094249,
          -0.33209512956471443,
          -0.3269038486467847,
          -0.3206635802019327,
          -0.3134227475162771,
          -0.30524073084294573,
          -0.2961878214936148,
          -0.286345021712915,
          -0.27580368833682106,
          -0.2646650203254065,
          -0.2530393924431068,
          -0.24104553944717264,
          -0.2288095972938485,
          -0.21646400989219486,
          -0.20414631189894078,
          -0.19199779989542368,
          -0.1801621059999665,
          -0.1687836894996471,
          -0.15800626346323093,
          -0.1479711744638325,
          -0.13881575445673663,
          -0.13067166460371232,
          -0.12366325128808056,
          -0.11790593477057104,
          -0.11350465092384157,
          -0.11055236617137391,
          -0.10912868520532411,
          -0.10929857025955467,
          -0.11111118967098782,
          -0.11459891217019384,
          -0.11977646186921805,
          -0.1266402471840958,
          -0.1351678750910755,
          -0.14531786004450026,
          -0.157029534715681,
          -0.17022316744382193,
          -0.18480028890861444,
          -0.20064422809845797,
          -0.2176208552403538,
          -0.23557952687709227,
          -0.25435422588035295,
          -0.2737648868522938,
          -0.293618895115043,
          -0.3137127453298935,
          -0.33383384384578796,
          -0.3537624370366274,
          -0.37327364625631787,
          -0.3921395886794347,
          -0.4101315620848789,
          -0.42702227072216126,
          -0.44258806877149287,
          -0.4566111974798567,
          -0.4688819919323648,
          -0.47920103363047717,
          -0.48738122543143747,
          -0.4932497661261635,
          -0.4966500029421363,
          -0.4974431414421657,
          -0.49550979379046284,
          -0.4907513480459961,
          -0.48309114303660267,
          -0.472475435467316,
          -0.45887414813794863,
          -0.44228139052122606,
          -0.4227157454723474,
          -0.40022031831937843,
          -0.37486254724506557,
          -0.3467337764899455,
          -0.31594859644462453,
          -0.28264395730573855,
          -0.24697806546952872,
          -0.20912907411640932,
          -0.16929358176240653,
          -0.12768495464125537,
          -0.08453149058266766,
          -0.04007444382973295,
          0.00543406828360045,
          0.051733254747047944,
          0.098555913286443,
          0.1456307419613475,
          0.19268467580640267
         ],
         "yaxis": "y3"
        },
        {
         "fill": "none",
         "line": {
          "color": "#2d92ff",
          "width": 2
         },
         "mode": "lines",
         "name": "weekly_winter",
         "type": "scatter",
         "x": [
          0,
          1,
          2,
          3,
          4,
          5,
          6,
          7,
          8,
          9,
          10,
          11,
          12,
          13,
          14,
          15,
          16,
          17,
          18,
          19,
          20,
          21,
          22,
          23,
          24,
          25,
          26,
          27,
          28,
          29,
          30,
          31,
          32,
          33,
          34,
          35,
          36,
          37,
          38,
          39,
          40,
          41,
          42,
          43,
          44,
          45,
          46,
          47,
          48,
          49,
          50,
          51,
          52,
          53,
          54,
          55,
          56,
          57,
          58,
          59,
          60,
          61,
          62,
          63,
          64,
          65,
          66,
          67,
          68,
          69,
          70,
          71,
          72,
          73,
          74,
          75,
          76,
          77,
          78,
          79,
          80,
          81,
          82,
          83,
          84,
          85,
          86,
          87,
          88,
          89,
          90,
          91,
          92,
          93,
          94,
          95,
          96,
          97,
          98,
          99,
          100,
          101,
          102,
          103,
          104,
          105,
          106,
          107,
          108,
          109,
          110,
          111,
          112,
          113,
          114,
          115,
          116,
          117,
          118,
          119,
          120,
          121,
          122,
          123,
          124,
          125,
          126,
          127,
          128,
          129,
          130,
          131,
          132,
          133,
          134,
          135,
          136,
          137,
          138,
          139,
          140,
          141,
          142,
          143,
          144,
          145,
          146,
          147,
          148,
          149,
          150,
          151,
          152,
          153,
          154,
          155,
          156,
          157,
          158,
          159,
          160,
          161,
          162,
          163,
          164,
          165,
          166,
          167
         ],
         "xaxis": "x4",
         "y": [
          0.20527127698544018,
          0.2403842554434343,
          0.2747424733041744,
          0.3081576830460324,
          0.34044891995738513,
          0.3714440046371657,
          0.4009809508905434,
          0.4289092647541971,
          0.4550911217494844,
          0.47940241080423485,
          0.501733634832375,
          0.5219906597209074,
          0.5400953051211963,
          0.5559857722911952,
          0.5696169061443994,
          0.580960290491958,
          0.5900041773661501,
          0.5967532532126445,
          0.6012282465197363,
          0.6034653832174497,
          0.603515697873983,
          0.6014442102404733,
          0.5973289781608523,
          0.5912600391440705,
          0.5833382540360781,
          0.5736740672145257,
          0.562386198488968,
          0.5496002825161571,
          0.5354474719405393,
          0.5200630206667461,
          0.5035848636835742,
          0.48615220968742195,
          0.4679041623287867,
          0.4489783853648039,
          0.4295098262369363,
          0.4096295116531805,
          0.38946342768281034,
          0.36913149567270914,
          0.3487466538781407,
          0.3284140533009793,
          0.3082303746713746,
          0.2882832718441397,
          0.26865094525449024,
          0.24940184740631324,
          0.23059452057453608,
          0.21227756530957134,
          0.19448973665614314,
          0.177260163371656,
          0.1606086839607231,
          0.14454629192905424,
          0.12907568130657066,
          0.1141918823677596,
          0.0998829764493719,
          0.08613087784191267,
          0.07291217008033393,
          0.060198983421456666,
          0.047959899905134155,
          0.03616087227395209,
          0.02476614304091034,
          0.013739150161651484,
          0.0030434061873654272,
          -0.007356661680631724,
          -0.01749492249463733,
          -0.027402814418372896,
          -0.03710868947460934,
          -0.046637239027073715,
          -0.056009007523163144,
          -0.06524000071017085,
          -0.07434139307814702,
          -0.08331933780676028,
          -0.09217488094409798,
          -0.10090398002866673,
          -0.1094976257995481,
          -0.11794206412042894,
          -0.12621911379626782,
          -0.1343065745260523,
          -0.14217871791344205,
          -0.14980685325346105,
          -0.15715995868250945,
          -0.164205367317564,
          -0.1709094971739857,
          -0.17723861299709925,
          -0.1831596076066636,
          -0.18864079004911494,
          -0.19365266767711903,
          -0.19816870930543617,
          -0.20216607679766857,
          -0.20562631281706104,
          -0.20853597301889054,
          -0.21088719170039885,
          -0.2126781707782077,
          -0.2139135829954471,
          -0.21460488141020453,
          -0.21477050848785906,
          -0.21443599948114284,
          -0.21363397625251848,
          -0.21240402918867665,
          -0.21079248643361137,
          -0.20885207124119978,
          -0.20664144983847096,
          -0.20422467375702844,
          -0.20167052212005565,
          -0.19905175083512852,
          -0.1964442570427763,
          -0.1939261684497773,
          -0.1915768683604022,
          -0.18947596825897178,
          -0.18770224069114647,
          -0.18633252594007474,
          -0.185440626547552,
          -0.1850962041325251,
          -0.18536369316239973,
          -0.18630124634555767,
          -0.18795972614976336,
          -0.1903817565819099,
          -0.19360084882296769,
          -0.19764061357986287,
          -0.20251407212718406,
          -0.2082230769255453,
          -0.21475785152986507,
          -0.22209665812084953,
          -0.23020559953770464,
          -0.2390385611322663,
          -0.24853729610333594,
          -0.2586316562492631,
          -0.26923996834652647,
          -0.2802695545623089,
          -0.291617393543596,
          -0.3031709170805441,
          -0.3148089355377161,
          -0.3264026835938532,
          -0.3378169763082582,
          -0.34891146407285517,
          -0.35954197368739566,
          -0.36956192164559354,
          -0.3788237846841468,
          -0.38718061180059954,
          -0.3944875613097712,
          -0.4006034460122993,
          -0.4053922692784692,
          -0.4087247348074908,
          -0.41047971292687485,
          -0.41054564664994214,
          -0.4088218812553413,
          -0.4052199018722171,
          -0.39966446449425463,
          -0.39209460692932474,
          -0.3824645274613945,
          -0.3707443204266206,
          -0.3569205594265435,
          -0.34099672057350233,
          -0.32299343995740465,
          -0.3029486012790975,
          -0.2809172515475827,
          -0.25697134465146154,
          -0.2311993144893418,
          -0.20370548130267477,
          -0.17460929674400152,
          -0.1440444349525699,
          -0.11215773871149645,
          -0.07910803139789256,
          -0.045064806870265116,
          -0.010206810880303856,
          0.025279471181812545,
          0.06120140442861357,
          0.09736185579994848,
          0.13356088918364736,
          0.169597486551946
         ],
         "yaxis": "y4"
        },
        {
         "fill": "none",
         "line": {
          "color": "#2d92ff",
          "width": 2
         },
         "mode": "lines",
         "name": "weekly_spring",
         "type": "scatter",
         "x": [
          0,
          1,
          2,
          3,
          4,
          5,
          6,
          7,
          8,
          9,
          10,
          11,
          12,
          13,
          14,
          15,
          16,
          17,
          18,
          19,
          20,
          21,
          22,
          23,
          24,
          25,
          26,
          27,
          28,
          29,
          30,
          31,
          32,
          33,
          34,
          35,
          36,
          37,
          38,
          39,
          40,
          41,
          42,
          43,
          44,
          45,
          46,
          47,
          48,
          49,
          50,
          51,
          52,
          53,
          54,
          55,
          56,
          57,
          58,
          59,
          60,
          61,
          62,
          63,
          64,
          65,
          66,
          67,
          68,
          69,
          70,
          71,
          72,
          73,
          74,
          75,
          76,
          77,
          78,
          79,
          80,
          81,
          82,
          83,
          84,
          85,
          86,
          87,
          88,
          89,
          90,
          91,
          92,
          93,
          94,
          95,
          96,
          97,
          98,
          99,
          100,
          101,
          102,
          103,
          104,
          105,
          106,
          107,
          108,
          109,
          110,
          111,
          112,
          113,
          114,
          115,
          116,
          117,
          118,
          119,
          120,
          121,
          122,
          123,
          124,
          125,
          126,
          127,
          128,
          129,
          130,
          131,
          132,
          133,
          134,
          135,
          136,
          137,
          138,
          139,
          140,
          141,
          142,
          143,
          144,
          145,
          146,
          147,
          148,
          149,
          150,
          151,
          152,
          153,
          154,
          155,
          156,
          157,
          158,
          159,
          160,
          161,
          162,
          163,
          164,
          165,
          166,
          167
         ],
         "xaxis": "x5",
         "y": [
          -0.16503568499392826,
          -0.15468811938486118,
          -0.1442640598204257,
          -0.13382962793158318,
          -0.12344817142446718,
          -0.11317973628336532,
          -0.1030805853421954,
          -0.09320276792590179,
          -0.08359374458756422,
          -0.07429607030166048,
          -0.06534713875424024,
          -0.0567789895790965,
          -0.048618179661523535,
          -0.04088571884525314,
          -0.03359706958586087,
          -0.026762209357043223,
          -0.020385753875087027,
          -0.014467138478659939,
          -0.009000854351537623,
          -0.003976735656154682,
          0.0006197069475885209,
          0.004806911401475827,
          0.008606853420779964,
          0.012044605565941405,
          0.01514787231961026,
          0.01794650749747473,
          0.02047202043782814,
          0.022757077476617406,
          0.024835005165674006,
          0.026739301577976226,
          0.028503161852150617,
          0.030159023839747206,
          0.03173813939030682,
          0.033270176373794196,
          0.03478285607962548,
          0.03630163008825677,
          0.03784940013456436,
          0.03944628385710702,
          0.04110942867706318,
          0.04285287536945534,
          0.04468747219577994,
          0.046620839773196775,
          0.04865738615624173,
          0.05079837092440021,
          0.05304201641225711,
          0.05538366358419246,
          0.057815969459882294,
          0.060329142458551706,
          0.06291121152631124,
          0.06554832447837751,
          0.06822507061960761,
          0.07092482240409816,
          0.07363009065733452,
          0.07632288774970557,
          0.07898509301683176,
          0.0815988147336513,
          0.08414674303202128,
          0.08661248830610113,
          0.08898089988267141,
          0.09123836004327215,
          0.09337304884932285,
          0.0953751756612911,
          0.09723717373139355,
          0.09895385478961002,
          0.10052252112410999,
          0.10194303327970988,
          0.10321783213647463,
          0.10435191479649451,
          0.10535276437769499,
          0.10623023448437222,
          0.10699638978557988,
          0.1076653047814208,
          0.10825282345133819,
          0.10877628306531677,
          0.10925420597893276,
          0.10970596372694424,
          0.11015141815874449,
          0.11061054474160482,
          0.11110304345334401,
          0.11164794291861654,
          0.11226320361233277,
          0.11296532601414919,
          0.11376896961282681,
          0.11468658857524926,
          0.11572808973651245,
          0.11690051832696802,
          0.11820777655411006,
          0.11965037976342209,
          0.12122525446185968,
          0.12292558197841724,
          0.12474069097376828,
          0.12665600139714212,
          0.12865302184557317,
          0.1307094015915467,
          0.13279903784416372,
          0.13489223808727366,
          0.13695593661764824,
          0.13895396367925428,
          0.14084736489158786,
          0.14259476797910714,
          0.14415279315975565,
          0.14547650293663436,
          0.1465198864754339,
          0.14723637323538494,
          0.14757937008184127,
          0.1475028157245399,
          0.14696174602489456,
          0.14591286348732338,
          0.1443151041001727,
          0.1421301946407605,
          0.1393231935676428,
          0.13586300873983434,
          0.13172288539756447,
          0.12688085810234723,
          0.12132016069823055,
          0.11502958878661187,
          0.10800380969755809,
          0.10024361551054234,
          0.09175611531869429,
          0.0825548635677485,
          0.07265992205317486,
          0.06209785390590014,
          0.050901648653648504,
          0.03911057826042647,
          0.02676998485308033,
          0.01393100160946285,
          0.0006502091011787873,
          -0.013010769866350969,
          -0.026985733145919476,
          -0.04120441541543649,
          -0.055593052496675316,
          -0.07007498815364356,
          -0.0845713171578934,
          -0.09900155794905756,
          -0.113284347878055,
          -0.1273381536945447,
          -0.141081989747811,
          -0.15443613625821506,
          -0.16732284997328292,
          -0.17966705956799073,
          -0.1913970383374622,
          -0.20244504692805265,
          -0.21274793916737722,
          -0.22224772450158922,
          -0.23089208097357863,
          -0.23863481324088662,
          -0.24543625076098535,
          -0.2512635819157862,
          -0.2560911205702079,
          -0.2599005023326302,
          -0.26268080855621867,
          -0.26442861693467445,
          -0.2651479783829062,
          -0.26485032070083964,
          -0.26355428034884043,
          -0.26128546446193707,
          -0.2580761460017532,
          -0.25396489569189007,
          -0.24899615506656522,
          -0.24321975561104117,
          -0.23669038955681765,
          -0.22946703839757066,
          -0.221612365640839,
          -0.213192080681407,
          -0.20427428094255606,
          -0.19492877964354177,
          -0.18522642666152755,
          -0.17523842995838962
         ],
         "yaxis": "y5"
        }
       ],
       "layout": {
        "autosize": true,
        "font": {
         "size": 10
        },
        "height": 1050,
        "hovermode": "x unified",
        "margin": {
         "b": 0,
         "l": 0,
         "pad": 0,
         "r": 10,
         "t": 10
        },
        "showlegend": false,
        "template": {
         "data": {
          "bar": [
           {
            "error_x": {
             "color": "#2a3f5f"
            },
            "error_y": {
             "color": "#2a3f5f"
            },
            "marker": {
             "line": {
              "color": "white",
              "width": 0.5
             },
             "pattern": {
              "fillmode": "overlay",
              "size": 10,
              "solidity": 0.2
             }
            },
            "type": "bar"
           }
          ],
          "barpolar": [
           {
            "marker": {
             "line": {
              "color": "white",
              "width": 0.5
             },
             "pattern": {
              "fillmode": "overlay",
              "size": 10,
              "solidity": 0.2
             }
            },
            "type": "barpolar"
           }
          ],
          "carpet": [
           {
            "aaxis": {
             "endlinecolor": "#2a3f5f",
             "gridcolor": "#C8D4E3",
             "linecolor": "#C8D4E3",
             "minorgridcolor": "#C8D4E3",
             "startlinecolor": "#2a3f5f"
            },
            "baxis": {
             "endlinecolor": "#2a3f5f",
             "gridcolor": "#C8D4E3",
             "linecolor": "#C8D4E3",
             "minorgridcolor": "#C8D4E3",
             "startlinecolor": "#2a3f5f"
            },
            "type": "carpet"
           }
          ],
          "choropleth": [
           {
            "colorbar": {
             "outlinewidth": 0,
             "ticks": ""
            },
            "type": "choropleth"
           }
          ],
          "contour": [
           {
            "colorbar": {
             "outlinewidth": 0,
             "ticks": ""
            },
            "colorscale": [
             [
              0,
              "#0d0887"
             ],
             [
              0.1111111111111111,
              "#46039f"
             ],
             [
              0.2222222222222222,
              "#7201a8"
             ],
             [
              0.3333333333333333,
              "#9c179e"
             ],
             [
              0.4444444444444444,
              "#bd3786"
             ],
             [
              0.5555555555555556,
              "#d8576b"
             ],
             [
              0.6666666666666666,
              "#ed7953"
             ],
             [
              0.7777777777777778,
              "#fb9f3a"
             ],
             [
              0.8888888888888888,
              "#fdca26"
             ],
             [
              1,
              "#f0f921"
             ]
            ],
            "type": "contour"
           }
          ],
          "contourcarpet": [
           {
            "colorbar": {
             "outlinewidth": 0,
             "ticks": ""
            },
            "type": "contourcarpet"
           }
          ],
          "heatmap": [
           {
            "colorbar": {
             "outlinewidth": 0,
             "ticks": ""
            },
            "colorscale": [
             [
              0,
              "#0d0887"
             ],
             [
              0.1111111111111111,
              "#46039f"
             ],
             [
              0.2222222222222222,
              "#7201a8"
             ],
             [
              0.3333333333333333,
              "#9c179e"
             ],
             [
              0.4444444444444444,
              "#bd3786"
             ],
             [
              0.5555555555555556,
              "#d8576b"
             ],
             [
              0.6666666666666666,
              "#ed7953"
             ],
             [
              0.7777777777777778,
              "#fb9f3a"
             ],
             [
              0.8888888888888888,
              "#fdca26"
             ],
             [
              1,
              "#f0f921"
             ]
            ],
            "type": "heatmap"
           }
          ],
          "heatmapgl": [
           {
            "colorbar": {
             "outlinewidth": 0,
             "ticks": ""
            },
            "colorscale": [
             [
              0,
              "#0d0887"
             ],
             [
              0.1111111111111111,
              "#46039f"
             ],
             [
              0.2222222222222222,
              "#7201a8"
             ],
             [
              0.3333333333333333,
              "#9c179e"
             ],
             [
              0.4444444444444444,
              "#bd3786"
             ],
             [
              0.5555555555555556,
              "#d8576b"
             ],
             [
              0.6666666666666666,
              "#ed7953"
             ],
             [
              0.7777777777777778,
              "#fb9f3a"
             ],
             [
              0.8888888888888888,
              "#fdca26"
             ],
             [
              1,
              "#f0f921"
             ]
            ],
            "type": "heatmapgl"
           }
          ],
          "histogram": [
           {
            "marker": {
             "pattern": {
              "fillmode": "overlay",
              "size": 10,
              "solidity": 0.2
             }
            },
            "type": "histogram"
           }
          ],
          "histogram2d": [
           {
            "colorbar": {
             "outlinewidth": 0,
             "ticks": ""
            },
            "colorscale": [
             [
              0,
              "#0d0887"
             ],
             [
              0.1111111111111111,
              "#46039f"
             ],
             [
              0.2222222222222222,
              "#7201a8"
             ],
             [
              0.3333333333333333,
              "#9c179e"
             ],
             [
              0.4444444444444444,
              "#bd3786"
             ],
             [
              0.5555555555555556,
              "#d8576b"
             ],
             [
              0.6666666666666666,
              "#ed7953"
             ],
             [
              0.7777777777777778,
              "#fb9f3a"
             ],
             [
              0.8888888888888888,
              "#fdca26"
             ],
             [
              1,
              "#f0f921"
             ]
            ],
            "type": "histogram2d"
           }
          ],
          "histogram2dcontour": [
           {
            "colorbar": {
             "outlinewidth": 0,
             "ticks": ""
            },
            "colorscale": [
             [
              0,
              "#0d0887"
             ],
             [
              0.1111111111111111,
              "#46039f"
             ],
             [
              0.2222222222222222,
              "#7201a8"
             ],
             [
              0.3333333333333333,
              "#9c179e"
             ],
             [
              0.4444444444444444,
              "#bd3786"
             ],
             [
              0.5555555555555556,
              "#d8576b"
             ],
             [
              0.6666666666666666,
              "#ed7953"
             ],
             [
              0.7777777777777778,
              "#fb9f3a"
             ],
             [
              0.8888888888888888,
              "#fdca26"
             ],
             [
              1,
              "#f0f921"
             ]
            ],
            "type": "histogram2dcontour"
           }
          ],
          "mesh3d": [
           {
            "colorbar": {
             "outlinewidth": 0,
             "ticks": ""
            },
            "type": "mesh3d"
           }
          ],
          "parcoords": [
           {
            "line": {
             "colorbar": {
              "outlinewidth": 0,
              "ticks": ""
             }
            },
            "type": "parcoords"
           }
          ],
          "pie": [
           {
            "automargin": true,
            "type": "pie"
           }
          ],
          "scatter": [
           {
            "fillpattern": {
             "fillmode": "overlay",
             "size": 10,
             "solidity": 0.2
            },
            "type": "scatter"
           }
          ],
          "scatter3d": [
           {
            "line": {
             "colorbar": {
              "outlinewidth": 0,
              "ticks": ""
             }
            },
            "marker": {
             "colorbar": {
              "outlinewidth": 0,
              "ticks": ""
             }
            },
            "type": "scatter3d"
           }
          ],
          "scattercarpet": [
           {
            "marker": {
             "colorbar": {
              "outlinewidth": 0,
              "ticks": ""
             }
            },
            "type": "scattercarpet"
           }
          ],
          "scattergeo": [
           {
            "marker": {
             "colorbar": {
              "outlinewidth": 0,
              "ticks": ""
             }
            },
            "type": "scattergeo"
           }
          ],
          "scattergl": [
           {
            "marker": {
             "colorbar": {
              "outlinewidth": 0,
              "ticks": ""
             }
            },
            "type": "scattergl"
           }
          ],
          "scattermapbox": [
           {
            "marker": {
             "colorbar": {
              "outlinewidth": 0,
              "ticks": ""
             }
            },
            "type": "scattermapbox"
           }
          ],
          "scatterpolar": [
           {
            "marker": {
             "colorbar": {
              "outlinewidth": 0,
              "ticks": ""
             }
            },
            "type": "scatterpolar"
           }
          ],
          "scatterpolargl": [
           {
            "marker": {
             "colorbar": {
              "outlinewidth": 0,
              "ticks": ""
             }
            },
            "type": "scatterpolargl"
           }
          ],
          "scatterternary": [
           {
            "marker": {
             "colorbar": {
              "outlinewidth": 0,
              "ticks": ""
             }
            },
            "type": "scatterternary"
           }
          ],
          "surface": [
           {
            "colorbar": {
             "outlinewidth": 0,
             "ticks": ""
            },
            "colorscale": [
             [
              0,
              "#0d0887"
             ],
             [
              0.1111111111111111,
              "#46039f"
             ],
             [
              0.2222222222222222,
              "#7201a8"
             ],
             [
              0.3333333333333333,
              "#9c179e"
             ],
             [
              0.4444444444444444,
              "#bd3786"
             ],
             [
              0.5555555555555556,
              "#d8576b"
             ],
             [
              0.6666666666666666,
              "#ed7953"
             ],
             [
              0.7777777777777778,
              "#fb9f3a"
             ],
             [
              0.8888888888888888,
              "#fdca26"
             ],
             [
              1,
              "#f0f921"
             ]
            ],
            "type": "surface"
           }
          ],
          "table": [
           {
            "cells": {
             "fill": {
              "color": "#EBF0F8"
             },
             "line": {
              "color": "white"
             }
            },
            "header": {
             "fill": {
              "color": "#C8D4E3"
             },
             "line": {
              "color": "white"
             }
            },
            "type": "table"
           }
          ]
         },
         "layout": {
          "annotationdefaults": {
           "arrowcolor": "#2a3f5f",
           "arrowhead": 0,
           "arrowwidth": 1
          },
          "autotypenumbers": "strict",
          "coloraxis": {
           "colorbar": {
            "outlinewidth": 0,
            "ticks": ""
           }
          },
          "colorscale": {
           "diverging": [
            [
             0,
             "#8e0152"
            ],
            [
             0.1,
             "#c51b7d"
            ],
            [
             0.2,
             "#de77ae"
            ],
            [
             0.3,
             "#f1b6da"
            ],
            [
             0.4,
             "#fde0ef"
            ],
            [
             0.5,
             "#f7f7f7"
            ],
            [
             0.6,
             "#e6f5d0"
            ],
            [
             0.7,
             "#b8e186"
            ],
            [
             0.8,
             "#7fbc41"
            ],
            [
             0.9,
             "#4d9221"
            ],
            [
             1,
             "#276419"
            ]
           ],
           "sequential": [
            [
             0,
             "#0d0887"
            ],
            [
             0.1111111111111111,
             "#46039f"
            ],
            [
             0.2222222222222222,
             "#7201a8"
            ],
            [
             0.3333333333333333,
             "#9c179e"
            ],
            [
             0.4444444444444444,
             "#bd3786"
            ],
            [
             0.5555555555555556,
             "#d8576b"
            ],
            [
             0.6666666666666666,
             "#ed7953"
            ],
            [
             0.7777777777777778,
             "#fb9f3a"
            ],
            [
             0.8888888888888888,
             "#fdca26"
            ],
            [
             1,
             "#f0f921"
            ]
           ],
           "sequentialminus": [
            [
             0,
             "#0d0887"
            ],
            [
             0.1111111111111111,
             "#46039f"
            ],
            [
             0.2222222222222222,
             "#7201a8"
            ],
            [
             0.3333333333333333,
             "#9c179e"
            ],
            [
             0.4444444444444444,
             "#bd3786"
            ],
            [
             0.5555555555555556,
             "#d8576b"
            ],
            [
             0.6666666666666666,
             "#ed7953"
            ],
            [
             0.7777777777777778,
             "#fb9f3a"
            ],
            [
             0.8888888888888888,
             "#fdca26"
            ],
            [
             1,
             "#f0f921"
            ]
           ]
          },
          "colorway": [
           "#636efa",
           "#EF553B",
           "#00cc96",
           "#ab63fa",
           "#FFA15A",
           "#19d3f3",
           "#FF6692",
           "#B6E880",
           "#FF97FF",
           "#FECB52"
          ],
          "font": {
           "color": "#2a3f5f"
          },
          "geo": {
           "bgcolor": "white",
           "lakecolor": "white",
           "landcolor": "white",
           "showlakes": true,
           "showland": true,
           "subunitcolor": "#C8D4E3"
          },
          "hoverlabel": {
           "align": "left"
          },
          "hovermode": "closest",
          "mapbox": {
           "style": "light"
          },
          "paper_bgcolor": "white",
          "plot_bgcolor": "white",
          "polar": {
           "angularaxis": {
            "gridcolor": "#EBF0F8",
            "linecolor": "#EBF0F8",
            "ticks": ""
           },
           "bgcolor": "white",
           "radialaxis": {
            "gridcolor": "#EBF0F8",
            "linecolor": "#EBF0F8",
            "ticks": ""
           }
          },
          "scene": {
           "xaxis": {
            "backgroundcolor": "white",
            "gridcolor": "#DFE8F3",
            "gridwidth": 2,
            "linecolor": "#EBF0F8",
            "showbackground": true,
            "ticks": "",
            "zerolinecolor": "#EBF0F8"
           },
           "yaxis": {
            "backgroundcolor": "white",
            "gridcolor": "#DFE8F3",
            "gridwidth": 2,
            "linecolor": "#EBF0F8",
            "showbackground": true,
            "ticks": "",
            "zerolinecolor": "#EBF0F8"
           },
           "zaxis": {
            "backgroundcolor": "white",
            "gridcolor": "#DFE8F3",
            "gridwidth": 2,
            "linecolor": "#EBF0F8",
            "showbackground": true,
            "ticks": "",
            "zerolinecolor": "#EBF0F8"
           }
          },
          "shapedefaults": {
           "line": {
            "color": "#2a3f5f"
           }
          },
          "ternary": {
           "aaxis": {
            "gridcolor": "#DFE8F3",
            "linecolor": "#A2B1C6",
            "ticks": ""
           },
           "baxis": {
            "gridcolor": "#DFE8F3",
            "linecolor": "#A2B1C6",
            "ticks": ""
           },
           "bgcolor": "white",
           "caxis": {
            "gridcolor": "#DFE8F3",
            "linecolor": "#A2B1C6",
            "ticks": ""
           }
          },
          "title": {
           "x": 0.05
          },
          "xaxis": {
           "automargin": true,
           "gridcolor": "#EBF0F8",
           "linecolor": "#EBF0F8",
           "ticks": "",
           "title": {
            "standoff": 15
           },
           "zerolinecolor": "#EBF0F8",
           "zerolinewidth": 2
          },
          "yaxis": {
           "automargin": true,
           "gridcolor": "#EBF0F8",
           "linecolor": "#EBF0F8",
           "ticks": "",
           "title": {
            "standoff": 15
           },
           "zerolinecolor": "#EBF0F8",
           "zerolinewidth": 2
          }
         }
        },
        "title": {
         "font": {
          "size": 12
         }
        },
        "width": 700,
        "xaxis": {
         "anchor": "y",
         "domain": [
          0,
          1
         ],
         "linewidth": 1.5,
         "mirror": true,
         "range": [
          "2016-12-14T00:00:00",
          "2018-01-18T00:00:00"
         ],
         "showline": true,
         "title": {
          "text": "Day of year"
         }
        },
        "xaxis2": {
         "anchor": "y2",
         "domain": [
          0,
          1
         ],
         "linewidth": 1.5,
         "mirror": true,
         "range": [
          -8,
          175
         ],
         "showline": true,
         "tickmode": "array",
         "ticktext": [
          "Sunday",
          "Monday",
          "Tuesday",
          "Wednesday",
          "Thursday",
          "Friday",
          "Saturday",
          "Sunday",
          "Sunday"
         ],
         "tickvals": [
          0,
          24,
          48,
          72,
          96,
          120,
          144,
          168,
          192
         ],
         "title": {
          "text": "Day of week"
         }
        },
        "xaxis3": {
         "anchor": "y3",
         "domain": [
          0,
          1
         ],
         "linewidth": 1.5,
         "mirror": true,
         "range": [
          -8,
          175
         ],
         "showline": true,
         "tickmode": "array",
         "ticktext": [
          "Sunday",
          "Monday",
          "Tuesday",
          "Wednesday",
          "Thursday",
          "Friday",
          "Saturday",
          "Sunday",
          "Sunday"
         ],
         "tickvals": [
          0,
          24,
          48,
          72,
          96,
          120,
          144,
          168,
          192
         ],
         "title": {
          "text": "Day of week"
         }
        },
        "xaxis4": {
         "anchor": "y4",
         "domain": [
          0,
          1
         ],
         "linewidth": 1.5,
         "mirror": true,
         "range": [
          -8,
          175
         ],
         "showline": true,
         "tickmode": "array",
         "ticktext": [
          "Sunday",
          "Monday",
          "Tuesday",
          "Wednesday",
          "Thursday",
          "Friday",
          "Saturday",
          "Sunday",
          "Sunday"
         ],
         "tickvals": [
          0,
          24,
          48,
          72,
          96,
          120,
          144,
          168,
          192
         ],
         "title": {
          "text": "Day of week"
         }
        },
        "xaxis5": {
         "anchor": "y5",
         "domain": [
          0,
          1
         ],
         "linewidth": 1.5,
         "mirror": true,
         "range": [
          -8,
          175
         ],
         "showline": true,
         "tickmode": "array",
         "ticktext": [
          "Sunday",
          "Monday",
          "Tuesday",
          "Wednesday",
          "Thursday",
          "Friday",
          "Saturday",
          "Sunday",
          "Sunday"
         ],
         "tickvals": [
          0,
          24,
          48,
          72,
          96,
          120,
          144,
          168,
          192
         ],
         "title": {
          "text": "Day of week"
         }
        },
        "yaxis": {
         "anchor": "x",
         "domain": [
          0.848,
          1
         ],
         "linewidth": 1.5,
         "mirror": true,
         "rangemode": "normal",
         "showline": true,
         "title": {
          "text": "Seasonality: yearly"
         }
        },
        "yaxis2": {
         "anchor": "x2",
         "domain": [
          0.6359999999999999,
          0.7879999999999999
         ],
         "linewidth": 1.5,
         "mirror": true,
         "rangemode": "normal",
         "showline": true,
         "title": {
          "text": "Seasonality: weekly_summer"
         }
        },
        "yaxis3": {
         "anchor": "x3",
         "domain": [
          0.424,
          0.576
         ],
         "linewidth": 1.5,
         "mirror": true,
         "rangemode": "normal",
         "showline": true,
         "title": {
          "text": "Seasonality: weekly_fall"
         }
        },
        "yaxis4": {
         "anchor": "x4",
         "domain": [
          0.212,
          0.364
         ],
         "linewidth": 1.5,
         "mirror": true,
         "rangemode": "normal",
         "showline": true,
         "title": {
          "text": "Seasonality: weekly_winter"
         }
        },
        "yaxis5": {
         "anchor": "x5",
         "domain": [
          0,
          0.152
         ],
         "linewidth": 1.5,
         "mirror": true,
         "rangemode": "normal",
         "showline": true,
         "title": {
          "text": "Seasonality: weekly_spring"
         }
        }
       }
      }
     },
     "metadata": {},
     "output_type": "display_data"
    }
   ],
   "source": [
    "m.plot_parameters(components=\"seasonality\")"
   ]
  }
 ],
 "metadata": {
  "kernelspec": {
   "display_name": "Python 3",
   "language": "python",
   "name": "python3"
  },
  "language_info": {
   "codemirror_mode": {
    "name": "ipython",
    "version": 3
   },
   "file_extension": ".py",
   "mimetype": "text/x-python",
   "name": "python",
   "nbconvert_exporter": "python",
   "pygments_lexer": "ipython3",
   "version": "3.9.16"
  }
 },
 "nbformat": 4,
 "nbformat_minor": 0
}
