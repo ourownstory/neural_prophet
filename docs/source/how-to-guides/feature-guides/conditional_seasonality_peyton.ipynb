{
 "cells": [
  {
   "cell_type": "markdown",
   "metadata": {
    "collapsed": false
   },
   "source": [
    "[![Open In Colab](https://colab.research.google.com/assets/colab-badge.svg)](https://colab.research.google.com/github/ourownstory/neural_prophet/blob/main/tutorials/feature-use/conditional_seasonality_peyton.ipynb)"
   ]
  },
  {
   "cell_type": "markdown",
   "metadata": {
    "collapsed": false
   },
   "source": [
    "# Conditional Seasonality\n",
    "Per default, NeuralProphet models yearly, weekly, and daily seasonalities that remain static throughout all timestamps.\n",
    "With conditional seasonality, we enable the model to fit seasonalities to certain portions of the dataset."
   ]
  },
  {
   "cell_type": "code",
   "execution_count": 1,
   "metadata": {
    "collapsed": false,
    "pycharm": {
     "name": "#%%\n"
    }
   },
   "outputs": [],
   "source": [
    "if \"google.colab\" in str(get_ipython()):\n",
    "    !pip install git+https://github.com/ourownstory/neural_prophet.git@examples_cond_seas # may take a while\n",
    "    #!pip install neuralprophet # much faster, but may not have the latest upgrades/bugfixes\n",
    "\n",
    "import pandas as pd\n",
    "from neuralprophet import NeuralProphet, set_log_level, df_utils\n",
    "\n",
    "set_log_level(\"ERROR\")"
   ]
  },
  {
   "cell_type": "code",
   "execution_count": 2,
   "metadata": {
    "collapsed": false,
    "pycharm": {
     "name": "#%%\n"
    }
   },
   "outputs": [],
   "source": [
    "data_location = \"https://raw.githubusercontent.com/ourownstory/neuralprophet-data/main/datasets/\"\n",
    "df = pd.read_csv(data_location + \"wp_log_peyton_manning.csv\")"
   ]
  },
  {
   "attachments": {},
   "cell_type": "markdown",
   "metadata": {
    "collapsed": false
   },
   "source": [
    "## Custom conditional seasonality\n",
    "For example, we can define two weekly seasonalities: one for on-season football, and one for off-season football.\n",
    "The football season starts in September, and ends after January. We account for this by adding two columns containing binary values (0 and 1) to the input df, depending on whether the condition is activated at a given timestamp or not. Note that also floats between 0..1 can be added to model a softer transition.\n",
    "\n",
    "As we are defining alternative weekly seasonalities, we disable the model's default one."
   ]
  },
  {
   "cell_type": "code",
   "execution_count": 3,
   "metadata": {
    "collapsed": false,
    "pycharm": {
     "name": "#%%\n"
    }
   },
   "outputs": [],
   "source": [
    "df[\"ds\"] = pd.to_datetime(df[\"ds\"])\n",
    "df[\"on_season\"] = df[\"ds\"].apply(lambda x: x.month in [9, 10, 11, 12, 1])\n",
    "df[\"off_season\"] = df[\"ds\"].apply(lambda x: x.month not in [9, 10, 11, 12, 1])"
   ]
  },
  {
   "attachments": {},
   "cell_type": "markdown",
   "metadata": {
    "collapsed": false,
    "tags": []
   },
   "source": [
    "`period=7` implies that we are adding a new weekly seasonality. With the parameter condition_name= we specify to what condition the newly added seasonality shall be fitted"
   ]
  },
  {
   "cell_type": "code",
   "execution_count": 4,
   "metadata": {
    "collapsed": false,
    "pycharm": {
     "name": "#%%\n"
    }
   },
   "outputs": [
    {
     "data": {
      "application/vnd.jupyter.widget-view+json": {
       "model_id": "901a2bcfb7ea4b67b957678e4a94fb33",
       "version_major": 2,
       "version_minor": 0
      },
      "text/plain": [
       "Finding best initial lr:   0%|          | 0/237 [00:00<?, ?it/s]"
      ]
     },
     "metadata": {},
     "output_type": "display_data"
    },
    {
     "data": {
      "application/vnd.jupyter.widget-view+json": {
       "model_id": "d83cbfbe74384c52b9785dee95e0e434",
       "version_major": 2,
       "version_minor": 0
      },
      "text/plain": [
       "Training: 0it [00:00, ?it/s]"
      ]
     },
     "metadata": {},
     "output_type": "display_data"
    }
   ],
   "source": [
    "m = NeuralProphet(weekly_seasonality=False)\n",
    "m.set_plotting_backend(\"plotly-static\")\n",
    "m.add_seasonality(name=\"on_season\", period=7, fourier_order=3, condition_name=\"on_season\")\n",
    "m.add_seasonality(name=\"off_season\", period=7, fourier_order=3, condition_name=\"off_season\")\n",
    "metrics = m.fit(df, freq=\"D\")"
   ]
  },
  {
   "cell_type": "markdown",
   "metadata": {
    "collapsed": false
   },
   "source": [
    "When predicting into the unknown future, the future df must be extended in the same way as the input df."
   ]
  },
  {
   "cell_type": "code",
   "execution_count": 5,
   "metadata": {
    "collapsed": false,
    "pycharm": {
     "name": "#%%\n"
    }
   },
   "outputs": [
    {
     "data": {
      "application/vnd.jupyter.widget-view+json": {
       "model_id": "16743bc70ca2401dbf170696ee655286",
       "version_major": 2,
       "version_minor": 0
      },
      "text/plain": [
       "Predicting: 93it [00:00, ?it/s]"
      ]
     },
     "metadata": {},
     "output_type": "display_data"
    }
   ],
   "source": [
    "future = m.make_future_dataframe(df, n_historic_predictions=365, periods=365)\n",
    "future[\"on_season\"] = future[\"ds\"].apply(lambda x: x.month in [9, 10, 11, 12, 1])\n",
    "future[\"off_season\"] = future[\"ds\"].apply(lambda x: x.month not in [9, 10, 11, 12, 1])\n",
    "forecast = m.predict(df=future)"
   ]
  },
  {
   "cell_type": "markdown",
   "metadata": {
    "collapsed": false
   },
   "source": [
    "The plot shows both of the newly added weekly seasonalities. In-season we observe a high during the weekends, while during the week there is no game going on. off-season does not show an increase during the weekend."
   ]
  },
  {
   "cell_type": "code",
   "execution_count": 6,
   "metadata": {
    "collapsed": false,
    "pycharm": {
     "name": "#%%\n"
    }
   },
   "outputs": [
    {
     "data": {
      "image/svg+xml": [
       "<svg class=\"main-svg\" xmlns=\"http://www.w3.org/2000/svg\" xmlns:xlink=\"http://www.w3.org/1999/xlink\" width=\"700\" height=\"630\" style=\"\" viewBox=\"0 0 700 630\"><rect x=\"0\" y=\"0\" width=\"700\" height=\"630\" style=\"fill: rgb(255, 255, 255); fill-opacity: 1;\"/><defs id=\"defs-2620ab\"><g class=\"clips\"><clipPath id=\"clip2620abxyplot\" class=\"plotclip\"><rect width=\"639\" height=\"154.93333333333337\"/></clipPath><clipPath id=\"clip2620abx2y2plot\" class=\"plotclip\"><rect width=\"639\" height=\"154.93333333333334\"/></clipPath><clipPath id=\"clip2620abx3y3plot\" class=\"plotclip\"><rect width=\"639\" height=\"154.93333333333334\"/></clipPath><clipPath class=\"axesclip\" id=\"clip2620abx\"><rect x=\"51\" y=\"0\" width=\"639\" height=\"630\"/></clipPath><clipPath class=\"axesclip\" id=\"clip2620aby\"><rect x=\"0\" y=\"10\" width=\"700\" height=\"154.93333333333337\"/></clipPath><clipPath class=\"axesclip\" id=\"clip2620abxy\"><rect x=\"51\" y=\"10\" width=\"639\" height=\"154.93333333333337\"/></clipPath><clipPath class=\"axesclip\" id=\"clip2620aby2\"><rect x=\"0\" y=\"223.03333333333336\" width=\"700\" height=\"154.93333333333334\"/></clipPath><clipPath class=\"axesclip\" id=\"clip2620abxy2\"><rect x=\"51\" y=\"223.03333333333336\" width=\"639\" height=\"154.93333333333334\"/></clipPath><clipPath class=\"axesclip\" id=\"clip2620aby3\"><rect x=\"0\" y=\"436.0666666666667\" width=\"700\" height=\"154.93333333333334\"/></clipPath><clipPath class=\"axesclip\" id=\"clip2620abxy3\"><rect x=\"51\" y=\"436.0666666666667\" width=\"639\" height=\"154.93333333333334\"/></clipPath><clipPath class=\"axesclip\" id=\"clip2620abx2\"><rect x=\"51\" y=\"0\" width=\"639\" height=\"630\"/></clipPath><clipPath class=\"axesclip\" id=\"clip2620abx2y\"><rect x=\"51\" y=\"10\" width=\"639\" height=\"154.93333333333337\"/></clipPath><clipPath class=\"axesclip\" id=\"clip2620abx2y2\"><rect x=\"51\" y=\"223.03333333333336\" width=\"639\" height=\"154.93333333333334\"/></clipPath><clipPath class=\"axesclip\" id=\"clip2620abx2y3\"><rect x=\"51\" y=\"436.0666666666667\" width=\"639\" height=\"154.93333333333334\"/></clipPath><clipPath class=\"axesclip\" id=\"clip2620abx3\"><rect x=\"51\" y=\"0\" width=\"639\" height=\"630\"/></clipPath><clipPath class=\"axesclip\" id=\"clip2620abx3y\"><rect x=\"51\" y=\"10\" width=\"639\" height=\"154.93333333333337\"/></clipPath><clipPath class=\"axesclip\" id=\"clip2620abx3y2\"><rect x=\"51\" y=\"223.03333333333336\" width=\"639\" height=\"154.93333333333334\"/></clipPath><clipPath class=\"axesclip\" id=\"clip2620abx3y3\"><rect x=\"51\" y=\"436.0666666666667\" width=\"639\" height=\"154.93333333333334\"/></clipPath></g><g class=\"gradients\"/><g class=\"patterns\"/></defs><g class=\"bglayer\"/><g class=\"layer-below\"><g class=\"imagelayer\"/><g class=\"shapelayer\"/></g><g class=\"cartesianlayer\"><g class=\"subplot xy\"><g class=\"layer-subplot\"><g class=\"shapelayer\"/><g class=\"imagelayer\"/></g><g class=\"minor-gridlayer\"><g class=\"x\"/><g class=\"y\"/></g><g class=\"gridlayer\"><g class=\"x\"><path class=\"xgrid crisp\" transform=\"translate(79.76,0)\" d=\"M0,10v154.93333333333337\" style=\"stroke: rgb(235, 240, 248); stroke-opacity: 1; stroke-width: 1px;\"/><path class=\"xgrid crisp\" transform=\"translate(174.01,0)\" d=\"M0,10v154.93333333333337\" style=\"stroke: rgb(235, 240, 248); stroke-opacity: 1; stroke-width: 1px;\"/><path class=\"xgrid crisp\" transform=\"translate(271.46000000000004,0)\" d=\"M0,10v154.93333333333337\" style=\"stroke: rgb(235, 240, 248); stroke-opacity: 1; stroke-width: 1px;\"/><path class=\"xgrid crisp\" transform=\"translate(368.9,0)\" d=\"M0,10v154.93333333333337\" style=\"stroke: rgb(235, 240, 248); stroke-opacity: 1; stroke-width: 1px;\"/><path class=\"xgrid crisp\" transform=\"translate(467.95,0)\" d=\"M0,10v154.93333333333337\" style=\"stroke: rgb(235, 240, 248); stroke-opacity: 1; stroke-width: 1px;\"/><path class=\"xgrid crisp\" transform=\"translate(565.4,0)\" d=\"M0,10v154.93333333333337\" style=\"stroke: rgb(235, 240, 248); stroke-opacity: 1; stroke-width: 1px;\"/><path class=\"xgrid crisp\" transform=\"translate(662.84,0)\" d=\"M0,10v154.93333333333337\" style=\"stroke: rgb(235, 240, 248); stroke-opacity: 1; stroke-width: 1px;\"/></g><g class=\"y\"><path class=\"ygrid crisp\" transform=\"translate(0,160.08)\" d=\"M51,0h639\" style=\"stroke: rgb(235, 240, 248); stroke-opacity: 1; stroke-width: 1px;\"/><path class=\"ygrid crisp\" transform=\"translate(0,125.96)\" d=\"M51,0h639\" style=\"stroke: rgb(235, 240, 248); stroke-opacity: 1; stroke-width: 1px;\"/><path class=\"ygrid crisp\" transform=\"translate(0,57.72)\" d=\"M51,0h639\" style=\"stroke: rgb(235, 240, 248); stroke-opacity: 1; stroke-width: 1px;\"/><path class=\"ygrid crisp\" transform=\"translate(0,23.6)\" d=\"M51,0h639\" style=\"stroke: rgb(235, 240, 248); stroke-opacity: 1; stroke-width: 1px;\"/></g></g><g class=\"zerolinelayer\"><path class=\"yzl zl crisp\" transform=\"translate(0,91.84)\" d=\"M51,0h639\" style=\"stroke: rgb(235, 240, 248); stroke-opacity: 1; stroke-width: 2px;\"/></g><path class=\"xlines-below\"/><path class=\"ylines-below\"/><g class=\"overlines-below\"/><g class=\"xaxislayer-below\"/><g class=\"yaxislayer-below\"/><g class=\"overaxes-below\"/><g class=\"plot\" transform=\"translate(51,10)\" clip-path=\"url(#clip2620abxyplot)\"><g class=\"scatterlayer mlayer\"><g class=\"trace scatter tracecbaa3f\" style=\"stroke-miterlimit: 2; opacity: 1;\"><g class=\"fills\"/><g class=\"errorbars\"/><g class=\"lines\"><path class=\"js-line\" d=\"M28.76,37.58L44.73,16.64L46.33,14.97L52.72,9.82L54.32,8.99L59.11,7.75L60.71,7.77L65.5,9.24L67.1,10.19L71.89,14.41L73.49,16.25L79.88,25.54L81.47,28.29L89.46,43.85L91.06,47.21L108.63,83.25L110.23,86.05L116.62,95.83L118.22,97.89L124.6,104.52L126.2,105.77L132.59,109.25L134.19,109.77L140.58,110.69L142.18,110.68L150.17,109.71L151.76,109.4L167.74,106.88L169.33,106.82L178.92,107.46L180.52,107.73L193.3,110.93L194.9,111.39L209.27,115L210.87,115.28L223.65,116.68L225.25,116.78L241.22,118.36L242.82,118.69L250.81,121.1L252.41,121.75L261.99,126.82L263.59,127.84L289.15,144.52L290.74,145.19L297.14,146.93L298.73,147.12L305.12,146.74L306.72,146.36L313.11,143.82L314.71,142.94L322.69,137.36L324.29,136.06L349.85,114.81L351.45,113.78L361.03,108.71L362.63,108.02L386.6,97.99L388.19,97.01L396.18,90.91L397.78,89.43L405.76,80.85L407.36,78.92L421.74,59.9L423.34,57.79L432.92,46.35L434.52,44.75L440.91,39.54L442.51,38.57L447.3,36.52L448.9,36.13L453.69,35.82L455.29,36L461.68,37.97L463.28,38.74L471.26,43.75L472.86,44.9L488.83,55.75L490.43,56.54L496.82,58.77L498.42,59.08L504.81,59.3L506.41,59.12L514.4,56.98L515.99,56.37L536.76,48.11L538.36,47.78L544.75,47.28L546.35,47.38L552.74,48.59L554.33,49.08L563.92,53.13L565.51,53.9L576.7,58.48L578.3,58.88L584.69,59.42L586.28,59.24L591.08,57.89L592.67,57.15L599.06,52.74L600.66,51.29L607.05,44.3L608.65,42.31L610.24,40.25\" style=\"vector-effect: none; fill: none; stroke: rgb(45, 146, 255); stroke-opacity: 1; stroke-width: 2px; opacity: 1;\"/></g><g class=\"points\"/><g class=\"text\"/></g></g></g><g class=\"overplot\"/><path class=\"xlines-above crisp\" d=\"M49.5,165.68333333333337H691.5M49.5,9.25H691.5\" style=\"fill: none; stroke-width: 1.5px; stroke: rgb(235, 240, 248); stroke-opacity: 1;\"/><path class=\"ylines-above crisp\" d=\"M50.25,10V164.93333333333337M690.75,10V164.93333333333337\" style=\"fill: none; stroke-width: 1.5px; stroke: rgb(235, 240, 248); stroke-opacity: 1;\"/><g class=\"overlines-above\"/><g class=\"xaxislayer-above\"><g class=\"xtick\"><text text-anchor=\"middle\" x=\"0\" y=\"178.43333333333337\" transform=\"translate(79.76,0)\" style=\"font-family: 'Open Sans', verdana, arial, sans-serif; font-size: 10px; fill: rgb(42, 63, 95); fill-opacity: 1; white-space: pre; opacity: 1;\">Jan 2017</text></g><g class=\"xtick\"><text text-anchor=\"middle\" x=\"0\" y=\"178.43333333333337\" style=\"font-family: 'Open Sans', verdana, arial, sans-serif; font-size: 10px; fill: rgb(42, 63, 95); fill-opacity: 1; white-space: pre; opacity: 1;\" transform=\"translate(174.01,0)\">Mar 2017</text></g><g class=\"xtick\"><text text-anchor=\"middle\" x=\"0\" y=\"178.43333333333337\" style=\"font-family: 'Open Sans', verdana, arial, sans-serif; font-size: 10px; fill: rgb(42, 63, 95); fill-opacity: 1; white-space: pre; opacity: 1;\" transform=\"translate(271.46000000000004,0)\">May 2017</text></g><g class=\"xtick\"><text text-anchor=\"middle\" x=\"0\" y=\"178.43333333333337\" style=\"font-family: 'Open Sans', verdana, arial, sans-serif; font-size: 10px; fill: rgb(42, 63, 95); fill-opacity: 1; white-space: pre; opacity: 1;\" transform=\"translate(368.9,0)\">Jul 2017</text></g><g class=\"xtick\"><text text-anchor=\"middle\" x=\"0\" y=\"178.43333333333337\" style=\"font-family: 'Open Sans', verdana, arial, sans-serif; font-size: 10px; fill: rgb(42, 63, 95); fill-opacity: 1; white-space: pre; opacity: 1;\" transform=\"translate(467.95,0)\">Sep 2017</text></g><g class=\"xtick\"><text text-anchor=\"middle\" x=\"0\" y=\"178.43333333333337\" style=\"font-family: 'Open Sans', verdana, arial, sans-serif; font-size: 10px; fill: rgb(42, 63, 95); fill-opacity: 1; white-space: pre; opacity: 1;\" transform=\"translate(565.4,0)\">Nov 2017</text></g><g class=\"xtick\"><text text-anchor=\"middle\" x=\"0\" y=\"178.43333333333337\" style=\"font-family: 'Open Sans', verdana, arial, sans-serif; font-size: 10px; fill: rgb(42, 63, 95); fill-opacity: 1; white-space: pre; opacity: 1;\" transform=\"translate(662.84,0)\">Jan 2018</text></g></g><g class=\"yaxislayer-above\"><g class=\"ytick\"><text text-anchor=\"end\" x=\"47.5\" y=\"3.5\" transform=\"translate(0,160.08)\" style=\"font-family: 'Open Sans', verdana, arial, sans-serif; font-size: 10px; fill: rgb(42, 63, 95); fill-opacity: 1; white-space: pre; opacity: 1;\">−1</text></g><g class=\"ytick\"><text text-anchor=\"end\" x=\"47.5\" y=\"3.5\" style=\"font-family: 'Open Sans', verdana, arial, sans-serif; font-size: 10px; fill: rgb(42, 63, 95); fill-opacity: 1; white-space: pre; opacity: 1;\" transform=\"translate(0,125.96)\">−0.5</text></g><g class=\"ytick\"><text text-anchor=\"end\" x=\"47.5\" y=\"3.5\" style=\"font-family: 'Open Sans', verdana, arial, sans-serif; font-size: 10px; fill: rgb(42, 63, 95); fill-opacity: 1; white-space: pre; opacity: 1;\" transform=\"translate(0,91.84)\">0</text></g><g class=\"ytick\"><text text-anchor=\"end\" x=\"47.5\" y=\"3.5\" style=\"font-family: 'Open Sans', verdana, arial, sans-serif; font-size: 10px; fill: rgb(42, 63, 95); fill-opacity: 1; white-space: pre; opacity: 1;\" transform=\"translate(0,57.72)\">0.5</text></g><g class=\"ytick\"><text text-anchor=\"end\" x=\"47.5\" y=\"3.5\" style=\"font-family: 'Open Sans', verdana, arial, sans-serif; font-size: 10px; fill: rgb(42, 63, 95); fill-opacity: 1; white-space: pre; opacity: 1;\" transform=\"translate(0,23.6)\">1</text></g></g><g class=\"overaxes-above\"/></g><g class=\"subplot x2y2\"><g class=\"layer-subplot\"><g class=\"shapelayer\"/><g class=\"imagelayer\"/></g><g class=\"minor-gridlayer\"><g class=\"x2\"/><g class=\"y2\"/></g><g class=\"gridlayer\"><g class=\"x2\"><path class=\"x2grid crisp\" transform=\"translate(162.74,0)\" d=\"M0,223.03333333333336v154.93333333333334\" style=\"stroke: rgb(235, 240, 248); stroke-opacity: 1; stroke-width: 1px;\"/><path class=\"x2grid crisp\" transform=\"translate(246.54,0)\" d=\"M0,223.03333333333336v154.93333333333334\" style=\"stroke: rgb(235, 240, 248); stroke-opacity: 1; stroke-width: 1px;\"/><path class=\"x2grid crisp\" transform=\"translate(330.34,0)\" d=\"M0,223.03333333333336v154.93333333333334\" style=\"stroke: rgb(235, 240, 248); stroke-opacity: 1; stroke-width: 1px;\"/><path class=\"x2grid crisp\" transform=\"translate(414.15,0)\" d=\"M0,223.03333333333336v154.93333333333334\" style=\"stroke: rgb(235, 240, 248); stroke-opacity: 1; stroke-width: 1px;\"/><path class=\"x2grid crisp\" transform=\"translate(497.95,0)\" d=\"M0,223.03333333333336v154.93333333333334\" style=\"stroke: rgb(235, 240, 248); stroke-opacity: 1; stroke-width: 1px;\"/><path class=\"x2grid crisp\" transform=\"translate(581.75,0)\" d=\"M0,223.03333333333336v154.93333333333334\" style=\"stroke: rgb(235, 240, 248); stroke-opacity: 1; stroke-width: 1px;\"/><path class=\"x2grid crisp\" transform=\"translate(665.56,0)\" d=\"M0,223.03333333333336v154.93333333333334\" style=\"stroke: rgb(235, 240, 248); stroke-opacity: 1; stroke-width: 1px;\"/></g><g class=\"y2\"><path class=\"y2grid crisp\" transform=\"translate(0,371.35333333333335)\" d=\"M51,0h639\" style=\"stroke: rgb(235, 240, 248); stroke-opacity: 1; stroke-width: 1px;\"/><path class=\"y2grid crisp\" transform=\"translate(0,258.49333333333334)\" d=\"M51,0h639\" style=\"stroke: rgb(235, 240, 248); stroke-opacity: 1; stroke-width: 1px;\"/></g></g><g class=\"zerolinelayer\"><path class=\"x2zl zl crisp\" transform=\"translate(78.93,0)\" d=\"M0,223.03333333333336v154.93333333333334\" style=\"stroke: rgb(235, 240, 248); stroke-opacity: 1; stroke-width: 2px;\"/><path class=\"y2zl zl crisp\" transform=\"translate(0,314.92333333333335)\" d=\"M51,0h639\" style=\"stroke: rgb(235, 240, 248); stroke-opacity: 1; stroke-width: 2px;\"/></g><path class=\"xlines-below\"/><path class=\"ylines-below\"/><g class=\"overlines-below\"/><g class=\"xaxislayer-below\"/><g class=\"yaxislayer-below\"/><g class=\"overaxes-below\"/><g class=\"plot\" transform=\"translate(51,223.03333333333336)\" clip-path=\"url(#clip2620abx2y2plot)\"><g class=\"scatterlayer mlayer\"><g class=\"trace scatter trace468a07\" style=\"stroke-miterlimit: 2; opacity: 1;\"><g class=\"fills\"/><g class=\"errorbars\"/><g class=\"lines\"><path class=\"js-line\" d=\"M27.93,62.2L41.9,43.38L45.39,39.09L55.87,27.58L59.36,24.25L69.84,16.01L73.33,13.88L80.31,10.57L83.8,9.39L90.79,7.98L94.28,7.75L101.26,8.16L104.75,8.8L115.23,12.24L118.72,13.85L129.2,19.82L132.69,22.14L146.66,32.53L150.15,35.33L192.05,68.93L195.54,71.47L216.49,85.46L219.98,87.59L240.93,99.37L244.43,101.19L268.87,112.77L272.36,114.25L289.82,120.72L293.31,121.8L307.28,125.22L310.77,125.82L324.74,127.11L328.23,127.14L342.2,126.09L345.69,125.55L359.66,122.48L363.15,121.53L401.56,110.56L405.05,109.89L415.52,108.64L419.02,108.5L429.49,109.04L432.98,109.55L443.46,112.08L446.95,113.25L457.43,117.61L460.92,119.31L478.38,128.98L481.87,131.01L499.33,140.39L502.82,141.95L513.3,145.57L516.79,146.35L523.77,147.18L527.26,147.19L534.25,146.33L537.74,145.45L544.72,142.74L548.21,140.91L555.2,136.31L558.69,133.55L569.16,123.55L572.66,119.69L583.13,106.81L586.62,102.15L607.57,72.24L611.07,67.19\" style=\"vector-effect: none; fill: none; stroke: rgb(45, 146, 255); stroke-opacity: 1; stroke-width: 2px; opacity: 1;\"/></g><g class=\"points\"/><g class=\"text\"/></g></g></g><g class=\"overplot\"/><path class=\"xlines-above crisp\" d=\"M49.5,378.7166666666667H691.5M49.5,222.28333333333336H691.5\" style=\"fill: none; stroke-width: 1.5px; stroke: rgb(235, 240, 248); stroke-opacity: 1;\"/><path class=\"ylines-above crisp\" d=\"M50.25,223.03333333333336V377.9666666666667M690.75,223.03333333333336V377.9666666666667\" style=\"fill: none; stroke-width: 1.5px; stroke: rgb(235, 240, 248); stroke-opacity: 1;\"/><g class=\"overlines-above\"/><g class=\"xaxislayer-above\"><g class=\"x2tick\"><text text-anchor=\"middle\" x=\"0\" y=\"391.4666666666667\" transform=\"translate(78.93,0)\" style=\"font-family: 'Open Sans', verdana, arial, sans-serif; font-size: 10px; fill: rgb(42, 63, 95); fill-opacity: 1; white-space: pre; opacity: 1;\">Sunday</text></g><g class=\"x2tick\"><text text-anchor=\"middle\" x=\"0\" y=\"391.4666666666667\" style=\"font-family: 'Open Sans', verdana, arial, sans-serif; font-size: 10px; fill: rgb(42, 63, 95); fill-opacity: 1; white-space: pre; opacity: 1;\" transform=\"translate(162.74,0)\">Monday</text></g><g class=\"x2tick\"><text text-anchor=\"middle\" x=\"0\" y=\"391.4666666666667\" style=\"font-family: 'Open Sans', verdana, arial, sans-serif; font-size: 10px; fill: rgb(42, 63, 95); fill-opacity: 1; white-space: pre; opacity: 1;\" transform=\"translate(246.54,0)\">Tuesday</text></g><g class=\"x2tick\"><text text-anchor=\"middle\" x=\"0\" y=\"391.4666666666667\" style=\"font-family: 'Open Sans', verdana, arial, sans-serif; font-size: 10px; fill: rgb(42, 63, 95); fill-opacity: 1; white-space: pre; opacity: 1;\" transform=\"translate(330.34,0)\">Wednesday</text></g><g class=\"x2tick\"><text text-anchor=\"middle\" x=\"0\" y=\"391.4666666666667\" style=\"font-family: 'Open Sans', verdana, arial, sans-serif; font-size: 10px; fill: rgb(42, 63, 95); fill-opacity: 1; white-space: pre; opacity: 1;\" transform=\"translate(414.15,0)\">Thursday</text></g><g class=\"x2tick\"><text text-anchor=\"middle\" x=\"0\" y=\"391.4666666666667\" style=\"font-family: 'Open Sans', verdana, arial, sans-serif; font-size: 10px; fill: rgb(42, 63, 95); fill-opacity: 1; white-space: pre; opacity: 1;\" transform=\"translate(497.95,0)\">Friday</text></g><g class=\"x2tick\"><text text-anchor=\"middle\" x=\"0\" y=\"391.4666666666667\" style=\"font-family: 'Open Sans', verdana, arial, sans-serif; font-size: 10px; fill: rgb(42, 63, 95); fill-opacity: 1; white-space: pre; opacity: 1;\" transform=\"translate(581.75,0)\">Saturday</text></g><g class=\"x2tick\"><text text-anchor=\"middle\" x=\"0\" y=\"391.4666666666667\" style=\"font-family: 'Open Sans', verdana, arial, sans-serif; font-size: 10px; fill: rgb(42, 63, 95); fill-opacity: 1; white-space: pre; opacity: 1;\" transform=\"translate(665.56,0)\">Sunday</text></g></g><g class=\"yaxislayer-above\"><g class=\"y2tick\"><text text-anchor=\"end\" x=\"47.5\" y=\"3.5\" transform=\"translate(0,371.35333333333335)\" style=\"font-family: 'Open Sans', verdana, arial, sans-serif; font-size: 10px; fill: rgb(42, 63, 95); fill-opacity: 1; white-space: pre; opacity: 1;\">−0.5</text></g><g class=\"y2tick\"><text text-anchor=\"end\" x=\"47.5\" y=\"3.5\" style=\"font-family: 'Open Sans', verdana, arial, sans-serif; font-size: 10px; fill: rgb(42, 63, 95); fill-opacity: 1; white-space: pre; opacity: 1;\" transform=\"translate(0,314.92333333333335)\">0</text></g><g class=\"y2tick\"><text text-anchor=\"end\" x=\"47.5\" y=\"3.5\" style=\"font-family: 'Open Sans', verdana, arial, sans-serif; font-size: 10px; fill: rgb(42, 63, 95); fill-opacity: 1; white-space: pre; opacity: 1;\" transform=\"translate(0,258.49333333333334)\">0.5</text></g></g><g class=\"overaxes-above\"/></g><g class=\"subplot x3y3\"><g class=\"layer-subplot\"><g class=\"shapelayer\"/><g class=\"imagelayer\"/></g><g class=\"minor-gridlayer\"><g class=\"x3\"/><g class=\"y3\"/></g><g class=\"gridlayer\"><g class=\"x3\"><path class=\"x3grid crisp\" transform=\"translate(162.74,0)\" d=\"M0,436.0666666666667v154.93333333333334\" style=\"stroke: rgb(235, 240, 248); stroke-opacity: 1; stroke-width: 1px;\"/><path class=\"x3grid crisp\" transform=\"translate(246.54,0)\" d=\"M0,436.0666666666667v154.93333333333334\" style=\"stroke: rgb(235, 240, 248); stroke-opacity: 1; stroke-width: 1px;\"/><path class=\"x3grid crisp\" transform=\"translate(330.34,0)\" d=\"M0,436.0666666666667v154.93333333333334\" style=\"stroke: rgb(235, 240, 248); stroke-opacity: 1; stroke-width: 1px;\"/><path class=\"x3grid crisp\" transform=\"translate(414.15,0)\" d=\"M0,436.0666666666667v154.93333333333334\" style=\"stroke: rgb(235, 240, 248); stroke-opacity: 1; stroke-width: 1px;\"/><path class=\"x3grid crisp\" transform=\"translate(497.95,0)\" d=\"M0,436.0666666666667v154.93333333333334\" style=\"stroke: rgb(235, 240, 248); stroke-opacity: 1; stroke-width: 1px;\"/><path class=\"x3grid crisp\" transform=\"translate(581.75,0)\" d=\"M0,436.0666666666667v154.93333333333334\" style=\"stroke: rgb(235, 240, 248); stroke-opacity: 1; stroke-width: 1px;\"/><path class=\"x3grid crisp\" transform=\"translate(665.56,0)\" d=\"M0,436.0666666666667v154.93333333333334\" style=\"stroke: rgb(235, 240, 248); stroke-opacity: 1; stroke-width: 1px;\"/></g><g class=\"y3\"><path class=\"y3grid crisp\" transform=\"translate(0,574.6666666666667)\" d=\"M51,0h639\" style=\"stroke: rgb(235, 240, 248); stroke-opacity: 1; stroke-width: 1px;\"/><path class=\"y3grid crisp\" transform=\"translate(0,530.2466666666667)\" d=\"M51,0h639\" style=\"stroke: rgb(235, 240, 248); stroke-opacity: 1; stroke-width: 1px;\"/><path class=\"y3grid crisp\" transform=\"translate(0,441.3966666666667)\" d=\"M51,0h639\" style=\"stroke: rgb(235, 240, 248); stroke-opacity: 1; stroke-width: 1px;\"/></g></g><g class=\"zerolinelayer\"><path class=\"x3zl zl crisp\" transform=\"translate(78.93,0)\" d=\"M0,436.0666666666667v154.93333333333334\" style=\"stroke: rgb(235, 240, 248); stroke-opacity: 1; stroke-width: 2px;\"/><path class=\"y3zl zl crisp\" transform=\"translate(0,485.8266666666667)\" d=\"M51,0h639\" style=\"stroke: rgb(235, 240, 248); stroke-opacity: 1; stroke-width: 2px;\"/></g><path class=\"xlines-below\"/><path class=\"ylines-below\"/><g class=\"overlines-below\"/><g class=\"xaxislayer-below\"/><g class=\"yaxislayer-below\"/><g class=\"overaxes-below\"/><g class=\"plot\" transform=\"translate(51,436.0666666666667)\" clip-path=\"url(#clip2620abx3y3plot)\"><g class=\"scatterlayer mlayer\"><g class=\"trace scatter traceff2bba\" style=\"stroke-miterlimit: 2; opacity: 1;\"><g class=\"fills\"/><g class=\"errorbars\"/><g class=\"lines\"><path class=\"js-line\" d=\"M27.93,101.98L66.34,50.83L69.84,46.71L80.31,35.45L83.8,32.09L94.28,23.34L97.77,20.88L108.25,14.85L111.74,13.28L122.21,9.84L125.7,9.08L136.18,7.85L139.67,7.75L153.64,8.55L157.13,9L178.08,12.85L181.57,13.59L219.98,21.25L223.48,21.81L247.92,24.96L251.41,25.29L275.85,26.77L279.34,26.84L300.3,26.37L303.79,26.12L321.25,24.1L324.74,23.54L349.18,18.53L352.67,17.73L377.11,12.87L380.61,12.43L391.08,11.78L394.57,11.84L405.05,13.02L408.54,13.79L419.02,17.36L422.51,19L432.98,25.33L436.48,27.92L446.95,37.07L450.44,40.56L460.92,52.21L464.41,56.45L481.87,79.36L485.36,84.14L506.31,111.99L509.8,116.25L520.28,127.83L523.77,131.21L534.25,139.61L537.74,141.77L544.72,145.04L548.21,146.13L555.2,147.19L558.69,147.14L565.67,145.92L569.16,144.74L576.15,141.31L579.64,139.07L590.11,130.47L593.61,127.03L604.08,115.3L607.57,111.01L611.07,106.56\" style=\"vector-effect: none; fill: none; stroke: rgb(45, 146, 255); stroke-opacity: 1; stroke-width: 2px; opacity: 1;\"/></g><g class=\"points\"/><g class=\"text\"/></g></g></g><g class=\"overplot\"/><path class=\"xlines-above crisp\" d=\"M49.5,591.75H691.5M49.5,435.3166666666667H691.5\" style=\"fill: none; stroke-width: 1.5px; stroke: rgb(235, 240, 248); stroke-opacity: 1;\"/><path class=\"ylines-above crisp\" d=\"M50.25,436.0666666666667V591M690.75,436.0666666666667V591\" style=\"fill: none; stroke-width: 1.5px; stroke: rgb(235, 240, 248); stroke-opacity: 1;\"/><g class=\"overlines-above\"/><g class=\"xaxislayer-above\"><g class=\"x3tick\"><text text-anchor=\"middle\" x=\"0\" y=\"604.5\" transform=\"translate(78.93,0)\" style=\"font-family: 'Open Sans', verdana, arial, sans-serif; font-size: 10px; fill: rgb(42, 63, 95); fill-opacity: 1; white-space: pre; opacity: 1;\">Sunday</text></g><g class=\"x3tick\"><text text-anchor=\"middle\" x=\"0\" y=\"604.5\" style=\"font-family: 'Open Sans', verdana, arial, sans-serif; font-size: 10px; fill: rgb(42, 63, 95); fill-opacity: 1; white-space: pre; opacity: 1;\" transform=\"translate(162.74,0)\">Monday</text></g><g class=\"x3tick\"><text text-anchor=\"middle\" x=\"0\" y=\"604.5\" style=\"font-family: 'Open Sans', verdana, arial, sans-serif; font-size: 10px; fill: rgb(42, 63, 95); fill-opacity: 1; white-space: pre; opacity: 1;\" transform=\"translate(246.54,0)\">Tuesday</text></g><g class=\"x3tick\"><text text-anchor=\"middle\" x=\"0\" y=\"604.5\" style=\"font-family: 'Open Sans', verdana, arial, sans-serif; font-size: 10px; fill: rgb(42, 63, 95); fill-opacity: 1; white-space: pre; opacity: 1;\" transform=\"translate(330.34,0)\">Wednesday</text></g><g class=\"x3tick\"><text text-anchor=\"middle\" x=\"0\" y=\"604.5\" style=\"font-family: 'Open Sans', verdana, arial, sans-serif; font-size: 10px; fill: rgb(42, 63, 95); fill-opacity: 1; white-space: pre; opacity: 1;\" transform=\"translate(414.15,0)\">Thursday</text></g><g class=\"x3tick\"><text text-anchor=\"middle\" x=\"0\" y=\"604.5\" style=\"font-family: 'Open Sans', verdana, arial, sans-serif; font-size: 10px; fill: rgb(42, 63, 95); fill-opacity: 1; white-space: pre; opacity: 1;\" transform=\"translate(497.95,0)\">Friday</text></g><g class=\"x3tick\"><text text-anchor=\"middle\" x=\"0\" y=\"604.5\" style=\"font-family: 'Open Sans', verdana, arial, sans-serif; font-size: 10px; fill: rgb(42, 63, 95); fill-opacity: 1; white-space: pre; opacity: 1;\" transform=\"translate(581.75,0)\">Saturday</text></g><g class=\"x3tick\"><text text-anchor=\"middle\" x=\"0\" y=\"604.5\" style=\"font-family: 'Open Sans', verdana, arial, sans-serif; font-size: 10px; fill: rgb(42, 63, 95); fill-opacity: 1; white-space: pre; opacity: 1;\" transform=\"translate(665.56,0)\">Sunday</text></g></g><g class=\"yaxislayer-above\"><g class=\"y3tick\"><text text-anchor=\"end\" x=\"47.5\" y=\"3.5\" transform=\"translate(0,574.6666666666667)\" style=\"font-family: 'Open Sans', verdana, arial, sans-serif; font-size: 10px; fill: rgb(42, 63, 95); fill-opacity: 1; white-space: pre; opacity: 1;\">−0.2</text></g><g class=\"y3tick\"><text text-anchor=\"end\" x=\"47.5\" y=\"3.5\" style=\"font-family: 'Open Sans', verdana, arial, sans-serif; font-size: 10px; fill: rgb(42, 63, 95); fill-opacity: 1; white-space: pre; opacity: 1;\" transform=\"translate(0,530.2466666666667)\">−0.1</text></g><g class=\"y3tick\"><text text-anchor=\"end\" x=\"47.5\" y=\"3.5\" style=\"font-family: 'Open Sans', verdana, arial, sans-serif; font-size: 10px; fill: rgb(42, 63, 95); fill-opacity: 1; white-space: pre; opacity: 1;\" transform=\"translate(0,485.8266666666667)\">0</text></g><g class=\"y3tick\"><text text-anchor=\"end\" x=\"47.5\" y=\"3.5\" style=\"font-family: 'Open Sans', verdana, arial, sans-serif; font-size: 10px; fill: rgb(42, 63, 95); fill-opacity: 1; white-space: pre; opacity: 1;\" transform=\"translate(0,441.3966666666667)\">0.1</text></g></g><g class=\"overaxes-above\"/></g></g><g class=\"polarlayer\"/><g class=\"smithlayer\"/><g class=\"ternarylayer\"/><g class=\"geolayer\"/><g class=\"funnelarealayer\"/><g class=\"pielayer\"/><g class=\"iciclelayer\"/><g class=\"treemaplayer\"/><g class=\"sunburstlayer\"/><g class=\"glimages\"/><defs id=\"topdefs-2620ab\"><g class=\"clips\"/></defs><g class=\"layer-above\"><g class=\"imagelayer\"/><g class=\"shapelayer\"/></g><g class=\"infolayer\"><g class=\"g-gtitle\"/><g class=\"g-xtitle\"><text class=\"xtitle\" x=\"370.5\" y=\"203.103125\" text-anchor=\"middle\" style=\"font-family: 'Open Sans', verdana, arial, sans-serif; font-size: 12px; fill: rgb(42, 63, 95); opacity: 1; font-weight: normal; white-space: pre;\">Day of year</text></g><g class=\"g-x2title\"><text class=\"x2title\" x=\"370.5\" y=\"416.134375\" text-anchor=\"middle\" style=\"font-family: 'Open Sans', verdana, arial, sans-serif; font-size: 12px; fill: rgb(42, 63, 95); opacity: 1; font-weight: normal; white-space: pre;\">Day of week</text></g><g class=\"g-x3title\" transform=\"translate(0,-1.6656249999999773)\"><text class=\"x3title\" x=\"370.5\" y=\"629.165625\" text-anchor=\"middle\" style=\"font-family: 'Open Sans', verdana, arial, sans-serif; font-size: 12px; fill: rgb(42, 63, 95); opacity: 1; font-weight: normal; white-space: pre;\">Day of week</text></g><g class=\"g-ytitle\" transform=\"translate(11.7099609375,0)\"><text class=\"ytitle\" transform=\"rotate(-90,0.3031250000000014,87.46666666666668)\" x=\"0.3031250000000014\" y=\"87.46666666666668\" text-anchor=\"middle\" style=\"font-family: 'Open Sans', verdana, arial, sans-serif; font-size: 12px; fill: rgb(42, 63, 95); opacity: 1; font-weight: normal; white-space: pre;\">Seasonality: yearly</text></g><g class=\"g-y2title\" transform=\"translate(11.697265625,0)\"><text class=\"y2title\" transform=\"rotate(-90,0.3031250000000014,300.5)\" x=\"0.3031250000000014\" y=\"300.5\" text-anchor=\"middle\" style=\"font-family: 'Open Sans', verdana, arial, sans-serif; font-size: 12px; fill: rgb(42, 63, 95); opacity: 1; font-weight: normal; white-space: pre;\">Seasonality: on_season</text></g><g class=\"g-y3title\" transform=\"translate(11.69921875,0)\"><text class=\"y3title\" transform=\"rotate(-90,0.3031250000000014,513.5333333333334)\" x=\"0.3031250000000014\" y=\"513.5333333333334\" text-anchor=\"middle\" style=\"font-family: 'Open Sans', verdana, arial, sans-serif; font-size: 12px; fill: rgb(42, 63, 95); opacity: 1; font-weight: normal; white-space: pre;\">Seasonality: off_season</text></g></g></svg>"
      ]
     },
     "metadata": {},
     "output_type": "display_data"
    }
   ],
   "source": [
    "m.plot_parameters(components=\"seasonality\")"
   ]
  },
  {
   "attachments": {},
   "cell_type": "markdown",
   "metadata": {
    "collapsed": false
   },
   "source": [
    "## Pre-defined conditional seasonality\n",
    "\n",
    "NeuralProphet also provides pre-defined conditions (quarters, weekday/weekend) that are added to the input df with a simple function call.\n",
    "In this case, we would like to incorporate a quarterly changing weekly seasonality."
   ]
  },
  {
   "cell_type": "code",
   "execution_count": 7,
   "metadata": {
    "collapsed": false,
    "pycharm": {
     "name": "#%%\n"
    }
   },
   "outputs": [
    {
     "data": {
      "text/html": [
       "<div>\n",
       "<style scoped>\n",
       "    .dataframe tbody tr th:only-of-type {\n",
       "        vertical-align: middle;\n",
       "    }\n",
       "\n",
       "    .dataframe tbody tr th {\n",
       "        vertical-align: top;\n",
       "    }\n",
       "\n",
       "    .dataframe thead th {\n",
       "        text-align: right;\n",
       "    }\n",
       "</style>\n",
       "<table border=\"1\" class=\"dataframe\">\n",
       "  <thead>\n",
       "    <tr style=\"text-align: right;\">\n",
       "      <th></th>\n",
       "      <th>ds</th>\n",
       "      <th>y</th>\n",
       "      <th>summer</th>\n",
       "      <th>winter</th>\n",
       "      <th>spring</th>\n",
       "      <th>fall</th>\n",
       "    </tr>\n",
       "  </thead>\n",
       "  <tbody>\n",
       "    <tr>\n",
       "      <th>0</th>\n",
       "      <td>2007-12-10</td>\n",
       "      <td>9.5908</td>\n",
       "      <td>0</td>\n",
       "      <td>1</td>\n",
       "      <td>0</td>\n",
       "      <td>0</td>\n",
       "    </tr>\n",
       "    <tr>\n",
       "      <th>1</th>\n",
       "      <td>2007-12-11</td>\n",
       "      <td>8.5196</td>\n",
       "      <td>0</td>\n",
       "      <td>1</td>\n",
       "      <td>0</td>\n",
       "      <td>0</td>\n",
       "    </tr>\n",
       "    <tr>\n",
       "      <th>2</th>\n",
       "      <td>2007-12-12</td>\n",
       "      <td>8.1837</td>\n",
       "      <td>0</td>\n",
       "      <td>1</td>\n",
       "      <td>0</td>\n",
       "      <td>0</td>\n",
       "    </tr>\n",
       "    <tr>\n",
       "      <th>3</th>\n",
       "      <td>2007-12-13</td>\n",
       "      <td>8.0725</td>\n",
       "      <td>0</td>\n",
       "      <td>1</td>\n",
       "      <td>0</td>\n",
       "      <td>0</td>\n",
       "    </tr>\n",
       "    <tr>\n",
       "      <th>4</th>\n",
       "      <td>2007-12-14</td>\n",
       "      <td>7.8936</td>\n",
       "      <td>0</td>\n",
       "      <td>1</td>\n",
       "      <td>0</td>\n",
       "      <td>0</td>\n",
       "    </tr>\n",
       "  </tbody>\n",
       "</table>\n",
       "</div>"
      ],
      "text/plain": [
       "          ds       y  summer  winter  spring  fall\n",
       "0 2007-12-10  9.5908       0       1       0     0\n",
       "1 2007-12-11  8.5196       0       1       0     0\n",
       "2 2007-12-12  8.1837       0       1       0     0\n",
       "3 2007-12-13  8.0725       0       1       0     0\n",
       "4 2007-12-14  7.8936       0       1       0     0"
      ]
     },
     "execution_count": 7,
     "metadata": {},
     "output_type": "execute_result"
    }
   ],
   "source": [
    "data_location = \"https://raw.githubusercontent.com/ourownstory/neuralprophet-data/main/datasets/\"\n",
    "df = pd.read_csv(data_location + \"wp_log_peyton_manning.csv\")\n",
    "df = df_utils.add_quarter_condition(df)\n",
    "df.head()"
   ]
  },
  {
   "cell_type": "code",
   "execution_count": 8,
   "metadata": {
    "collapsed": false,
    "pycharm": {
     "name": "#%%\n"
    }
   },
   "outputs": [
    {
     "data": {
      "application/vnd.jupyter.widget-view+json": {
       "model_id": "08b0b00dc7f24aa483d5dc322d90937d",
       "version_major": 2,
       "version_minor": 0
      },
      "text/plain": [
       "Finding best initial lr:   0%|          | 0/237 [00:00<?, ?it/s]"
      ]
     },
     "metadata": {},
     "output_type": "display_data"
    },
    {
     "data": {
      "application/vnd.jupyter.widget-view+json": {
       "model_id": "75c65cdeb1ce4aea85d6ac04d930468e",
       "version_major": 2,
       "version_minor": 0
      },
      "text/plain": [
       "Training: 0it [00:00, ?it/s]"
      ]
     },
     "metadata": {},
     "output_type": "display_data"
    }
   ],
   "source": [
    "m = NeuralProphet(weekly_seasonality=False)\n",
    "m.set_plotting_backend(\"plotly-static\")\n",
    "m.add_seasonality(name=\"weekly_summer\", period=7, fourier_order=3, condition_name=\"summer\")\n",
    "m.add_seasonality(name=\"weekly_fall\", period=7, fourier_order=3, condition_name=\"fall\")\n",
    "m.add_seasonality(name=\"weekly_winter\", period=7, fourier_order=3, condition_name=\"winter\")\n",
    "m.add_seasonality(name=\"weekly_spring\", period=7, fourier_order=3, condition_name=\"spring\")\n",
    "metrics = m.fit(df, freq=\"D\")"
   ]
  },
  {
   "cell_type": "code",
   "execution_count": 9,
   "metadata": {
    "collapsed": false,
    "pycharm": {
     "name": "#%%\n"
    }
   },
   "outputs": [
    {
     "data": {
      "application/vnd.jupyter.widget-view+json": {
       "model_id": "f59cee2cdb2b45b8b92480922f3b16bf",
       "version_major": 2,
       "version_minor": 0
      },
      "text/plain": [
       "Predicting: 93it [00:00, ?it/s]"
      ]
     },
     "metadata": {},
     "output_type": "display_data"
    }
   ],
   "source": [
    "future = m.make_future_dataframe(df, n_historic_predictions=365, periods=365)\n",
    "future = df_utils.add_quarter_condition(future)\n",
    "forecast = m.predict(df=future)"
   ]
  },
  {
   "cell_type": "code",
   "execution_count": 10,
   "metadata": {
    "collapsed": false,
    "pycharm": {
     "name": "#%%\n"
    }
   },
   "outputs": [
    {
     "data": {
      "image/svg+xml": [
       "<svg class=\"main-svg\" xmlns=\"http://www.w3.org/2000/svg\" xmlns:xlink=\"http://www.w3.org/1999/xlink\" width=\"700\" height=\"1050\" style=\"\" viewBox=\"0 0 700 1050\"><rect x=\"0\" y=\"0\" width=\"700\" height=\"1050\" style=\"fill: rgb(255, 255, 255); fill-opacity: 1;\"/><defs id=\"defs-61eeb6\"><g class=\"clips\"><clipPath id=\"clip61eeb6xyplot\" class=\"plotclip\"><rect width=\"639\" height=\"152.15200000000002\"/></clipPath><clipPath id=\"clip61eeb6x2y2plot\" class=\"plotclip\"><rect width=\"639\" height=\"152.15200000000002\"/></clipPath><clipPath id=\"clip61eeb6x3y3plot\" class=\"plotclip\"><rect width=\"639\" height=\"152.15199999999996\"/></clipPath><clipPath id=\"clip61eeb6x4y4plot\" class=\"plotclip\"><rect width=\"639\" height=\"152.152\"/></clipPath><clipPath id=\"clip61eeb6x5y5plot\" class=\"plotclip\"><rect width=\"639\" height=\"152.152\"/></clipPath><clipPath class=\"axesclip\" id=\"clip61eeb6x\"><rect x=\"51\" y=\"0\" width=\"639\" height=\"1050\"/></clipPath><clipPath class=\"axesclip\" id=\"clip61eeb6y\"><rect x=\"0\" y=\"10\" width=\"700\" height=\"152.15200000000002\"/></clipPath><clipPath class=\"axesclip\" id=\"clip61eeb6xy\"><rect x=\"51\" y=\"10\" width=\"639\" height=\"152.15200000000002\"/></clipPath><clipPath class=\"axesclip\" id=\"clip61eeb6y2\"><rect x=\"0\" y=\"222.21200000000007\" width=\"700\" height=\"152.15200000000002\"/></clipPath><clipPath class=\"axesclip\" id=\"clip61eeb6xy2\"><rect x=\"51\" y=\"222.21200000000007\" width=\"639\" height=\"152.15200000000002\"/></clipPath><clipPath class=\"axesclip\" id=\"clip61eeb6y3\"><rect x=\"0\" y=\"434.42400000000004\" width=\"700\" height=\"152.15199999999996\"/></clipPath><clipPath class=\"axesclip\" id=\"clip61eeb6xy3\"><rect x=\"51\" y=\"434.42400000000004\" width=\"639\" height=\"152.15199999999996\"/></clipPath><clipPath class=\"axesclip\" id=\"clip61eeb6y4\"><rect x=\"0\" y=\"646.636\" width=\"700\" height=\"152.152\"/></clipPath><clipPath class=\"axesclip\" id=\"clip61eeb6xy4\"><rect x=\"51\" y=\"646.636\" width=\"639\" height=\"152.152\"/></clipPath><clipPath class=\"axesclip\" id=\"clip61eeb6y5\"><rect x=\"0\" y=\"858.848\" width=\"700\" height=\"152.152\"/></clipPath><clipPath class=\"axesclip\" id=\"clip61eeb6xy5\"><rect x=\"51\" y=\"858.848\" width=\"639\" height=\"152.152\"/></clipPath><clipPath class=\"axesclip\" id=\"clip61eeb6x2\"><rect x=\"51\" y=\"0\" width=\"639\" height=\"1050\"/></clipPath><clipPath class=\"axesclip\" id=\"clip61eeb6x2y\"><rect x=\"51\" y=\"10\" width=\"639\" height=\"152.15200000000002\"/></clipPath><clipPath class=\"axesclip\" id=\"clip61eeb6x2y2\"><rect x=\"51\" y=\"222.21200000000007\" width=\"639\" height=\"152.15200000000002\"/></clipPath><clipPath class=\"axesclip\" id=\"clip61eeb6x2y3\"><rect x=\"51\" y=\"434.42400000000004\" width=\"639\" height=\"152.15199999999996\"/></clipPath><clipPath class=\"axesclip\" id=\"clip61eeb6x2y4\"><rect x=\"51\" y=\"646.636\" width=\"639\" height=\"152.152\"/></clipPath><clipPath class=\"axesclip\" id=\"clip61eeb6x2y5\"><rect x=\"51\" y=\"858.848\" width=\"639\" height=\"152.152\"/></clipPath><clipPath class=\"axesclip\" id=\"clip61eeb6x3\"><rect x=\"51\" y=\"0\" width=\"639\" height=\"1050\"/></clipPath><clipPath class=\"axesclip\" id=\"clip61eeb6x3y\"><rect x=\"51\" y=\"10\" width=\"639\" height=\"152.15200000000002\"/></clipPath><clipPath class=\"axesclip\" id=\"clip61eeb6x3y2\"><rect x=\"51\" y=\"222.21200000000007\" width=\"639\" height=\"152.15200000000002\"/></clipPath><clipPath class=\"axesclip\" id=\"clip61eeb6x3y3\"><rect x=\"51\" y=\"434.42400000000004\" width=\"639\" height=\"152.15199999999996\"/></clipPath><clipPath class=\"axesclip\" id=\"clip61eeb6x3y4\"><rect x=\"51\" y=\"646.636\" width=\"639\" height=\"152.152\"/></clipPath><clipPath class=\"axesclip\" id=\"clip61eeb6x3y5\"><rect x=\"51\" y=\"858.848\" width=\"639\" height=\"152.152\"/></clipPath><clipPath class=\"axesclip\" id=\"clip61eeb6x4\"><rect x=\"51\" y=\"0\" width=\"639\" height=\"1050\"/></clipPath><clipPath class=\"axesclip\" id=\"clip61eeb6x4y\"><rect x=\"51\" y=\"10\" width=\"639\" height=\"152.15200000000002\"/></clipPath><clipPath class=\"axesclip\" id=\"clip61eeb6x4y2\"><rect x=\"51\" y=\"222.21200000000007\" width=\"639\" height=\"152.15200000000002\"/></clipPath><clipPath class=\"axesclip\" id=\"clip61eeb6x4y3\"><rect x=\"51\" y=\"434.42400000000004\" width=\"639\" height=\"152.15199999999996\"/></clipPath><clipPath class=\"axesclip\" id=\"clip61eeb6x4y4\"><rect x=\"51\" y=\"646.636\" width=\"639\" height=\"152.152\"/></clipPath><clipPath class=\"axesclip\" id=\"clip61eeb6x4y5\"><rect x=\"51\" y=\"858.848\" width=\"639\" height=\"152.152\"/></clipPath><clipPath class=\"axesclip\" id=\"clip61eeb6x5\"><rect x=\"51\" y=\"0\" width=\"639\" height=\"1050\"/></clipPath><clipPath class=\"axesclip\" id=\"clip61eeb6x5y\"><rect x=\"51\" y=\"10\" width=\"639\" height=\"152.15200000000002\"/></clipPath><clipPath class=\"axesclip\" id=\"clip61eeb6x5y2\"><rect x=\"51\" y=\"222.21200000000007\" width=\"639\" height=\"152.15200000000002\"/></clipPath><clipPath class=\"axesclip\" id=\"clip61eeb6x5y3\"><rect x=\"51\" y=\"434.42400000000004\" width=\"639\" height=\"152.15199999999996\"/></clipPath><clipPath class=\"axesclip\" id=\"clip61eeb6x5y4\"><rect x=\"51\" y=\"646.636\" width=\"639\" height=\"152.152\"/></clipPath><clipPath class=\"axesclip\" id=\"clip61eeb6x5y5\"><rect x=\"51\" y=\"858.848\" width=\"639\" height=\"152.152\"/></clipPath></g><g class=\"gradients\"/><g class=\"patterns\"/></defs><g class=\"bglayer\"/><g class=\"layer-below\"><g class=\"imagelayer\"/><g class=\"shapelayer\"/></g><g class=\"cartesianlayer\"><g class=\"subplot xy\"><g class=\"layer-subplot\"><g class=\"shapelayer\"/><g class=\"imagelayer\"/></g><g class=\"minor-gridlayer\"><g class=\"x\"/><g class=\"y\"/></g><g class=\"gridlayer\"><g class=\"x\"><path class=\"xgrid crisp\" transform=\"translate(79.76,0)\" d=\"M0,10v152.15200000000002\" style=\"stroke: rgb(235, 240, 248); stroke-opacity: 1; stroke-width: 1px;\"/><path class=\"xgrid crisp\" transform=\"translate(174.01,0)\" d=\"M0,10v152.15200000000002\" style=\"stroke: rgb(235, 240, 248); stroke-opacity: 1; stroke-width: 1px;\"/><path class=\"xgrid crisp\" transform=\"translate(271.46000000000004,0)\" d=\"M0,10v152.15200000000002\" style=\"stroke: rgb(235, 240, 248); stroke-opacity: 1; stroke-width: 1px;\"/><path class=\"xgrid crisp\" transform=\"translate(368.9,0)\" d=\"M0,10v152.15200000000002\" style=\"stroke: rgb(235, 240, 248); stroke-opacity: 1; stroke-width: 1px;\"/><path class=\"xgrid crisp\" transform=\"translate(467.95,0)\" d=\"M0,10v152.15200000000002\" style=\"stroke: rgb(235, 240, 248); stroke-opacity: 1; stroke-width: 1px;\"/><path class=\"xgrid crisp\" transform=\"translate(565.4,0)\" d=\"M0,10v152.15200000000002\" style=\"stroke: rgb(235, 240, 248); stroke-opacity: 1; stroke-width: 1px;\"/><path class=\"xgrid crisp\" transform=\"translate(662.84,0)\" d=\"M0,10v152.15200000000002\" style=\"stroke: rgb(235, 240, 248); stroke-opacity: 1; stroke-width: 1px;\"/></g><g class=\"y\"><path class=\"ygrid crisp\" transform=\"translate(0,157.33)\" d=\"M51,0h639\" style=\"stroke: rgb(235, 240, 248); stroke-opacity: 1; stroke-width: 1px;\"/><path class=\"ygrid crisp\" transform=\"translate(0,123.75)\" d=\"M51,0h639\" style=\"stroke: rgb(235, 240, 248); stroke-opacity: 1; stroke-width: 1px;\"/><path class=\"ygrid crisp\" transform=\"translate(0,56.58)\" d=\"M51,0h639\" style=\"stroke: rgb(235, 240, 248); stroke-opacity: 1; stroke-width: 1px;\"/><path class=\"ygrid crisp\" transform=\"translate(0,22.990000000000002)\" d=\"M51,0h639\" style=\"stroke: rgb(235, 240, 248); stroke-opacity: 1; stroke-width: 1px;\"/></g></g><g class=\"zerolinelayer\"><path class=\"yzl zl crisp\" transform=\"translate(0,90.16)\" d=\"M51,0h639\" style=\"stroke: rgb(235, 240, 248); stroke-opacity: 1; stroke-width: 2px;\"/></g><path class=\"xlines-below\"/><path class=\"ylines-below\"/><g class=\"overlines-below\"/><g class=\"xaxislayer-below\"/><g class=\"yaxislayer-below\"/><g class=\"overaxes-below\"/><g class=\"plot\" transform=\"translate(51,10)\" clip-path=\"url(#clip61eeb6xyplot)\"><g class=\"scatterlayer mlayer\"><g class=\"trace scatter trace92fa97\" style=\"stroke-miterlimit: 2; opacity: 1;\"><g class=\"fills\"/><g class=\"errorbars\"/><g class=\"lines\"><path class=\"js-line\" d=\"M28.76,36.34L44.73,16.03L46.33,14.42L52.72,9.51L54.32,8.73L59.11,7.61L60.71,7.66L65.5,9.18L67.1,10.13L71.89,14.3L73.49,16.11L79.88,25.21L81.47,27.89L91.06,46.29L92.66,49.59L107.03,78.36L108.63,81.18L116.62,93.32L118.22,95.31L124.6,101.7L126.2,102.91L132.59,106.3L134.19,106.81L140.58,107.77L142.18,107.78L151.76,106.71L153.36,106.43L167.74,104.61L169.33,104.59L178.92,105.38L180.52,105.66L194.9,109.3L196.49,109.75L210.87,112.99L212.47,113.23L226.85,114.43L228.44,114.52L241.22,115.92L242.82,116.25L250.81,118.68L252.41,119.34L261.99,124.43L263.59,125.45L289.15,141.96L290.74,142.62L297.14,144.31L298.73,144.48L305.12,144.08L306.72,143.71L313.11,141.18L314.71,140.31L322.69,134.81L324.29,133.53L349.85,112.75L351.45,111.75L361.03,106.8L362.63,106.13L386.6,96.21L388.19,95.24L396.18,89.19L397.78,87.73L405.76,79.26L407.36,77.36L421.74,58.66L423.34,56.58L432.92,45.37L434.52,43.8L440.91,38.69L442.51,37.74L447.3,35.72L448.9,35.33L453.69,35.02L455.29,35.19L461.68,37.09L463.28,37.83L471.26,42.67L472.86,43.79L488.83,54.3L490.43,55.07L496.82,57.25L498.42,57.55L504.81,57.8L506.41,57.64L514.4,55.64L515.99,55.06L536.76,47.35L538.36,47.05L544.75,46.64L546.35,46.75L552.74,47.97L554.33,48.46L563.92,52.36L565.51,53.09L576.7,57.36L578.3,57.72L584.69,58.09L586.28,57.89L591.08,56.45L592.67,55.69L599.06,51.26L600.66,49.82L607.05,42.93L608.65,40.97L610.24,38.95\" style=\"vector-effect: none; fill: none; stroke: rgb(45, 146, 255); stroke-opacity: 1; stroke-width: 2px; opacity: 1;\"/></g><g class=\"points\"/><g class=\"text\"/></g></g></g><g class=\"overplot\"/><path class=\"xlines-above crisp\" d=\"M49.5,162.90200000000002H691.5M49.5,9.25H691.5\" style=\"fill: none; stroke-width: 1.5px; stroke: rgb(235, 240, 248); stroke-opacity: 1;\"/><path class=\"ylines-above crisp\" d=\"M50.25,10V162.15200000000002M690.75,10V162.15200000000002\" style=\"fill: none; stroke-width: 1.5px; stroke: rgb(235, 240, 248); stroke-opacity: 1;\"/><g class=\"overlines-above\"/><g class=\"xaxislayer-above\"><g class=\"xtick\"><text text-anchor=\"middle\" x=\"0\" y=\"175.65200000000002\" transform=\"translate(79.76,0)\" style=\"font-family: 'Open Sans', verdana, arial, sans-serif; font-size: 10px; fill: rgb(42, 63, 95); fill-opacity: 1; white-space: pre; opacity: 1;\">Jan 2017</text></g><g class=\"xtick\"><text text-anchor=\"middle\" x=\"0\" y=\"175.65200000000002\" style=\"font-family: 'Open Sans', verdana, arial, sans-serif; font-size: 10px; fill: rgb(42, 63, 95); fill-opacity: 1; white-space: pre; opacity: 1;\" transform=\"translate(174.01,0)\">Mar 2017</text></g><g class=\"xtick\"><text text-anchor=\"middle\" x=\"0\" y=\"175.65200000000002\" style=\"font-family: 'Open Sans', verdana, arial, sans-serif; font-size: 10px; fill: rgb(42, 63, 95); fill-opacity: 1; white-space: pre; opacity: 1;\" transform=\"translate(271.46000000000004,0)\">May 2017</text></g><g class=\"xtick\"><text text-anchor=\"middle\" x=\"0\" y=\"175.65200000000002\" style=\"font-family: 'Open Sans', verdana, arial, sans-serif; font-size: 10px; fill: rgb(42, 63, 95); fill-opacity: 1; white-space: pre; opacity: 1;\" transform=\"translate(368.9,0)\">Jul 2017</text></g><g class=\"xtick\"><text text-anchor=\"middle\" x=\"0\" y=\"175.65200000000002\" style=\"font-family: 'Open Sans', verdana, arial, sans-serif; font-size: 10px; fill: rgb(42, 63, 95); fill-opacity: 1; white-space: pre; opacity: 1;\" transform=\"translate(467.95,0)\">Sep 2017</text></g><g class=\"xtick\"><text text-anchor=\"middle\" x=\"0\" y=\"175.65200000000002\" style=\"font-family: 'Open Sans', verdana, arial, sans-serif; font-size: 10px; fill: rgb(42, 63, 95); fill-opacity: 1; white-space: pre; opacity: 1;\" transform=\"translate(565.4,0)\">Nov 2017</text></g><g class=\"xtick\"><text text-anchor=\"middle\" x=\"0\" y=\"175.65200000000002\" style=\"font-family: 'Open Sans', verdana, arial, sans-serif; font-size: 10px; fill: rgb(42, 63, 95); fill-opacity: 1; white-space: pre; opacity: 1;\" transform=\"translate(662.84,0)\">Jan 2018</text></g></g><g class=\"yaxislayer-above\"><g class=\"ytick\"><text text-anchor=\"end\" x=\"47.5\" y=\"3.5\" transform=\"translate(0,157.33)\" style=\"font-family: 'Open Sans', verdana, arial, sans-serif; font-size: 10px; fill: rgb(42, 63, 95); fill-opacity: 1; white-space: pre; opacity: 1;\">−1</text></g><g class=\"ytick\"><text text-anchor=\"end\" x=\"47.5\" y=\"3.5\" style=\"font-family: 'Open Sans', verdana, arial, sans-serif; font-size: 10px; fill: rgb(42, 63, 95); fill-opacity: 1; white-space: pre; opacity: 1;\" transform=\"translate(0,123.75)\">−0.5</text></g><g class=\"ytick\"><text text-anchor=\"end\" x=\"47.5\" y=\"3.5\" style=\"font-family: 'Open Sans', verdana, arial, sans-serif; font-size: 10px; fill: rgb(42, 63, 95); fill-opacity: 1; white-space: pre; opacity: 1;\" transform=\"translate(0,90.16)\">0</text></g><g class=\"ytick\"><text text-anchor=\"end\" x=\"47.5\" y=\"3.5\" style=\"font-family: 'Open Sans', verdana, arial, sans-serif; font-size: 10px; fill: rgb(42, 63, 95); fill-opacity: 1; white-space: pre; opacity: 1;\" transform=\"translate(0,56.58)\">0.5</text></g><g class=\"ytick\"><text text-anchor=\"end\" x=\"47.5\" y=\"3.5\" style=\"font-family: 'Open Sans', verdana, arial, sans-serif; font-size: 10px; fill: rgb(42, 63, 95); fill-opacity: 1; white-space: pre; opacity: 1;\" transform=\"translate(0,22.990000000000002)\">1</text></g></g><g class=\"overaxes-above\"/></g><g class=\"subplot x2y2\"><g class=\"layer-subplot\"><g class=\"shapelayer\"/><g class=\"imagelayer\"/></g><g class=\"minor-gridlayer\"><g class=\"x2\"/><g class=\"y2\"/></g><g class=\"gridlayer\"><g class=\"x2\"><path class=\"x2grid crisp\" transform=\"translate(162.74,0)\" d=\"M0,222.21200000000007v152.15200000000002\" style=\"stroke: rgb(235, 240, 248); stroke-opacity: 1; stroke-width: 1px;\"/><path class=\"x2grid crisp\" transform=\"translate(246.54,0)\" d=\"M0,222.21200000000007v152.15200000000002\" style=\"stroke: rgb(235, 240, 248); stroke-opacity: 1; stroke-width: 1px;\"/><path class=\"x2grid crisp\" transform=\"translate(330.34,0)\" d=\"M0,222.21200000000007v152.15200000000002\" style=\"stroke: rgb(235, 240, 248); stroke-opacity: 1; stroke-width: 1px;\"/><path class=\"x2grid crisp\" transform=\"translate(414.15,0)\" d=\"M0,222.21200000000007v152.15200000000002\" style=\"stroke: rgb(235, 240, 248); stroke-opacity: 1; stroke-width: 1px;\"/><path class=\"x2grid crisp\" transform=\"translate(497.95,0)\" d=\"M0,222.21200000000007v152.15200000000002\" style=\"stroke: rgb(235, 240, 248); stroke-opacity: 1; stroke-width: 1px;\"/><path class=\"x2grid crisp\" transform=\"translate(581.75,0)\" d=\"M0,222.21200000000007v152.15200000000002\" style=\"stroke: rgb(235, 240, 248); stroke-opacity: 1; stroke-width: 1px;\"/><path class=\"x2grid crisp\" transform=\"translate(665.56,0)\" d=\"M0,222.21200000000007v152.15200000000002\" style=\"stroke: rgb(235, 240, 248); stroke-opacity: 1; stroke-width: 1px;\"/></g><g class=\"y2\"><path class=\"y2grid crisp\" transform=\"translate(0,330.5520000000001)\" d=\"M51,0h639\" style=\"stroke: rgb(235, 240, 248); stroke-opacity: 1; stroke-width: 1px;\"/><path class=\"y2grid crisp\" transform=\"translate(0,227.44200000000006)\" d=\"M51,0h639\" style=\"stroke: rgb(235, 240, 248); stroke-opacity: 1; stroke-width: 1px;\"/></g></g><g class=\"zerolinelayer\"><path class=\"x2zl zl crisp\" transform=\"translate(78.93,0)\" d=\"M0,222.21200000000007v152.15200000000002\" style=\"stroke: rgb(235, 240, 248); stroke-opacity: 1; stroke-width: 2px;\"/><path class=\"y2zl zl crisp\" transform=\"translate(0,279.00200000000007)\" d=\"M51,0h639\" style=\"stroke: rgb(235, 240, 248); stroke-opacity: 1; stroke-width: 2px;\"/></g><path class=\"xlines-below\"/><path class=\"ylines-below\"/><g class=\"overlines-below\"/><g class=\"xaxislayer-below\"/><g class=\"yaxislayer-below\"/><g class=\"overaxes-below\"/><g class=\"plot\" transform=\"translate(51,222.21200000000007)\" clip-path=\"url(#clip61eeb6x2y2plot)\"><g class=\"scatterlayer mlayer\"><g class=\"trace scatter traceaebf76\" style=\"stroke-miterlimit: 2; opacity: 1;\"><g class=\"fills\"/><g class=\"errorbars\"/><g class=\"lines\"><path class=\"js-line\" d=\"M27.93,109.15L55.87,79.65L59.36,75.98L80.31,55.23L83.8,52.07L97.77,40.5L101.26,37.9L115.23,28.79L118.72,26.85L129.2,21.84L132.69,20.45L143.16,17.13L146.66,16.31L157.13,14.69L160.62,14.43L171.1,14.46L174.59,14.74L188.56,17.08L192.05,17.95L206.02,22.39L209.51,23.69L233.95,34.01L237.44,35.51L254.9,42.34L258.39,43.48L272.36,46.91L275.85,47.44L286.33,48.11L289.82,48.01L300.3,46.72L303.79,45.95L314.26,42.73L317.75,41.36L331.72,34.71L335.21,32.83L370.13,13.86L373.62,12.39L384.1,9.04L387.59,8.33L398.07,7.62L401.56,7.9L408.54,9.3L412.03,10.42L419.02,13.54L422.51,15.54L432.98,23.21L436.48,26.3L446.95,37.03L450.44,41.03L464.41,58.69L467.9,63.4L502.82,110.2L506.31,114.3L516.79,125.35L520.28,128.56L530.75,136.54L534.25,138.61L541.23,141.84L544.72,142.99L551.7,144.34L555.2,144.54L562.18,144.03L565.67,143.33L572.66,141.07L576.15,139.53L586.62,133.45L590.11,130.98L600.59,122.47L604.08,119.32L611.07,112.64\" style=\"vector-effect: none; fill: none; stroke: rgb(45, 146, 255); stroke-opacity: 1; stroke-width: 2px; opacity: 1;\"/></g><g class=\"points\"/><g class=\"text\"/></g></g></g><g class=\"overplot\"/><path class=\"xlines-above crisp\" d=\"M49.5,375.1140000000001H691.5M49.5,221.46200000000007H691.5\" style=\"fill: none; stroke-width: 1.5px; stroke: rgb(235, 240, 248); stroke-opacity: 1;\"/><path class=\"ylines-above crisp\" d=\"M50.25,222.21200000000007V374.3640000000001M690.75,222.21200000000007V374.3640000000001\" style=\"fill: none; stroke-width: 1.5px; stroke: rgb(235, 240, 248); stroke-opacity: 1;\"/><g class=\"overlines-above\"/><g class=\"xaxislayer-above\"><g class=\"x2tick\"><text text-anchor=\"middle\" x=\"0\" y=\"387.8640000000001\" transform=\"translate(78.93,0)\" style=\"font-family: 'Open Sans', verdana, arial, sans-serif; font-size: 10px; fill: rgb(42, 63, 95); fill-opacity: 1; white-space: pre; opacity: 1;\">Sunday</text></g><g class=\"x2tick\"><text text-anchor=\"middle\" x=\"0\" y=\"387.8640000000001\" style=\"font-family: 'Open Sans', verdana, arial, sans-serif; font-size: 10px; fill: rgb(42, 63, 95); fill-opacity: 1; white-space: pre; opacity: 1;\" transform=\"translate(162.74,0)\">Monday</text></g><g class=\"x2tick\"><text text-anchor=\"middle\" x=\"0\" y=\"387.8640000000001\" style=\"font-family: 'Open Sans', verdana, arial, sans-serif; font-size: 10px; fill: rgb(42, 63, 95); fill-opacity: 1; white-space: pre; opacity: 1;\" transform=\"translate(246.54,0)\">Tuesday</text></g><g class=\"x2tick\"><text text-anchor=\"middle\" x=\"0\" y=\"387.8640000000001\" style=\"font-family: 'Open Sans', verdana, arial, sans-serif; font-size: 10px; fill: rgb(42, 63, 95); fill-opacity: 1; white-space: pre; opacity: 1;\" transform=\"translate(330.34,0)\">Wednesday</text></g><g class=\"x2tick\"><text text-anchor=\"middle\" x=\"0\" y=\"387.8640000000001\" style=\"font-family: 'Open Sans', verdana, arial, sans-serif; font-size: 10px; fill: rgb(42, 63, 95); fill-opacity: 1; white-space: pre; opacity: 1;\" transform=\"translate(414.15,0)\">Thursday</text></g><g class=\"x2tick\"><text text-anchor=\"middle\" x=\"0\" y=\"387.8640000000001\" style=\"font-family: 'Open Sans', verdana, arial, sans-serif; font-size: 10px; fill: rgb(42, 63, 95); fill-opacity: 1; white-space: pre; opacity: 1;\" transform=\"translate(497.95,0)\">Friday</text></g><g class=\"x2tick\"><text text-anchor=\"middle\" x=\"0\" y=\"387.8640000000001\" style=\"font-family: 'Open Sans', verdana, arial, sans-serif; font-size: 10px; fill: rgb(42, 63, 95); fill-opacity: 1; white-space: pre; opacity: 1;\" transform=\"translate(581.75,0)\">Saturday</text></g><g class=\"x2tick\"><text text-anchor=\"middle\" x=\"0\" y=\"387.8640000000001\" style=\"font-family: 'Open Sans', verdana, arial, sans-serif; font-size: 10px; fill: rgb(42, 63, 95); fill-opacity: 1; white-space: pre; opacity: 1;\" transform=\"translate(665.56,0)\">Sunday</text></g></g><g class=\"yaxislayer-above\"><g class=\"y2tick\"><text text-anchor=\"end\" x=\"47.5\" y=\"3.5\" transform=\"translate(0,330.5520000000001)\" style=\"font-family: 'Open Sans', verdana, arial, sans-serif; font-size: 10px; fill: rgb(42, 63, 95); fill-opacity: 1; white-space: pre; opacity: 1;\">−0.1</text></g><g class=\"y2tick\"><text text-anchor=\"end\" x=\"47.5\" y=\"3.5\" style=\"font-family: 'Open Sans', verdana, arial, sans-serif; font-size: 10px; fill: rgb(42, 63, 95); fill-opacity: 1; white-space: pre; opacity: 1;\" transform=\"translate(0,279.00200000000007)\">0</text></g><g class=\"y2tick\"><text text-anchor=\"end\" x=\"47.5\" y=\"3.5\" style=\"font-family: 'Open Sans', verdana, arial, sans-serif; font-size: 10px; fill: rgb(42, 63, 95); fill-opacity: 1; white-space: pre; opacity: 1;\" transform=\"translate(0,227.44200000000006)\">0.1</text></g></g><g class=\"overaxes-above\"/></g><g class=\"subplot x3y3\"><g class=\"layer-subplot\"><g class=\"shapelayer\"/><g class=\"imagelayer\"/></g><g class=\"minor-gridlayer\"><g class=\"x3\"/><g class=\"y3\"/></g><g class=\"gridlayer\"><g class=\"x3\"><path class=\"x3grid crisp\" transform=\"translate(162.74,0)\" d=\"M0,434.42400000000004v152.15199999999996\" style=\"stroke: rgb(235, 240, 248); stroke-opacity: 1; stroke-width: 1px;\"/><path class=\"x3grid crisp\" transform=\"translate(246.54,0)\" d=\"M0,434.42400000000004v152.15199999999996\" style=\"stroke: rgb(235, 240, 248); stroke-opacity: 1; stroke-width: 1px;\"/><path class=\"x3grid crisp\" transform=\"translate(330.34,0)\" d=\"M0,434.42400000000004v152.15199999999996\" style=\"stroke: rgb(235, 240, 248); stroke-opacity: 1; stroke-width: 1px;\"/><path class=\"x3grid crisp\" transform=\"translate(414.15,0)\" d=\"M0,434.42400000000004v152.15199999999996\" style=\"stroke: rgb(235, 240, 248); stroke-opacity: 1; stroke-width: 1px;\"/><path class=\"x3grid crisp\" transform=\"translate(497.95,0)\" d=\"M0,434.42400000000004v152.15199999999996\" style=\"stroke: rgb(235, 240, 248); stroke-opacity: 1; stroke-width: 1px;\"/><path class=\"x3grid crisp\" transform=\"translate(581.75,0)\" d=\"M0,434.42400000000004v152.15199999999996\" style=\"stroke: rgb(235, 240, 248); stroke-opacity: 1; stroke-width: 1px;\"/><path class=\"x3grid crisp\" transform=\"translate(665.56,0)\" d=\"M0,434.42400000000004v152.15199999999996\" style=\"stroke: rgb(235, 240, 248); stroke-opacity: 1; stroke-width: 1px;\"/></g><g class=\"y3\"><path class=\"y3grid crisp\" transform=\"translate(0,579.3140000000001)\" d=\"M51,0h639\" style=\"stroke: rgb(235, 240, 248); stroke-opacity: 1; stroke-width: 1px;\"/><path class=\"y3grid crisp\" transform=\"translate(0,472.694)\" d=\"M51,0h639\" style=\"stroke: rgb(235, 240, 248); stroke-opacity: 1; stroke-width: 1px;\"/></g></g><g class=\"zerolinelayer\"><path class=\"x3zl zl crisp\" transform=\"translate(78.93,0)\" d=\"M0,434.42400000000004v152.15199999999996\" style=\"stroke: rgb(235, 240, 248); stroke-opacity: 1; stroke-width: 2px;\"/><path class=\"y3zl zl crisp\" transform=\"translate(0,526.004)\" d=\"M51,0h639\" style=\"stroke: rgb(235, 240, 248); stroke-opacity: 1; stroke-width: 2px;\"/></g><path class=\"xlines-below\"/><path class=\"ylines-below\"/><g class=\"overlines-below\"/><g class=\"xaxislayer-below\"/><g class=\"yaxislayer-below\"/><g class=\"overaxes-below\"/><g class=\"plot\" transform=\"translate(51,434.42400000000004)\" clip-path=\"url(#clip61eeb6x3y3plot)\"><g class=\"scatterlayer mlayer\"><g class=\"trace scatter tracee82cea\" style=\"stroke-miterlimit: 2; opacity: 1;\"><g class=\"fills\"/><g class=\"errorbars\"/><g class=\"lines\"><path class=\"js-line\" d=\"M27.93,66.32L45.39,42.63L48.89,38.36L59.36,26.92L62.85,23.62L73.33,15.48L76.82,13.39L83.8,10.17L87.3,9.05L94.28,7.77L97.77,7.61L104.75,8.2L108.25,8.93L118.72,12.7L122.21,14.44L132.69,20.84L136.18,23.32L150.15,34.4L153.64,37.38L195.54,73.26L199.03,75.96L216.49,88.43L219.98,90.72L237.44,101.14L240.93,103.03L261.89,113.21L265.38,114.7L282.84,121.2L286.33,122.28L300.3,125.74L303.79,126.37L317.75,127.79L321.25,127.86L335.21,126.96L338.7,126.44L352.67,123.31L356.16,122.3L377.11,114.99L380.61,113.69L401.56,106.7L405.05,105.81L415.52,103.9L419.02,103.56L429.49,103.5L432.98,103.83L443.46,105.9L446.95,106.94L457.43,111.04L460.92,112.69L474.89,120.39L478.38,122.49L502.82,136.75L506.31,138.44L516.79,142.43L520.28,143.34L527.26,144.42L530.75,144.54L537.74,143.92L541.23,143.15L548.21,140.66L551.7,138.93L558.69,134.52L562.18,131.85L572.66,122.1L576.15,118.31L586.62,105.62L590.11,101.01L607.57,76.39L611.07,71.34\" style=\"vector-effect: none; fill: none; stroke: rgb(45, 146, 255); stroke-opacity: 1; stroke-width: 2px; opacity: 1;\"/></g><g class=\"points\"/><g class=\"text\"/></g></g></g><g class=\"overplot\"/><path class=\"xlines-above crisp\" d=\"M49.5,587.326H691.5M49.5,433.67400000000004H691.5\" style=\"fill: none; stroke-width: 1.5px; stroke: rgb(235, 240, 248); stroke-opacity: 1;\"/><path class=\"ylines-above crisp\" d=\"M50.25,434.42400000000004V586.576M690.75,434.42400000000004V586.576\" style=\"fill: none; stroke-width: 1.5px; stroke: rgb(235, 240, 248); stroke-opacity: 1;\"/><g class=\"overlines-above\"/><g class=\"xaxislayer-above\"><g class=\"x3tick\"><text text-anchor=\"middle\" x=\"0\" y=\"600.076\" transform=\"translate(78.93,0)\" style=\"font-family: 'Open Sans', verdana, arial, sans-serif; font-size: 10px; fill: rgb(42, 63, 95); fill-opacity: 1; white-space: pre; opacity: 1;\">Sunday</text></g><g class=\"x3tick\"><text text-anchor=\"middle\" x=\"0\" y=\"600.076\" style=\"font-family: 'Open Sans', verdana, arial, sans-serif; font-size: 10px; fill: rgb(42, 63, 95); fill-opacity: 1; white-space: pre; opacity: 1;\" transform=\"translate(162.74,0)\">Monday</text></g><g class=\"x3tick\"><text text-anchor=\"middle\" x=\"0\" y=\"600.076\" style=\"font-family: 'Open Sans', verdana, arial, sans-serif; font-size: 10px; fill: rgb(42, 63, 95); fill-opacity: 1; white-space: pre; opacity: 1;\" transform=\"translate(246.54,0)\">Tuesday</text></g><g class=\"x3tick\"><text text-anchor=\"middle\" x=\"0\" y=\"600.076\" style=\"font-family: 'Open Sans', verdana, arial, sans-serif; font-size: 10px; fill: rgb(42, 63, 95); fill-opacity: 1; white-space: pre; opacity: 1;\" transform=\"translate(330.34,0)\">Wednesday</text></g><g class=\"x3tick\"><text text-anchor=\"middle\" x=\"0\" y=\"600.076\" style=\"font-family: 'Open Sans', verdana, arial, sans-serif; font-size: 10px; fill: rgb(42, 63, 95); fill-opacity: 1; white-space: pre; opacity: 1;\" transform=\"translate(414.15,0)\">Thursday</text></g><g class=\"x3tick\"><text text-anchor=\"middle\" x=\"0\" y=\"600.076\" style=\"font-family: 'Open Sans', verdana, arial, sans-serif; font-size: 10px; fill: rgb(42, 63, 95); fill-opacity: 1; white-space: pre; opacity: 1;\" transform=\"translate(497.95,0)\">Friday</text></g><g class=\"x3tick\"><text text-anchor=\"middle\" x=\"0\" y=\"600.076\" style=\"font-family: 'Open Sans', verdana, arial, sans-serif; font-size: 10px; fill: rgb(42, 63, 95); fill-opacity: 1; white-space: pre; opacity: 1;\" transform=\"translate(581.75,0)\">Saturday</text></g><g class=\"x3tick\"><text text-anchor=\"middle\" x=\"0\" y=\"600.076\" style=\"font-family: 'Open Sans', verdana, arial, sans-serif; font-size: 10px; fill: rgb(42, 63, 95); fill-opacity: 1; white-space: pre; opacity: 1;\" transform=\"translate(665.56,0)\">Sunday</text></g></g><g class=\"yaxislayer-above\"><g class=\"y3tick\"><text text-anchor=\"end\" x=\"47.5\" y=\"3.5\" transform=\"translate(0,579.3140000000001)\" style=\"font-family: 'Open Sans', verdana, arial, sans-serif; font-size: 10px; fill: rgb(42, 63, 95); fill-opacity: 1; white-space: pre; opacity: 1;\">−0.5</text></g><g class=\"y3tick\"><text text-anchor=\"end\" x=\"47.5\" y=\"3.5\" style=\"font-family: 'Open Sans', verdana, arial, sans-serif; font-size: 10px; fill: rgb(42, 63, 95); fill-opacity: 1; white-space: pre; opacity: 1;\" transform=\"translate(0,526.004)\">0</text></g><g class=\"y3tick\"><text text-anchor=\"end\" x=\"47.5\" y=\"3.5\" style=\"font-family: 'Open Sans', verdana, arial, sans-serif; font-size: 10px; fill: rgb(42, 63, 95); fill-opacity: 1; white-space: pre; opacity: 1;\" transform=\"translate(0,472.694)\">0.5</text></g></g><g class=\"overaxes-above\"/></g><g class=\"subplot x4y4\"><g class=\"layer-subplot\"><g class=\"shapelayer\"/><g class=\"imagelayer\"/></g><g class=\"minor-gridlayer\"><g class=\"x4\"/><g class=\"y4\"/></g><g class=\"gridlayer\"><g class=\"x4\"><path class=\"x4grid crisp\" transform=\"translate(162.74,0)\" d=\"M0,646.636v152.152\" style=\"stroke: rgb(235, 240, 248); stroke-opacity: 1; stroke-width: 1px;\"/><path class=\"x4grid crisp\" transform=\"translate(246.54,0)\" d=\"M0,646.636v152.152\" style=\"stroke: rgb(235, 240, 248); stroke-opacity: 1; stroke-width: 1px;\"/><path class=\"x4grid crisp\" transform=\"translate(330.34,0)\" d=\"M0,646.636v152.152\" style=\"stroke: rgb(235, 240, 248); stroke-opacity: 1; stroke-width: 1px;\"/><path class=\"x4grid crisp\" transform=\"translate(414.15,0)\" d=\"M0,646.636v152.152\" style=\"stroke: rgb(235, 240, 248); stroke-opacity: 1; stroke-width: 1px;\"/><path class=\"x4grid crisp\" transform=\"translate(497.95,0)\" d=\"M0,646.636v152.152\" style=\"stroke: rgb(235, 240, 248); stroke-opacity: 1; stroke-width: 1px;\"/><path class=\"x4grid crisp\" transform=\"translate(581.75,0)\" d=\"M0,646.636v152.152\" style=\"stroke: rgb(235, 240, 248); stroke-opacity: 1; stroke-width: 1px;\"/><path class=\"x4grid crisp\" transform=\"translate(665.56,0)\" d=\"M0,646.636v152.152\" style=\"stroke: rgb(235, 240, 248); stroke-opacity: 1; stroke-width: 1px;\"/></g><g class=\"y4\"><path class=\"y4grid crisp\" transform=\"translate(0,668.526)\" d=\"M51,0h639\" style=\"stroke: rgb(235, 240, 248); stroke-opacity: 1; stroke-width: 1px;\"/></g></g><g class=\"zerolinelayer\"><path class=\"x4zl zl crisp\" transform=\"translate(78.93,0)\" d=\"M0,646.636v152.152\" style=\"stroke: rgb(235, 240, 248); stroke-opacity: 1; stroke-width: 2px;\"/><path class=\"y4zl zl crisp\" transform=\"translate(0,736.076)\" d=\"M51,0h639\" style=\"stroke: rgb(235, 240, 248); stroke-opacity: 1; stroke-width: 2px;\"/></g><path class=\"xlines-below\"/><path class=\"ylines-below\"/><g class=\"overlines-below\"/><g class=\"xaxislayer-below\"/><g class=\"yaxislayer-below\"/><g class=\"overaxes-below\"/><g class=\"plot\" transform=\"translate(51,646.636)\" clip-path=\"url(#clip61eeb6x4y4plot)\"><g class=\"scatterlayer mlayer\"><g class=\"trace scatter traced3b285\" style=\"stroke-miterlimit: 2; opacity: 1;\"><g class=\"fills\"/><g class=\"errorbars\"/><g class=\"lines\"><path class=\"js-line\" d=\"M27.93,61.82L45.39,39.37L48.89,35.37L59.36,24.73L62.85,21.69L73.33,14.27L76.82,12.4L83.8,9.58L87.3,8.63L94.28,7.65L97.77,7.61L104.75,8.38L108.25,9.17L118.72,12.99L122.21,14.7L132.69,20.88L136.18,23.23L153.64,36.35L157.13,39.12L185.07,60.62L188.56,63.07L206.02,74.16L209.51,76.15L226.97,84.96L230.46,86.53L251.41,95L254.9,96.29L286.33,106.91L289.82,107.98L310.77,113.61L314.26,114.39L331.72,117.31L335.21,117.69L352.67,118.5L356.16,118.45L377.11,117.12L380.61,116.79L408.54,114.71L412.03,114.67L426,115.4L429.49,115.83L443.46,118.65L446.95,119.62L460.92,124.47L464.41,125.88L502.82,141.48L506.31,142.45L516.79,144.32L520.28,144.54L530.75,143.82L534.25,143.07L541.23,140.76L544.72,139.18L555.2,132.78L558.69,130.1L569.16,120.48L572.66,116.79L586.62,100.07L590.11,95.5L611.07,66.63\" style=\"vector-effect: none; fill: none; stroke: rgb(45, 146, 255); stroke-opacity: 1; stroke-width: 2px; opacity: 1;\"/></g><g class=\"points\"/><g class=\"text\"/></g></g></g><g class=\"overplot\"/><path class=\"xlines-above crisp\" d=\"M49.5,799.538H691.5M49.5,645.886H691.5\" style=\"fill: none; stroke-width: 1.5px; stroke: rgb(235, 240, 248); stroke-opacity: 1;\"/><path class=\"ylines-above crisp\" d=\"M50.25,646.636V798.788M690.75,646.636V798.788\" style=\"fill: none; stroke-width: 1.5px; stroke: rgb(235, 240, 248); stroke-opacity: 1;\"/><g class=\"overlines-above\"/><g class=\"xaxislayer-above\"><g class=\"x4tick\"><text text-anchor=\"middle\" x=\"0\" y=\"812.288\" transform=\"translate(78.93,0)\" style=\"font-family: 'Open Sans', verdana, arial, sans-serif; font-size: 10px; fill: rgb(42, 63, 95); fill-opacity: 1; white-space: pre; opacity: 1;\">Sunday</text></g><g class=\"x4tick\"><text text-anchor=\"middle\" x=\"0\" y=\"812.288\" style=\"font-family: 'Open Sans', verdana, arial, sans-serif; font-size: 10px; fill: rgb(42, 63, 95); fill-opacity: 1; white-space: pre; opacity: 1;\" transform=\"translate(162.74,0)\">Monday</text></g><g class=\"x4tick\"><text text-anchor=\"middle\" x=\"0\" y=\"812.288\" style=\"font-family: 'Open Sans', verdana, arial, sans-serif; font-size: 10px; fill: rgb(42, 63, 95); fill-opacity: 1; white-space: pre; opacity: 1;\" transform=\"translate(246.54,0)\">Tuesday</text></g><g class=\"x4tick\"><text text-anchor=\"middle\" x=\"0\" y=\"812.288\" style=\"font-family: 'Open Sans', verdana, arial, sans-serif; font-size: 10px; fill: rgb(42, 63, 95); fill-opacity: 1; white-space: pre; opacity: 1;\" transform=\"translate(330.34,0)\">Wednesday</text></g><g class=\"x4tick\"><text text-anchor=\"middle\" x=\"0\" y=\"812.288\" style=\"font-family: 'Open Sans', verdana, arial, sans-serif; font-size: 10px; fill: rgb(42, 63, 95); fill-opacity: 1; white-space: pre; opacity: 1;\" transform=\"translate(414.15,0)\">Thursday</text></g><g class=\"x4tick\"><text text-anchor=\"middle\" x=\"0\" y=\"812.288\" style=\"font-family: 'Open Sans', verdana, arial, sans-serif; font-size: 10px; fill: rgb(42, 63, 95); fill-opacity: 1; white-space: pre; opacity: 1;\" transform=\"translate(497.95,0)\">Friday</text></g><g class=\"x4tick\"><text text-anchor=\"middle\" x=\"0\" y=\"812.288\" style=\"font-family: 'Open Sans', verdana, arial, sans-serif; font-size: 10px; fill: rgb(42, 63, 95); fill-opacity: 1; white-space: pre; opacity: 1;\" transform=\"translate(581.75,0)\">Saturday</text></g><g class=\"x4tick\"><text text-anchor=\"middle\" x=\"0\" y=\"812.288\" style=\"font-family: 'Open Sans', verdana, arial, sans-serif; font-size: 10px; fill: rgb(42, 63, 95); fill-opacity: 1; white-space: pre; opacity: 1;\" transform=\"translate(665.56,0)\">Sunday</text></g></g><g class=\"yaxislayer-above\"><g class=\"y4tick\"><text text-anchor=\"end\" x=\"47.5\" y=\"3.5\" transform=\"translate(0,736.076)\" style=\"font-family: 'Open Sans', verdana, arial, sans-serif; font-size: 10px; fill: rgb(42, 63, 95); fill-opacity: 1; white-space: pre; opacity: 1;\">0</text></g><g class=\"y4tick\"><text text-anchor=\"end\" x=\"47.5\" y=\"3.5\" style=\"font-family: 'Open Sans', verdana, arial, sans-serif; font-size: 10px; fill: rgb(42, 63, 95); fill-opacity: 1; white-space: pre; opacity: 1;\" transform=\"translate(0,668.526)\">0.5</text></g></g><g class=\"overaxes-above\"/></g><g class=\"subplot x5y5\"><g class=\"layer-subplot\"><g class=\"shapelayer\"/><g class=\"imagelayer\"/></g><g class=\"minor-gridlayer\"><g class=\"x5\"/><g class=\"y5\"/></g><g class=\"gridlayer\"><g class=\"x5\"><path class=\"x5grid crisp\" transform=\"translate(162.74,0)\" d=\"M0,858.848v152.152\" style=\"stroke: rgb(235, 240, 248); stroke-opacity: 1; stroke-width: 1px;\"/><path class=\"x5grid crisp\" transform=\"translate(246.54,0)\" d=\"M0,858.848v152.152\" style=\"stroke: rgb(235, 240, 248); stroke-opacity: 1; stroke-width: 1px;\"/><path class=\"x5grid crisp\" transform=\"translate(330.34,0)\" d=\"M0,858.848v152.152\" style=\"stroke: rgb(235, 240, 248); stroke-opacity: 1; stroke-width: 1px;\"/><path class=\"x5grid crisp\" transform=\"translate(414.15,0)\" d=\"M0,858.848v152.152\" style=\"stroke: rgb(235, 240, 248); stroke-opacity: 1; stroke-width: 1px;\"/><path class=\"x5grid crisp\" transform=\"translate(497.95,0)\" d=\"M0,858.848v152.152\" style=\"stroke: rgb(235, 240, 248); stroke-opacity: 1; stroke-width: 1px;\"/><path class=\"x5grid crisp\" transform=\"translate(581.75,0)\" d=\"M0,858.848v152.152\" style=\"stroke: rgb(235, 240, 248); stroke-opacity: 1; stroke-width: 1px;\"/><path class=\"x5grid crisp\" transform=\"translate(665.56,0)\" d=\"M0,858.848v152.152\" style=\"stroke: rgb(235, 240, 248); stroke-opacity: 1; stroke-width: 1px;\"/></g><g class=\"y5\"><path class=\"y5grid crisp\" transform=\"translate(0,982.098)\" d=\"M51,0h639\" style=\"stroke: rgb(235, 240, 248); stroke-opacity: 1; stroke-width: 1px;\"/><path class=\"y5grid crisp\" transform=\"translate(0,948.328)\" d=\"M51,0h639\" style=\"stroke: rgb(235, 240, 248); stroke-opacity: 1; stroke-width: 1px;\"/><path class=\"y5grid crisp\" transform=\"translate(0,880.798)\" d=\"M51,0h639\" style=\"stroke: rgb(235, 240, 248); stroke-opacity: 1; stroke-width: 1px;\"/></g></g><g class=\"zerolinelayer\"><path class=\"x5zl zl crisp\" transform=\"translate(78.93,0)\" d=\"M0,858.848v152.152\" style=\"stroke: rgb(235, 240, 248); stroke-opacity: 1; stroke-width: 2px;\"/><path class=\"y5zl zl crisp\" transform=\"translate(0,914.568)\" d=\"M51,0h639\" style=\"stroke: rgb(235, 240, 248); stroke-opacity: 1; stroke-width: 2px;\"/></g><path class=\"xlines-below\"/><path class=\"ylines-below\"/><g class=\"overlines-below\"/><g class=\"xaxislayer-below\"/><g class=\"yaxislayer-below\"/><g class=\"overaxes-below\"/><g class=\"plot\" transform=\"translate(51,858.848)\" clip-path=\"url(#clip61eeb6x5y5plot)\"><g class=\"scatterlayer mlayer\"><g class=\"trace scatter tracefec7aa\" style=\"stroke-miterlimit: 2; opacity: 1;\"><g class=\"fills\"/><g class=\"errorbars\"/><g class=\"lines\"><path class=\"js-line\" d=\"M27.93,110.81L59.36,79.86L62.85,76.82L76.82,66.03L80.31,63.73L90.79,57.77L94.28,56.1L104.75,51.97L108.25,50.86L122.21,47.51L125.7,46.89L150.15,43.62L153.64,43.18L178.08,39.24L181.57,38.52L206.02,32.49L209.51,31.55L240.93,23.7L244.43,23L261.89,20.31L265.38,19.93L286.33,18.52L289.82,18.38L324.74,16.58L328.23,16.24L349.18,13.33L352.67,12.73L384.1,7.95L387.59,7.72L398.07,7.79L401.56,8.11L412.03,10.18L415.52,11.27L426,15.91L429.49,17.93L439.97,25.44L443.46,28.43L453.93,38.75L457.43,42.61L471.39,59.76L474.89,64.38L509.8,111.2L513.3,115.36L523.77,126.54L527.26,129.77L537.74,137.68L541.23,139.68L548.21,142.66L551.7,143.64L558.69,144.54L562.18,144.48L569.16,143.33L572.66,142.28L579.64,139.25L583.13,137.31L593.61,130.02L597.1,127.17L611.07,114.28\" style=\"vector-effect: none; fill: none; stroke: rgb(45, 146, 255); stroke-opacity: 1; stroke-width: 2px; opacity: 1;\"/></g><g class=\"points\"/><g class=\"text\"/></g></g></g><g class=\"overplot\"/><path class=\"xlines-above crisp\" d=\"M49.5,1011.75H691.5M49.5,858.098H691.5\" style=\"fill: none; stroke-width: 1.5px; stroke: rgb(235, 240, 248); stroke-opacity: 1;\"/><path class=\"ylines-above crisp\" d=\"M50.25,858.848V1011M690.75,858.848V1011\" style=\"fill: none; stroke-width: 1.5px; stroke: rgb(235, 240, 248); stroke-opacity: 1;\"/><g class=\"overlines-above\"/><g class=\"xaxislayer-above\"><g class=\"x5tick\"><text text-anchor=\"middle\" x=\"0\" y=\"1024.5\" transform=\"translate(78.93,0)\" style=\"font-family: 'Open Sans', verdana, arial, sans-serif; font-size: 10px; fill: rgb(42, 63, 95); fill-opacity: 1; white-space: pre; opacity: 1;\">Sunday</text></g><g class=\"x5tick\"><text text-anchor=\"middle\" x=\"0\" y=\"1024.5\" style=\"font-family: 'Open Sans', verdana, arial, sans-serif; font-size: 10px; fill: rgb(42, 63, 95); fill-opacity: 1; white-space: pre; opacity: 1;\" transform=\"translate(162.74,0)\">Monday</text></g><g class=\"x5tick\"><text text-anchor=\"middle\" x=\"0\" y=\"1024.5\" style=\"font-family: 'Open Sans', verdana, arial, sans-serif; font-size: 10px; fill: rgb(42, 63, 95); fill-opacity: 1; white-space: pre; opacity: 1;\" transform=\"translate(246.54,0)\">Tuesday</text></g><g class=\"x5tick\"><text text-anchor=\"middle\" x=\"0\" y=\"1024.5\" style=\"font-family: 'Open Sans', verdana, arial, sans-serif; font-size: 10px; fill: rgb(42, 63, 95); fill-opacity: 1; white-space: pre; opacity: 1;\" transform=\"translate(330.34,0)\">Wednesday</text></g><g class=\"x5tick\"><text text-anchor=\"middle\" x=\"0\" y=\"1024.5\" style=\"font-family: 'Open Sans', verdana, arial, sans-serif; font-size: 10px; fill: rgb(42, 63, 95); fill-opacity: 1; white-space: pre; opacity: 1;\" transform=\"translate(414.15,0)\">Thursday</text></g><g class=\"x5tick\"><text text-anchor=\"middle\" x=\"0\" y=\"1024.5\" style=\"font-family: 'Open Sans', verdana, arial, sans-serif; font-size: 10px; fill: rgb(42, 63, 95); fill-opacity: 1; white-space: pre; opacity: 1;\" transform=\"translate(497.95,0)\">Friday</text></g><g class=\"x5tick\"><text text-anchor=\"middle\" x=\"0\" y=\"1024.5\" style=\"font-family: 'Open Sans', verdana, arial, sans-serif; font-size: 10px; fill: rgb(42, 63, 95); fill-opacity: 1; white-space: pre; opacity: 1;\" transform=\"translate(581.75,0)\">Saturday</text></g><g class=\"x5tick\"><text text-anchor=\"middle\" x=\"0\" y=\"1024.5\" style=\"font-family: 'Open Sans', verdana, arial, sans-serif; font-size: 10px; fill: rgb(42, 63, 95); fill-opacity: 1; white-space: pre; opacity: 1;\" transform=\"translate(665.56,0)\">Sunday</text></g></g><g class=\"yaxislayer-above\"><g class=\"y5tick\"><text text-anchor=\"end\" x=\"47.5\" y=\"3.5\" transform=\"translate(0,982.098)\" style=\"font-family: 'Open Sans', verdana, arial, sans-serif; font-size: 10px; fill: rgb(42, 63, 95); fill-opacity: 1; white-space: pre; opacity: 1;\">−0.2</text></g><g class=\"y5tick\"><text text-anchor=\"end\" x=\"47.5\" y=\"3.5\" style=\"font-family: 'Open Sans', verdana, arial, sans-serif; font-size: 10px; fill: rgb(42, 63, 95); fill-opacity: 1; white-space: pre; opacity: 1;\" transform=\"translate(0,948.328)\">−0.1</text></g><g class=\"y5tick\"><text text-anchor=\"end\" x=\"47.5\" y=\"3.5\" style=\"font-family: 'Open Sans', verdana, arial, sans-serif; font-size: 10px; fill: rgb(42, 63, 95); fill-opacity: 1; white-space: pre; opacity: 1;\" transform=\"translate(0,914.568)\">0</text></g><g class=\"y5tick\"><text text-anchor=\"end\" x=\"47.5\" y=\"3.5\" style=\"font-family: 'Open Sans', verdana, arial, sans-serif; font-size: 10px; fill: rgb(42, 63, 95); fill-opacity: 1; white-space: pre; opacity: 1;\" transform=\"translate(0,880.798)\">0.1</text></g></g><g class=\"overaxes-above\"/></g></g><g class=\"polarlayer\"/><g class=\"smithlayer\"/><g class=\"ternarylayer\"/><g class=\"geolayer\"/><g class=\"funnelarealayer\"/><g class=\"pielayer\"/><g class=\"iciclelayer\"/><g class=\"treemaplayer\"/><g class=\"sunburstlayer\"/><g class=\"glimages\"/><defs id=\"topdefs-61eeb6\"><g class=\"clips\"/></defs><g class=\"layer-above\"><g class=\"imagelayer\"/><g class=\"shapelayer\"/></g><g class=\"infolayer\"><g class=\"g-gtitle\"/><g class=\"g-xtitle\"><text class=\"xtitle\" x=\"370.5\" y=\"200.321875\" text-anchor=\"middle\" style=\"font-family: 'Open Sans', verdana, arial, sans-serif; font-size: 12px; fill: rgb(42, 63, 95); opacity: 1; font-weight: normal; white-space: pre;\">Day of year</text></g><g class=\"g-x2title\"><text class=\"x2title\" x=\"370.5\" y=\"412.540625\" text-anchor=\"middle\" style=\"font-family: 'Open Sans', verdana, arial, sans-serif; font-size: 12px; fill: rgb(42, 63, 95); opacity: 1; font-weight: normal; white-space: pre;\">Day of week</text></g><g class=\"g-x3title\"><text class=\"x3title\" x=\"370.5\" y=\"624.74375\" text-anchor=\"middle\" style=\"font-family: 'Open Sans', verdana, arial, sans-serif; font-size: 12px; fill: rgb(42, 63, 95); opacity: 1; font-weight: normal; white-space: pre;\">Day of week</text></g><g class=\"g-x4title\"><text class=\"x4title\" x=\"370.5\" y=\"836.9625\" text-anchor=\"middle\" style=\"font-family: 'Open Sans', verdana, arial, sans-serif; font-size: 12px; fill: rgb(42, 63, 95); opacity: 1; font-weight: normal; white-space: pre;\">Day of week</text></g><g class=\"g-x5title\" transform=\"translate(0,-1.665625000000091)\"><text class=\"x5title\" x=\"370.5\" y=\"1049.165625\" text-anchor=\"middle\" style=\"font-family: 'Open Sans', verdana, arial, sans-serif; font-size: 12px; fill: rgb(42, 63, 95); opacity: 1; font-weight: normal; white-space: pre;\">Day of week</text></g><g class=\"g-ytitle\" transform=\"translate(11.7099609375,0)\"><text class=\"ytitle\" transform=\"rotate(-90,0.3031250000000014,86.07600000000001)\" x=\"0.3031250000000014\" y=\"86.07600000000001\" text-anchor=\"middle\" style=\"font-family: 'Open Sans', verdana, arial, sans-serif; font-size: 12px; fill: rgb(42, 63, 95); opacity: 1; font-weight: normal; white-space: pre;\">Seasonality: yearly</text></g><g class=\"g-y2title\" transform=\"translate(11.7041015625,0)\"><text class=\"y2title\" transform=\"rotate(-90,0.3031250000000014,298.28800000000007)\" x=\"0.3031250000000014\" y=\"298.28800000000007\" text-anchor=\"middle\" style=\"font-family: 'Open Sans', verdana, arial, sans-serif; font-size: 12px; fill: rgb(42, 63, 95); opacity: 1; font-weight: normal; white-space: pre;\">Seasonality: weekly_summer</text></g><g class=\"g-y3title\" transform=\"translate(11.697265625,0)\"><text class=\"y3title\" transform=\"rotate(-90,0.3031250000000014,510.5)\" x=\"0.3031250000000014\" y=\"510.5\" text-anchor=\"middle\" style=\"font-family: 'Open Sans', verdana, arial, sans-serif; font-size: 12px; fill: rgb(42, 63, 95); opacity: 1; font-weight: normal; white-space: pre;\">Seasonality: weekly_fall</text></g><g class=\"g-y4title\" transform=\"translate(3.5185546875,0)\"><text class=\"y4title\" transform=\"rotate(-90,8.490625000000001,722.712)\" x=\"8.490625000000001\" y=\"722.712\" text-anchor=\"middle\" style=\"font-family: 'Open Sans', verdana, arial, sans-serif; font-size: 12px; fill: rgb(42, 63, 95); opacity: 1; font-weight: normal; white-space: pre;\">Seasonality: weekly_winter</text></g><g class=\"g-y5title\" transform=\"translate(11.69921875,0)\"><text class=\"y5title\" transform=\"rotate(-90,0.3031250000000014,934.924)\" x=\"0.3031250000000014\" y=\"934.924\" text-anchor=\"middle\" style=\"font-family: 'Open Sans', verdana, arial, sans-serif; font-size: 12px; fill: rgb(42, 63, 95); opacity: 1; font-weight: normal; white-space: pre;\">Seasonality: weekly_spring</text></g></g></svg>"
      ]
     },
     "metadata": {},
     "output_type": "display_data"
    }
   ],
   "source": [
    "m.plot_parameters(components=\"seasonality\")"
   ]
  }
 ],
 "metadata": {
  "kernelspec": {
   "display_name": "Python 3",
   "language": "python",
   "name": "python3"
  },
  "language_info": {
   "codemirror_mode": {
    "name": "ipython",
    "version": 3
   },
   "file_extension": ".py",
   "mimetype": "text/x-python",
   "name": "python",
   "nbconvert_exporter": "python",
   "pygments_lexer": "ipython3",
   "version": "3.9.16"
  }
 },
 "nbformat": 4,
 "nbformat_minor": 0
}
