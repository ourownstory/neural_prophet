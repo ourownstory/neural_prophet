{
 "cells": [
  {
   "cell_type": "code",
   "execution_count": 1,
   "id": "bd356b90-c426-4fe0-9be5-00d43e1392f8",
   "metadata": {},
   "outputs": [],
   "source": [
    "import pandas as pd\n",
    "import neuralprophet"
   ]
  },
  {
   "cell_type": "code",
   "execution_count": null,
   "id": "093b8646-9c7f-4a8f-a9b6-d1ab87d9f49d",
   "metadata": {},
   "outputs": [],
   "source": [
    "df = pd.read_csv(\"../example_data/)"
   ]
  }
 ],
 "metadata": {
  "kernelspec": {
   "display_name": "np-dev",
   "language": "python",
   "name": "np-dev"
  },
  "language_info": {
   "codemirror_mode": {
    "name": "ipython",
    "version": 3
   },
   "file_extension": ".py",
   "mimetype": "text/x-python",
   "name": "python",
   "nbconvert_exporter": "python",
   "pygments_lexer": "ipython3",
   "version": "3.9.5"
  }
 },
 "nbformat": 4,
 "nbformat_minor": 5
}
