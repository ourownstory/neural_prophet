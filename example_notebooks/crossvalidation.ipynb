{
 "cells": [
  {
   "cell_type": "code",
   "execution_count": null,
   "metadata": {},
   "outputs": [],
   "source": []
  },
  {
   "cell_type": "code",
   "execution_count": 1,
   "metadata": {},
   "outputs": [],
   "source": [
    "if 'google.colab' in str(get_ipython()):\n",
    "    !pip install git+https://github.com/ourownstory/neural_prophet.git # may take a while\n",
    "    #!pip install neuralprophet # much faster, but may not have the latest upgrades/bugfixes\n",
    "    data_location = \"https://raw.githubusercontent.com/ourownstory/neural_prophet/master/\"\n",
    "else:\n",
    "    data_location = \"../\""
   ]
  },
  {
   "cell_type": "code",
   "execution_count": 2,
   "metadata": {},
   "outputs": [],
   "source": [
    "import pandas as pd\n",
    "from neuralprophet import NeuralProphet, set_log_level\n",
    "# set_log_level(\"ERROR\")"
   ]
  },
  {
   "cell_type": "code",
   "execution_count": 3,
   "metadata": {},
   "outputs": [],
   "source": [
    "df = pd.read_csv(data_location + \"example_data/air_passengers.csv\")"
   ]
  },
  {
   "cell_type": "code",
   "execution_count": 4,
   "metadata": {},
   "outputs": [
    {
     "name": "stderr",
     "output_type": "stream",
     "text": [
      "INFO - (NP.utils.set_auto_seasonalities) - Disabling weekly seasonality. Run NeuralProphet with weekly_seasonality=True to override this.\n",
      "INFO - (NP.utils.set_auto_seasonalities) - Disabling daily seasonality. Run NeuralProphet with daily_seasonality=True to override this.\n",
      "INFO - (NP.config.set_auto_batch_epoch) - Auto-set batch_size to 16\n",
      "INFO - (NP.config.set_auto_batch_epoch) - Auto-set epochs to 360\n"
     ]
    },
    {
     "data": {
      "application/vnd.jupyter.widget-view+json": {
       "model_id": "4d9212a8c5384a6ba2496729ed518a0e",
       "version_major": 2,
       "version_minor": 0
      },
      "text/plain": [
       "HBox(children=(HTML(value=''), FloatProgress(value=0.0, max=200.0), HTML(value='')))"
      ]
     },
     "metadata": {},
     "output_type": "display_data"
    },
    {
     "name": "stderr",
     "output_type": "stream",
     "text": [
      "INFO - (NP.forecaster._lr_range_test) - lr-range-test results: steep: 2.44E-02, min: 8.21E-01, chosen: 1.41E-01\n",
      "INFO - (NP.forecaster._lr_range_test) - learning rate range test found optimal lr: 1.41E-01\n",
      "Epoch[360/360]: 100%|██████████| 360/360 [00:02<00:00, 165.60it/s, SmoothL1Loss=0.000756, MAE=6.01, RegLoss=0]\n",
      "INFO - (NP.forecaster._evaluate) - Validation metrics:    SmoothL1Loss    MAE\n",
      "1         0.012 28.272\n",
      "INFO - (NP.utils.set_auto_seasonalities) - Disabling weekly seasonality. Run NeuralProphet with weekly_seasonality=True to override this.\n",
      "INFO - (NP.utils.set_auto_seasonalities) - Disabling daily seasonality. Run NeuralProphet with daily_seasonality=True to override this.\n",
      "INFO - (NP.config.set_auto_batch_epoch) - Auto-set batch_size to 16\n",
      "INFO - (NP.config.set_auto_batch_epoch) - Auto-set epochs to 336\n"
     ]
    },
    {
     "data": {
      "application/vnd.jupyter.widget-view+json": {
       "model_id": "0aae2a541c484473a3b2fa62b6545cef",
       "version_major": 2,
       "version_minor": 0
      },
      "text/plain": [
       "HBox(children=(HTML(value=''), FloatProgress(value=0.0, max=200.0), HTML(value='')))"
      ]
     },
     "metadata": {},
     "output_type": "display_data"
    },
    {
     "name": "stderr",
     "output_type": "stream",
     "text": [
      "INFO - (NP.forecaster._lr_range_test) - lr-range-test results: steep: 1.28E-02, min: 5.17E-01, chosen: 8.12E-02\n",
      "INFO - (NP.forecaster._lr_range_test) - learning rate range test found optimal lr: 8.12E-02\n",
      "Epoch[336/336]: 100%|██████████| 336/336 [00:02<00:00, 134.60it/s, SmoothL1Loss=0.000447, MAE=6.11, RegLoss=0]\n",
      "INFO - (NP.forecaster._evaluate) - Validation metrics:    SmoothL1Loss    MAE\n",
      "1         0.000  5.426\n",
      "INFO - (NP.utils.set_auto_seasonalities) - Disabling weekly seasonality. Run NeuralProphet with weekly_seasonality=True to override this.\n",
      "INFO - (NP.utils.set_auto_seasonalities) - Disabling daily seasonality. Run NeuralProphet with daily_seasonality=True to override this.\n",
      "INFO - (NP.config.set_auto_batch_epoch) - Auto-set batch_size to 16\n",
      "INFO - (NP.config.set_auto_batch_epoch) - Auto-set epochs to 317\n"
     ]
    },
    {
     "data": {
      "application/vnd.jupyter.widget-view+json": {
       "model_id": "e89a5b70ef9f44df9daed83f7608be9c",
       "version_major": 2,
       "version_minor": 0
      },
      "text/plain": [
       "HBox(children=(HTML(value=''), FloatProgress(value=0.0, max=200.0), HTML(value='')))"
      ]
     },
     "metadata": {},
     "output_type": "display_data"
    },
    {
     "name": "stderr",
     "output_type": "stream",
     "text": [
      "INFO - (NP.forecaster._lr_range_test) - lr-range-test results: steep: 1.28E-02, min: 9.88E-01, chosen: 1.07E-01\n",
      "INFO - (NP.forecaster._lr_range_test) - learning rate range test found optimal lr: 1.07E-01\n",
      "Epoch[317/317]: 100%|██████████| 317/317 [00:02<00:00, 125.55it/s, SmoothL1Loss=0.000266, MAE=5.59, RegLoss=0]\n",
      "INFO - (NP.forecaster._evaluate) - Validation metrics:    SmoothL1Loss    MAE\n",
      "1         0.005 24.557\n",
      "INFO - (NP.utils.set_auto_seasonalities) - Disabling weekly seasonality. Run NeuralProphet with weekly_seasonality=True to override this.\n",
      "INFO - (NP.utils.set_auto_seasonalities) - Disabling daily seasonality. Run NeuralProphet with daily_seasonality=True to override this.\n",
      "INFO - (NP.config.set_auto_batch_epoch) - Auto-set batch_size to 16\n",
      "INFO - (NP.config.set_auto_batch_epoch) - Auto-set epochs to 301\n"
     ]
    },
    {
     "data": {
      "application/vnd.jupyter.widget-view+json": {
       "model_id": "12ebeb5a3e9847b8b23c49b429780b97",
       "version_major": 2,
       "version_minor": 0
      },
      "text/plain": [
       "HBox(children=(HTML(value=''), FloatProgress(value=0.0, max=200.0), HTML(value='')))"
      ]
     },
     "metadata": {},
     "output_type": "display_data"
    },
    {
     "name": "stderr",
     "output_type": "stream",
     "text": [
      "INFO - (NP.forecaster._lr_range_test) - lr-range-test results: steep: 1.40E-02, min: 8.21E-01, chosen: 1.07E-01\n",
      "INFO - (NP.forecaster._lr_range_test) - learning rate range test found optimal lr: 1.07E-01\n",
      "Epoch[301/301]: 100%|██████████| 301/301 [00:02<00:00, 111.26it/s, SmoothL1Loss=0.000249, MAE=7.24, RegLoss=0]\n",
      "INFO - (NP.forecaster._evaluate) - Validation metrics:    SmoothL1Loss    MAE\n",
      "1         0.001 11.806\n",
      "INFO - (NP.utils.set_auto_seasonalities) - Disabling weekly seasonality. Run NeuralProphet with weekly_seasonality=True to override this.\n",
      "INFO - (NP.utils.set_auto_seasonalities) - Disabling daily seasonality. Run NeuralProphet with daily_seasonality=True to override this.\n",
      "INFO - (NP.config.set_auto_batch_epoch) - Auto-set batch_size to 17\n",
      "INFO - (NP.config.set_auto_batch_epoch) - Auto-set epochs to 288\n"
     ]
    },
    {
     "data": {
      "application/vnd.jupyter.widget-view+json": {
       "model_id": "47d51f3d1df548628b3f3ea799c25ec7",
       "version_major": 2,
       "version_minor": 0
      },
      "text/plain": [
       "HBox(children=(HTML(value=''), FloatProgress(value=0.0, max=200.0), HTML(value='')))"
      ]
     },
     "metadata": {},
     "output_type": "display_data"
    },
    {
     "name": "stderr",
     "output_type": "stream",
     "text": [
      "INFO - (NP.forecaster._lr_range_test) - lr-range-test results: steep: 4.66E-02, min: 6.22E-01, chosen: 1.70E-01\n",
      "INFO - (NP.forecaster._lr_range_test) - learning rate range test found optimal lr: 1.70E-01\n",
      "Epoch[288/288]: 100%|██████████| 288/288 [00:02<00:00, 110.09it/s, SmoothL1Loss=0.000175, MAE=6.6, RegLoss=0] \n",
      "INFO - (NP.forecaster._evaluate) - Validation metrics:    SmoothL1Loss    MAE\n",
      "1         0.002 29.614\n"
     ]
    },
    {
     "name": "stdout",
     "output_type": "stream",
     "text": [
      "[6.0101911183950065, 6.114388812672008, 5.594424822751214, 7.235396681160762, 6.601710062760573]\n",
      "[28.271963119506836, 5.4255547523498535, 24.557321548461914, 11.806401252746582, 29.61379051208496]\n",
      "6.311222299547913\n",
      "19.93500623703003\n"
     ]
    }
   ],
   "source": [
    "folds = NeuralProphet().crossvalidation_split_df(df, freq=\"MS\", k=5, fold_pct=0.1, fold_overlap_pct=0.0)\n",
    "train, val = [], []\n",
    "for df_train, df_val in folds:\n",
    "    m = NeuralProphet(\n",
    "        seasonality_mode=\"multiplicative\", \n",
    "#         learning_rate=0.1,\n",
    "    )\n",
    "    metrics_train = m.fit(df_train, freq=\"MS\")\n",
    "    metrics_val = m.test(df_val)\n",
    "    train.append(metrics_train[\"MAE\"].values[-1])\n",
    "    val.append(metrics_val[\"MAE\"].values[-1])\n",
    "#     future = m.make_future_dataframe(df_train, periods=len(df_val), n_historic_predictions=len(df_train))\n",
    "#     forecast = m.predict(future)\n",
    "#     fig = m.plot(forecast)\n",
    "print(train)\n",
    "print(val)\n",
    "print(sum(train)/len(train))\n",
    "print(sum(val)/len(val))"
   ]
  },
  {
   "cell_type": "code",
   "execution_count": 5,
   "metadata": {},
   "outputs": [
    {
     "name": "stderr",
     "output_type": "stream",
     "text": [
      "INFO - (NP.utils.set_auto_seasonalities) - Disabling weekly seasonality. Run NeuralProphet with weekly_seasonality=True to override this.\n",
      "INFO - (NP.utils.set_auto_seasonalities) - Disabling daily seasonality. Run NeuralProphet with daily_seasonality=True to override this.\n",
      "INFO - (NP.config.set_auto_batch_epoch) - Auto-set batch_size to 16\n",
      "INFO - (NP.config.set_auto_batch_epoch) - Auto-set epochs to 360\n"
     ]
    },
    {
     "data": {
      "application/vnd.jupyter.widget-view+json": {
       "model_id": "2471025c85c4414eaccc3e837fea1192",
       "version_major": 2,
       "version_minor": 0
      },
      "text/plain": [
       "HBox(children=(HTML(value=''), FloatProgress(value=0.0, max=200.0), HTML(value='')))"
      ]
     },
     "metadata": {},
     "output_type": "display_data"
    },
    {
     "name": "stderr",
     "output_type": "stream",
     "text": [
      "INFO - (NP.forecaster._lr_range_test) - lr-range-test results: steep: 4.66E-02, min: 1.19E+00, chosen: 2.25E-01\n",
      "INFO - (NP.forecaster._lr_range_test) - learning rate range test found optimal lr: 2.25E-01\n",
      "Epoch[360/360]: 100%|██████████| 360/360 [00:02<00:00, 159.44it/s, SmoothL1Loss=0.000752, MAE=5.99, RegLoss=0]\n",
      "INFO - (NP.forecaster._evaluate) - Validation metrics:    SmoothL1Loss    MAE\n",
      "1         0.012 28.198\n",
      "INFO - (NP.utils.set_auto_seasonalities) - Disabling weekly seasonality. Run NeuralProphet with weekly_seasonality=True to override this.\n",
      "INFO - (NP.utils.set_auto_seasonalities) - Disabling daily seasonality. Run NeuralProphet with daily_seasonality=True to override this.\n",
      "INFO - (NP.config.set_auto_batch_epoch) - Auto-set batch_size to 16\n",
      "INFO - (NP.config.set_auto_batch_epoch) - Auto-set epochs to 336\n"
     ]
    },
    {
     "data": {
      "application/vnd.jupyter.widget-view+json": {
       "model_id": "6e8e885181c347d3bf5f65711fbca0ed",
       "version_major": 2,
       "version_minor": 0
      },
      "text/plain": [
       "HBox(children=(HTML(value=''), FloatProgress(value=0.0, max=200.0), HTML(value='')))"
      ]
     },
     "metadata": {},
     "output_type": "display_data"
    },
    {
     "name": "stderr",
     "output_type": "stream",
     "text": [
      "INFO - (NP.forecaster._lr_range_test) - lr-range-test results: steep: 5.11E-02, min: 8.21E-01, chosen: 2.05E-01\n",
      "INFO - (NP.forecaster._lr_range_test) - learning rate range test found optimal lr: 2.05E-01\n",
      "Epoch[336/336]: 100%|██████████| 336/336 [00:02<00:00, 143.44it/s, SmoothL1Loss=0.000441, MAE=6.02, RegLoss=0]\n",
      "INFO - (NP.forecaster._evaluate) - Validation metrics:    SmoothL1Loss    MAE\n",
      "1         0.000  5.466\n",
      "INFO - (NP.utils.set_auto_seasonalities) - Disabling weekly seasonality. Run NeuralProphet with weekly_seasonality=True to override this.\n",
      "INFO - (NP.utils.set_auto_seasonalities) - Disabling daily seasonality. Run NeuralProphet with daily_seasonality=True to override this.\n",
      "INFO - (NP.config.set_auto_batch_epoch) - Auto-set batch_size to 16\n",
      "INFO - (NP.config.set_auto_batch_epoch) - Auto-set epochs to 317\n"
     ]
    },
    {
     "data": {
      "application/vnd.jupyter.widget-view+json": {
       "model_id": "b41d471b9aaf4315b0ab4c8ced95a6d4",
       "version_major": 2,
       "version_minor": 0
      },
      "text/plain": [
       "HBox(children=(HTML(value=''), FloatProgress(value=0.0, max=200.0), HTML(value='')))"
      ]
     },
     "metadata": {},
     "output_type": "display_data"
    },
    {
     "name": "stderr",
     "output_type": "stream",
     "text": [
      "INFO - (NP.forecaster._lr_range_test) - lr-range-test results: steep: 2.44E-02, min: 9.88E-01, chosen: 1.55E-01\n",
      "INFO - (NP.forecaster._lr_range_test) - learning rate range test found optimal lr: 1.55E-01\n",
      "Epoch[317/317]: 100%|██████████| 317/317 [00:02<00:00, 125.37it/s, SmoothL1Loss=0.000266, MAE=5.57, RegLoss=0]\n",
      "INFO - (NP.forecaster._evaluate) - Validation metrics:    SmoothL1Loss    MAE\n",
      "1         0.005 24.670\n",
      "INFO - (NP.utils.set_auto_seasonalities) - Disabling weekly seasonality. Run NeuralProphet with weekly_seasonality=True to override this.\n",
      "INFO - (NP.utils.set_auto_seasonalities) - Disabling daily seasonality. Run NeuralProphet with daily_seasonality=True to override this.\n",
      "INFO - (NP.config.set_auto_batch_epoch) - Auto-set batch_size to 16\n",
      "INFO - (NP.config.set_auto_batch_epoch) - Auto-set epochs to 301\n"
     ]
    },
    {
     "data": {
      "application/vnd.jupyter.widget-view+json": {
       "model_id": "f8792dc3ae684c04a918727e2a2ba73d",
       "version_major": 2,
       "version_minor": 0
      },
      "text/plain": [
       "HBox(children=(HTML(value=''), FloatProgress(value=0.0, max=200.0), HTML(value='')))"
      ]
     },
     "metadata": {},
     "output_type": "display_data"
    },
    {
     "name": "stderr",
     "output_type": "stream",
     "text": [
      "INFO - (NP.forecaster._lr_range_test) - lr-range-test results: steep: 6.15E-02, min: 4.30E-01, chosen: 1.55E-01\n",
      "INFO - (NP.forecaster._lr_range_test) - learning rate range test found optimal lr: 1.55E-01\n",
      "Epoch[301/301]: 100%|██████████| 301/301 [00:02<00:00, 104.52it/s, SmoothL1Loss=0.000249, MAE=7.29, RegLoss=0]\n",
      "INFO - (NP.forecaster._evaluate) - Validation metrics:    SmoothL1Loss    MAE\n",
      "1         0.001 11.532\n",
      "INFO - (NP.utils.set_auto_seasonalities) - Disabling weekly seasonality. Run NeuralProphet with weekly_seasonality=True to override this.\n",
      "INFO - (NP.utils.set_auto_seasonalities) - Disabling daily seasonality. Run NeuralProphet with daily_seasonality=True to override this.\n",
      "INFO - (NP.config.set_auto_batch_epoch) - Auto-set batch_size to 17\n",
      "INFO - (NP.config.set_auto_batch_epoch) - Auto-set epochs to 288\n"
     ]
    },
    {
     "data": {
      "application/vnd.jupyter.widget-view+json": {
       "model_id": "d7b307e8c14943faafe52e1f06ae3269",
       "version_major": 2,
       "version_minor": 0
      },
      "text/plain": [
       "HBox(children=(HTML(value=''), FloatProgress(value=0.0, max=200.0), HTML(value='')))"
      ]
     },
     "metadata": {},
     "output_type": "display_data"
    },
    {
     "name": "stderr",
     "output_type": "stream",
     "text": [
      "INFO - (NP.forecaster._lr_range_test) - lr-range-test results: steep: 3.53E-02, min: 1.08E+00, chosen: 1.87E-01\n",
      "INFO - (NP.forecaster._lr_range_test) - learning rate range test found optimal lr: 1.87E-01\n",
      "Epoch[288/288]: 100%|██████████| 288/288 [00:02<00:00, 106.98it/s, SmoothL1Loss=0.000175, MAE=6.61, RegLoss=0]\n",
      "INFO - (NP.forecaster._evaluate) - Validation metrics:    SmoothL1Loss    MAE\n",
      "1         0.002 29.720\n"
     ]
    },
    {
     "name": "stdout",
     "output_type": "stream",
     "text": [
      "[5.98787463677896, 6.017117933793501, 5.569710306092804, 7.293258338138975, 6.61451908991887]\n",
      "[28.198434829711914, 5.465634822845459, 24.670042037963867, 11.532272338867188, 29.720279693603516]\n",
      "6.296496060944622\n",
      "19.91733274459839\n"
     ]
    }
   ],
   "source": [
    "folds = NeuralProphet().crossvalidation_split_df(df, freq=\"MS\", k=5, fold_pct=0.1, fold_overlap_pct=0.0)\n",
    "train, val = [], []\n",
    "for df_train, df_val in folds:\n",
    "    m = NeuralProphet(\n",
    "        seasonality_mode=\"multiplicative\", \n",
    "#         learning_rate=0.1,\n",
    "    )\n",
    "    metrics_train = m.fit(df_train, freq=\"MS\")\n",
    "    metrics_val = m.test(df_val)\n",
    "    train.append(metrics_train[\"MAE\"].values[-1])\n",
    "    val.append(metrics_val[\"MAE\"].values[-1])\n",
    "#     future = m.make_future_dataframe(df_train, periods=len(df_val), n_historic_predictions=len(df_train))\n",
    "#     forecast = m.predict(future)\n",
    "#     fig = m.plot(forecast)\n",
    "print(train)\n",
    "print(val)\n",
    "print(sum(train)/len(train))\n",
    "print(sum(val)/len(val))"
   ]
  },
  {
   "cell_type": "code",
   "execution_count": 6,
   "metadata": {},
   "outputs": [],
   "source": [
    "# folds = NeuralProphet().crossvalidation_split_df(df, freq=\"MS\", k=5, fold_pct=0.1, fold_overlap_pct=0.0)\n",
    "# train, val = [], []\n",
    "# for df_train, df_val in folds:\n",
    "#     m = NeuralProphet(\n",
    "#         seasonality_mode=\"multiplicative\", \n",
    "# #         learning_rate=0.1,\n",
    "# #         normalize=\"minmax\",\n",
    "#     )\n",
    "#     metrics_train = m.fit(df_train, freq=\"MS\")\n",
    "#     metrics_val = m.test(df_val)\n",
    "#     train.append(metrics_train[\"MAE\"].values[-1])\n",
    "#     val.append(metrics_val[\"MAE\"].values[-1])\n",
    "#     future = m.make_future_dataframe(df_train, periods=len(df_val), n_historic_predictions=len(df_train))\n",
    "#     forecast = m.predict(future)\n",
    "#     fig = m.plot(forecast)\n",
    "#     fig.show()\n",
    "# print(train)\n",
    "# print(val)\n",
    "# print(sum(train)/len(train))\n",
    "# print(sum(val)/len(val))"
   ]
  },
  {
   "cell_type": "code",
   "execution_count": null,
   "metadata": {},
   "outputs": [],
   "source": []
  }
 ],
 "metadata": {
  "kernelspec": {
   "display_name": "v-np-dev",
   "language": "python",
   "name": "v-np-dev"
  },
  "language_info": {
   "codemirror_mode": {
    "name": "ipython",
    "version": 3
   },
   "file_extension": ".py",
   "mimetype": "text/x-python",
   "name": "python",
   "nbconvert_exporter": "python",
   "pygments_lexer": "ipython3",
   "version": "3.8.6"
  }
 },
 "nbformat": 4,
 "nbformat_minor": 4
}
