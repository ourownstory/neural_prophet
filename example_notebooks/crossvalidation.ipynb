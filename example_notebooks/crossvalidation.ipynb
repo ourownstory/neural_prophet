{
 "cells": [
  {
   "cell_type": "code",
   "execution_count": null,
   "metadata": {},
   "outputs": [],
   "source": []
  },
  {
   "cell_type": "code",
   "execution_count": null,
   "metadata": {},
   "outputs": [],
   "source": [
    "if 'google.colab' in str(get_ipython()):\n",
    "    !pip install git+https://github.com/ourownstory/neural_prophet.git # may take a while\n",
    "    #!pip install neuralprophet # much faster, but may not have the latest upgrades/bugfixes\n",
    "    data_location = \"https://raw.githubusercontent.com/ourownstory/neural_prophet/master/\"\n",
    "else:\n",
    "    data_location = \"../\""
   ]
  },
  {
   "cell_type": "code",
   "execution_count": 2,
   "metadata": {},
   "outputs": [],
   "source": [
    "import pandas as pd\n",
    "from neuralprophet import NeuralProphet, set_log_level\n",
    "set_log_level(\"ERROR\")"
   ]
  },
  {
   "cell_type": "code",
   "execution_count": 3,
   "metadata": {},
   "outputs": [],
   "source": [
    "df = pd.read_csv(data_location + \"example_data/air_passengers.csv\")"
   ]
  },
  {
   "cell_type": "code",
   "execution_count": 4,
   "metadata": {},
   "outputs": [
    {
     "data": {
      "application/vnd.jupyter.widget-view+json": {
       "model_id": "d1513d74d0334b0386463f69251bf1a3",
       "version_major": 2,
       "version_minor": 0
      },
      "text/plain": [
       "HBox(children=(HTML(value=''), FloatProgress(value=0.0, max=200.0), HTML(value='')))"
      ]
     },
     "metadata": {},
     "output_type": "display_data"
    },
    {
     "name": "stderr",
     "output_type": "stream",
     "text": [
      "                                                                                                             \r"
     ]
    },
    {
     "data": {
      "application/vnd.jupyter.widget-view+json": {
       "model_id": "879d146f6bab450f8424c6bf54677eb7",
       "version_major": 2,
       "version_minor": 0
      },
      "text/plain": [
       "HBox(children=(HTML(value=''), FloatProgress(value=0.0, max=200.0), HTML(value='')))"
      ]
     },
     "metadata": {},
     "output_type": "display_data"
    },
    {
     "name": "stderr",
     "output_type": "stream",
     "text": [
      "                                                                                                              \r"
     ]
    },
    {
     "data": {
      "application/vnd.jupyter.widget-view+json": {
       "model_id": "4f90bd723af943d595e6de748d0a6fd3",
       "version_major": 2,
       "version_minor": 0
      },
      "text/plain": [
       "HBox(children=(HTML(value=''), FloatProgress(value=0.0, max=200.0), HTML(value='')))"
      ]
     },
     "metadata": {},
     "output_type": "display_data"
    },
    {
     "name": "stderr",
     "output_type": "stream",
     "text": [
      "                                                                                                              \r"
     ]
    },
    {
     "data": {
      "application/vnd.jupyter.widget-view+json": {
       "model_id": "75d1613ed6a44fd5826e74da3a3c031f",
       "version_major": 2,
       "version_minor": 0
      },
      "text/plain": [
       "HBox(children=(HTML(value=''), FloatProgress(value=0.0, max=200.0), HTML(value='')))"
      ]
     },
     "metadata": {},
     "output_type": "display_data"
    },
    {
     "name": "stderr",
     "output_type": "stream",
     "text": [
      "                                                                                                              \r"
     ]
    },
    {
     "data": {
      "application/vnd.jupyter.widget-view+json": {
       "model_id": "1113ca7423634c93ab096f2b1944dad3",
       "version_major": 2,
       "version_minor": 0
      },
      "text/plain": [
       "HBox(children=(HTML(value=''), FloatProgress(value=0.0, max=200.0), HTML(value='')))"
      ]
     },
     "metadata": {},
     "output_type": "display_data"
    },
    {
     "name": "stderr",
     "output_type": "stream",
     "text": [
      "                                                                                                              \r"
     ]
    },
    {
     "name": "stdout",
     "output_type": "stream",
     "text": [
      "[5.944743259533031, 6.141288930719549, 5.578965056176279, 7.288911950999293, 6.63374401972844]\n",
      "[27.727863311767578, 5.569243431091309, 24.70100212097168, 11.478766441345215, 29.879167556762695]\n",
      "6.3175306434313185\n",
      "19.871208572387694\n"
     ]
    }
   ],
   "source": [
    "folds = NeuralProphet().crossvalidation_split_df(df, freq=\"MS\", k=5, fold_pct=0.1, fold_overlap_pct=0.0)\n",
    "train, val = [], []\n",
    "for df_train, df_val in folds:\n",
    "    m = NeuralProphet(\n",
    "        seasonality_mode=\"multiplicative\", \n",
    "    )\n",
    "    metrics_train = m.fit(df_train, freq=\"MS\")\n",
    "    metrics_val = m.test(df_val)\n",
    "    train.append(metrics_train[\"MAE\"].values[-1])\n",
    "    val.append(metrics_val[\"MAE\"].values[-1])\n",
    "#     future = m.make_future_dataframe(df_train, periods=len(df_val), n_historic_predictions=len(df_train))\n",
    "#     forecast = m.predict(future)\n",
    "#     fig = m.plot(forecast)\n",
    "\n",
    "print(train)\n",
    "print(val)\n",
    "\n",
    "print(sum(train)/len(train))\n",
    "print(sum(val)/len(val))"
   ]
  }
 ],
 "metadata": {
  "kernelspec": {
   "display_name": "v-np-dev",
   "language": "python",
   "name": "v-np-dev"
  },
  "language_info": {
   "codemirror_mode": {
    "name": "ipython",
    "version": 3
   },
   "file_extension": ".py",
   "mimetype": "text/x-python",
   "name": "python",
   "nbconvert_exporter": "python",
   "pygments_lexer": "ipython3",
   "version": "3.8.6"
  }
 },
 "nbformat": 4,
 "nbformat_minor": 4
}
